{
 "cells": [
  {
   "cell_type": "markdown",
   "metadata": {
    "slideshow": {
     "slide_type": "slide"
    }
   },
   "source": [
    "A *notebook* is an interactive environment where code fragments and rich text element are combined.     \n",
    "The notebook is made up of *cells* and these cells can be edited and evaluated,      \n",
    "either by clicking on the **Play** button in the Toolbar,     \n",
    "or by hitting **SHIFT + ENTER** keys."
   ]
  },
  {
   "cell_type": "markdown",
   "metadata": {
    "slideshow": {
     "slide_type": "slide"
    }
   },
   "source": [
    "# Cell types\n",
    "The two main cell types are **Markdown** (text) and **Code**. The type is selected using the dropdown in the Toolbar."
   ]
  },
  {
   "cell_type": "markdown",
   "metadata": {
    "slideshow": {
     "slide_type": "subslide"
    }
   },
   "source": [
    "## Markdown cells\n",
    "Markdown is a markup language with plain text formatting syntax, that can be converted into other formats.    \n",
    "The syntax is simple and allows the documentation of the operations carried out in the notebook."
   ]
  },
  {
   "cell_type": "markdown",
   "metadata": {
    "slideshow": {
     "slide_type": "subslide"
    }
   },
   "source": [
    "### Markdown synthax\n",
    "You can find guide for example at      \n",
    "https://guides.github.com/features/mastering-markdown/     \n",
    "https://github.com/adam-p/markdown-here/wiki/Markdown-Cheatsheet"
   ]
  },
  {
   "cell_type": "markdown",
   "metadata": {
    "slideshow": {
     "slide_type": "subslide"
    }
   },
   "source": [
    "## Code cells\n",
    "They simply stores code fragments that can be evaluated individually. To the left of the code cells, you will see a text `In []:`.  \n",
    "Once the cell code has been executed, a number will appear inside the square brackets (e.g., `In [2]:`) and the results of the evaluation are shown below the cell, with the text `Out [2]:` to its left.     \n",
    "**Example:**"
   ]
  },
  {
   "cell_type": "code",
   "execution_count": 1,
   "metadata": {
    "slideshow": {
     "slide_type": "fragment"
    }
   },
   "outputs": [
    {
     "data": {
      "text/plain": [
       "2.3456"
      ]
     },
     "execution_count": 1,
     "metadata": {},
     "output_type": "execute_result"
    }
   ],
   "source": [
    "a = 2.3456"
   ]
  },
  {
   "cell_type": "markdown",
   "metadata": {
    "slideshow": {
     "slide_type": "slide"
    }
   },
   "source": [
    "# Menu and toolbar\n",
    "We present some useful features provided in the jupyter interface.\n",
    "## Operations on the cells\n",
    "The toolbar allows you to save the notebook, add a new cell, move it up or down, copy it, ... It is possible to undo the operations so one can play safely. Most of these operations are also available within the menu under the *Edit* tab. "
   ]
  },
  {
   "cell_type": "markdown",
   "metadata": {
    "slideshow": {
     "slide_type": "subslide"
    }
   },
   "source": [
    "## Selection of the language kernel\n",
    "A dropdown menu provides the list of the installed kernels.    \n",
    "If you want to use notebooks to work not only with Julia, a list of available kernels is available at https://github.com/jupyter/jupyter/wiki/Jupyter-kernels."
   ]
  },
  {
   "cell_type": "markdown",
   "metadata": {
    "slideshow": {
     "slide_type": "subslide"
    }
   },
   "source": [
    "## Download as ...\n",
    "Once you are finished with your notebook, you may want convert it into another format: .jl (julia), .html, markdown, LaTeX...    \n",
    "Hence if the notebook describes properly all the data processing, it is already close to a publicable document that you can export in LaTeX for example.\n",
    "\n",
    "<img src=\"./Images/notebook_download_as.png\" width=\"250px\">\n",
    "\n",
    "The notebook can be seen as a sandbox where you prepare your final script step-by-step, then you export it to julia format and run it in production.\n",
    "\n",
    "If you export the present notebook to *.jl* format, you will end up with a file containing only the code cells, in this case \n",
    "```julia\n",
    "a = 2.3456\n",
    "```"
   ]
  },
  {
   "cell_type": "markdown",
   "metadata": {
    "slideshow": {
     "slide_type": "subslide"
    }
   },
   "source": [
    "# Generating slides\n",
    "Creating a presentation from a notebook is straitforward: \n",
    "1. In the *View* tab, enable *Slideshow* in the *Cell toolbar*\n",
    "<img src=\"./Images/jupyter_slideshow.png\" width=\"250px\">\n",
    "2. For each cell, decide the type of slide in the presentation: slide, sub-slide, fragment, ... \n",
    "<img src=\"./Images/jupyter_slideshow2.png\" width=\"250px\">\n",
    "3. In bash, run \n",
    "```bash\n",
    "jupyter nbconvert your_slides.ipynb --to slides --post serve\n",
    "```\n",
    "where your_slides.ipynb should be replaced by the notebook file name. "
   ]
  },
  {
   "cell_type": "markdown",
   "metadata": {
    "slideshow": {
     "slide_type": "skip"
    }
   },
   "source": [
    "The resulting presentation is available by clicking [here](./00_notebooks_basics.html).    \n",
    "Another way to share and view the presentation is as follows:\n",
    "1. Copy the github link into the form in https://nbviewer.jupyter.org/    \n",
    "(for example, https://github.com/gher-ulg/Diva-Workshops/blob/master/notebooks/01-notebooks-basics.ipynb)\n",
    "and click on the *Go* button.\n",
    "2. Once you're in nbviewer, click on the *View as slides* icon.\n",
    "<img src=\"./Images/jupyter_slideshow3.png\" width=\"300px\">\n",
    "3. Copy the URL if you want to share the presentation:     \n",
    "https://nbviewer.jupyter.org/format/slides/github/gher-ulg/Diva-Workshops/blob/master/notebooks/01-notebooks-basics.ipynb#"
   ]
  },
  {
   "cell_type": "code",
   "execution_count": null,
   "metadata": {
    "collapsed": true
   },
   "outputs": [],
   "source": []
  }
 ],
 "metadata": {
  "celltoolbar": "Slideshow",
  "kernelspec": {
   "display_name": "Julia 0.6.2",
   "language": "julia",
   "name": "julia-0.6"
  },
  "language_info": {
   "file_extension": ".jl",
   "mimetype": "application/julia",
   "name": "julia",
   "version": "0.6.2"
  }
 },
 "nbformat": 4,
 "nbformat_minor": 2
}
