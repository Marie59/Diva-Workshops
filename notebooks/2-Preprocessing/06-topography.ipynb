{
 "cells": [
  {
   "cell_type": "markdown",
   "metadata": {},
   "source": [
    "# Reading and editing a topography\n",
    "A topograph/bathymetry is needed to create the domain of interpolation (land-sea mask). The topography/bathymetry is usually extracted from a netCDF file.     \n",
    "Adapted topographies:\n",
    "* General Bathymetric Chart of the Oceans ([GEBCO](https://www.gebco.net/))\n",
    "* [EMODnet Bathymetry](http://www.emodnet-bathymetry.eu)\n",
    "* Other topographies can be used as long as they define the netCDF variables `lon`, `lat` and `bat` (positive above sea-level and negative below, in `DIVAnd` however, the convention is that `z` is positive in sea water).\n",
    "\n",
    "This notebook illustrates how the land-sea mask can be modified, for example to exclude a lake."
   ]
  },
  {
   "cell_type": "markdown",
   "metadata": {},
   "source": [
    "\n",
    "![mask](./Images/2020-01-12-more-prime-images-1.png)\n",
    "\n",
    "This 7500 digits long number in binary is actually a prime number ([Gilles Esposito-Farèse](http://www.gef.free.fr/oulipo34.html#date060120))."
   ]
  },
  {
   "cell_type": "code",
   "execution_count": 1,
   "metadata": {},
   "outputs": [],
   "source": [
    "using DIVAnd\n",
    "using PyPlot\n",
    "using Dates\n",
    "using Statistics"
   ]
  },
  {
   "cell_type": "markdown",
   "metadata": {},
   "source": [
    "The full EMODnet Bathymetry is a quite big file (~1GB) that can be obtained from the bathymetry portal: http://portal.emodnet-bathymetry.eu/?menu=19. In the present notebook we will work with the GEBCO bathymetry with a resolution that has been decreased.\n",
    "\n",
    "Note that an extremely fine bathymetry is not necessary when working on large domains."
   ]
  },
  {
   "cell_type": "markdown",
   "metadata": {},
   "source": [
    "## Data download and domain selection\n",
    "We create a domain encompassing the north of Corsica."
   ]
  },
  {
   "cell_type": "code",
   "execution_count": 2,
   "metadata": {},
   "outputs": [
    {
     "name": "stderr",
     "output_type": "stream",
     "text": [
      "┌ Info: Bathymetry file already downloaded\n",
      "└ @ Main In[2]:15\n"
     ]
    }
   ],
   "source": [
    "dx = dy = 0.125\n",
    "lonr = 2.5:dx:12.\n",
    "latr = 42.3:dy:44.6\n",
    "\n",
    "# https://dox.ulg.ac.be/index.php/s/RSwm4HPHImdZoQP/download  gebco_30sec_4.nc\n",
    "# https://dox.ulg.ac.be/index.php/s/wS6Y8P8NhIF60eG/download  gebco_30sec_8.nc\n",
    "# https://dox.ulg.ac.be/index.php/s/U0pqyXhcQrXjEUX/download  gebco_30sec_16.nc\n",
    "# https://dox.ulg.ac.be/index.php/s/pujUAyo9kTPO8oF/download  EMODNET Bathymetry\n",
    "\n",
    "bathname = \"../data/gebco_30sec_8.nc\"\n",
    "\n",
    "if !isfile(bathname)\n",
    "    @info(\"Download bathymetry\")\n",
    "    download(\"https://dox.ulg.ac.be/index.php/s/wS6Y8P8NhIF60eG/download\",bathname)\n",
    "else\n",
    "    @info(\"Bathymetry file already downloaded\")\n",
    "end\n",
    "\n",
    "bathisglobal = true;"
   ]
  },
  {
   "cell_type": "markdown",
   "metadata": {},
   "source": [
    "We have two main tools to load the bathymetry:\n",
    "1. `DIVAnd.extract_bath` loads the bathymetry at the resolution defined in the netCDF file while \n",
    "2. `DIVAnd.load_bath` reduces the resolution to match the resolution of the analysis."
   ]
  },
  {
   "cell_type": "markdown",
   "metadata": {},
   "source": [
    "### Extract bathymetry"
   ]
  },
  {
   "cell_type": "code",
   "execution_count": 3,
   "metadata": {},
   "outputs": [
    {
     "name": "stdout",
     "output_type": "stream",
     "text": [
      "search: \u001b[0m\u001b[1me\u001b[22m\u001b[0m\u001b[1mx\u001b[22m\u001b[0m\u001b[1mt\u001b[22m\u001b[0m\u001b[1mr\u001b[22m\u001b[0m\u001b[1ma\u001b[22m\u001b[0m\u001b[1mc\u001b[22m\u001b[0m\u001b[1mt\u001b[22m\u001b[0m\u001b[1m_\u001b[22m\u001b[0m\u001b[1mb\u001b[22m\u001b[0m\u001b[1ma\u001b[22m\u001b[0m\u001b[1mt\u001b[22m\u001b[0m\u001b[1mh\u001b[22m\n",
      "\n"
     ]
    },
    {
     "data": {
      "text/latex": [
       "\\begin{verbatim}\n",
       "bx,by,b = DIVAnd.extract_bath(bath_name,isglobal,xi,yi)\n",
       "\\end{verbatim}\n",
       "Extract the bathymetry from the NetCDF file \\texttt{bathname}. The parameter \\texttt{isglobal} is true if the NetCDF file covers the whole globe and thus the last longitude point can be considered to be right next to the first longitude point. \\texttt{xi} and \\texttt{yi} are vectors defining the bounding box of the data. No interpolation is performed.\n",
       "\n",
       "\\textbf{Convention:} b is positive in the water and negative in the air.\n",
       "\n",
       "The NetCDF file is expected to have the one dimensional variables \\texttt{lon} and \\texttt{lat} with the longitude (degrees East) and latitude (degrees North) and the two dimentional array \\texttt{bat} with the digital terrain model (negative in water and positive above water). The order of the dimension should follow be: longitude and then latitude in \\href{https://en.wikipedia.org/wiki/Row-_and_column-major_order}{Column-major ordering} (or latitude and then longitude if the tool \\texttt{ncdump} is used, which is based on Row-major ordering).\n",
       "\n",
       "Example of the output of \\texttt{ncdump -h}:\n",
       "\n",
       "\\begin{verbatim}\n",
       "netcdf gebco_30sec_8 {\n",
       "dimensions:\n",
       "\tlat = 2702 ;\n",
       "\tlon = 5400 ;\n",
       "variables:\n",
       "\tdouble lat(lat) ;\n",
       "\t\tlat:long_name = \"Latitude\" ;\n",
       "\t\tlat:standard_name = \"latitude\" ;\n",
       "\t\tlat:units = \"degrees_north\" ;\n",
       "\tdouble lon(lon) ;\n",
       "\t\tlon:long_name = \"Longitude\" ;\n",
       "\t\tlon:standard_name = \"longitude\" ;\n",
       "\t\tlon:units = \"degrees_east\" ;\n",
       "\tfloat bat(lat, lon) ;\n",
       "\t\tbat:long_name = \"elevation above sea level\" ;\n",
       "\t\tbat:standard_name = \"height\" ;\n",
       "\t\tbat:units = \"meters\" ;\n",
       "\n",
       "// global attributes:\n",
       "\t\t:title = \"GEBCO\" ;\n",
       "}\n",
       "\\end{verbatim}\n"
      ],
      "text/markdown": [
       "```\n",
       "bx,by,b = DIVAnd.extract_bath(bath_name,isglobal,xi,yi)\n",
       "```\n",
       "\n",
       "Extract the bathymetry from the NetCDF file `bathname`. The parameter `isglobal` is true if the NetCDF file covers the whole globe and thus the last longitude point can be considered to be right next to the first longitude point. `xi` and `yi` are vectors defining the bounding box of the data. No interpolation is performed.\n",
       "\n",
       "**Convention:** b is positive in the water and negative in the air.\n",
       "\n",
       "The NetCDF file is expected to have the one dimensional variables `lon` and `lat` with the longitude (degrees East) and latitude (degrees North) and the two dimentional array `bat` with the digital terrain model (negative in water and positive above water). The order of the dimension should follow be: longitude and then latitude in [Column-major ordering](https://en.wikipedia.org/wiki/Row-_and_column-major_order) (or latitude and then longitude if the tool `ncdump` is used, which is based on Row-major ordering).\n",
       "\n",
       "Example of the output of `ncdump -h`:\n",
       "\n",
       "```\n",
       "netcdf gebco_30sec_8 {\n",
       "dimensions:\n",
       "\tlat = 2702 ;\n",
       "\tlon = 5400 ;\n",
       "variables:\n",
       "\tdouble lat(lat) ;\n",
       "\t\tlat:long_name = \"Latitude\" ;\n",
       "\t\tlat:standard_name = \"latitude\" ;\n",
       "\t\tlat:units = \"degrees_north\" ;\n",
       "\tdouble lon(lon) ;\n",
       "\t\tlon:long_name = \"Longitude\" ;\n",
       "\t\tlon:standard_name = \"longitude\" ;\n",
       "\t\tlon:units = \"degrees_east\" ;\n",
       "\tfloat bat(lat, lon) ;\n",
       "\t\tbat:long_name = \"elevation above sea level\" ;\n",
       "\t\tbat:standard_name = \"height\" ;\n",
       "\t\tbat:units = \"meters\" ;\n",
       "\n",
       "// global attributes:\n",
       "\t\t:title = \"GEBCO\" ;\n",
       "}\n",
       "```\n"
      ],
      "text/plain": [
       "\u001b[36m  bx,by,b = DIVAnd.extract_bath(bath_name,isglobal,xi,yi)\u001b[39m\n",
       "\n",
       "  Extract the bathymetry from the NetCDF file \u001b[36mbathname\u001b[39m. The parameter \u001b[36misglobal\u001b[39m\n",
       "  is true if the NetCDF file covers the whole globe and thus the last\n",
       "  longitude point can be considered to be right next to the first longitude\n",
       "  point. \u001b[36mxi\u001b[39m and \u001b[36myi\u001b[39m are vectors defining the bounding box of the data. No\n",
       "  interpolation is performed.\n",
       "\n",
       "  \u001b[1mConvention:\u001b[22m b is positive in the water and negative in the air.\n",
       "\n",
       "  The NetCDF file is expected to have the one dimensional variables \u001b[36mlon\u001b[39m and\n",
       "  \u001b[36mlat\u001b[39m with the longitude (degrees East) and latitude (degrees North) and the\n",
       "  two dimentional array \u001b[36mbat\u001b[39m with the digital terrain model (negative in water\n",
       "  and positive above water). The order of the dimension should follow be:\n",
       "  longitude and then latitude in Column-major ordering\n",
       "  (https://en.wikipedia.org/wiki/Row-_and_column-major_order) (or latitude and\n",
       "  then longitude if the tool \u001b[36mncdump\u001b[39m is used, which is based on Row-major\n",
       "  ordering).\n",
       "\n",
       "  Example of the output of \u001b[36mncdump -h\u001b[39m:\n",
       "\n",
       "\u001b[36m  netcdf gebco_30sec_8 {\u001b[39m\n",
       "\u001b[36m  dimensions:\u001b[39m\n",
       "\u001b[36m  \tlat = 2702 ;\u001b[39m\n",
       "\u001b[36m  \tlon = 5400 ;\u001b[39m\n",
       "\u001b[36m  variables:\u001b[39m\n",
       "\u001b[36m  \tdouble lat(lat) ;\u001b[39m\n",
       "\u001b[36m  \t\tlat:long_name = \"Latitude\" ;\u001b[39m\n",
       "\u001b[36m  \t\tlat:standard_name = \"latitude\" ;\u001b[39m\n",
       "\u001b[36m  \t\tlat:units = \"degrees_north\" ;\u001b[39m\n",
       "\u001b[36m  \tdouble lon(lon) ;\u001b[39m\n",
       "\u001b[36m  \t\tlon:long_name = \"Longitude\" ;\u001b[39m\n",
       "\u001b[36m  \t\tlon:standard_name = \"longitude\" ;\u001b[39m\n",
       "\u001b[36m  \t\tlon:units = \"degrees_east\" ;\u001b[39m\n",
       "\u001b[36m  \tfloat bat(lat, lon) ;\u001b[39m\n",
       "\u001b[36m  \t\tbat:long_name = \"elevation above sea level\" ;\u001b[39m\n",
       "\u001b[36m  \t\tbat:standard_name = \"height\" ;\u001b[39m\n",
       "\u001b[36m  \t\tbat:units = \"meters\" ;\u001b[39m\n",
       "\u001b[36m  \u001b[39m\n",
       "\u001b[36m  // global attributes:\u001b[39m\n",
       "\u001b[36m  \t\t:title = \"GEBCO\" ;\u001b[39m\n",
       "\u001b[36m  }\u001b[39m"
      ]
     },
     "execution_count": 3,
     "metadata": {},
     "output_type": "execute_result"
    }
   ],
   "source": [
    "?extract_bath"
   ]
  },
  {
   "cell_type": "code",
   "execution_count": 4,
   "metadata": {},
   "outputs": [
    {
     "name": "stdout",
     "output_type": "stream",
     "text": [
      "size(b) = (75, 21)\n"
     ]
    }
   ],
   "source": [
    "bx,by,b = extract_bath(bathname,true,lonr,latr)\n",
    "@show size(b);"
   ]
  },
  {
   "cell_type": "code",
   "execution_count": 5,
   "metadata": {},
   "outputs": [
    {
     "data": {
      "image/png": "[encoded data removed]",
      "text/plain": [
       "Figure(PyObject <Figure size 640x480 with 2 Axes>)"
      ]
     },
     "metadata": {},
     "output_type": "display_data"
    }
   ],
   "source": [
    "pcolor(bx, by, b'); \n",
    "colorbar(orientation=\"horizontal\")\n",
    "ax = gca()\n",
    "ax.set_aspect(1/cos(mean([ylim()...]) * pi/180))"
   ]
  },
  {
   "cell_type": "markdown",
   "metadata": {},
   "source": [
    "### Load bathymetry\n",
    "With a change of its original resolution"
   ]
  },
  {
   "cell_type": "code",
   "execution_count": 6,
   "metadata": {},
   "outputs": [
    {
     "name": "stdout",
     "output_type": "stream",
     "text": [
      "search: \u001b[0m\u001b[1ml\u001b[22m\u001b[0m\u001b[1mo\u001b[22m\u001b[0m\u001b[1ma\u001b[22m\u001b[0m\u001b[1md\u001b[22m\u001b[0m\u001b[1m_\u001b[22m\u001b[0m\u001b[1mb\u001b[22m\u001b[0m\u001b[1ma\u001b[22m\u001b[0m\u001b[1mt\u001b[22m\u001b[0m\u001b[1mh\u001b[22m\n",
      "\n"
     ]
    },
    {
     "data": {
      "text/latex": [
       "\\begin{verbatim}\n",
       "xi,yi,bath = DIVAnd.load_bath(bath_name,isglobal,xi,yi)\n",
       "\\end{verbatim}\n",
       "Load the bathymetry from the netCDF file \\texttt{bathname}. The parameter \\texttt{isglobal} is true if the NetCDF file covers the whole globe and thus the last longitude point can be considered to be right next to the first longitude point. \\texttt{xi} and \\texttt{yi} are vectors containing the longitude and latitude grid onto which the bathymetry should be interpolated.\n",
       "\n"
      ],
      "text/markdown": [
       "```\n",
       "xi,yi,bath = DIVAnd.load_bath(bath_name,isglobal,xi,yi)\n",
       "```\n",
       "\n",
       "Load the bathymetry from the netCDF file `bathname`. The parameter `isglobal` is true if the NetCDF file covers the whole globe and thus the last longitude point can be considered to be right next to the first longitude point. `xi` and `yi` are vectors containing the longitude and latitude grid onto which the bathymetry should be interpolated.\n"
      ],
      "text/plain": [
       "\u001b[36m  xi,yi,bath = DIVAnd.load_bath(bath_name,isglobal,xi,yi)\u001b[39m\n",
       "\n",
       "  Load the bathymetry from the netCDF file \u001b[36mbathname\u001b[39m. The parameter \u001b[36misglobal\u001b[39m is\n",
       "  true if the NetCDF file covers the whole globe and thus the last longitude\n",
       "  point can be considered to be right next to the first longitude point. \u001b[36mxi\u001b[39m\n",
       "  and \u001b[36myi\u001b[39m are vectors containing the longitude and latitude grid onto which the\n",
       "  bathymetry should be interpolated."
      ]
     },
     "execution_count": 6,
     "metadata": {},
     "output_type": "execute_result"
    }
   ],
   "source": [
    "?load_bath"
   ]
  },
  {
   "cell_type": "code",
   "execution_count": 7,
   "metadata": {},
   "outputs": [
    {
     "data": {
      "image/png": "[encoded data removed]",
      "text/plain": [
       "Figure(PyObject <Figure size 640x480 with 2 Axes>)"
      ]
     },
     "metadata": {},
     "output_type": "display_data"
    }
   ],
   "source": [
    "bx,by,b = load_bath(bathname,true,lonr,latr)\n",
    "\n",
    "pcolor(bx,by,b'); \n",
    "colorbar(orientation=\"horizontal\")\n",
    "gca().set_aspect(1/cos(mean([ylim()...]) * pi/180))\n",
    "\n",
    "#@show size(b)"
   ]
  },
  {
   "cell_type": "markdown",
   "metadata": {},
   "source": [
    "## Mask creation\n",
    "We start by defining the mask as a 3D matrix containing only `False`, then we set the values to `True` when the actual depth is deeper than the selected values stored in the vector `depthr`."
   ]
  },
  {
   "cell_type": "code",
   "execution_count": 8,
   "metadata": {},
   "outputs": [
    {
     "name": "stdout",
     "output_type": "stream",
     "text": [
      "typeof(mask) = BitArray{3}\n"
     ]
    },
    {
     "data": {
      "text/plain": [
       "BitArray{3}"
      ]
     },
     "execution_count": 8,
     "metadata": {},
     "output_type": "execute_result"
    }
   ],
   "source": [
    "depthr = [0,10,20,500]\n",
    "mask = falses(size(b,1),size(b,2),length(depthr))\n",
    "\n",
    "for k = 1:length(depthr)\n",
    "    for j = 1:size(b,2)\n",
    "        for i = 1:size(b,1)\n",
    "            mask[i,j,k] = b[i,j] >= depthr[k]\n",
    "        end\n",
    "    end\n",
    "end\n",
    "@show typeof(mask)"
   ]
  },
  {
   "cell_type": "code",
   "execution_count": 9,
   "metadata": {
    "scrolled": true
   },
   "outputs": [
    {
     "data": {
      "image/png": "[encoded data removed]",
      "text/plain": [
       "Figure(PyObject <Figure size 640x480 with 2 Axes>)"
      ]
     },
     "metadata": {},
     "output_type": "display_data"
    }
   ],
   "source": [
    "pcolor(bx,by,Float64.(mask[:,:,1]'))\n",
    "colorbar(orientation=\"horizontal\")\n",
    "gca().set_aspect(1/cos(mean([ylim()...]) * pi/180)) # fixes the aspect ratio"
   ]
  },
  {
   "cell_type": "markdown",
   "metadata": {},
   "source": [
    "Another solution is to use the `load_mask` function:"
   ]
  },
  {
   "cell_type": "code",
   "execution_count": 10,
   "metadata": {},
   "outputs": [],
   "source": [
    "xmask,ymask,mmask = load_mask(bathname,true,lonr,latr,depthr);"
   ]
  },
  {
   "cell_type": "code",
   "execution_count": 11,
   "metadata": {},
   "outputs": [
    {
     "data": {
      "image/png": "[encoded data removed]",
      "text/plain": [
       "Figure(PyObject <Figure size 640x480 with 2 Axes>)"
      ]
     },
     "metadata": {},
     "output_type": "display_data"
    }
   ],
   "source": [
    "pcolor(xmask,ymask,Float64.(mask[:,:,1]'))\n",
    "colorbar(orientation=\"horizontal\")\n",
    "gca().set_aspect(1/cos(mean([ylim()...]) * pi/180)) # fixes the aspect ratio"
   ]
  },
  {
   "cell_type": "markdown",
   "metadata": {},
   "source": [
    "## Mask editing\n",
    "To edit the mask, you can either modify directly its value if you know the indices, or you can use a selection based on the coordinates.\n",
    "### Create an artificial island\n",
    "We simply modify the mask at a given location."
   ]
  },
  {
   "cell_type": "code",
   "execution_count": 12,
   "metadata": {},
   "outputs": [],
   "source": [
    "# Create a copy of the mask for ediding\n",
    "mask_copy = copy(mask);\n",
    "mask_copy[63,8,:] .= false;"
   ]
  },
  {
   "cell_type": "code",
   "execution_count": 13,
   "metadata": {},
   "outputs": [
    {
     "data": {
      "image/png": "[encoded data removed]",
      "text/plain": [
       "Figure(PyObject <Figure size 640x480 with 2 Axes>)"
      ]
     },
     "metadata": {},
     "output_type": "display_data"
    }
   ],
   "source": [
    "pcolor(bx, by, Float64.(mask_copy[:,:,1]'))\n",
    "colorbar(orientation=\"horizontal\")\n",
    "gca().set_aspect(1/cos(mean([ylim()...]) * pi/180))"
   ]
  },
  {
   "cell_type": "markdown",
   "metadata": {},
   "source": [
    "### Remove an island (based on indices)"
   ]
  },
  {
   "cell_type": "code",
   "execution_count": 14,
   "metadata": {},
   "outputs": [],
   "source": [
    "mask_copy = copy(mask);\n",
    "mask_copy[48:59,1:10,:] .= true;"
   ]
  },
  {
   "cell_type": "code",
   "execution_count": 15,
   "metadata": {},
   "outputs": [
    {
     "data": {
      "image/png": "[encoded data removed]",
      "text/plain": [
       "Figure(PyObject <Figure size 640x480 with 2 Axes>)"
      ]
     },
     "metadata": {},
     "output_type": "display_data"
    }
   ],
   "source": [
    "pcolor(bx, by, Float64.(mask_copy[:,:,1]'))\n",
    "colorbar(orientation=\"horizontal\")\n",
    "gca().set_aspect(1/cos(mean([ylim()...]) * pi/180))"
   ]
  },
  {
   "cell_type": "markdown",
   "metadata": {},
   "source": [
    "### Remove an island (based on coordinates). \n",
    "\n",
    "This is the recommended approach as you can change resolution easily\n",
    "`sel_lon` and `sel_lat` are obtained by checking the longitude and latitudes."
   ]
  },
  {
   "cell_type": "code",
   "execution_count": 16,
   "metadata": {},
   "outputs": [
    {
     "data": {
      "image/png": "[encoded data removed]",
      "text/plain": [
       "Figure(PyObject <Figure size 640x480 with 2 Axes>)"
      ]
     },
     "metadata": {},
     "output_type": "display_data"
    }
   ],
   "source": [
    "mask_copy = copy(mask);\n",
    "sel_lon = (bx.>8) .& (bx.<10.);\n",
    "sel_lat = (by.<43.25);\n",
    "mask_copy[sel_lon, sel_lat, :] .= true;\n",
    "pcolor(bx, by, Float64.(mask_copy[:,:,1]')); \n",
    "colorbar(orientation=\"horizontal\")\n",
    "gca().set_aspect(1/cos(mean([ylim()...]) * pi/180))"
   ]
  },
  {
   "cell_type": "code",
   "execution_count": 17,
   "metadata": {},
   "outputs": [
    {
     "name": "stdout",
     "output_type": "stream",
     "text": [
      "sel_lon = Bool[0, 0, 0, 0, 0, 0, 0, 0, 0, 0, 0, 0, 0, 0, 0, 0, 0, 0, 0, 0, 0, 0, 0, 0, 0, 0, 0, 0, 0, 0, 0, 0, 0, 0, 0, 0, 0, 0, 0, 0, 0, 0, 0, 0, 0, 1, 1, 1, 1, 1, 1, 1, 1, 1, 1, 1, 1, 1, 1, 1, 0, 0, 0, 0, 0, 0, 0, 0, 0, 0, 0, 0, 0, 0, 0, 0, 0]\n"
     ]
    }
   ],
   "source": [
    "@show sel_lon;"
   ]
  },
  {
   "cell_type": "markdown",
   "metadata": {
    "collapsed": true
   },
   "source": [
    "## Exercice\n",
    "1. Load the bathymetry around the Black Sea.\n",
    "2. Create a land sea mask for the following levels: 0, 150, 500 and 1000 meters.\n",
    "3. Remove the Sea of Azov and the Sea of Marmara.\n",
    "4. Plot the result.\n",
    "\n",
    "The solution is available in [06-topography-BlackSea](./solutions/06-topography-BlackSea.ipynb) and should look like this:\n",
    "\n",
    "<img src=\"./Images/BlackSea_mask.png\" width=\"250px\">"
   ]
  },
  {
   "cell_type": "markdown",
   "metadata": {},
   "source": [
    "# Adapt own bathymetry (advanced)"
   ]
  },
  {
   "cell_type": "markdown",
   "metadata": {},
   "source": [
    "To use a local bathymetry, one needs to create a NetCDF file which has a similar structure than GEBCO files.\n",
    "In particular, the NetCDF file is expected to have the one dimensional variables `lon` and `lat` with the longitude (degrees East) and latitude (degrees North) and the two dimentional array `bat` with the digital terrain model (negative in water and positive above water). The order of the dimension should follow be: longitude and then latitude in Column-major ordering (or latitude and then longitude if the tool ncdump is used, which is based on Row-major ordering).\n",
    "\n",
    "The module `NCDatasets`, provide the utility function `ncgen` which returns the Julia code that creates a NetCDF file with the same metadata:\n"
   ]
  },
  {
   "cell_type": "code",
   "execution_count": 18,
   "metadata": {},
   "outputs": [
    {
     "name": "stdout",
     "output_type": "stream",
     "text": [
      "ds = NCDataset(\"filename.nc\",\"c\", attrib = [\n",
      "    \"title\"                     => \"GEBCO\",\n",
      "])\n",
      "\n",
      "# Dimensions\n",
      "\n",
      "ds.dim[\"lat\"] = 1352\n",
      "ds.dim[\"lon\"] = 2700\n",
      "\n",
      "# Declare variables\n",
      "\n",
      "nclat = defVar(ds,\"lat\", Float64, (\"lat\",), attrib = [\n",
      "    \"long_name\"                 => \"Latitude\",\n",
      "    \"standard_name\"             => \"latitude\",\n",
      "    \"units\"                     => \"degrees_north\",\n",
      "])\n",
      "\n",
      "nclon = defVar(ds,\"lon\", Float64, (\"lon\",), attrib = [\n",
      "    \"long_name\"                 => \"Longitude\",\n",
      "    \"standard_name\"             => \"longitude\",\n",
      "    \"units\"                     => \"degrees_east\",\n",
      "])\n",
      "\n",
      "ncbat = defVar(ds,\"bat\", Float32, (\"lon\", \"lat\"), attrib = [\n",
      "    \"long_name\"                 => \"elevation above sea level\",\n",
      "    \"standard_name\"             => \"height\",\n",
      "    \"units\"                     => \"meters\",\n",
      "])\n",
      "\n",
      "\n",
      "# Define variables\n",
      "\n",
      "# nclat[:] = ...\n",
      "# nclon[:] = ...\n",
      "# ncbat[:] = ...\n",
      "\n",
      "close(ds)\n"
     ]
    }
   ],
   "source": [
    "using NCDatasets\n",
    "ncgen(bathname)"
   ]
  },
  {
   "cell_type": "markdown",
   "metadata": {},
   "source": [
    "In this example, one would need to adapt:\n",
    "* the title attribute of the NetCDF file \n",
    "* the size of the dimensions\n",
    "* define the variables `nclon`, `nclat` and `ncbat`"
   ]
  }
 ],
 "metadata": {
  "@webio": {
   "lastCommId": null,
   "lastKernelId": null
  },
  "kernelspec": {
   "display_name": "Julia 1.3.1",
   "language": "julia",
   "name": "julia-1.3"
  },
  "language_info": {
   "file_extension": ".jl",
   "mimetype": "application/julia",
   "name": "julia",
   "version": "1.3.1"
  }
 },
 "nbformat": 4,
 "nbformat_minor": 2
}
