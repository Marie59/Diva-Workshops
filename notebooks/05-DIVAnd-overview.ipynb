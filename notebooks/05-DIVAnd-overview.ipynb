{
 "cells": [
  {
   "cell_type": "markdown",
   "metadata": {
    "slideshow": {
     "slide_type": "slide"
    }
   },
   "source": [
    "# Overview of DIVAnd"
   ]
  },
  {
   "cell_type": "markdown",
   "metadata": {
    "slideshow": {
     "slide_type": "subslide"
    }
   },
   "source": [
    "`DIVAnd` is **not** a new release of DIVA, it is another software tool with different \n",
    "\n",
    "algorithms,      \n",
    "functionalities and     \n",
    "languages."
   ]
  },
  {
   "cell_type": "markdown",
   "metadata": {
    "slideshow": {
     "slide_type": "slide"
    }
   },
   "source": [
    "## Let's compare apples and oranges\n",
    "\n",
    "![](Images/appels_and_oranges.jpg)\n",
    "* _Äpfel mit Birnen vergleichen_\n",
    "* _Comparer des choux et des carottes_\n",
    "* _Paragonare cavoli e patate_ (compare cabbages and potatoes)"
   ]
  },
  {
   "cell_type": "markdown",
   "metadata": {
    "slideshow": {
     "slide_type": "subslide"
    }
   },
   "source": [
    "For a single 2D analysis (surface salinity in the Black Sea) on Intel Xeon CPU E5-2650.     \n",
    "DIVA was compiled with the Intel Fortran Compiler.\n",
    "\n",
    "|    | DIVA - Fortran | DIVAnd - julia |\n",
    "|----|----------------|----------------|\n",
    "| mesh             | triangular | structured | \n",
    "| deg. of freedom  |    236296 |  236317 |\n",
    "| correlation length | 0.19    | 0.19 |\n",
    "| CPU time | 43.8 s | 8.7 s |\n",
    "\n",
    "* However, a triangular mesh is greatly more flexible than a structured mesh and has C1 continuity\n",
    "* Main adventage of `DIVAnd` is that it can work on more than just 2 dimensions (but the requirements of RAM memory increase also)."
   ]
  },
  {
   "cell_type": "markdown",
   "metadata": {},
   "source": [
    "## On public servers (cloud)\n",
    "\n",
    "1. Request a B2ACCESS account: https://b2access.eudat.eu/home/\n",
    "2. Choose: create B2ACCESS account (username only)\n",
    "3. Fill the form and click on submit\n",
    "4. Go to B2DROP (https://b2drop.eudat.eu) choose B2ACCESS\n",
    "5. Click on the settings icon and select \"Personal\".\n",
    "<img src=\"./Images/B2drop_01.png\" width=\"450px\">\n",
    "6. Under Security, create new app-password. **Save** this userame and password.\n",
    "<img src=\"./Images/B2drop_02.png\" width=\"250px\">\n",
    "<img src=\"./Images/B2drop_03.png\" width=\"400px\">\n",
    "7. Go to https://hub-test.oceanbrowser.net/hub/login and use your temporary username and password.\n",
    "<img src=\"./Images/hub_01.png\" width=\"400px\">\n",
    "8. Notesbooks are in `DIVAnd-Workshop-2018`\n",
    "<img src=\"./Images/hub_02.png\" width=\"450px\">"
   ]
  },
  {
   "cell_type": "markdown",
   "metadata": {
    "slideshow": {
     "slide_type": "slide"
    }
   },
   "source": [
    "* Note the first time, it takes a bit because the code is compiled in the background but every subsequent call is much faster.\n",
    "* **To store files permanently, copy them into the B2DROP folder.**\n",
    "* This machine is hosted a CINECA (Italy) and has 120 GB RAM."
   ]
  },
  {
   "cell_type": "markdown",
   "metadata": {
    "slideshow": {
     "slide_type": "subslide"
    }
   },
   "source": [
    "### Other jupyterhub instance with DIVAnd preinstalled\n",
    "\n",
    "In developpement:\n",
    "\n",
    "* CSC (Finland)\n",
    "* EGI "
   ]
  },
  {
   "cell_type": "markdown",
   "metadata": {
    "slideshow": {
     "slide_type": "slide"
    }
   },
   "source": [
    "# Primary functions\n",
    "\n",
    "* `divandrun`: Implements the DIVA alogorithm in N dimensions on a structured grid.\n",
    "* `divandgo`: Split the domain in overlapping subdomains and calls `divandrun` on every subdomain (to reduce the memory consumption).\n",
    "* `diva`: High-level function which selects the appropriate data."
   ]
  },
  {
   "cell_type": "markdown",
   "metadata": {
    "slideshow": {
     "slide_type": "subslide"
    }
   },
   "source": [
    "## Issues to avoid\n",
    "\n",
    "* Julia code can be quite efficient if the types can be inferred or explicetly declared. \n",
    "* When types are explicitly declared, some flexibility is lost. For instance the type of the e.g. correlation length and error covariance must be real numbers and not integers. For example:\n",
    "\n",
    "```julia\n",
    "len = (5,5.5) # avoid this (5 is an integer and 5.5 is a floating number)\n",
    "```\n",
    "\n",
    "use rather this:\n",
    "\n",
    "```julia\n",
    "len = (5.,5.5) # this is fine (5. and 5.5 are floating numbers)\n",
    "```"
   ]
  },
  {
   "cell_type": "markdown",
   "metadata": {
    "collapsed": true
   },
   "source": [
    "# Before we start"
   ]
  },
  {
   "cell_type": "markdown",
   "metadata": {},
   "source": [
    "There is a bug in XML Template libary (Mustache.jl), but the bug is fixed in our repo (but not yet in the main version of Mustache.jl, as of **April 4, 2018**). To get the version where is bug it fixed use this:"
   ]
  },
  {
   "cell_type": "code",
   "execution_count": 1,
   "metadata": {},
   "outputs": [
    {
     "name": "stderr",
     "output_type": "stream",
     "text": [
      "\u001b[1m\u001b[36mINFO: \u001b[39m\u001b[22m\u001b[36mRemoving Mustache (unregistered)\n",
      "\u001b[39m"
     ]
    }
   ],
   "source": [
    "Pkg.rm(\"Mustache\")"
   ]
  },
  {
   "cell_type": "code",
   "execution_count": 2,
   "metadata": {},
   "outputs": [
    {
     "name": "stderr",
     "output_type": "stream",
     "text": [
      "\u001b[1m\u001b[36mINFO: \u001b[39m\u001b[22m\u001b[36mCloning Mustache from https://github.com/Alexander-Barth/Mustache.jl\n",
      "\u001b[39m\u001b[1m\u001b[36mINFO: \u001b[39m\u001b[22m\u001b[36mComputing changes...\n",
      "\u001b[39m\u001b[1m\u001b[36mINFO: \u001b[39m\u001b[22m\u001b[36mUpgrading Blosc: v0.3.0 => v0.4.1\n",
      "\u001b[39m\u001b[1m\u001b[36mINFO: \u001b[39m\u001b[22m\u001b[36mUpgrading CategoricalArrays: v0.3.6 => v0.3.7\n",
      "\u001b[39m\u001b[1m\u001b[36mINFO: \u001b[39m\u001b[22m\u001b[36mDowngrading HTTP: v0.6.8 => v0.6.7\n",
      "\u001b[39m\u001b[1m\u001b[36mINFO: \u001b[39m\u001b[22m\u001b[36mUpgrading Measures: v0.1.0 => v0.2.0\n",
      "\u001b[39m\u001b[1m\u001b[36mINFO: \u001b[39m\u001b[22m\u001b[36mUpgrading Missings: v0.2.8 => v0.2.9\n",
      "\u001b[39m\u001b[1m\u001b[36mINFO: \u001b[39m\u001b[22m\u001b[36mUpgrading SpecialFunctions: v0.3.8 => v0.4.0\n",
      "\u001b[39m\u001b[1m\u001b[36mINFO: \u001b[39m\u001b[22m\u001b[36mBuilding Blosc\n",
      "\u001b[39m\u001b[1m\u001b[36mInfo: \u001b[39m\u001b[22m\u001b[36mDownloading https://github.com/stevengj/BloscBuilder/releases/download/v1.14.2+5/Blosc.x86_64-linux-gnu.tar.gz to /home/ctroupin/.julia/v0.6/Blosc/deps/usr/downloads/Blosc.x86_64-linux-gnu.tar.gz...\n",
      "\u001b[39m"
     ]
    },
    {
     "name": "stdout",
     "output_type": "stream",
     "text": [
      "\u001b[39m\u001b[1m\u001b[0m[17:43:49] \u001b[22m\u001b[31m######################################################################### 100,0%\u001b[1m\u001b[0m[17:43:48] \u001b[22m\u001b[31m#                                                                           2,3%\u001b[1m\u001b[0m[17:43:48] \u001b[22m\u001b[31m###                                                                         4,6%\u001b[1m\u001b[0m[17:43:49] \u001b[22m\u001b[31m#####                                                                       6,9%\u001b[1m\u001b[0m[17:43:49] \u001b[22m\u001b[31m########                                                                   11,6%\u001b[1m\u001b[0m[17:43:49] \u001b[22m\u001b[31m#############                                                              18,5%\u001b[1m\u001b[0m[17:43:49] \u001b[22m\u001b[31m##################                                                         25,4%\u001b[1m\u001b[0m[17:43:49] \u001b[22m\u001b[31m#######################                                                    32,5%\u001b[1m\u001b[0m[17:43:49] \u001b[22m\u001b[31m################################                                           44,0%\u001b[1m\u001b[0m[17:43:49] \u001b[22m\u001b[31m########################################                                   55,6%\u001b[1m\u001b[0m[17:43:49] \u001b[22m\u001b[31m##################################################                         69,5%\n",
      "\u001b[39m"
     ]
    },
    {
     "name": "stderr",
     "output_type": "stream",
     "text": [
      "\u001b[1m\u001b[36mINFO: \u001b[39m\u001b[22m\u001b[36mBuilding MbedTLS\n",
      "\u001b[39m\u001b[1m\u001b[36mINFO: \u001b[39m\u001b[22m\u001b[36mBuilding SpecialFunctions\n",
      "\u001b[39m\u001b[1m\u001b[36mINFO: \u001b[39m\u001b[22m\u001b[36mPackage database updated\n",
      "\u001b[39m"
     ]
    }
   ],
   "source": [
    "Pkg.clone(\"https://github.com/Alexander-Barth/Mustache.jl\")"
   ]
  },
  {
   "cell_type": "markdown",
   "metadata": {},
   "source": [
    "* Update DIVAnd"
   ]
  },
  {
   "cell_type": "code",
   "execution_count": 3,
   "metadata": {},
   "outputs": [
    {
     "name": "stderr",
     "output_type": "stream",
     "text": [
      "\u001b[1m\u001b[36mINFO: \u001b[39m\u001b[22m\u001b[36mUpdating METADATA...\n",
      "\u001b[39m\u001b[1m\u001b[36mINFO: \u001b[39m\u001b[22m\u001b[36mUpdating divand master... 40752b30 → e5d483a9\n",
      "\u001b[39m\u001b[1m\u001b[36mINFO: \u001b[39m\u001b[22m\u001b[36mComputing changes...\n",
      "\u001b[39m\u001b[1m\u001b[36mINFO: \u001b[39m\u001b[22m\u001b[36mNo packages to install, update or remove\n",
      "\u001b[39m"
     ]
    }
   ],
   "source": [
    "Pkg.update(\"divand\")"
   ]
  }
 ],
 "metadata": {
  "kernelspec": {
   "display_name": "Julia 0.6.2",
   "language": "julia",
   "name": "julia-0.6"
  },
  "language_info": {
   "file_extension": ".jl",
   "mimetype": "application/julia",
   "name": "julia",
   "version": "0.6.2"
  }
 },
 "nbformat": 4,
 "nbformat_minor": 2
}
