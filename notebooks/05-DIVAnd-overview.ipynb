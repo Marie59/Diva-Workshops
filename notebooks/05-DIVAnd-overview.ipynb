{
 "cells": [
  {
   "cell_type": "markdown",
   "metadata": {
    "slideshow": {
     "slide_type": "slide"
    }
   },
   "source": [
    "# Overview of DIVAnd"
   ]
  },
  {
   "cell_type": "markdown",
   "metadata": {
    "slideshow": {
     "slide_type": "subslide"
    }
   },
   "source": [
    "`DIVAnd` is **not** a new release of DIVA, it is another software tool with different \n",
    "\n",
    "algorithms,      \n",
    "functionalities and     \n",
    "languages."
   ]
  },
  {
   "cell_type": "markdown",
   "metadata": {
    "slideshow": {
     "slide_type": "slide"
    }
   },
   "source": [
    "## Let's compare apples and oranges\n",
    "\n",
    "![](Images/appels_and_oranges.jpg)\n",
    "* _Äpfel mit Birnen vergleichen_\n",
    "* _Comparer des choux et des carottes_\n",
    "* _Paragonare cavoli e patate_ (compare cabbages and potatoes)"
   ]
  },
  {
   "cell_type": "markdown",
   "metadata": {
    "slideshow": {
     "slide_type": "subslide"
    }
   },
   "source": [
    "For a single 2D analysis (surface salinity in the Black Sea) on Intel Xeon CPU E5-2650.     \n",
    "DIVA was compiled with the Intel Fortran Compiler.\n",
    "\n",
    "|    | DIVA - Fortran | DIVAnd - julia |\n",
    "|----|----------------|----------------|\n",
    "| mesh             | triangular | structured | \n",
    "| deg. of freedom  |    236296 |  236317 |\n",
    "| correlation length | 0.19    | 0.19 |\n",
    "| CPU time | 43.8 s | 8.7 s |\n",
    "\n",
    "* However, a triangular mesh is greatly more flexible than a structured mesh and has $C_1$ continuity\n",
    "* Main adventage of `DIVAnd` is that it can work on more than just 2 dimensions (but the requirements of RAM memory increase also)."
   ]
  },
  {
   "cell_type": "markdown",
   "metadata": {},
   "source": [
    "## On public servers (cloud)\n",
    "\n",
    "1. Request a B2ACCESS account: https://b2access.eudat.eu/home/\n",
    "2. Choose: create B2ACCESS account (username only)\n",
    "3. Fill the form and click on submit\n",
    "4. Go to B2DROP (https://b2drop.eudat.eu) choose B2ACCESS\n",
    "5. Click on the settings icon and select \"Personal\".\n",
    "<img src=\"./Images/B2drop_01.png\" width=\"450px\">\n",
    "6. Under Security, create new app-password. **Save** this userame and password.\n",
    "<img src=\"./Images/B2drop_02.png\" width=\"250px\">\n",
    "<img src=\"./Images/B2drop_03.png\" width=\"400px\">\n",
    "7. Go to https://hub-test.oceanbrowser.net/hub/login and use your temporary username and password.\n",
    "<img src=\"./Images/hub_01.png\" width=\"400px\">\n",
    "8. Notesbooks are in `DIVAnd-Workshop-2018`\n",
    "<img src=\"./Images/hub_02.png\" width=\"450px\">"
   ]
  },
  {
   "cell_type": "markdown",
   "metadata": {
    "slideshow": {
     "slide_type": "slide"
    }
   },
   "source": [
    "* Note the first time, it takes a bit because the code is compiled in the background but every subsequent call is much faster.\n",
    "* **To store files permanently, copy them into the B2DROP folder.**\n",
    "* This machine is hosted a CINECA (Italy) and has 120 GB RAM."
   ]
  },
  {
   "cell_type": "markdown",
   "metadata": {
    "slideshow": {
     "slide_type": "subslide"
    }
   },
   "source": [
    "### Other jupyterhub instance with DIVAnd preinstalled\n",
    "\n",
    "In developpement:\n",
    "\n",
    "* CSC (Finland)\n",
    "* EGI "
   ]
  },
  {
   "cell_type": "markdown",
   "metadata": {
    "slideshow": {
     "slide_type": "slide"
    }
   },
   "source": [
    "# Primary functions\n",
    "\n",
    "* `DIVAndrun`: Implements the DIVA alogorithm in N dimensions on a structured grid.\n",
    "* `DIVAndgo`: Split the domain in overlapping subdomains and calls `DIVAndrun` on every subdomain (to reduce the memory consumption).\n",
    "* `diva`: High-level function which selects the appropriate data."
   ]
  },
  {
   "cell_type": "markdown",
   "metadata": {
    "slideshow": {
     "slide_type": "subslide"
    }
   },
   "source": [
    "## Issues to avoid\n",
    "\n",
    "* Julia code can be quite efficient if the types can be inferred or explicetly declared. \n",
    "* When types are explicitly declared, some flexibility is lost. For instance the type of the e.g. correlation length and error covariance must be real numbers and not integers. For example:\n",
    "\n",
    "```julia\n",
    "len = (5,5.5) # avoid this (5 is an integer and 5.5 is a floating number)\n",
    "```\n",
    "\n",
    "use rather this:\n",
    "\n",
    "```julia\n",
    "len = (5.,5.5) # this is fine (5. and 5.5 are floating numbers)\n",
    "```"
   ]
  },
  {
   "cell_type": "markdown",
   "metadata": {
    "collapsed": true
   },
   "source": [
    "# Before we start\n",
    "\n",
    "There is a bug in XML Template libary (Mustache.jl), but the bug is fixed in our repo (but not yet in the main version of Mustache.jl, as of **April 4, 2018**). To get the version where is bug it fixed use this:"
   ]
  },
  {
   "cell_type": "code",
   "execution_count": 1,
   "metadata": {
    "scrolled": true
   },
   "outputs": [
    {
     "name": "stderr",
     "output_type": "stream",
     "text": [
      "\u001b[1m\u001b[33mWARNING: \u001b[39m\u001b[22m\u001b[33mMustache is fixed at 0.3.2- conflicting with requirement for divand: [0.3.2,∞)\u001b[39m\n",
      "\u001b[1m\u001b[33mWARNING: \u001b[39m\u001b[22m\u001b[33mMustache is fixed at 0.3.2- conflicting with requirement for DIVAnd: [0.3.2,∞)\u001b[39m\n",
      "\u001b[1m\u001b[36mINFO: \u001b[39m\u001b[22m\u001b[36mNo packages to install, update or remove\n",
      "\u001b[39m\u001b[1m\u001b[36mINFO: \u001b[39m\u001b[22m\u001b[36mPackage database updated\n",
      "\u001b[39m"
     ]
    }
   ],
   "source": [
    "Pkg.rm(\"Mustache\")"
   ]
  },
  {
   "cell_type": "code",
   "execution_count": 2,
   "metadata": {},
   "outputs": [
    {
     "ename": "LoadError",
     "evalue": "\u001b[91mMustache already exists\u001b[39m",
     "output_type": "error",
     "traceback": [
      "\u001b[91mMustache already exists\u001b[39m",
      "",
      "Stacktrace:",
      " [1] \u001b[1mclone\u001b[22m\u001b[22m\u001b[1m(\u001b[22m\u001b[22m::String, ::SubString{String}\u001b[1m)\u001b[22m\u001b[22m at \u001b[1m./pkg/entry.jl:193\u001b[22m\u001b[22m",
      " [2] \u001b[1m(::Base.Pkg.Dir.##3#6{Array{Any,1},Base.Pkg.Entry.#clone,Tuple{String}})\u001b[22m\u001b[22m\u001b[1m(\u001b[22m\u001b[22m\u001b[1m)\u001b[22m\u001b[22m at \u001b[1m./pkg/dir.jl:33\u001b[22m\u001b[22m",
      " [3] \u001b[1mcd\u001b[22m\u001b[22m\u001b[1m(\u001b[22m\u001b[22m::Base.Pkg.Dir.##3#6{Array{Any,1},Base.Pkg.Entry.#clone,Tuple{String}}, ::String\u001b[1m)\u001b[22m\u001b[22m at \u001b[1m./file.jl:70\u001b[22m\u001b[22m",
      " [4] \u001b[1mwithenv\u001b[22m\u001b[22m\u001b[1m(\u001b[22m\u001b[22m::Base.Pkg.Dir.##2#5{Array{Any,1},Base.Pkg.Entry.#clone,Tuple{String},String}, ::Pair{String,String}, ::Vararg{Pair{String,String},N} where N\u001b[1m)\u001b[22m\u001b[22m at \u001b[1m./env.jl:157\u001b[22m\u001b[22m",
      " [5] \u001b[1m#cd#1\u001b[22m\u001b[22m\u001b[1m(\u001b[22m\u001b[22m::Array{Any,1}, ::Function, ::Function, ::String, ::Vararg{String,N} where N\u001b[1m)\u001b[22m\u001b[22m at \u001b[1m./pkg/dir.jl:32\u001b[22m\u001b[22m",
      " [6] \u001b[1mclone\u001b[22m\u001b[22m\u001b[1m(\u001b[22m\u001b[22m::String\u001b[1m)\u001b[22m\u001b[22m at \u001b[1m./pkg/pkg.jl:169\u001b[22m\u001b[22m"
     ]
    },
    {
     "name": "stderr",
     "output_type": "stream",
     "text": [
      "\u001b[1m\u001b[36mINFO: \u001b[39m\u001b[22m\u001b[36mCloning Mustache from https://github.com/Alexander-Barth/Mustache.jl\n",
      "\u001b[39m"
     ]
    }
   ],
   "source": [
    "Pkg.clone(\"https://github.com/Alexander-Barth/Mustache.jl\")"
   ]
  },
  {
   "cell_type": "markdown",
   "metadata": {},
   "source": [
    "Update DIVAnd"
   ]
  },
  {
   "cell_type": "code",
   "execution_count": 3,
   "metadata": {},
   "outputs": [
    {
     "name": "stderr",
     "output_type": "stream",
     "text": [
      "\u001b[1m\u001b[36mINFO: \u001b[39m\u001b[22m\u001b[36mUpdating METADATA...\n",
      "\u001b[39m\u001b[1m\u001b[36mINFO: \u001b[39m\u001b[22m\u001b[36mUpdating cache of EzXML...\n",
      "\u001b[39m\u001b[1m\u001b[36mINFO: \u001b[39m\u001b[22m\u001b[36mUpdating cache of ColorTypes...\n",
      "\u001b[39m\u001b[1m\u001b[36mINFO: \u001b[39m\u001b[22m\u001b[36mUpdating cache of PlotUtils...\n",
      "\u001b[39m\u001b[1m\u001b[36mINFO: \u001b[39m\u001b[22m\u001b[36mUpdating cache of RangeArrays...\n",
      "\u001b[39m\u001b[1m\u001b[36mINFO: \u001b[39m\u001b[22m\u001b[36mUpdating cache of CategoricalArrays...\n",
      "\u001b[39m\u001b[1m\u001b[36mINFO: \u001b[39m\u001b[22m\u001b[36mUpdating cache of Cairo...\n",
      "\u001b[39m\u001b[1m\u001b[36mINFO: \u001b[39m\u001b[22m\u001b[36mUpdating cache of MbedTLS...\n",
      "\u001b[39m\u001b[1m\u001b[36mINFO: \u001b[39m\u001b[22m\u001b[36mUpdating cache of BinDeps...\n",
      "\u001b[39m\u001b[1m\u001b[36mINFO: \u001b[39m\u001b[22m\u001b[36mUpdating cache of StatsBase...\n",
      "\u001b[39m\u001b[1m\u001b[36mINFO: \u001b[39m\u001b[22m\u001b[36mUpdating cache of MacroTools...\n",
      "\u001b[39m\u001b[1m\u001b[36mINFO: \u001b[39m\u001b[22m\u001b[36mUpdating cache of Gtk...\n",
      "\u001b[39m\u001b[1m\u001b[36mINFO: \u001b[39m\u001b[22m\u001b[36mUpdating cache of Nullables...\n",
      "\u001b[39m\u001b[1m\u001b[36mINFO: \u001b[39m\u001b[22m\u001b[36mUpdating cache of DataFrames...\n",
      "\u001b[39m\u001b[1m\u001b[36mINFO: \u001b[39m\u001b[22m\u001b[36mUpdating cache of NaNMath...\n",
      "\u001b[39m\u001b[1m\u001b[36mINFO: \u001b[39m\u001b[22m\u001b[36mUpdating cache of DecFP...\n",
      "\u001b[39m\u001b[1m\u001b[36mINFO: \u001b[39m\u001b[22m\u001b[36mUpdating cache of HTTP...\n",
      "\u001b[39m\u001b[1m\u001b[36mINFO: \u001b[39m\u001b[22m\u001b[36mUpdating cache of Conda...\n",
      "\u001b[39m\u001b[1m\u001b[36mINFO: \u001b[39m\u001b[22m\u001b[36mUpdating cache of WeakRefStrings...\n",
      "\u001b[39m\u001b[1m\u001b[36mINFO: \u001b[39m\u001b[22m\u001b[36mUpdating cache of DataStreams...\n",
      "\u001b[39m\u001b[1m\u001b[36mINFO: \u001b[39m\u001b[22m\u001b[36mUpdating cache of IniFile...\n",
      "\u001b[39m\u001b[1m\u001b[36mINFO: \u001b[39m\u001b[22m\u001b[36mUpdating cache of HttpCommon...\n",
      "\u001b[39m\u001b[1m\u001b[36mINFO: \u001b[39m\u001b[22m\u001b[36mUpdating cache of Ratios...\n",
      "\u001b[39m\u001b[1m\u001b[36mINFO: \u001b[39m\u001b[22m\u001b[36mUpdating cache of FixedPointNumbers...\n",
      "\u001b[39m\u001b[1m\u001b[36mINFO: \u001b[39m\u001b[22m\u001b[36mUpdating cache of FileIO...\n",
      "\u001b[39m\u001b[1m\u001b[36mINFO: \u001b[39m\u001b[22m\u001b[36mUpdating cache of Compat...\n",
      "\u001b[39m\u001b[1m\u001b[36mINFO: \u001b[39m\u001b[22m\u001b[36mUpdating cache of JSON...\n",
      "\u001b[39m\u001b[1m\u001b[36mINFO: \u001b[39m\u001b[22m\u001b[36mUpdating cache of Missings...\n",
      "\u001b[39m\u001b[1m\u001b[36mINFO: \u001b[39m\u001b[22m\u001b[36mUpdating cache of StaticArrays...\n",
      "\u001b[39m\u001b[1m\u001b[36mINFO: \u001b[39m\u001b[22m\u001b[36mUpdating cache of Parameters...\n",
      "\u001b[39m\u001b[1m\u001b[36mINFO: \u001b[39m\u001b[22m\u001b[36mUpdating cache of OffsetArrays...\n",
      "\u001b[39m\u001b[1m\u001b[36mINFO: \u001b[39m\u001b[22m\u001b[36mUpdating cache of TranscodingStreams...\n",
      "\u001b[39m\u001b[1m\u001b[36mINFO: \u001b[39m\u001b[22m\u001b[36mUpdating cache of GR...\n",
      "\u001b[39m\u001b[1m\u001b[36mINFO: \u001b[39m\u001b[22m\u001b[36mUpdating cache of Distances...\n",
      "\u001b[39m\u001b[1m\u001b[36mINFO: \u001b[39m\u001b[22m\u001b[36mUpdating cache of Reexport...\n",
      "\u001b[39m\u001b[1m\u001b[36mINFO: \u001b[39m\u001b[22m\u001b[36mUpdating cache of DataStructures...\n",
      "\u001b[39m\u001b[1m\u001b[36mINFO: \u001b[39m\u001b[22m\u001b[36mUpdating cache of Showoff...\n",
      "\u001b[39m\u001b[1m\u001b[36mINFO: \u001b[39m\u001b[22m\u001b[36mUpdating cache of SortingAlgorithms...\n",
      "\u001b[39m\u001b[1m\u001b[36mINFO: \u001b[39m\u001b[22m\u001b[36mUpdating cache of BinaryProvider...\n",
      "\u001b[39m\u001b[1m\u001b[36mINFO: \u001b[39m\u001b[22m\u001b[36mUpdating cache of SpecialFunctions...\n",
      "\u001b[39m\u001b[1m\u001b[36mINFO: \u001b[39m\u001b[22m\u001b[36mUpdating cache of NCDatasets...\n",
      "\u001b[39m\u001b[1m\u001b[36mINFO: \u001b[39m\u001b[22m\u001b[36mUpdating cache of CSV...\n",
      "\u001b[39m\u001b[1m\u001b[36mINFO: \u001b[39m\u001b[22m\u001b[36mPackage DataStructures: skipping update (pinned)...\n",
      "\u001b[39m\u001b[1m\u001b[36mINFO: \u001b[39m\u001b[22m\u001b[36mUpdating DIVAnd master... 4f5ec44b → 3bcb8b21\n",
      "\u001b[39m\u001b[1m\u001b[36mINFO: \u001b[39m\u001b[22m\u001b[36mUpdating Mustache master...\n",
      "\u001b[39m\u001b[1m\u001b[36mINFO: \u001b[39m\u001b[22m\u001b[36mUpdating NCDatasets master... b107e003 → bc5196e7\n",
      "\u001b[39m\u001b[1m\u001b[36mINFO: \u001b[39m\u001b[22m\u001b[36mComputing changes...\n",
      "\u001b[39m\u001b[1m\u001b[33mWARNING: \u001b[39m\u001b[22m\u001b[33mMustache is fixed at 0.3.2- conflicting with requirement for divand: [0.3.2,∞)\u001b[39m\n",
      "\u001b[1m\u001b[33mWARNING: \u001b[39m\u001b[22m\u001b[33mMustache is fixed at 0.3.2- conflicting with requirement for DIVAnd: [0.3.2,∞)\u001b[39m\n",
      "\u001b[1m\u001b[36mINFO: \u001b[39m\u001b[22m\u001b[36mUpgrading BinDeps: v0.8.8 => v0.8.9\n",
      "\u001b[39m\u001b[1m\u001b[36mINFO: \u001b[39m\u001b[22m\u001b[36mUpgrading CategoricalArrays: v0.3.11 => v0.3.13\n",
      "\u001b[39m\u001b[1m\u001b[36mINFO: \u001b[39m\u001b[22m\u001b[36mUpgrading Compat: v1.0.0 => v1.0.1\n",
      "\u001b[39m\u001b[1m\u001b[36mINFO: \u001b[39m\u001b[22m\u001b[36mUpgrading Conda: v1.0.0 => v1.0.1\n",
      "\u001b[39m\u001b[1m\u001b[36mINFO: \u001b[39m\u001b[22m\u001b[36mUpgrading EzXML: v0.7.1 => v0.7.3\n",
      "\u001b[39m\u001b[1m\u001b[36mINFO: \u001b[39m\u001b[22m\u001b[36mUpgrading HTTP: v0.6.12 => v0.6.14\n",
      "\u001b[39m\u001b[1m\u001b[36mINFO: \u001b[39m\u001b[22m\u001b[36mUpgrading MacroTools: v0.4.2 => v0.4.4\n",
      "\u001b[39m\u001b[1m\u001b[36mINFO: \u001b[39m\u001b[22m\u001b[36mUpgrading NaNMath: v0.3.1 => v0.3.2\n",
      "\u001b[39m\u001b[1m\u001b[36mINFO: \u001b[39m\u001b[22m\u001b[36mUpgrading Nullables: v0.0.6 => v0.0.7\n",
      "\u001b[39m\u001b[1m\u001b[36mINFO: \u001b[39m\u001b[22m\u001b[36mUpgrading Ratios: v0.2.0 => v0.3.0\n",
      "\u001b[39m\u001b[1m\u001b[36mINFO: \u001b[39m\u001b[22m\u001b[36mUpgrading TranscodingStreams: v0.5.3 => v0.5.4\n",
      "\u001b[39m\u001b[1m\u001b[33mWARNING: \u001b[39m\u001b[22m\u001b[33mThe following packages have been updated but were already imported:\n",
      "- Compat\n",
      "- Nullables\n",
      "Restart Julia to use the updated versions.\u001b[39m\n",
      "\u001b[1m\u001b[36mINFO: \u001b[39m\u001b[22m\u001b[36mBuilding Conda\n",
      "\u001b[39m\u001b[1m\u001b[36mINFO: \u001b[39m\u001b[22m\u001b[36mBuilding EzXML\n",
      "\u001b[39m\u001b[1m\u001b[36mINFO: \u001b[39m\u001b[22m\u001b[36mBuilding MbedTLS\n",
      "\u001b[39m\u001b[1m\u001b[36mInfo: \u001b[39m\u001b[22m\u001b[36musing prebuilt binaries\n",
      "\u001b[39m"
     ]
    }
   ],
   "source": [
    "Pkg.update(\"DIVAnd\")"
   ]
  }
 ],
 "metadata": {
  "kernelspec": {
   "display_name": "Julia 0.6.4",
   "language": "julia",
   "name": "julia-0.6"
  },
  "language_info": {
   "file_extension": ".jl",
   "mimetype": "application/julia",
   "name": "julia",
   "version": "0.6.4"
  }
 },
 "nbformat": 4,
 "nbformat_minor": 2
}
