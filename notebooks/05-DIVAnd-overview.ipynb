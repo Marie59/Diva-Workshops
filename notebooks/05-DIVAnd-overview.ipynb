{
 "cells": [
  {
   "cell_type": "markdown",
   "metadata": {
    "slideshow": {
     "slide_type": "slide"
    }
   },
   "source": [
    "# Overview of DIVAnd\n",
    "\n",
    "`DIVAnd` is **not** a new release of [`DIVA`](https://github.com/gher-ulg/DIVA), it is another software tool with different \n",
    "\n",
    "algorithms,      \n",
    "functionalities and     \n",
    "language."
   ]
  },
  {
   "cell_type": "markdown",
   "metadata": {
    "slideshow": {
     "slide_type": "slide"
    }
   },
   "source": [
    "## Let's compare apples and oranges\n",
    "\n",
    "![](Images/appels_and_oranges.jpg)\n",
    "* _Äpfel mit Birnen vergleichen_\n",
    "* _Comparer des choux et des carottes_\n",
    "* _Paragonare cavoli e patate_ (compare cabbages and potatoes)"
   ]
  },
  {
   "cell_type": "markdown",
   "metadata": {
    "slideshow": {
     "slide_type": "subslide"
    }
   },
   "source": [
    "For a single 2D analysis (surface salinity in the Black Sea) on Intel Xeon CPU E5-2650.     \n",
    "DIVA was compiled with the Intel Fortran Compiler.\n",
    "\n",
    "|    | DIVA - Fortran | DIVAnd - julia |\n",
    "|----|----------------|----------------|\n",
    "| mesh             | triangular | structured | \n",
    "| deg. of freedom  |    236296 |  236317 |\n",
    "| correlation length | 0.19    | 0.19 |\n",
    "| CPU time | 43.8 s | 8.7 s |\n",
    "\n",
    "* However, a triangular mesh is greatly more flexible than a structured mesh and has $C_1$ continuity\n",
    "* The main advantage of `DIVAnd` is that it can work on more than just 2 dimensions (but the requirements of RAM memory increase also)."
   ]
  },
  {
   "cell_type": "markdown",
   "metadata": {},
   "source": [
    "## On public servers (cloud)\n",
    "\n",
    "1. Request a B2ACCESS account: https://b2access.eudat.eu/home/\n",
    "2. Choose: create B2ACCESS account (username only)\n",
    "3. Fill the form and click on submit\n",
    "4. Go to B2DROP (https://b2drop.eudat.eu) choose B2ACCESS\n",
    "5. Click on the settings icon and select \"Personal\".\n",
    "<img src=\"./Images/B2drop_01.png\" width=\"450px\">\n",
    "6. Under Security, create new app-password. **Save** this userame and password.\n",
    "<img src=\"./Images/B2drop_02.png\" width=\"250px\">\n",
    "<img src=\"./Images/B2drop_03.png\" width=\"400px\">\n",
    "7. Go to https://hub-test.oceanbrowser.net/hub/login and use your temporary username and password.\n",
    "<img src=\"./Images/hub_01.png\" width=\"400px\">\n",
    "8. Notesbooks are in `DIVAnd-Workshop-2018`\n",
    "<img src=\"./Images/hub_02.png\" width=\"450px\">"
   ]
  },
  {
   "cell_type": "markdown",
   "metadata": {
    "slideshow": {
     "slide_type": "slide"
    }
   },
   "source": [
    "* Note the first time, it takes a bit because the code is compiled in the background but every subsequent call is much faster.\n",
    "* **To store files permanently, copy them into the B2DROP folder.**\n",
    "* This machine is hosted a CINECA (Italy) and has 120 GB RAM."
   ]
  },
  {
   "cell_type": "markdown",
   "metadata": {
    "slideshow": {
     "slide_type": "subslide"
    }
   },
   "source": [
    "### Other jupyterhub instance with DIVAnd preinstalled\n",
    "\n",
    "In developpement:\n",
    "\n",
    "* CSC (Finland)\n",
    "* EGI "
   ]
  },
  {
   "cell_type": "markdown",
   "metadata": {
    "slideshow": {
     "slide_type": "slide"
    }
   },
   "source": [
    "# Primary functions\n",
    "\n",
    "* `DIVAndrun`: Implements the DIVA alogorithm in N dimensions on a structured grid.\n",
    "* `DIVAndgo`: Split the domain in overlapping subdomains and calls `DIVAndrun` on every subdomain (to reduce the memory consumption).\n",
    "* `diva`: High-level function which selects the appropriate data."
   ]
  },
  {
   "cell_type": "markdown",
   "metadata": {
    "slideshow": {
     "slide_type": "subslide"
    }
   },
   "source": [
    "## Issues to avoid\n",
    "\n",
    "* Julia code can be quite efficient if the types can be inferred or explicetly declared. \n",
    "* When types are explicitly declared, some flexibility is lost. For instance the type of the e.g. correlation length and error covariance must be real numbers and not integers. For example:\n",
    "\n",
    "```julia\n",
    "len = (5,5.5) # avoid this (5 is an integer and 5.5 is a floating number)\n",
    "```\n",
    "\n",
    "use rather this:\n",
    "\n",
    "```julia\n",
    "len = (5.,5.5) # this is fine (5. and 5.5 are floating numbers)\n",
    "```"
   ]
  }
 ],
 "metadata": {
  "@webio": {
   "lastCommId": "D4E8005071A741C0922F32EBB1A38D15",
   "lastKernelId": "b8dc422f-519d-4b53-9d28-170d15f01b60"
  },
  "kernelspec": {
   "display_name": "Julia 1.0.0",
   "language": "julia",
   "name": "julia-1.0"
  },
  "language_info": {
   "file_extension": ".jl",
   "mimetype": "application/julia",
   "name": "julia",
   "version": "1.0.0"
  }
 },
 "nbformat": 4,
 "nbformat_minor": 2
}
