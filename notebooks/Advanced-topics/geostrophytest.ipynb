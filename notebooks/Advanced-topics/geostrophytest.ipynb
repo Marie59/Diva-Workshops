{
 "cells": [
  {
   "cell_type": "code",
   "execution_count": 1,
   "metadata": {
    "collapsed": false
   },
   "outputs": [],
   "source": [
    "push!(LOAD_PATH,\"C:/JMB/PhysOcean.jl/src\",\".\"); using PhysOcean\n"
   ]
  },
  {
   "cell_type": "code",
   "execution_count": 2,
   "metadata": {
    "collapsed": false
   },
   "outputs": [],
   "source": [
    "push!(LOAD_PATH,\"C:/JMB/divand.jl/src\",\".\"); using divand;cd(\"C:/JMB/divand.jl\");cd(\"examples\")\n",
    "using divand\n",
    "using PyPlot\n"
   ]
  },
  {
   "cell_type": "markdown",
   "metadata": {},
   "source": [
    "Simple example with "
   ]
  },
  {
   "cell_type": "markdown",
   "metadata": {},
   "source": [
    "## METRICS usign METERS"
   ]
  },
  {
   "cell_type": "code",
   "execution_count": 3,
   "metadata": {
    "collapsed": false
   },
   "outputs": [
    {
     "data": {
      "text/plain": [
       "false"
      ]
     },
     "execution_count": 3,
     "metadata": {},
     "output_type": "execute_result"
    }
   ],
   "source": [
    "dx = dy = 0.2\n",
    "\n",
    "lonr = 27:dx:42\n",
    "latr = 40:dy:47\n",
    "\n",
    "\n",
    "depthr = [0., 10, 20, 30, 50, 75, 100, 125, 150, 200, 250, 300, 400, 500, 600, 700, 800, 900, 1000, 1100, 1200, 1300, 1400, 1500, 1750, 2000];\n",
    "\n",
    "mask,(pm,pn,po),(xi,yi,zi) = divand_rectdom(lonr,latr,depthr)\n",
    "#Now into meters\n",
    "(pmm,pnm) = divand_metric(xi[:,:,1],yi[:,:,1])\n",
    "pm=repeat(pmm,inner = (1,1,length(depthr)));\n",
    "pn=repeat(pnm,inner = (1,1,length(depthr)));\n",
    "\n",
    "mask[1:2,:,:]=false\n",
    "mask[end-1:end,:,:]=false\n",
    "#mask[:,1:2,:]=false\n",
    "#mask[:,end-1:end,:]=false\n"
   ]
  },
  {
   "cell_type": "markdown",
   "metadata": {},
   "source": [
    "Fake data"
   ]
  },
  {
   "cell_type": "code",
   "execution_count": 4,
   "metadata": {
    "collapsed": false
   },
   "outputs": [],
   "source": [
    "temp=16-zi/1600+cos.(1.4*xi+0*xi-zi/300)+xi/5.*xi./(zi+1)/2000.*(zi/1000+xi)\n",
    "salt=28+xi\n",
    "\n",
    "dens=density.(salt,temp,0)-1025;"
   ]
  },
  {
   "cell_type": "code",
   "execution_count": 5,
   "metadata": {
    "collapsed": false
   },
   "outputs": [
    {
     "ename": "LoadError",
     "evalue": "\u001b[91msyntax: extra token \"geostrophic\" after end of expression\u001b[39m",
     "output_type": "error",
     "traceback": [
      "\u001b[91msyntax: extra token \"geostrophic\" after end of expression\u001b[39m",
      "",
      "Stacktrace:",
      " [1] \u001b[1minclude_string\u001b[22m\u001b[22m\u001b[1m(\u001b[22m\u001b[22m::String, ::String\u001b[1m)\u001b[22m\u001b[22m at \u001b[1m.\\loading.jl:515\u001b[22m\u001b[22m"
     ]
    }
   ],
   "source": [
    "Calculate geostrophic velocities assuming level 10 is no motion"
   ]
  },
  {
   "cell_type": "code",
   "execution_count": 6,
   "metadata": {
    "collapsed": false
   },
   "outputs": [],
   "source": [
    "velocities,eta,Vflux=geostrophy(mask,dens,(pm,pn,po),(xi,yi,zi);znomotion=10);\n",
    "eta=eta-mean(eta);"
   ]
  },
  {
   "cell_type": "markdown",
   "metadata": {},
   "source": [
    "Look at fluxes in y direction (south-north)"
   ]
  },
  {
   "cell_type": "code",
   "execution_count": 7,
   "metadata": {
    "collapsed": false
   },
   "outputs": [
    {
     "name": "stdout",
     "output_type": "stream",
     "text": [
      "(mean(var(Vflux[1] .^ 2)), mean(var(Vflux[2] .^ 2))) = (4.863062073719452e34, 0.0)\n"
     ]
    },
    {
     "data": {
      "text/plain": [
       "(4.863062073719452e34, 0.0)"
      ]
     },
     "execution_count": 7,
     "metadata": {},
     "output_type": "execute_result"
    }
   ],
   "source": [
    "@show mean(var(Vflux[1].^2)),mean(var(Vflux[2].^2))"
   ]
  },
  {
   "cell_type": "code",
   "execution_count": 8,
   "metadata": {
    "collapsed": false
   },
   "outputs": [
    {
     "data": {
      "image/png": "[encoded data removed]",
      "text/plain": [
       "PyPlot.Figure(PyObject <matplotlib.figure.Figure object at 0x000000002BC25588>)"
      ]
     },
     "metadata": {},
     "output_type": "display_data"
    },
    {
     "data": {
      "text/plain": [
       "(PyObject <matplotlib.collections.PolyCollection object at 0x000000002BD525C0>, PyObject <matplotlib.colorbar.Colorbar object at 0x000000002C2285C0>)"
      ]
     },
     "execution_count": 8,
     "metadata": {},
     "output_type": "execute_result"
    }
   ],
   "source": [
    "pcolor(xi[:,:,1],yi[:,:,1],eta),colorbar()"
   ]
  },
  {
   "cell_type": "markdown",
   "metadata": {},
   "source": [
    "Now analyse eta with contstrain to have barotropic flow compensating the fluxes just calculated"
   ]
  },
  {
   "cell_type": "code",
   "execution_count": 9,
   "metadata": {
    "collapsed": false
   },
   "outputs": [],
   "source": [
    "# function to interpolate\n",
    "fun(x,y) = sin.(6x) * cos.(6y)\n",
    "\n",
    "# observations\n",
    "\n",
    "x = [35];\n",
    "y = [42];\n",
    "f = [0.1]\n",
    "\n",
    "h=deepestpoint(mask,zi)\n",
    "len=500000.2\n",
    "epsilon2=110000\n",
    "rfluxes=0.0000001\n",
    "\n",
    "#Need to scale fluxes by f/g\n",
    "gsf=(earthgravity.(yi)./coriolisfrequency.(yi))[:,:,1]\n",
    "fi,s=divandrun(mask[:,:,1],(pm[:,:,1],pn[:,:,1]),(xi[:,:,1],yi[:,:,1]),(x,y),f,len,epsilon2;moddim=[0,7],topographyforfluxes=(gsf.*h,0),fluxes=(Vflux[1],0),epsfluxes=rfluxes,alphabc=2,alpha=[1, 0, 1]);"
   ]
  },
  {
   "cell_type": "code",
   "execution_count": 10,
   "metadata": {
    "collapsed": false
   },
   "outputs": [
    {
     "ename": "LoadError",
     "evalue": "\u001b[91msyntax: extra token \"term\" after end of expression\u001b[39m",
     "output_type": "error",
     "traceback": [
      "\u001b[91msyntax: extra token \"term\" after end of expression\u001b[39m",
      "",
      "Stacktrace:",
      " [1] \u001b[1minclude_string\u001b[22m\u001b[22m\u001b[1m(\u001b[22m\u001b[22m::String, ::String\u001b[1m)\u001b[22m\u001b[22m at \u001b[1m.\\loading.jl:515\u001b[22m\u001b[22m"
     ]
    }
   ],
   "source": [
    "Correction term"
   ]
  },
  {
   "cell_type": "code",
   "execution_count": 11,
   "metadata": {
    "collapsed": false
   },
   "outputs": [
    {
     "data": {
      "image/png": "[encoded data removed]",
      "text/plain": [
       "PyPlot.Figure(PyObject <matplotlib.figure.Figure object at 0x000000002C35DF28>)"
      ]
     },
     "metadata": {},
     "output_type": "display_data"
    },
    {
     "data": {
      "text/plain": [
       "(PyObject <matplotlib.collections.PolyCollection object at 0x000000002C408F28>, PyObject <matplotlib.colorbar.Colorbar object at 0x000000002C599518>)"
      ]
     },
     "execution_count": 11,
     "metadata": {},
     "output_type": "execute_result"
    }
   ],
   "source": [
    "pcolor(xi[:,:,1],yi[:,:,1],fi),colorbar()"
   ]
  },
  {
   "cell_type": "markdown",
   "metadata": {
    "collapsed": false
   },
   "source": [
    "For plotting and further calculation"
   ]
  },
  {
   "cell_type": "code",
   "execution_count": 12,
   "metadata": {
    "collapsed": false
   },
   "outputs": [
    {
     "data": {
      "text/plain": [
       "0"
      ]
     },
     "execution_count": 12,
     "metadata": {},
     "output_type": "execute_result"
    }
   ],
   "source": [
    "fi[isnan.(fi)]=0"
   ]
  },
  {
   "cell_type": "markdown",
   "metadata": {},
   "source": [
    "For verification look at how the correction term if applied with overall factor 0 to 2 changes fluxes"
   ]
  },
  {
   "cell_type": "code",
   "execution_count": 13,
   "metadata": {
    "collapsed": false
   },
   "outputs": [],
   "source": [
    "sf=collect(0.:0.11:2.5)\n",
    "Ff=zeros(size(sf))\n",
    "Ff2=zeros(size(sf))\n",
    "Vfluxafter=0\n",
    "for i=1:size(sf)[1]\n",
    "\n",
    "    velafter,etaafter,Vfluxafter=geostrophy(mask,dens,(pm,pn,po),(xi,yi,zi);ssh=eta+sf[i]*fi);\n",
    "    Ff[i]=mean(Vfluxafter[1].^2)\n",
    "    Ff2[i]=mean(Vfluxafter[2].^2)\n",
    "end\n"
   ]
  },
  {
   "cell_type": "code",
   "execution_count": 14,
   "metadata": {
    "collapsed": false
   },
   "outputs": [
    {
     "data": {
      "image/png": "[encoded data removed]",
      "text/plain": [
       "PyPlot.Figure(PyObject <matplotlib.figure.Figure object at 0x00000000372457F0>)"
      ]
     },
     "metadata": {},
     "output_type": "display_data"
    },
    {
     "data": {
      "text/plain": [
       "PyObject Text(0.5,1,u'Fluxes as a function of amplitude of correction factor')"
      ]
     },
     "execution_count": 14,
     "metadata": {},
     "output_type": "execute_result"
    }
   ],
   "source": [
    "plot(sf,Ff)\n",
    "title(\"Fluxes as a function of amplitude of correction factor\")"
   ]
  },
  {
   "cell_type": "code",
   "execution_count": 15,
   "metadata": {
    "collapsed": false
   },
   "outputs": [
    {
     "data": {
      "text/plain": [
       "2.8453235588943135e18"
      ]
     },
     "execution_count": 15,
     "metadata": {},
     "output_type": "execute_result"
    }
   ],
   "source": [
    "mean(Vflux[1].^2)"
   ]
  },
  {
   "cell_type": "markdown",
   "metadata": {},
   "source": [
    "So we can indeed use"
   ]
  },
  {
   "cell_type": "code",
   "execution_count": 16,
   "metadata": {
    "collapsed": false
   },
   "outputs": [],
   "source": [
    "velafter,etaafter,Vfluxafter=geostrophy(mask,dens,(pm,pn,po),(xi,yi,zi);ssh=eta+fi);"
   ]
  },
  {
   "cell_type": "code",
   "execution_count": 17,
   "metadata": {
    "collapsed": false
   },
   "outputs": [
    {
     "data": {
      "text/plain": [
       "6.9537614215612e14"
      ]
     },
     "execution_count": 17,
     "metadata": {},
     "output_type": "execute_result"
    }
   ],
   "source": [
    "mean(Vfluxafter[1].^2)"
   ]
  },
  {
   "cell_type": "markdown",
   "metadata": {},
   "source": [
    "Verification: if we use zero density anomamy and barotropic correction term we get right flux correction"
   ]
  },
  {
   "cell_type": "code",
   "execution_count": 18,
   "metadata": {
    "collapsed": false
   },
   "outputs": [],
   "source": [
    "velafterb,etaafterb,Vfluxafterb=geostrophy(mask,0.0*dens,(pm,pn,po),(xi,yi,zi);ssh=fi);"
   ]
  },
  {
   "cell_type": "code",
   "execution_count": 19,
   "metadata": {
    "collapsed": false
   },
   "outputs": [
    {
     "data": {
      "text/plain": [
       "36-element Array{Float64,1}:\n",
       " -0.0246937  \n",
       " -0.0200163  \n",
       " -0.0162987  \n",
       " -0.0132516  \n",
       " -0.0101578  \n",
       " -0.00655682 \n",
       " -0.00205288 \n",
       "  0.00251845 \n",
       "  0.0078153  \n",
       "  0.0149651  \n",
       "  0.0223017  \n",
       "  0.0277765  \n",
       "  0.0302873  \n",
       "  ⋮          \n",
       " -0.0163905  \n",
       " -0.0138488  \n",
       " -0.0111318  \n",
       " -0.00932786 \n",
       " -0.00621778 \n",
       " -0.00311978 \n",
       " -0.00129913 \n",
       " -0.000385658\n",
       "  0.000905696\n",
       "  0.00390109 \n",
       "  0.00775244 \n",
       "  0.0126175  "
      ]
     },
     "execution_count": 19,
     "metadata": {},
     "output_type": "execute_result"
    }
   ],
   "source": [
    "(Vfluxafterb[1]+Vflux[1])./Vflux[1]"
   ]
  },
  {
   "cell_type": "code",
   "execution_count": null,
   "metadata": {
    "collapsed": true
   },
   "outputs": [],
   "source": []
  }
 ],
 "metadata": {
  "anaconda-cloud": {},
  "kernelspec": {
   "display_name": "Julia 0.6.0",
   "language": "julia",
   "name": "julia-0.6"
  },
  "language_info": {
   "file_extension": ".jl",
   "mimetype": "application/julia",
   "name": "julia",
   "version": "0.6.0"
  }
 },
 "nbformat": 4,
 "nbformat_minor": 1
}
