{
 "cells": [
  {
   "cell_type": "markdown",
   "metadata": {},
   "source": [
    "This notebook describes how to create plots for the netCDF file(s) obtained after executing `DIVAnd`.     \n",
    "We will use the [NCDatasets](https://github.com/Alexander-Barth/NCDatasets.jl) module (instead of [NetCDF](https://github.com/JuliaGeo/NetCDF.jl)) to read the result files and [PyPlot](https://github.com/JuliaPy/PyPlot.jl)."
   ]
  },
  {
   "cell_type": "code",
   "execution_count": null,
   "metadata": {},
   "outputs": [],
   "source": [
    "using NCDatasets  \n",
    "using PyPlot\n",
    "if VERSION >= v\"0.7.0-beta.0\"\n",
    "\n",
    "else\n",
    "    using Compat: @info, @warn, @debug, @error, replace\n",
    "    using Missings\n",
    "end\n",
    "using Compat"
   ]
  },
  {
   "cell_type": "markdown",
   "metadata": {},
   "source": [
    "Adapt the file directory and name.      \n",
    "We can use for example the salinity analysis produced by [15-example-analysis](./15-example-analysis.ipynb)."
   ]
  },
  {
   "cell_type": "code",
   "execution_count": null,
   "metadata": {},
   "outputs": [],
   "source": [
    "datadir = \"./data/\"\n",
    "datafile = joinpath(datadir, \"Water_body_Salinity.4Danl.nc\")\n",
    "if isfile(datafile)\n",
    "    @info(\"File already exists\") \n",
    "else\n",
    "    @error(\"File does not exist\")\n",
    "end"
   ]
  },
  {
   "cell_type": "markdown",
   "metadata": {},
   "source": [
    "Open the dataset from the file for reading"
   ]
  },
  {
   "cell_type": "code",
   "execution_count": null,
   "metadata": {},
   "outputs": [],
   "source": [
    "@info(\"Reading dataset\")\n",
    "ds = Dataset(datafile)"
   ]
  },
  {
   "cell_type": "markdown",
   "metadata": {},
   "source": [
    "From the dataset we can extract the dimensions and variables of interest."
   ]
  },
  {
   "cell_type": "code",
   "execution_count": null,
   "metadata": {
    "collapsed": true
   },
   "outputs": [],
   "source": [
    "lon = ds[\"lon\"];\n",
    "lat = ds[\"lat\"];\n",
    "depth = ds[\"depth\"];\n",
    "ttime = ds[\"time\"];\n",
    "salinity = ds[\"Salinity\"];"
   ]
  },
  {
   "cell_type": "markdown",
   "metadata": {},
   "source": [
    "Note that the time variable is an array of dates:"
   ]
  },
  {
   "cell_type": "code",
   "execution_count": null,
   "metadata": {},
   "outputs": [],
   "source": [
    "ttime"
   ]
  },
  {
   "cell_type": "markdown",
   "metadata": {},
   "source": [
    "# Create plots\n",
    "## Simple pseudo color plot\n",
    "Let's assume we want to plot a given time period at a given depth:"
   ]
  },
  {
   "cell_type": "code",
   "execution_count": null,
   "metadata": {
    "collapsed": true
   },
   "outputs": [],
   "source": [
    "depthplot = 20.;"
   ]
  },
  {
   "cell_type": "markdown",
   "metadata": {},
   "source": [
    "First we extract the indices of the the time and depth arrays."
   ]
  },
  {
   "cell_type": "code",
   "execution_count": null,
   "metadata": {},
   "outputs": [],
   "source": [
    "timeindex = 4;\n",
    "depthindex = findall(depth .== depthplot)[1];\n",
    "@info(\"Time index: $timeindex\")\n",
    "@info(\"Depth index: $depthindex\")"
   ]
  },
  {
   "cell_type": "markdown",
   "metadata": {},
   "source": [
    "Then we extract the 2-D salinity field. If we are not sure about the dimension order, we can check the matrix size."
   ]
  },
  {
   "cell_type": "code",
   "execution_count": null,
   "metadata": {},
   "outputs": [],
   "source": [
    "@show size(salinity);\n",
    "salinityplot = salinity[:, :, depthindex, timeindex];\n",
    "@show size(salinityplot);\n",
    "@show typeof(salinityplot);"
   ]
  },
  {
   "cell_type": "markdown",
   "metadata": {},
   "source": [
    "### First plot\n",
    "We use the `pcolormesh` (pseudo-color) function, after substituting the `missing`s by `NaN`s so that the land is masked."
   ]
  },
  {
   "cell_type": "code",
   "execution_count": null,
   "metadata": {},
   "outputs": [],
   "source": [
    "# replace(salinityplot, Missings.missing, NaN) ok with 1.0.0, not with 0.6.4\n",
    "salinityplot[ismissing.(salinityplot)] .= NaN;\n",
    "pcolormesh(lon, lat, permutedims(salinityplot, [2, 1]))\n",
    "colorbar()\n",
    "show()"
   ]
  },
  {
   "cell_type": "markdown",
   "metadata": {},
   "source": [
    "## Contour plots\n",
    "We explicitely specify the levels to be represented (from 15 to 25).    "
   ]
  },
  {
   "cell_type": "code",
   "execution_count": null,
   "metadata": {},
   "outputs": [],
   "source": [
    "conts = contour(lon, lat, permutedims(salinityplot,[2,1]), levels=collect(15:.25:25))\n",
    "clabel(conts, inline=1, fontsize=10);"
   ]
  },
  {
   "cell_type": "markdown",
   "metadata": {},
   "source": [
    "## Filled contour plots\n",
    "The aspect is somehow different from the pcolor."
   ]
  },
  {
   "cell_type": "code",
   "execution_count": null,
   "metadata": {},
   "outputs": [],
   "source": [
    "contourf(lon, lat, permutedims(salinityplot,[2,1]), levels=collect(15:1:25))"
   ]
  },
  {
   "cell_type": "markdown",
   "metadata": {
    "collapsed": true
   },
   "source": [
    "## Exercise\n",
    "1. Load the results stored in `Water_body_Salinity.4Danl.nc` (obtained with notebook [15-example-analysis](./15-example-analysis.ipynb)).\n",
    "2. Load the observation from `Salinity.bigfile` (downloaded in notebook [15-example-analysis](./15-example-analysis.ipynb)).\n",
    "3. Display the salinity field at 50 meters (for the time period of your choice).\n",
    "4. Add the observation value at that depth using the `scatter` function.\n",
    "\n",
    "The solution is available in the notebook [16-plot-results-BlackSea](solutions/16-plot-results-BlackSea.ipynb) and should look like this:\n",
    "\n",
    "<img src=\"./Images/BlackSea_plot.png\" width=\"250px\">"
   ]
  }
 ],
 "metadata": {
  "kernelspec": {
   "display_name": "Julia 1.0.0",
   "language": "julia",
   "name": "julia-1.0"
  },
  "language_info": {
   "file_extension": ".jl",
   "mimetype": "application/julia",
   "name": "julia",
   "version": "1.0.0"
  }
 },
 "nbformat": 4,
 "nbformat_minor": 2
}
