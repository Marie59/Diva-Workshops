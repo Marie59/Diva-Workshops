{
 "cells": [
  {
   "cell_type": "markdown",
   "metadata": {},
   "source": [
    "# How to read data files?\n",
    "This notebook describes or points to modules for reading data in different file formats and from different sources.\n",
    "\n",
    "| Format        | Tool           | \n",
    "| ------------- |:-------------:| \n",
    "| Delimiter-separated values | [readdlm](https://docs.julialang.org/en/stable/stdlib/io-network/#Base.DataFmt.readdlm-Tuple{Any,Char,Type,Char})\n",
    "| NetCDF        | [NCDatasets.jl](https://github.com/Alexander-Barth/NCDatasets.jl) | \n",
    "| ODV  $^\\star$ | [ODVspreadsheet.jl](https://github.com/gher-ulg/DIVAnd.jl/blob/master/src/ODVspreadsheet.jl) |\n",
    "| ODV netCDF $^\\star$   | [NCODV.jl](https://github.com/gher-ulg/DIVAnd.jl/blob/master/src/NCODV.jl) | \n",
    "| GEBCO bathymetry $^\\star$ | [load_mask.jl](https://github.com/gher-ulg/DIVAnd.jl/blob/master/src/load_mask.jl)|\n",
    "| Big files $^\\star$    | [loadbigfile](https://github.com/gher-ulg/DIVAnd.jl/blob/master/src/load_obs.jl) |\n",
    "| NetCDF WOD $^\\star$   | [loadobs](https://github.com/gher-ulg/DIVAnd.jl/blob/master/src/load_obs.jl)\n",
    "| Mat files     | [MAT.jl](https://github.com/JuliaIO/MAT.jl)|\n",
    "\n",
    "The $^\\star$ symbol denotes functions or tools available in `DIVAnd.jl`."
   ]
  },
  {
   "cell_type": "code",
   "execution_count": 1,
   "metadata": {},
   "outputs": [
    {
     "name": "stderr",
     "output_type": "stream",
     "text": [
      "┌ Info: Recompiling stale cache file /home/abarth/.julia/compiled/v1.1/DIVAnd/AaVxY.ji for DIVAnd [efc8151c-67de-5a8f-9a35-d8f54746ae9d]\n",
      "└ @ Base loading.jl:1184\n"
     ]
    }
   ],
   "source": [
    "using DIVAnd\n",
    "using DelimitedFiles"
   ]
  },
  {
   "cell_type": "markdown",
   "metadata": {},
   "source": [
    "## Delimiter-separated values files \n",
    "This include the comma-separated values (CSV), the tab-separated values, among others.    \n",
    "We show an example with the NAO indices that we obtain from the [Climate Data Guide](https://climatedataguide.ucar.edu/) website."
   ]
  },
  {
   "cell_type": "code",
   "execution_count": 2,
   "metadata": {},
   "outputs": [
    {
     "name": "stderr",
     "output_type": "stream",
     "text": [
      "  % Total    % Received % Xferd  Average Speed   Time    Time     Time  Current\n",
      "                                 Dload  Upload   Total   Spent    Left  Speed\n",
      "100  1876  100  1876    0     0   2458      0 --:--:-- --:--:-- --:--:--  2458\n"
     ]
    }
   ],
   "source": [
    "download(\"https://climatedataguide.ucar.edu/sites/default/files/nao_station_annual.txt\", \n",
    "    \"./data/nao_station_annual.txt\");"
   ]
  },
  {
   "cell_type": "markdown",
   "metadata": {},
   "source": [
    "If we use the function without option, the number of column is deduced from the header, which lead to empty data columns:"
   ]
  },
  {
   "cell_type": "code",
   "execution_count": 3,
   "metadata": {},
   "outputs": [],
   "source": [
    "dataNAO = DelimitedFiles.readdlm(\"./data/nao_station_annual.txt\");"
   ]
  },
  {
   "cell_type": "markdown",
   "metadata": {},
   "source": [
    "So we indicate that the first line is the header using the option *skipstart*:"
   ]
  },
  {
   "cell_type": "code",
   "execution_count": 4,
   "metadata": {},
   "outputs": [
    {
     "data": {
      "text/plain": [
       "5×2 Array{Float64,2}:\n",
       " 1865.0  -0.66\n",
       " 1866.0  -0.2 \n",
       " 1867.0  -3.04\n",
       " 1868.0   4.14\n",
       " 1869.0   0.42"
      ]
     },
     "execution_count": 4,
     "metadata": {},
     "output_type": "execute_result"
    }
   ],
   "source": [
    "dataNAO = DelimitedFiles.readdlm(\"./data/nao_station_annual.txt\", skipstart=1);\n",
    "dataNAO[1:5, :]"
   ]
  },
  {
   "cell_type": "markdown",
   "metadata": {},
   "source": [
    "## NetCDF\n",
    "\n",
    "The 2 main modules available for the reading and writing if netCDF files are:\n",
    "1. [NetCDF.jl](https://github.com/JuliaGeo/NetCDF.jl)\n",
    "2. [NCDatasets.jl](https://github.com/Alexander-Barth/NCDatasets.jl)\n",
    "\n",
    "An example is provided in this [notebook](./03-netCDF.ipynb)."
   ]
  },
  {
   "cell_type": "markdown",
   "metadata": {},
   "source": [
    "## ODV spreadsheet\n",
    "ODV spreadsheets constitute one of the standard formats in [SeaDataCloud](https://www.seadatanet.org/).        \n",
    "In `DIVAnd`, we provide:\n",
    "* [ODVspreadsheet.jl](https://github.com/gher-ulg/DIVAnd.jl/blob/master/src/ODVspreadsheet.jl) designed to read such format and\n",
    "* [NCODV.jl](https://github.com/gher-ulg/DIVAnd.jl/blob/master/src/NCODV.jl) to read the ODV netCDF files.\n",
    "\n",
    "An example is provided in this the notebook [09-ODV-data-import.ipynb](./09-ODV-data-import.ipynb)."
   ]
  },
  {
   "cell_type": "markdown",
   "metadata": {},
   "source": [
    "## Big files\n",
    "The so-called big files are intermediate files using by DIVA and DIVAnd. The format is rather simple: a tab-separated file containing the following variables:\n",
    "1. longitude,\n",
    "2. latitude,\n",
    "3. field value (e.g., temperature, salinity, chlorophyll concentration, ...), \n",
    "4. depth,\n",
    "5. time,\n",
    "6. measurement identifier.\n",
    "\n",
    "In the module [load_obs.jl](https://github.com/gher-ulg/DIVAnd.jl/blob/master/src/load_obs.jl), the function `loadbigfile` allows the reading of such file format.    \n",
    "In the next cell we download a *big file* containing salinity measurements (also used in other examples) and read it using `loadbigfile`."
   ]
  },
  {
   "cell_type": "code",
   "execution_count": 5,
   "metadata": {},
   "outputs": [
    {
     "name": "stderr",
     "output_type": "stream",
     "text": [
      "┌ Info: Data file already downloaded\n",
      "└ @ Main In[5]:5\n",
      "┌ Info: Loading data from 'big file' ./data/Salinity.bigfile\n",
      "└ @ DIVAnd /home/abarth/projects/Julia/DIVAnd.jl/src/load_obs.jl:10\n"
     ]
    },
    {
     "name": "stdout",
     "output_type": "stream",
     "text": [
      "length(obsval) = 139230\n"
     ]
    }
   ],
   "source": [
    "fname = \"./data/Salinity.bigfile\"\n",
    "if !isfile(fname)\n",
    "    download(\"https://dox.ulg.ac.be/index.php/s/k0f7FxA7l5FIgu9/download\",fname)\n",
    "else\n",
    "    @info(\"Data file already downloaded\")\n",
    "end\n",
    "obsval,obslon,obslat,obsdepth,obstime,obsid = loadbigfile(fname);\n",
    "@show(length(obsval));"
   ]
  },
  {
   "cell_type": "markdown",
   "metadata": {
    "collapsed": true
   },
   "source": [
    "## Bathymetry\n",
    "The General Bathymetric Chart of the Oceans [GEBCO](https://www.gebco.net/) (in netCDF) is directly read with `DIVAnd` using the function `load_bath`.  \n",
    "\n",
    "First make sure we have a bathymetry file."
   ]
  },
  {
   "cell_type": "code",
   "execution_count": 6,
   "metadata": {},
   "outputs": [
    {
     "name": "stderr",
     "output_type": "stream",
     "text": [
      "┌ Info: Bathymetry file already downloaded\n",
      "└ @ Main In[6]:5\n"
     ]
    }
   ],
   "source": [
    "bathname = \"gebco_30sec_16.nc\"\n",
    "if !isfile(bathname)\n",
    "    download(\"https://dox.ulg.ac.be/index.php/s/RSwm4HPHImdZoQP/download\",bathname)\n",
    "else\n",
    "    @info(\"Bathymetry file already downloaded\")\n",
    "end"
   ]
  },
  {
   "cell_type": "markdown",
   "metadata": {},
   "source": [
    "Then we have to define the grid on which we need the bathymetry and apply the function."
   ]
  },
  {
   "cell_type": "code",
   "execution_count": 7,
   "metadata": {},
   "outputs": [],
   "source": [
    "lonr = -10:0.5:36.\n",
    "latr = 37:0.5:48\n",
    "bx,by,b = load_bath(bathname,true,lonr,latr);"
   ]
  },
  {
   "cell_type": "markdown",
   "metadata": {
    "collapsed": true
   },
   "source": [
    "`bx` and `by` are the same as lonr and latr.    \n",
    "`b` contains the bathymetry values.\n",
    "\n",
    "A complete example is provided in this [notebook](./06-topography.ipynb). "
   ]
  },
  {
   "cell_type": "markdown",
   "metadata": {
    "collapsed": true
   },
   "source": [
    "## Mat files\n",
    "We use the same .mat file as in [04-OI-variational-analysis-introduction](./04-OI-variational-analysis-introduction.ipynb)."
   ]
  },
  {
   "cell_type": "code",
   "execution_count": 8,
   "metadata": {},
   "outputs": [],
   "source": [
    "using MAT"
   ]
  },
  {
   "cell_type": "code",
   "execution_count": 9,
   "metadata": {},
   "outputs": [],
   "source": [
    "matfile = \"data/dan_field.mat\"\n",
    "mf = matopen(matfile);"
   ]
  },
  {
   "cell_type": "markdown",
   "metadata": {},
   "source": [
    "We can get a list of the variables stored in the file:"
   ]
  },
  {
   "cell_type": "code",
   "execution_count": 10,
   "metadata": {},
   "outputs": [
    {
     "data": {
      "text/plain": [
       "Base.KeySet for a Dict{String,Int64} with 3 entries. Keys:\n",
       "  \"f\"\n",
       "  \"Fe\"\n",
       "  \"F\""
      ]
     },
     "execution_count": 10,
     "metadata": {},
     "output_type": "execute_result"
    }
   ],
   "source": [
    "varnames = names(mf)"
   ]
  },
  {
   "cell_type": "markdown",
   "metadata": {},
   "source": [
    "and to load one of them, use"
   ]
  },
  {
   "cell_type": "code",
   "execution_count": 11,
   "metadata": {},
   "outputs": [
    {
     "name": "stdout",
     "output_type": "stream",
     "text": [
      "sizeof(var1) = 20000\n"
     ]
    }
   ],
   "source": [
    "var1 = read(mf, \"f\");\n",
    "@show sizeof(var1);"
   ]
  },
  {
   "cell_type": "markdown",
   "metadata": {},
   "source": [
    "When we're done, don't forget to close the file."
   ]
  },
  {
   "cell_type": "code",
   "execution_count": 12,
   "metadata": {},
   "outputs": [],
   "source": [
    "close(mf)"
   ]
  }
 ],
 "metadata": {
  "@webio": {
   "lastCommId": null,
   "lastKernelId": null
  },
  "kernelspec": {
   "display_name": "Julia 1.1.0",
   "language": "julia",
   "name": "julia-1.1"
  },
  "language_info": {
   "file_extension": ".jl",
   "mimetype": "application/julia",
   "name": "julia",
   "version": "1.1.0"
  }
 },
 "nbformat": 4,
 "nbformat_minor": 2
}
