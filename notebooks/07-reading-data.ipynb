{
 "cells": [
  {
   "cell_type": "markdown",
   "metadata": {},
   "source": [
    "# How to read data files?\n",
    "This notebook describes or points to modules for reading data in different file formats and from different sources.\n",
    "\n",
    "| Format        | Tool           | \n",
    "| ------------- |:-------------:| \n",
    "| Delimiter-separated values | [readdlm](https://docs.julialang.org/en/stable/stdlib/io-network/#Base.DataFmt.readdlm-Tuple{Any,Char,Type,Char})\n",
    "| NetCDF        | [NCDatasets.jl](https://github.com/Alexander-Barth/NCDatasets.jl) | \n",
    "| ODV  $^\\star$         | [ODVspreadsheet.jl](https://github.com/gher-ulg/DIVAnd.jl/blob/master/src/ODVspreadsheet.jl) |\n",
    "| GEBCO bathymetry $^\\star$ | [load_mask.jl](https://github.com/gher-ulg/DIVAnd.jl/blob/master/src/load_mask.jl)|\n",
    "| Big files $^\\star$    | [loadbigfile](https://github.com/gher-ulg/DIVAnd.jl/blob/master/src/load_obs.jl) |\n",
    "| NetCDF WOD $^\\star$   | [loadobs](https://github.com/gher-ulg/DIVAnd.jl/blob/master/src/load_obs.jl)\n",
    "| Mat files     | [MAT.jl](https://github.com/JuliaIO/MAT.jl)|\n",
    "\n",
    "$^\\star$ denotes functions or tools available in `DIVAnd.jl`."
   ]
  },
  {
   "cell_type": "code",
   "execution_count": 1,
   "metadata": {
    "collapsed": true
   },
   "outputs": [],
   "source": [
    "using DIVAnd\n",
    "using DelimitedFiles"
   ]
  },
  {
   "cell_type": "markdown",
   "metadata": {},
   "source": [
    "## Delimiter-separated values files \n",
    "This include the comma-separated values (CSV), the tab-separated values, among others.    \n",
    "We show an example with the NAO indices that we obtain from the [Climate Data Guide](https://climatedataguide.ucar.edu/) website."
   ]
  },
  {
   "cell_type": "code",
   "execution_count": 2,
   "metadata": {},
   "outputs": [
    {
     "name": "stderr",
     "output_type": "stream",
     "text": [
      "  % Total    % Received % Xferd  Average Speed   Time    Time     Time  Current\n",
      "                                 Dload  Upload   Total   Spent    Left  Speed\n",
      "100  1876  100  1876    0     0   2107      0 --:--:-- --:--:-- --:--:--  2105\n"
     ]
    }
   ],
   "source": [
    "download(\"https://climatedataguide.ucar.edu/sites/default/files/nao_station_annual.txt\", \n",
    "    \"./data/nao_station_annual.txt\");"
   ]
  },
  {
   "cell_type": "markdown",
   "metadata": {},
   "source": [
    "If we use the function without option, the number of column is deduced from the header, which lead to empty data columns:"
   ]
  },
  {
   "cell_type": "code",
   "execution_count": 3,
   "metadata": {
    "collapsed": true
   },
   "outputs": [],
   "source": [
    "dataNAO = DelimitedFiles.readdlm(\"./data/nao_station_annual.txt\");"
   ]
  },
  {
   "cell_type": "markdown",
   "metadata": {},
   "source": [
    "So we indicate that the first line is the header using the option *skipstart*:"
   ]
  },
  {
   "cell_type": "code",
   "execution_count": 4,
   "metadata": {},
   "outputs": [
    {
     "data": {
      "text/plain": [
       "5×2 Array{Float64,2}:\n",
       " 1865.0  -0.66\n",
       " 1866.0  -0.2 \n",
       " 1867.0  -3.04\n",
       " 1868.0   4.14\n",
       " 1869.0   0.42"
      ]
     },
     "execution_count": 4,
     "metadata": {},
     "output_type": "execute_result"
    }
   ],
   "source": [
    "dataNAO = DelimitedFiles.readdlm(\"nao_station_annual.txt\", skipstart=1);\n",
    "dataNAO[1:5, :]"
   ]
  },
  {
   "cell_type": "markdown",
   "metadata": {},
   "source": [
    "## NetCDF\n",
    "\n",
    "The 2 main modules available for the reading and writing if netCDF files are:\n",
    "1. [NetCDF.jl](https://github.com/JuliaGeo/NetCDF.jl)\n",
    "2. [NCDatasets.jl](https://github.com/Alexander-Barth/NCDatasets.jl)\n",
    "\n",
    "An example is provided in this [notebook](./03-netCDF.ipynb)."
   ]
  },
  {
   "cell_type": "markdown",
   "metadata": {},
   "source": [
    "## ODV spreadsheet\n",
    "ODV spreadsheets constitute one of the standard formats in [SeaDataCloud](https://www.seadatanet.org/).        \n",
    "In `DIVAnd`, we provide a tool called [ODVspreadsheet.jl](https://github.com/gher-ulg/DIVAnd.jl/blob/master/src/ODVspreadsheet.jl) designed to read such format.\n",
    "\n",
    "An example is provided in this [notebook](./09-ODV-data-import.ipynb)."
   ]
  },
  {
   "cell_type": "markdown",
   "metadata": {},
   "source": [
    "## Big files\n",
    "The so-called big files are intermediate files using by DIVA and DIVAnd. The format is rather simple: a tab-separated file containing the following variables:\n",
    "1. longitude,\n",
    "2. latitude,\n",
    "3. field value (e.g., temperature, salinity, chlorophyll concentration, ...), \n",
    "4. depth,\n",
    "5. time,\n",
    "6. measurement identifier.\n",
    "\n",
    "In the module [load_obs.jl](https://github.com/gher-ulg/DIVAnd.jl/blob/master/src/load_obs.jl), the function `loadbigfile` allows the reading of such file format.    \n",
    "In the next cell we download a *big file* containing salinity measurements (also used in other examples) and read it using `loadbigfile`."
   ]
  },
  {
   "cell_type": "code",
   "execution_count": 5,
   "metadata": {},
   "outputs": [
    {
     "name": "stderr",
     "output_type": "stream",
     "text": [
      "┌ Info: Data file already downloaded\n",
      "└ @ Main In[5]:5\n",
      "┌ Info: Loading data from 'big file' ./data/Salinity.bigfile\n",
      "└ @ DIVAnd /home/ctroupin/.julia/packages/DIVAnd/A5jKp/src/load_obs.jl:10\n"
     ]
    },
    {
     "name": "stdout",
     "output_type": "stream",
     "text": [
      "length(obsval) = 139230\n"
     ]
    }
   ],
   "source": [
    "fname = \"./data/Salinity.bigfile\"\n",
    "if !isfile(fname)\n",
    "    download(\"https://b2drop.eudat.eu/s/Bv9Fj0YGC0zp2vn/download\",fname)\n",
    "else\n",
    "    @info(\"Data file already downloaded\")\n",
    "end\n",
    "obsval,obslon,obslat,obsdepth,obstime,obsid = loadbigfile(fname);\n",
    "@show(length(obsval));"
   ]
  },
  {
   "cell_type": "markdown",
   "metadata": {
    "collapsed": true
   },
   "source": [
    "## Bathymetry\n",
    "The General Bathymetric Chart of the Oceans [GEBCO](https://www.gebco.net/) (in netCDF) is directly read with `DIVAnd` using the function `load_bath`.  \n",
    "\n",
    "First make sure we have a bathymetry file."
   ]
  },
  {
   "cell_type": "code",
   "execution_count": 6,
   "metadata": {},
   "outputs": [
    {
     "name": "stderr",
     "output_type": "stream",
     "text": [
      "┌ Info: Bathymetry file already downloaded\n",
      "└ @ Main In[6]:5\n"
     ]
    }
   ],
   "source": [
    "bathname = \"gebco_30sec_16.nc\"\n",
    "if !isfile(bathname)\n",
    "    download(\"https://b2drop.eudat.eu/s/ACcxUEZZi6a4ziR/download\",bathname)\n",
    "else\n",
    "    @info(\"Bathymetry file already downloaded\")\n",
    "end"
   ]
  },
  {
   "cell_type": "markdown",
   "metadata": {},
   "source": [
    "Then we have to define the grid on which we need the bathymetry and apply the function."
   ]
  },
  {
   "cell_type": "code",
   "execution_count": 7,
   "metadata": {},
   "outputs": [
    {
     "name": "stderr",
     "output_type": "stream",
     "text": [
      "┌ Warning: `getindex(itp::AbstractInterpolation{T, N}, i::Vararg{ExpandedIndexTypes, N}) where {T, N}` is deprecated, use `itp(i...)` instead.\n",
      "│   caller = load_bath(::String, ::Bool, ::StepRangeLen{Float64,Base.TwicePrecision{Float64},Base.TwicePrecision{Float64}}, ::StepRangeLen{Float64,Base.TwicePrecision{Float64},Base.TwicePrecision{Float64}}) at load_mask.jl:100\n",
      "└ @ DIVAnd /home/ctroupin/.julia/packages/DIVAnd/A5jKp/src/load_mask.jl:100\n"
     ]
    }
   ],
   "source": [
    "lonr = -10:0.5:36.\n",
    "latr = 37:0.5:48\n",
    "bx,by,b = load_bath(bathname,true,lonr,latr);"
   ]
  },
  {
   "cell_type": "markdown",
   "metadata": {
    "collapsed": true
   },
   "source": [
    "`bx` and `by` are the same as lonr and latr.    \n",
    "`b` contains the bathymetry values.\n",
    "\n",
    "A complete example is provided in this [notebook](./06-topography.ipynb). "
   ]
  },
  {
   "cell_type": "markdown",
   "metadata": {
    "collapsed": true
   },
   "source": [
    "## Mat files\n",
    "The [MAT](https://github.com/JuliaIO/MAT.jl) module was designed to read the files created by MATLAB (.mat extension).      We use the same .mat file as in [04-OI-variational-analysis-introduction](./04-OI-variational-analysis-introduction.ipynb)."
   ]
  },
  {
   "cell_type": "code",
   "execution_count": 13,
   "metadata": {},
   "outputs": [
    {
     "name": "stderr",
     "output_type": "stream",
     "text": [
      "┌ Info: Precompiling MAT [23992714-dd62-5051-b70f-ba57cb901cac]\n",
      "└ @ Base loading.jl:1186\n",
      "ERROR: LoadError: LoadError: syntax: extra token \"MatlabHDF5File\" after end of expression\n",
      "Stacktrace:\n",
      " [1] include at ./boot.jl:317 [inlined]\n",
      " [2] include_relative(::Module, ::String) at ./loading.jl:1038\n",
      " [3] include at ./sysimg.jl:29 [inlined]\n",
      " [4] include(::String) at /home/ctroupin/.julia/packages/MAT/Pn0pR/src/MAT.jl:27\n",
      " [5] top-level scope at none:0\n",
      " [6] include at ./boot.jl:317 [inlined]\n",
      " [7] include_relative(::Module, ::String) at ./loading.jl:1038\n",
      " [8] include(::Module, ::String) at ./sysimg.jl:29\n",
      " [9] top-level scope at none:2\n",
      " [10] eval at ./boot.jl:319 [inlined]\n",
      " [11] eval(::Expr) at ./client.jl:389\n",
      " [12] top-level scope at ./none:3\n",
      "in expression starting at /home/ctroupin/.julia/packages/MAT/Pn0pR/src/MAT_HDF5.jl:39\n",
      "in expression starting at /home/ctroupin/.julia/packages/MAT/Pn0pR/src/MAT.jl:31\n"
     ]
    },
    {
     "ename": "ErrorException",
     "evalue": "Failed to precompile MAT [23992714-dd62-5051-b70f-ba57cb901cac] to /home/ctroupin/.julia/compiled/v1.0/MAT/3FHIv.ji.",
     "output_type": "error",
     "traceback": [
      "Failed to precompile MAT [23992714-dd62-5051-b70f-ba57cb901cac] to /home/ctroupin/.julia/compiled/v1.0/MAT/3FHIv.ji.",
      "",
      "Stacktrace:",
      " [1] error(::String) at ./error.jl:33",
      " [2] macro expansion at ./logging.jl:313 [inlined]",
      " [3] compilecache(::Base.PkgId, ::String) at ./loading.jl:1184",
      " [4] macro expansion at ./logging.jl:311 [inlined]",
      " [5] _require(::Base.PkgId) at ./loading.jl:941",
      " [6] require(::Base.PkgId) at ./loading.jl:852",
      " [7] macro expansion at ./logging.jl:311 [inlined]",
      " [8] require(::Module, ::Symbol) at ./loading.jl:834",
      " [9] top-level scope at In[13]:1"
     ]
    }
   ],
   "source": [
    "using MAT"
   ]
  },
  {
   "cell_type": "code",
   "execution_count": 9,
   "metadata": {},
   "outputs": [
    {
     "ename": "UndefVarError",
     "evalue": "UndefVarError: matopen not defined",
     "output_type": "error",
     "traceback": [
      "UndefVarError: matopen not defined",
      "",
      "Stacktrace:",
      " [1] top-level scope at In[9]:2"
     ]
    }
   ],
   "source": [
    "matfile = \"data/dan_field.mat\"\n",
    "mf = matopen(matfile)"
   ]
  },
  {
   "cell_type": "markdown",
   "metadata": {},
   "source": [
    "We can get a list of the variables stored in the file:"
   ]
  },
  {
   "cell_type": "code",
   "execution_count": 10,
   "metadata": {},
   "outputs": [
    {
     "ename": "UndefVarError",
     "evalue": "UndefVarError: mf not defined",
     "output_type": "error",
     "traceback": [
      "UndefVarError: mf not defined",
      "",
      "Stacktrace:",
      " [1] top-level scope at In[10]:1"
     ]
    }
   ],
   "source": [
    "varnames = names(mf)"
   ]
  },
  {
   "cell_type": "markdown",
   "metadata": {},
   "source": [
    "and to load one of them, use"
   ]
  },
  {
   "cell_type": "code",
   "execution_count": 11,
   "metadata": {},
   "outputs": [
    {
     "ename": "UndefVarError",
     "evalue": "UndefVarError: mf not defined",
     "output_type": "error",
     "traceback": [
      "UndefVarError: mf not defined",
      "",
      "Stacktrace:",
      " [1] top-level scope at In[11]:1"
     ]
    }
   ],
   "source": [
    "var1 = read(mf, \"f\");\n",
    "@show sizeof(var1);"
   ]
  },
  {
   "cell_type": "markdown",
   "metadata": {},
   "source": [
    "When we're done, don't forget to close the file."
   ]
  },
  {
   "cell_type": "code",
   "execution_count": 12,
   "metadata": {},
   "outputs": [
    {
     "ename": "UndefVarError",
     "evalue": "UndefVarError: mf not defined",
     "output_type": "error",
     "traceback": [
      "UndefVarError: mf not defined",
      "",
      "Stacktrace:",
      " [1] top-level scope at In[12]:1"
     ]
    }
   ],
   "source": [
    "close(mf)"
   ]
  }
 ],
 "metadata": {
  "kernelspec": {
   "display_name": "Julia 1.0.0",
   "language": "julia",
   "name": "julia-1.0"
  },
  "language_info": {
   "file_extension": ".jl",
   "mimetype": "application/julia",
   "name": "julia",
   "version": "1.0.0"
  }
 },
 "nbformat": 4,
 "nbformat_minor": 2
}
