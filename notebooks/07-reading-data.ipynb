{
 "cells": [
  {
   "cell_type": "markdown",
   "metadata": {},
   "source": [
    "# How to read data files?\n",
    "This notebook describes or points to modules for reading data in different file formats and from different sources.\n",
    "\n",
    "| Format        | Tool           | \n",
    "| ------------- |:-------------:| \n",
    "| Delimiter-separated values | [readdlm](https://docs.julialang.org/en/stable/stdlib/io-network/#Base.DataFmt.readdlm-Tuple{Any,Char,Type,Char})\n",
    "| NetCDF        | [NCDatasets.jl](https://github.com/Alexander-Barth/NCDatasets.jl) | \n",
    "| ODV  $^\\star$         | [ODVspreadsheet.jl](https://github.com/gher-ulg/DIVAnd.jl/blob/master/src/ODVspreadsheet.jl) |\n",
    "| GEBCO bathymetry $^\\star$ | [load_mask.jl](https://github.com/gher-ulg/DIVAnd.jl/blob/master/src/load_mask.jl)|\n",
    "| Big files $^\\star$    | [loadbigfile](https://github.com/gher-ulg/DIVAnd.jl/blob/master/src/load_obs.jl) |\n",
    "| NetCDF WOD $^\\star$   | [loadobs](https://github.com/gher-ulg/DIVAnd.jl/blob/master/src/load_obs.jl)\n",
    "| Mat files     | [MAT.jl](https://github.com/JuliaIO/MAT.jl)|\n",
    "\n",
    "$^\\star$ denotes functions or tools available in `DIVAnd.jl`."
   ]
  },
  {
   "cell_type": "code",
   "execution_count": 4,
   "metadata": {},
   "outputs": [],
   "source": [
    "using DIVAnd\n",
    "using DelimitedFiles"
   ]
  },
  {
   "cell_type": "markdown",
   "metadata": {},
   "source": [
    "## Delimiter-separated values files \n",
    "This include the comma-separated values (CSV), the tab-separated values, among others.    \n",
    "We show an example with the NAO indices that we obtain from the [Climate Data Guide](https://climatedataguide.ucar.edu/) website."
   ]
  },
  {
   "cell_type": "code",
   "execution_count": 2,
   "metadata": {},
   "outputs": [
    {
     "name": "stderr",
     "output_type": "stream",
     "text": [
      "  % Total    % Received % Xferd  Average Speed   Time    Time     Time  Current\n",
      "                                 Dload  Upload   Total   Spent    Left  Speed\n",
      "100  1876  100  1876    0     0   2152      0 --:--:-- --:--:-- --:--:--  2151\n"
     ]
    }
   ],
   "source": [
    "download(\"https://climatedataguide.ucar.edu/sites/default/files/nao_station_annual.txt\", \n",
    "    \"./data/nao_station_annual.txt\");"
   ]
  },
  {
   "cell_type": "markdown",
   "metadata": {},
   "source": [
    "If we use the function without option, the number of column is deduced from the header, which lead to empty data columns:"
   ]
  },
  {
   "cell_type": "code",
   "execution_count": 5,
   "metadata": {},
   "outputs": [],
   "source": [
    "dataNAO = DelimitedFiles.readdlm(\"./data/nao_station_annual.txt\");"
   ]
  },
  {
   "cell_type": "markdown",
   "metadata": {},
   "source": [
    "So we indicate that the first line is the header using the option *skipstart*:"
   ]
  },
  {
   "cell_type": "code",
   "execution_count": 8,
   "metadata": {},
   "outputs": [
    {
     "data": {
      "text/plain": [
       "5×2 Array{Float64,2}:\n",
       " 1865.0  -0.66\n",
       " 1866.0  -0.2 \n",
       " 1867.0  -3.04\n",
       " 1868.0   4.14\n",
       " 1869.0   0.42"
      ]
     },
     "execution_count": 8,
     "metadata": {},
     "output_type": "execute_result"
    }
   ],
   "source": [
    "dataNAO = DelimitedFiles.readdlm(\"nao_station_annual.txt\", skipstart=1);\n",
    "dataNAO[1:5, :]"
   ]
  },
  {
   "cell_type": "markdown",
   "metadata": {},
   "source": [
    "## NetCDF\n",
    "\n",
    "The 2 main modules available for the reading and writing if netCDF files are:\n",
    "1. [NetCDF.jl](https://github.com/JuliaGeo/NetCDF.jl)\n",
    "2. [NCDatasets.jl](https://github.com/Alexander-Barth/NCDatasets.jl)\n",
    "\n",
    "An example is provided in this [notebook](./03-netCDF.ipynb)."
   ]
  },
  {
   "cell_type": "markdown",
   "metadata": {},
   "source": [
    "## ODV spreadsheet\n",
    "ODV spreadsheets constitute one of the standard formats in [SeaDataCloud](https://www.seadatanet.org/).        \n",
    "In `DIVAnd`, we provide a tool called [ODVspreadsheet.jl](https://github.com/gher-ulg/DIVAnd.jl/blob/master/src/ODVspreadsheet.jl) designed to read such format.\n",
    "\n",
    "An example is provided in this [notebook](./09-ODV-data-import.ipynb)."
   ]
  },
  {
   "cell_type": "markdown",
   "metadata": {},
   "source": [
    "## Big files\n",
    "The so-called big files are intermediate files using by DIVA and DIVAnd. The format is rather simple: a tab-separated file containing the following variables:\n",
    "1. longitude,\n",
    "2. latitude,\n",
    "3. field value (e.g., temperature, salinity, chlorophyll concentration, ...), \n",
    "4. depth,\n",
    "5. time,\n",
    "6. measurement identifier.\n",
    "\n",
    "In the module [load_obs.jl](https://github.com/gher-ulg/DIVAnd.jl/blob/master/src/load_obs.jl), the function `loadbigfile` allows the reading of such file format.    \n",
    "In the next cell we download a *big file* containing salinity measurements (also used in other examples) and read it using `loadbigfile`."
   ]
  },
  {
   "cell_type": "code",
   "execution_count": 9,
   "metadata": {},
   "outputs": [
    {
     "name": "stderr",
     "output_type": "stream",
     "text": [
      "┌ Info: Data file already downloaded\n",
      "└ @ Main In[9]:5\n",
      "┌ Info: Loading data from 'big file' ./data/Salinity.bigfile\n",
      "└ @ DIVAnd /home/ctroupin/.julia/packages/DIVAnd/bRUC1/src/load_obs.jl:10\n",
      "┌ Warning: `Array{T}(m::Int) where T` is deprecated, use `Array{T}(undef, m)` instead.\n",
      "│   caller = macro expansion at logging.jl:312 [inlined]\n",
      "└ @ Core ./logging.jl:312\n",
      "┌ Warning: `Array{T}(m::Int) where T` is deprecated, use `Array{T}(undef, m)` instead.\n",
      "│   caller = macro expansion at logging.jl:314 [inlined]\n",
      "└ @ Core ./logging.jl:314\n"
     ]
    },
    {
     "name": "stdout",
     "output_type": "stream",
     "text": [
      "length(obsval) = 139230\n"
     ]
    }
   ],
   "source": [
    "fname = \"./data/Salinity.bigfile\"\n",
    "if !isfile(fname)\n",
    "    download(\"https://b2drop.eudat.eu/s/Bv9Fj0YGC0zp2vn/download\",fname)\n",
    "else\n",
    "    @info(\"Data file already downloaded\")\n",
    "end\n",
    "obsval,obslon,obslat,obsdepth,obstime,obsid = loadbigfile(fname);\n",
    "@show(length(obsval));"
   ]
  },
  {
   "cell_type": "markdown",
   "metadata": {
    "collapsed": true
   },
   "source": [
    "## Bathymetry\n",
    "The General Bathymetric Chart of the Oceans [GEBCO](https://www.gebco.net/) (in netCDF) is directly read with `DIVAnd` using the function `load_bath`.  \n",
    "\n",
    "First make sure we have a bathymetry file."
   ]
  },
  {
   "cell_type": "code",
   "execution_count": 10,
   "metadata": {},
   "outputs": [
    {
     "name": "stderr",
     "output_type": "stream",
     "text": [
      "┌ Info: Bathymetry file already downloaded\n",
      "└ @ Main In[10]:5\n"
     ]
    }
   ],
   "source": [
    "bathname = \"gebco_30sec_16.nc\"\n",
    "if !isfile(bathname)\n",
    "    download(\"https://b2drop.eudat.eu/s/ACcxUEZZi6a4ziR/download\",bathname)\n",
    "else\n",
    "    @info(\"Bathymetry file already downloaded\")\n",
    "end"
   ]
  },
  {
   "cell_type": "markdown",
   "metadata": {},
   "source": [
    "Then we have to define the grid on which we need the bathymetry and apply the function."
   ]
  },
  {
   "cell_type": "code",
   "execution_count": 11,
   "metadata": {
    "collapsed": true
   },
   "outputs": [],
   "source": [
    "lonr = -10:0.5:36.\n",
    "latr = 37:0.5:48\n",
    "bx,by,b = load_bath(bathname,true,lonr,latr);"
   ]
  },
  {
   "cell_type": "markdown",
   "metadata": {
    "collapsed": true
   },
   "source": [
    "`bx` and `by` are the same as lonr and latr.    \n",
    "`b` contains the bathymetry values.\n",
    "\n",
    "A complete example is provided in this [notebook](./06-topography.ipynb). "
   ]
  },
  {
   "cell_type": "markdown",
   "metadata": {
    "collapsed": true
   },
   "source": [
    "## Mat files\n",
    "The [MAT](https://github.com/JuliaIO/MAT.jl) module was designed to read the files created by MATLAB (.mat extension).      We use the same .mat file as in [04-OI-variational-analysis-introduction](./04-OI-variational-analysis-introduction.ipynb)."
   ]
  },
  {
   "cell_type": "code",
   "execution_count": 12,
   "metadata": {},
   "outputs": [
    {
     "name": "stderr",
     "output_type": "stream",
     "text": [
      "┌ Info: Recompiling stale cache file /home/ctroupin/.julia/compiled/v0.7/MAT/3FHIv.ji for MAT [23992714-dd62-5051-b70f-ba57cb901cac]\n",
      "└ @ Base loading.jl:1185\n",
      "┌ Warning: Deprecated syntax `type` at /home/ctroupin/.julia/packages/MAT/Pn0pR/src/MAT_HDF5.jl:39.\n",
      "│ Use `mutable struct` instead.\n",
      "└ @ ~/.julia/packages/MAT/Pn0pR/src/MAT_HDF5.jl:39\n",
      "┌ Warning: Deprecated syntax `type` at /home/ctroupin/.julia/packages/MAT/Pn0pR/src/MAT_HDF5.jl:535.\n",
      "│ Use `mutable struct` instead.\n",
      "└ @ ~/.julia/packages/MAT/Pn0pR/src/MAT_HDF5.jl:535\n",
      "┌ Warning: Deprecated syntax `parametric method syntax read_complex{T}(dtype::HDF5Datatype, dset::HDF5Dataset, ::Type{Array{T}})` around /home/ctroupin/.julia/packages/MAT/Pn0pR/src/MAT_HDF5.jl:119.\n",
      "│ Use `read_complex(dtype::HDF5Datatype, dset::HDF5Dataset, #unused#::Type{Array{T}}) where T` instead.\n",
      "└ @ ~/.julia/packages/MAT/Pn0pR/src/MAT_HDF5.jl:119\n",
      "┌ Warning: Deprecated syntax `parametric method syntax m_writetypeattr{T}(dset, ::Type{Complex{T}})` around /home/ctroupin/.julia/packages/MAT/Pn0pR/src/MAT_HDF5.jl:298.\n",
      "│ Use `m_writetypeattr(dset, #unused#::Type{Complex{T}}) where T` instead.\n",
      "└ @ ~/.julia/packages/MAT/Pn0pR/src/MAT_HDF5.jl:298\n",
      "┌ Warning: Deprecated syntax `parametric method syntax m_writearray{T <: HDF5BitsOrBool}(parent::HDF5Parent, name::String, adata::Array{T})` around /home/ctroupin/.julia/packages/MAT/Pn0pR/src/MAT_HDF5.jl:328.\n",
      "│ Use `m_writearray(parent::HDF5Parent, name::String, adata::Array{T}) where T <: HDF5BitsOrBool` instead.\n",
      "└ @ ~/.julia/packages/MAT/Pn0pR/src/MAT_HDF5.jl:328\n",
      "┌ Warning: Deprecated syntax `parametric method syntax m_writearray{T <: HDF5BitsOrBool}(parent::HDF5Parent, name::String, adata::Array{Complex{T}})` around /home/ctroupin/.julia/packages/MAT/Pn0pR/src/MAT_HDF5.jl:340.\n",
      "│ Use `m_writearray(parent::HDF5Parent, name::String, adata::Array{Complex{T}}) where T <: HDF5BitsOrBool` instead.\n",
      "└ @ ~/.julia/packages/MAT/Pn0pR/src/MAT_HDF5.jl:340\n",
      "┌ Warning: Deprecated syntax `parametric method syntax m_write{T <: HDF5BitsOrBool}(mfile::MatlabHDF5File, parent::HDF5Parent, name::String, data::Union{T, Complex{T}, Array{T}, Array{Complex{T}}})` around /home/ctroupin/.julia/packages/MAT/Pn0pR/src/MAT_HDF5.jl:362.\n",
      "│ Use `m_write(mfile::MatlabHDF5File, parent::HDF5Parent, name::String, data::Union{T, Complex{T}, Array{T}, Array{Complex{T}}}) where T <: HDF5BitsOrBool` instead.\n",
      "└ @ ~/.julia/packages/MAT/Pn0pR/src/MAT_HDF5.jl:362\n",
      "┌ Warning: Deprecated syntax `parametric method syntax m_write{T}(mfile::MatlabHDF5File, parent::HDF5Parent, name::String, data::SparseMatrixCSC{T})` around /home/ctroupin/.julia/packages/MAT/Pn0pR/src/MAT_HDF5.jl:376.\n",
      "│ Use `m_write(mfile::MatlabHDF5File, parent::HDF5Parent, name::String, data::SparseMatrixCSC{T}) where T` instead.\n",
      "└ @ ~/.julia/packages/MAT/Pn0pR/src/MAT_HDF5.jl:376\n",
      "WARNING: importing deprecated binding Base.SparseMatrixCSC into MAT_HDF5.\n",
      "WARNING: Base.SparseMatrixCSC is deprecated, run `using SparseArrays` to load sparse array functionality\n",
      "  likely near /home/ctroupin/.julia/packages/MAT/Pn0pR/src/MAT_HDF5.jl:375\n",
      "┌ Warning: Deprecated syntax `parametric method syntax m_write{T}(mfile::MatlabHDF5File, parent::HDF5Parent, name::String, data::Array{T})` around /home/ctroupin/.julia/packages/MAT/Pn0pR/src/MAT_HDF5.jl:429.\n",
      "│ Use `m_write(mfile::MatlabHDF5File, parent::HDF5Parent, name::String, data::Array{T}) where T` instead.\n",
      "└ @ ~/.julia/packages/MAT/Pn0pR/src/MAT_HDF5.jl:429\n",
      "WARNING: importing deprecated binding Base.Associative into MAT_HDF5.\n",
      "WARNING: Base.Associative is deprecated, use AbstractDict instead.\n",
      "  likely near /home/ctroupin/.julia/packages/MAT/Pn0pR/src/MAT_HDF5.jl:508\n",
      "┌ Warning: Deprecated syntax `type` at /home/ctroupin/.julia/packages/MAT/Pn0pR/src/MAT_v5.jl:41.\n",
      "│ Use `mutable struct` instead.\n",
      "└ @ ~/.julia/packages/MAT/Pn0pR/src/MAT_v5.jl:41\n",
      "┌ Warning: Deprecated syntax `parametric method syntax read_bswap{T}(f::IO, swap_bytes::Bool, ::Type{T})` around /home/ctroupin/.julia/packages/MAT/Pn0pR/src/MAT_v5.jl:87.\n",
      "│ Use `read_bswap(f::IO, swap_bytes::Bool, #unused#::Type{T}) where T` instead.\n",
      "└ @ ~/.julia/packages/MAT/Pn0pR/src/MAT_v5.jl:87\n",
      "┌ Warning: Deprecated syntax `parametric method syntax read_bswap{T}(f::IO, swap_bytes::Bool, ::Type{T}, dim::Union{Int, Tuple{Vararg{Int}}})` around /home/ctroupin/.julia/packages/MAT/Pn0pR/src/MAT_v5.jl:90.\n",
      "│ Use `read_bswap(f::IO, swap_bytes::Bool, #unused#::Type{T}, dim::Union{Int, Tuple{Vararg{Int}}}) where T` instead.\n",
      "└ @ ~/.julia/packages/MAT/Pn0pR/src/MAT_v5.jl:90\n",
      "┌ Warning: Deprecated syntax `parametric method syntax read_element{T}(f::IO, swap_bytes::Bool, ::Type{T})` around /home/ctroupin/.julia/packages/MAT/Pn0pR/src/MAT_v5.jl:118.\n",
      "│ Use `read_element(f::IO, swap_bytes::Bool, #unused#::Type{T}) where T` instead.\n",
      "└ @ ~/.julia/packages/MAT/Pn0pR/src/MAT_v5.jl:118\n",
      "┌ Warning: Deprecated syntax `parametric method syntax read_data{T}(f::IO, swap_bytes::Bool, ::Type{T}, dimensions::Vector{Int32})` around /home/ctroupin/.julia/packages/MAT/Pn0pR/src/MAT_v5.jl:137.\n",
      "│ Use `read_data(f::IO, swap_bytes::Bool, #unused#::Type{T}, dimensions::Vector{Int32}) where T` instead.\n",
      "└ @ ~/.julia/packages/MAT/Pn0pR/src/MAT_v5.jl:137\n",
      "┌ Warning: Deprecated syntax `parametric method syntax matwrite{S, T}(filename::AbstractString, dict::Associative{S, T})` around /home/ctroupin/.julia/packages/MAT/Pn0pR/src/MAT.jl:147.\n",
      "│ Use `matwrite(filename::AbstractString, dict::Associative{S, T}) where {S, T}` instead.\n",
      "└ @ ~/.julia/packages/MAT/Pn0pR/src/MAT.jl:147\n",
      "WARNING: importing deprecated binding Base.Associative into MAT.\n",
      "WARNING: Base.Associative is deprecated, use AbstractDict instead.\n",
      "  likely near /home/ctroupin/.julia/packages/MAT/Pn0pR/src/MAT.jl:140\n",
      "WARNING: Base.Associative is deprecated, use AbstractDict instead.\n",
      "  likely near /home/ctroupin/.julia/packages/MAT/Pn0pR/src/MAT.jl:140\n"
     ]
    }
   ],
   "source": [
    "using MAT"
   ]
  },
  {
   "cell_type": "code",
   "execution_count": 14,
   "metadata": {},
   "outputs": [
    {
     "name": "stderr",
     "output_type": "stream",
     "text": [
      "┌ Warning: `Array{T, 1}(m::Int) where T` is deprecated, use `Array{T, 1}(undef, m)` instead.\n",
      "│   caller = matopen(::String, ::Bool, ::Bool, ::Bool, ::Bool, ::Bool) at MAT.jl:56\n",
      "└ @ MAT /home/ctroupin/.julia/packages/MAT/Pn0pR/src/MAT.jl:56\n"
     ]
    },
    {
     "data": {
      "text/plain": [
       "MAT.MAT_v5.Matlabv5File(IOStream(<file data/dan_field.mat>), false, #undef)"
      ]
     },
     "execution_count": 14,
     "metadata": {},
     "output_type": "execute_result"
    }
   ],
   "source": [
    "matfile = \"data/dan_field.mat\"\n",
    "mf = matopen(matfile)"
   ]
  },
  {
   "cell_type": "markdown",
   "metadata": {},
   "source": [
    "We can get a list of the variables stored in the file:"
   ]
  },
  {
   "cell_type": "code",
   "execution_count": 15,
   "metadata": {},
   "outputs": [
    {
     "name": "stderr",
     "output_type": "stream",
     "text": [
      "┌ Warning: `Array{T}(m::Int) where T` is deprecated, use `Array{T}(undef, m)` instead.\n",
      "│   caller = read_bswap(::IOStream, ::Bool, ::Type{UInt32}, ::Int64) at MAT_v5.jl:90\n",
      "└ @ MAT.MAT_v5 /home/ctroupin/.julia/packages/MAT/Pn0pR/src/MAT_v5.jl:90\n",
      "┌ Warning: `Array{T}(m::Int) where T` is deprecated, use `Array{T}(undef, m)` instead.\n",
      "│   caller = read_bswap(::IOStream, ::Bool, ::Type{Int32}, ::Int64) at MAT_v5.jl:90\n",
      "└ @ MAT.MAT_v5 /home/ctroupin/.julia/packages/MAT/Pn0pR/src/MAT_v5.jl:90\n",
      "┌ Warning: `Array{T}(m::Int) where T` is deprecated, use `Array{T}(undef, m)` instead.\n",
      "│   caller = read_bswap(::IOStream, ::Bool, ::Type{UInt8}, ::Int64) at MAT_v5.jl:90\n",
      "└ @ MAT.MAT_v5 /home/ctroupin/.julia/packages/MAT/Pn0pR/src/MAT_v5.jl:90\n"
     ]
    },
    {
     "data": {
      "text/plain": [
       "Base.KeySet for a Dict{String,Int64} with 3 entries. Keys:\n",
       "  \"f\"\n",
       "  \"Fe\"\n",
       "  \"F\""
      ]
     },
     "execution_count": 15,
     "metadata": {},
     "output_type": "execute_result"
    }
   ],
   "source": [
    "varnames = names(mf)"
   ]
  },
  {
   "cell_type": "markdown",
   "metadata": {},
   "source": [
    "and to load one of them, use"
   ]
  },
  {
   "cell_type": "code",
   "execution_count": 16,
   "metadata": {},
   "outputs": [
    {
     "name": "stdout",
     "output_type": "stream",
     "text": [
      "sizeof(var1) = 20000\n"
     ]
    },
    {
     "name": "stderr",
     "output_type": "stream",
     "text": [
      "WARNING: importing deprecated binding Base.SparseMatrixCSC into MAT_v5.\n",
      "WARNING: Base.SparseMatrixCSC is deprecated, run `using SparseArrays` to load sparse array functionality\n",
      "  likely near /home/ctroupin/.julia/packages/IJulia/9RcVi/src/kernel.jl:32\n",
      "WARNING: Base.SparseMatrixCSC is deprecated, run `using SparseArrays` to load sparse array functionality\n",
      "  likely near /home/ctroupin/.julia/packages/IJulia/9RcVi/src/kernel.jl:32\n",
      "WARNING: Base.SparseMatrixCSC is deprecated, run `using SparseArrays` to load sparse array functionality\n",
      "  likely near /home/ctroupin/.julia/packages/IJulia/9RcVi/src/kernel.jl:32\n",
      "WARNING: Base.SparseMatrixCSC is deprecated, run `using SparseArrays` to load sparse array functionality\n",
      "  likely near /home/ctroupin/.julia/packages/IJulia/9RcVi/src/kernel.jl:32\n",
      "WARNING: Base.SparseMatrixCSC is deprecated, run `using SparseArrays` to load sparse array functionality\n",
      "  likely near /home/ctroupin/.julia/packages/IJulia/9RcVi/src/kernel.jl:32\n",
      "WARNING: Base.SparseMatrixCSC is deprecated, run `using SparseArrays` to load sparse array functionality\n",
      "  likely near /home/ctroupin/.julia/packages/IJulia/9RcVi/src/kernel.jl:32\n",
      "WARNING: Base.SparseMatrixCSC is deprecated, run `using SparseArrays` to load sparse array functionality\n",
      "  likely near /home/ctroupin/.julia/packages/IJulia/9RcVi/src/kernel.jl:32\n",
      "WARNING: Base.SparseMatrixCSC is deprecated, run `using SparseArrays` to load sparse array functionality\n",
      "  likely near /home/ctroupin/.julia/packages/IJulia/9RcVi/src/kernel.jl:32\n",
      "WARNING: Base.SparseMatrixCSC is deprecated, run `using SparseArrays` to load sparse array functionality\n",
      "  likely near /home/ctroupin/.julia/packages/IJulia/9RcVi/src/kernel.jl:32\n",
      "WARNING: Base.SparseMatrixCSC is deprecated, run `using SparseArrays` to load sparse array functionality\n",
      "  likely near /home/ctroupin/.julia/packages/IJulia/9RcVi/src/kernel.jl:32\n",
      "WARNING: Base.SparseMatrixCSC is deprecated, run `using SparseArrays` to load sparse array functionality\n",
      "  likely near /home/ctroupin/.julia/packages/IJulia/9RcVi/src/kernel.jl:32\n",
      "WARNING: Base.SparseMatrixCSC is deprecated, run `using SparseArrays` to load sparse array functionality\n",
      "  likely near /home/ctroupin/.julia/packages/IJulia/9RcVi/src/kernel.jl:32\n",
      "WARNING: Base.SparseMatrixCSC is deprecated, run `using SparseArrays` to load sparse array functionality\n",
      "  likely near /home/ctroupin/.julia/packages/IJulia/9RcVi/src/kernel.jl:32\n",
      "WARNING: Base.SparseMatrixCSC is deprecated, run `using SparseArrays` to load sparse array functionality\n",
      "  likely near /home/ctroupin/.julia/packages/IJulia/9RcVi/src/kernel.jl:32\n",
      "WARNING: Base.SparseMatrixCSC is deprecated, run `using SparseArrays` to load sparse array functionality\n",
      "  likely near /home/ctroupin/.julia/packages/IJulia/9RcVi/src/kernel.jl:32\n",
      "in read_sparse at /home/ctroupin/.julia/packages/MAT/Pn0pR/src/MAT_v5.jl\n",
      "WARNING: Base.SparseMatrixCSC is deprecated, run `using SparseArrays` to load sparse array functionality\n",
      "  likely near /home/ctroupin/.julia/packages/IJulia/9RcVi/src/kernel.jl:32\n",
      "in read_sparse at /home/ctroupin/.julia/packages/MAT/Pn0pR/src/MAT_v5.jl\n",
      "┌ Warning: `Array{T}(d::NTuple{N, Int}) where {T, N}` is deprecated, use `Array{T}(undef, d)` instead.\n",
      "│   caller = read_bswap(::IOStream, ::Bool, ::Type{Float64}, ::Tuple{Int64,Int64}) at MAT_v5.jl:90\n",
      "└ @ MAT.MAT_v5 /home/ctroupin/.julia/packages/MAT/Pn0pR/src/MAT_v5.jl:90\n"
     ]
    }
   ],
   "source": [
    "var1 = read(mf, \"f\");\n",
    "@show sizeof(var1);"
   ]
  },
  {
   "cell_type": "markdown",
   "metadata": {},
   "source": [
    "When we're done, don't forget to close the file."
   ]
  },
  {
   "cell_type": "code",
   "execution_count": 17,
   "metadata": {
    "collapsed": true
   },
   "outputs": [],
   "source": [
    "close(mf)"
   ]
  }
 ],
 "metadata": {
  "kernelspec": {
   "display_name": "Julia 0.7.0",
   "language": "julia",
   "name": "julia-0.7"
  },
  "language_info": {
   "file_extension": ".jl",
   "mimetype": "application/julia",
   "name": "julia",
   "version": "0.7.0"
  }
 },
 "nbformat": 4,
 "nbformat_minor": 2
}
