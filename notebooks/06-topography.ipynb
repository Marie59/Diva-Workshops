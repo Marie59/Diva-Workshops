{
 "cells": [
  {
   "cell_type": "markdown",
   "metadata": {},
   "source": [
    "# Reading and editing a topography\n",
    "A topograph/bathymetry is needed to create the domain of interpolation (land-sea mask). The topography/bathymetry is usually extracted from a netCDF file.     \n",
    "Adapted topographies:\n",
    "* General Bathymetric Chart of the Oceans ([GEBCO](https://www.gebco.net/))\n",
    "* [EMODnet Bathymetry](http://www.emodnet-bathymetry.eu)\n",
    "* Other topographies can be used as long as they define the netCDF variables `lon`, `lat` and `bat` (positive above sea-level and negative below, in `DIVAnd` however, the convention is that `z` is positive in sea water).\n",
    "\n",
    "This notebook illustrates how the land-sea mask can be modified, for example to exclude a lake."
   ]
  },
  {
   "cell_type": "code",
   "execution_count": 2,
   "metadata": {},
   "outputs": [
    {
     "name": "stderr",
     "output_type": "stream",
     "text": [
      "┌ Info: Precompiling DIVAnd [efc8151c-67de-5a8f-9a35-d8f54746ae9d]\n",
      "└ @ Base loading.jl:1186\n",
      "ERROR: LoadError: LoadError: UndefVarError: Void not defined\n",
      "Stacktrace:\n",
      " [1] top-level scope at none:0\n",
      " [2] include at ./boot.jl:317 [inlined]\n",
      " [3] include_relative(::Module, ::String) at ./loading.jl:1038\n",
      " [4] include at ./sysimg.jl:29 [inlined]\n",
      " [5] include(::String) at /home/ctroupin/.julia/dev/Mustache/src/Mustache.jl:2\n",
      " [6] top-level scope at none:0\n",
      " [7] include at ./boot.jl:317 [inlined]\n",
      " [8] include_relative(::Module, ::String) at ./loading.jl:1038\n",
      " [9] include(::Module, ::String) at ./sysimg.jl:29\n",
      " [10] top-level scope at none:2\n",
      " [11] eval at ./boot.jl:319 [inlined]\n",
      " [12] eval(::Expr) at ./client.jl:389\n",
      " [13] top-level scope at ./none:3\n",
      "in expression starting at /home/ctroupin/.julia/dev/Mustache/src/utils.jl:23\n",
      "in expression starting at /home/ctroupin/.julia/dev/Mustache/src/Mustache.jl:6\n",
      "ERROR: LoadError: Failed to precompile Mustache [ffc61752-8dc7-55ee-8c37-f3e9cdd09e70] to /home/ctroupin/.julia/compiled/v1.0/Mustache/iK5hJ.ji.\n",
      "Stacktrace:\n",
      " [1] error(::String) at ./error.jl:33\n",
      " [2] macro expansion at ./logging.jl:313 [inlined]\n",
      " [3] compilecache(::Base.PkgId, ::String) at ./loading.jl:1184\n",
      " [4] _require(::Base.PkgId) at ./logging.jl:311\n",
      " [5] require(::Base.PkgId) at ./loading.jl:852\n",
      " [6] macro expansion at ./logging.jl:311 [inlined]\n",
      " [7] require(::Module, ::Symbol) at ./loading.jl:834\n",
      " [8] include at ./boot.jl:317 [inlined]\n",
      " [9] include_relative(::Module, ::String) at ./loading.jl:1038\n",
      " [10] include(::Module, ::String) at ./sysimg.jl:29\n",
      " [11] top-level scope at none:2\n",
      " [12] eval at ./boot.jl:319 [inlined]\n",
      " [13] eval(::Expr) at ./client.jl:389\n",
      " [14] top-level scope at ./none:3\n",
      "in expression starting at /home/ctroupin/.julia/packages/DIVAnd/cmOcE/src/DIVAnd.jl:11\n"
     ]
    },
    {
     "ename": "LoadError",
     "evalue": "Failed to precompile DIVAnd [efc8151c-67de-5a8f-9a35-d8f54746ae9d] to /home/ctroupin/.julia/compiled/v1.0/DIVAnd/AaVxY.ji.",
     "output_type": "error",
     "traceback": [
      "Failed to precompile DIVAnd [efc8151c-67de-5a8f-9a35-d8f54746ae9d] to /home/ctroupin/.julia/compiled/v1.0/DIVAnd/AaVxY.ji.",
      "",
      "Stacktrace:",
      " [1] error(::String) at ./error.jl:33",
      " [2] macro expansion at ./logging.jl:313 [inlined]",
      " [3] compilecache(::Base.PkgId, ::String) at ./loading.jl:1184",
      " [4] macro expansion at ./logging.jl:311 [inlined]",
      " [5] _require(::Base.PkgId) at ./loading.jl:941",
      " [6] require(::Base.PkgId) at ./loading.jl:852",
      " [7] macro expansion at ./logging.jl:311 [inlined]",
      " [8] require(::Module, ::Symbol) at ./loading.jl:834"
     ]
    }
   ],
   "source": [
    "using DIVAnd"
   ]
  },
  {
   "cell_type": "markdown",
   "metadata": {},
   "source": [
    "The full EMODnet Bathymetry is a quite big file (~1GB) that can be obtained from the bathymetry portal: http://portal.emodnet-bathymetry.eu/?menu=19. In the present notebook we will work with the GEBCO bathymetry with a resolution that has been decreased.\n",
    "\n",
    "Note that an extremely fine bathymetry is not necessary when working on large domains."
   ]
  },
  {
   "cell_type": "markdown",
   "metadata": {},
   "source": [
    "## Data download and domain selection\n",
    "We create a domain encompassing the north of Corsica."
   ]
  },
  {
   "cell_type": "code",
   "execution_count": 3,
   "metadata": {},
   "outputs": [
    {
     "name": "stderr",
     "output_type": "stream",
     "text": [
      "┌ Info: Bathymetry file already downloaded\n",
      "└ @ Main In[3]:15\n"
     ]
    }
   ],
   "source": [
    "dx = dy = 0.125\n",
    "lonr = 2.5:dx:12.\n",
    "latr = 42.3:dy:44.6\n",
    "\n",
    "# https://b2drop.eudat.eu/s/ACcxUEZZi6a4ziR/download  gebco_30sec_4.nc\n",
    "# https://b2drop.eudat.eu/s/x83MSV8yUF934bL/download  gebco_30sec_8.nc\n",
    "# https://b2drop.eudat.eu/s/o0vinoQutAC7eb0/download  gebco_30sec_16.nc\n",
    "\n",
    "bathname = \"gebco_30sec_8.nc\"\n",
    "\n",
    "if !isfile(bathname)\n",
    "    @info(\"Download bathymetry\")\n",
    "    download(\"https://b2drop.eudat.eu/s/x83MSV8yUF934bL/download\",bathname)\n",
    "else\n",
    "    @info(\"Bathymetry file already downloaded\")\n",
    "end\n",
    "\n",
    "bathisglobal = true;"
   ]
  },
  {
   "cell_type": "markdown",
   "metadata": {},
   "source": [
    "We have two main tools to load the bathymetry:\n",
    "1. `DIVAnd.extract_bath` loads the bathymetry at the resolution defined in the netCDF file while \n",
    "2. `DIVAnd.load_bath` reduces the resolution to match the resolution of the analysis."
   ]
  },
  {
   "cell_type": "markdown",
   "metadata": {},
   "source": [
    "### Extract bathymetry"
   ]
  },
  {
   "cell_type": "code",
   "execution_count": 4,
   "metadata": {},
   "outputs": [
    {
     "name": "stdout",
     "output_type": "stream",
     "text": [
      "search: \u001b[0m\u001b[1me\u001b[22m\u001b[0m\u001b[1mx\u001b[22m\u001b[0m\u001b[1mt\u001b[22m\u001b[0m\u001b[1mr\u001b[22m\u001b[0m\u001b[1ma\u001b[22m\u001b[0m\u001b[1mc\u001b[22m\u001b[0m\u001b[1mt\u001b[22m\u001b[0m\u001b[1m_\u001b[22m\u001b[0m\u001b[1mb\u001b[22m\u001b[0m\u001b[1ma\u001b[22m\u001b[0m\u001b[1mt\u001b[22m\u001b[0m\u001b[1mh\u001b[22m\n",
      "\n"
     ]
    },
    {
     "data": {
      "text/markdown": [
       "```\n",
       "bx,by,b = DIVAnd.extract_bath(bath_name,isglobal,xi,yi)\n",
       "```\n",
       "\n",
       "Extract the bathymetry from the NetCDF file `bathname`. The parameter `isglobal`  is true if the NetCDF file covers the whole globe and thus the last longitude point can be considered to be right next to the first longitude point. `xi` and `yi` are vectors defining the bounding box of the data. No interpolation is performed.\n",
       "\n",
       "**Convention:** b is positive in the water and negative in the air.\n"
      ],
      "text/plain": [
       "\u001b[36m  bx,by,b = DIVAnd.extract_bath(bath_name,isglobal,xi,yi)\u001b[39m\n",
       "\n",
       "  Extract the bathymetry from the NetCDF file \u001b[36mbathname\u001b[39m. The parameter \u001b[36misglobal\u001b[39m\n",
       "  is true if the NetCDF file covers the whole globe and thus the last\n",
       "  longitude point can be considered to be right next to the first longitude\n",
       "  point. \u001b[36mxi\u001b[39m and \u001b[36myi\u001b[39m are vectors defining the bounding box of the data. No\n",
       "  interpolation is performed.\n",
       "\n",
       "  \u001b[1mConvention:\u001b[22m b is positive in the water and negative in the air."
      ]
     },
     "execution_count": 4,
     "metadata": {},
     "output_type": "execute_result"
    }
   ],
   "source": [
    "?extract_bath"
   ]
  },
  {
   "cell_type": "code",
   "execution_count": 6,
   "metadata": {},
   "outputs": [
    {
     "name": "stdout",
     "output_type": "stream",
     "text": [
      "size(b) = (147, 39)\n"
     ]
    },
    {
     "name": "stderr",
     "output_type": "stream",
     "text": [
      "┌ Warning: The default `strides(a::AbstractArray)` implementation is deprecated for general arrays.\n",
      "│ Specialize `strides(::LinearAlgebra.Adjoint)` if `LinearAlgebra.Adjoint` indeed uses a strided representation in memory.\n",
      "│ Warning: inappropriately implementing this method for an array type that does not use strided\n",
      "│ storage may lead to incorrect results or segfaults.\n",
      "│   caller = stride at abstractarray.jl:350 [inlined]\n",
      "└ @ Core ./abstractarray.jl:350\n",
      "┌ Warning: The default `strides(a::AbstractArray)` implementation is deprecated for general arrays.\n",
      "│ Specialize `strides(::LinearAlgebra.Adjoint)` if `LinearAlgebra.Adjoint` indeed uses a strided representation in memory.\n",
      "│ Warning: inappropriately implementing this method for an array type that does not use strided\n",
      "│ storage may lead to incorrect results or segfaults.\n",
      "│   caller = stride at abstractarray.jl:350 [inlined]\n",
      "└ @ Core ./abstractarray.jl:350\n",
      "WARNING: Base.mean is deprecated: it has been moved to the standard library package `Statistics`.\n",
      "Add `using Statistics` to your imports.\n",
      "  likely near In[6]:5\n",
      "┌ Warning: The start/next/done iteration protocol is deprecated. Implement `iterate(::PyCall.PyDict{Symbol,PyCall.PyObject,true})`.\n",
      "│   caller = ip:0x0\n",
      "└ @ Core :-1\n",
      "WARNING: Force throwing a SIGINT\n"
     ]
    },
    {
     "ename": "PyCall.PyError",
     "evalue": "PyError ($(Expr(:escape, :(ccall(#= /home/ctroupin/.julia/packages/PyCall/fiJ3o/src/PyCall.jl:714 =# @pysym(:PyObject_Call), PyPtr, (PyPtr, PyPtr, PyPtr), o, arg, kw))))) <class 'KeyboardInterrupt'>\nKeyboardInterrupt('Julia exception: InterruptException()',)\n  File \"/home/ctroupin/.julia/packages/Conda/m7vem/deps/usr/lib/python3.6/site-packages/matplotlib/backend_bases.py\", line 2263, in print_figure\n    **kwargs)\n  File \"/home/ctroupin/.julia/packages/Conda/m7vem/deps/usr/lib/python3.6/site-packages/matplotlib/backends/backend_svg.py\", line 1210, in print_svg\n    result = self._print_svg(filename, fh, **kwargs)\n  File \"/home/ctroupin/.julia/packages/Conda/m7vem/deps/usr/lib/python3.6/site-packages/matplotlib/backends/backend_svg.py\", line 1240, in _print_svg\n    self.figure.draw(renderer)\n  File \"/home/ctroupin/.julia/packages/Conda/m7vem/deps/usr/lib/python3.6/site-packages/matplotlib/artist.py\", line 55, in draw_wrapper\n    return draw(artist, renderer, *args, **kwargs)\n  File \"/home/ctroupin/.julia/packages/Conda/m7vem/deps/usr/lib/python3.6/site-packages/matplotlib/figure.py\", line 1475, in draw\n    renderer, self, artists, self.suppressComposite)\n  File \"/home/ctroupin/.julia/packages/Conda/m7vem/deps/usr/lib/python3.6/site-packages/matplotlib/image.py\", line 141, in _draw_list_compositing_images\n    a.draw(renderer)\n  File \"/home/ctroupin/.julia/packages/Conda/m7vem/deps/usr/lib/python3.6/site-packages/matplotlib/artist.py\", line 55, in draw_wrapper\n    return draw(artist, renderer, *args, **kwargs)\n  File \"/home/ctroupin/.julia/packages/Conda/m7vem/deps/usr/lib/python3.6/site-packages/matplotlib/axes/_base.py\", line 2607, in draw\n    mimage._draw_list_compositing_images(renderer, self, artists)\n  File \"/home/ctroupin/.julia/packages/Conda/m7vem/deps/usr/lib/python3.6/site-packages/matplotlib/image.py\", line 141, in _draw_list_compositing_images\n    a.draw(renderer)\n  File \"/home/ctroupin/.julia/packages/Conda/m7vem/deps/usr/lib/python3.6/site-packages/matplotlib/artist.py\", line 55, in draw_wrapper\n    return draw(artist, renderer, *args, **kwargs)\n  File \"/home/ctroupin/.julia/packages/Conda/m7vem/deps/usr/lib/python3.6/site-packages/matplotlib/collections.py\", line 911, in draw\n    Collection.draw(self, renderer)\n  File \"/home/ctroupin/.julia/packages/Conda/m7vem/deps/usr/lib/python3.6/site-packages/matplotlib/artist.py\", line 55, in draw_wrapper\n    return draw(artist, renderer, *args, **kwargs)\n  File \"/home/ctroupin/.julia/packages/Conda/m7vem/deps/usr/lib/python3.6/site-packages/matplotlib/collections.py\", line 337, in draw\n    self._offset_position)\n  File \"/home/ctroupin/.julia/packages/Conda/m7vem/deps/usr/lib/python3.6/site-packages/matplotlib/backends/backend_svg.py\", line 649, in draw_path_collection\n    offset_position)\n  File \"/home/ctroupin/.julia/packages/Conda/m7vem/deps/usr/lib/python3.6/site-packages/matplotlib/backend_bases.py\", line 357, in draw_path_collection\n    self.draw_path(gc0, path, transform, rgbFace)\n  File \"/home/ctroupin/.julia/packages/Conda/m7vem/deps/usr/lib/python3.6/site-packages/matplotlib/backends/backend_svg.py\", line 585, in draw_path\n    self.writer.element('path', d=path_data, attrib=attrib)\n  File \"/home/ctroupin/.julia/packages/Conda/m7vem/deps/usr/lib/python3.6/site-packages/matplotlib/backends/backend_svg.py\", line 219, in element\n    self.start(*(tag, attrib), **extra)\n  File \"/home/ctroupin/.julia/packages/Conda/m7vem/deps/usr/lib/python3.6/site-packages/matplotlib/backends/backend_svg.py\", line 146, in start\n    self.__write(self.__indentation[:len(self.__tags) - 1])\n  File \"PyCall\", line 1, in <lambda>\n",
     "output_type": "error",
     "traceback": [
      "PyError ($(Expr(:escape, :(ccall(#= /home/ctroupin/.julia/packages/PyCall/fiJ3o/src/PyCall.jl:714 =# @pysym(:PyObject_Call), PyPtr, (PyPtr, PyPtr, PyPtr), o, arg, kw))))) <class 'KeyboardInterrupt'>\nKeyboardInterrupt('Julia exception: InterruptException()',)\n  File \"/home/ctroupin/.julia/packages/Conda/m7vem/deps/usr/lib/python3.6/site-packages/matplotlib/backend_bases.py\", line 2263, in print_figure\n    **kwargs)\n  File \"/home/ctroupin/.julia/packages/Conda/m7vem/deps/usr/lib/python3.6/site-packages/matplotlib/backends/backend_svg.py\", line 1210, in print_svg\n    result = self._print_svg(filename, fh, **kwargs)\n  File \"/home/ctroupin/.julia/packages/Conda/m7vem/deps/usr/lib/python3.6/site-packages/matplotlib/backends/backend_svg.py\", line 1240, in _print_svg\n    self.figure.draw(renderer)\n  File \"/home/ctroupin/.julia/packages/Conda/m7vem/deps/usr/lib/python3.6/site-packages/matplotlib/artist.py\", line 55, in draw_wrapper\n    return draw(artist, renderer, *args, **kwargs)\n  File \"/home/ctroupin/.julia/packages/Conda/m7vem/deps/usr/lib/python3.6/site-packages/matplotlib/figure.py\", line 1475, in draw\n    renderer, self, artists, self.suppressComposite)\n  File \"/home/ctroupin/.julia/packages/Conda/m7vem/deps/usr/lib/python3.6/site-packages/matplotlib/image.py\", line 141, in _draw_list_compositing_images\n    a.draw(renderer)\n  File \"/home/ctroupin/.julia/packages/Conda/m7vem/deps/usr/lib/python3.6/site-packages/matplotlib/artist.py\", line 55, in draw_wrapper\n    return draw(artist, renderer, *args, **kwargs)\n  File \"/home/ctroupin/.julia/packages/Conda/m7vem/deps/usr/lib/python3.6/site-packages/matplotlib/axes/_base.py\", line 2607, in draw\n    mimage._draw_list_compositing_images(renderer, self, artists)\n  File \"/home/ctroupin/.julia/packages/Conda/m7vem/deps/usr/lib/python3.6/site-packages/matplotlib/image.py\", line 141, in _draw_list_compositing_images\n    a.draw(renderer)\n  File \"/home/ctroupin/.julia/packages/Conda/m7vem/deps/usr/lib/python3.6/site-packages/matplotlib/artist.py\", line 55, in draw_wrapper\n    return draw(artist, renderer, *args, **kwargs)\n  File \"/home/ctroupin/.julia/packages/Conda/m7vem/deps/usr/lib/python3.6/site-packages/matplotlib/collections.py\", line 911, in draw\n    Collection.draw(self, renderer)\n  File \"/home/ctroupin/.julia/packages/Conda/m7vem/deps/usr/lib/python3.6/site-packages/matplotlib/artist.py\", line 55, in draw_wrapper\n    return draw(artist, renderer, *args, **kwargs)\n  File \"/home/ctroupin/.julia/packages/Conda/m7vem/deps/usr/lib/python3.6/site-packages/matplotlib/collections.py\", line 337, in draw\n    self._offset_position)\n  File \"/home/ctroupin/.julia/packages/Conda/m7vem/deps/usr/lib/python3.6/site-packages/matplotlib/backends/backend_svg.py\", line 649, in draw_path_collection\n    offset_position)\n  File \"/home/ctroupin/.julia/packages/Conda/m7vem/deps/usr/lib/python3.6/site-packages/matplotlib/backend_bases.py\", line 357, in draw_path_collection\n    self.draw_path(gc0, path, transform, rgbFace)\n  File \"/home/ctroupin/.julia/packages/Conda/m7vem/deps/usr/lib/python3.6/site-packages/matplotlib/backends/backend_svg.py\", line 585, in draw_path\n    self.writer.element('path', d=path_data, attrib=attrib)\n  File \"/home/ctroupin/.julia/packages/Conda/m7vem/deps/usr/lib/python3.6/site-packages/matplotlib/backends/backend_svg.py\", line 219, in element\n    self.start(*(tag, attrib), **extra)\n  File \"/home/ctroupin/.julia/packages/Conda/m7vem/deps/usr/lib/python3.6/site-packages/matplotlib/backends/backend_svg.py\", line 146, in start\n    self.__write(self.__indentation[:len(self.__tags) - 1])\n  File \"PyCall\", line 1, in <lambda>\n",
      "",
      "Stacktrace:",
      " [1] macro expansion at /home/ctroupin/.julia/packages/PyCall/fiJ3o/src/exception.jl:60 [inlined]",
      " [2] #_pycall#82(::Base.Iterators.Pairs{Symbol,String,Tuple{Symbol,Symbol},NamedTuple{(:format, :bbox_inches),Tuple{String,String}}}, ::Function, ::PyCall.PyObject, ::IOContext{Base.GenericIOBuffer{Array{UInt8,1}}}) at /home/ctroupin/.julia/packages/PyCall/fiJ3o/src/PyCall.jl:701",
      " [3] #_pycall at ./none:0 [inlined]",
      " [4] #pycall#86 at /home/ctroupin/.julia/packages/PyCall/fiJ3o/src/PyCall.jl:731 [inlined]",
      " [5] #pycall at ./none:0 [inlined]",
      " [6] #call#87 at /home/ctroupin/.julia/packages/PyCall/fiJ3o/src/PyCall.jl:734 [inlined]",
      " [7] PyObject at ./none:0 [inlined]",
      " [8] show(::IOContext{Base.GenericIOBuffer{Array{UInt8,1}}}, ::MIME{Symbol(\"image/svg+xml\")}, ::Figure) at /home/ctroupin/.julia/packages/PyPlot/jXCXB/src/PyPlot.jl:78",
      " [9] limitstringmime at /home/ctroupin/.julia/packages/IJulia/9RcVi/src/inline.jl:36 [inlined]",
      " [10] display_dict(::Figure) at /home/ctroupin/.julia/packages/IJulia/9RcVi/src/execute_request.jl:38",
      " [11] display(::IJulia.InlineDisplay, ::Figure) at /home/ctroupin/.julia/packages/IJulia/9RcVi/src/inline.jl:88",
      " [12] display(::Figure) at ./multimedia.jl:287",
      " [13] display_figs() at /home/ctroupin/.julia/packages/PyPlot/jXCXB/src/PyPlot.jl:114",
      " [14] #invokelatest#1 at ./essentials.jl:691 [inlined]",
      " [15] invokelatest at ./essentials.jl:690 [inlined]",
      " [16] execute_request(::ZMQ.Socket, ::IJulia.Msg) at /home/ctroupin/.julia/packages/IJulia/9RcVi/src/execute_request.jl:194",
      " [17] #invokelatest#1 at ./essentials.jl:691 [inlined]",
      " [18] invokelatest at ./essentials.jl:690 [inlined]",
      " [19] eventloop(::ZMQ.Socket) at /home/ctroupin/.julia/packages/IJulia/9RcVi/src/eventloop.jl:8",
      " [20] (::getfield(IJulia, Symbol(\"##15#18\")))() at ./task.jl:262"
     ]
    }
   ],
   "source": [
    "bx,by,b = extract_bath(bathname,true,lonr,latr)\n",
    "@show size(b);\n",
    "\n",
    "pcolor(bx,by,b'); colorbar(orientation=\"horizontal\")\n",
    "gca()[:set_aspect](1/cos(mean([ylim()...]) * pi/180))"
   ]
  },
  {
   "cell_type": "markdown",
   "metadata": {},
   "source": [
    "### Load bathymetry\n",
    "With a change of its original resolution"
   ]
  },
  {
   "cell_type": "code",
   "execution_count": null,
   "metadata": {
    "collapsed": true
   },
   "outputs": [],
   "source": [
    "?load_bath"
   ]
  },
  {
   "cell_type": "code",
   "execution_count": null,
   "metadata": {
    "collapsed": true
   },
   "outputs": [],
   "source": [
    "bx,by,b = load_bath(bathname,true,lonr,latr)\n",
    "\n",
    "pcolor(bx,by,b'); \n",
    "colorbar(orientation=\"horizontal\")\n",
    "gca()[:set_aspect](1/cos(mean([ylim()...]) * pi/180))\n",
    "\n",
    "#@show size(b)"
   ]
  },
  {
   "cell_type": "markdown",
   "metadata": {},
   "source": [
    "## Mask creation\n",
    "We start by defining the mask as a 3D matrix containing only `False`, then we set the values to `True` when the actual depth is deeper than the selected values stored in the vector `depthr`."
   ]
  },
  {
   "cell_type": "code",
   "execution_count": null,
   "metadata": {
    "collapsed": true
   },
   "outputs": [],
   "source": [
    "depthr = [0,10,20,500]\n",
    "mask = falses(size(b,1),size(b,2),length(depthr))\n",
    "\n",
    "for k = 1:length(depthr)\n",
    "    for j = 1:size(b,2)\n",
    "        for i = 1:size(b,1)\n",
    "            mask[i,j,k] = b[i,j] >= depthr[k]\n",
    "        end\n",
    "    end\n",
    "end"
   ]
  },
  {
   "cell_type": "markdown",
   "metadata": {},
   "source": [
    "Another solution is to use the `load_mask` function:"
   ]
  },
  {
   "cell_type": "code",
   "execution_count": null,
   "metadata": {
    "collapsed": true
   },
   "outputs": [],
   "source": [
    "xmask,ymask,mmask = load_mask(bathname,true,lonr,latr,depthr);"
   ]
  },
  {
   "cell_type": "code",
   "execution_count": null,
   "metadata": {
    "collapsed": true,
    "scrolled": true
   },
   "outputs": [],
   "source": [
    "pcolor(bx,by,Float64.(mask[:,:,1])'); \n",
    "colorbar(orientation=\"horizontal\")\n",
    "gca()[:set_aspect](1/cos(mean([ylim()...]) * pi/180)) # fixes the aspect ratio"
   ]
  },
  {
   "cell_type": "code",
   "execution_count": null,
   "metadata": {
    "collapsed": true
   },
   "outputs": [],
   "source": [
    "pcolor(xmask,ymask,Float64.(mmask[:,:,1])'); \n",
    "colorbar(orientation=\"horizontal\")\n",
    "gca()[:set_aspect](1/cos(mean([ylim()...]) * pi/180)) # fixes the aspect ratio"
   ]
  },
  {
   "cell_type": "markdown",
   "metadata": {},
   "source": [
    "## Mask editing\n",
    "To edit the mask, you can either modify directly its value if you know the indices, or you can use a selection based on the coordinates.\n",
    "### Create an artificial island\n",
    "We simply modify the mask at a given location."
   ]
  },
  {
   "cell_type": "code",
   "execution_count": null,
   "metadata": {
    "collapsed": true
   },
   "outputs": [],
   "source": [
    "# Create a copy of the mask for ediding\n",
    "mask_copy = copy(mask);\n",
    "mask_copy[63,8,:] = false"
   ]
  },
  {
   "cell_type": "code",
   "execution_count": null,
   "metadata": {
    "collapsed": true
   },
   "outputs": [],
   "source": [
    "pcolor(bx, by, Float64.(mask_copy[:,:,1])'); \n",
    "colorbar(orientation=\"horizontal\")\n",
    "gca()[:set_aspect](1/cos(mean([ylim()...]) * pi/180))"
   ]
  },
  {
   "cell_type": "markdown",
   "metadata": {},
   "source": [
    "### Remove an island (based on indices)"
   ]
  },
  {
   "cell_type": "code",
   "execution_count": null,
   "metadata": {
    "collapsed": true
   },
   "outputs": [],
   "source": [
    "mask_copy = copy(mask);\n",
    "mask_copy[48:59,1:10,:] = true"
   ]
  },
  {
   "cell_type": "code",
   "execution_count": null,
   "metadata": {
    "collapsed": true
   },
   "outputs": [],
   "source": [
    "pcolor(bx, by, Float64.(mask_copy[:,:,1])'); \n",
    "colorbar(orientation=\"horizontal\")\n",
    "gca()[:set_aspect](1/cos(mean([ylim()...]) * pi/180))"
   ]
  },
  {
   "cell_type": "markdown",
   "metadata": {},
   "source": [
    "### Remove an island (based on coordinates). Recommended approach as you can change resolution easily\n",
    "`sel_lon` and `sel_lat` are obtained by checking the longitude and latitudes."
   ]
  },
  {
   "cell_type": "code",
   "execution_count": null,
   "metadata": {
    "collapsed": true
   },
   "outputs": [],
   "source": [
    "mask_copy = copy(mask);\n",
    "sel_lon = (bx.>8) .& (bx.<10.);\n",
    "sel_lat = (by.<43.25);\n",
    "mask_copy[sel_lon, sel_lat, :]=true;\n",
    "pcolor(bx, by, Float64.(mask_copy[:,:,1])'); \n",
    "colorbar(orientation=\"horizontal\")\n",
    "gca()[:set_aspect](1/cos(mean([ylim()...]) * pi/180))"
   ]
  },
  {
   "cell_type": "code",
   "execution_count": null,
   "metadata": {
    "collapsed": true
   },
   "outputs": [],
   "source": [
    "sel_lon"
   ]
  },
  {
   "cell_type": "markdown",
   "metadata": {
    "collapsed": true
   },
   "source": [
    "## Exercice\n",
    "1. Load the bathymetry around the Black Sea.\n",
    "2. Create a land sea mask for the following levels: 0, 150, 500 and 1000 meters.\n",
    "3. Remove the Seas of Azov and the Sea of Marmara.\n",
    "4. Plot the results.\n",
    "\n",
    "The solution is available in [06-topography-BlackSea](./solutions/06-topography-BlackSea) and should look like this:\n",
    "\n",
    "<img src=\"./Images/BlackSea_mask.png\" width=\"250px\">"
   ]
  }
 ],
 "metadata": {
  "kernelspec": {
   "display_name": "Julia 0.7.0",
   "language": "julia",
   "name": "julia-0.7"
  },
  "language_info": {
   "file_extension": ".jl",
   "mimetype": "application/julia",
   "name": "julia",
   "version": "0.7.0"
  }
 },
 "nbformat": 4,
 "nbformat_minor": 2
}
