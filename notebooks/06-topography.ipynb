{
 "cells": [
  {
   "cell_type": "markdown",
   "metadata": {},
   "source": [
    "# Reading and editing a topography\n",
    "A topograph/bathymetry is needed to create the domain of interpolation (land-sea mask). The topography/bathymetry is usually extracted from a netCDF file.     \n",
    "Adapted topographies:\n",
    "* General Bathymetric Chart of the Oceans ([GEBCO](https://www.gebco.net/))\n",
    "* [EMODnet Bathymetry](http://www.emodnet-bathymetry.eu)\n",
    "* Other topographies can be used as long as they define the netCDF variables `lon`, `lat` and `bat` (positive above sea-level and negative below, in `DIVAnd` however, the convention is that `z` is positive in sea water).\n",
    "\n",
    "This notebook illustrates how the land-sea mask can be modified, for example to exclude a lake."
   ]
  },
  {
   "cell_type": "code",
   "execution_count": null,
   "metadata": {
    "collapsed": true
   },
   "outputs": [],
   "source": [
    "using DIVAnd\n",
    "using PyPlot\n",
    "if VERSION >= v\"0.7.0-beta.0\"\n",
    "    using Dates\n",
    "    using Statistics\n",
    "else\n",
    "    using Compat: @info, @warn, @debug\n",
    "end\n",
    "using Compat"
   ]
  },
  {
   "cell_type": "markdown",
   "metadata": {},
   "source": [
    "The full EMODnet Bathymetry is a quite big file (~1GB) that can be obtained from the bathymetry portal: http://portal.emodnet-bathymetry.eu/?menu=19. In the present notebook we will work with the GEBCO bathymetry with a resolution that has been decreased.\n",
    "\n",
    "Note that an extremely fine bathymetry is not necessary when working on large domains."
   ]
  },
  {
   "cell_type": "markdown",
   "metadata": {},
   "source": [
    "## Data download and domain selection\n",
    "We create a domain encompassing the north of Corsica."
   ]
  },
  {
   "cell_type": "code",
   "execution_count": null,
   "metadata": {
    "collapsed": true
   },
   "outputs": [],
   "source": [
    "dx = dy = 0.125\n",
    "lonr = 2.5:dx:12.\n",
    "latr = 42.3:dy:44.6\n",
    "\n",
    "# https://b2drop.eudat.eu/s/ACcxUEZZi6a4ziR/download  gebco_30sec_4.nc\n",
    "# https://b2drop.eudat.eu/s/x83MSV8yUF934bL/download  gebco_30sec_8.nc\n",
    "# https://b2drop.eudat.eu/s/o0vinoQutAC7eb0/download  gebco_30sec_16.nc\n",
    "\n",
    "bathname = \"gebco_30sec_8.nc\"\n",
    "\n",
    "if !isfile(bathname)\n",
    "    @info(\"Download bathymetry\")\n",
    "    download(\"https://b2drop.eudat.eu/s/x83MSV8yUF934bL/download\",bathname)\n",
    "else\n",
    "    @info(\"Bathymetry file already downloaded\")\n",
    "end\n",
    "\n",
    "bathisglobal = true;"
   ]
  },
  {
   "cell_type": "markdown",
   "metadata": {},
   "source": [
    "We have two main tools to load the bathymetry:\n",
    "1. `DIVAnd.extract_bath` loads the bathymetry at the resolution defined in the netCDF file while \n",
    "2. `DIVAnd.load_bath` reduces the resolution to match the resolution of the analysis."
   ]
  },
  {
   "cell_type": "markdown",
   "metadata": {},
   "source": [
    "### Extract bathymetry"
   ]
  },
  {
   "cell_type": "code",
   "execution_count": null,
   "metadata": {
    "collapsed": true
   },
   "outputs": [],
   "source": [
    "?extract_bath"
   ]
  },
  {
   "cell_type": "code",
   "execution_count": null,
   "metadata": {
    "collapsed": true
   },
   "outputs": [],
   "source": [
    "bx,by,b = extract_bath(bathname,true,lonr,latr)\n",
    "@show size(b);"
   ]
  },
  {
   "cell_type": "code",
   "execution_count": null,
   "metadata": {
    "collapsed": true
   },
   "outputs": [],
   "source": [
    "pcolor(bx, by, permutedims(b, [2, 1])); \n",
    "colorbar(orientation=\"horizontal\")\n",
    "gca()[:set_aspect](1/cos(mean([ylim()...]) * pi/180))"
   ]
  },
  {
   "cell_type": "markdown",
   "metadata": {},
   "source": [
    "### Load bathymetry\n",
    "With a change of its original resolution"
   ]
  },
  {
   "cell_type": "code",
   "execution_count": null,
   "metadata": {
    "collapsed": true
   },
   "outputs": [],
   "source": [
    "?load_bath"
   ]
  },
  {
   "cell_type": "code",
   "execution_count": null,
   "metadata": {
    "collapsed": true
   },
   "outputs": [],
   "source": [
    "bx,by,b = load_bath(bathname,true,lonr,latr)\n",
    "\n",
    "pcolor(bx,by,permutedims(b, [2, 1])); \n",
    "colorbar(orientation=\"horizontal\")\n",
    "gca()[:set_aspect](1/cos(mean([ylim()...]) * pi/180))\n",
    "\n",
    "#@show size(b)"
   ]
  },
  {
   "cell_type": "markdown",
   "metadata": {},
   "source": [
    "## Mask creation\n",
    "We start by defining the mask as a 3D matrix containing only `False`, then we set the values to `True` when the actual depth is deeper than the selected values stored in the vector `depthr`."
   ]
  },
  {
   "cell_type": "code",
   "execution_count": null,
   "metadata": {
    "collapsed": true
   },
   "outputs": [],
   "source": [
    "depthr = [0,10,20,500]\n",
    "mask = falses(size(b,1),size(b,2),length(depthr))\n",
    "\n",
    "for k = 1:length(depthr)\n",
    "    for j = 1:size(b,2)\n",
    "        for i = 1:size(b,1)\n",
    "            mask[i,j,k] = b[i,j] >= depthr[k]\n",
    "        end\n",
    "    end\n",
    "end"
   ]
  },
  {
   "cell_type": "code",
   "execution_count": null,
   "metadata": {
    "collapsed": true,
    "scrolled": true
   },
   "outputs": [],
   "source": [
    "pcolor(bx,by,Float64.(permutedims(mask[:,:,1], [2, 1])))\n",
    "colorbar(orientation=\"horizontal\")\n",
    "gca()[:set_aspect](1/cos(mean([ylim()...]) * pi/180)) # fixes the aspect ratio"
   ]
  },
  {
   "cell_type": "markdown",
   "metadata": {},
   "source": [
    "Another solution is to use the `load_mask` function:"
   ]
  },
  {
   "cell_type": "code",
   "execution_count": null,
   "metadata": {
    "collapsed": true
   },
   "outputs": [],
   "source": [
    "xmask,ymask,mmask = load_mask(bathname,true,lonr,latr,depthr);"
   ]
  },
  {
   "cell_type": "code",
   "execution_count": null,
   "metadata": {
    "collapsed": true
   },
   "outputs": [],
   "source": [
    "pcolor(xmask,ymask,Float64.(permutedims(mask[:,:,1], [2, 1]))); \n",
    "colorbar(orientation=\"horizontal\")\n",
    "gca()[:set_aspect](1/cos(mean([ylim()...]) * pi/180)) # fixes the aspect ratio"
   ]
  },
  {
   "cell_type": "markdown",
   "metadata": {},
   "source": [
    "## Mask editing\n",
    "To edit the mask, you can either modify directly its value if you know the indices, or you can use a selection based on the coordinates.\n",
    "### Create an artificial island\n",
    "We simply modify the mask at a given location."
   ]
  },
  {
   "cell_type": "code",
   "execution_count": null,
   "metadata": {
    "collapsed": true
   },
   "outputs": [],
   "source": [
    "# Create a copy of the mask for ediding\n",
    "mask_copy = copy(mask);\n",
    "mask_copy[63,8,:] .= false;"
   ]
  },
  {
   "cell_type": "code",
   "execution_count": null,
   "metadata": {
    "collapsed": true
   },
   "outputs": [],
   "source": [
    "pcolor(bx, by, Float64.(permutedims(mask_copy[:,:,1], [2, 1]))); \n",
    "colorbar(orientation=\"horizontal\")\n",
    "gca()[:set_aspect](1/cos(mean([ylim()...]) * pi/180))"
   ]
  },
  {
   "cell_type": "markdown",
   "metadata": {},
   "source": [
    "### Remove an island (based on indices)"
   ]
  },
  {
   "cell_type": "code",
   "execution_count": null,
   "metadata": {
    "collapsed": true
   },
   "outputs": [],
   "source": [
    "mask_copy = copy(mask);\n",
    "mask_copy[48:59,1:10,:] .= true;"
   ]
  },
  {
   "cell_type": "code",
   "execution_count": null,
   "metadata": {
    "collapsed": true
   },
   "outputs": [],
   "source": [
    "pcolor(bx, by, Float64.(permutedims(mask_copy[:,:,1], [2, 1]))); \n",
    "colorbar(orientation=\"horizontal\")\n",
    "gca()[:set_aspect](1/cos(Statistics.mean([ylim()...]) * pi/180))"
   ]
  },
  {
   "cell_type": "markdown",
   "metadata": {},
   "source": [
    "### Remove an island (based on coordinates). \n",
    "\n",
    "This is the recommended approach as you can change resolution easily\n",
    "`sel_lon` and `sel_lat` are obtained by checking the longitude and latitudes."
   ]
  },
  {
   "cell_type": "code",
   "execution_count": null,
   "metadata": {
    "collapsed": true
   },
   "outputs": [],
   "source": [
    "mask_copy = copy(mask);\n",
    "sel_lon = (bx.>8) .& (bx.<10.);\n",
    "sel_lat = (by.<43.25);\n",
    "mask_copy[sel_lon, sel_lat, :] .= true;\n",
    "pcolor(bx, by, Float64.(permutedims(mask_copy[:,:,1], [2, 1]))); \n",
    "colorbar(orientation=\"horizontal\")\n",
    "gca()[:set_aspect](1/cos(Statistics.mean([ylim()...]) * pi/180))"
   ]
  },
  {
   "cell_type": "code",
   "execution_count": null,
   "metadata": {
    "collapsed": true
   },
   "outputs": [],
   "source": [
    "@show sel_lon;"
   ]
  },
  {
   "cell_type": "markdown",
   "metadata": {
    "collapsed": true
   },
   "source": [
    "## Exercice\n",
    "1. Load the bathymetry around the Black Sea.\n",
    "2. Create a land sea mask for the following levels: 0, 150, 500 and 1000 meters.\n",
    "3. Remove the Sea of Azov and the Sea of Marmara.\n",
    "4. Plot the result.\n",
    "\n",
    "The solution is available in [06-topography-BlackSea](./solutions/06-topography-BlackSea.ipynb) and should look like this:\n",
    "\n",
    "<img src=\"./Images/BlackSea_mask.png\" width=\"250px\">"
   ]
  }
 ],
 "metadata": {
  "kernelspec": {
   "display_name": "Julia 1.0.0",
   "language": "julia",
   "name": "julia-1.0"
  },
  "language_info": {
   "file_extension": ".jl",
   "mimetype": "application/julia",
   "name": "julia",
   "version": "1.0.0"
  }
 },
 "nbformat": 4,
 "nbformat_minor": 2
}
