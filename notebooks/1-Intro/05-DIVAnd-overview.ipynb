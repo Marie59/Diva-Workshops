{
 "cells": [
  {
   "cell_type": "markdown",
   "metadata": {
    "slideshow": {
     "slide_type": "slide"
    }
   },
   "source": [
    "# Overview of DIVAnd\n",
    "\n",
    "`DIVAnd` is **not** a new release of [`DIVA`](https://github.com/gher-uliege/DIVA), it is another software tool with different \n",
    "\n",
    "algorithms,      \n",
    "functionalities and     \n",
    "language."
   ]
  },
  {
   "cell_type": "markdown",
   "metadata": {
    "slideshow": {
     "slide_type": "slide"
    }
   },
   "source": [
    "## Let's compare apples and oranges\n",
    "\n",
    "![](./Images/appels_and_oranges.jpg)\n",
    "* _Äpfel mit Birnen vergleichen_\n",
    "* _Comparer des choux et des carottes_\n",
    "* _Paragonare cavoli e patate_ (compare cabbages and potatoes)"
   ]
  },
  {
   "cell_type": "markdown",
   "metadata": {
    "slideshow": {
     "slide_type": "subslide"
    }
   },
   "source": [
    "For a single 2D analysis (surface salinity in the Black Sea) on Intel Xeon CPU E5-2650.     \n",
    "DIVA was compiled with the Intel Fortran Compiler.\n",
    "\n",
    "|     | DIVA - Fortran | DIVAnd - julia |\n",
    "|----|----------------|----------------|\n",
    "| mesh             | triangular | structured | \n",
    "| deg. of freedom  |    236296 |  236317 |\n",
    "| correlation length | 0.19    | 0.19 |\n",
    "| CPU time | 43.8 s | 8.7 s |\n",
    "\n",
    "* However, a triangular mesh is greatly more flexible than a structured mesh and has $C_1$ continuity\n",
    "* The main advantage of `DIVAnd` is that it can work on more than just 2 dimensions (but the requirements of RAM memory increase also)."
   ]
  },
  {
   "cell_type": "markdown",
   "metadata": {},
   "source": [
    "## On public servers (cloud)\n",
    "\n",
    "1. Register at https://www.marine-id.org/\n",
    "2. Go to the SeaDataCloud VRE at: https://orca.dkrz.de/\n",
    "\n",
    "<img src=\"./Images/vre_login.png\" width=\"450px\">\n",
    "\n",
    "3. Enter your Marine ID credentials\n",
    "<img src=\"./Images/vre_login2.png\" width=\"450px\">\n",
    "\n",
    "4. Confirm that the displayed information can be shared with the SeaDataNet VRE application\n",
    "<img src=\"./Images/vre_login3.png\" width=\"450px\">\n",
    "\n",
    "5. Open private workspace first as advised\n",
    "<img src=\"./Images/vre_login4.png\" width=\"450px\">\n",
    "\n",
    "6. Open DIVAnd Jupyter-notebooks\n",
    "<img src=\"./Images/vre_login5.png\" width=\"450px\">\n",
    "\n",
    "7. Open folders \"work\" and then \"DIVAnd-Workshop\"\n"
   ]
  },
  {
   "cell_type": "markdown",
   "metadata": {
    "slideshow": {
     "slide_type": "slide"
    }
   },
   "source": [
    "# Primary functions\n",
    "\n",
    "* `DIVAndrun`: Implements the DIVA alogorithm in N dimensions on a structured grid.\n",
    "* `DIVAndgo`: Split the domain in overlapping subdomains and calls `DIVAndrun` on every subdomain (to reduce the memory consumption).\n",
    "* `diva`: High-level function which selects the appropriate data."
   ]
  },
  {
   "cell_type": "markdown",
   "metadata": {
    "slideshow": {
     "slide_type": "subslide"
    }
   },
   "source": [
    "## Issues to avoid\n",
    "\n",
    "* Julia code can be quite efficient if the types can be inferred or explicetly declared. \n",
    "* When types are explicitly declared, some flexibility is lost. For instance the type of the e.g. correlation length and error covariance must be real numbers and not integers. For example:\n",
    "\n",
    "```julia\n",
    "len = (5,5.5) # avoid this (5 is an integer and 5.5 is a floating number)\n",
    "```\n",
    "\n",
    "use rather this:\n",
    "\n",
    "```julia\n",
    "len = (5.,5.5) # this is fine (5. and 5.5 are floating numbers)\n",
    "```"
   ]
  }
 ],
 "metadata": {
  "@webio": {
   "lastCommId": null,
   "lastKernelId": null
  },
  "kernelspec": {
   "display_name": "Julia 1.8.0",
   "language": "julia",
   "name": "julia-1.8"
  },
  "language_info": {
   "file_extension": ".jl",
   "mimetype": "application/julia",
   "name": "julia",
   "version": "1.8.0"
  }
 },
 "nbformat": 4,
 "nbformat_minor": 2
}
