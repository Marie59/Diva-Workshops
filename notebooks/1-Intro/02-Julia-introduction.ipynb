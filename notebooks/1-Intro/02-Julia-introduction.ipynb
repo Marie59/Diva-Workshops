{
 "cells": [
  {
   "cell_type": "markdown",
   "metadata": {},
   "source": [
    "# Introduction to Julia\n",
    "\n",
    "Julia is a high-level programming language for technical computing which allows you to manipulate and analyse large data sets.\n",
    "\n",
    "## Why Julia?\n",
    " * Julia is build from the ground for techical computing. \n",
    " * The language is close to the mathematical notation, for example to define a function $f(x) = 2x + 3$ in Julia is:\n",
    "\n",
    "```julia\n",
    "f(x) = 2x + 3\n",
    "```\n",
    "  \n",
    " * Julia is free and open-source software.\n",
    " * Julia's code is compiled to machine code and loops can be as fast as in other compiled languages (like Fortran or C).\n",
    "\n",
    "\n",
    "## Instructions for installing Julia on your laptop\n",
    "\n",
    "1. Go to http://julialang.org/downloads/ and follow the instructions.\n",
    "2. Install one editors with support for Julia (such as [Juno](http://junolab.org/), notepad++, emacs... or even vim)."
   ]
  },
  {
   "cell_type": "markdown",
   "metadata": {},
   "source": [
    "### Ways to run Julia:\n",
    "\n",
    "#### Command line\n",
    "\n",
    "Tips:\n",
    "\n",
    "* Use the `Tab` key to complete file, variable and function names\n",
    "* `Up` and `down arrows` key to repeat a previously entered command\n",
    "* `Control-R` to search a command\n",
    "* On Windows enable \"[quick edit](https://www.tekrevue.com/tip/boost-productivity-quickedit-mode-windows-command-prompt/)\" for easier copy and pasting\n",
    "![cmd](Images/julia-commandline.png)"
   ]
  },
  {
   "cell_type": "markdown",
   "metadata": {},
   "source": [
    "#### Jupyter notebook (web-browser)\n",
    "\n",
    "* Web-interface for Julia (among others)\n",
    "* The Julia package `IJulia` which also installs Jupyter http://jupyter.org/\n",
    "* Various [keyboard shortcuts](https://www.cheatography.com/weidadeyue/cheat-sheets/jupyter-notebook/) are defined to be productive with jupyter notebooks\n",
    "* General documentation of [Jupyter Notebooks](http://jupyter-notebook.readthedocs.io)\n",
    "\n",
    "![cmd](Images/julia-jupyter.png)"
   ]
  },
  {
   "cell_type": "markdown",
   "metadata": {},
   "source": [
    "#### Juno\n",
    "\n",
    "* Based on the Atom editor from GitHub\n",
    "* Integrates an editor, command line and documentation browser\n",
    "* Available from http://junolab.org/\n",
    "\n",
    "![atom](Images/julia-atom.png)"
   ]
  },
  {
   "cell_type": "markdown",
   "metadata": {},
   "source": [
    "http://localhost:8889/notebooks/1-Intro/02-Julia-introduction.ipynb## Julia documentation\n",
    "\n",
    "* The manual: https://docs.julialang.org\n",
    "* Tutorials and books: https://julialang.org/learning/\n",
    "\n",
    "\n",
    "## Comparision with other languages\n",
    "\n",
    "[Noteworthy Differences from other Languages](https://docs.julialang.org/en/stable/manual/noteworthy-differences/).\n",
    "\n",
    "Julia is mostly influenced by MATLAB, but there are some siginificant differences.\n",
    "\n",
    "### Differences from MATLAB\n",
    "* Julia arrays are indexed with square brackets: `A[i,j]`.\n",
    "* Julia arrays are assigned by reference. After `A=B`, changing elements of `B` will modify `A` as well. If you need to copy an array, use `b = copy(a)`.\n",
    "* Julia function parameters are passed and assigned by reference. If a function modifies an array, the changes will be visible in the caller.\n",
    "* A bang (!) indicates if a function changes one of its argument\n",
    "* In Julia, parentheses must be used to call a function with zero arguments, like in `tic()` and `toc()`.\n",
    "* Julia's single quotes enclose characters, not strings.\n",
    "* Julia does not automatically grow arrays in an assignment statement. \n",
    "* Scope of variables in a loop is local: \n",
    "\n",
    "```julia\n",
    "   for i = 1:10\n",
    "        z = i\n",
    "   end\n",
    "```\n",
    "\n",
    "  will result in undefined z after the loop unless defined before the loop \n",
    "* In MATLAB, ranges are sometimes enclosed with brackets, e.g. `[1:10]`. This is also valid Julia code, but it generates a vector whose single element is a range from 1 to 10. To declare a range in Julia, simply use `1:10` without the brackets.\n",
    "\n",
    "### Differences from Python\n",
    "* Julia requires `end` keyword to end a block (loop, condition, ...).\n",
    "* In Julia, indexing of arrays, strings, etc. is 1-based not 0-based.\n",
    "* Julia's slice indexing includes the last element, unlike in Python. `a[2:3]` in Julia is `a[1:3]` in Python.\n",
    "* Julia does not support negative indexes. In particular, the last element of a list or array is indexed with `end` in Julia, not `-1` as in Python.\n",
    "\n",
    "[MATLAB–Python–Julia cheatsheet](https://cheatsheets.quantecon.org/)\n",
    "\n",
    "* Julia is compiled\n",
    "   * For loop are fast, but\n",
    "   * Loading modules is slower than in other languages\n",
    "   * Sometimes Julia needs to be restarted (in IJulia the kernel needs to be restarted) when e.g. a module is changed."
   ]
  },
  {
   "cell_type": "markdown",
   "metadata": {},
   "source": [
    "# First steps in Julia\n",
    "\n",
    "## Numbers\n",
    "\n",
    "* Use a dot (.) as decimal separator (e.g. 3.14 and not 3,14)\n",
    "* You can use the scientific notation $a \\times 10^{-b}$ using the e-notation. (e.g. $3 \\times10^{-7}$ becomes 3e-7) \n",
    "* Use Julia as a calculator:"
   ]
  },
  {
   "cell_type": "code",
   "execution_count": 1,
   "metadata": {},
   "outputs": [
    {
     "data": {
      "text/plain": [
       "3.0e-7"
      ]
     },
     "execution_count": 1,
     "metadata": {},
     "output_type": "execute_result"
    }
   ],
   "source": [
    "3e-7"
   ]
  },
  {
   "cell_type": "code",
   "execution_count": 2,
   "metadata": {},
   "outputs": [
    {
     "data": {
      "text/plain": [
       "2.0"
      ]
     },
     "execution_count": 2,
     "metadata": {},
     "output_type": "execute_result"
    }
   ],
   "source": [
    "4/2"
   ]
  },
  {
   "cell_type": "code",
   "execution_count": 3,
   "metadata": {},
   "outputs": [
    {
     "data": {
      "text/plain": [
       "7.0"
      ]
     },
     "execution_count": 3,
     "metadata": {},
     "output_type": "execute_result"
    }
   ],
   "source": [
    "1 + 3 * 4/2 "
   ]
  },
  {
   "cell_type": "markdown",
   "metadata": {},
   "source": [
    "The usual operator precedence applies."
   ]
  },
  {
   "cell_type": "markdown",
   "metadata": {},
   "source": [
    "## Useful constants\n",
    "\n",
    "Various constants are also pre-defined:     \n",
    "π: pi (3.141592...)     \n",
    "e: Euler's number (2.7182818...)     \n",
    "im: the imaginary number (im² = -1)     \n",
    "Inf (Infinity, result from e.g. 1/0) and     \n",
    "NaN (Not a Number - result from e.g. 0/0).\n",
    "\n",
    "**Examples:**"
   ]
  },
  {
   "cell_type": "code",
   "execution_count": 4,
   "metadata": {},
   "outputs": [
    {
     "data": {
      "text/plain": [
       "π = 3.1415926535897..."
      ]
     },
     "execution_count": 4,
     "metadata": {},
     "output_type": "execute_result"
    }
   ],
   "source": [
    "π "
   ]
  },
  {
   "cell_type": "markdown",
   "metadata": {},
   "source": [
    "[*Euler's identity*](https://en.wikipedia.org/wiki/Euler%27s_identity) (should be -1):"
   ]
  },
  {
   "cell_type": "code",
   "execution_count": 5,
   "metadata": {},
   "outputs": [
    {
     "data": {
      "text/plain": [
       "-1.0 - 1.2246467991473532e-16im"
      ]
     },
     "execution_count": 5,
     "metadata": {},
     "output_type": "execute_result"
    }
   ],
   "source": [
    "exp(-im * π)"
   ]
  },
  {
   "cell_type": "markdown",
   "metadata": {},
   "source": [
    "## Variables\n",
    "\n",
    "* Numbers (and any other data type) can be put into variables\n",
    "* The value of a variable is referenced by its name\n",
    "* A variable name can be composed by letters (a-z and A-Z, including greek letters, accents,...), numbers (0-9), underscore (_) and some unicode symbols (like greek letters). The first character cannot be a number.\n",
    "\n",
    "**Example:**"
   ]
  },
  {
   "cell_type": "code",
   "execution_count": 6,
   "metadata": {},
   "outputs": [
    {
     "data": {
      "text/plain": [
       "21"
      ]
     },
     "execution_count": 6,
     "metadata": {},
     "output_type": "execute_result"
    }
   ],
   "source": [
    "temp = 21"
   ]
  },
  {
   "cell_type": "markdown",
   "metadata": {},
   "source": [
    "This one is not valid (starts with a digits):\n",
    "```julia\n",
    "2temp = 1.\n",
    "```\n",
    "\n",
    "Produces the error:\n",
    "```\n",
    "syntax: \"2\" is not a valid function argument name\n",
    "```\n",
    "\n"
   ]
  },
  {
   "cell_type": "markdown",
   "metadata": {},
   "source": [
    "To see the content of the variable `temp`, use the [`@show`](https://docs.julialang.org/en/latest/base/base/#Base.@show) macro:"
   ]
  },
  {
   "cell_type": "code",
   "execution_count": 7,
   "metadata": {},
   "outputs": [
    {
     "name": "stdout",
     "output_type": "stream",
     "text": [
      "temp = 21\n"
     ]
    }
   ],
   "source": [
    "@show temp;"
   ]
  },
  {
   "cell_type": "markdown",
   "metadata": {},
   "source": [
    "Any expression can now include the variable `temp`:"
   ]
  },
  {
   "cell_type": "code",
   "execution_count": 8,
   "metadata": {},
   "outputs": [
    {
     "data": {
      "text/plain": [
       "42"
      ]
     },
     "execution_count": 8,
     "metadata": {},
     "output_type": "execute_result"
    }
   ],
   "source": [
    "2 * temp"
   ]
  },
  {
   "cell_type": "markdown",
   "metadata": {},
   "source": [
    "* The variable `temp` has now the value 21. The value of the variable can be changed later on.\n",
    "* An assignment without a final semicolon echoes its value to the screen\n",
    "* Careful: the value of constants can be overwritten. The following is allowed but not encouraged:\n",
    "    \t\n",
    "```julia        \n",
    "    pi = 3; # do not do this\n",
    "```\n",
    "* However, if you explicitely define a variable as a constant, trying to modify it will result in a warning."
   ]
  },
  {
   "cell_type": "code",
   "execution_count": 9,
   "metadata": {},
   "outputs": [
    {
     "name": "stderr",
     "output_type": "stream",
     "text": [
      "WARNING: redefinition of constant kb. This may fail, cause incorrect answers, or produce other errors.\n"
     ]
    },
    {
     "data": {
      "text/plain": [
       "1.38e-23"
      ]
     },
     "execution_count": 9,
     "metadata": {},
     "output_type": "execute_result"
    }
   ],
   "source": [
    "const kb = 1.38064852e-23\n",
    "kb = 1.38e-23"
   ]
  },
  {
   "cell_type": "markdown",
   "metadata": {},
   "source": [
    "The command [`varinfo()`](https://docs.julialang.org/en/stable/stdlib/InteractiveUtils/#InteractiveUtils.varinfo) lists the currently defined variables and the loaded modules, as well as their size in a markdown table."
   ]
  },
  {
   "cell_type": "code",
   "execution_count": 10,
   "metadata": {},
   "outputs": [
    {
     "data": {
      "text/latex": [
       "\\begin{tabular}\n",
       "{l | r | l}\n",
       "name & size & summary \\\\\n",
       "\\hline\n",
       "Base &  & Module \\\\\n",
       "Core &  & Module \\\\\n",
       "Main &  & Module \\\\\n",
       "kb & 8 bytes & Float64 \\\\\n",
       "temp & 8 bytes & Int64 \\\\\n",
       "\\end{tabular}\n"
      ],
      "text/markdown": [
       "| name |    size | summary |\n",
       "|:---- | -------:|:------- |\n",
       "| Base |         | Module  |\n",
       "| Core |         | Module  |\n",
       "| Main |         | Module  |\n",
       "| kb   | 8 bytes | Float64 |\n",
       "| temp | 8 bytes | Int64   |\n"
      ],
      "text/plain": [
       "  name    size summary\n",
       "  –––– ––––––– –––––––\n",
       "  Base         Module \n",
       "  Core         Module \n",
       "  Main         Module \n",
       "  kb   8 bytes Float64\n",
       "  temp 8 bytes Int64  "
      ]
     },
     "execution_count": 10,
     "metadata": {},
     "output_type": "execute_result"
    }
   ],
   "source": [
    "varinfo()"
   ]
  },
  {
   "cell_type": "markdown",
   "metadata": {},
   "source": [
    "The command [`typeof()`](https://docs.julialang.org/en/stable/base/base/#Core.typeof) returns the type of a variable:"
   ]
  },
  {
   "cell_type": "code",
   "execution_count": 11,
   "metadata": {},
   "outputs": [
    {
     "data": {
      "text/plain": [
       "Int64"
      ]
     },
     "execution_count": 11,
     "metadata": {},
     "output_type": "execute_result"
    }
   ],
   "source": [
    "typeof(temp)"
   ]
  },
  {
   "cell_type": "markdown",
   "metadata": {},
   "source": [
    "## Strings\n",
    "They are delimited by double quotes:"
   ]
  },
  {
   "cell_type": "code",
   "execution_count": 12,
   "metadata": {},
   "outputs": [
    {
     "name": "stdout",
     "output_type": "stream",
     "text": [
      "Hello world"
     ]
    }
   ],
   "source": [
    "s = \"Hello world\"\n",
    "print(s);"
   ]
  },
  {
   "cell_type": "markdown",
   "metadata": {},
   "source": [
    "How to use a double quote in a string?      \n",
    "→ place a backslash `\\` before it:"
   ]
  },
  {
   "cell_type": "code",
   "execution_count": 13,
   "metadata": {},
   "outputs": [
    {
     "name": "stdout",
     "output_type": "stream",
     "text": [
      "The letter \"A\" is the first letter of the alphabet."
     ]
    }
   ],
   "source": [
    "s = \"The letter \\\"A\\\" is the first letter of the alphabet.\"\n",
    "print(s)"
   ]
  },
  {
   "cell_type": "markdown",
   "metadata": {},
   "source": [
    "## Symbols\n",
    "\n",
    "* A symbol is an [interned string](https://en.wikipedia.org/wiki/String_interning) identifier which means that every string symbol is replaced internally by a number\n",
    "* This makes comparison between symbols faster than comparison between strings\n",
    "* Symbols are also used in metaprogramming (julia code which produces julia code)."
   ]
  },
  {
   "cell_type": "code",
   "execution_count": 68,
   "metadata": {},
   "outputs": [
    {
     "data": {
      "text/plain": [
       ":mysymbol"
      ]
     },
     "execution_count": 68,
     "metadata": {},
     "output_type": "execute_result"
    }
   ],
   "source": [
    ":mysymbol"
   ]
  },
  {
   "cell_type": "code",
   "execution_count": 69,
   "metadata": {},
   "outputs": [
    {
     "data": {
      "text/plain": [
       "Symbol"
      ]
     },
     "execution_count": 69,
     "metadata": {},
     "output_type": "execute_result"
    }
   ],
   "source": [
    "typeof(:mysymbol)"
   ]
  },
  {
   "cell_type": "markdown",
   "metadata": {},
   "source": [
    "## Vectors and matrices\n",
    "The module [`LinearAlgebra`](https://docs.julialang.org/en/stable/stdlib/LinearAlgebra/) provides useful linear algebra operations."
   ]
  },
  {
   "cell_type": "code",
   "execution_count": 70,
   "metadata": {},
   "outputs": [],
   "source": [
    "using LinearAlgebra"
   ]
  },
  {
   "cell_type": "markdown",
   "metadata": {},
   "source": [
    "Vectors are list of numbers. The column vector $\\left(\\begin{array}{c}1 \\\\ 2 \\\\ 3 \\end{array} \\right)$ is represented by:"
   ]
  },
  {
   "cell_type": "code",
   "execution_count": 16,
   "metadata": {},
   "outputs": [
    {
     "data": {
      "text/plain": [
       "3-element Array{Int64,1}:\n",
       " 1\n",
       " 2\n",
       " 3"
      ]
     },
     "execution_count": 16,
     "metadata": {},
     "output_type": "execute_result"
    }
   ],
   "source": [
    "[1,2,3]"
   ]
  },
  {
   "cell_type": "markdown",
   "metadata": {},
   "source": [
    "Matrices are tables of numbers. Rows are separated by a semicolon. The matrix \n",
    "$\\left(\\begin{array}{cc}1 & 2 \\\\ 3 & 4 \\end{array} \\right)$ is represented by:"
   ]
  },
  {
   "cell_type": "code",
   "execution_count": 17,
   "metadata": {},
   "outputs": [
    {
     "data": {
      "text/plain": [
       "2×2 Array{Int64,2}:\n",
       " 1  2\n",
       " 3  4"
      ]
     },
     "execution_count": 17,
     "metadata": {},
     "output_type": "execute_result"
    }
   ],
   "source": [
    "[1 2; 3 4]"
   ]
  },
  {
   "cell_type": "markdown",
   "metadata": {},
   "source": [
    "### Ranges\n",
    "\n",
    "Consecutive elements can be written as:\n",
    "\n",
    "    `first:step:last`\n",
    "    \n",
    "or simply, if the step is 1,\n",
    "    \t\n",
    "    `first:last`\n",
    "    \n",
    "Use the function [`collect`](https://docs.julialang.org/en/stable/base/collections/#Base.collect-Tuple{Type,Any}) or `[first:step:last;]` to transform a range into a vector:\n",
    "   \n",
    "Instead of typing this:  "
   ]
  },
  {
   "cell_type": "code",
   "execution_count": 18,
   "metadata": {},
   "outputs": [
    {
     "data": {
      "text/plain": [
       "5-element Array{Int64,1}:\n",
       " 1\n",
       " 2\n",
       " 3\n",
       " 4\n",
       " 5"
      ]
     },
     "execution_count": 18,
     "metadata": {},
     "output_type": "execute_result"
    }
   ],
   "source": [
    "[1,2,3,4,5]"
   ]
  },
  {
   "cell_type": "markdown",
   "metadata": {},
   "source": [
    "one could simply write this as:"
   ]
  },
  {
   "cell_type": "code",
   "execution_count": 19,
   "metadata": {},
   "outputs": [
    {
     "data": {
      "text/plain": [
       "1:5"
      ]
     },
     "execution_count": 19,
     "metadata": {},
     "output_type": "execute_result"
    }
   ],
   "source": [
    "1:5"
   ]
  },
  {
   "cell_type": "markdown",
   "metadata": {},
   "source": [
    "Now if we need only every second element:"
   ]
  },
  {
   "cell_type": "code",
   "execution_count": 20,
   "metadata": {},
   "outputs": [
    {
     "data": {
      "text/plain": [
       "1:2:5"
      ]
     },
     "execution_count": 20,
     "metadata": {},
     "output_type": "execute_result"
    }
   ],
   "source": [
    "1:2:6"
   ]
  },
  {
   "cell_type": "markdown",
   "metadata": {},
   "source": [
    "Note that 6 is not part of the previous range."
   ]
  },
  {
   "cell_type": "markdown",
   "metadata": {},
   "source": [
    "## Indexing\n",
    "\n",
    "Consider the following vector:"
   ]
  },
  {
   "cell_type": "code",
   "execution_count": 21,
   "metadata": {},
   "outputs": [
    {
     "data": {
      "text/plain": [
       "5-element Array{Int64,1}:\n",
       "  2\n",
       "  5\n",
       "  7\n",
       " 19\n",
       "  2"
      ]
     },
     "execution_count": 21,
     "metadata": {},
     "output_type": "execute_result"
    }
   ],
   "source": [
    "a = [2,5,7,19,2]"
   ]
  },
  {
   "cell_type": "markdown",
   "metadata": {},
   "source": [
    "* Individual elements of a vector or matrix can be addressed by their index using square brackets.\n",
    "* The second element of a vector `a` is for example `a[2]`"
   ]
  },
  {
   "cell_type": "markdown",
   "metadata": {},
   "source": [
    "The special word `end` refers to the last index.     \n",
    "`end` is also useful to refer to elements with respect to the last one:"
   ]
  },
  {
   "cell_type": "code",
   "execution_count": 22,
   "metadata": {},
   "outputs": [
    {
     "data": {
      "text/plain": [
       "2"
      ]
     },
     "execution_count": 22,
     "metadata": {},
     "output_type": "execute_result"
    }
   ],
   "source": [
    "a[end]"
   ]
  },
  {
   "cell_type": "code",
   "execution_count": 23,
   "metadata": {},
   "outputs": [
    {
     "data": {
      "text/plain": [
       "7"
      ]
     },
     "execution_count": 23,
     "metadata": {},
     "output_type": "execute_result"
    }
   ],
   "source": [
    "a[end-2]"
   ]
  },
  {
   "cell_type": "markdown",
   "metadata": {},
   "source": [
    "One can also use a list of indexes to extract a part of the vector"
   ]
  },
  {
   "cell_type": "code",
   "execution_count": 24,
   "metadata": {},
   "outputs": [
    {
     "data": {
      "text/plain": [
       "3-element Array{Int64,1}:\n",
       "  5\n",
       "  7\n",
       " 19"
      ]
     },
     "execution_count": 24,
     "metadata": {},
     "output_type": "execute_result"
    }
   ],
   "source": [
    "a[[2,3,4]]\n",
    "# a[2,3,4] would mean we want to access the (single) index [2, 3, 4]"
   ]
  },
  {
   "cell_type": "markdown",
   "metadata": {},
   "source": [
    "Or simply:"
   ]
  },
  {
   "cell_type": "code",
   "execution_count": 25,
   "metadata": {},
   "outputs": [
    {
     "data": {
      "text/plain": [
       "3-element Array{Int64,1}:\n",
       "  5\n",
       "  7\n",
       " 19"
      ]
     },
     "execution_count": 25,
     "metadata": {},
     "output_type": "execute_result"
    }
   ],
   "source": [
    "a[2:4]"
   ]
  },
  {
   "cell_type": "markdown",
   "metadata": {},
   "source": [
    "The symbol colon **:** is a short-hand for 1:end"
   ]
  },
  {
   "cell_type": "markdown",
   "metadata": {},
   "source": [
    "## Matrix indexing\n",
    "\n",
    "* For matrices, two indices are generally used.\n",
    "* The element at the second row and the first column of a matrix A is for example `A[2,1]`"
   ]
  },
  {
   "cell_type": "code",
   "execution_count": 26,
   "metadata": {},
   "outputs": [
    {
     "data": {
      "text/plain": [
       "2×2 Array{Int64,2}:\n",
       " 1  2\n",
       " 3  4"
      ]
     },
     "execution_count": 26,
     "metadata": {},
     "output_type": "execute_result"
    }
   ],
   "source": [
    "A = [1 2; 3 4]"
   ]
  },
  {
   "cell_type": "code",
   "execution_count": 27,
   "metadata": {},
   "outputs": [
    {
     "data": {
      "text/plain": [
       "3"
      ]
     },
     "execution_count": 27,
     "metadata": {},
     "output_type": "execute_result"
    }
   ],
   "source": [
    "A[2,1]"
   ]
  },
  {
   "cell_type": "code",
   "execution_count": 28,
   "metadata": {},
   "outputs": [
    {
     "data": {
      "text/plain": [
       "2-element Array{Int64,1}:\n",
       " 2\n",
       " 4"
      ]
     },
     "execution_count": 28,
     "metadata": {},
     "output_type": "execute_result"
    }
   ],
   "source": [
    "A[:,2]"
   ]
  },
  {
   "cell_type": "markdown",
   "metadata": {},
   "source": [
    "Julia supports also higher-dimensional arrays and indexing works similarily."
   ]
  },
  {
   "cell_type": "markdown",
   "metadata": {},
   "source": [
    "## Additional data structures\n",
    "\n",
    "### Dictionaries\n",
    "\n",
    "A dictionary [`Dict`](https://docs.julialang.org/en/v1/base/collections/index.html#Dictionaries-1) is a data structure that maps keys to values.      \n",
    "**Example:**"
   ]
  },
  {
   "cell_type": "code",
   "execution_count": 29,
   "metadata": {},
   "outputs": [
    {
     "data": {
      "text/plain": [
       "Dict{String,Float64} with 2 entries:\n",
       "  \"Temperature\" => 20.23\n",
       "  \"Salinity\"    => 37.54"
      ]
     },
     "execution_count": 29,
     "metadata": {},
     "output_type": "execute_result"
    }
   ],
   "source": [
    "data = Dict(\"Temperature\" => 20.23, \"Salinity\" => 37.54)"
   ]
  },
  {
   "cell_type": "markdown",
   "metadata": {},
   "source": [
    "Dictionaries are useful to retrieve an entry using the key:"
   ]
  },
  {
   "cell_type": "code",
   "execution_count": 30,
   "metadata": {},
   "outputs": [
    {
     "data": {
      "text/plain": [
       "20.23"
      ]
     },
     "execution_count": 30,
     "metadata": {},
     "output_type": "execute_result"
    }
   ],
   "source": [
    "data[\"Temperature\"]"
   ]
  },
  {
   "cell_type": "markdown",
   "metadata": {},
   "source": [
    "### Tuple\n",
    "\n",
    "* A tuple is a (usually short) sequence of values (those values can be of any type)\n",
    "* A tuple cannot be modified (e.g. you cannot add another element to a tuple or replace an existing element)\n",
    "* Tuples are less flexible, but more efficient than vectors\n",
    "* A tuple is enclosed with a round parentesis, e.g. `(12,45,\"a string\")` or `(42,)` (here the last comma is necessary to distinguish between a parentesis enclosing a tuple and parentesis grouping an expression)"
   ]
  },
  {
   "cell_type": "code",
   "execution_count": 31,
   "metadata": {},
   "outputs": [
    {
     "name": "stdout",
     "output_type": "stream",
     "text": [
      "typeof(liegeCoordinates) = Tuple{Float64,Float64}\n"
     ]
    }
   ],
   "source": [
    "liegeCoordinates = (50.633333, 5.566667)\n",
    "@show typeof(liegeCoordinates);"
   ]
  },
  {
   "cell_type": "markdown",
   "metadata": {},
   "source": [
    "We cannot change the values: tuples are immutable!\n",
    "you will see the error\n",
    "\n",
    "```julia\n",
    "liegeCoordinates[1] =  50.7\n",
    "\n",
    "\n",
    "\n",
    "MethodError: no method matching setindex!(::Tuple{Float64,Float64}, ::Float64, ::Int64)\n",
    "```"
   ]
  },
  {
   "cell_type": "markdown",
   "metadata": {},
   "source": [
    "Tuples are typically used for output arguments (and sometimes for input arguments too)     \n",
    "We'll come back to functions later in this notebook:"
   ]
  },
  {
   "cell_type": "code",
   "execution_count": 32,
   "metadata": {},
   "outputs": [
    {
     "name": "stdout",
     "output_type": "stream",
     "text": [
      "p1 = 2\n",
      "p2 = 4\n",
      "p3 = 7\n"
     ]
    },
    {
     "data": {
      "text/plain": [
       "7"
      ]
     },
     "execution_count": 32,
     "metadata": {},
     "output_type": "execute_result"
    }
   ],
   "source": [
    "function myfunction(a,b,the_rest...)\n",
    "    return (a+1,b+2,sum(the_rest))\n",
    "end\n",
    "\n",
    "p1,p2,p3 = myfunction(1,2,3,4)\n",
    "\n",
    "@show p1\n",
    "@show p2\n",
    "@show p3"
   ]
  },
  {
   "cell_type": "code",
   "execution_count": 33,
   "metadata": {},
   "outputs": [
    {
     "name": "stdout",
     "output_type": "stream",
     "text": [
      "all_p = (2, 4, 7)\n",
      "typeof(all_p) = Tuple{Int64,Int64,Int64}\n"
     ]
    }
   ],
   "source": [
    "all_p =  myfunction(1,2,3,4)\n",
    "\n",
    "@show all_p;\n",
    "@show typeof(all_p);"
   ]
  },
  {
   "cell_type": "markdown",
   "metadata": {},
   "source": [
    "# Operators\n",
    "\n",
    "* Scalar and matrix operations: **+** sum, **-** difference, __*__ multiplication, **/** division\n",
    "* Element-wise matrix operations: __.*__ multiply element-wise, __./__ divide element-wise \n",
    "\n",
    "## Comparison operators\n",
    "\n",
    "equal (`==`) and different (`!=`) "
   ]
  },
  {
   "cell_type": "code",
   "execution_count": 34,
   "metadata": {},
   "outputs": [
    {
     "data": {
      "text/plain": [
       "false"
      ]
     },
     "execution_count": 34,
     "metadata": {},
     "output_type": "execute_result"
    }
   ],
   "source": [
    "2 == 1"
   ]
  },
  {
   "cell_type": "code",
   "execution_count": 35,
   "metadata": {},
   "outputs": [
    {
     "data": {
      "text/plain": [
       "true"
      ]
     },
     "execution_count": 35,
     "metadata": {},
     "output_type": "execute_result"
    }
   ],
   "source": [
    "9 == 3*3"
   ]
  },
  {
   "cell_type": "markdown",
   "metadata": {},
   "source": [
    "The dot is used for element-wise comparisons:"
   ]
  },
  {
   "cell_type": "code",
   "execution_count": 36,
   "metadata": {},
   "outputs": [
    {
     "data": {
      "text/plain": [
       "false"
      ]
     },
     "execution_count": 36,
     "metadata": {},
     "output_type": "execute_result"
    }
   ],
   "source": [
    "[1 2 3] == [1 3 2]"
   ]
  },
  {
   "cell_type": "code",
   "execution_count": 37,
   "metadata": {},
   "outputs": [
    {
     "data": {
      "text/plain": [
       "1×3 BitArray{2}:\n",
       " 1  0  0"
      ]
     },
     "execution_count": 37,
     "metadata": {},
     "output_type": "execute_result"
    }
   ],
   "source": [
    "[1 2 3] .== [1 3 2]"
   ]
  },
  {
   "cell_type": "markdown",
   "metadata": {},
   "source": [
    "Be aware of the limited precision of floating point numbers"
   ]
  },
  {
   "cell_type": "code",
   "execution_count": 38,
   "metadata": {},
   "outputs": [
    {
     "data": {
      "text/plain": [
       "true"
      ]
     },
     "execution_count": 38,
     "metadata": {},
     "output_type": "execute_result"
    }
   ],
   "source": [
    "2.0000000000000001 == 2"
   ]
  },
  {
   "cell_type": "markdown",
   "metadata": {},
   "source": [
    "Element-wise different (`.!=`)"
   ]
  },
  {
   "cell_type": "code",
   "execution_count": 39,
   "metadata": {},
   "outputs": [
    {
     "data": {
      "text/plain": [
       "1×3 BitArray{2}:\n",
       " 1  0  1"
      ]
     },
     "execution_count": 39,
     "metadata": {},
     "output_type": "execute_result"
    }
   ],
   "source": [
    "[1 2 3] .!= [3 2 1]"
   ]
  },
  {
   "cell_type": "markdown",
   "metadata": {},
   "source": [
    "Comparision between numbers: <, >, <= (≤), => (≥)"
   ]
  },
  {
   "cell_type": "code",
   "execution_count": 40,
   "metadata": {},
   "outputs": [
    {
     "data": {
      "text/plain": [
       "true"
      ]
     },
     "execution_count": 40,
     "metadata": {},
     "output_type": "execute_result"
    }
   ],
   "source": [
    "30 > 25"
   ]
  },
  {
   "cell_type": "markdown",
   "metadata": {},
   "source": [
    "Element-wise comparision between vector and matrices: .<, .>, .<= (.≤), .=> (.≥)"
   ]
  },
  {
   "cell_type": "code",
   "execution_count": 41,
   "metadata": {},
   "outputs": [
    {
     "data": {
      "text/plain": [
       "3-element BitArray{1}:\n",
       " 0\n",
       " 0\n",
       " 1"
      ]
     },
     "execution_count": 41,
     "metadata": {},
     "output_type": "execute_result"
    }
   ],
   "source": [
    "[1,2,3] .> 2"
   ]
  },
  {
   "cell_type": "code",
   "execution_count": 42,
   "metadata": {},
   "outputs": [
    {
     "data": {
      "text/plain": [
       "3-element BitArray{1}:\n",
       " 0\n",
       " 1\n",
       " 1"
      ]
     },
     "execution_count": 42,
     "metadata": {},
     "output_type": "execute_result"
    }
   ],
   "source": [
    "[1,2,3] .> [3,1,2]"
   ]
  },
  {
   "cell_type": "markdown",
   "metadata": {},
   "source": [
    "Logical \"and\" (&&) logical \"or\" (||) (with short-circuit evaluation)"
   ]
  },
  {
   "cell_type": "code",
   "execution_count": 43,
   "metadata": {},
   "outputs": [
    {
     "name": "stdout",
     "output_type": "stream",
     "text": [
      "stay in and code"
     ]
    }
   ],
   "source": [
    "temperature = 30;\n",
    "precipitation = 10;\n",
    "\n",
    "if temperature > 25 && precipitation == 0\n",
    "    print(\"go outside!\")\n",
    "else\n",
    "    print(\"stay in and code\")\n",
    "end"
   ]
  },
  {
   "cell_type": "markdown",
   "metadata": {},
   "source": [
    "* logical element-wise \"and\" (.&) logical element-wise \"or\" (.|)\n",
    "\n",
    "* The results of such operators can also be used to index an array\n",
    "    \n",
    "* For example return all elements in the variable T which are greater than 10 but less than 20.\n",
    "    "
   ]
  },
  {
   "cell_type": "code",
   "execution_count": 44,
   "metadata": {},
   "outputs": [
    {
     "data": {
      "text/plain": [
       "2-element Array{Int64,1}:\n",
       " 27\n",
       " 26"
      ]
     },
     "execution_count": 44,
     "metadata": {},
     "output_type": "execute_result"
    }
   ],
   "source": [
    "T = [27,17,20,26,32]\n",
    "T[20 .< T .& T .< 30]"
   ]
  },
  {
   "cell_type": "code",
   "execution_count": 45,
   "metadata": {},
   "outputs": [
    {
     "data": {
      "text/plain": [
       "5-element BitArray{1}:\n",
       " 1\n",
       " 1\n",
       " 1\n",
       " 1\n",
       " 0"
      ]
     },
     "execution_count": 45,
     "metadata": {},
     "output_type": "execute_result"
    }
   ],
   "source": [
    "T .< 30"
   ]
  },
  {
   "cell_type": "markdown",
   "metadata": {},
   "source": [
    "# Useful functions\n",
    "\n",
    "* sin, cos, tan: trigonometric functions\n",
    "* asin, acos, atan: inverse trigonometric functions\n",
    "* log, log2, log10: natural, base 2 and base 10 logarithms: \n",
    "* exp: exponentiation\n",
    "* abs: absolute value\n",
    "* sqrt: square root\n",
    "* mean: mean\n",
    "* median: median\n",
    "* std: standard deviation\n",
    "* var: variance\n",
    "* mod: modulo (useful to manipulate e.g. the longitude)\n",
    "* isnan: Check if variable is NaN. Note that NaN == NaN is false!\n",
    "* inv: inverse of a matrix\n",
    "* sum: sum of all elements\n",
    "* prod: product of all elements\n",
    "* maximum,minimum: maximum,minimum value in an array\n",
    "* max,min: maximum,minimum value of all arguments\n",
    "* isnan: true if a value is NaN\n",
    "* isinf: true if a value is Inf\n",
    "\n",
    "These function can also operate of a given dimension: sum(array,dimension)\n",
    "\n",
    "Find out more of these function by typing ? followed by the function name. "
   ]
  },
  {
   "cell_type": "code",
   "execution_count": 46,
   "metadata": {},
   "outputs": [
    {
     "name": "stdout",
     "output_type": "stream",
     "text": [
      "search: \u001b[0m\u001b[1mo\u001b[22m\u001b[0m\u001b[1mp\u001b[22m\u001b[0m\u001b[1me\u001b[22m\u001b[0m\u001b[1mn\u001b[22m is\u001b[0m\u001b[1mo\u001b[22m\u001b[0m\u001b[1mp\u001b[22m\u001b[0m\u001b[1me\u001b[22m\u001b[0m\u001b[1mn\u001b[22m pr\u001b[0m\u001b[1mo\u001b[22m\u001b[0m\u001b[1mp\u001b[22m\u001b[0m\u001b[1me\u001b[22mrty\u001b[0m\u001b[1mn\u001b[22mames Zer\u001b[0m\u001b[1mo\u001b[22m\u001b[0m\u001b[1mP\u001b[22mivot\u001b[0m\u001b[1mE\u001b[22mxceptio\u001b[0m\u001b[1mn\u001b[22m C\u001b[0m\u001b[1mo\u001b[22mm\u001b[0m\u001b[1mp\u001b[22mosit\u001b[0m\u001b[1me\u001b[22mExceptio\u001b[0m\u001b[1mn\u001b[22m \u001b[0m\u001b[1mo\u001b[22m\u001b[0m\u001b[1mp\u001b[22m\u001b[0m\u001b[1me\u001b[22mrm\n",
      "\n"
     ]
    },
    {
     "data": {
      "text/latex": [
       "\\begin{verbatim}\n",
       "open(f::Function, args...; kwargs....)\n",
       "\\end{verbatim}\n",
       "Apply the function \\texttt{f} to the result of \\texttt{open(args...; kwargs...)} and close the resulting file descriptor upon completion.\n",
       "\n",
       "\\section{Examples}\n",
       "\\begin{verbatim}\n",
       "julia> open(\"myfile.txt\", \"w\") do io\n",
       "           write(io, \"Hello world!\")\n",
       "       end;\n",
       "\n",
       "julia> open(f->read(f, String), \"myfile.txt\")\n",
       "\"Hello world!\"\n",
       "\n",
       "julia> rm(\"myfile.txt\")\n",
       "\\end{verbatim}\n",
       "\\rule{\\textwidth}{1pt}\n",
       "\\begin{verbatim}\n",
       "open(filename::AbstractString; lock = true, keywords...) -> IOStream\n",
       "\\end{verbatim}\n",
       "Open a file in a mode specified by five boolean keyword arguments:\n",
       "\n",
       "\\begin{tabular}\n",
       "{l | l | l}\n",
       "Keyword & Description & Default \\\\\n",
       "\\hline\n",
       "\\texttt{read} & open for reading & \\texttt{!write} \\\\\n",
       "\\texttt{write} & open for writing & \\texttt{truncate | append} \\\\\n",
       "\\texttt{create} & create if non-existent & \\texttt{!read \\& write | truncate | append} \\\\\n",
       "\\texttt{truncate} & truncate to zero size & \\texttt{!read \\& write} \\\\\n",
       "\\texttt{append} & seek to end & \\texttt{false} \\\\\n",
       "\\end{tabular}\n",
       "The default when no keywords are passed is to open files for reading only. Returns a stream for accessing the opened file.\n",
       "\n",
       "The \\texttt{lock} keyword argument controls whether operations will be locked for safe multi-threaded access.\n",
       "\n",
       "\\begin{quote}\n",
       "\\textbf{compat}\n",
       "\n",
       "Julia 1.5\n",
       "\n",
       "The \\texttt{lock} argument is available as of Julia 1.5.\n",
       "\n",
       "\\end{quote}\n",
       "\\rule{\\textwidth}{1pt}\n",
       "\\begin{verbatim}\n",
       "open(filename::AbstractString, [mode::AbstractString]; lock = true) -> IOStream\n",
       "\\end{verbatim}\n",
       "Alternate syntax for open, where a string-based mode specifier is used instead of the five booleans. The values of \\texttt{mode} correspond to those from \\texttt{fopen(3)} or Perl \\texttt{open}, and are equivalent to setting the following boolean groups:\n",
       "\n",
       "\\begin{tabular}\n",
       "{l | l | l}\n",
       "Mode & Description & Keywords \\\\\n",
       "\\hline\n",
       "\\texttt{r} & read & none \\\\\n",
       "\\texttt{w} & write, create, truncate & \\texttt{write = true} \\\\\n",
       "\\texttt{a} & write, create, append & \\texttt{append = true} \\\\\n",
       "\\texttt{r+} & read, write & \\texttt{read = true, write = true} \\\\\n",
       "\\texttt{w+} & read, write, create, truncate & \\texttt{truncate = true, read = true} \\\\\n",
       "\\texttt{a+} & read, write, create, append & \\texttt{append = true, read = true} \\\\\n",
       "\\end{tabular}\n",
       "The \\texttt{lock} keyword argument controls whether operations will be locked for safe multi-threaded access.\n",
       "\n",
       "\\section{Examples}\n",
       "\\begin{verbatim}\n",
       "julia> io = open(\"myfile.txt\", \"w\");\n",
       "\n",
       "julia> write(io, \"Hello world!\");\n",
       "\n",
       "julia> close(io);\n",
       "\n",
       "julia> io = open(\"myfile.txt\", \"r\");\n",
       "\n",
       "julia> read(io, String)\n",
       "\"Hello world!\"\n",
       "\n",
       "julia> write(io, \"This file is read only\")\n",
       "ERROR: ArgumentError: write failed, IOStream is not writeable\n",
       "[...]\n",
       "\n",
       "julia> close(io)\n",
       "\n",
       "julia> io = open(\"myfile.txt\", \"a\");\n",
       "\n",
       "julia> write(io, \"This stream is not read only\")\n",
       "28\n",
       "\n",
       "julia> close(io)\n",
       "\n",
       "julia> rm(\"myfile.txt\")\n",
       "\\end{verbatim}\n",
       "\\begin{quote}\n",
       "\\textbf{compat}\n",
       "\n",
       "Julia 1.5\n",
       "\n",
       "The \\texttt{lock} argument is available as of Julia 1.5.\n",
       "\n",
       "\\end{quote}\n",
       "\\rule{\\textwidth}{1pt}\n",
       "\\begin{verbatim}\n",
       "open(fd::OS_HANDLE) -> IO\n",
       "\\end{verbatim}\n",
       "Take a raw file descriptor wrap it in a Julia-aware IO type, and take ownership of the fd handle. Call \\texttt{open(Libc.dup(fd))} to avoid the ownership capture of the original handle.\n",
       "\n",
       "\\begin{quote}\n",
       "\\textbf{warn}\n",
       "\n",
       "Warn\n",
       "\n",
       "Do not call this on a handle that's already owned by some other part of the system.\n",
       "\n",
       "\\end{quote}\n",
       "\\rule{\\textwidth}{1pt}\n",
       "\\begin{verbatim}\n",
       "open(command, mode::AbstractString, stdio=devnull)\n",
       "\\end{verbatim}\n",
       "Run \\texttt{command} asynchronously. Like \\texttt{open(command, stdio; read, write)} except specifying the read and write flags via a mode string instead of keyword arguments. Possible mode strings are:\n",
       "\n",
       "\\begin{tabular}\n",
       "{l | l | l}\n",
       "Mode & Description & Keywords \\\\\n",
       "\\hline\n",
       "\\texttt{r} & read & none \\\\\n",
       "\\texttt{w} & write & \\texttt{write = true} \\\\\n",
       "\\texttt{r+} & read, write & \\texttt{read = true, write = true} \\\\\n",
       "\\texttt{w+} & read, write & \\texttt{read = true, write = true} \\\\\n",
       "\\end{tabular}\n",
       "\\rule{\\textwidth}{1pt}\n",
       "\\begin{verbatim}\n",
       "open(command, stdio=devnull; write::Bool = false, read::Bool = !write)\n",
       "\\end{verbatim}\n",
       "Start running \\texttt{command} asynchronously, and return a \\texttt{process::IO} object.  If \\texttt{read} is true, then reads from the process come from the process's standard output and \\texttt{stdio} optionally specifies the process's standard input stream.  If \\texttt{write} is true, then writes go to the process's standard input and \\texttt{stdio} optionally specifies the process's standard output stream. The process's standard error stream is connected to the current global \\texttt{stderr}.\n",
       "\n",
       "\\rule{\\textwidth}{1pt}\n",
       "\\begin{verbatim}\n",
       "open(f::Function, command, args...; kwargs...)\n",
       "\\end{verbatim}\n",
       "Similar to \\texttt{open(command, args...; kwargs...)}, but calls \\texttt{f(stream)} on the resulting process stream, then closes the input stream and waits for the process to complete. Returns the value returned by \\texttt{f}.\n",
       "\n"
      ],
      "text/markdown": [
       "```\n",
       "open(f::Function, args...; kwargs....)\n",
       "```\n",
       "\n",
       "Apply the function `f` to the result of `open(args...; kwargs...)` and close the resulting file descriptor upon completion.\n",
       "\n",
       "# Examples\n",
       "\n",
       "```jldoctest\n",
       "julia> open(\"myfile.txt\", \"w\") do io\n",
       "           write(io, \"Hello world!\")\n",
       "       end;\n",
       "\n",
       "julia> open(f->read(f, String), \"myfile.txt\")\n",
       "\"Hello world!\"\n",
       "\n",
       "julia> rm(\"myfile.txt\")\n",
       "```\n",
       "\n",
       "---\n",
       "\n",
       "```\n",
       "open(filename::AbstractString; lock = true, keywords...) -> IOStream\n",
       "```\n",
       "\n",
       "Open a file in a mode specified by five boolean keyword arguments:\n",
       "\n",
       "| Keyword    | Description            | Default                               |\n",
       "|:---------- |:---------------------- |:------------------------------------- |\n",
       "| `read`     | open for reading       | `!write`                              |\n",
       "| `write`    | open for writing       | `truncate \\| append`                  |\n",
       "| `create`   | create if non-existent | `!read & write \\| truncate \\| append` |\n",
       "| `truncate` | truncate to zero size  | `!read & write`                       |\n",
       "| `append`   | seek to end            | `false`                               |\n",
       "\n",
       "The default when no keywords are passed is to open files for reading only. Returns a stream for accessing the opened file.\n",
       "\n",
       "The `lock` keyword argument controls whether operations will be locked for safe multi-threaded access.\n",
       "\n",
       "!!! compat \"Julia 1.5\"\n",
       "    The `lock` argument is available as of Julia 1.5.\n",
       "\n",
       "\n",
       "---\n",
       "\n",
       "```\n",
       "open(filename::AbstractString, [mode::AbstractString]; lock = true) -> IOStream\n",
       "```\n",
       "\n",
       "Alternate syntax for open, where a string-based mode specifier is used instead of the five booleans. The values of `mode` correspond to those from `fopen(3)` or Perl `open`, and are equivalent to setting the following boolean groups:\n",
       "\n",
       "| Mode | Description                   | Keywords                       |\n",
       "|:---- |:----------------------------- |:------------------------------ |\n",
       "| `r`  | read                          | none                           |\n",
       "| `w`  | write, create, truncate       | `write = true`                 |\n",
       "| `a`  | write, create, append         | `append = true`                |\n",
       "| `r+` | read, write                   | `read = true, write = true`    |\n",
       "| `w+` | read, write, create, truncate | `truncate = true, read = true` |\n",
       "| `a+` | read, write, create, append   | `append = true, read = true`   |\n",
       "\n",
       "The `lock` keyword argument controls whether operations will be locked for safe multi-threaded access.\n",
       "\n",
       "# Examples\n",
       "\n",
       "```jldoctest\n",
       "julia> io = open(\"myfile.txt\", \"w\");\n",
       "\n",
       "julia> write(io, \"Hello world!\");\n",
       "\n",
       "julia> close(io);\n",
       "\n",
       "julia> io = open(\"myfile.txt\", \"r\");\n",
       "\n",
       "julia> read(io, String)\n",
       "\"Hello world!\"\n",
       "\n",
       "julia> write(io, \"This file is read only\")\n",
       "ERROR: ArgumentError: write failed, IOStream is not writeable\n",
       "[...]\n",
       "\n",
       "julia> close(io)\n",
       "\n",
       "julia> io = open(\"myfile.txt\", \"a\");\n",
       "\n",
       "julia> write(io, \"This stream is not read only\")\n",
       "28\n",
       "\n",
       "julia> close(io)\n",
       "\n",
       "julia> rm(\"myfile.txt\")\n",
       "```\n",
       "\n",
       "!!! compat \"Julia 1.5\"\n",
       "    The `lock` argument is available as of Julia 1.5.\n",
       "\n",
       "\n",
       "---\n",
       "\n",
       "```\n",
       "open(fd::OS_HANDLE) -> IO\n",
       "```\n",
       "\n",
       "Take a raw file descriptor wrap it in a Julia-aware IO type, and take ownership of the fd handle. Call `open(Libc.dup(fd))` to avoid the ownership capture of the original handle.\n",
       "\n",
       "!!! warn\n",
       "    Do not call this on a handle that's already owned by some other part of the system.\n",
       "\n",
       "\n",
       "---\n",
       "\n",
       "```\n",
       "open(command, mode::AbstractString, stdio=devnull)\n",
       "```\n",
       "\n",
       "Run `command` asynchronously. Like `open(command, stdio; read, write)` except specifying the read and write flags via a mode string instead of keyword arguments. Possible mode strings are:\n",
       "\n",
       "| Mode | Description | Keywords                    |\n",
       "|:---- |:----------- |:--------------------------- |\n",
       "| `r`  | read        | none                        |\n",
       "| `w`  | write       | `write = true`              |\n",
       "| `r+` | read, write | `read = true, write = true` |\n",
       "| `w+` | read, write | `read = true, write = true` |\n",
       "\n",
       "---\n",
       "\n",
       "```\n",
       "open(command, stdio=devnull; write::Bool = false, read::Bool = !write)\n",
       "```\n",
       "\n",
       "Start running `command` asynchronously, and return a `process::IO` object.  If `read` is true, then reads from the process come from the process's standard output and `stdio` optionally specifies the process's standard input stream.  If `write` is true, then writes go to the process's standard input and `stdio` optionally specifies the process's standard output stream. The process's standard error stream is connected to the current global `stderr`.\n",
       "\n",
       "---\n",
       "\n",
       "```\n",
       "open(f::Function, command, args...; kwargs...)\n",
       "```\n",
       "\n",
       "Similar to `open(command, args...; kwargs...)`, but calls `f(stream)` on the resulting process stream, then closes the input stream and waits for the process to complete. Returns the value returned by `f`.\n"
      ],
      "text/plain": [
       "\u001b[36m  open(f::Function, args...; kwargs....)\u001b[39m\n",
       "\n",
       "  Apply the function \u001b[36mf\u001b[39m to the result of \u001b[36mopen(args...; kwargs...)\u001b[39m and close the\n",
       "  resulting file descriptor upon completion.\n",
       "\n",
       "\u001b[1m  Examples\u001b[22m\n",
       "\u001b[1m  ≡≡≡≡≡≡≡≡≡≡\u001b[22m\n",
       "\n",
       "\u001b[36m  julia> open(\"myfile.txt\", \"w\") do io\u001b[39m\n",
       "\u001b[36m             write(io, \"Hello world!\")\u001b[39m\n",
       "\u001b[36m         end;\u001b[39m\n",
       "\u001b[36m  \u001b[39m\n",
       "\u001b[36m  julia> open(f->read(f, String), \"myfile.txt\")\u001b[39m\n",
       "\u001b[36m  \"Hello world!\"\u001b[39m\n",
       "\u001b[36m  \u001b[39m\n",
       "\u001b[36m  julia> rm(\"myfile.txt\")\u001b[39m\n",
       "\n",
       "  ────────────────────────────────────────────────────────────────────────────\n",
       "\n",
       "\u001b[36m  open(filename::AbstractString; lock = true, keywords...) -> IOStream\u001b[39m\n",
       "\n",
       "  Open a file in a mode specified by five boolean keyword arguments:\n",
       "\n",
       "  Keyword  Description            Default                          \n",
       "  –––––––– –––––––––––––––––––––– –––––––––––––––––––––––––––––––––\n",
       "  \u001b[36mread\u001b[39m     open for reading       \u001b[36m!write\u001b[39m                           \n",
       "  \u001b[36mwrite\u001b[39m    open for writing       \u001b[36mtruncate | append\u001b[39m                \n",
       "  \u001b[36mcreate\u001b[39m   create if non-existent \u001b[36m!read & write | truncate | append\u001b[39m\n",
       "  \u001b[36mtruncate\u001b[39m truncate to zero size  \u001b[36m!read & write\u001b[39m                    \n",
       "  \u001b[36mappend\u001b[39m   seek to end            \u001b[36mfalse\u001b[39m                            \n",
       "\n",
       "  The default when no keywords are passed is to open files for reading only.\n",
       "  Returns a stream for accessing the opened file.\n",
       "\n",
       "  The \u001b[36mlock\u001b[39m keyword argument controls whether operations will be locked for\n",
       "  safe multi-threaded access.\n",
       "\n",
       "\u001b[39m\u001b[1m  │ \u001b[22m\u001b[39m\u001b[1mJulia 1.5\u001b[22m\n",
       "\u001b[39m\u001b[1m  │\u001b[22m\n",
       "\u001b[39m\u001b[1m  │\u001b[22m  The \u001b[36mlock\u001b[39m argument is available as of Julia 1.5.\n",
       "\n",
       "  ────────────────────────────────────────────────────────────────────────────\n",
       "\n",
       "\u001b[36m  open(filename::AbstractString, [mode::AbstractString]; lock = true) -> IOStream\u001b[39m\n",
       "\n",
       "  Alternate syntax for open, where a string-based mode specifier is used\n",
       "  instead of the five booleans. The values of \u001b[36mmode\u001b[39m correspond to those from\n",
       "  \u001b[36mfopen(3)\u001b[39m or Perl \u001b[36mopen\u001b[39m, and are equivalent to setting the following boolean\n",
       "  groups:\n",
       "\n",
       "  Mode Description                   Keywords                    \n",
       "  –––– ––––––––––––––––––––––––––––– ––––––––––––––––––––––––––––\n",
       "  \u001b[36mr\u001b[39m    read                          none                        \n",
       "  \u001b[36mw\u001b[39m    write, create, truncate       \u001b[36mwrite = true\u001b[39m                \n",
       "  \u001b[36ma\u001b[39m    write, create, append         \u001b[36mappend = true\u001b[39m               \n",
       "  \u001b[36mr+\u001b[39m   read, write                   \u001b[36mread = true, write = true\u001b[39m   \n",
       "  \u001b[36mw+\u001b[39m   read, write, create, truncate \u001b[36mtruncate = true, read = true\u001b[39m\n",
       "  \u001b[36ma+\u001b[39m   read, write, create, append   \u001b[36mappend = true, read = true\u001b[39m  \n",
       "\n",
       "  The \u001b[36mlock\u001b[39m keyword argument controls whether operations will be locked for\n",
       "  safe multi-threaded access.\n",
       "\n",
       "\u001b[1m  Examples\u001b[22m\n",
       "\u001b[1m  ≡≡≡≡≡≡≡≡≡≡\u001b[22m\n",
       "\n",
       "\u001b[36m  julia> io = open(\"myfile.txt\", \"w\");\u001b[39m\n",
       "\u001b[36m  \u001b[39m\n",
       "\u001b[36m  julia> write(io, \"Hello world!\");\u001b[39m\n",
       "\u001b[36m  \u001b[39m\n",
       "\u001b[36m  julia> close(io);\u001b[39m\n",
       "\u001b[36m  \u001b[39m\n",
       "\u001b[36m  julia> io = open(\"myfile.txt\", \"r\");\u001b[39m\n",
       "\u001b[36m  \u001b[39m\n",
       "\u001b[36m  julia> read(io, String)\u001b[39m\n",
       "\u001b[36m  \"Hello world!\"\u001b[39m\n",
       "\u001b[36m  \u001b[39m\n",
       "\u001b[36m  julia> write(io, \"This file is read only\")\u001b[39m\n",
       "\u001b[36m  ERROR: ArgumentError: write failed, IOStream is not writeable\u001b[39m\n",
       "\u001b[36m  [...]\u001b[39m\n",
       "\u001b[36m  \u001b[39m\n",
       "\u001b[36m  julia> close(io)\u001b[39m\n",
       "\u001b[36m  \u001b[39m\n",
       "\u001b[36m  julia> io = open(\"myfile.txt\", \"a\");\u001b[39m\n",
       "\u001b[36m  \u001b[39m\n",
       "\u001b[36m  julia> write(io, \"This stream is not read only\")\u001b[39m\n",
       "\u001b[36m  28\u001b[39m\n",
       "\u001b[36m  \u001b[39m\n",
       "\u001b[36m  julia> close(io)\u001b[39m\n",
       "\u001b[36m  \u001b[39m\n",
       "\u001b[36m  julia> rm(\"myfile.txt\")\u001b[39m\n",
       "\n",
       "\u001b[39m\u001b[1m  │ \u001b[22m\u001b[39m\u001b[1mJulia 1.5\u001b[22m\n",
       "\u001b[39m\u001b[1m  │\u001b[22m\n",
       "\u001b[39m\u001b[1m  │\u001b[22m  The \u001b[36mlock\u001b[39m argument is available as of Julia 1.5.\n",
       "\n",
       "  ────────────────────────────────────────────────────────────────────────────\n",
       "\n",
       "\u001b[36m  open(fd::OS_HANDLE) -> IO\u001b[39m\n",
       "\n",
       "  Take a raw file descriptor wrap it in a Julia-aware IO type, and take\n",
       "  ownership of the fd handle. Call \u001b[36mopen(Libc.dup(fd))\u001b[39m to avoid the ownership\n",
       "  capture of the original handle.\n",
       "\n",
       "\u001b[39m\u001b[1m  │ \u001b[22m\u001b[39m\u001b[1mWarn\u001b[22m\n",
       "\u001b[39m\u001b[1m  │\u001b[22m\n",
       "\u001b[39m\u001b[1m  │\u001b[22m  Do not call this on a handle that's already owned by some other\n",
       "\u001b[39m\u001b[1m  │\u001b[22m  part of the system.\n",
       "\n",
       "  ────────────────────────────────────────────────────────────────────────────\n",
       "\n",
       "\u001b[36m  open(command, mode::AbstractString, stdio=devnull)\u001b[39m\n",
       "\n",
       "  Run \u001b[36mcommand\u001b[39m asynchronously. Like \u001b[36mopen(command, stdio; read, write)\u001b[39m except\n",
       "  specifying the read and write flags via a mode string instead of keyword\n",
       "  arguments. Possible mode strings are:\n",
       "\n",
       "  Mode Description Keywords                 \n",
       "  –––– ––––––––––– –––––––––––––––––––––––––\n",
       "  \u001b[36mr\u001b[39m    read        none                     \n",
       "  \u001b[36mw\u001b[39m    write       \u001b[36mwrite = true\u001b[39m             \n",
       "  \u001b[36mr+\u001b[39m   read, write \u001b[36mread = true, write = true\u001b[39m\n",
       "  \u001b[36mw+\u001b[39m   read, write \u001b[36mread = true, write = true\u001b[39m\n",
       "\n",
       "  ────────────────────────────────────────────────────────────────────────────\n",
       "\n",
       "\u001b[36m  open(command, stdio=devnull; write::Bool = false, read::Bool = !write)\u001b[39m\n",
       "\n",
       "  Start running \u001b[36mcommand\u001b[39m asynchronously, and return a \u001b[36mprocess::IO\u001b[39m object. If\n",
       "  \u001b[36mread\u001b[39m is true, then reads from the process come from the process's standard\n",
       "  output and \u001b[36mstdio\u001b[39m optionally specifies the process's standard input stream.\n",
       "  If \u001b[36mwrite\u001b[39m is true, then writes go to the process's standard input and \u001b[36mstdio\u001b[39m\n",
       "  optionally specifies the process's standard output stream. The process's\n",
       "  standard error stream is connected to the current global \u001b[36mstderr\u001b[39m.\n",
       "\n",
       "  ────────────────────────────────────────────────────────────────────────────\n",
       "\n",
       "\u001b[36m  open(f::Function, command, args...; kwargs...)\u001b[39m\n",
       "\n",
       "  Similar to \u001b[36mopen(command, args...; kwargs...)\u001b[39m, but calls \u001b[36mf(stream)\u001b[39m on the\n",
       "  resulting process stream, then closes the input stream and waits for the\n",
       "  process to complete. Returns the value returned by \u001b[36mf\u001b[39m."
      ]
     },
     "execution_count": 46,
     "metadata": {},
     "output_type": "execute_result"
    }
   ],
   "source": [
    "?open"
   ]
  },
  {
   "cell_type": "code",
   "execution_count": 47,
   "metadata": {},
   "outputs": [
    {
     "name": "stdout",
     "output_type": "stream",
     "text": [
      "Base.isbitstype\n",
      "Base.IteratorSize\n",
      "Base.IndexLinear\n",
      "Base.@nospecialize\n",
      "Base.nextind\n",
      "Base.:∘\n",
      "Base.isequal\n",
      "Base.isconcretetype\n",
      "Base.prevind\n",
      "Base.:*\n",
      "Base.@pure\n",
      "Base.IteratorEltype\n",
      "Base.Condition\n",
      "Base.LOAD_PATH\n",
      "Base.Slice\n",
      "Base.RangeStepStyle\n",
      "Base.isbitsunion\n",
      "Base.reduce\n",
      "Base.IndexCartesian\n",
      "Base.isdispatchtuple\n",
      "Base.Multimedia.display\n",
      "Base.IRShow.compute_ir_line_annotations\n",
      "Base.Broadcast.newindex\n",
      "Base.Sys.isbsd\n",
      "Base.Threads.atomic_cas!\n",
      "Base.CoreLogging.@info\n",
      "Base.CoreLogging.@debug\n",
      "Base.CoreLogging.@error\n",
      "Base.CoreLogging.@warn\n",
      "Base.CoreLogging.@logmsg\n",
      "Base.sortperm\n",
      "Base.Sort.partialsortperm\n",
      "Base.Experimental.register_error_hint\n",
      "LibGit2.isbare\n",
      "LibGit2.treewalk\n",
      "LibGit2.clone\n",
      "LibGit2.DiffOptionsStruct\n",
      "LibGit2.BlameOptions\n",
      "Profile.fetch\n",
      "Base.randn\n",
      "Random.randn!\n",
      "LinearAlgebra.ZeroPivotException\n",
      "Base.sqrt\n",
      "LinearAlgebra.LAPACK.gesvx!\n",
      "SparseArrays.sprand\n",
      "Test.@testset\n",
      "Test.test_expr!\n",
      "Statistics.var\n",
      "Statistics.mean!\n",
      "Statistics.stdm\n",
      "Statistics.mean\n",
      "Statistics.varm\n",
      "Statistics.median\n",
      "Statistics.middle\n",
      "Statistics.std\n",
      "Parsers.Options\n",
      "IJulia.set_cur_msg\n"
     ]
    }
   ],
   "source": [
    "apropos(\"mean\")"
   ]
  },
  {
   "cell_type": "code",
   "execution_count": 48,
   "metadata": {},
   "outputs": [],
   "source": [
    "using Statistics"
   ]
  },
  {
   "cell_type": "code",
   "execution_count": 49,
   "metadata": {},
   "outputs": [
    {
     "name": "stdout",
     "output_type": "stream",
     "text": [
      "search: \u001b[0m\u001b[1mm\u001b[22m\u001b[0m\u001b[1me\u001b[22m\u001b[0m\u001b[1ma\u001b[22m\u001b[0m\u001b[1mn\u001b[22m \u001b[0m\u001b[1mm\u001b[22m\u001b[0m\u001b[1me\u001b[22m\u001b[0m\u001b[1ma\u001b[22m\u001b[0m\u001b[1mn\u001b[22m! \u001b[0m\u001b[1mm\u001b[22m\u001b[0m\u001b[1me\u001b[22mdi\u001b[0m\u001b[1ma\u001b[22m\u001b[0m\u001b[1mn\u001b[22m \u001b[0m\u001b[1mm\u001b[22m\u001b[0m\u001b[1me\u001b[22mdi\u001b[0m\u001b[1ma\u001b[22m\u001b[0m\u001b[1mn\u001b[22m! Seg\u001b[0m\u001b[1mm\u001b[22m\u001b[0m\u001b[1me\u001b[22mnt\u001b[0m\u001b[1ma\u001b[22mtio\u001b[0m\u001b[1mn\u001b[22mFault \u001b[0m\u001b[1mm\u001b[22macro\u001b[0m\u001b[1me\u001b[22mxp\u001b[0m\u001b[1ma\u001b[22m\u001b[0m\u001b[1mn\u001b[22md @\u001b[0m\u001b[1mm\u001b[22macro\u001b[0m\u001b[1me\u001b[22mxp\u001b[0m\u001b[1ma\u001b[22m\u001b[0m\u001b[1mn\u001b[22md\n",
      "\n"
     ]
    },
    {
     "data": {
      "text/latex": [
       "\\begin{verbatim}\n",
       "mean(itr)\n",
       "\\end{verbatim}\n",
       "Compute the mean of all elements in a collection.\n",
       "\n",
       "\\begin{quote}\n",
       "\\textbf{note}\n",
       "\n",
       "Note\n",
       "\n",
       "If \\texttt{itr} contains \\texttt{NaN} or \\href{@ref}{\\texttt{missing}} values, the result is also \\texttt{NaN} or \\texttt{missing} (\\texttt{missing} takes precedence if array contains both). Use the \\href{@ref}{\\texttt{skipmissing}} function to omit \\texttt{missing} entries and compute the mean of non-missing values.\n",
       "\n",
       "\\end{quote}\n",
       "\\section{Examples}\n",
       "\\begin{verbatim}\n",
       "julia> using Statistics\n",
       "\n",
       "julia> mean(1:20)\n",
       "10.5\n",
       "\n",
       "julia> mean([1, missing, 3])\n",
       "missing\n",
       "\n",
       "julia> mean(skipmissing([1, missing, 3]))\n",
       "2.0\n",
       "\\end{verbatim}\n",
       "\\rule{\\textwidth}{1pt}\n",
       "\\begin{verbatim}\n",
       "mean(f::Function, itr)\n",
       "\\end{verbatim}\n",
       "Apply the function \\texttt{f} to each element of collection \\texttt{itr} and take the mean.\n",
       "\n",
       "\\begin{verbatim}\n",
       "julia> using Statistics\n",
       "\n",
       "julia> mean(√, [1, 2, 3])\n",
       "1.3820881233139908\n",
       "\n",
       "julia> mean([√1, √2, √3])\n",
       "1.3820881233139908\n",
       "\\end{verbatim}\n",
       "\\rule{\\textwidth}{1pt}\n",
       "\\begin{verbatim}\n",
       "mean(f::Function, A::AbstractArray; dims)\n",
       "\\end{verbatim}\n",
       "Apply the function \\texttt{f} to each element of array \\texttt{A} and take the mean over dimensions \\texttt{dims}.\n",
       "\n",
       "\\begin{quote}\n",
       "\\textbf{compat}\n",
       "\n",
       "Julia 1.3\n",
       "\n",
       "This method requires at least Julia 1.3.\n",
       "\n",
       "\\end{quote}\n",
       "\\begin{verbatim}\n",
       "julia> using Statistics\n",
       "\n",
       "julia> mean(√, [1, 2, 3])\n",
       "1.3820881233139908\n",
       "\n",
       "julia> mean([√1, √2, √3])\n",
       "1.3820881233139908\n",
       "\n",
       "julia> mean(√, [1 2 3; 4 5 6], dims=2)\n",
       "2×1 Array{Float64,2}:\n",
       " 1.3820881233139908\n",
       " 2.2285192400943226\n",
       "\\end{verbatim}\n",
       "\\rule{\\textwidth}{1pt}\n",
       "\\begin{verbatim}\n",
       "mean(A::AbstractArray; dims)\n",
       "\\end{verbatim}\n",
       "Compute the mean of an array over the given dimensions.\n",
       "\n",
       "\\begin{quote}\n",
       "\\textbf{compat}\n",
       "\n",
       "Julia 1.1\n",
       "\n",
       "\\texttt{mean} for empty arrays requires at least Julia 1.1.\n",
       "\n",
       "\\end{quote}\n",
       "\\section{Examples}\n",
       "\\begin{verbatim}\n",
       "julia> using Statistics\n",
       "\n",
       "julia> A = [1 2; 3 4]\n",
       "2×2 Array{Int64,2}:\n",
       " 1  2\n",
       " 3  4\n",
       "\n",
       "julia> mean(A, dims=1)\n",
       "1×2 Array{Float64,2}:\n",
       " 2.0  3.0\n",
       "\n",
       "julia> mean(A, dims=2)\n",
       "2×1 Array{Float64,2}:\n",
       " 1.5\n",
       " 3.5\n",
       "\\end{verbatim}\n"
      ],
      "text/markdown": [
       "```\n",
       "mean(itr)\n",
       "```\n",
       "\n",
       "Compute the mean of all elements in a collection.\n",
       "\n",
       "!!! note\n",
       "    If `itr` contains `NaN` or [`missing`](@ref) values, the result is also `NaN` or `missing` (`missing` takes precedence if array contains both). Use the [`skipmissing`](@ref) function to omit `missing` entries and compute the mean of non-missing values.\n",
       "\n",
       "\n",
       "# Examples\n",
       "\n",
       "```jldoctest\n",
       "julia> using Statistics\n",
       "\n",
       "julia> mean(1:20)\n",
       "10.5\n",
       "\n",
       "julia> mean([1, missing, 3])\n",
       "missing\n",
       "\n",
       "julia> mean(skipmissing([1, missing, 3]))\n",
       "2.0\n",
       "```\n",
       "\n",
       "---\n",
       "\n",
       "```\n",
       "mean(f::Function, itr)\n",
       "```\n",
       "\n",
       "Apply the function `f` to each element of collection `itr` and take the mean.\n",
       "\n",
       "```jldoctest\n",
       "julia> using Statistics\n",
       "\n",
       "julia> mean(√, [1, 2, 3])\n",
       "1.3820881233139908\n",
       "\n",
       "julia> mean([√1, √2, √3])\n",
       "1.3820881233139908\n",
       "```\n",
       "\n",
       "---\n",
       "\n",
       "```\n",
       "mean(f::Function, A::AbstractArray; dims)\n",
       "```\n",
       "\n",
       "Apply the function `f` to each element of array `A` and take the mean over dimensions `dims`.\n",
       "\n",
       "!!! compat \"Julia 1.3\"\n",
       "    This method requires at least Julia 1.3.\n",
       "\n",
       "\n",
       "```jldoctest\n",
       "julia> using Statistics\n",
       "\n",
       "julia> mean(√, [1, 2, 3])\n",
       "1.3820881233139908\n",
       "\n",
       "julia> mean([√1, √2, √3])\n",
       "1.3820881233139908\n",
       "\n",
       "julia> mean(√, [1 2 3; 4 5 6], dims=2)\n",
       "2×1 Array{Float64,2}:\n",
       " 1.3820881233139908\n",
       " 2.2285192400943226\n",
       "```\n",
       "\n",
       "---\n",
       "\n",
       "```\n",
       "mean(A::AbstractArray; dims)\n",
       "```\n",
       "\n",
       "Compute the mean of an array over the given dimensions.\n",
       "\n",
       "!!! compat \"Julia 1.1\"\n",
       "    `mean` for empty arrays requires at least Julia 1.1.\n",
       "\n",
       "\n",
       "# Examples\n",
       "\n",
       "```jldoctest\n",
       "julia> using Statistics\n",
       "\n",
       "julia> A = [1 2; 3 4]\n",
       "2×2 Array{Int64,2}:\n",
       " 1  2\n",
       " 3  4\n",
       "\n",
       "julia> mean(A, dims=1)\n",
       "1×2 Array{Float64,2}:\n",
       " 2.0  3.0\n",
       "\n",
       "julia> mean(A, dims=2)\n",
       "2×1 Array{Float64,2}:\n",
       " 1.5\n",
       " 3.5\n",
       "```\n"
      ],
      "text/plain": [
       "\u001b[36m  mean(itr)\u001b[39m\n",
       "\n",
       "  Compute the mean of all elements in a collection.\n",
       "\n",
       "\u001b[36m\u001b[1m  │ \u001b[22m\u001b[39m\u001b[36m\u001b[1mNote\u001b[22m\u001b[39m\n",
       "\u001b[36m\u001b[1m  │\u001b[22m\u001b[39m\n",
       "\u001b[36m\u001b[1m  │\u001b[22m\u001b[39m  If \u001b[36mitr\u001b[39m contains \u001b[36mNaN\u001b[39m or \u001b[36mmissing\u001b[39m values, the result is also \u001b[36mNaN\u001b[39m or\n",
       "\u001b[36m\u001b[1m  │\u001b[22m\u001b[39m  \u001b[36mmissing\u001b[39m (\u001b[36mmissing\u001b[39m takes precedence if array contains both). Use the\n",
       "\u001b[36m\u001b[1m  │\u001b[22m\u001b[39m  \u001b[36mskipmissing\u001b[39m function to omit \u001b[36mmissing\u001b[39m entries and compute the mean\n",
       "\u001b[36m\u001b[1m  │\u001b[22m\u001b[39m  of non-missing values.\n",
       "\n",
       "\u001b[1m  Examples\u001b[22m\n",
       "\u001b[1m  ≡≡≡≡≡≡≡≡≡≡\u001b[22m\n",
       "\n",
       "\u001b[36m  julia> using Statistics\u001b[39m\n",
       "\u001b[36m  \u001b[39m\n",
       "\u001b[36m  julia> mean(1:20)\u001b[39m\n",
       "\u001b[36m  10.5\u001b[39m\n",
       "\u001b[36m  \u001b[39m\n",
       "\u001b[36m  julia> mean([1, missing, 3])\u001b[39m\n",
       "\u001b[36m  missing\u001b[39m\n",
       "\u001b[36m  \u001b[39m\n",
       "\u001b[36m  julia> mean(skipmissing([1, missing, 3]))\u001b[39m\n",
       "\u001b[36m  2.0\u001b[39m\n",
       "\n",
       "  ────────────────────────────────────────────────────────────────────────────\n",
       "\n",
       "\u001b[36m  mean(f::Function, itr)\u001b[39m\n",
       "\n",
       "  Apply the function \u001b[36mf\u001b[39m to each element of collection \u001b[36mitr\u001b[39m and take the mean.\n",
       "\n",
       "\u001b[36m  julia> using Statistics\u001b[39m\n",
       "\u001b[36m  \u001b[39m\n",
       "\u001b[36m  julia> mean(√, [1, 2, 3])\u001b[39m\n",
       "\u001b[36m  1.3820881233139908\u001b[39m\n",
       "\u001b[36m  \u001b[39m\n",
       "\u001b[36m  julia> mean([√1, √2, √3])\u001b[39m\n",
       "\u001b[36m  1.3820881233139908\u001b[39m\n",
       "\n",
       "  ────────────────────────────────────────────────────────────────────────────\n",
       "\n",
       "\u001b[36m  mean(f::Function, A::AbstractArray; dims)\u001b[39m\n",
       "\n",
       "  Apply the function \u001b[36mf\u001b[39m to each element of array \u001b[36mA\u001b[39m and take the mean over\n",
       "  dimensions \u001b[36mdims\u001b[39m.\n",
       "\n",
       "\u001b[39m\u001b[1m  │ \u001b[22m\u001b[39m\u001b[1mJulia 1.3\u001b[22m\n",
       "\u001b[39m\u001b[1m  │\u001b[22m\n",
       "\u001b[39m\u001b[1m  │\u001b[22m  This method requires at least Julia 1.3.\n",
       "\n",
       "\u001b[36m  julia> using Statistics\u001b[39m\n",
       "\u001b[36m  \u001b[39m\n",
       "\u001b[36m  julia> mean(√, [1, 2, 3])\u001b[39m\n",
       "\u001b[36m  1.3820881233139908\u001b[39m\n",
       "\u001b[36m  \u001b[39m\n",
       "\u001b[36m  julia> mean([√1, √2, √3])\u001b[39m\n",
       "\u001b[36m  1.3820881233139908\u001b[39m\n",
       "\u001b[36m  \u001b[39m\n",
       "\u001b[36m  julia> mean(√, [1 2 3; 4 5 6], dims=2)\u001b[39m\n",
       "\u001b[36m  2×1 Array{Float64,2}:\u001b[39m\n",
       "\u001b[36m   1.3820881233139908\u001b[39m\n",
       "\u001b[36m   2.2285192400943226\u001b[39m\n",
       "\n",
       "  ────────────────────────────────────────────────────────────────────────────\n",
       "\n",
       "\u001b[36m  mean(A::AbstractArray; dims)\u001b[39m\n",
       "\n",
       "  Compute the mean of an array over the given dimensions.\n",
       "\n",
       "\u001b[39m\u001b[1m  │ \u001b[22m\u001b[39m\u001b[1mJulia 1.1\u001b[22m\n",
       "\u001b[39m\u001b[1m  │\u001b[22m\n",
       "\u001b[39m\u001b[1m  │\u001b[22m  \u001b[36mmean\u001b[39m for empty arrays requires at least Julia 1.1.\n",
       "\n",
       "\u001b[1m  Examples\u001b[22m\n",
       "\u001b[1m  ≡≡≡≡≡≡≡≡≡≡\u001b[22m\n",
       "\n",
       "\u001b[36m  julia> using Statistics\u001b[39m\n",
       "\u001b[36m  \u001b[39m\n",
       "\u001b[36m  julia> A = [1 2; 3 4]\u001b[39m\n",
       "\u001b[36m  2×2 Array{Int64,2}:\u001b[39m\n",
       "\u001b[36m   1  2\u001b[39m\n",
       "\u001b[36m   3  4\u001b[39m\n",
       "\u001b[36m  \u001b[39m\n",
       "\u001b[36m  julia> mean(A, dims=1)\u001b[39m\n",
       "\u001b[36m  1×2 Array{Float64,2}:\u001b[39m\n",
       "\u001b[36m   2.0  3.0\u001b[39m\n",
       "\u001b[36m  \u001b[39m\n",
       "\u001b[36m  julia> mean(A, dims=2)\u001b[39m\n",
       "\u001b[36m  2×1 Array{Float64,2}:\u001b[39m\n",
       "\u001b[36m   1.5\u001b[39m\n",
       "\u001b[36m   3.5\u001b[39m"
      ]
     },
     "execution_count": 49,
     "metadata": {},
     "output_type": "execute_result"
    }
   ],
   "source": [
    "?mean"
   ]
  },
  {
   "cell_type": "markdown",
   "metadata": {},
   "source": [
    "# The file system\n",
    "\n",
    "* On every current operating system, files are organized in a tree of directories starting from a root directory\n",
    "* The absolute path of a directory or file defines which directories to follow starting from the root directory to the given directory or file\n",
    "* In Linux/UNIX/Max OS X, files and directory names are separated by a forwardslash (`/`), on Windows by a backslash (`\\` or `\\\\` if escaped) (but forwardslashes are allowed too)\n",
    "* In order to avoid to deal with long path names, every program has a current working directory\n",
    "* The current working directory from Julia can be queried with the command `pwd()`.\n",
    "* The relative path of a directory or file defines which directories to follow starting from the current directory to the given directory or file\n",
    "* In relative path, two dots (`..`) represent the parent directory.\n",
    "* To change the current directory, you can use the command `cd`. For Linux and Mac OS X:\n",
    "\n",
    "```julia\n",
    "cd(\"/home/MyDir\")\n",
    "``` \n",
    "\n",
    "Under Windows you need to you the following:\n",
    "\n",
    "```julia\n",
    "cd(\"C:\\\\Users\\\\MyDir\")\n",
    "```\n",
    "\n",
    "Note that here two backslashes are necessary ([why?](https://stackoverflow.com/questions/28328052/why-do-i-have-to-use-double-backslashes-for-file-paths-in-code))."
   ]
  },
  {
   "cell_type": "markdown",
   "metadata": {},
   "source": [
    "## NetCDF format\n",
    "The reading/write of netCDF files is done using the [`NCDatasets`](https://github.com/Alexander-Barth/NCDatasets.jl) module, which is automatically installed with `DIVAnd`.\n",
    "You can also find more information in the notebook [03-netCDF](03-netCDF.ipynb).\n",
    "\n",
    "* Reading a variable called `var`  from a netCDF file\n",
    "\n",
    "```julia\n",
    "using NCDatasets\n",
    "ds = Dataset(\"file.nc\")\n",
    "data = ds[\"var\"][:];\n",
    "close(ds)\n",
    "```"
   ]
  },
  {
   "cell_type": "markdown",
   "metadata": {},
   "source": [
    "* Writing a variable called `var` data to a netCDF file\n",
    "\n",
    "```julia\n",
    "ds = Dataset(\"file.nc\",\"c\")\n",
    "\n",
    "# Define the dimension \"lon\" and \"lat\" with the size 100 and 110 resp.\n",
    "defDim(ds,\"lon\",100)\n",
    "defDim(ds,\"lat\",110)\n",
    "\n",
    "\n",
    "# Define the variables temperature and salinity\n",
    "v = defVar(ds,\"temperature\",Float32,(\"lon\",\"lat\"))\n",
    "# write a the complete data set\n",
    "v[:,:] = data\n",
    "close(ds)\n",
    "```"
   ]
  },
  {
   "cell_type": "markdown",
   "metadata": {},
   "source": [
    "# Scripts\n",
    "\n",
    "A script is a series of commands that can be collected in a script file.    \n",
    "A script file has the extension `.jl`.\n",
    "\n",
    "How can Julia find your script file?     \n",
    "* it must be either in your current work directory\n",
    "* the directory containing the script file must be added to the search path using `LOAD_PATH`. For example\n",
    "\n",
    "```julia\n",
    "push!(LOAD_PATH,\"/some/path\")\n",
    "```\n",
    "\n",
    "The code in a script is executed when using [`include`](https://docs.julialang.org/en/stable/base/base/#Base.include), which evaluates the contents of the input source file:\n",
    "\n",
    "```\n",
    "include(\"filename.jl\")\n",
    "```"
   ]
  },
  {
   "cell_type": "markdown",
   "metadata": {},
   "source": [
    "# Functions\n",
    "\n",
    "Functions are similar to scripts.     \n",
    "Unlike scripts, functions can have input/output parameters.    \n",
    "For example a function calculating the speed of ocean current based on the zonal and meridional component"
   ]
  },
  {
   "cell_type": "code",
   "execution_count": 50,
   "metadata": {},
   "outputs": [
    {
     "data": {
      "text/plain": [
       "current_speed (generic function with 1 method)"
      ]
     },
     "execution_count": 50,
     "metadata": {},
     "output_type": "execute_result"
    }
   ],
   "source": [
    "function current_speed(u,v)\n",
    "   speed = sqrt(u^2 + v^2)\n",
    "   return speed\n",
    "end"
   ]
  },
  {
   "cell_type": "code",
   "execution_count": 51,
   "metadata": {},
   "outputs": [
    {
     "data": {
      "text/plain": [
       "7.0710678118654755"
      ]
     },
     "execution_count": 51,
     "metadata": {},
     "output_type": "execute_result"
    }
   ],
   "source": [
    "speed2 = current_speed(5,5)"
   ]
  },
  {
   "cell_type": "markdown",
   "metadata": {},
   "source": [
    "Another example of function: we compute naively the number of days without rain:"
   ]
  },
  {
   "cell_type": "code",
   "execution_count": 52,
   "metadata": {},
   "outputs": [
    {
     "data": {
      "text/plain": [
       "dayswithoutrain (generic function with 1 method)"
      ]
     },
     "execution_count": 52,
     "metadata": {},
     "output_type": "execute_result"
    }
   ],
   "source": [
    "function dayswithoutrain(P)\n",
    "    #....\n",
    "    days = 0\n",
    "    for i = 1 : length(P)\n",
    "        # do something with i\n",
    "        if P[i] == 0\n",
    "            # count\n",
    "            days = days+1\n",
    "        end\n",
    "        @show days\n",
    "    end    \n",
    "    return days\n",
    "    \n",
    "    # Note: what comes after the `return` is not exectuted\n",
    "    print(\"The function has already finished\")\n",
    "end"
   ]
  },
  {
   "cell_type": "code",
   "execution_count": 53,
   "metadata": {},
   "outputs": [
    {
     "name": "stdout",
     "output_type": "stream",
     "text": [
      "days = 1\n",
      "days = 2\n",
      "days = 3\n",
      "days = 3\n",
      "days = 3\n",
      "days = 3\n",
      "days = 3\n",
      "days = 4\n",
      "days = 5\n"
     ]
    },
    {
     "data": {
      "text/plain": [
       "5"
      ]
     },
     "execution_count": 53,
     "metadata": {},
     "output_type": "execute_result"
    }
   ],
   "source": [
    "P = [0,0,0,3,4,5,3,0,0]\n",
    "days = dayswithoutrain(P)    "
   ]
  },
  {
   "cell_type": "markdown",
   "metadata": {},
   "source": [
    "# Modules\n",
    "\n",
    "Functions can be grouped into a module. \n",
    "\n",
    "\n",
    "## Update module list\n",
    "\n",
    "Before installing a module is it recommended to update the module list to ensure that the latest version of a module will be installed.\n",
    "\n",
    "```julia\n",
    "using Pkg\n",
    "Pkg.update()\n",
    "```\n",
    "\n",
    "## Installation of modules\n",
    "\n",
    "Packages can be install by using `Pkg.add` or by using the  Pkg REPL-mode entered from the Julia REPL using the key `]` (https://docs.julialang.org/en/stable/stdlib/Pkg/#Getting-Started-1).     \n",
    "To install the package `PyPlot` one should use for example:\n",
    "\n",
    "```julia\n",
    "using Pkg\n",
    "Pkg.add(\"PyPlot\")\n",
    "```\n",
    "\n",
    "Note, for some packages one might need to follow specific installation instructions which are usually available in the documentation of the corresponding package (e.g. https://github.com/JuliaPy/PyPlot.jl )."
   ]
  },
  {
   "cell_type": "markdown",
   "metadata": {},
   "source": [
    "Module can also be installed directly from a repository:\n",
    "\n",
    "```julia\n",
    "Pkg.add(\"https://github.com/gher-ulg/DIVAnd.jl\")\n",
    "```"
   ]
  },
  {
   "cell_type": "markdown",
   "metadata": {},
   "source": [
    "A module can be upgraded with:\n",
    "```julia\n",
    "using Pkg\n",
    "Pkg.update(\"PyPlot\")\n",
    "```"
   ]
  },
  {
   "cell_type": "markdown",
   "metadata": {},
   "source": [
    "A no-longer used module can be removed with `Pkg.rm(\"ModuleName\")`.     \n",
    "The list of available packages is obtained as follows:\n",
    "\n",
    "```julia\n",
    "Pkg.status()\n",
    "```"
   ]
  },
  {
   "cell_type": "markdown",
   "metadata": {},
   "source": [
    "## Using modules\n",
    "\n",
    "To access a function (e.g. the function `plot`) inside a module (e.g. `PyPlot`), one needs to load the module with `using`. The following loads the module `PyPlot`:\n",
    "\n",
    "```julia\n",
    "using PyPlot\n",
    "```\n",
    "\n",
    "Now the function `plot` can be called."
   ]
  },
  {
   "cell_type": "code",
   "execution_count": 54,
   "metadata": {},
   "outputs": [
    {
     "name": "stderr",
     "output_type": "stream",
     "text": [
      "┌ Info: Precompiling PyPlot [d330b81b-6aea-500a-939a-2ce795aea3ee]\n",
      "└ @ Base loading.jl:1278\n",
      "┌ Warning: `@get!(dict, key, default)` at /home/ctroupin/.julia/packages/MacroTools/jYLA1/src/utils.jl:176 is deprecated, use `get!(()->default, dict, key)` instead.\n",
      "└ @ Base deprecated.jl:204\n",
      "┌ Warning: `@get!(dict, key, default)` at /home/ctroupin/.julia/packages/MacroTools/jYLA1/src/utils.jl:197 is deprecated, use `get!(()->default, dict, key)` instead.\n",
      "└ @ Base deprecated.jl:204\n"
     ]
    }
   ],
   "source": [
    "using PyPlot"
   ]
  },
  {
   "cell_type": "markdown",
   "metadata": {},
   "source": [
    "# Dates\n",
    "The [`Dates`](https://docs.julialang.org/en/v1/stdlib/Dates/index.html) module provides several functions to deal with date and time."
   ]
  },
  {
   "cell_type": "code",
   "execution_count": 55,
   "metadata": {},
   "outputs": [],
   "source": [
    "using Dates"
   ]
  },
  {
   "cell_type": "markdown",
   "metadata": {},
   "source": [
    "Julia has a structure called `DateTime` to represent a date and time."
   ]
  },
  {
   "cell_type": "code",
   "execution_count": 56,
   "metadata": {},
   "outputs": [
    {
     "data": {
      "text/plain": [
       "1999-12-31T23:59:59"
      ]
     },
     "execution_count": 56,
     "metadata": {},
     "output_type": "execute_result"
    }
   ],
   "source": [
    "lastsecond = Dates.DateTime(1999,12,31,23,59,59)"
   ]
  },
  {
   "cell_type": "markdown",
   "metadata": {},
   "source": [
    "The difference between two `DateTime`s returns a structure representing the number of milliseconds."
   ]
  },
  {
   "cell_type": "code",
   "execution_count": 57,
   "metadata": {},
   "outputs": [
    {
     "data": {
      "text/plain": [
       "2001-01-01T00:00:00"
      ]
     },
     "execution_count": 57,
     "metadata": {},
     "output_type": "execute_result"
    }
   ],
   "source": [
    "Dates.DateTime(2001,1,1)"
   ]
  },
  {
   "cell_type": "code",
   "execution_count": 58,
   "metadata": {},
   "outputs": [
    {
     "data": {
      "text/plain": [
       "31622400000 milliseconds"
      ]
     },
     "execution_count": 58,
     "metadata": {},
     "output_type": "execute_result"
    }
   ],
   "source": [
    "dt = Dates.DateTime(2001,1,1) - Dates.DateTime(2000,1,1)"
   ]
  },
  {
   "cell_type": "code",
   "execution_count": 59,
   "metadata": {},
   "outputs": [
    {
     "name": "stdout",
     "output_type": "stream",
     "text": [
      "typeof(dt) = Millisecond\n"
     ]
    },
    {
     "data": {
      "text/plain": [
       "Millisecond"
      ]
     },
     "execution_count": 59,
     "metadata": {},
     "output_type": "execute_result"
    }
   ],
   "source": [
    "@show typeof(dt)"
   ]
  },
  {
   "cell_type": "markdown",
   "metadata": {},
   "source": [
    "The time difference can be converted into days:"
   ]
  },
  {
   "cell_type": "code",
   "execution_count": 60,
   "metadata": {},
   "outputs": [
    {
     "data": {
      "text/plain": [
       "366 days"
      ]
     },
     "execution_count": 60,
     "metadata": {},
     "output_type": "execute_result"
    }
   ],
   "source": [
    "Dates.Day(Dates.DateTime(2001,1,1) - Dates.DateTime(2000,1,1))"
   ]
  },
  {
   "cell_type": "markdown",
   "metadata": {},
   "source": [
    "Add a duration to a date"
   ]
  },
  {
   "cell_type": "code",
   "execution_count": 61,
   "metadata": {},
   "outputs": [
    {
     "data": {
      "text/plain": [
       "2001-01-01T00:00:00"
      ]
     },
     "execution_count": 61,
     "metadata": {},
     "output_type": "execute_result"
    }
   ],
   "source": [
    "Dates.DateTime(2000,1,1) + Dates.Day(366)"
   ]
  },
  {
   "cell_type": "markdown",
   "metadata": {},
   "source": [
    "Compute number of days before or after `now()`:"
   ]
  },
  {
   "cell_type": "code",
   "execution_count": 62,
   "metadata": {},
   "outputs": [
    {
     "data": {
      "text/plain": [
       "-697.4549952662037"
      ]
     },
     "execution_count": 62,
     "metadata": {},
     "output_type": "execute_result"
    }
   ],
   "source": [
    "Dates.value(Dates.DateTime(2018,9,7) - Dates.now()) / 1000 / 60 / 60 / 24"
   ]
  },
  {
   "cell_type": "code",
   "execution_count": 63,
   "metadata": {},
   "outputs": [
    {
     "data": {
      "text/plain": [
       "-1062.4549984027778"
      ]
     },
     "execution_count": 63,
     "metadata": {},
     "output_type": "execute_result"
    }
   ],
   "source": [
    "Dates.value(Dates.DateTime(2017,9,7) - Dates.now()) /(24*60*60*1000)"
   ]
  },
  {
   "cell_type": "markdown",
   "metadata": {},
   "source": [
    "**Exercice:**     \n",
    "Compute in how many days is your next birthday using the previous functions."
   ]
  },
  {
   "cell_type": "markdown",
   "metadata": {},
   "source": [
    "# Control Flow\n",
    "## Loops\n",
    "Let your computer do repetitive tasks!      \n",
    "Loops have a counter which takes successively all elements of a row vector"
   ]
  },
  {
   "cell_type": "code",
   "execution_count": 64,
   "metadata": {},
   "outputs": [
    {
     "name": "stdout",
     "output_type": "stream",
     "text": [
      "i = 1\n",
      "i = 2\n",
      "i = 10\n",
      "i = 20\n"
     ]
    }
   ],
   "source": [
    "for i = [1 2 10 20]\n",
    "    @show i\n",
    "end"
   ]
  },
  {
   "cell_type": "markdown",
   "metadata": {},
   "source": [
    "Loops are often used with a range of values"
   ]
  },
  {
   "cell_type": "code",
   "execution_count": 65,
   "metadata": {},
   "outputs": [
    {
     "name": "stdout",
     "output_type": "stream",
     "text": [
      "i = 1\n",
      "i = 2\n",
      "i = 3\n",
      "i = 4\n",
      "i = 5\n"
     ]
    }
   ],
   "source": [
    "for i = 1:5\n",
    "    @show i\n",
    "end"
   ]
  },
  {
   "cell_type": "markdown",
   "metadata": {},
   "source": [
    "Explicit loops can sometimes be avoided,     \n",
    "for example, sum all integer from 1 to 10"
   ]
  },
  {
   "cell_type": "code",
   "execution_count": 66,
   "metadata": {},
   "outputs": [
    {
     "data": {
      "text/plain": [
       "55"
      ]
     },
     "execution_count": 66,
     "metadata": {},
     "output_type": "execute_result"
    }
   ],
   "source": [
    "total = 0;\n",
    "for i = 1:10\n",
    "   total = total + i;\n",
    "end\n",
    "total"
   ]
  },
  {
   "cell_type": "markdown",
   "metadata": {},
   "source": [
    "Can simply be computed as `sum(1:10)`."
   ]
  },
  {
   "cell_type": "markdown",
   "metadata": {},
   "source": [
    "# if-statement\n",
    "\n",
    "* Sometimes your code needs to behave differently depending on some conditions.\n",
    "\n",
    "* if-statement has the following structure.\n",
    "\n",
    "```julia\n",
    "if some_conditions\n",
    "  # do something\n",
    "else\n",
    "  # do something else\n",
    "end\n",
    "```\n",
    "The else section can be omitted.\n",
    "\n",
    "For example.\n",
    "\n",
    "```julia\n",
    "if x < 0\n",
    "   x = -x;\n",
    "end\n",
    "```\n",
    "\n",
    "__Quiz:__ Which Julia function implements the last code example?"
   ]
  },
  {
   "cell_type": "code",
   "execution_count": 67,
   "metadata": {},
   "outputs": [],
   "source": [
    "if Dates.dayname(Dates.dayofweek(Dates.today())) == \"Friday\"\n",
    "   print(\"Have a nice weekend\") \n",
    "end"
   ]
  },
  {
   "cell_type": "code",
   "execution_count": null,
   "metadata": {},
   "outputs": [],
   "source": []
  }
 ],
 "metadata": {
  "@webio": {
   "lastCommId": null,
   "lastKernelId": null
  },
  "kernelspec": {
   "display_name": "Julia 1.8.0",
   "language": "julia",
   "name": "julia-1.8"
  },
  "language_info": {
   "file_extension": ".jl",
   "mimetype": "application/julia",
   "name": "julia",
   "version": "1.8.0"
  }
 },
 "nbformat": 4,
 "nbformat_minor": 1
}
