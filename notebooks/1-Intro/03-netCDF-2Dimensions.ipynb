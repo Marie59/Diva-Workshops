{
 "cells": [
  {
   "cell_type": "markdown",
   "metadata": {},
   "source": [
    "Solution of the exercice where we have to write a 2-dimensional netCDF file.      \n",
    "The main module we need is [NCDatasets](https://github.com/Alexander-Barth/NCDatasets.jl)."
   ]
  },
  {
   "cell_type": "code",
   "execution_count": 1,
   "metadata": {},
   "outputs": [],
   "source": [
    "using NCDatasets"
   ]
  },
  {
   "cell_type": "markdown",
   "metadata": {},
   "source": [
    "# Data\n",
    "We create fake data: temperature as a random field, longitude and latitude as regularly spaced vectors."
   ]
  },
  {
   "cell_type": "code",
   "execution_count": 2,
   "metadata": {},
   "outputs": [],
   "source": [
    "dlon = 0.5;    # longitude resolution\n",
    "dlat = 0.25;   # latitude resolution\n",
    "lonmin = 27.;\n",
    "lonmax = 42.;\n",
    "latmin = 40.;\n",
    "latmax = 48.;"
   ]
  },
  {
   "cell_type": "code",
   "execution_count": 3,
   "metadata": {},
   "outputs": [],
   "source": [
    "lonvalues = collect(lonmin:dlon:lonmax);\n",
    "latvalues = collect(latmin:dlat:latmax);\n",
    "temperature = rand(length(latvalues), length(lonvalues));"
   ]
  },
  {
   "cell_type": "markdown",
   "metadata": {},
   "source": [
    "We can check the size of the temperature field:"
   ]
  },
  {
   "cell_type": "code",
   "execution_count": 4,
   "metadata": {},
   "outputs": [
    {
     "name": "stdout",
     "output_type": "stream",
     "text": [
      "size(temperature) = (33, 31)\n"
     ]
    }
   ],
   "source": [
    "@show size(temperature);"
   ]
  },
  {
   "cell_type": "markdown",
   "metadata": {},
   "source": [
    "# NetCDF creation\n",
    "First we create a dataset.     \n",
    "We remove the file in case it already exists."
   ]
  },
  {
   "cell_type": "code",
   "execution_count": 5,
   "metadata": {},
   "outputs": [
    {
     "name": "stderr",
     "output_type": "stream",
     "text": [
      "┌ Info: File already exists, will remove it\n",
      "└ @ Main In[5]:3\n"
     ]
    }
   ],
   "source": [
    "datafile = \"../data/temperature2D.nc\";\n",
    "if isfile(datafile)\n",
    "    @info(\"File already exists, will remove it\")\n",
    "    rm(datafile)\n",
    "end\n",
    "ds = Dataset(datafile, \"c\");"
   ]
  },
  {
   "cell_type": "markdown",
   "metadata": {},
   "source": [
    "Then we define the dimensions (`lon` and `lat`):"
   ]
  },
  {
   "cell_type": "code",
   "execution_count": 6,
   "metadata": {},
   "outputs": [],
   "source": [
    "defDim(ds, \"lon\", length(lonvalues));\n",
    "defDim(ds, \"lat\", length(latvalues));"
   ]
  },
  {
   "cell_type": "markdown",
   "metadata": {},
   "source": [
    "We continue by defining the variables corresponding to the coordinates:"
   ]
  },
  {
   "cell_type": "code",
   "execution_count": 7,
   "metadata": {},
   "outputs": [],
   "source": [
    "defVar(ds, \"lon\", Float64, (\"lon\",));\n",
    "defVar(ds, \"lat\", Float64, (\"lat\",));"
   ]
  },
  {
   "cell_type": "markdown",
   "metadata": {},
   "source": [
    "to which we can assign a value:"
   ]
  },
  {
   "cell_type": "code",
   "execution_count": 8,
   "metadata": {},
   "outputs": [],
   "source": [
    "ds[\"lon\"][:] = lonvalues;\n",
    "ds[\"lat\"][:] = latvalues;"
   ]
  },
  {
   "cell_type": "markdown",
   "metadata": {},
   "source": [
    "Finally we define the temperature variable and assign a value to it:"
   ]
  },
  {
   "cell_type": "code",
   "execution_count": 9,
   "metadata": {},
   "outputs": [],
   "source": [
    "T = defVar(ds, \"temperature\", Float64, (\"lat\", \"lon\"));\n",
    "T[:] = temperature;\n",
    "close(ds)"
   ]
  },
  {
   "cell_type": "markdown",
   "metadata": {},
   "source": [
    "Note that we close the dataset with the last line.\n",
    "\n",
    "We check if it worked, for example using [`ncdump`](https://www.unidata.ucar.edu/software/netcdf/netcdf-4/newdocs/netcdf/ncdump.html):\n",
    "```julia\n",
    "run(`ncdump temperature2D.nc`)\n",
    "```"
   ]
  },
  {
   "cell_type": "markdown",
   "metadata": {},
   "source": [
    "or with [ncview](http://meteora.ucsd.edu/~pierce/ncview_home_page.html):\n",
    "```julia\n",
    "run(`ncview temperature2D.nc`)\n",
    "```"
   ]
  },
  {
   "cell_type": "markdown",
   "metadata": {
    "collapsed": true
   },
   "source": [
    "which should display something like this: ![ncview](./Images/netcdf-exercice.jpg)"
   ]
  }
 ],
 "metadata": {
  "kernelspec": {
   "display_name": "Julia 1.4.1",
   "language": "julia",
   "name": "julia-1.4"
  },
  "language_info": {
   "file_extension": ".jl",
   "mimetype": "application/julia",
   "name": "julia",
   "version": "1.4.1"
  }
 },
 "nbformat": 4,
 "nbformat_minor": 2
}
