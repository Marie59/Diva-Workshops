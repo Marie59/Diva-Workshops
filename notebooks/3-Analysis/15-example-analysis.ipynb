{
 "cells": [
  {
   "cell_type": "markdown",
   "metadata": {},
   "source": [
    "# DIVAnd analysis using the sample data set\n",
    "\n",
    "This example performs a salinity analysis using data from the Black Sea.     \n",
    "The analysis is done for every season and year (using all data with 10-year sliding windows form the same season).\n",
    "\n",
    "For testing purposes, let's start with a low resolution.\n",
    "\n",
    "A slightly large test case:\n",
    "* horizontal resolution of 0.1 degree for the Black Sea\n",
    "* 51 depths levels\n",
    "* 8 time instance\n",
    "* fixed correlation length\n",
    "* CPU time: 21 minutes\n",
    "* CPU time increases linearly with the number of time instance."
   ]
  },
  {
   "cell_type": "code",
   "execution_count": null,
   "metadata": {},
   "outputs": [],
   "source": [
    "using DIVAnd\n",
    "using PyPlot\n",
    "using NCDatasets\n",
    "using DataStructures\n",
    "using Dates\n",
    "using Statistics\n",
    "include(\"../config.jl\")"
   ]
  },
  {
   "cell_type": "markdown",
   "metadata": {},
   "source": [
    "Download the file `Salinity.bigfile` (if it is not already present). It will be placed in the same directory as this notebook. This file based on the World Ocean Database."
   ]
  },
  {
   "cell_type": "code",
   "execution_count": null,
   "metadata": {},
   "outputs": [],
   "source": [
    "fname = salinitybigfile\n",
    "download_check(fname, salinitybigfileURL)"
   ]
  },
  {
   "cell_type": "markdown",
   "metadata": {},
   "source": [
    "Download the bathymetry if it is not already present"
   ]
  },
  {
   "cell_type": "code",
   "execution_count": null,
   "metadata": {},
   "outputs": [],
   "source": [
    "bathname = gebco16file\n",
    "download_check(gebco16file, gebco16fileURL)\n",
    "bathisglobal = true"
   ]
  },
  {
   "cell_type": "markdown",
   "metadata": {},
   "source": [
    "Load the data which is here a simple text file with the following columns\n",
    "\n",
    "| longitude | latitude | value | depth | flag | year | month | day | hour | time string | identifier | bottom depth |\n",
    "|----------:|---------:|------:|------:|-------:|------:|-----:|-----|------:|-------:|-------:|-------:|\n",
    "| 28.3333 | 43.167 | 15.7020 | 0.0 | 0 | 1991 | 09 | 03 | 16 | 1991-09-03T16:25 | Cruise:WOD05_BG000003-11570900-28.3333-43.167 | 36 | \n",
    "| 28.3333 | 43.167 | 15.7380 | 10.0 | 0 | 1991 | 09 | 03 | 16 | 1991-09-03T16:25 | Cruise:WOD05_BG000003-11570900-28.3333-43.167 | 36 |\n",
    "\n",
    "Only longitude, latitude, depth, time and the values are used."
   ]
  },
  {
   "cell_type": "code",
   "execution_count": null,
   "metadata": {},
   "outputs": [],
   "source": [
    "obsval,obslon,obslat,obsdepth,obstime,obsid = loadbigfile(fname);\n",
    "@show size(obsval);"
   ]
  },
  {
   "cell_type": "code",
   "execution_count": null,
   "metadata": {},
   "outputs": [],
   "source": [
    "replace(split(obsid[1], \":\")[2], \"_\"=>\"-\")"
   ]
  },
  {
   "cell_type": "code",
   "execution_count": null,
   "metadata": {},
   "outputs": [],
   "source": [
    "obsid_mod = [join((split(replace(split(oo, \":\")[2], \"_\"=>\"-\"), \"-\")[1:3]), \"-\") for oo in obsid];"
   ]
  },
  {
   "cell_type": "markdown",
   "metadata": {},
   "source": [
    "The file contains about 140000 measurements.     \n",
    "Print some basic statistics about the data. Keep an eye on the ranges."
   ]
  },
  {
   "cell_type": "code",
   "execution_count": null,
   "metadata": {},
   "outputs": [],
   "source": [
    "checkobs((obslon,obslat,obsdepth,obstime),obsval,obsid)"
   ]
  },
  {
   "cell_type": "markdown",
   "metadata": {},
   "source": [
    "Define the resolution. It is recommended to start with a low resolution and increase the resolution when the results are suitable."
   ]
  },
  {
   "cell_type": "code",
   "execution_count": null,
   "metadata": {},
   "outputs": [],
   "source": [
    "dx = 0.2 # longitude resolution in degrees\n",
    "dy = 0.2 # latitude resolution in degrees"
   ]
  },
  {
   "cell_type": "markdown",
   "metadata": {},
   "source": [
    "Define the bounding box of the spatial domain"
   ]
  },
  {
   "cell_type": "code",
   "execution_count": null,
   "metadata": {},
   "outputs": [],
   "source": [
    "lonr = 27.:dx:42.; # the range of longitudes (start:step:end)\n",
    "latr = 40.:dy:47.; # the range of latitudes (start:step:end)"
   ]
  },
  {
   "cell_type": "markdown",
   "metadata": {},
   "source": [
    "Define the depth levels"
   ]
  },
  {
   "cell_type": "code",
   "execution_count": null,
   "metadata": {},
   "outputs": [],
   "source": [
    "depthr = [0.,5., 10., 15., 20., 25., 30., 40., 50., 66, \n",
    "    75, 85, 100, 112, 125, 135, 150, 175, 200, 225, 250, \n",
    "    275, 300, 350, 400, 450, 500, 550, 600, 650, 700, 750, \n",
    "    800, 850, 900, 950, 1000, 1050, 1100, 1150, 1200, 1250, \n",
    "    1300, 1350, 1400, 1450, 1500, 1600, 1750, 1850, 2000]\n",
    "\n",
    "# or for testing just a few levels\n",
    "depthr = [0.,20.,50.]\n",
    "\n",
    "@show size(depthr);"
   ]
  },
  {
   "cell_type": "markdown",
   "metadata": {},
   "source": [
    "The error variance of the observation (scaled by the error variance of the background).    \n",
    "Note that this is the inverse of the signal-to-noise ratio used in the 2D version of `DIVA`."
   ]
  },
  {
   "cell_type": "code",
   "execution_count": null,
   "metadata": {},
   "outputs": [],
   "source": [
    "epsilon2 = 0.01;"
   ]
  },
  {
   "cell_type": "markdown",
   "metadata": {},
   "source": [
    "* Correlation length in meters (in x, y, and z directions)\n",
    "* 200_000. is the same as 200000., but the former is easier to read."
   ]
  },
  {
   "cell_type": "code",
   "execution_count": null,
   "metadata": {},
   "outputs": [],
   "source": [
    "sz = (length(lonr),length(latr),length(depthr))\n",
    "\n",
    "lenx = fill(200_000.,sz)\n",
    "leny = fill(200_000.,sz)\n",
    "lenz = [10+depthr[k]/15 for i = 1:sz[1], j = 1:sz[2], k = 1:sz[3]];"
   ]
  },
  {
   "cell_type": "markdown",
   "metadata": {},
   "source": [
    "Year range and averaging time window"
   ]
  },
  {
   "cell_type": "code",
   "execution_count": null,
   "metadata": {},
   "outputs": [],
   "source": [
    "years = 1993:1994\n",
    "\n",
    "year_window = 10\n",
    "\n",
    "# winter: January-March    1,2,3\n",
    "# spring: April-June       4,5,6\n",
    "# summer: July-September   7,8,9\n",
    "# autumn: October-December 10,11,12\n",
    "\n",
    "monthlists = [\n",
    "    [1,2,3],\n",
    "    [4,5,6],\n",
    "    [7,8,9],\n",
    "    [10,11,12]\n",
    "];"
   ]
  },
  {
   "cell_type": "markdown",
   "metadata": {},
   "source": [
    "* Other possible choises for the time selector are `TimeSelectorYearListMonthList` and `TimeSelectorRunningAverage`.\n",
    "* Type `?` followed by these functions"
   ]
  },
  {
   "cell_type": "code",
   "execution_count": null,
   "metadata": {},
   "outputs": [],
   "source": [
    "?TimeSelectorYW"
   ]
  },
  {
   "cell_type": "code",
   "execution_count": null,
   "metadata": {},
   "outputs": [],
   "source": [
    "TS = TimeSelectorYW(years,year_window,monthlists)\n",
    "\n",
    "varname = \"Salinity\"\n",
    "\n",
    "# File name based on the variable (but all spaces are replaced by _)\n",
    "filename = \"Water_body_$(replace(varname, \" \"=>\"_\")).4Danl.nc\"\n",
    "\n",
    "# Time origin for the NetCDF file\n",
    "timeorigin = DateTime(1900,1,1,0,0,0)\n",
    "\n",
    "# Extract the bathymetry for plotting\n",
    "bx,by,b = extract_bath(bathname,bathisglobal,lonr,latr);"
   ]
  },
  {
   "cell_type": "markdown",
   "metadata": {},
   "source": [
    "A list of all metadata"
   ]
  },
  {
   "cell_type": "code",
   "execution_count": null,
   "metadata": {},
   "outputs": [],
   "source": [
    "metadata = OrderedDict(\n",
    "    # Name of the project (SeaDataCloud, SeaDataNet, EMODNET-chemistry, ...)\n",
    "    \"project\" => \"SeaDataCloud\",\n",
    "\n",
    "    # URN code for the institution EDMO registry,\n",
    "    # e.g. SDN:EDMO::1579\n",
    "    \"institution_urn\" => \"SDN:EDMO::1579\",\n",
    "\n",
    "    # Production group\n",
    "    #\"production\" => \"Diva group\",\n",
    "\n",
    "    # Name and emails from authors\n",
    "    \"Author_e-mail\" => [\"Your Name1 <name1@example.com>\", \"Other Name <name2@example.com>\"],\n",
    "\n",
    "    # Source of the observation\n",
    "    \"source\" => \"observational data from SeaDataNet/EMODNet Chemistry Data Network\",\n",
    "\n",
    "    # Additional comment\n",
    "    \"comment\" => \"...\",\n",
    "\n",
    "    # SeaDataNet Vocabulary P35 URN\n",
    "    # http://seadatanet.maris2.nl/v_bodc_vocab_v2/search.asp?lib=p35\n",
    "    # example: SDN:P35::WATERTEMP\n",
    "    \"parameter_keyword_urn\" => \"SDN:P35::EPC00001\",\n",
    "\n",
    "    # List of SeaDataNet Parameter Discovery Vocabulary P02 URNs\n",
    "    # http://seadatanet.maris2.nl/v_bodc_vocab_v2/search.asp?lib=p02\n",
    "    # example: [\"SDN:P02::TEMP\"]\n",
    "    \"search_keywords_urn\" => [\"SDN:P02::PSAL\"],\n",
    "\n",
    "    # List of SeaDataNet Vocabulary C19 area URNs\n",
    "    # SeaVoX salt and fresh water body gazetteer (C19)\n",
    "    # http://seadatanet.maris2.nl/v_bodc_vocab_v2/search.asp?lib=C19\n",
    "    # example: [\"SDN:C19::3_1\"]\n",
    "    \"area_keywords_urn\" => [\"SDN:C19::3_3\"],\n",
    "\n",
    "    \"product_version\" => \"1.0\",\n",
    "    \n",
    "    \"product_code\" => \"something-to-decide\",\n",
    "    \n",
    "    # bathymetry source acknowledgement\n",
    "    # see, e.g.\n",
    "    # * EMODnet Bathymetry Consortium (2016): EMODnet Digital Bathymetry (DTM).\n",
    "    # https://doi.org/10.12770/c7b53704-999d-4721-b1a3-04ec60c87238\n",
    "    # \n",
    "    # taken from\n",
    "    # http://www.emodnet-bathymetry.eu/data-products/acknowledgement-in-publications\n",
    "    #\n",
    "    # * The GEBCO Digital Atlas published by the British Oceanographic Data Centre on behalf of IOC and IHO, 2003\n",
    "    #\n",
    "    # taken from\n",
    "    # https://www.bodc.ac.uk/projects/data_management/international/gebco/gebco_digital_atlas/copyright_and_attribution/\n",
    "        \n",
    "    \"bathymetry_source\" => \"The GEBCO Digital Atlas published by the British Oceanographic Data Centre on behalf of IOC and IHO, 2003\",\n",
    "\n",
    "    # NetCDF CF standard name\n",
    "    # http://cfconventions.org/Data/cf-standard-names/current/build/cf-standard-name-table.html\n",
    "    # example \"standard_name\" = \"sea_water_temperature\",\n",
    "    \"netcdf_standard_name\" => \"sea_water_salinity\",\n",
    "\n",
    "    \"netcdf_long_name\" => \"sea water salinity\",\n",
    "\n",
    "    \"netcdf_units\" => \"1e-3\",\n",
    "\n",
    "    # Abstract for the product\n",
    "    \"abstract\" => \"...\",\n",
    "\n",
    "    # This option provides a place to acknowledge various types of support for the\n",
    "    # project that produced the data\n",
    "    \"acknowledgement\" => \"...\",\n",
    "\n",
    "    \"documentation\" => \"https://doi.org/doi_of_doc\",\n",
    "\n",
    "    # Digital Object Identifier of the data product\n",
    "    \"doi\" => \"...\")"
   ]
  },
  {
   "cell_type": "markdown",
   "metadata": {},
   "source": [
    "* Make the NetCDF global and variable attributes based on the metadata.\n",
    "* Custom attributes can be added by changing `ncglobalattrib`:\n",
    "\n",
    "```julia\n",
    "ncglobalattrib[\"attribute_name\"] = \"attribute_value\"\n",
    "```\n"
   ]
  },
  {
   "cell_type": "code",
   "execution_count": null,
   "metadata": {},
   "outputs": [],
   "source": [
    "ncglobalattrib, ncvarattrib = SDNMetadata(metadata,filename,varname,lonr,latr)"
   ]
  },
  {
   "cell_type": "markdown",
   "metadata": {},
   "source": [
    "Plot the results near the surface for debugging and quick inspection.\n",
    "\n",
    "To generate the plots, we define a function `plotres` (see next cell) that will be used as an optional argument when we call the interpolation with `DIVAnd`."
   ]
  },
  {
   "cell_type": "code",
   "execution_count": null,
   "metadata": {},
   "outputs": [],
   "source": [
    "function plotres(timeindex,sel,fit,erri)\n",
    "    tmp = copy(fit)\n",
    "    tmp[erri .> .5] .= NaN;\n",
    "    figure(figsize = (10,5))\n",
    "\n",
    "    # select the data near the surface\n",
    "    selsurface = sel .& (obsdepth .< 5)\n",
    "    vmin,vmax = quantile(obsval[selsurface],(0.01,0.99))\n",
    "\n",
    "    # plot the data\n",
    "    subplot(1,2,1)\n",
    "    scatter(obslon[selsurface],obslat[selsurface],10,obsval[selsurface];\n",
    "            vmin = vmin, vmax = vmax)\n",
    "    xlim(minimum(lonr),maximum(lonr))\n",
    "    ylim(minimum(latr),maximum(latr))\n",
    "    colorbar(orientation=\"horizontal\")\n",
    "    contourf(bx,by,b', levels = [-1e5,0],colors = [[.5,.5,.5]])\n",
    "    gca().set_aspect(1/cosd(mean(by)))\n",
    "    title(\"Observations ($(timeindex))\")\n",
    "\n",
    "    # plot the analysis\n",
    "    subplot(1,2,2)\n",
    "    pcolor(lonr,latr,permutedims(tmp[:,:,1],[2,1]);\n",
    "           vmin = vmin, vmax = vmax)\n",
    "    colorbar(orientation=\"horizontal\")\n",
    "    contourf(bx,by,b', levels = [-1e5,0],colors = [[.5,.5,.5]])\n",
    "    gca().set_aspect(1/cosd(mean(by)))\n",
    "    title(\"Analysis ($(timeindex))\")\n",
    "end"
   ]
  },
  {
   "cell_type": "markdown",
   "metadata": {},
   "source": [
    "If you do not want to generate plots but print the time index at every time slice\n",
    "you can use the function `plotres_timeindex`."
   ]
  },
  {
   "cell_type": "code",
   "execution_count": null,
   "metadata": {},
   "outputs": [],
   "source": [
    "function plotres_timeindex(timeindex,sel,fit,erri)\n",
    "    @show timeindex\n",
    "end"
   ]
  },
  {
   "cell_type": "markdown",
   "metadata": {},
   "source": [
    "Launch the analysis. Plotting can be disabled by commenting the line containing `plotres`.\n",
    "\n",
    "Here we use `diva3d`, which performs a series of 3D analyses (lon, lat and depth) for the different periods defined previously."
   ]
  },
  {
   "cell_type": "code",
   "execution_count": null,
   "metadata": {},
   "outputs": [],
   "source": [
    "if isfile(filename)\n",
    "   rm(filename) # delete the previous analysis\n",
    "end\n",
    "\n",
    "@time dbinfo = diva3d((lonr,latr,depthr,TS),\n",
    "              (obslon,obslat,obsdepth,obstime),\n",
    "              obsval,\n",
    "              (lenx,leny,lenz),\n",
    "              epsilon2,\n",
    "              filename,varname,\n",
    "              bathname = bathname,\n",
    "              bathisglobal = bathisglobal,\n",
    "              plotres = plotres,\n",
    "              ncvarattrib = ncvarattrib,\n",
    "              ncglobalattrib = ncglobalattrib,\n",
    "              timeorigin = timeorigin\n",
    "       );\n",
    "\n",
    "\n",
    "residual = dbinfo[:residuals];"
   ]
  },
  {
   "cell_type": "markdown",
   "metadata": {},
   "source": [
    "This generates many plots (one for every time instance).     \n",
    "The number in the title is the time index starting with the first season and year.\n"
   ]
  },
  {
   "cell_type": "markdown",
   "metadata": {},
   "source": [
    "Save the observation metadata in the NetCDF file"
   ]
  },
  {
   "cell_type": "code",
   "execution_count": null,
   "metadata": {},
   "outputs": [],
   "source": [
    "DIVAnd.saveobs(filename,(obslon,obslat,obsdepth,obstime),obsid_mod)"
   ]
  },
  {
   "cell_type": "markdown",
   "metadata": {},
   "source": [
    "# Residuals"
   ]
  },
  {
   "cell_type": "markdown",
   "metadata": {},
   "source": [
    "Range of the residuals"
   ]
  },
  {
   "cell_type": "code",
   "execution_count": null,
   "metadata": {},
   "outputs": [],
   "source": [
    "res = get(dbinfo, :residuals, 0)\n",
    "@show extrema(res);"
   ]
  },
  {
   "cell_type": "markdown",
   "metadata": {},
   "source": [
    "Residuals with NaNs removed"
   ]
  },
  {
   "cell_type": "code",
   "execution_count": null,
   "metadata": {},
   "outputs": [],
   "source": [
    "res = residual[.!isnan.(residual)]\n",
    "\n",
    "@show extrema(res);\n",
    "@show quantile(res,[0.01,0.99]);"
   ]
  },
  {
   "cell_type": "markdown",
   "metadata": {},
   "source": [
    "Get the identifier of the anomalous point"
   ]
  },
  {
   "cell_type": "code",
   "execution_count": null,
   "metadata": {},
   "outputs": [],
   "source": [
    "i = findfirst(minimum(res) .== residual)\n",
    "obsid[i]"
   ]
  },
  {
   "cell_type": "markdown",
   "metadata": {},
   "source": [
    "For future analysis the residuals can also be saved."
   ]
  },
  {
   "cell_type": "code",
   "execution_count": null,
   "metadata": {},
   "outputs": [],
   "source": [
    "outputdir = \"./output/\"\n",
    "if !isdir(outputdir)\n",
    "    mkpath(outputdir)\n",
    "end\n",
    "\n",
    "resname = joinpath(outputdir, \"Water_body_$(replace(varname, \" \"=>\"_\")).residuals.nc\")\n",
    "if isfile(resname)\n",
    "   rm(resname)\n",
    "end\n",
    "DIVAnd.saveobs(resname,\"$(varname)_residual\",residual,(obslon,obslat,obsdepth,obstime),obsid)"
   ]
  },
  {
   "cell_type": "markdown",
   "metadata": {},
   "source": [
    "* Visualize the residuals (observations minus analysis)\n",
    "* Change depth and time\n",
    "* Adjust colorbare range (`clim`) to see large residuals"
   ]
  },
  {
   "cell_type": "code",
   "execution_count": null,
   "metadata": {},
   "outputs": [],
   "source": [
    "sel = (obsdepth .<  50) .& (Dates.month.(obstime) .== 1)\n",
    "print(\"Number of data points: $(sum(sel))\")\n",
    "contourf(bx,by,b', levels = [-1e5,0],colors = [[.5,.5,.5]])\n",
    "scatter(obslon[sel],obslat[sel],10,residual[sel]; cmap=\"RdBu_r\")\n",
    "clim(-1,1)\n",
    "# set the correct aspect ratio\n",
    "gca().set_aspect(1/cosd(mean(latr)))\n",
    "colorbar(orientation = \"horizontal\");"
   ]
  },
  {
   "cell_type": "code",
   "execution_count": null,
   "metadata": {},
   "outputs": [],
   "source": []
  }
 ],
 "metadata": {
  "@webio": {
   "lastCommId": null,
   "lastKernelId": null
  },
  "kernelspec": {
   "display_name": "Julia 1.10.0",
   "language": "julia",
   "name": "julia-1.10"
  },
  "language_info": {
   "file_extension": ".jl",
   "mimetype": "application/julia",
   "name": "julia",
   "version": "1.10.0"
  }
 },
 "nbformat": 4,
 "nbformat_minor": 2
}
