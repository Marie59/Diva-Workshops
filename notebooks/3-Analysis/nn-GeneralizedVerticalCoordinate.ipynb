{
 "cells": [
  {
   "cell_type": "markdown",
   "metadata": {
    "slideshow": {
     "slide_type": "slide"
    }
   },
   "source": [
    "# DIVAnd in generalized vertical coordinates\n",
    "\n"
   ]
  },
  {
   "cell_type": "code",
   "execution_count": 1,
   "metadata": {},
   "outputs": [
    {
     "name": "stdout",
     "output_type": "stream",
     "text": [
      "\u001b[32m\u001b[1mStatus\u001b[22m\u001b[39m `C:\\Users\\jmbeckers\\Documents\\GitHub\\Diva-Workshops\\Project.toml`\n",
      " \u001b[90m [336ed68f] \u001b[39mCSV v0.10.9\n",
      " \u001b[90m [34da2185] \u001b[39mCompat v4.6.0\n",
      " \u001b[90m [efc8151c] \u001b[39mDIVAnd v2.7.9\n",
      " \u001b[90m [864edb3b] \u001b[39mDataStructures v0.18.13\n",
      " \u001b[90m [7073ff75] \u001b[39mIJulia v1.24.0\n",
      " \u001b[90m [a98d9a8b] \u001b[39mInterpolations v0.14.7\n",
      " \u001b[90m [23992714] \u001b[39mMAT v0.10.3\n",
      " \u001b[90m [e1d29d7a] \u001b[39mMissings v1.1.0\n",
      " \u001b[90m [85f8d34a] \u001b[39mNCDatasets v0.12.12\n",
      " \u001b[90m [3725be50] \u001b[39mPhysOcean v0.6.7\n",
      " \u001b[90m [d330b81b] \u001b[39mPyPlot v2.11.0\n",
      " \u001b[90m [f2b01f46] \u001b[39mRoots v2.0.8\n",
      " \u001b[90m [ade2ca70] \u001b[39mDates\n",
      " \u001b[90m [8bb1440f] \u001b[39mDelimitedFiles\n",
      " \u001b[90m [37e2e46d] \u001b[39mLinearAlgebra\n",
      " \u001b[90m [56ddb016] \u001b[39mLogging\n",
      " \u001b[90m [44cfe95a] \u001b[39mPkg v1.8.0\n",
      " \u001b[90m [de0858da] \u001b[39mPrintf\n",
      " \u001b[90m [9a3f8284] \u001b[39mRandom\n",
      " \u001b[90m [10745b16] \u001b[39mStatistics\n",
      " \u001b[90m [8dfed614] \u001b[39mTest\n"
     ]
    }
   ],
   "source": [
    "using Pkg\n",
    "Pkg.status()"
   ]
  },
  {
   "cell_type": "code",
   "execution_count": 2,
   "metadata": {},
   "outputs": [],
   "source": [
    "#import Pkg; Pkg.add(\"Roots\")\n",
    "using Roots"
   ]
  },
  {
   "cell_type": "markdown",
   "metadata": {},
   "source": [
    "### Import packages"
   ]
  },
  {
   "cell_type": "code",
   "execution_count": 3,
   "metadata": {
    "slideshow": {
     "slide_type": "subslide"
    }
   },
   "outputs": [],
   "source": [
    "using NCDatasets\n",
    "using DataStructures\n",
    "using DIVAnd\n",
    "using Dates\n",
    "using Statistics\n",
    "using Random\n",
    "using Printf\n",
    "using PyPlot\n",
    "using Interpolations"
   ]
  },
  {
   "cell_type": "markdown",
   "metadata": {
    "slideshow": {
     "slide_type": "subslide"
    }
   },
   "source": [
    "## Configuration\n",
    "* Define the horizontal, vertical (depth levels) and temporal resolutions.\n",
    "* Select the variable of interest"
   ]
  },
  {
   "cell_type": "code",
   "execution_count": 4,
   "metadata": {
    "slideshow": {
     "slide_type": "subslide"
    }
   },
   "outputs": [],
   "source": [
    "dx, dy = 0.125, 0.125\n",
    "lonr = 11.5:dx:20\n",
    "latr = 39:dy:46\n",
    "\n",
    "depthr = [0.,5., 10., 15., 20., 25., 30., 40., 50., 66, \n",
    "    75, 85, 100, 112, 125, 135, 150, 175, 200, 225, 250, \n",
    "    275, 300, 350, 400, 450, 500, 550, 600, 650, 700, 750, \n",
    "    800, 850, 900, 950, 1000, 1050, 1100, 1150, 1200, 1250, \n",
    "    1300, 1350, 1400, 1450, 1500, 1600, 1750, 1850, 2000];\n",
    "#depthr = depthr[1:30];"
   ]
  },
  {
   "cell_type": "markdown",
   "metadata": {
    "slideshow": {
     "slide_type": "slide"
    }
   },
   "source": [
    "## 1. Read your ODV file\n",
    "Adapt the `datadir` and `datafile` values.     \n",
    "The example is based on a sub-setting of the [Mediterranean Sea](https://www.seadatanet.org/Products#/metadata/cd552057-b604-4004-b838-a4f73cc98fcf) aggregated dataset.      \n",
    "The dataset has been extracted around the Adriatic Sea and exported to a netCDF using [Ocean Data View](https://odv.awi.de/).\n",
    "<img src=\"./Images/MedSeaAggreg.jpg\" width=\"450px\">"
   ]
  },
  {
   "cell_type": "code",
   "execution_count": 5,
   "metadata": {},
   "outputs": [
    {
     "name": "stderr",
     "output_type": "stream",
     "text": [
      "\u001b[36m\u001b[1m[ \u001b[22m\u001b[39m\u001b[36m\u001b[1mInfo: \u001b[22m\u001b[39mDirectory already created\n"
     ]
    }
   ],
   "source": [
    "datadir = \"./Adriatic/\"\n",
    "smalldatafile = joinpath(datadir, \"AdriaticSea_SDC_1000.nc\")\n",
    "datafile = joinpath(datadir, \"AdriaticSea_SDC.nc\")\n",
    "isdir(datadir) ? @info(\"Directory already created\") : mkpath(datadir)"
   ]
  },
  {
   "cell_type": "markdown",
   "metadata": {},
   "source": [
    "Download the data files (test and full) if needed."
   ]
  },
  {
   "cell_type": "code",
   "execution_count": 6,
   "metadata": {
    "slideshow": {
     "slide_type": "fragment"
    }
   },
   "outputs": [
    {
     "name": "stderr",
     "output_type": "stream",
     "text": [
      "\u001b[36m\u001b[1m[ \u001b[22m\u001b[39m\u001b[36m\u001b[1mInfo: \u001b[22m\u001b[39mSmall data file already downloaded\n",
      "\u001b[36m\u001b[1m[ \u001b[22m\u001b[39m\u001b[36m\u001b[1mInfo: \u001b[22m\u001b[39mFull data file already downloaded\n"
     ]
    }
   ],
   "source": [
    "if !isfile(smalldatafile)\n",
    "    @info(\"Downloading test data file (1000 lines)\")\n",
    "    download(\"https://dox.ulg.ac.be/index.php/s/1CevuhrnDW18fJT/download\", smalldatafile)\n",
    "else\n",
    "    @info(\"Small data file already downloaded\")\n",
    "end\n",
    "\n",
    "if !isfile(datafile)\n",
    "    @info(\"Downloading full data file\")\n",
    "    download(\"https://dox.ulg.ac.be/index.php/s/IRYJyNZ5KuKVoQL/download\", datafile)\n",
    "else\n",
    "    @info(\"Full data file already downloaded\")\n",
    "end"
   ]
  },
  {
   "cell_type": "markdown",
   "metadata": {
    "slideshow": {
     "slide_type": "subslide"
    }
   },
   "source": [
    "You can try and test first on the small file, this should take less than 10 seconds (the 1st time)."
   ]
  },
  {
   "cell_type": "code",
   "execution_count": 7,
   "metadata": {},
   "outputs": [
    {
     "name": "stdout",
     "output_type": "stream",
     "text": [
      "  8.941386 seconds (7.52 M allocations: 398.710 MiB, 2.48% gc time, 99.04% compilation time)\n"
     ]
    }
   ],
   "source": [
    "@time obsval,obslon,obslat,obsdepth,obstime,obsid = NCODV.load(Float64, smalldatafile, \n",
    "    \"Water body salinity\");"
   ]
  },
  {
   "cell_type": "markdown",
   "metadata": {},
   "source": [
    "Then you can read the full file:"
   ]
  },
  {
   "cell_type": "code",
   "execution_count": 8,
   "metadata": {
    "slideshow": {
     "slide_type": "fragment"
    }
   },
   "outputs": [
    {
     "name": "stdout",
     "output_type": "stream",
     "text": [
      "18640 out of 34709 - 53.7036503500533 %\n",
      "  4.237885 seconds (634.01 k allocations: 192.559 MiB, 2.27% gc time)\n"
     ]
    }
   ],
   "source": [
    "@time obsval,obslon,obslat,obsdepth,obstime,obsid = NCODV.load(Float64, datafile, \n",
    "    \"Water body salinity\");"
   ]
  },
  {
   "cell_type": "code",
   "execution_count": 9,
   "metadata": {
    "slideshow": {
     "slide_type": "subslide"
    }
   },
   "outputs": [
    {
     "data": {
      "image/png": "[encoded data removed]",
      "text/plain": [
       "Figure(PyObject <Figure size 640x480 with 1 Axes>)"
      ]
     },
     "metadata": {},
     "output_type": "display_data"
    }
   ],
   "source": [
    "figure(\"Adriatic-Data\")\n",
    "ax = subplot(1,1,1)\n",
    "plot(obslon, obslat, \"ko\", markersize=.1, markerfacecolor=\"k\")\n",
    "aspectratio = 1/cos(mean(latr) * pi/180)\n",
    "ax.tick_params(\"both\",labelsize=6)\n",
    "gca().set_aspect(aspectratio)"
   ]
  },
  {
   "cell_type": "markdown",
   "metadata": {
    "slideshow": {
     "slide_type": "subslide"
    }
   },
   "source": [
    "Check the extremal values of the observations"
   ]
  },
  {
   "cell_type": "code",
   "execution_count": 10,
   "metadata": {},
   "outputs": [
    {
     "name": "stderr",
     "output_type": "stream",
     "text": [
      "\u001b[36m\u001b[1m[ \u001b[22m\u001b[39m\u001b[36m\u001b[1mInfo: \u001b[22m\u001b[39mChecking ranges for dimensions and observations\n"
     ]
    },
    {
     "name": "stdout",
     "output_type": "stream",
     "text": [
      "              minimum and maximum of obs. dimension 1: (12.25016975402832, 20.110000610351562)\n",
      "              minimum and maximum of obs. dimension 2: (39.556758880615234, 45.755001068115234)\n",
      "              minimum and maximum of obs. dimension 3: (0.0, 1484.2030029296875)\n",
      "              minimum and maximum of obs. dimension 4: (DateTime(\"1911-08-17T09:24:00\"), DateTime(\"2015-02-10T10:43:00\"))\n",
      "                          minimum and maximum of data: (4.070000171661377, 40.880001068115234)\n"
     ]
    }
   ],
   "source": [
    "checkobs((obslon,obslat,obsdepth,obstime),obsval,obsid)"
   ]
  },
  {
   "cell_type": "markdown",
   "metadata": {
    "slideshow": {
     "slide_type": "slide"
    }
   },
   "source": [
    "## 2. Extract the bathymetry\n",
    "It is used to delimit the domain where the interpolation is performed.\n",
    "\n",
    "### 2.1 Choice of bathymetry\n",
    "Modify `bathname` according to the resolution required."
   ]
  },
  {
   "cell_type": "code",
   "execution_count": 11,
   "metadata": {
    "slideshow": {
     "slide_type": "fragment"
    }
   },
   "outputs": [
    {
     "name": "stderr",
     "output_type": "stream",
     "text": [
      "\u001b[36m\u001b[1m[ \u001b[22m\u001b[39m\u001b[36m\u001b[1mInfo: \u001b[22m\u001b[39mBathymetry file already downloaded\n"
     ]
    }
   ],
   "source": [
    "bathname = \"../data/gebco_30sec_8.nc\"\n",
    "isfile(bathname) ? @info(\"Bathymetry file already downloaded\") : download(\"https://dox.ulg.ac.be/index.php/s/U0pqyXhcQrXjEUX/download\", bathname)"
   ]
  },
  {
   "cell_type": "code",
   "execution_count": 12,
   "metadata": {
    "slideshow": {
     "slide_type": "fragment"
    }
   },
   "outputs": [
    {
     "name": "stdout",
     "output_type": "stream",
     "text": [
      "  5.691368 seconds (6.79 M allocations: 352.810 MiB, 2.02% gc time, 99.55% compilation time)\n"
     ]
    }
   ],
   "source": [
    "@time bx,by,b = load_bath(bathname,true,lonr,latr);"
   ]
  },
  {
   "cell_type": "code",
   "execution_count": 13,
   "metadata": {
    "slideshow": {
     "slide_type": "subslide"
    }
   },
   "outputs": [
    {
     "name": "stderr",
     "output_type": "stream",
     "text": [
      "sys:1: MatplotlibDeprecationWarning: shading='flat' when X and Y have the same dimensions as C is deprecated since 3.3.  Either specify the corners of the quadrilaterals with X and Y, or pass shading='auto', 'nearest' or 'gouraud', or set rcParams['pcolor.shading'].  This will become an error two minor releases later.\r\n"
     ]
    },
    {
     "data": {
      "image/png": "[encoded data removed]",
      "text/plain": [
       "Figure(PyObject <Figure size 640x480 with 2 Axes>)"
      ]
     },
     "metadata": {},
     "output_type": "display_data"
    }
   ],
   "source": [
    "figure(\"Adriatic-Bathymetry\")\n",
    "ax = subplot(1,1,1)\n",
    "pcolor(bx, by, permutedims(b, [2,1]));\n",
    "colorbar(orientation=\"vertical\", shrink=0.8).ax.tick_params(labelsize=8)\n",
    "contour(bx, by, permutedims(b, [2,1]), [0, 0.1], colors=\"k\", linewidths=.5)\n",
    "gca().set_aspect(aspectratio)\n",
    "ax.tick_params(\"both\",labelsize=6)"
   ]
  },
  {
   "cell_type": "markdown",
   "metadata": {
    "slideshow": {
     "slide_type": "subslide"
    }
   },
   "source": [
    "### 2.2 Create mask\n",
    "* False for sea        \n",
    "* True for land"
   ]
  },
  {
   "cell_type": "code",
   "execution_count": 14,
   "metadata": {
    "slideshow": {
     "slide_type": "fragment"
    }
   },
   "outputs": [
    {
     "name": "stdout",
     "output_type": "stream",
     "text": [
      "size(mask) = (69, 57, 51)\n"
     ]
    },
    {
     "data": {
      "text/plain": [
       "(69, 57, 51)"
      ]
     },
     "execution_count": 14,
     "metadata": {},
     "output_type": "execute_result"
    }
   ],
   "source": [
    "mask = falses(size(b,1),size(b,2),length(depthr))\n",
    "for k = 1:length(depthr)\n",
    "    for j = 1:size(b,2)\n",
    "        for i = 1:size(b,1)\n",
    "            mask[i,j,k] = b[i,j] >= depthr[k]\n",
    "        end\n",
    "    end\n",
    "end\n",
    "@show size(mask)"
   ]
  },
  {
   "cell_type": "code",
   "execution_count": 15,
   "metadata": {
    "slideshow": {
     "slide_type": "subslide"
    }
   },
   "outputs": [
    {
     "data": {
      "image/png": "[encoded data removed]",
      "text/plain": [
       "Figure(PyObject <Figure size 640x480 with 1 Axes>)"
      ]
     },
     "metadata": {},
     "output_type": "display_data"
    },
    {
     "data": {
      "text/plain": [
       "PyObject Text(0.5, 1.0, 'Land-sea mask')"
      ]
     },
     "execution_count": 15,
     "metadata": {},
     "output_type": "execute_result"
    }
   ],
   "source": [
    "figure(\"Adriatic-Mask\")\n",
    "ax = subplot(1,1,1)\n",
    "gca().set_aspect(aspectratio)\n",
    "ax.tick_params(\"both\",labelsize=6)\n",
    "ax.pcolor(bx, by, transpose(mask[:,:,1]), cmap=PyPlot.cm.binary_r)\n",
    "ax.set_title(\"Land-sea mask\")"
   ]
  },
  {
   "cell_type": "markdown",
   "metadata": {
    "slideshow": {
     "slide_type": "subslide"
    }
   },
   "source": [
    "### 2.3 Edit the mask\n",
    "As an example we will remove the Tyrrhenian Sea from the domain."
   ]
  },
  {
   "cell_type": "code",
   "execution_count": 16,
   "metadata": {
    "slideshow": {
     "slide_type": "fragment"
    }
   },
   "outputs": [],
   "source": [
    "grid_bx = [i for i in bx, j in by];\n",
    "grid_by = [j for i in bx, j in by];"
   ]
  },
  {
   "cell_type": "code",
   "execution_count": 17,
   "metadata": {
    "slideshow": {
     "slide_type": "fragment"
    }
   },
   "outputs": [
    {
     "name": "stdout",
     "output_type": "stream",
     "text": [
      "size(mask_edit) = (69, 57, 51)\n"
     ]
    },
    {
     "data": {
      "text/plain": [
       "(69, 57, 51)"
      ]
     },
     "execution_count": 17,
     "metadata": {},
     "output_type": "execute_result"
    }
   ],
   "source": [
    "mask_edit = copy(mask);\n",
    "sel_mask1 = (grid_by .<= 42.6) .& (grid_bx .<= 14.);\n",
    "sel_mask2 = (grid_by .<= 41.2) .& (grid_bx .<= 16.2);\n",
    "mask_edit = mask_edit .* .!sel_mask1 .* .!sel_mask2;\n",
    "@show size(mask_edit)"
   ]
  },
  {
   "cell_type": "code",
   "execution_count": 18,
   "metadata": {},
   "outputs": [],
   "source": [
    "#sel = (obslon .<  maximum(bx)) .& (obslon .>  minimum(bx)) .& (obslat .<  maximum(by)) .& (obslat .>  minimum(bx))\n",
    "#obslon=obslon[sel]\n",
    "#obslat=obslat[sel]\n",
    "#obsdepth=obsdepth[sel]\n",
    "#obsval=obsval[sel]"
   ]
  },
  {
   "cell_type": "markdown",
   "metadata": {
    "slideshow": {
     "slide_type": "subslide"
    }
   },
   "source": [
    "The edited mask now looks like this:"
   ]
  },
  {
   "cell_type": "code",
   "execution_count": 19,
   "metadata": {
    "slideshow": {
     "slide_type": "fragment"
    }
   },
   "outputs": [
    {
     "data": {
      "image/png": "[encoded data removed]",
      "text/plain": [
       "Figure(PyObject <Figure size 640x480 with 1 Axes>)"
      ]
     },
     "metadata": {},
     "output_type": "display_data"
    }
   ],
   "source": [
    "figure(\"Adriatic-Mask-Edited\")\n",
    "ax = subplot(1,1,1)\n",
    "ax.tick_params(\"both\",labelsize=6)\n",
    "ax.pcolor(bx, by, mask_edit[:,:,1]', cmap=cmap=PyPlot.cm.binary_r)\n",
    "ax.set_title(\"Edited land-sea mask\")\n",
    "gca().set_aspect(aspectratio)"
   ]
  },
  {
   "cell_type": "markdown",
   "metadata": {},
   "source": [
    "## Define a vertical correlation length function in real space"
   ]
  },
  {
   "cell_type": "code",
   "execution_count": 20,
   "metadata": {},
   "outputs": [
    {
     "data": {
      "text/plain": [
       "3-element BitVector:\n",
       " 0\n",
       " 0\n",
       " 0"
      ]
     },
     "execution_count": 20,
     "metadata": {},
     "output_type": "execute_result"
    }
   ],
   "source": [
    "function Lvert(x,y,z)\n",
    "    return 5.0 + z/5.0\n",
    "end\n",
    "\n",
    "LHOR=.5\n",
    "\n",
    "eps2=0.01\n",
    "\n",
    "iscyclic=falses(3)"
   ]
  },
  {
   "cell_type": "markdown",
   "metadata": {
    "slideshow": {
     "slide_type": "slide"
    }
   },
   "source": [
    "## 3. For comparison, analysis in Cartesian Coordinates (degrees for simplicity)"
   ]
  },
  {
   "cell_type": "code",
   "execution_count": 21,
   "metadata": {},
   "outputs": [],
   "source": [
    "xc,yc,zc=ndgrid(lonr,latr,depthr)\n",
    "pmc = ones(size(xc)) / (xc[2,1,1]-xc[1,1,1]);\n",
    "pnc = ones(size(xc)) / (yc[1,2,1]-yc[1,1,1]);\n",
    "poc = ones(size(xc)) / (zc[1,1,2]-zc[1,1,1]);\n"
   ]
  },
  {
   "cell_type": "code",
   "execution_count": 22,
   "metadata": {
    "slideshow": {
     "slide_type": "fragment"
    }
   },
   "outputs": [
    {
     "name": "stdout",
     "output_type": "stream",
     "text": [
      "(mean(lenx), mean(leny), mean(lenz)) = (0.5, 0.36863866840506215, 129.97254901960784)\n"
     ]
    }
   ],
   "source": [
    "sz = (length(lonr),length(latr),length(depthr));\n",
    "lenx = fill(LHOR,sz)  \n",
    "leny = lenx./aspectratio\n",
    "lenz = Lvert.(xc,yc,zc);\n",
    "@show mean(lenx),mean(leny),mean(lenz)\n",
    "epsilon2 = eps2;\n",
    "#epsilon2 = epsilon2 * rdiag;"
   ]
  },
  {
   "cell_type": "code",
   "execution_count": 23,
   "metadata": {},
   "outputs": [
    {
     "data": {
      "text/plain": [
       "0.0"
      ]
     },
     "execution_count": 23,
     "metadata": {},
     "output_type": "execute_result"
    }
   ],
   "source": [
    "obsval=obsdepth\n",
    "obsmean=mean(obsval)\n",
    "\n",
    "obslon=[18.]\n",
    "obslat=[41.375]\n",
    "obsdepth=[80.]\n",
    "obsval=[1.]\n",
    "obsmean=0."
   ]
  },
  {
   "cell_type": "code",
   "execution_count": null,
   "metadata": {},
   "outputs": [],
   "source": [
    "\n",
    "\n",
    "\n",
    "fi,s=DIVAndrun(mask_edit,(pmc,pnc,poc),(xc,yc,zc),(obslon,obslat,obsdepth),obsval.-obsmean,(lenx,leny,lenz),epsilon2);"
   ]
  },
  {
   "cell_type": "code",
   "execution_count": null,
   "metadata": {},
   "outputs": [],
   "source": [
    "jcut=20\n",
    "pcolor(xc[:,jcut,:],-zc[:,jcut,:],fi[:,jcut,:].+obsmean,shading=\"nearest\"),colorbar()\n",
    "plot(bx,-b[:,jcut])\n",
    "xlim(16.5,19.5)\n",
    "ylim(-1200,50)"
   ]
  },
  {
   "cell_type": "code",
   "execution_count": null,
   "metadata": {},
   "outputs": [],
   "source": [
    "pcolor(xc[:,:,1],yc[:,:,1],fi[:,:,1].+obsmean,shading=\"nearest\"),colorbar()\n",
    "gca().set_aspect(aspectratio)"
   ]
  },
  {
   "cell_type": "code",
   "execution_count": null,
   "metadata": {},
   "outputs": [],
   "source": [
    "kcut=10\n",
    "pcolor(xc[:,:,kcut],yc[:,:,kcut],fi[:,:,kcut].+obsmean,shading=\"nearest\"),colorbar()\n",
    "gca().set_aspect(aspectratio)"
   ]
  },
  {
   "cell_type": "code",
   "execution_count": null,
   "metadata": {},
   "outputs": [],
   "source": [
    "@show zc[1,1,kcut],yc[1,jcut,1]"
   ]
  },
  {
   "cell_type": "markdown",
   "metadata": {},
   "source": [
    "# 4.  Coordinate change"
   ]
  },
  {
   "cell_type": "markdown",
   "metadata": {},
   "source": [
    "## First define sigma coordinates (from 0 to 1)"
   ]
  },
  {
   "cell_type": "code",
   "execution_count": null,
   "metadata": {},
   "outputs": [],
   "source": [
    "Nsigma=20\n",
    "xs,ys,sigma=ndgrid(lonr,latr,range(0;stop=1,length=Nsigma))\n",
    "pms = ones(size(xs)) / (xs[2,1,1]-xs[1,1,1]);\n",
    "pns = ones(size(xs)) / (ys[1,2,1]-ys[1,1,1]);\n",
    "pos = ones(size(xs)) / (sigma[1,1,2]-sigma[1,1,1]);\n",
    "sz=size(xs)\n",
    "masks=trues(size(xs))\n",
    "masks[:,:,:].=mask_edit[:,:,1]"
   ]
  },
  {
   "cell_type": "code",
   "execution_count": null,
   "metadata": {},
   "outputs": [],
   "source": [
    "jcut=20"
   ]
  },
  {
   "cell_type": "code",
   "execution_count": null,
   "metadata": {},
   "outputs": [],
   "source": [
    "# A way to create a fake bottomgraphy just to guide the vertical grid generation\n",
    "# Take the original one with the desired mask, then filter and finally make it deep in the shallow regions (to avoid\n",
    "# to strong changes of z lines)\n",
    "bfake=b.*mask_edit[:,:,1]\n",
    "bfake2=DIVAnd.diffusion(trues(size(mask_edit[:,:,1])),(pms[:,:,1],pns[:,:,1]),(.09,.09),bfake)\n",
    "bmax=maximum(bfake2)\n",
    "bfake3=0.5.*bfake2 .+ 0.5.*(bfake2./bmax).^0.3*bmax\n",
    "\n",
    "plot(bx,-bfake2[:,jcut])\n",
    "plot(bx,-bfake[:,jcut])\n",
    "plot(bx,-bfake3[:,jcut])"
   ]
  },
  {
   "cell_type": "code",
   "execution_count": null,
   "metadata": {},
   "outputs": [],
   "source": [
    "# Now you can chose to create the vertical coordinate using the \"exact\" topography or the fake on\n",
    "\n",
    "#bfun=linear_interpolation((bx,by),b.*masks[:,:,1];extrapolation_bc=0.0)\n",
    "bfun=linear_interpolation((bx,by),bfake3.*masks[:,:,1];extrapolation_bc=0.0)\n",
    "\n",
    "\n",
    "# Parameters for the vertical grid generation, adapted from https://getm.eu/files/GETM/doc/html/node14.html\n",
    "\n",
    "du=5.001\n",
    "dl=.001\n",
    "DG=200\n",
    "sk=sigma[1,1,2]\n",
    "skm=sigma[1,1,1]\n",
    "function betaHB(sigma)\n",
    "    #if du and dl are zero just return sigma\n",
    "    return -(tanh((dl+du)*(1.0 - sigma) - dl)+tanh(dl))/(tanh(du)+tanh(dl))+1.0\n",
    "end\n",
    "\n",
    "function invbetaHB(beta)\n",
    "    # test needed, not for the gridding but for data that might fall outside of the grid\n",
    "    if beta>1.0 || beta<-1.0\n",
    "        return beta\n",
    "    end\n",
    "    #if du and dl are zero just return beta\n",
    "    return 1.0-(atanh(-(beta-1.0)*(tanh(du)+tanh(dl))-tanh(dl))+dl)/(dl+du)\n",
    "    \n",
    "end\n",
    "\n",
    "function alphaHB(x,y)\n",
    "   \n",
    "    alphanum=(betaHB(sk)-betaHB(skm))+DG/max(2.0,bfun(x,y))*(sk-skm)\n",
    "    alphaden=(betaHB(sk)-betaHB(skm))+(sk-skm)\n",
    "    alpha=max(min(alphanum/alphaden,1.0),0.0)\n",
    "    return alpha\n",
    "end\n",
    "    \n",
    "function sigmatoz(x,y,sigma)\n",
    "    alpha=alphaHB(x,y)\n",
    "    return  ((1-alpha)*betaHB(sigma)+alpha*sigma)*max(2.0,bfun(x,y))\n",
    "end\n",
    "# For more general cases the inverse will need some\n",
    "# search of zeros. Needed to get fracional indexes and horizontal plots\n",
    "\n",
    "function ztosigma(x,y,z)\n",
    "    gamma=z/max(2.0,bfun(x,y))\n",
    "    alpha=alphaHB(x,y)\n",
    "    if alpha<0.001 \n",
    "        return invbetaHB(gamma)\n",
    "    end\n",
    "    if alpha>0.999\n",
    "        return gamma\n",
    "    end\n",
    "    guess=alpha*gamma+(1-alpha)*invbetaHB(gamma)\n",
    "    # now improve by finding zero\n",
    "    guess=find_zero(x->alpha*x+(1-alpha)*betaHB(x)-gamma, guess)\n",
    "    return guess\n",
    "end\n"
   ]
  },
  {
   "cell_type": "code",
   "execution_count": null,
   "metadata": {},
   "outputs": [],
   "source": [
    "# Check inverse function\n",
    "var(invbetaHB.(betaHB.(sigma))-sigma),var(sigma)\n"
   ]
  },
  {
   "cell_type": "code",
   "execution_count": null,
   "metadata": {},
   "outputs": [],
   "source": [
    "zs=sigmatoz.(xs,ys,sigma)\n",
    "# Check inverse function\n",
    "testsigma=ztosigma.(xs,ys,zs)\n",
    "var(testsigma.-sigma),var(sigma)"
   ]
  },
  {
   "cell_type": "code",
   "execution_count": null,
   "metadata": {},
   "outputs": [],
   "source": [
    "# We already have the z positions of the sigma layers zs\n",
    "# So now just recalculate the metrics:\n",
    "pozc=deepcopy(pos)\n",
    "for i = 1:sz[3]\n",
    "        i0 = max(i - 1, 1)\n",
    "        i1 = min(i + 1, sz[3])\n",
    "        pozc[:,:,i].=(i1-i0)./(zs[:,:,i1].-zs[:,:,i0])\n",
    "end\n",
    "\n"
   ]
  },
  {
   "cell_type": "code",
   "execution_count": null,
   "metadata": {},
   "outputs": [],
   "source": [
    "# Now make the mask by using the zs positions of the grid and use the \"real\" topography for the mask:\n",
    "\n",
    "bm=b.*mask_edit[:,:,1]\n",
    "for k=1:size(zs)[3]\n",
    "    masks[:,:,k].=zs[:,:,k].<bm[:,:] .&& mask_edit[:,:,1]\n",
    "end"
   ]
  },
  {
   "cell_type": "code",
   "execution_count": null,
   "metadata": {},
   "outputs": [],
   "source": [
    "\n",
    "pcolor(xs[:,jcut,:],-zs[:,jcut,:],sigma[:,jcut,:],shading=\"nearest\"),colorbar()\n",
    "xlim(16.5,19.5)"
   ]
  },
  {
   "cell_type": "code",
   "execution_count": null,
   "metadata": {},
   "outputs": [],
   "source": [
    "\n",
    "pcolor(xs[:,jcut,:],-zs[:,jcut,:],zs[:,jcut,:],shading=\"nearest\"),colorbar()\n",
    "xlim(16.5,19.5)"
   ]
  },
  {
   "cell_type": "markdown",
   "metadata": {},
   "source": [
    "### Vertical position in sigma space"
   ]
  },
  {
   "cell_type": "code",
   "execution_count": null,
   "metadata": {},
   "outputs": [],
   "source": [
    "obssigma=ztosigma.(obslon,obslat,obsdepth)"
   ]
  },
  {
   "cell_type": "markdown",
   "metadata": {},
   "source": [
    "### Get fractional indexes by working in sigma space:"
   ]
  },
  {
   "cell_type": "code",
   "execution_count": null,
   "metadata": {},
   "outputs": [],
   "source": [
    "Igrid = localize_separable_grid((obslon,obslat,obssigma), masks, (xs,ys,sigma), iscyclic)\n",
    "\n",
    "lenx = fill(LHOR,sz)  \n",
    "leny = lenx./aspectratio\n",
    "lenz = Lvert.(xs,ys,zs);\n",
    "epsilon2 = eps2;\n",
    "\n",
    "fi,s=DIVAndrun(masks,(pms,pns,pozc),(xs,ys,zs),(obslon,obslat,obsdepth),obsval.-obsmean,(lenx,leny,lenz),epsilon2;fracindex =Igrid);\n"
   ]
  },
  {
   "cell_type": "code",
   "execution_count": null,
   "metadata": {},
   "outputs": [],
   "source": [
    "\n",
    "\n",
    "\n",
    "pcolor(xs[:,jcut,:],-zs[:,jcut,:],fi[:,jcut,:].+obsmean,shading=\"nearest\"),colorbar()\n",
    "#contour(xs[:,jcut,:],-zs[:,jcut,:],fi[:,jcut,:].+obsmean,30),colorbar()\n",
    "plot(bx,-b[:,jcut])\n",
    "xlim(16.5,19.5)\n",
    "ylim(-1200,50)"
   ]
  },
  {
   "cell_type": "markdown",
   "metadata": {},
   "source": [
    "## How to make a horizontal plot\n",
    "\n"
   ]
  },
  {
   "cell_type": "code",
   "execution_count": null,
   "metadata": {},
   "outputs": [],
   "source": [
    "# Define depth for cut\n",
    "zcut=zc[1,1,kcut]\n",
    "# Create fake data and calculte sigma values on the constant z surface\n",
    "sigmaonzlevel=ztosigma.(xs[:,:,1],ys[:,:,1],zcut.+ 0.0 .*ys[:,:,1])\n",
    "\n",
    "# Get fractional indexes of the fake data and the observing operator\n",
    "Igridcut=localize_separable_grid((xs[:,:,1],ys[:,:,1],sigmaonzlevel), masks, (xs,ys,sigma), )\n",
    "Htoz, out, outbbox = sparse_interp(masks, Igridcut, iscyclic)\n",
    "Htoz=Htoz*sparse_pack(masks)';\n",
    "\n",
    "# Now observe the gridded field with that observation operator\n",
    "zlevelsol=Htoz*statevector_pack(s.sv, (fi,))\n",
    "\n",
    "# Put it in shape for plotting\n",
    "soltoplot=reshape(zlevelsol,size(xs)[1:2])\n",
    "# Need to apply mask because that is not included in the interpolation\n",
    "soltoplot[zcut.>b].=NaN\n",
    "soltoplot[mask_edit[:,:,1].==0].=NaN;"
   ]
  },
  {
   "cell_type": "code",
   "execution_count": null,
   "metadata": {},
   "outputs": [],
   "source": [
    "pcolor(xs[:,:,1],ys[:,:,1],soltoplot.+obsmean,shading=\"nearest\"),colorbar()\n",
    "title(\"$zcut m\")\n",
    "gca().set_aspect(aspectratio)"
   ]
  },
  {
   "cell_type": "code",
   "execution_count": null,
   "metadata": {},
   "outputs": [],
   "source": []
  },
  {
   "cell_type": "code",
   "execution_count": null,
   "metadata": {},
   "outputs": [],
   "source": [
    "# Surface\n",
    "pcolor(xs[:,:,1],ys[:,:,1],fi[:,:,1].+obsmean,shading=\"nearest\"),colorbar()\n",
    "gca().set_aspect(aspectratio)"
   ]
  },
  {
   "cell_type": "code",
   "execution_count": null,
   "metadata": {},
   "outputs": [],
   "source": []
  }
 ],
 "metadata": {
  "@webio": {
   "lastCommId": null,
   "lastKernelId": null
  },
  "kernelspec": {
   "display_name": "Julia 1.8.5",
   "language": "julia",
   "name": "julia-1.8"
  },
  "language_info": {
   "file_extension": ".jl",
   "mimetype": "application/julia",
   "name": "julia",
   "version": "1.8.5"
  }
 },
 "nbformat": 4,
 "nbformat_minor": 2
}
