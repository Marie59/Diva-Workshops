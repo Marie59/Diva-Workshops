{
 "cells": [
  {
   "cell_type": "markdown",
   "metadata": {},
   "source": [
    "# Estimating the correlation length \n",
    "\n",
    "* A central parameter for the `DIVAnd` analysis is the correlation length.\n",
    "* It determines whether two points separated by a given distance are correlated or not.\n",
    "* `DIVAnd` includes several tools to estimate the correlation length.\n",
    "* We will start with a 2D case and consider the 3D case."
   ]
  },
  {
   "cell_type": "code",
   "execution_count": 15,
   "metadata": {},
   "outputs": [],
   "source": [
    "using DIVAnd\n",
    "using PyPlot\n",
    "using Dates\n",
    "using Statistics\n",
    "using Random"
   ]
  },
  {
   "cell_type": "markdown",
   "metadata": {},
   "source": [
    "# Data reading\n",
    "Download the data file `Salinity.bigfile` (if it is not already present). It will be placed in the same directory as this notebook. This file is a space-separated file containing data based on the [World Ocean Database](https://www.nodc.noaa.gov/OC5/WOD/pr_wod.html)."
   ]
  },
  {
   "cell_type": "code",
   "execution_count": 16,
   "metadata": {},
   "outputs": [
    {
     "name": "stderr",
     "output_type": "stream",
     "text": [
      "┌ Info: Data file already downloaded\n",
      "└ @ Main In[16]:6\n"
     ]
    }
   ],
   "source": [
    "fname = \"./data/Salinity.bigfile\"\n",
    "\n",
    "if !isfile(fname)\n",
    "    download(\"https://dox.ulg.ac.be/index.php/s/k0f7FxA7l5FIgu9/download\",fname)\n",
    "else\n",
    "    @info(\"Data file already downloaded\")\n",
    "end"
   ]
  },
  {
   "cell_type": "markdown",
   "metadata": {},
   "source": [
    "Load the data"
   ]
  },
  {
   "cell_type": "code",
   "execution_count": 17,
   "metadata": {},
   "outputs": [
    {
     "name": "stderr",
     "output_type": "stream",
     "text": [
      "┌ Info: Loading data from 'big file' ./data/Salinity.bigfile\n",
      "└ @ DIVAnd /home/abarth/projects/Julia/DIVAnd.jl/src/load_obs.jl:10\n"
     ]
    }
   ],
   "source": [
    "obsval,obslon,obslat,obsdepth,obstime,obsid = loadbigfile(fname);"
   ]
  },
  {
   "cell_type": "markdown",
   "metadata": {},
   "source": [
    "`mincount` is the minimum number of observations per distance bin and the call to [`seed!`](https://docs.julialang.org/en/v1/stdlib/Random/#Random.seed!) (seed for the random number generator) ensures a reproducible sequence of random numbers."
   ]
  },
  {
   "cell_type": "code",
   "execution_count": 18,
   "metadata": {},
   "outputs": [],
   "source": [
    "mincount = 100\n",
    "Random.seed!(12345);"
   ]
  },
  {
   "cell_type": "markdown",
   "metadata": {},
   "source": [
    "## 2D case\n",
    "\n",
    "* First lets consider only the data on a 2D surface (longitude and latitude)\n",
    "* We use the function `DIVAnd.fit_isotropic`\n"
   ]
  },
  {
   "cell_type": "code",
   "execution_count": 19,
   "metadata": {},
   "outputs": [
    {
     "name": "stdout",
     "output_type": "stream",
     "text": [
      "search: \u001b[0m\u001b[1mf\u001b[22m\u001b[0m\u001b[1mi\u001b[22m\u001b[0m\u001b[1mt\u001b[22m\u001b[0m\u001b[1m_\u001b[22m\u001b[0m\u001b[1mi\u001b[22m\u001b[0m\u001b[1ms\u001b[22m\u001b[0m\u001b[1mo\u001b[22m\u001b[0m\u001b[1mt\u001b[22m\u001b[0m\u001b[1mr\u001b[22m\u001b[0m\u001b[1mo\u001b[22m\u001b[0m\u001b[1mp\u001b[22m\u001b[0m\u001b[1mi\u001b[22m\u001b[0m\u001b[1mc\u001b[22m\n",
      "\n"
     ]
    },
    {
     "data": {
      "text/latex": [
       "\\begin{verbatim}\n",
       "var0,len,distx,covar,fitcovar = fit_isotropic(x,v,distbin,mincount;\n",
       "                           alpha = DIVAnd.alpha_default(length(x)),\n",
       "                           minlen = 0.,\n",
       "                           maxlen = 10.,\n",
       "                           tolrel = 1e-4,\n",
       "                           maxpoints = 10000,\n",
       "                           nmean = 100,\n",
       "                           distfun = (xi,xj) -> sqrt(sum(abs2,xi-xj))),\n",
       "                           progress = (iter,var,len,fitness) -> nothing\n",
       "                       )\n",
       "\\end{verbatim}\n",
       "Determines the optimal correlation length \\texttt{len} and variance (for a separation distance approaching zero) \\texttt{var0} of a cloud of data points with value \\texttt{v} and coordiantes \\texttt{x} (tuple of vectors with the coordinates).\n",
       "\n",
       "The function can find the solution corresponding to a local minimum which is not necessarily the global minimum.\n",
       "\n",
       "See also \\texttt{empiriccovar} for future information about the output parameters.\n",
       "\n",
       "Optional input parameters:\n",
       "\n",
       "\\begin{itemize}\n",
       "\\item \\texttt{alpha}: if one correlation length is forced to zero during the anaylsis the values of alpha sould be set using the effective dimension. For example, if a 2D-analysis is simulated by forcing the vertical correlation length to zero, then alpha should be set to \\texttt{[1,2,1]}, otherwise alpha will be \\texttt{[1,3,3,1]} (for any proper 3D analysis).\n",
       "\n",
       "\n",
       "\\item \\texttt{len}: initial value for the correlation length.\n",
       "\n",
       "\n",
       "\\item \\texttt{minlen}, \\texttt{maxlen}: minimum and maximum values for the correlation length.\n",
       "\n",
       "\n",
       "\\item \\texttt{tolrel}: relative tolerance for the optimizer.\n",
       "\n",
       "\n",
       "\\item \\texttt{maxpoints}: maximum number of data points considered.\n",
       "\n",
       "\n",
       "\\item \\texttt{nmean}: the number of times an empirical covariance is estimated.  The average covariance is used for the fitting.\n",
       "\n",
       "\n",
       "\\item \\texttt{distfun}: function to compute the distance between point \\texttt{xi} (vector) and  \\texttt{xj}. Per default \\texttt{distfun} is the Euclidian distance: \\texttt{(xi,xj) -> sqrt(sum(abs2,xi-xj)))}.\n",
       "\n",
       "\n",
       "\\item \\texttt{progress}: call-back function to show the progress of the optimization with the input parameters \\texttt{iter}, \\texttt{var}, \\texttt{len} and \\texttt{fitness} (all scalars).\n",
       "\n",
       "\\end{itemize}\n",
       "The length-scale parameters and the variance have the corresponding units from the \\texttt{x} and \\texttt{v}. It is therefore often necessary to provide reasonable values for these default parameters.\n",
       "\n",
       "The algorithm used to estimate the correlation-length and variance is based on randomly choosen points. Therefore the result can be different if the function is invoked repeately. If \\texttt{nmean} is increased, then these statistical fluctuations should decrease (for a not too large value of \\texttt{mincount}, i.e. about 100 for most cases).\n",
       "\n",
       "If the lower bound \\texttt{minlen} is too small, then you might get the following error:\n",
       "\n",
       "\\begin{verbatim}\n",
       "AmosException with id 4: input argument magnitude too large, complete loss of accuracy by argument reduction.\n",
       "\\end{verbatim}\n",
       "In these case, increase \\texttt{minlen}.\n",
       "\n"
      ],
      "text/markdown": [
       "```\n",
       "var0,len,distx,covar,fitcovar = fit_isotropic(x,v,distbin,mincount;\n",
       "                           alpha = DIVAnd.alpha_default(length(x)),\n",
       "                           minlen = 0.,\n",
       "                           maxlen = 10.,\n",
       "                           tolrel = 1e-4,\n",
       "                           maxpoints = 10000,\n",
       "                           nmean = 100,\n",
       "                           distfun = (xi,xj) -> sqrt(sum(abs2,xi-xj))),\n",
       "                           progress = (iter,var,len,fitness) -> nothing\n",
       "                       )\n",
       "```\n",
       "\n",
       "Determines the optimal correlation length `len` and variance (for a separation distance approaching zero) `var0` of a cloud of data points with value `v` and coordiantes `x` (tuple of vectors with the coordinates).\n",
       "\n",
       "The function can find the solution corresponding to a local minimum which is not necessarily the global minimum.\n",
       "\n",
       "See also `empiriccovar` for future information about the output parameters.\n",
       "\n",
       "Optional input parameters:\n",
       "\n",
       "  * `alpha`: if one correlation length is forced to zero during the anaylsis the values of alpha sould be set using the effective dimension. For example, if a 2D-analysis is simulated by forcing the vertical correlation length to zero, then alpha should be set to `[1,2,1]`, otherwise alpha will be `[1,3,3,1]` (for any proper 3D analysis).\n",
       "  * `len`: initial value for the correlation length.\n",
       "  * `minlen`, `maxlen`: minimum and maximum values for the correlation length.\n",
       "  * `tolrel`: relative tolerance for the optimizer.\n",
       "  * `maxpoints`: maximum number of data points considered.\n",
       "  * `nmean`: the number of times an empirical covariance is estimated.  The average covariance is used for the fitting.\n",
       "  * `distfun`: function to compute the distance between point `xi` (vector) and  `xj`. Per default `distfun` is the Euclidian distance: `(xi,xj) -> sqrt(sum(abs2,xi-xj)))`.\n",
       "  * `progress`: call-back function to show the progress of the optimization with the input parameters `iter`, `var`, `len` and `fitness` (all scalars).\n",
       "\n",
       "The length-scale parameters and the variance have the corresponding units from the `x` and `v`. It is therefore often necessary to provide reasonable values for these default parameters.\n",
       "\n",
       "The algorithm used to estimate the correlation-length and variance is based on randomly choosen points. Therefore the result can be different if the function is invoked repeately. If `nmean` is increased, then these statistical fluctuations should decrease (for a not too large value of `mincount`, i.e. about 100 for most cases).\n",
       "\n",
       "If the lower bound `minlen` is too small, then you might get the following error:\n",
       "\n",
       "```\n",
       "AmosException with id 4: input argument magnitude too large, complete loss of accuracy by argument reduction.\n",
       "```\n",
       "\n",
       "In these case, increase `minlen`.\n"
      ],
      "text/plain": [
       "\u001b[36m  var0,len,distx,covar,fitcovar = fit_isotropic(x,v,distbin,mincount;\u001b[39m\n",
       "\u001b[36m                             alpha = DIVAnd.alpha_default(length(x)),\u001b[39m\n",
       "\u001b[36m                             minlen = 0.,\u001b[39m\n",
       "\u001b[36m                             maxlen = 10.,\u001b[39m\n",
       "\u001b[36m                             tolrel = 1e-4,\u001b[39m\n",
       "\u001b[36m                             maxpoints = 10000,\u001b[39m\n",
       "\u001b[36m                             nmean = 100,\u001b[39m\n",
       "\u001b[36m                             distfun = (xi,xj) -> sqrt(sum(abs2,xi-xj))),\u001b[39m\n",
       "\u001b[36m                             progress = (iter,var,len,fitness) -> nothing\u001b[39m\n",
       "\u001b[36m                         )\u001b[39m\n",
       "\n",
       "  Determines the optimal correlation length \u001b[36mlen\u001b[39m and variance (for a separation\n",
       "  distance approaching zero) \u001b[36mvar0\u001b[39m of a cloud of data points with value \u001b[36mv\u001b[39m and\n",
       "  coordiantes \u001b[36mx\u001b[39m (tuple of vectors with the coordinates).\n",
       "\n",
       "  The function can find the solution corresponding to a local minimum which is\n",
       "  not necessarily the global minimum.\n",
       "\n",
       "  See also \u001b[36mempiriccovar\u001b[39m for future information about the output parameters.\n",
       "\n",
       "  Optional input parameters:\n",
       "\n",
       "    •    \u001b[36malpha\u001b[39m: if one correlation length is forced to zero during the\n",
       "        anaylsis the values of alpha sould be set using the effective\n",
       "        dimension. For example, if a 2D-analysis is simulated by forcing\n",
       "        the vertical correlation length to zero, then alpha should be set\n",
       "        to \u001b[36m[1,2,1]\u001b[39m, otherwise alpha will be \u001b[36m[1,3,3,1]\u001b[39m (for any proper 3D\n",
       "        analysis).\n",
       "\n",
       "    •    \u001b[36mlen\u001b[39m: initial value for the correlation length.\n",
       "\n",
       "    •    \u001b[36mminlen\u001b[39m, \u001b[36mmaxlen\u001b[39m: minimum and maximum values for the correlation\n",
       "        length.\n",
       "\n",
       "    •    \u001b[36mtolrel\u001b[39m: relative tolerance for the optimizer.\n",
       "\n",
       "    •    \u001b[36mmaxpoints\u001b[39m: maximum number of data points considered.\n",
       "\n",
       "    •    \u001b[36mnmean\u001b[39m: the number of times an empirical covariance is estimated.\n",
       "        The average covariance is used for the fitting.\n",
       "\n",
       "    •    \u001b[36mdistfun\u001b[39m: function to compute the distance between point \u001b[36mxi\u001b[39m\n",
       "        (vector) and \u001b[36mxj\u001b[39m. Per default \u001b[36mdistfun\u001b[39m is the Euclidian distance:\n",
       "        \u001b[36m(xi,xj) -> sqrt(sum(abs2,xi-xj)))\u001b[39m.\n",
       "\n",
       "    •    \u001b[36mprogress\u001b[39m: call-back function to show the progress of the\n",
       "        optimization with the input parameters \u001b[36miter\u001b[39m, \u001b[36mvar\u001b[39m, \u001b[36mlen\u001b[39m and \u001b[36mfitness\u001b[39m\n",
       "        (all scalars).\n",
       "\n",
       "  The length-scale parameters and the variance have the corresponding units\n",
       "  from the \u001b[36mx\u001b[39m and \u001b[36mv\u001b[39m. It is therefore often necessary to provide reasonable\n",
       "  values for these default parameters.\n",
       "\n",
       "  The algorithm used to estimate the correlation-length and variance is based\n",
       "  on randomly choosen points. Therefore the result can be different if the\n",
       "  function is invoked repeately. If \u001b[36mnmean\u001b[39m is increased, then these statistical\n",
       "  fluctuations should decrease (for a not too large value of \u001b[36mmincount\u001b[39m, i.e.\n",
       "  about 100 for most cases).\n",
       "\n",
       "  If the lower bound \u001b[36mminlen\u001b[39m is too small, then you might get the following\n",
       "  error:\n",
       "\n",
       "\u001b[36m  AmosException with id 4: input argument magnitude too large, complete loss of accuracy by argument reduction.\u001b[39m\n",
       "\n",
       "  In these case, increase \u001b[36mminlen\u001b[39m."
      ]
     },
     "execution_count": 19,
     "metadata": {},
     "output_type": "execute_result"
    }
   ],
   "source": [
    "?fit_isotropic"
   ]
  },
  {
   "cell_type": "markdown",
   "metadata": {},
   "source": [
    "## Example 1: salinity in the Black Sea\n",
    "The profiles were already vertically interpolated on standard depth levels.     \n",
    "We select the values near surface (above 10 m), for the month of January."
   ]
  },
  {
   "cell_type": "code",
   "execution_count": 20,
   "metadata": {},
   "outputs": [
    {
     "data": {
      "text/plain": [
       "(26.92085356212525, 0.3940490099009901, [0.25, 0.75, 1.25, 1.75, 2.25, 2.75, 3.25, 3.75], [26.9209, 11.1741, 3.64341, 1.14217, 0.195407, -0.683144, -0.908235, -1.07889], [20.6118, 8.14472, 2.7928, 0.904365, 0.283796, 0.0873005, 0.0264876, 0.00795568], [5.60648, 3.30816, 1.64926, 0.864805, 0.292051, 0.298014, 0.367555, 0.351987])"
      ]
     },
     "execution_count": 20,
     "metadata": {},
     "output_type": "execute_result"
    }
   ],
   "source": [
    "# surface values for the month January\n",
    "sel = (obsdepth .< 10) .& Dates.month.(obstime) .== 1;\n",
    "x = (obslon[sel],obslat[sel]);\n",
    "v = obsval[sel] .- mean(obsval[sel]);\n",
    "distbin = 0:0.5:4\n",
    "\n",
    "var0,len,distx,covar,fitcovar = fit_isotropic(x,v,distbin,mincount)"
   ]
  },
  {
   "cell_type": "code",
   "execution_count": 21,
   "metadata": {},
   "outputs": [
    {
     "data": {
      "image/png": "[encoded data removed]",
      "text/plain": [
       "Figure(PyObject <Figure size 640x480 with 1 Axes>)"
      ]
     },
     "metadata": {},
     "output_type": "display_data"
    }
   ],
   "source": [
    "figure()\n",
    "plot(distx,covar, label = \"empirical covariance\")\n",
    "plot(distx,fitcovar, label = \"fitted function\")\n",
    "legend()\n",
    "title(\"isotropic fit 2D\");"
   ]
  },
  {
   "cell_type": "markdown",
   "metadata": {},
   "source": [
    "The data from the file `Salinity.bigfile` is already interpolated on standard depth levels, which makes it not ideal to explore the vertical correlation.\n",
    "The file `WOD-Salinity-Provencal.nc` contains salinity measurement obtained from the World Ocean Database for the Provençal Basin (Mediterranean Sea).\n",
    "\n",
    "The resulting correlation length can fluctuate a bit because the correlation is based on a collection of random pairs. Increasing the parameter `nmean` can make the estimation of the correlation more robust."
   ]
  },
  {
   "cell_type": "markdown",
   "metadata": {},
   "source": [
    "* Load the data file if it is not already present.\n",
    "* Note we do not use the file `Salinity.bigfile` because it correspond to data already vertically interpolated which is not optimal for estimating the vertical correlation length\n",
    "\n",
    "## Example 2: salinity in the Provençal Basin\n",
    "In this case, the profiles were not interpolated vertically."
   ]
  },
  {
   "cell_type": "code",
   "execution_count": 22,
   "metadata": {},
   "outputs": [
    {
     "name": "stderr",
     "output_type": "stream",
     "text": [
      "┌ Info: Data file data/WOD-Salinity-Provencal.nc already downloaded\n",
      "└ @ Main In[22]:7\n"
     ]
    }
   ],
   "source": [
    "varname = \"Salinity\"\n",
    "filename = \"data/WOD-Salinity-Provencal.nc\"\n",
    "\n",
    "if !isfile(filename)    \n",
    "    download(\"https://dox.ulg.ac.be/index.php/s/PztJfSEnc8Cr3XN/download\",filename)\n",
    "else\n",
    "    @info(\"Data file $filename already downloaded\")\n",
    "end"
   ]
  },
  {
   "cell_type": "markdown",
   "metadata": {},
   "source": [
    "Load the data and print basic information about it that can be used for quality check."
   ]
  },
  {
   "cell_type": "code",
   "execution_count": 23,
   "metadata": {},
   "outputs": [
    {
     "name": "stdout",
     "output_type": "stream",
     "text": [
      "              minimum and maximum of obs. dimension 1: (3.0418334007263184, 11.8100004196167)\n",
      "              minimum and maximum of obs. dimension 2: (42.0, 44.0)\n",
      "              minimum and maximum of obs. dimension 3: ("
     ]
    },
    {
     "name": "stderr",
     "output_type": "stream",
     "text": [
      "┌ Info: Checking ranges for dimensions and observations\n",
      "└ @ DIVAnd /home/abarth/projects/Julia/DIVAnd.jl/src/obsstat.jl:75\n"
     ]
    },
    {
     "name": "stdout",
     "output_type": "stream",
     "text": [
      "-0.0, 2762.0)\n",
      "              minimum and maximum of obs. dimension 4: (1892-09-25T00:00:00, 2017-10-02T06:14:02.761)\n",
      "                          minimum and maximum of data: (0.25, 40.0)\n"
     ]
    }
   ],
   "source": [
    "obsval,obslon,obslat,obsdepth,obstime,obsid = loadobs(Float64,filename,\"Salinity\")\n",
    "checkobs((obslon,obslat,obsdepth,obstime),obsval,obsid)"
   ]
  },
  {
   "cell_type": "markdown",
   "metadata": {},
   "source": [
    "For this example we select only the first month (January)"
   ]
  },
  {
   "cell_type": "code",
   "execution_count": 24,
   "metadata": {},
   "outputs": [],
   "source": [
    "sel = (Dates.month.(obstime) .== 1)\n",
    "x = (obslon[sel],obslat[sel],obsdepth[sel]);\n",
    "v = obsval[sel]\n",
    "z = [0.,10,100,200,300,400,500,700,1000,1500];"
   ]
  },
  {
   "cell_type": "markdown",
   "metadata": {},
   "source": [
    "### Horizontal correlation length\n",
    "Estimate the horizontal correlation length for different depth levels    \n",
    "(can take a few minutes)."
   ]
  },
  {
   "cell_type": "code",
   "execution_count": 25,
   "metadata": {},
   "outputs": [
    {
     "name": "stderr",
     "output_type": "stream",
     "text": [
      "┌ Warning: Be patient big data set: 18551\n",
      "└ @ DIVAnd /home/abarth/projects/Julia/DIVAnd.jl/src/fit.jl:675\n",
      "┌ Info: Data points at z=0.0: 18551, horz. correlation length: 0.29007691140344244\n",
      "└ @ DIVAnd /home/abarth/projects/Julia/DIVAnd.jl/src/fit.jl:1061\n",
      "┌ Warning: Be patient big data set: 21948\n",
      "└ @ DIVAnd /home/abarth/projects/Julia/DIVAnd.jl/src/fit.jl:675\n",
      "┌ Info: Data points at z=10.0: 21948, horz. correlation length: 0.24386004187260396\n",
      "└ @ DIVAnd /home/abarth/projects/Julia/DIVAnd.jl/src/fit.jl:1061\n",
      "┌ Warning: Be patient big data set: 30934\n",
      "└ @ DIVAnd /home/abarth/projects/Julia/DIVAnd.jl/src/fit.jl:675\n",
      "┌ Info: Data points at z=100.0: 30934, horz. correlation length: 0.14412036850353693\n",
      "└ @ DIVAnd /home/abarth/projects/Julia/DIVAnd.jl/src/fit.jl:1061\n",
      "┌ Warning: Be patient big data set: 26778\n",
      "└ @ DIVAnd /home/abarth/projects/Julia/DIVAnd.jl/src/fit.jl:675\n",
      "┌ Info: Data points at z=200.0: 26778, horz. correlation length: 0.10668776687076267\n",
      "└ @ DIVAnd /home/abarth/projects/Julia/DIVAnd.jl/src/fit.jl:1061\n",
      "┌ Warning: Be patient big data set: 17596\n",
      "└ @ DIVAnd /home/abarth/projects/Julia/DIVAnd.jl/src/fit.jl:675\n",
      "┌ Warning: Too few data. Will use guesses (np = 9, RLz = 0.23021356266001794, )\n",
      "└ @ DIVAnd /home/abarth/projects/Julia/DIVAnd.jl/src/fit.jl:894\n",
      "┌ Info: Data points at z=300.0: 17596, horz. correlation length: 0.23021356266001794\n",
      "└ @ DIVAnd /home/abarth/projects/Julia/DIVAnd.jl/src/fit.jl:1061\n",
      "┌ Warning: Be patient big data set: 14144\n",
      "└ @ DIVAnd /home/abarth/projects/Julia/DIVAnd.jl/src/fit.jl:675\n",
      "┌ Warning: Too few data. Will use guesses (np = 4, RLz = 0.11429153446838261, )\n",
      "└ @ DIVAnd /home/abarth/projects/Julia/DIVAnd.jl/src/fit.jl:894\n",
      "┌ Info: Data points at z=400.0: 14144, horz. correlation length: 0.11429153446838261\n",
      "└ @ DIVAnd /home/abarth/projects/Julia/DIVAnd.jl/src/fit.jl:1061\n",
      "┌ Warning: Be patient big data set: 12200\n",
      "└ @ DIVAnd /home/abarth/projects/Julia/DIVAnd.jl/src/fit.jl:675\n",
      "┌ Info: Data points at z=500.0: 12200, horz. correlation length: 3.3617766549132453\n",
      "└ @ DIVAnd /home/abarth/projects/Julia/DIVAnd.jl/src/fit.jl:1061\n",
      "┌ Warning: Be patient big data set: 10626\n",
      "└ @ DIVAnd /home/abarth/projects/Julia/DIVAnd.jl/src/fit.jl:675\n",
      "┌ Warning: Too few data. Will use guesses (np = 4, RLz = 0.09969609261094856, )\n",
      "└ @ DIVAnd /home/abarth/projects/Julia/DIVAnd.jl/src/fit.jl:894\n",
      "┌ Info: Data points at z=700.0: 10626, horz. correlation length: 0.09969609261094856\n",
      "└ @ DIVAnd /home/abarth/projects/Julia/DIVAnd.jl/src/fit.jl:1061\n",
      "┌ Warning: Too few data. Will use guesses (np = 4, RLz = 0.09469924612576205, )\n",
      "└ @ DIVAnd /home/abarth/projects/Julia/DIVAnd.jl/src/fit.jl:894\n",
      "┌ Info: Data points at z=1000.0: 7554, horz. correlation length: 0.09469924612576205\n",
      "└ @ DIVAnd /home/abarth/projects/Julia/DIVAnd.jl/src/fit.jl:1061\n",
      "┌ Warning: Too few data. Will use guesses (np = 9, RLz = 0.1797675541678625, )\n",
      "└ @ DIVAnd /home/abarth/projects/Julia/DIVAnd.jl/src/fit.jl:894\n"
     ]
    },
    {
     "name": "stdout",
     "output_type": "stream",
     "text": [
      " 18.432346 seconds (249.95 M allocations: 22.359 GiB, 10.34% gc time)\n"
     ]
    },
    {
     "name": "stderr",
     "output_type": "stream",
     "text": [
      "┌ Info: Data points at z=1500.0: 5162, horz. correlation length: 0.1797675541678625\n",
      "└ @ DIVAnd /home/abarth/projects/Julia/DIVAnd.jl/src/fit.jl:1061\n"
     ]
    },
    {
     "data": {
      "text/plain": [
       "([0.300062, 0.333108, 0.392809, 0.466378, 0.536385, 0.585659, 0.60425, 0.59463, 0.571148, 0.552788], Dict{Symbol,Array{T,1} where T}(:fitinfos=>Dict{Symbol,Any}[Dict(:sn=>0.247778,:rqual=>0.829354,:fitcovar=>[NaN, 0.0144328, 0.0140492, 0.0135558, 0.0129967, 0.0123997, 0.0117836, 0.0111618, 0.010544, 0.00993722  …  3.27876e-14, 2.99747e-14, 2.7403e-14, 2.50519e-14, 2.29023e-14, 2.09371e-14, 1.91404e-14, 1.74979e-14, 1.59962e-14, 1.46233e-14],:meandist=>2.11735,:covar=>[0.0193498, 0.0162112, 0.0129696, 0.0113905, 0.0108127, 0.0104314, 0.0104475, 0.0110948, 0.0117915, 0.0120529  …  0.0380852, 0.0339701, 0.030239, 0.0356776, 0.0531402, 0.0698109, 0.0711506, 0.0698813, 0.0966162, 0.136982],:range=>2:20,:distx=>0.0:0.026466871478416282:8.575266359006875,:covarweight=>[7.41491e10, 1.0906e11, 7.63083e10, 7.82751e10, 7.47015e10, 7.83169e10, 7.6959e10, 7.66246e10, 7.38995e10, 7.7564e10  …  8.84924e10, 7.37388e10, 4.19717e11, 0.0, 7.37185e10, 1.33979e11, 7.37185e10, 0.0, 0.0, 7.37186e10]), Dict(:sn=>0.275274,:rqual=>0.846832,:fitcovar=>[NaN, 0.0142244, 0.0137291, 0.0131059, 0.0124143, 0.0116902, 0.0109572, 0.0102314, 0.00952351, 0.00884092  …  1.4472e-16, 1.30016e-16, 1.16805e-16, 1.04936e-16, 9.42728e-17, 8.46927e-17, 7.60858e-17, 6.83532e-17, 6.14062e-17, 5.5165e-17],:meandist=>2.12052,:covar=>[0.0192736, 0.0161609, 0.0129011, 0.0112253, 0.0105229, 0.0100566, 0.0100529, 0.0107249, 0.0114095, 0.0114626  …  0.0459649, 0.0712086, 0.0964311, 0.105568, 0.0963139, 0.0818016, 0.0837176, 0.11077, 0.155747, 0.195087],:range=>2:20,:distx=>0.0:0.026506526290500432:8.58811451812214,:covarweight=>[1.58864e10, 2.24521e10, 1.85955e10, 2.3216e10, 1.64074e10, 2.43961e10, 2.11972e10, 2.02815e10, 1.59504e10, 1.58187e10  …  1.57937e10, 1.57985e10, 1.57937e10, 1.57957e10, 1.57937e10, 1.58015e10, 0.0, 1.57937e10, 0.0, 1.57937e10]), Dict(:sn=>1.27995,:rqual=>0.914497,:fitcovar=>[NaN, 0.0162413, 0.0150712, 0.0137149, 0.0123216, 0.0109683, 0.00969554, 0.00852341, 0.00745961, 0.00650449  …  5.73722e-26, 4.81132e-26, 4.03483e-26, 3.38364e-26, 2.83753e-26, 2.37956e-26, 1.99549e-26, 1.6734e-26, 1.40329e-26, 1.17678e-26],:meandist=>2.04716,:covar=>[0.0161131, 0.0150773, 0.0138923, 0.0132968, 0.0130752, 0.0125985, 0.0116627, 0.0103731, 0.00886501, 0.00739546  …  0.0177931, 0.0142907, 0.0184357, 0.0222557, 0.0165645, 0.00662581, 0.00223989, 0.00794912, 0.0238473, 0.0397456],:range=>2:16,:distx=>0.0:0.025589554066679142:8.3421946257374,:covarweight=>[1.41691e11, 2.75624e11, 4.15851e11, 1.72437e11, 3.97336e11, 3.30805e11, 4.25694e11, 2.92448e11, 4.37711e11, 3.2118e11  …  1.26427e11, 0.0, 0.0, 1.33164e11, 0.0, 0.0, 0.0, 0.0, 0.0, 1.26427e11]), Dict(:sn=>1.65536,:rqual=>0.934377,:fitcovar=>[NaN, 0.0137223, 0.0123219, 0.0107874, 0.00929412, 0.00791844, 0.00669053, 0.00561671, 0.00469101, 0.00390138  …  5.58808e-33, 4.45712e-33, 3.55503e-33, 2.83551e-33, 2.26161e-33, 1.80385e-33, 1.43874e-33, 1.14752e-33, 9.15247e-34, 7.29985e-34],:meandist=>1.94331,:covar=>[0.0131137, 0.012481, 0.0115175, 0.0108071, 0.0104245, 0.00980151, 0.00867096, 0.00718382, 0.0054751, 0.00394809  …  -0.00526715, 0.00201746, 0.0104234, 0.0135978, 0.00880816, 0.002335, 0.000847263, 0.00719587, 0.0220969, 0.0368281],:range=>2:18,:distx=>0.0:0.02429138589953613:7.943283189148314,:covarweight=>[6.9993e11, 8.14175e11, 1.09788e12, 7.84638e11, 1.12999e12, 9.46753e11, 1.19096e12, 1.1205e12, 1.24803e12, 1.34416e12  …  6.89477e11, 0.0, 0.0, 6.89627e11, 7.1013e11, 0.0, 0.0, 0.0, 0.0, 6.89477e11]), Dict(:sn=>0.010101,:rqual=>0.0,:fitcovar=>[NaN, 0.000140703, 0.000136393, 0.00013091, 0.000124762, 0.000118262, 0.000111619, 0.000104979, 9.84433e-5, 9.20827e-5  …  6.50893e-18, 5.89832e-18, 5.34497e-18, 4.84351e-18, 4.38908e-18, 3.97727e-18, 3.60408e-18, 3.26589e-18, 2.95942e-18, 2.6817e-18],:meandist=>1.84171,:covar=>[0.00296013, 0.00231321, 0.00150171, 0.00102002, 0.000909036, 0.000854136, 0.000639013, 0.000327561, 8.60956e-5, -6.39339e-5  …  0.0011453, 0.00205313, 0.00180536, 0.000792947, -0.000541197, -0.0040907, -0.011025, -0.0192232, -0.0269893, -0.03271],:range=>1:0,:distx=>0.0:0.023021356266001793:7.735175705376602,:covarweight=>[6.12624e13, 7.31291e13, 7.99498e13, 6.13485e13, 9.48082e13, 1.14455e14, 1.2135e14, 7.44879e13, 7.76821e13, 2.88379e14  …  6.12566e13, 6.13329e13, 0.0, 0.0, 0.0, 0.0, 0.0, 6.12362e13, 0.0, 6.12362e13]), Dict(:sn=>0.010101,:rqual=>0.0,:fitcovar=>[NaN, 0.00010825, 9.90196e-5, 8.85887e-5, 7.81313e-5, 6.82131e-5, 5.91019e-5, 5.09036e-5, 4.3633e-5, 3.72534e-5  …  1.50306e-31, 1.2325e-31, 1.01063e-31, 8.28699e-32, 6.79516e-32, 5.57186e-32, 4.56877e-32, 3.74624e-32, 3.07178e-32, 2.51874e-32],:meandist=>1.82866,:covar=>[0.00182477, 0.00108207, 0.000238898, -0.000137739, -2.95899e-5, 0.000189891, 0.000234504, 0.000191479, 0.000286974, 0.000512885  …  0.000347427, 0.000333441, 0.000175472, 0.000604592, 0.00151148, 0.00208756, 0.00202989, 0.00228271, 0.0034011, 0.00448904],:range=>1:0,:distx=>0.0:0.022858306893676524:7.543241274913253,:covarweight=>[4.02067e14, 1.92485e15, 6.07439e14, 4.02074e14, 6.71469e14, 9.60301e15, 1.15019e15, 6.1155e14, 5.47861e14, 2.89427e15  …  0.0, 0.0, 0.0, 0.0, 0.0, 4.02436e14, 0.0, 0.0, 4.03818e14, 4.02335e14]), Dict(:sn=>0.0691531,:rqual=>0.374254,:fitcovar=>[NaN, 0.000669375, 0.000669178, 0.000668883, 0.000668504, 0.000668047, 0.000667519, 0.000666925, 0.000666269, 0.000665555  …  0.000171679, 0.000170773, 0.000169871, 0.000168974, 0.00016808, 0.000167191, 0.000166307, 0.000165426, 0.00016455, 0.000163678],:meandist=>1.73229,:covar=>[0.00242157, 0.00160747, 0.000629615, 0.000133444, 0.000206981, 0.000464869, 0.000590595, 0.000604276, 0.00063935, 0.000736171  …  0.00471471, 0.00269047, 0.000850707, 0.000114941, 0.0, 0.0, -0.00114416, -0.00800909, -0.0240273, -0.0400454],:range=>4:73,:distx=>0.0:0.021653676956903907:7.275635457519713,:covarweight=>[7.74929e14, 1.02421e16, 3.14272e15, 7.74912e14, 3.26644e15, 6.9143e15, 1.38476e16, 2.02108e15, 1.52779e16, 1.13463e15  …  7.74898e14, 0.0, 0.0, 0.0, 0.0, 0.0, 0.0, 0.0, 0.0, 3.44547e15]), Dict(:sn=>0.010101,:rqual=>0.0,:fitcovar=>[NaN, 0.00011636, 0.000106438, 9.52257e-5, 8.39848e-5, 7.33235e-5, 6.35297e-5, 5.47173e-5, 4.69019e-5, 4.00444e-5  …  6.74612e-33, 5.53136e-33, 4.53531e-33, 3.71861e-33, 3.04897e-33, 2.4999e-33, 2.0497e-33, 1.68057e-33, 1.37791e-33, 1.12976e-33],:meandist=>1.59514,:covar=>[0.00381741, 0.00269422, 0.00127447, 0.000280296, -2.78597e-5, 0.000197984, 0.000530356, 0.000655411, 0.000581719, 0.000502717  …  0.00235309, 0.00397064, 0.00738509, 0.00953367, 0.00826817, 0.00483942, 0.00285664, 0.00447659, 0.00831459, 0.0112672],:range=>1:0,:distx=>0.0:0.01993921852218971:6.89896960867764,:covarweight=>[4.92288e16, 6.00014e16, 6.16157e16, 4.92288e16, 4.92288e16, 5.83999e16, 2.42177e17, 5.4803e16, 6.01057e16, 4.95171e16  …  0.0, 0.0, 4.93646e16, 4.92303e16, 4.92721e16, 0.0, 0.0, 0.0, 4.94802e16, 4.92408e16]), Dict(:sn=>0.010101,:rqual=>0.0,:fitcovar=>[NaN, 0.000143718, 0.000131462, 0.000117614, 0.00010373, 9.05624e-5, 7.8466e-5, 6.75817e-5, 5.79289e-5, 4.94591e-5  …  3.08765e-33, 2.5316e-33, 2.07569e-33, 1.70187e-33, 1.39537e-33, 1.14407e-33, 9.38016e-34, 7.69073e-34, 6.30556e-34, 5.16985e-34],:meandist=>1.51519,:covar=>[0.00469447, 0.00326289, 0.00131933, -0.000506659, -0.00155437, -0.00129359, -0.000395676, 0.000124494, 0.000151393, 3.26323e-5  …  0.00103133, 0.00051526, 0.000547985, 0.00118093, 0.00157457, 0.00115158, 0.000468113, 0.000841337, 0.0029922, 0.00539789],:range=>1:0,:distx=>0.0:0.018939849225152412:6.647887078028496,:covarweight=>[2.39408e17, 3.08857e17, 2.75576e17, 2.44461e17, 2.39408e17, 3.35154e17, 9.78656e17, 3.04522e17, 2.92579e17, 2.40316e18  …  0.0, 0.0, 0.0, 0.0, 2.46616e17, 0.0, 0.0, 0.0, 2.4572e17, 2.3957e17]), Dict(:sn=>0.010101,:rqual=>0.0,:fitcovar=>[NaN, 0.000227115, 0.000220157, 0.000211307, 0.000201383, 0.000190891, 0.000180169, 0.000169451, 0.000158901, 0.000148634  …  2.31009e-17, 2.09346e-17, 1.89713e-17, 1.7192e-17, 1.55796e-17, 1.41183e-17, 1.2794e-17, 1.15939e-17, 1.05063e-17, 9.52072e-18],:meandist=>1.43814,:covar=>[0.00897151, 0.00573735, 0.0025653, 0.00108516, 0.000577409, 0.000424257, 0.000438349, 0.000376682, 0.000130622, -0.000167209  …  0.000153765, 2.56275e-5, 0.0, 0.0, 0.0, 2.52551e-5, 0.000156604, 0.000414342, 0.000636904, 0.000707935],:range=>1:0,:distx=>0.0:0.01797675541678625:5.89637577670589,:covarweight=>[2.02923e24, 2.02923e24, 2.02923e24, 2.02923e24, 2.02923e24, 2.02923e24, 2.02923e24, 2.02923e24, 2.02923e24, 2.02923e24  …  0.0, 0.0, 0.0, 0.0, 0.0, 0.0, 0.0, 0.0, 2.02934e24, 2.02923e24])],:len=>[0.290077, 0.24386, 0.14412, 0.106688, 0.230214, 0.114292, 3.36178, 0.0996961, 0.0946992, 0.179768],:var0=>[0.0146161, 0.0144672, 0.0168679, 0.0145179, 0.0141362, 0.0112195, 0.000669454, 0.01206, 0.0148954, 0.0228179]))"
      ]
     },
     "execution_count": 25,
     "metadata": {},
     "output_type": "execute_result"
    }
   ],
   "source": [
    "Random.seed!(1234);\n",
    "@time lenxy,infoxy = fithorzlen(x,v,z)"
   ]
  },
  {
   "cell_type": "markdown",
   "metadata": {},
   "source": [
    "Make a plot of the horizontal correlation length with respect to the depth."
   ]
  },
  {
   "cell_type": "code",
   "execution_count": 26,
   "metadata": {},
   "outputs": [
    {
     "data": {
      "image/png": "[encoded data removed]",
      "text/plain": [
       "Figure(PyObject <Figure size 640x480 with 1 Axes>)"
      ]
     },
     "metadata": {},
     "output_type": "display_data"
    }
   ],
   "source": [
    "plot(lenxy,-z, \"ko-\")\n",
    "xlabel(\"Horizontal correlation length (°)\")\n",
    "ylabel(\"Depth (m)\");"
   ]
  },
  {
   "cell_type": "markdown",
   "metadata": {},
   "source": [
    "### Vertical correlation length \n",
    "The vertical correlation length is also estimated for different depth levels"
   ]
  },
  {
   "cell_type": "code",
   "execution_count": 27,
   "metadata": {},
   "outputs": [
    {
     "name": "stderr",
     "output_type": "stream",
     "text": [
      "┌ Info: Vert. correlation length at z=0.0: 46.55059200000001\n",
      "└ @ DIVAnd /home/abarth/projects/Julia/DIVAnd.jl/src/fit.jl:1151\n",
      "┌ Info: Vert. correlation length at z=10.0: 46.54409600000001\n",
      "└ @ DIVAnd /home/abarth/projects/Julia/DIVAnd.jl/src/fit.jl:1151\n",
      "┌ Warning: Too few data. Will use guesses (np = 9, RLz = 178.22644592285155, )\n",
      "└ @ DIVAnd /home/abarth/projects/Julia/DIVAnd.jl/src/fit.jl:894\n",
      "┌ Info: Vert. correlation length at z=100.0: 178.22644592285155\n",
      "└ @ DIVAnd /home/abarth/projects/Julia/DIVAnd.jl/src/fit.jl:1151\n",
      "┌ Info: Vert. correlation length at z=200.0: 90.87321600000001\n",
      "└ @ DIVAnd /home/abarth/projects/Julia/DIVAnd.jl/src/fit.jl:1151\n",
      "┌ Warning: Too few data. Will use guesses (np = 9, RLz = 181.6, )\n",
      "└ @ DIVAnd /home/abarth/projects/Julia/DIVAnd.jl/src/fit.jl:894\n",
      "┌ Info: Vert. correlation length at z=300.0: 181.6\n",
      "└ @ DIVAnd /home/abarth/projects/Julia/DIVAnd.jl/src/fit.jl:1151\n",
      "┌ Info: Vert. correlation length at z=400.0: 162.22819310742187\n",
      "└ @ DIVAnd /home/abarth/projects/Julia/DIVAnd.jl/src/fit.jl:1151\n",
      "┌ Info: Vert. correlation length at z=500.0: 211.15987200000004\n",
      "└ @ DIVAnd /home/abarth/projects/Julia/DIVAnd.jl/src/fit.jl:1151\n",
      "┌ Info: Vert. correlation length at z=700.0: 354.81600000000003\n",
      "└ @ DIVAnd /home/abarth/projects/Julia/DIVAnd.jl/src/fit.jl:1151\n",
      "┌ Info: Vert. correlation length at z=1000.0: 1839.5273977792967\n",
      "└ @ DIVAnd /home/abarth/projects/Julia/DIVAnd.jl/src/fit.jl:1151\n",
      "┌ Info: Vert. correlation length at z=1500.0: 2999.019015284176\n",
      "└ @ DIVAnd /home/abarth/projects/Julia/DIVAnd.jl/src/fit.jl:1151\n"
     ]
    },
    {
     "name": "stdout",
     "output_type": "stream",
     "text": [
      "  2.194331 seconds (33.82 M allocations: 3.030 GiB, 11.52% gc time)\n"
     ]
    }
   ],
   "source": [
    "Random.seed!(1234);\n",
    "@time lenz,infoz = fitvertlen(x,v,z);"
   ]
  },
  {
   "cell_type": "markdown",
   "metadata": {
    "collapsed": true
   },
   "source": [
    "Make a plot"
   ]
  },
  {
   "cell_type": "code",
   "execution_count": 28,
   "metadata": {},
   "outputs": [
    {
     "data": {
      "image/png": "[encoded data removed]",
      "text/plain": [
       "Figure(PyObject <Figure size 640x480 with 1 Axes>)"
      ]
     },
     "metadata": {},
     "output_type": "display_data"
    }
   ],
   "source": [
    "plot(lenz,-z, \"ko-\")\n",
    "xlabel(\"Vertical correlation length (m)\")\n",
    "ylabel(\"Depth (m)\");"
   ]
  }
 ],
 "metadata": {
  "@webio": {
   "lastCommId": null,
   "lastKernelId": null
  },
  "kernelspec": {
   "display_name": "Julia 1.3.0",
   "language": "julia",
   "name": "julia-1.3"
  },
  "language_info": {
   "file_extension": ".jl",
   "mimetype": "application/julia",
   "name": "julia",
   "version": "1.3.0"
  },
  "nbdime-conflicts": {
   "local_diff": [
    {
     "diff": [
      {
       "diff": [
        {
         "diff": [
          {
           "key": 10,
           "op": "addrange",
           "valuelist": "2"
          },
          {
           "key": 10,
           "length": 1,
           "op": "removerange"
          }
         ],
         "key": 0,
         "op": "patch"
        }
       ],
       "key": "display_name",
       "op": "patch"
      }
     ],
     "key": "kernelspec",
     "op": "patch"
    },
    {
     "diff": [
      {
       "diff": [
        {
         "diff": [
          {
           "key": 4,
           "op": "addrange",
           "valuelist": "2"
          },
          {
           "key": 4,
           "length": 1,
           "op": "removerange"
          }
         ],
         "key": 0,
         "op": "patch"
        }
       ],
       "key": "version",
       "op": "patch"
      }
     ],
     "key": "language_info",
     "op": "patch"
    }
   ],
   "remote_diff": [
    {
     "diff": [
      {
       "diff": [
        {
         "diff": [
          {
           "key": 10,
           "op": "addrange",
           "valuelist": "0"
          },
          {
           "key": 10,
           "length": 1,
           "op": "removerange"
          }
         ],
         "key": 0,
         "op": "patch"
        }
       ],
       "key": "display_name",
       "op": "patch"
      }
     ],
     "key": "kernelspec",
     "op": "patch"
    },
    {
     "diff": [
      {
       "diff": [
        {
         "diff": [
          {
           "key": 4,
           "op": "addrange",
           "valuelist": "0"
          },
          {
           "key": 4,
           "length": 1,
           "op": "removerange"
          }
         ],
         "key": 0,
         "op": "patch"
        }
       ],
       "key": "version",
       "op": "patch"
      }
     ],
     "key": "language_info",
     "op": "patch"
    }
   ]
  }
 },
 "nbformat": 4,
 "nbformat_minor": 2
}
