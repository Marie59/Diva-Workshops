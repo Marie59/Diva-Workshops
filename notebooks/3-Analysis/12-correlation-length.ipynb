{
 "cells": [
  {
   "cell_type": "markdown",
   "metadata": {},
   "source": [
    "# Estimating the correlation length \n",
    "\n",
    "* The correlation length $L$ determines whether two points separated by a given distance are correlated or not.\n",
    "* `DIVAnd` includes several tools to estimate the correlation length.\n",
    "* We will start with a 2D case and consider the 3D case.\n",
    "* This notebook can run on multiple CPU threads (see [01-notebooks-basics.ipynb](../1-Intro/01-notebooks-basics.ipynb))"
   ]
  },
  {
   "cell_type": "code",
   "execution_count": null,
   "metadata": {},
   "outputs": [
    {
     "name": "stderr",
     "output_type": "stream",
     "text": [
      "┌ Info: Precompiling DIVAnd [efc8151c-67de-5a8f-9a35-d8f54746ae9d]\n",
      "└ @ Base loading.jl:1273\n",
      "┌ Info: Precompiling PyPlot [d330b81b-6aea-500a-939a-2ce795aea3ee]\n",
      "└ @ Base loading.jl:1273\n"
     ]
    }
   ],
   "source": [
    "using DIVAnd\n",
    "using PyPlot\n",
    "using Dates\n",
    "using Statistics\n",
    "using Random\n",
    "using Printf"
   ]
  },
  {
   "cell_type": "markdown",
   "metadata": {},
   "source": [
    "# Data reading\n",
    "\n",
    "The file `WOD-Salinity-Provencal.nc` contains salinity measurement obtained from the [World Ocean Database](https://www.nodc.noaa.gov/OC5/WOD/pr_wod.html). for the Provençal Basin (Mediterranean Sea). The profiles were not interpolated vertically.\n",
    "\n",
    "The resulting correlation length can fluctuate a bit between runs, because the correlation is based on a collection of random pairs. "
   ]
  },
  {
   "cell_type": "markdown",
   "metadata": {},
   "source": [
    "## 2D case\n",
    "\n",
    "* First lets consider only the data on a 2D surface (longitude and latitude)\n",
    "* Load the data file if it is not already present."
   ]
  },
  {
   "cell_type": "code",
   "execution_count": null,
   "metadata": {},
   "outputs": [],
   "source": [
    "varname = \"Salinity\"\n",
    "filename = \"../data/WOD-Salinity-Provencal.nc\"\n",
    "\n",
    "if !isfile(filename)    \n",
    "    download(\"https://dox.ulg.ac.be/index.php/s/PztJfSEnc8Cr3XN/download\",filename)\n",
    "else\n",
    "    @info(\"Data file $filename already downloaded\")\n",
    "end\n",
    "\n",
    "\n",
    "bathname = \"../data/gebco_30sec_4.nc\"\n",
    "if !isfile(bathname)\n",
    "    download(\"https://dox.ulg.ac.be/index.php/s/U0pqyXhcQrXjEUX/download\",bathname)\n",
    "else\n",
    "    @info(\"Bathymetry file already downloaded\")\n",
    "end\n",
    "\n",
    "lonr = 3.:0.1:11.8\n",
    "latr = 42.:0.1:44.5\n",
    "bathisglobal = true\n",
    "# Extract the bathymetry for plotting\n",
    "bx,by,b = extract_bath(bathname,bathisglobal,lonr,latr);\n",
    "\n",
    "\n"
   ]
  },
  {
   "cell_type": "markdown",
   "metadata": {},
   "source": [
    "Load the data and print basic information about it that can be used for quality check."
   ]
  },
  {
   "cell_type": "code",
   "execution_count": null,
   "metadata": {},
   "outputs": [],
   "source": [
    "obsval,obslon,obslat,obsdepth,obstime,obsid = loadobs(Float64,filename,\"Salinity\")\n",
    "checkobs((obslon,obslat,obsdepth,obstime),obsval,obsid)"
   ]
  },
  {
   "cell_type": "markdown",
   "metadata": {},
   "source": [
    "It is quite important to remove outliers for the correlation length estimation, as outlires can have a significant impact."
   ]
  },
  {
   "cell_type": "code",
   "execution_count": null,
   "metadata": {},
   "outputs": [],
   "source": [
    "hist(obsval,1000)\n",
    "xlim(37,39)"
   ]
  },
  {
   "cell_type": "markdown",
   "metadata": {},
   "source": [
    "For this example we select only the first month (January) and we remove some questionable data"
   ]
  },
  {
   "cell_type": "code",
   "execution_count": null,
   "metadata": {},
   "outputs": [],
   "source": [
    "badid = [\"wod_015600782O\",\"wod_015602753O\",\"wod_015604717O\",\"wod_015606732O\",\"wod_015607117O\",\"wod_015607524O\",\"wod_015607893O\",\"wod_015924970O\",\"wod_015926914O\",\"wod_015928739O\",\"wod_016650545O\", \"wod_008518725O\",\"wod_007643915O\",\"wod_015875365O\",\"wod_006614816O\",\"wod_006614929O\",\"wod_006614937O\",\"wod_007644875O\",\"wod_009996947O\",\"wod_010742471O\",\"wod_010742472O\",\"wod_006614931O\",\"wod_006614934O\",\"wod_006625408O\",\"wod_006752127O\",\"wod_006752129O\"]\n",
    "good = (37.6 .< obsval .< 38.75) .& map(id -> !(id in badid),obsid)\n",
    "\n",
    "\n",
    "sel = (Dates.month.(obstime) .== 1) .& good\n",
    "x = (obslon[sel],obslat[sel],obsdepth[sel]);\n",
    "v = obsval[sel]\n",
    "\n",
    "z = [0.,5., 10., 15., 20., 25., 30., 40., 50., 66, \n",
    "    75, 85, 100, 112, 125, 135, 150, 175, 200, 225, 250, \n",
    "    275, 300, 350, 400, 450, 500, 550, 600, 650, 700, 750, \n",
    "    800, 850, 900, 950, 1000, 1050, 1100, 1150, 1200, 1250, \n",
    "    1300, 1350, 1400, 1450, 1500, 1600, 1750, 1850, 2000]\n",
    "\n",
    "#z = [0.,5., 10., 15., 20., 25., 30., 40., 50., 66, \n",
    "#    75, 85, 100, 112, 125, 135, 150, 175, 200, 225, 250, \n",
    "#    275, 300, 350, 400, 450, 500, 550, 600];\n"
   ]
  },
  {
   "cell_type": "code",
   "execution_count": null,
   "metadata": {},
   "outputs": [],
   "source": [
    "[0,1,2]"
   ]
  },
  {
   "cell_type": "markdown",
   "metadata": {},
   "source": [
    "Plot the observation at a given level. What do you think will happend if you run `plotobs.(z)`?"
   ]
  },
  {
   "cell_type": "code",
   "execution_count": null,
   "metadata": {},
   "outputs": [],
   "source": [
    "function plotobs(z)\n",
    "    figure()\n",
    "    sel = (Dates.month.(obstime) .== 1) .& (abs.(obsdepth .- z) .< 50)  .& good # .& (obsval .< 38.3)\n",
    "    scatter(obslon[sel],obslat[sel],10,obsval[sel], cmap=\"jet\"); colorbar(orientation = \"horizontal\");\n",
    "    #print(join(map(s -> '\"' * s * '\"',String.(unique(obsid[sel]))),\",\"))\n",
    "    contourf(bx,by,b', levels = [-1e5,0],colors = [[.5,.5,.5]])\n",
    "    aspectratio = 1/cos(mean(latr) * pi/180)\n",
    "    gca().set_aspect(aspectratio)\n",
    "    title(\"Depth: $z m\")\n",
    "end"
   ]
  },
  {
   "cell_type": "code",
   "execution_count": null,
   "metadata": {},
   "outputs": [],
   "source": [
    "plotobs.(z);"
   ]
  },
  {
   "cell_type": "code",
   "execution_count": null,
   "metadata": {},
   "outputs": [],
   "source": [
    "depthr = z"
   ]
  },
  {
   "cell_type": "code",
   "execution_count": null,
   "metadata": {},
   "outputs": [],
   "source": [
    "2 .* [1,2,3]"
   ]
  },
  {
   "cell_type": "code",
   "execution_count": null,
   "metadata": {},
   "outputs": [],
   "source": [
    "size(mask)"
   ]
  },
  {
   "cell_type": "code",
   "execution_count": null,
   "metadata": {},
   "outputs": [],
   "source": [
    "size(background_len[1])"
   ]
  },
  {
   "cell_type": "code",
   "execution_count": null,
   "metadata": {},
   "outputs": [],
   "source": [
    "mask, pmn, xyi = DIVAnd.domain(bathname, bathisglobal, lonr, latr, depthr)\n",
    "sz = size(mask);\n",
    "# obs. coordinate matching selection\n",
    "xsel = (obslon[sel],obslat[sel],obsdepth[sel])\n",
    "\n",
    "vm = mean(obsval[sel])\n",
    "va = obsval[sel] .- vm\n",
    "toaverage = [true, true, false]\n",
    "background_len = (zeros(sz),zeros(sz),fill(50.,sz))\n",
    "background_epsilon2 = 1000.\n",
    "\n",
    "\n",
    "                    fi, vaa = DIVAnd.DIVAnd_averaged_bg(\n",
    "                        mask,\n",
    "                        pmn,\n",
    "                        xyi,\n",
    "                        xsel,\n",
    "                        va,\n",
    "                        background_len,\n",
    "                        background_epsilon2,\n",
    "                        toaverage;\n",
    "                    )\n",
    "\n",
    "                    fbackground = fi .+ vm\n",
    "                    @debug \"fbackground: $(fbackground[1,1,:])\"\n",
    "\n",
    "v = vaa;\n",
    "sel2 = isfinite.(v)\n",
    "x = (xsel[1][sel2],xsel[2][sel2],xsel[3][sel2])\n",
    "v = v[sel2];"
   ]
  },
  {
   "cell_type": "code",
   "execution_count": null,
   "metadata": {},
   "outputs": [],
   "source": [
    "plot(fbackground[1,1,:],-depthr)"
   ]
  },
  {
   "cell_type": "markdown",
   "metadata": {},
   "source": [
    "### Horizontal correlation length\n",
    "Estimate the horizontal correlation length for different depth levels    \n",
    "(can take a few minutes)."
   ]
  },
  {
   "cell_type": "code",
   "execution_count": null,
   "metadata": {},
   "outputs": [],
   "source": [
    "?fithorzlen"
   ]
  },
  {
   "cell_type": "code",
   "execution_count": null,
   "metadata": {},
   "outputs": [],
   "source": [
    "@time lenxy,infoxy = fithorzlen(x,v,z; distfun = DIVAnd.distfun_m, searchz = z -> (z/4+10));"
   ]
  },
  {
   "cell_type": "markdown",
   "metadata": {},
   "source": [
    "Information about the fitting:\n"
   ]
  },
  {
   "cell_type": "code",
   "execution_count": null,
   "metadata": {},
   "outputs": [],
   "source": [
    "lenxy"
   ]
  },
  {
   "cell_type": "code",
   "execution_count": null,
   "metadata": {},
   "outputs": [],
   "source": [
    "infoxy[:fitinfos][1]"
   ]
  },
  {
   "cell_type": "markdown",
   "metadata": {},
   "source": [
    "Extract the information for the level `k = 1`:\n",
    "* `covar`: the empirical covariance\n",
    "* `fitcovar`: the fitted empirical covariance\n",
    "* `distx`: distance\n",
    "* `range`: part of `covar` used for the fitting\n",
    "* `rqual`: the quality for the fit (1: excellent, 0: poor)"
   ]
  },
  {
   "cell_type": "code",
   "execution_count": null,
   "metadata": {},
   "outputs": [],
   "source": [
    "k = 1\n",
    "covar = infoxy[:fitinfos][k][:covar]\n",
    "fitcovar = infoxy[:fitinfos][k][:fitcovar]\n",
    "distx = infoxy[:fitinfos][k][:distx]\n",
    "range = infoxy[:fitinfos][k][:range]\n",
    "rqual = infoxy[:fitinfos][k][:rqual]\n",
    "\n",
    "plot(distx,covar,label=\"empirical covariance\")\n",
    "plot(distx[range],covar[range],\"r\",label=\"empirical covariance used for fitting\")\n",
    "ylabel(\"covariance [psu²]\")\n",
    "xlabel(\"distance [m]\")\n",
    "legend();"
   ]
  },
  {
   "cell_type": "code",
   "execution_count": null,
   "metadata": {},
   "outputs": [],
   "source": [
    "plot(distx[range],covar[range],\"r\",label=\"empirical covariance used for fitting\")\n",
    "plot(distx[range],fitcovar[range],\"g\",label=\"fitted covariance (rqual = $(@sprintf(\"%4.3f\",rqual)))\")\n",
    "ylabel(\"covariance [psu²]\")\n",
    "xlabel(\"distance [m]\")\n",
    "legend();"
   ]
  },
  {
   "cell_type": "markdown",
   "metadata": {},
   "source": [
    "🖋️ Try different values of k (the level index) and re-run the previous two cells.     \n",
    "Note that at some level the fit was quite poor. Additional filtering (vertically) is done to smooth the horizontal correlation length."
   ]
  },
  {
   "cell_type": "markdown",
   "metadata": {},
   "source": [
    "Make a plot of the horizontal correlation length with respect to the depth. "
   ]
  },
  {
   "cell_type": "code",
   "execution_count": null,
   "metadata": {},
   "outputs": [],
   "source": [
    "rqual = [f[:rqual] for f in infoxy[:fitinfos]]\n",
    "figure(figsize = (10,6))\n",
    "subplot(1,2,1)\n",
    "plot(lenxy/1000,-z, \"ko-\")\n",
    "plot(infoxy[:len]/1000,-z,\":\");\n",
    "xlabel(\"Horizontal correlation length (km)\")\n",
    "ylabel(\"Depth (m)\")\n",
    "#xlim(0,180)\n",
    "subplot(1,2,2)\n",
    "plot(rqual,-z)\n",
    "xlabel(\"quality of the fit\");"
   ]
  },
  {
   "cell_type": "code",
   "execution_count": null,
   "metadata": {},
   "outputs": [],
   "source": [
    "plotobs(1500);"
   ]
  },
  {
   "cell_type": "markdown",
   "metadata": {},
   "source": [
    "It is useful to limit the acceptable range of the correlation length by providing a function `limitfun` with the argument depth `z` and estimated correlation length `len`. It the returns the adjusted correlation length. This adjustememt is done before the filtering."
   ]
  },
  {
   "cell_type": "code",
   "execution_count": null,
   "metadata": {},
   "outputs": [],
   "source": [
    "@time lenxy2,infoxy2 = fithorzlen(x,v,z; distfun = DIVAnd.distfun_m, limitfun = (z,len) -> min(max(len,25e3),60e3));\n"
   ]
  },
  {
   "cell_type": "code",
   "execution_count": null,
   "metadata": {},
   "outputs": [],
   "source": [
    "plot(lenxy2,-z, \"ko-\")\n",
    "#plot(infoxy2[:len],-z,\":\");\n",
    "xlabel(\"Horizontal correlation length (m)\")\n",
    "ylabel(\"Depth (m)\");"
   ]
  },
  {
   "cell_type": "markdown",
   "metadata": {},
   "source": [
    "### Vertical correlation length \n",
    "The vertical correlation length is also estimated for different depth levels"
   ]
  },
  {
   "cell_type": "code",
   "execution_count": null,
   "metadata": {},
   "outputs": [],
   "source": [
    "?fitvertlen"
   ]
  },
  {
   "cell_type": "code",
   "execution_count": null,
   "metadata": {},
   "outputs": [],
   "source": [
    "mean(v)"
   ]
  },
  {
   "cell_type": "code",
   "execution_count": null,
   "metadata": {},
   "outputs": [],
   "source": [
    "lenz,infoz = fitvertlen(x,v,z);"
   ]
  },
  {
   "cell_type": "markdown",
   "metadata": {
    "collapsed": true
   },
   "source": [
    "Make a plot"
   ]
  },
  {
   "cell_type": "code",
   "execution_count": null,
   "metadata": {},
   "outputs": [],
   "source": [
    "k = 45\n",
    "covar = infoz[:fitinfos][k][:covar]\n",
    "fitcovar = infoz[:fitinfos][k][:fitcovar]\n",
    "distx = infoz[:fitinfos][k][:distx]\n",
    "range = infoz[:fitinfos][k][:range]\n",
    "rqual = infoz[:fitinfos][k][:rqual]\n",
    "\n",
    "plot(distx,covar,label=\"empirical covariance\")\n",
    "plot(distx[range],covar[range],\"r\",label=\"empirical covariance used for fitting\")\n",
    "ylabel(\"covariance [psu²]\")\n",
    "xlabel(\"distance [m]\")\n",
    "legend();"
   ]
  },
  {
   "cell_type": "code",
   "execution_count": null,
   "metadata": {},
   "outputs": [],
   "source": [
    "rqual = [f[:rqual] for f in infoz[:fitinfos]]\n",
    "figure(figsize = (10,6))\n",
    "subplot(1,2,1)\n",
    "plot(lenz,-z, \"ko-\")\n",
    "plot(infoz[:len],-z, \"-\")\n",
    "xlabel(\"Vertical correlation length (m)\")\n",
    "ylabel(\"Depth (m)\");\n",
    "\n",
    "subplot(1,2,2)\n",
    "plot(rqual,-z, \"b-\");"
   ]
  },
  {
   "cell_type": "code",
   "execution_count": null,
   "metadata": {},
   "outputs": [],
   "source": [
    "infoz[:fitinfos][end]"
   ]
  },
  {
   "cell_type": "markdown",
   "metadata": {},
   "source": [
    "An alternative is to use of the vertical coordinate to obtain a reasonable guess of the vertical correlation"
   ]
  },
  {
   "cell_type": "code",
   "execution_count": null,
   "metadata": {},
   "outputs": [],
   "source": [
    "Dz = (z[3:end] - z[1:end-2])/2\n",
    "lenz = 3 * [Dz[1], Dz..., Dz[end]]\n",
    "lenzf = DIVAnd.smoothfilter(1:length(lenz),lenz,10)\n",
    "plot(lenz,-z)\n",
    "plot(lenzf,-z);"
   ]
  }
 ],
 "metadata": {
  "@webio": {
   "lastCommId": null,
   "lastKernelId": null
  },
  "kernelspec": {
   "display_name": "Julia 1.3.1",
   "language": "julia",
   "name": "julia-1.3"
  },
  "language_info": {
   "file_extension": ".jl",
   "mimetype": "application/julia",
   "name": "julia",
   "version": "1.3.1"
  },
  "nbdime-conflicts": {
   "local_diff": [
    {
     "diff": [
      {
       "diff": [
        {
         "diff": [
          {
           "key": 10,
           "op": "addrange",
           "valuelist": "2"
          },
          {
           "key": 10,
           "length": 1,
           "op": "removerange"
          }
         ],
         "key": 0,
         "op": "patch"
        }
       ],
       "key": "display_name",
       "op": "patch"
      }
     ],
     "key": "kernelspec",
     "op": "patch"
    },
    {
     "diff": [
      {
       "diff": [
        {
         "diff": [
          {
           "key": 4,
           "op": "addrange",
           "valuelist": "2"
          },
          {
           "key": 4,
           "length": 1,
           "op": "removerange"
          }
         ],
         "key": 0,
         "op": "patch"
        }
       ],
       "key": "version",
       "op": "patch"
      }
     ],
     "key": "language_info",
     "op": "patch"
    }
   ],
   "remote_diff": [
    {
     "diff": [
      {
       "diff": [
        {
         "diff": [
          {
           "key": 10,
           "op": "addrange",
           "valuelist": "0"
          },
          {
           "key": 10,
           "length": 1,
           "op": "removerange"
          }
         ],
         "key": 0,
         "op": "patch"
        }
       ],
       "key": "display_name",
       "op": "patch"
      }
     ],
     "key": "kernelspec",
     "op": "patch"
    },
    {
     "diff": [
      {
       "diff": [
        {
         "diff": [
          {
           "key": 4,
           "op": "addrange",
           "valuelist": "0"
          },
          {
           "key": 4,
           "length": 1,
           "op": "removerange"
          }
         ],
         "key": 0,
         "op": "patch"
        }
       ],
       "key": "version",
       "op": "patch"
      }
     ],
     "key": "language_info",
     "op": "patch"
    }
   ]
  }
 },
 "nbformat": 4,
 "nbformat_minor": 2
}
