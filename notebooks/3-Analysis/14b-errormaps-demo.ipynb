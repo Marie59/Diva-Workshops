{
 "cells": [
  {
   "cell_type": "markdown",
   "metadata": {},
   "source": [
    "# Error fields\n",
    "This notebook illustrates the error field computation."
   ]
  },
  {
   "cell_type": "code",
   "execution_count": null,
   "metadata": {},
   "outputs": [],
   "source": [
    "using DIVAnd\n",
    "#push!(LOAD_PATH,\"c:/users/jmbeckers/Documents/Github/DIVAnd.jl/src\",\".\"); using DIVAnd\n",
    "using PyPlot\n",
    "using Dates\n",
    "using Statistics\n",
    "using LinearAlgebra"
   ]
  },
  {
   "cell_type": "markdown",
   "metadata": {},
   "source": [
    "## Data reading\n",
    "Download the file (it not already done) and read it."
   ]
  },
  {
   "cell_type": "code",
   "execution_count": null,
   "metadata": {},
   "outputs": [],
   "source": [
    "varname = \"Salinity\"\n",
    "filename = \"../data/WOD-Salinity-Provencal.nc\"\n",
    "\n",
    "if !isfile(filename)    \n",
    "    download(\"https://dox.ulg.ac.be/index.php/s/PztJfSEnc8Cr3XN/download\",filename)\n",
    "else \n",
    "    @info \"File already downloaded\"\n",
    "end"
   ]
  },
  {
   "cell_type": "code",
   "execution_count": null,
   "metadata": {},
   "outputs": [],
   "source": [
    "obsval,obslon,obslat,obsdepth,obstime,obsid = loadobs(Float64,filename,\"Salinity\");"
   ]
  },
  {
   "cell_type": "markdown",
   "metadata": {},
   "source": [
    "## Topography and grid definition\n",
    "See the notebook on [bathymetry](../2-Preprocessing/06-topography.ipynb) for more explanations.\n",
    "\n",
    "Define domain and resolution, create the domain."
   ]
  },
  {
   "cell_type": "code",
   "execution_count": null,
   "metadata": {},
   "outputs": [],
   "source": [
    "dx = dy = 0.125/2.\n",
    "lonr = 2.5:dx:12.\n",
    "latr = 42.3:dy:44.6\n",
    "\n",
    "mask,(pm,pn),(xi,yi) = DIVAnd_rectdom(lonr,latr);"
   ]
  },
  {
   "cell_type": "markdown",
   "metadata": {},
   "source": [
    "Download the bathymetry file and load it."
   ]
  },
  {
   "cell_type": "code",
   "execution_count": null,
   "metadata": {},
   "outputs": [],
   "source": [
    "bathname = \"../data/gebco_30sec_4.nc\"\n",
    "if !isfile(bathname)\n",
    "    download(\"https://dox.ulg.ac.be/index.php/s/RSwm4HPHImdZoQP/download\",bathname)\n",
    "else\n",
    "    @info(\"Bathymetry file already downloaded\")\n",
    "end"
   ]
  },
  {
   "cell_type": "code",
   "execution_count": null,
   "metadata": {},
   "outputs": [],
   "source": [
    "bx,by,b = load_bath(bathname,true,lonr,latr);"
   ]
  },
  {
   "cell_type": "markdown",
   "metadata": {},
   "source": [
    "Create a land-sea mask based on the bathymetry."
   ]
  },
  {
   "cell_type": "code",
   "execution_count": null,
   "metadata": {},
   "outputs": [],
   "source": [
    "mask = falses(size(b,1),size(b,2))\n",
    "\n",
    "for j = 1:size(b,2)\n",
    "    for i = 1:size(b,1)\n",
    "        mask[i,j] = b[i,j] >=1.0\n",
    "    end\n",
    "end"
   ]
  },
  {
   "cell_type": "markdown",
   "metadata": {},
   "source": [
    "## Data selection for example\n",
    "\n",
    "Cross validation, error calculations etc. assume independant data. Hence do not take high-resolution vertical profiles with all data but restrict yourself to specific small depth range. Here we limit outselves to August data at surface:"
   ]
  },
  {
   "cell_type": "code",
   "execution_count": null,
   "metadata": {},
   "outputs": [],
   "source": [
    "sel = (obsdepth .< 1) .& (Dates.month.(obstime) .== 8)\n",
    "\n",
    "obsval = obsval[sel]\n",
    "obslon = obslon[sel]\n",
    "obslat = obslat[sel]\n",
    "obsdepth = obsdepth[sel]\n",
    "obstime = obstime[sel]\n",
    "obsid = obsid[sel];\n",
    "@show (size(obsval))\n",
    "checkobs((obslon,obslat,obsdepth,obstime),obsval,obsid)"
   ]
  },
  {
   "cell_type": "markdown",
   "metadata": {
    "collapsed": true
   },
   "source": [
    "### Analysis\n",
    "Analysis parameters have been calibrated in the other notebook [13-processing-parameter-optimization example.ipynb](13-processing-parameter-optimization). \n",
    "\n",
    "⚠ if the statistical parameters are incorrectly estimated, the error fields are meaningless and only provide an idea of data coverage.\n",
    "\n",
    "The analysis parameters are:"
   ]
  },
  {
   "cell_type": "code",
   "execution_count": null,
   "metadata": {},
   "outputs": [],
   "source": [
    "len = 0.3\n",
    "epsilon2 = 1.0;"
   ]
  },
  {
   "cell_type": "markdown",
   "metadata": {},
   "source": [
    "Analysis `fi` using mean data as background.    \n",
    "Structure `s` is stored for later use in error calculation."
   ]
  },
  {
   "cell_type": "code",
   "execution_count": null,
   "metadata": {},
   "outputs": [],
   "source": [
    "fi, s = DIVAndrun(mask,(pm,pn),(xi,yi),(obslon,obslat),obsval.-mean(obsval),len,epsilon2);"
   ]
  },
  {
   "cell_type": "markdown",
   "metadata": {},
   "source": [
    "Create a simple plot of the analysis"
   ]
  },
  {
   "cell_type": "code",
   "execution_count": null,
   "metadata": {},
   "outputs": [],
   "source": [
    "pcolor(xi,yi,fi.+mean(obsval),vmin=37,vmax=38.5);\n",
    "colorbar(orientation=\"horizontal\")\n",
    "contourf(bx,by,copy(b'), levels = [-1e5,0],colors = [[.5,.5,.5]])\n",
    "aspectratio = 1/cos(mean([ylim()...]) * pi/180)\n",
    "gca().set_aspect(aspectratio)"
   ]
  },
  {
   "cell_type": "markdown",
   "metadata": {},
   "source": [
    "## Exact error and approximations\n",
    "\n",
    "Details can be found in the publication:\n",
    "\n",
    "Approximate and Efficient Methods to Assess Error Fields in Spatial Gridding with Data Interpolating Variational Analysis (DIVA) Beckers, Jean-Marie; Barth, Alexander;  Troupin, Charles, Alvera-Azcarate, A.  *Journal of Atmospheric & Oceanic Technology* (2014), **31(2)**, 515-530     \n",
    "https://orbi.uliege.be/handle/2268/161069      \n",
    "https://journals.ametsoc.org/doi/abs/10.1175/JTECH-D-13-00130.1"
   ]
  },
  {
   "cell_type": "markdown",
   "metadata": {},
   "source": [
    "In the 2D case you can try to calculate the exact error expression. This demands the computationally expensive evaluation of `diag(s.P)` accessible via the analysis returned structure `s`. This is only available with `DIVAndrun`."
   ]
  },
  {
   "cell_type": "code",
   "execution_count": null,
   "metadata": {},
   "outputs": [],
   "source": [
    "# plots the error field `exerr`\n",
    "function ploterr(exerr; vmin=0, vmax=1.5, cmap=\"hot_r\")\n",
    "    pcolor(xi,yi,exerr,vmin=vmin, vmax=vmax, cmap=cmap);\n",
    "    colorbar(orientation=\"horizontal\")\n",
    "    contourf(bx,by,copy(b'), levels = [-1e5,0],colors = [[.5,.5,.5]])\n",
    "    plot(obslon, obslat, \"k.\", markersize=.5)\n",
    "    ylim(extrema(yi))\n",
    "    gca().set_aspect(1/cos(mean([ylim()...]) * pi/180))\n",
    "end"
   ]
  },
  {
   "cell_type": "code",
   "execution_count": null,
   "metadata": {},
   "outputs": [],
   "source": [
    "exerr, = statevector_unpack(s.sv,diag(s.P),NaN)\n",
    "ploterr(exerr)\n",
    "title(\"Error using P, scaled by global background variance\");"
   ]
  },
  {
   "cell_type": "code",
   "execution_count": null,
   "metadata": {},
   "outputs": [],
   "source": [
    "aerrora,method = DIVAnd_errormap(mask,(pm,pn),(xi,yi),(obslon,obslat),obsval.-mean(obsval),len,epsilon2,\n",
    "    s;\n",
    "    method = \"exact\",\n",
    "    Bscale = false)"
   ]
  },
  {
   "cell_type": "code",
   "execution_count": null,
   "metadata": {},
   "outputs": [],
   "source": [
    "aerrora[1]"
   ]
  },
  {
   "cell_type": "code",
   "execution_count": null,
   "metadata": {},
   "outputs": [],
   "source": [
    "ploterr(aerrora[1])\n",
    "title(\"Error using automatic version $method\");"
   ]
  },
  {
   "cell_type": "code",
   "execution_count": null,
   "metadata": {},
   "outputs": [],
   "source": [
    "aerror,method = DIVAnd_errormap(mask,(pm,pn),(xi,yi),(obslon,obslat),obsval.-mean(obsval),len,epsilon2,\n",
    "    s;\n",
    "    method = \"auto\",\n",
    "    Bscale = false)\n",
    "ploterr(aerror)\n",
    "title(\"Error using automatic version $method\");"
   ]
  },
  {
   "cell_type": "markdown",
   "metadata": {},
   "source": [
    "Do you see any difference between the exact and clever poor man's error ? \n",
    "## Difference between error fields\n",
    "We also overlay the data positions."
   ]
  },
  {
   "cell_type": "code",
   "execution_count": null,
   "metadata": {},
   "outputs": [],
   "source": [
    "ploterr(aerror-exerr,vmin=-0.2, vmax=0.2, cmap=\"RdBu_r\")\n",
    "title(\"Error on error\");"
   ]
  },
  {
   "cell_type": "markdown",
   "metadata": {},
   "source": [
    "## How to plot standart deviations ?"
   ]
  },
  {
   "cell_type": "markdown",
   "metadata": {},
   "source": [
    "Error fields shown above are error variance divided by a global background error variance $\\sigma^2$. The latter is difficult to assess but a simple practical way is to use data variance and split it into background error variance and observational error variance $\\epsilon^2$, assuming the $epsilon2$ value is correct:\n",
    "\n",
    "$epsilon2$ = ${ \\epsilon^2 \\over \\sigma^2 } $\n",
    "\n",
    "$ \\epsilon^2 + \\sigma^2 $ = var(obsval)\n",
    "\n",
    "Provides\n",
    "\n",
    "$\\sigma^2$= $ {1 \\over 1 + epsilon2 } $ var(obsval)\n",
    "\n",
    "\n",
    "If you are not sure about the value of $epsilon2$ you might consider using DIVAnd_adaptedeps2(s, fi) "
   ]
  },
  {
   "cell_type": "code",
   "execution_count": null,
   "metadata": {},
   "outputs": [],
   "source": [
    "epsilon2=DIVAnd_adaptedeps2(s, fi)"
   ]
  },
  {
   "cell_type": "code",
   "execution_count": null,
   "metadata": {},
   "outputs": [],
   "source": [
    "myabserror=sqrt.(1.0/(1.0+epsilon2)*var(obsval).*exerr)\n",
    "ploterr(myabserror)\n",
    "title(\"Standard deviation\");"
   ]
  },
  {
   "cell_type": "markdown",
   "metadata": {},
   "source": [
    "## How to calculate error on average fields"
   ]
  },
  {
   "cell_type": "code",
   "execution_count": null,
   "metadata": {},
   "outputs": [],
   "source": [
    "# uniform grid is assumed\n",
    "gridsurf=ones(Float64,size(s.P)[1],1)\n",
    "\n",
    "# \"volumes\" for integration\n",
    "function volint(mask, pmn)\n",
    " NDIM = ndims(mask)\n",
    "    dim = size(mask)\n",
    "    # Utility array holding volume based on metrics\n",
    "    volume = zeros(Float64, dim)\n",
    "    volume[mask] .= 1.0\n",
    "    for i = 1:NDIM\n",
    "        volume .= volume ./ pmn[i]\n",
    "    end\n",
    "    return volume\n",
    "end\n",
    "gridsurf=statevector_pack(s.sv,(volint(mask,(pm,pn)),))\n",
    "gridsurf=reshape(gridsurf, length(gridsurf), 1)\n",
    "\n",
    "erronmean=diagMtCM(s.P,gridsurf)[1]/((sum(gridsurf))^2)\n",
    "# That is the error variance of the mean, still scaled by the background error variance (no units)\n",
    "\n",
    "\n",
    "\n",
    "\n"
   ]
  },
  {
   "cell_type": "code",
   "execution_count": null,
   "metadata": {},
   "outputs": [],
   "source": [
    "gridsurf"
   ]
  },
  {
   "cell_type": "code",
   "execution_count": null,
   "metadata": {},
   "outputs": [],
   "source": [
    "s.P"
   ]
  },
  {
   "cell_type": "code",
   "execution_count": null,
   "metadata": {},
   "outputs": [],
   "source": [
    "\n",
    "# now scale by estimate of $\\sigma^2$ and take square root\n",
    "\n",
    "myabserror=sqrt(1.0/(1.0+epsilon2)*var(obsval)*erronmean)\n"
   ]
  },
  {
   "cell_type": "code",
   "execution_count": null,
   "metadata": {},
   "outputs": [],
   "source": [
    "mean(fi[.!isnan.(fi)])"
   ]
  },
  {
   "cell_type": "code",
   "execution_count": null,
   "metadata": {},
   "outputs": [],
   "source": [
    "mean(obsval)"
   ]
  },
  {
   "cell_type": "code",
   "execution_count": null,
   "metadata": {},
   "outputs": [],
   "source": []
  }
 ],
 "metadata": {
  "@webio": {
   "lastCommId": null,
   "lastKernelId": null
  },
  "anaconda-cloud": {},
  "kernelspec": {
   "display_name": "Julia 1.8.5",
   "language": "julia",
   "name": "julia-1.8"
  },
  "language_info": {
   "file_extension": ".jl",
   "mimetype": "application/julia",
   "name": "julia",
   "version": "1.8.5"
  }
 },
 "nbformat": 4,
 "nbformat_minor": 1
}
