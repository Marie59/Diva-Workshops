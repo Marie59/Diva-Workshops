{
 "cells": [
  {
   "cell_type": "markdown",
   "metadata": {},
   "source": [
    "Solution of the exercice where we write a 2-dimensional netCDF."
   ]
  },
  {
   "cell_type": "code",
   "execution_count": 1,
   "metadata": {
    "collapsed": true
   },
   "outputs": [],
   "source": [
    "using NCDatasets"
   ]
  },
  {
   "cell_type": "markdown",
   "metadata": {},
   "source": [
    "# Data\n",
    "We create fake data: temperature as a random field, longitude and latitude as vectors."
   ]
  },
  {
   "cell_type": "code",
   "execution_count": 3,
   "metadata": {},
   "outputs": [],
   "source": [
    "N1 = 10;\n",
    "N2 = 20;\n",
    "temperature0 = rand(N1, N2);\n",
    "lon0 = collect(linspace(10, 15, N1));\n",
    "lat0 = collect(linspace(20, 40, N2));"
   ]
  },
  {
   "cell_type": "markdown",
   "metadata": {},
   "source": [
    "We can check the size of the temperature field:"
   ]
  },
  {
   "cell_type": "code",
   "execution_count": 5,
   "metadata": {},
   "outputs": [
    {
     "data": {
      "text/plain": [
       "(10, 20)"
      ]
     },
     "execution_count": 5,
     "metadata": {},
     "output_type": "execute_result"
    }
   ],
   "source": [
    "size(temperature0)"
   ]
  },
  {
   "cell_type": "code",
   "execution_count": 48,
   "metadata": {
    "collapsed": true
   },
   "outputs": [],
   "source": [
    "ds = Dataset(\"temperature2D.nc\", \"c\");\n",
    "lon = defDim(ds, \"lon\", size(temp)[1]);\n",
    "lat = defDim(ds, \"lat\", size(temp)[2]);\n",
    "lon = defVar(ds, \"lon\", Float64, (\"lon\",));\n",
    "lat = defVar(ds, \"lat\", Float64, (\"lat\",));\n",
    "lon[:] = lon0;\n",
    "lat[:] = lat0;\n",
    "T = defVar(ds, \"temperature\", Float64, (\"lat\", \"lon\"));\n",
    "T[:] = temp;\n",
    "close(ds)"
   ]
  },
  {
   "cell_type": "code",
   "execution_count": null,
   "metadata": {
    "collapsed": true
   },
   "outputs": [],
   "source": []
  }
 ],
 "metadata": {
  "kernelspec": {
   "display_name": "Julia 0.6.2",
   "language": "julia",
   "name": "julia-0.6"
  },
  "language_info": {
   "file_extension": ".jl",
   "mimetype": "application/julia",
   "name": "julia",
   "version": "0.6.2"
  }
 },
 "nbformat": 4,
 "nbformat_minor": 2
}
