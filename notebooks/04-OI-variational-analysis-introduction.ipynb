{
 "cells": [
  {
   "cell_type": "markdown",
   "metadata": {},
   "source": [
    "# Introduction to optimal interpolation and variational analysis\n",
    "\n",
    "Alexander Barth, Aida Alvera Azcárate, Pascal Joassin, Jean-Marie Beckers, [Charles Troupin](https://github.com/ctroupin).\n",
    "\n",
    "Available under the [Creative Commons Attribution-ShareAlike 4.0](https://creativecommons.org/licenses/by-sa/4.0/) license.\n",
    "\n",
    "\n",
    "## The gridding problem\n",
    "\n",
    "$\\newcommand{\\vect}[1] {{\\mathbf #1}}$\n",
    "Gridding is the determination of a field $\\phi(\\vect{r})$, on a regular\n",
    "grid of positions $\\vect{r}$ based on arbitrarily located\n",
    "observations.  Often the vector $\\vect{r}$ is on a 2D, 3D or even 4D space.\n",
    "\n",
    "<img src=\"Images/oi_used_data.png\" style=\"width: 300px; display: inline\"> $\\rightarrow$\n",
    "<img src=\"Images/oi_field.png\" style=\"width: 300px; display: inline\">\n",
    "\n",
    "* In oceanography, _in situ_ observations are sparse, and the fewer observations are available, the harder the gridding problem is.\n",
    "* Observations are inhomogeneously distributed in space and time (more observations in the coastal zones and in summer).\n",
    "* The variability of the ocean is the sum of various processes occurring at different spatial and temporal scales. "
   ]
  },
  {
   "cell_type": "markdown",
   "metadata": {},
   "source": [
    "This notebook uses Julia 1.0 and versions above, which can be downloaded from https://julialang.org/downloads/, and the following packages:           \n",
    "[MAT](https://github.com/JuliaIO/MAT.jl) (to read MATLAB .mat files),      \n",
    "[PyPlot](https://github.com/JuliaPy/PyPlot.jl) (to generate plots) and           \n",
    "[DIVAnd](https://github.com/gher-ulg/DIVAnd.jl) (for the interpolation).     \n",
    "\n",
    "To install these packagers, enter the Pkg REPL-mode and type\n",
    "```julia\n",
    "add MAT\n",
    "add PyPlot\n",
    "add IJulia\n",
    "add DIVAnd\n",
    "```"
   ]
  },
  {
   "cell_type": "code",
   "execution_count": 1,
   "metadata": {},
   "outputs": [
    {
     "name": "stderr",
     "output_type": "stream",
     "text": [
      "┌ Info: Precompiling MAT [23992714-dd62-5051-b70f-ba57cb901cac]\n",
      "└ @ Base loading.jl:1186\n",
      "ERROR: LoadError: LoadError: syntax: extra token \"MatlabHDF5File\" after end of expression\n",
      "Stacktrace:\n",
      " [1] include at ./boot.jl:317 [inlined]\n",
      " [2] include_relative(::Module, ::String) at ./loading.jl:1038\n",
      " [3] include at ./sysimg.jl:29 [inlined]\n",
      " [4] include(::String) at /home/ctroupin/.julia/packages/MAT/Pn0pR/src/MAT.jl:27\n",
      " [5] top-level scope at none:0\n",
      " [6] include at ./boot.jl:317 [inlined]\n",
      " [7] include_relative(::Module, ::String) at ./loading.jl:1038\n",
      " [8] include(::Module, ::String) at ./sysimg.jl:29\n",
      " [9] top-level scope at none:2\n",
      " [10] eval at ./boot.jl:319 [inlined]\n",
      " [11] eval(::Expr) at ./client.jl:389\n",
      " [12] top-level scope at ./none:3\n",
      "in expression starting at /home/ctroupin/.julia/packages/MAT/Pn0pR/src/MAT_HDF5.jl:39\n",
      "in expression starting at /home/ctroupin/.julia/packages/MAT/Pn0pR/src/MAT.jl:31\n"
     ]
    },
    {
     "ename": "ErrorException",
     "evalue": "Failed to precompile MAT [23992714-dd62-5051-b70f-ba57cb901cac] to /home/ctroupin/.julia/compiled/v1.0/MAT/3FHIv.ji.",
     "output_type": "error",
     "traceback": [
      "Failed to precompile MAT [23992714-dd62-5051-b70f-ba57cb901cac] to /home/ctroupin/.julia/compiled/v1.0/MAT/3FHIv.ji.",
      "",
      "Stacktrace:",
      " [1] error(::String) at ./error.jl:33",
      " [2] macro expansion at ./logging.jl:313 [inlined]",
      " [3] compilecache(::Base.PkgId, ::String) at ./loading.jl:1184",
      " [4] macro expansion at ./logging.jl:311 [inlined]",
      " [5] _require(::Base.PkgId) at ./loading.jl:941",
      " [6] require(::Base.PkgId) at ./loading.jl:852",
      " [7] macro expansion at ./logging.jl:311 [inlined]",
      " [8] require(::Module, ::Symbol) at ./loading.jl:834",
      " [9] top-level scope at In[1]:1"
     ]
    }
   ],
   "source": [
    "using MAT\n",
    "using PyPlot"
   ]
  },
  {
   "cell_type": "markdown",
   "metadata": {},
   "source": [
    "## Load the data\n",
    "Stored in the files `dan_field.mat` and `dan_obs_points.mat`:\n",
    "* `f`: the (full) field\n",
    "* `F`: the observations (without noise)\n",
    "* `Fe`: the observations (with noise)\n",
    "* `X`, `Y`: the location of the observations\n",
    "* `x`, `y`: the grid point of the field `f`\n",
    "* `mask`: land-sea mask (true corresponds to sea and false to land)\n",
    "* `pm`: the inverse of the resolution in the `x` direction\n",
    "* `pn`: the inverse of the resolution in the `y` direction"
   ]
  },
  {
   "cell_type": "code",
   "execution_count": 3,
   "metadata": {},
   "outputs": [
    {
     "ename": "LoadError",
     "evalue": "UndefVarError: matopen not defined",
     "output_type": "error",
     "traceback": [
      "UndefVarError: matopen not defined",
      "",
      "Stacktrace:",
      " [1] top-level scope at none:0"
     ]
    }
   ],
   "source": [
    "mf = matopen(\"./data/dan_field.mat\")\n",
    "f = read(mf,\"f\")\n",
    "F = read(mf,\"F\")[:]\n",
    "Fe = read(mf,\"Fe\")[:]\n",
    "close(mf)\n",
    "\n",
    "mf = matopen(\"./data/dan_obs_points.mat\")\n",
    "X = read(mf,\"X\")[:]\n",
    "Y = read(mf,\"Y\")[:]\n",
    "x = read(mf,\"x\")\n",
    "y = read(mf,\"y\")\n",
    "mask = read(mf,\"mask\") .== 1\n",
    "close(mf)\n",
    "\n",
    "pm = ones(size(mask))*5;\n",
    "pn = ones(size(mask))*5;\n",
    "\n",
    "@show size(x);"
   ]
  },
  {
   "cell_type": "code",
   "execution_count": 5,
   "metadata": {
    "collapsed": true
   },
   "outputs": [],
   "source": [
    "f2 = copy(f);\n",
    "f2[.!mask] .= NaN;"
   ]
  },
  {
   "cell_type": "code",
   "execution_count": null,
   "metadata": {
    "collapsed": true
   },
   "outputs": [],
   "source": [
    "PyPlot.pcolormesh(x,y,f2); \n",
    "colorbar();"
   ]
  },
  {
   "cell_type": "markdown",
   "metadata": {},
   "source": [
    "(Hypothetical) example of oceanographic field.\n",
    "\n",
    "* This figure shows an idealized square domain with a barrier (`e.g.` a peninsula or a dike).\n",
    "* This field is the true field  that we want to reconstruct based on observations. Let's assume that the field represents temperature. \n",
    "* The barrier suppresses the exchanges between each side of it.\n",
    "* The field varies smoothly over some length-scale."
   ]
  },
  {
   "cell_type": "markdown",
   "metadata": {},
   "source": [
    "This is a plotting function that we will reused later"
   ]
  },
  {
   "cell_type": "code",
   "execution_count": null,
   "metadata": {
    "collapsed": true
   },
   "outputs": [],
   "source": [
    "# common colorbar range\n",
    "caxis = [16.5,22]\n",
    "\n",
    "function plotfield(f2; ca = caxis)\n",
    "  f2 = copy(f2);\n",
    "  f2[.!mask] = NaN;\n",
    "  contourf(x,y,f2,20; cmap=\"jet\", vmin = ca[1], vmax = ca[2]); \n",
    "  #clim(ca);\n",
    "\n",
    "  colorbar()\n",
    "  plot(X,Y,\"k.\");\n",
    "  return nothing\n",
    "end\n",
    "\n",
    "# plot the field and compare to the true solution\n",
    "function plotfieldcmp(f2)\n",
    "    figure(figsize=(15,6))\n",
    "    subplot(1,2,2)\n",
    "    plotfield(f)\n",
    "    title(\"true field\")\n",
    "    subplot(1,2,1)\n",
    "    plotfield(f2)\n",
    "end"
   ]
  },
  {
   "cell_type": "code",
   "execution_count": null,
   "metadata": {
    "collapsed": true
   },
   "outputs": [],
   "source": [
    "plotfield(f); \n",
    "title(\"Field with the location of the observations\");"
   ]
  },
  {
   "cell_type": "markdown",
   "metadata": {},
   "source": [
    "* In regions where a measurement campaign has been carried out, a higher spatial coverage is achieved. \n",
    "* Large gaps are also present. \n",
    "* Based on the value of the field at the shown location, we will estimate the true field.\n"
   ]
  },
  {
   "cell_type": "markdown",
   "metadata": {},
   "source": [
    "Values of the true field extracted at the location of the observations"
   ]
  },
  {
   "cell_type": "code",
   "execution_count": null,
   "metadata": {
    "collapsed": true
   },
   "outputs": [],
   "source": [
    "contourf(x,y,mask; levels = [0,0.5], colors = [[.5,.5,.5]]) \n",
    "scatter(X,Y,20,F; cmap=\"jet\")\n",
    "clim(caxis)\n",
    "colorbar();"
   ]
  },
  {
   "cell_type": "markdown",
   "metadata": {},
   "source": [
    "* some information about the position of the\n",
    "structures and fronts is lost \n",
    "* no method can provide exactly the true field. But the\n",
    "more information about its structure we include in the\n",
    "analysis, the closer we can get to the true field.\n"
   ]
  },
  {
   "cell_type": "markdown",
   "metadata": {},
   "source": [
    "## Observation errors\n",
    "\n",
    "Observations are in general affected by different error sources and\n",
    "other _problems_ that need to be taken into account:\n",
    "\n",
    "* _Instrumental errors_: limited precision or possible bias of the sensor.\n",
    "* _Representativeness errors_: the observations do not necessarily\n",
    "  corresponds to the field we want to obtain. For example, we want to\n",
    "  obtain a monthly average, but the observations are instantaneous (or\n",
    "  averages over a very short period of time).\n",
    "* _Synopticity errors_: all observations are not taken at the same time.\n",
    "* Other errors sources: human errors (e.g. permutation of\n",
    "  longitude and latitude), transmission errors, malfunctioning of the\n",
    "  instrument, wrong decimal separators...\n",
    "\n",
    "Quality control is an important step to exclude suspicious data from\n",
    "the analysis. But since this is a subjective decision, the data should\n",
    "never be deleted but *flagged* as suspicious or bad data.\n",
    "\n",
    "Let's plot the observations with noise (`Fe`):"
   ]
  },
  {
   "cell_type": "code",
   "execution_count": null,
   "metadata": {
    "collapsed": true
   },
   "outputs": [],
   "source": [
    "contourf(x,y,mask; levels = [0,0.5], colors = [[.5,.5,.5]]) \n",
    "scatter(X,Y,20,Fe; cmap = \"jet\")\n",
    "clim(caxis)\n",
    "colorbar();"
   ]
  },
  {
   "cell_type": "markdown",
   "metadata": {},
   "source": [
    "* a random perturbation was added to the observations.\n",
    "* This simulates the impact of the different error sources. \n",
    "* To simplify matters, each observation was perturbed independently."
   ]
  },
  {
   "cell_type": "markdown",
   "metadata": {},
   "source": [
    "## Data analysis and gridding methodologies\n",
    "\n",
    "Because observations have errors, it is always better to produce a\n",
    "field approximation and never a strict interpolation. \n",
    "\n",
    "<img src=\"Images/dan_griddata.png\" style=\"width: 400px; display: inline\" >\n",
    "<img src=\"Images/dan_field.png\" style=\"width: 400px; display: inline\" >\n",
    "\n",
    "\n",
    "* Gridded field using linear interpolation. This method is\n",
    "  implemented in the function `griddata` of MATLAB and GNU Octave. Right panel shows true field.\n",
    "  \n",
    "* This figure shows what would happen if the observations would have been interpolated linearly. \n",
    "* The domain is decomposed into triangles where the vertices are the location of the data points based on the Delaunay triangulation. \n",
    "* Within each triangle, the value is interpolated linearly. \n",
    "* The noise on the observations is in general amplified when higher order schemes, such as cubic interpolation, are used.\n",
    "\n",
    "\n",
    "There are a number of methods that have been traditionally used to\n",
    "solve the gridding problem:\n",
    "\n",
    "* Subjective: drawing by hand\n",
    "* Objective: predefined mathematical operations\n",
    "\n",
    "\n",
    "<img src=\"Images/tropical_storm_claudette.jpg\" style=\"width: 600px\" >\n",
    "\n",
    "Isohyet (lines of constant precipitation) drawn by hand (from http://www.srh.noaa.gov/hgx/hurricanes/1970s.htm)\n",
    "\n"
   ]
  },
  {
   "cell_type": "markdown",
   "metadata": {},
   "source": [
    "## Objective analysis\n",
    "\n",
    "As opposed to the subjective method, objective analysis techniques aim\n",
    "to use mathematical formulations to infer the value of the field at\n",
    "unobserved locations based on the observations.\n",
    "\n",
    "* first guess is removed from observations\n",
    "* Gridding procedure (also called \"analysis\"):\n",
    "\n",
    "$$\n",
    "\\mbox{Gridded field} = \\mbox{First guess of field} + \\mbox{weighted sum of observation}\n",
    "$$\n",
    "\n",
    "There are several ways to define the\n",
    "weights, which result in different gridding\n",
    "techniques. We will review in the following the most used gridding\n",
    "methods."
   ]
  },
  {
   "cell_type": "markdown",
   "metadata": {},
   "source": [
    "### Cressman method\n",
    "\n",
    "Cressman weights depend only on the distance between the location\n",
    " where the value of the field should be estimated and the\n",
    "location of the observation:"
   ]
  },
  {
   "cell_type": "code",
   "execution_count": null,
   "metadata": {
    "collapsed": true
   },
   "outputs": [],
   "source": [
    "d = linspace(-4,4,101);\n",
    "R = 2;\n",
    "w = (R.^2 - d.^2)./(R.^2 + d.^2);\n",
    "w[w .< 0] = 0;\n",
    "plot(d,w,\"b\", label = \"Cressman scheme\")\n",
    "\n",
    "R = 1;\n",
    "w = exp.(-d.^2./(2*R.^2));\n",
    "plot(d,w,\"r\"; label = \"Barnes scheme\")\n",
    "\n",
    "legend();"
   ]
  },
  {
   "cell_type": "markdown",
   "metadata": {},
   "source": [
    "The search radius is the typical control parameter and defines the\n",
    "length-scale over which an observation is used.  This length scale\n",
    "can be made to vary in space depending on data coverage and/or\n",
    "physical scales. This parameter is chosen by the users based on their\n",
    "knowledge of the domain and the problem.\n"
   ]
  },
  {
   "cell_type": "code",
   "execution_count": null,
   "metadata": {
    "collapsed": true
   },
   "outputs": [],
   "source": [
    "include(\"cressman2.jl\")"
   ]
  },
  {
   "cell_type": "code",
   "execution_count": null,
   "metadata": {
    "collapsed": true
   },
   "outputs": [],
   "source": [
    "R = 2.\n",
    "\n",
    "fi = cressman2(R,X,Y,Fe,x,y);"
   ]
  },
  {
   "cell_type": "code",
   "execution_count": null,
   "metadata": {
    "collapsed": true
   },
   "outputs": [],
   "source": [
    "plotfieldcmp(fi); title(\"Gridded field by Cressman weighting\");"
   ]
  },
  {
   "cell_type": "markdown",
   "metadata": {},
   "source": [
    "The Cressman weighting is a very simple and numerically quite\n",
    "efficient method. However, it suffers from some limitations which are\n",
    "apparent in the previous figure.\n",
    "\n",
    "* No estimate can be obtained at locations when no observation is\n",
    "  located within the $R$.\n",
    "* In regions with very few observations, the method can return a\n",
    "  discontinuous field.\n",
    "* The presence of barriers\n",
    "  cannot be taken into account easily.\n",
    "* All observations are assumed to have a similar error\n",
    "  variance since the weighting is based only on distance.\n",
    "\n",
    "* As a variant of the Cressman weights, other weighting functions can be defined. In the Barnes scheme, the weights are defined using a Gaussian function\n"
   ]
  },
  {
   "cell_type": "code",
   "execution_count": null,
   "metadata": {
    "collapsed": true
   },
   "outputs": [],
   "source": [
    "fi = cressman2(R/2,X,Y,Fe,x,y; method = :barnes);"
   ]
  },
  {
   "cell_type": "code",
   "execution_count": null,
   "metadata": {
    "collapsed": true
   },
   "outputs": [],
   "source": [
    "plotfieldcmp(fi); title(\"Gridded field using Barnes weights\");"
   ]
  },
  {
   "cell_type": "markdown",
   "metadata": {},
   "source": [
    "## Optimal interpolation\n",
    "\n",
    "*  The first guess and the observations have errors\n",
    "*  These errors are characterized by the error covariance\n",
    "*  Optimal interpolation seeks the optimal combination between the first guess and the observations\n",
    "\n",
    "### Error covariances\n",
    "\n",
    "*  Need to be specified for observation and first guess\n",
    "*  Error covariances describe __how different variables or the same\n",
    "variable at different locations are related in average__. \n",
    "*  The error covariance is in general a matrix.\n",
    "*  the square root of the diagonal elements is the average error of the observations and the first guess\n",
    "*  the off-diagonal elements describe the relationships between the variables\n",
    "*  Covariance is directly related to the correlation\n",
    "\n",
    "### Assumptions\n",
    "Hypotheses concerning those errors:\n",
    "*  observations and the first guess are __unbiased__, _i.e._ the error is zero in average.\n",
    "*  __error covariance matrices are known__. Those matrices are related to the expected magnitude of the error.\n",
    "*  the error of the first guess is __independent__ of the observation errors.\n",
    "\n",
    "\n",
    "### Analysis\n",
    "\n",
    "The optimal interpolation (OI)\n",
    "scheme can be derived as the Best Linear Unbiased Estimator (BLUE) of\n",
    "the true state which has the following properties:\n",
    "\n",
    "*  The estimator __is linear__ in the first guess and observations\n",
    "*  The estimator is __not biased__\n",
    "*  This estimate has a __minimal total variance__, _i.e._ no\n",
    "    other estimator would have an error variance lower that the BLUE\n",
    "    estimator.\n",
    "\n",
    "\\newslide\n",
    "From these assumptions the optimal weights of the observations can be derived to grid the field.\n",
    "The optimal weights depend on the error covariances. In particular,\n",
    "\n",
    "*  Large expected error of observations compared to first guess $\\rightarrow$ more weight to the observations than the first guess\n",
    "*  Variables are strongly correlated spatially $\\rightarrow$ smooth gridded field.\n",
    "*  See file `diva_intro_slides.pdf` if you want to know how the weights are computed\n",
    "*  __An error estimate__ can also be computed by optimal interpolation.\n"
   ]
  },
  {
   "cell_type": "code",
   "execution_count": null,
   "metadata": {
    "collapsed": true
   },
   "outputs": [],
   "source": [
    "include(\"OptimInterp.jl\")"
   ]
  },
  {
   "cell_type": "code",
   "execution_count": null,
   "metadata": {
    "collapsed": true
   },
   "outputs": [],
   "source": [
    "R = 2.2 * 1.6855;\n",
    "R = 3.;\n",
    "Var = fill(1/3,(length(Fe),));\n",
    "\n",
    "meanF = mean(Fe)\n",
    "Fa = Fe - meanF;\n",
    "\n",
    "fi,vari = OptimInterp.optiminterp((X,Y),Fa,Var,(R,R),length(Fa),(x,y));\n",
    "fi = fi+meanF;"
   ]
  },
  {
   "cell_type": "markdown",
   "metadata": {},
   "source": [
    "As an illustration, the field obtained by optimal interpolation is\n",
    "shown"
   ]
  },
  {
   "cell_type": "code",
   "execution_count": null,
   "metadata": {
    "collapsed": true
   },
   "outputs": [],
   "source": [
    "plotfieldcmp(fi); title(\"Optimal interpolation\");"
   ]
  },
  {
   "cell_type": "markdown",
   "metadata": {},
   "source": [
    "Relative error variance of the gridded field by optimal interpolation"
   ]
  },
  {
   "cell_type": "code",
   "execution_count": null,
   "metadata": {
    "collapsed": true
   },
   "outputs": [],
   "source": [
    "plotfield(vari); clim(0,1)"
   ]
  },
  {
   "cell_type": "markdown",
   "metadata": {},
   "source": [
    "## Variational Inverse Method and DIVA/DIVAnd\n",
    "\n",
    "The variational inverse method (VIM) or variational analysis ([Brasseur et al., 1996](https://www.sciencedirect.com/science/article/pii/096706379600012X))\n",
    " aims to find a field with the following characteristics:\n",
    "\n",
    "\n",
    "* __smooth__\n",
    "* somewhat __close__ to first guess\n",
    "* __close__ to the observed values\n",
    "\n",
    "This is achieved by defining a cost function which penalizes a field that doesn't satisfy those requirements.\n",
    "\n",
    "\n",
    "* ``__close__'' is quantified using the RMS error\n",
    "* ``__smooth__'' is quantified by averaging the  square of the first and second derivatives of the field (for a slowly varying field those derivatives are small).\n",
    "* those different requirements are weighted to define what is more important, a smooth field or a field close to observations.\n",
    "\n",
    "\n",
    "### Equivalence between OI and variational analysis\n",
    "\n",
    "\n",
    "* The variational inverse method is identical to the optimal interpolation analysis if the weights are defined as the inverse of the covariance matrix used in optimal interpolation analysis.\n",
    "* This allows to compute the weights based on the error covariances\n",
    "* Error covariance can be obtained by the statistical behaviour of the field\n",
    "\n",
    "### Error fields by analogy with optimal interpolation\n",
    "\n",
    "Error fields can be derived since:\n",
    "\n",
    "\n",
    "* The optimal interpolation analysis is equivalent to VIM if the weights used by VIM are the inverse of the error covariances used by optimal interpolation.\n",
    "* In the context of optimal interpolation, it can be shown that the error field equals the analysis of the covariance fields\n",
    "* $\\Rightarrow$ error field of VIM equals analysis (by VIM) of covariance fields (the input of the analysis tool is a vector containing the covariance of data points with the point in which the error estimate is to be calculated)\n",
    "\n",
    "\n",
    "The tools DIVA and DIVAnd implement the variational inverse method.\n",
    "\n",
    "\n",
    "### Example\n",
    "\n",
    "Field reconstructed using DIVA implementing the  variational inverse method. Right panel shows true field.\n",
    "\n",
    "\n",
    "* The results are similar to the field obtained by optimal interpolation. \n",
    "* But now, the land-sea boundary is taken into account.\n",
    "\n",
    "\n",
    "\n"
   ]
  },
  {
   "cell_type": "code",
   "execution_count": null,
   "metadata": {
    "collapsed": true
   },
   "outputs": [],
   "source": [
    "using DIVAnd"
   ]
  },
  {
   "cell_type": "code",
   "execution_count": null,
   "metadata": {
    "collapsed": true
   },
   "outputs": [],
   "source": [
    "# type ?DIVAnd for the documentation of DIVAndrun\n",
    "len = 2\n",
    "epsilon2 = 1/30;\n",
    "fi,s  = DIVAndrun(mask,(pm,pn),(x,y),(X,Y),Fa,(len,len),epsilon2);\n",
    "\n",
    "fi = fi+meanF;"
   ]
  },
  {
   "cell_type": "code",
   "execution_count": null,
   "metadata": {
    "collapsed": true
   },
   "outputs": [],
   "source": [
    "plotfieldcmp(fi); title(\"variational inverse method (DIVAnd)\");"
   ]
  },
  {
   "cell_type": "markdown",
   "metadata": {},
   "source": [
    "Relative error of the field reconstructed using DIVA\n",
    "\n",
    "\n",
    "* The error is lowest near the observations and tends to 1 far away from them. \n",
    "* The presence of the barrier also impacts the estimation of error variance.\n",
    "* The error estimate should be interpreted cautiously since we supposed that the used error covariances are correct.\n"
   ]
  },
  {
   "cell_type": "code",
   "execution_count": null,
   "metadata": {
    "collapsed": true
   },
   "outputs": [],
   "source": [
    "err  = DIVAnd_cpme(mask,(pm,pn),(x,y),(X,Y),Fa,(len,len),epsilon2);"
   ]
  },
  {
   "cell_type": "code",
   "execution_count": null,
   "metadata": {
    "collapsed": true
   },
   "outputs": [],
   "source": [
    "plotfield(err; ca = [0,1]);"
   ]
  }
 ],
 "metadata": {
  "kernelspec": {
   "display_name": "Julia 1.0.0",
   "language": "julia",
   "name": "julia-1.0"
  },
  "language_info": {
   "file_extension": ".jl",
   "mimetype": "application/julia",
   "name": "julia",
   "version": "1.0.0"
  }
 },
 "nbformat": 4,
 "nbformat_minor": 2
}
