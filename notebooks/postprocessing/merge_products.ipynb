{
 "cells": [
  {
   "cell_type": "code",
   "execution_count": 165,
   "metadata": {},
   "outputs": [
    {
     "data": {
      "text/plain": [
       "create_nc_merged"
      ]
     },
     "execution_count": 165,
     "metadata": {},
     "output_type": "execute_result"
    }
   ],
   "source": [
    "using NCDatasets\n",
    "using Dates\n",
    "using Glob\n",
    "include(\"mergingclim.jl\")"
   ]
  },
  {
   "cell_type": "markdown",
   "metadata": {},
   "source": [
    "## 1. Input parameters"
   ]
  },
  {
   "cell_type": "code",
   "execution_count": 102,
   "metadata": {},
   "outputs": [],
   "source": [
    "Δlon = 1.\n",
    "Δlat = 1.\n",
    "longrid = -40.:Δlon:55.\n",
    "latgrid = 24.:Δlat:67.\n",
    "depthgrid = [0, 5, 10, 20, 30, 40, 50, 75, 100, 125, 150, 200, 250, 300, 400, \n",
    "    500, 600, 700, 800, 900, 1000, 1100, 1200, 1300, 1400, 1500, 1750, 2000, \n",
    "    2500, 3000];\n",
    "# Time should be generated from years and seasons maybe\n",
    "timegrid = [23787, 23876, 23968, 24060, 24152, 24241, 24333, 24425, 24517, 24606, \n",
    "    24698, 24790, 24882, 24972, 25064, 25156, 25248, 25337, 25429, 25521, \n",
    "    25613, 25702, 25794, 25886, 25978, 26067, 26159, 26251, 26343, 26433, \n",
    "    26525, 26617, 26709, 26798, 26890, 26982, 27074, 27163, 27255, 27347, \n",
    "    27439, 27528, 27620, 27712, 27804, 27894, 27986, 28078, 28170, 28259, \n",
    "    28351, 28443, 28535, 28624, 28716, 28808, 28900, 28989, 29081, 29173, \n",
    "    29265, 29355, 29447, 29539, 29631, 29720, 29812, 29904, 29996, 30085, \n",
    "    30177, 30269, 30361, 30450, 30542, 30634, 30726, 30816, 30908, 31000, \n",
    "    31092, 31181, 31273, 31365, 31457, 31546, 31638, 31730, 31822, 31911, \n",
    "    32003, 32095, 32187, 32277, 32369, 32461, 32553, 32642, 32734, 32826, \n",
    "    32918, 33007, 33099, 33191, 33283, 33372, 33464, 33556, 33648, 33738, \n",
    "    33830, 33922, 34014, 34103, 34195, 34287, 34379, 34468, 34560, 34652, \n",
    "    34744, 34833, 34925, 35017, 35109, 35199, 35291, 35383, 35475, 35564, \n",
    "    35656, 35748, 35840, 35929, 36021, 36113, 36205, 36294, 36386, 36478, \n",
    "    36570, 36660, 36752, 36844, 36936, 37025, 37117, 37209, 37301, 37390, \n",
    "    37482, 37574, 37666, 37755, 37847, 37939, 38031, 38121, 38213, 38305, \n",
    "    38397, 38486, 38578, 38670, 38762, 38851, 38943, 39035, 39127, 39216, \n",
    "    39308, 39400, 39492, 39582, 39674, 39766, 39858, 39947, 40039, 40131, \n",
    "    40223, 40312, 40404, 40496];"
   ]
  },
  {
   "cell_type": "code",
   "execution_count": 11,
   "metadata": {},
   "outputs": [
    {
     "data": {
      "text/plain": [
       "\"/data/EMODnet/Chemistry/combined\""
      ]
     },
     "execution_count": 11,
     "metadata": {},
     "output_type": "execute_result"
    }
   ],
   "source": [
    "varname = \"chlorophyll-a\"\n",
    "product_id = \"e61d12cd-837f-49ff-a0e1-3a694ab84bc5\"\n",
    "outputdir = \"/data/EMODnet/Chemistry/combined\"\n",
    "databasedir = \"/data/EMODnet/Chemistry/prod/\""
   ]
  },
  {
   "cell_type": "markdown",
   "metadata": {},
   "source": [
    "Create directory, generate output file name and title."
   ]
  },
  {
   "cell_type": "code",
   "execution_count": 167,
   "metadata": {},
   "outputs": [
    {
     "name": "stderr",
     "output_type": "stream",
     "text": [
      "┌ Info: Output directory already exists\n",
      "└ @ Main In[167]:5\n"
     ]
    }
   ],
   "source": [
    "if !(isdir(outputdir))\n",
    "    @info(\"Create new output directory\")\n",
    "    mkpath(outputdir)\n",
    "else\n",
    "    @info(\"Output directory already exists\")\n",
    "end\n",
    "outputfile = joinpath(outputdir, \"Water_body_$(varname)_combined.nc\")\n",
    "outputtitle = \"DIVA 4D analysis of Water_body_$(varname)\";"
   ]
  },
  {
   "cell_type": "markdown",
   "metadata": {},
   "source": [
    "## 2. Create merged netCDF (empty variables)"
   ]
  },
  {
   "cell_type": "code",
   "execution_count": 168,
   "metadata": {},
   "outputs": [],
   "source": [
    "create_nc_merged(outputfile, longrid, latgrid, depthgrid, timegrid);"
   ]
  },
  {
   "cell_type": "markdown",
   "metadata": {},
   "source": [
    "## 3. Loop on the depths, regions and times to fill the netCDF\n",
    "For the vertical level, a linear interpolation will be applied.     \n",
    "For the horizontal grid, a bilinar interpolation will be applied.\n",
    "\n",
    "For each variable, we expect to have 4 files (one per season) in each region, with some exceptions.         \n",
    "We generate the list of files "
   ]
  },
  {
   "cell_type": "code",
   "execution_count": 150,
   "metadata": {},
   "outputs": [
    {
     "data": {
      "text/plain": [
       "get_years (generic function with 1 method)"
      ]
     },
     "execution_count": 150,
     "metadata": {},
     "output_type": "execute_result"
    }
   ],
   "source": [
    "\"\"\"\n",
    "get_years(filename)\n",
    "\n",
    "Extract the years (from the time variable) out of a netCDF file\n",
    "\"\"\"\n",
    "function get_years(filename::String)::Array\n",
    "    ds = Dataset(filename,\"r\")\n",
    "    dategrid = ds[\"time\"][:]\n",
    "    yeargrid = unique(Dates.year.(dategrid))\n",
    "    close(ds)\n",
    "    return yeargrid\n",
    "end"
   ]
  },
  {
   "cell_type": "code",
   "execution_count": 152,
   "metadata": {},
   "outputs": [],
   "source": [
    "yeargrid = get_years(joinpath(outputdir, outputfile));"
   ]
  },
  {
   "cell_type": "code",
   "execution_count": 141,
   "metadata": {},
   "outputs": [
    {
     "data": {
      "text/plain": [
       "\"/data/EMODnet/Chemistry/prod/Mediterranean Sea/Summer (July-September) - 6-years running averages/Water_body_dissolved_inorganic_nitrogen_(DIN).4Danl.nc\""
      ]
     },
     "execution_count": 141,
     "metadata": {},
     "output_type": "execute_result"
    }
   ],
   "source": [
    "datafile0 = \"/data/EMODnet/Chemistry/prod/Mediterranean Sea/Summer (July-September) - 6-years running averages/Water_body_dissolved_inorganic_nitrogen_(DIN).4Danl.nc\""
   ]
  },
  {
   "cell_type": "code",
   "execution_count": 153,
   "metadata": {},
   "outputs": [
    {
     "data": {
      "text/plain": [
       "22-element Array{Int64,1}:\n",
       " 1993\n",
       " 1994\n",
       " 1995\n",
       " 1996\n",
       " 1997\n",
       " 1998\n",
       " 1999\n",
       " 2000\n",
       " 2001\n",
       " 2002\n",
       " 2003\n",
       " 2004\n",
       " 2005\n",
       " 2006\n",
       " 2007\n",
       " 2008\n",
       " 2009\n",
       " 2010\n",
       " 2011\n",
       " 2012\n",
       " 2013\n",
       " 2014"
      ]
     },
     "execution_count": 153,
     "metadata": {},
     "output_type": "execute_result"
    }
   ],
   "source": [
    "yearlistvar = get_years(datafile0)"
   ]
  },
  {
   "cell_type": "code",
   "execution_count": 162,
   "metadata": {},
   "outputs": [
    {
     "name": "stderr",
     "output_type": "stream",
     "text": [
      "┌ Info: Working on season Winter\n",
      "└ @ Main In[162]:4\n",
      "┌ Info: Working on year 1965\n",
      "└ @ Main In[162]:7\n",
      "┌ Info: Working on year 1966\n",
      "└ @ Main In[162]:7\n",
      "┌ Info: Working on year 1967\n",
      "└ @ Main In[162]:7\n",
      "┌ Info: Working on year 1968\n",
      "└ @ Main In[162]:7\n",
      "┌ Info: Working on year 1969\n",
      "└ @ Main In[162]:7\n",
      "┌ Info: Working on season Spring\n",
      "└ @ Main In[162]:4\n",
      "┌ Info: Working on year 1965\n",
      "└ @ Main In[162]:7\n",
      "┌ Info: Working on year 1966\n",
      "└ @ Main In[162]:7\n",
      "┌ Info: Working on year 1967\n",
      "└ @ Main In[162]:7\n",
      "┌ Info: Working on year 1968\n",
      "└ @ Main In[162]:7\n",
      "┌ Info: Working on year 1969\n",
      "└ @ Main In[162]:7\n",
      "┌ Info: Working on season Summer\n",
      "└ @ Main In[162]:4\n",
      "┌ Info: Working on year 1965\n",
      "└ @ Main In[162]:7\n",
      "┌ Info: Working on year 1966\n",
      "└ @ Main In[162]:7\n",
      "┌ Info: Working on year 1967\n",
      "└ @ Main In[162]:7\n",
      "┌ Info: Working on year 1968\n",
      "└ @ Main In[162]:7\n",
      "┌ Info: Working on year 1969\n",
      "└ @ Main In[162]:7\n",
      "┌ Info: Working on season Autumn\n",
      "└ @ Main In[162]:4\n",
      "┌ Info: Working on year 1965\n",
      "└ @ Main In[162]:7\n",
      "┌ Info: Working on year 1966\n",
      "└ @ Main In[162]:7\n",
      "┌ Info: Working on year 1967\n",
      "└ @ Main In[162]:7\n",
      "┌ Info: Working on year 1968\n",
      "└ @ Main In[162]:7\n",
      "┌ Info: Working on year 1969\n",
      "└ @ Main In[162]:7\n"
     ]
    }
   ],
   "source": [
    "# Loop on the seasons\n",
    "for season in [\"Winter\", \"Spring\", \"Summer\", \"Autumn\"]\n",
    "\n",
    "    @info(\"Working on season $(season)\")\n",
    "\n",
    "    # Generate list of files\n",
    "    filelist = get_file_list(databasedir, varname, \"winter\");\n",
    "    @info(\"Found $(length(filelist)) files\")\n",
    "    \n",
    "    # Loop on the years\n",
    "    for years in yeargrid[1:5]\n",
    "        @info(\"Working on year $(years)\")\n",
    "\n",
    "        # Loop on the regions (using the file list)\n",
    "\n",
    "    end\n",
    "end"
   ]
  },
  {
   "cell_type": "code",
   "execution_count": 161,
   "metadata": {},
   "outputs": [
    {
     "name": "stdout",
     "output_type": "stream",
     "text": [
      "Winter\n",
      "Spring\n",
      "Summer\n",
      "Autumn\n"
     ]
    }
   ],
   "source": [
    "for season in [\"Winter\", \"Spring\", \"Summer\", \"Autumn\"]\n",
    "    println(season)\n",
    "end"
   ]
  },
  {
   "cell_type": "code",
   "execution_count": null,
   "metadata": {
    "collapsed": true
   },
   "outputs": [],
   "source": []
  }
 ],
 "metadata": {
  "@webio": {
   "lastCommId": "B8337B916E7C44D196637D2914511F47",
   "lastKernelId": "887da5dc-6785-4230-83e9-ef3bab0fe55f"
  },
  "kernelspec": {
   "display_name": "Julia 1.0.0",
   "language": "julia",
   "name": "julia-1.0"
  },
  "language_info": {
   "file_extension": ".jl",
   "mimetype": "application/julia",
   "name": "julia",
   "version": "1.0.0"
  }
 },
 "nbformat": 4,
 "nbformat_minor": 2
}
