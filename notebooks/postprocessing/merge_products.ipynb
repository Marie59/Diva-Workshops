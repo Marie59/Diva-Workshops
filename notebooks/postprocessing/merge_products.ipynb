{
 "cells": [
  {
   "cell_type": "code",
   "execution_count": 1,
   "metadata": {},
   "outputs": [
    {
     "data": {
      "text/plain": [
       "get_depth_weights"
      ]
     },
     "execution_count": 1,
     "metadata": {},
     "output_type": "execute_result"
    }
   ],
   "source": [
    "using NCDatasets\n",
    "using Dates\n",
    "using Glob\n",
    "include(\"mergingclim.jl\")"
   ]
  },
  {
   "cell_type": "markdown",
   "metadata": {},
   "source": [
    "## 1. Input parameters"
   ]
  },
  {
   "cell_type": "code",
   "execution_count": 2,
   "metadata": {
    "collapsed": true
   },
   "outputs": [],
   "source": [
    "Δlon = 1.\n",
    "Δlat = 1.\n",
    "longrid = -40.:Δlon:55.\n",
    "latgrid = 24.:Δlat:67.\n",
    "depthgrid = [0, 5, 10, 20, 30, 40, 50, 75, 100, 125, 150, 200, 250, 300, 400, \n",
    "    500, 600, 700, 800, 900, 1000, 1100, 1200, 1300, 1400, 1500, 1750, 2000, \n",
    "    2500, 3000];\n",
    "# Time should be generated from years and seasons maybe\n",
    "timegrid = [23787, 23876, 23968, 24060, 24152, 24241, 24333, 24425, 24517, 24606, \n",
    "    24698, 24790, 24882, 24972, 25064, 25156, 25248, 25337, 25429, 25521, \n",
    "    25613, 25702, 25794, 25886, 25978, 26067, 26159, 26251, 26343, 26433, \n",
    "    26525, 26617, 26709, 26798, 26890, 26982, 27074, 27163, 27255, 27347, \n",
    "    27439, 27528, 27620, 27712, 27804, 27894, 27986, 28078, 28170, 28259, \n",
    "    28351, 28443, 28535, 28624, 28716, 28808, 28900, 28989, 29081, 29173, \n",
    "    29265, 29355, 29447, 29539, 29631, 29720, 29812, 29904, 29996, 30085, \n",
    "    30177, 30269, 30361, 30450, 30542, 30634, 30726, 30816, 30908, 31000, \n",
    "    31092, 31181, 31273, 31365, 31457, 31546, 31638, 31730, 31822, 31911, \n",
    "    32003, 32095, 32187, 32277, 32369, 32461, 32553, 32642, 32734, 32826, \n",
    "    32918, 33007, 33099, 33191, 33283, 33372, 33464, 33556, 33648, 33738, \n",
    "    33830, 33922, 34014, 34103, 34195, 34287, 34379, 34468, 34560, 34652, \n",
    "    34744, 34833, 34925, 35017, 35109, 35199, 35291, 35383, 35475, 35564, \n",
    "    35656, 35748, 35840, 35929, 36021, 36113, 36205, 36294, 36386, 36478, \n",
    "    36570, 36660, 36752, 36844, 36936, 37025, 37117, 37209, 37301, 37390, \n",
    "    37482, 37574, 37666, 37755, 37847, 37939, 38031, 38121, 38213, 38305, \n",
    "    38397, 38486, 38578, 38670, 38762, 38851, 38943, 39035, 39127, 39216, \n",
    "    39308, 39400, 39492, 39582, 39674, 39766, 39858, 39947, 40039, 40131, \n",
    "    40223, 40312, 40404, 40496];"
   ]
  },
  {
   "cell_type": "code",
   "execution_count": 3,
   "metadata": {},
   "outputs": [
    {
     "data": {
      "text/plain": [
       "\"/data/EMODnet/Chemistry/prod/\""
      ]
     },
     "execution_count": 3,
     "metadata": {},
     "output_type": "execute_result"
    }
   ],
   "source": [
    "varname = \"chlorophyll-a\"\n",
    "product_id = \"e61d12cd-837f-49ff-a0e1-3a694ab84bc5\"\n",
    "outputdir = \"/data/EMODnet/Chemistry/combined\"\n",
    "databasedir = \"/data/EMODnet/Chemistry/prod/\""
   ]
  },
  {
   "cell_type": "markdown",
   "metadata": {},
   "source": [
    "Create directory, generate output file name and title."
   ]
  },
  {
   "cell_type": "code",
   "execution_count": 4,
   "metadata": {},
   "outputs": [
    {
     "name": "stderr",
     "output_type": "stream",
     "text": [
      "┌ Info: Output directory already exists\n",
      "└ @ Main In[4]:5\n"
     ]
    }
   ],
   "source": [
    "if !(isdir(outputdir))\n",
    "    @info(\"Create new output directory\")\n",
    "    mkpath(outputdir)\n",
    "else\n",
    "    @info(\"Output directory already exists\")\n",
    "end\n",
    "outputfile = joinpath(outputdir, \"Water_body_$(varname)_combined.nc\")\n",
    "outputtitle = \"DIVA 4D analysis of Water_body_$(varname)\";"
   ]
  },
  {
   "cell_type": "markdown",
   "metadata": {},
   "source": [
    "## 2. Create merged netCDF (empty variables)"
   ]
  },
  {
   "cell_type": "code",
   "execution_count": 5,
   "metadata": {
    "collapsed": true
   },
   "outputs": [],
   "source": [
    "create_nc_merged(outputfile, longrid, latgrid, depthgrid, timegrid);"
   ]
  },
  {
   "cell_type": "markdown",
   "metadata": {},
   "source": [
    "## 3. Loop on the depths, regions and times to fill the netCDF\n",
    "For the vertical level, a linear interpolation will be applied.     \n",
    "For the horizontal grid, a bilinar interpolation will be applied.\n",
    "\n",
    "For each variable, we expect to have 4 files (one per season) in each region, with some exceptions.         \n",
    "We generate the list of files "
   ]
  },
  {
   "cell_type": "code",
   "execution_count": 6,
   "metadata": {
    "collapsed": true
   },
   "outputs": [],
   "source": [
    "yeargrid = get_years(joinpath(outputdir, outputfile));"
   ]
  },
  {
   "cell_type": "code",
   "execution_count": 7,
   "metadata": {},
   "outputs": [
    {
     "data": {
      "text/plain": [
       "\"/data/EMODnet/Chemistry/prod/Mediterranean Sea/Summer (July-September) - 6-years running averages/Water_body_dissolved_inorganic_nitrogen_(DIN).4Danl.nc\""
      ]
     },
     "execution_count": 7,
     "metadata": {},
     "output_type": "execute_result"
    }
   ],
   "source": [
    "datafile0 = \"/data/EMODnet/Chemistry/prod/Mediterranean Sea/Summer (July-September) - 6-years running averages/Water_body_dissolved_inorganic_nitrogen_(DIN).4Danl.nc\""
   ]
  },
  {
   "cell_type": "code",
   "execution_count": 9,
   "metadata": {},
   "outputs": [
    {
     "name": "stdout",
     "output_type": "stream",
     "text": [
      "yearlistvar = [1993, 1994, 1995, 1996, 1997, 1998, 1999, 2000, 2001, 2002, 2003, 2004, 2005, 2006, 2007, 2008, 2009, 2010, 2011, 2012, 2013, 2014]\n"
     ]
    }
   ],
   "source": [
    "yearlistvar = get_years(datafile0);\n",
    "@show yearlistvar;"
   ]
  },
  {
   "cell_type": "code",
   "execution_count": null,
   "metadata": {},
   "outputs": [],
   "source": [
    "# Loop on the seasons\n",
    "for season in [\"Winter\", \"Spring\", \"Summer\", \"Autumn\"]\n",
    "\n",
    "    @info(\"Working on season $(season)\")\n",
    "\n",
    "    # Generate list of files\n",
    "    filelist = get_file_list(databasedir, varname, \"winter\");\n",
    "    @info(\"Found $(length(filelist)) files\")\n",
    "    \n",
    "    # Loop on the years\n",
    "    for years in yeargrid[1:5]\n",
    "        @info(\"Working on year $(years)\")\n",
    "        \n",
    "        # Loop on the depth\n",
    "        for depth in depthgrid\n",
    "            @debug(\"Working on depth $(depth)\")\n",
    "            \n",
    "            # Loop on the regions (using the file list)\n",
    "            for regionfile in filelist\n",
    "                @debug(\"Working on region $(regionfile)\")\n",
    "                \n",
    "                # Read years and depths from the file\n",
    "                ds1 = Datasets(regionfile, \"r\")\n",
    "                    depthregion = ds1[\"depth\"][:]\n",
    "                close(ds1)\n",
    "                yearlistvar = get_years(regionfile);\n",
    "                \n",
    "                # Find the indices for that depth and that time\n",
    "                if length(findall(depthregion .== depth)) == 0\n",
    "                    @info(\"Depth not found, will perform interpolation\")\n",
    "                    dmin, dmax = get_closer_depth(depthregion, depth)\n",
    "                    w1, w2 = get_depth_weights(dmin, dmax, )\n",
    "                else \n",
    "                    @info(\"Depth is found, we use it without interpolation\")\n",
    "                    indexdepth = findall(depthsreg .== depth)[1]\n",
    "                end\n",
    "                println(indexdepth)\n",
    "                \n",
    "            end\n",
    "            \n",
    "        end\n",
    "\n",
    "        \n",
    "\n",
    "    end\n",
    "end"
   ]
  },
  {
   "cell_type": "code",
   "execution_count": null,
   "metadata": {
    "collapsed": true
   },
   "outputs": [],
   "source": []
  }
 ],
 "metadata": {
  "@webio": {
   "lastCommId": "F0B972FB6D2D4AD989C0D814F3521F85",
   "lastKernelId": "44135ac4-fd63-4b3b-b63b-30c2014aa5b4"
  },
  "kernelspec": {
   "display_name": "Julia 1.0.0",
   "language": "julia",
   "name": "julia-1.0"
  },
  "language_info": {
   "file_extension": ".jl",
   "mimetype": "application/julia",
   "name": "julia",
   "version": "1.0.0"
  }
 },
 "nbformat": 4,
 "nbformat_minor": 2
}
