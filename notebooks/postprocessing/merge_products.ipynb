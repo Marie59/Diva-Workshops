{
 "cells": [
  {
   "cell_type": "code",
   "execution_count": 2,
   "metadata": {
    "collapsed": true
   },
   "outputs": [],
   "source": [
    "using NCDatasets"
   ]
  },
  {
   "cell_type": "markdown",
   "metadata": {},
   "source": [
    "## 1. Input parameters"
   ]
  },
  {
   "cell_type": "code",
   "execution_count": 18,
   "metadata": {},
   "outputs": [],
   "source": [
    "Δlon = 1.\n",
    "Δlat = 1.\n",
    "longrid = -40.:Δlon:55.\n",
    "latgrid = 24.:Δlat:67.\n",
    "depthgrid = [0, 5, 10, 20, 30, 40, 50, 75, 100, 125, 150, 200, 250, 300, 400, \n",
    "    500, 600, 700, 800, 900, 1000, 1100, 1200, 1300, 1400, 1500, 1750, 2000, \n",
    "    2500, 3000];\n",
    "# Time should be generated from years and months\n",
    "timegrid = \"23787, 23876, 23968, 24060, 24152, 24241, 24333, 24425, 24517, 24606, \n",
    "    24698, 24790, 24882, 24972, 25064, 25156, 25248, 25337, 25429, 25521, \n",
    "    25613, 25702, 25794, 25886, 25978, 26067, 26159, 26251, 26343, 26433, \n",
    "    26525, 26617, 26709, 26798, 26890, 26982, 27074, 27163, 27255, 27347, \n",
    "    27439, 27528, 27620, 27712, 27804, 27894, 27986, 28078, 28170, 28259, \n",
    "    28351, 28443, 28535, 28624, 28716, 28808, 28900, 28989, 29081, 29173, \n",
    "    29265, 29355, 29447, 29539, 29631, 29720, 29812, 29904, 29996, 30085, \n",
    "    30177, 30269, 30361, 30450, 30542, 30634, 30726, 30816, 30908, 31000, \n",
    "    31092, 31181, 31273, 31365, 31457, 31546, 31638, 31730, 31822, 31911, \n",
    "    32003, 32095, 32187, 32277, 32369, 32461, 32553, 32642, 32734, 32826, \n",
    "    32918, 33007, 33099, 33191, 33283, 33372, 33464, 33556, 33648, 33738, \n",
    "    33830, 33922, 34014, 34103, 34195, 34287, 34379, 34468, 34560, 34652, \n",
    "    34744, 34833, 34925, 35017, 35109, 35199, 35291, 35383, 35475, 35564, \n",
    "    35656, 35748, 35840, 35929, 36021, 36113, 36205, 36294, 36386, 36478, \n",
    "    36570, 36660, 36752, 36844, 36936, 37025, 37117, 37209, 37301, 37390, \n",
    "    37482, 37574, 37666, 37755, 37847, 37939, 38031, 38121, 38213, 38305, \n",
    "    38397, 38486, 38578, 38670, 38762, 38851, 38943, 39035, 39127, 39216, \n",
    "    39308, 39400, 39492, 39582, 39674, 39766, 39858, 39947, 40039, 40131, \n",
    "    40223, 40312, 40404, 40496\";"
   ]
  },
  {
   "cell_type": "code",
   "execution_count": 11,
   "metadata": {},
   "outputs": [
    {
     "data": {
      "text/plain": [
       "\"/data/EMODnet/Chemistry/combined\""
      ]
     },
     "execution_count": 11,
     "metadata": {},
     "output_type": "execute_result"
    }
   ],
   "source": [
    "varname = \"chlorophyll-a\"\n",
    "product_id = \"e61d12cd-837f-49ff-a0e1-3a694ab84bc5\"\n",
    "outputdir = \"/data/EMODnet/Chemistry/combined\""
   ]
  },
  {
   "cell_type": "markdown",
   "metadata": {},
   "source": [
    "Create directory, generate output file name and title."
   ]
  },
  {
   "cell_type": "code",
   "execution_count": 19,
   "metadata": {},
   "outputs": [
    {
     "name": "stderr",
     "output_type": "stream",
     "text": [
      "┌ Info: Output directory already exists\n",
      "└ @ Main In[19]:5\n",
      "┌ Info: Water_body_chlorophyll-a_combined.nc\n",
      "└ @ Main In[19]:8\n",
      "┌ Info: DIVA 4D analysis of Water_body_chlorophyll-a\n",
      "└ @ Main In[19]:10\n"
     ]
    }
   ],
   "source": [
    "if !(isdir(outputdir))\n",
    "    @info(\"Create new output directory\")\n",
    "    mkpath(outputdir)\n",
    "else\n",
    "    @info(\"Output directory already exists\")\n",
    "end\n",
    "outputfile = \"Water_body_$(varname)_combined.nc\"\n",
    "@info(outputfile)\n",
    "outputtitle = \"DIVA 4D analysis of Water_body_$(varname)\"\n",
    "@info(outputtitle)"
   ]
  },
  {
   "cell_type": "markdown",
   "metadata": {},
   "source": [
    "## 2. Create merged netCDF (empty)\n",
    "The code below is generated (and adapted) from the output of\n",
    "```julia\n",
    "ncgen(templatefile)\n",
    "```"
   ]
  },
  {
   "cell_type": "code",
   "execution_count": 24,
   "metadata": {},
   "outputs": [],
   "source": [
    "ds = Dataset(joinpath(outputdir, outputfile), \"c\")\n",
    "\n",
    "# Dimensions\n",
    "ds.dim[\"lon\"] = length(longrid)\n",
    "ds.dim[\"nv\"] = 2\n",
    "ds.dim[\"lat\"] = length(latgrid)\n",
    "ds.dim[\"depth\"] = length(depthgrid)\n",
    "ds.dim[\"time\"] = length(timegrid)\n",
    "\n",
    "# Declare variables\n",
    "nclon = defVar(ds,\"lon\", Float64, (\"lon\",))\n",
    "nclon.attrib[\"standard_name\"] = \"longitude\"\n",
    "nclon.attrib[\"long_name\"] = \"longitude\"\n",
    "nclon.attrib[\"units\"] = \"degrees east\"\n",
    "nclon.attrib[\"axis\"] = \"X\"\n",
    "nclon.attrib[\"valid_min\"] = -180.\n",
    "nclon.attrib[\"valid_max\"] = 180.\n",
    "\n",
    "nclon_bnds = defVar(ds,\"lon_bnds\", Float64, (\"nv\", \"lon\"))\n",
    "\n",
    "nclat = defVar(ds,\"lat\", Float64, (\"lat\",))\n",
    "nclat.attrib[\"standard_name\"] = \"latitude\"\n",
    "nclat.attrib[\"long_name\"] = \"latitude\"\n",
    "nclat.attrib[\"units\"] = \"degrees north\"\n",
    "nclat.attrib[\"axis\"] = \"Y\"\n",
    "nclat.attrib[\"valid_min\"] = -90.\n",
    "nclat.attrib[\"valid_max\"] = 90.\n",
    "\n",
    "nclat_bnds = defVar(ds,\"lat_bnds\", Float64, (\"nv\", \"lat\"))\n",
    "\n",
    "ncdepth = defVar(ds,\"depth\", Float64, (\"depth\",))\n",
    "ncdepth.attrib[\"standard_name\"] = \"depth\"\n",
    "ncdepth.attrib[\"units\"] = \"meters\"\n",
    "ncdepth.attrib[\"axis\"] = \"Z\"\n",
    "ncdepth.attrib[\"positive\"] = \"down\"\n",
    "\n",
    "ncdepthnew_bnds = defVar(ds,\"depthnew_bnds\", Float64, (\"nv\", \"depth\"))\n",
    "\n",
    "nctime = defVar(ds,\"time\", Float64, (\"time\",))\n",
    "nctime.attrib[\"standard_name\"] = \"time\"\n",
    "nctime.attrib[\"bounds\"] = \"time3_bnds\"\n",
    "nctime.attrib[\"units\"] = \"days since 1900-01-01 00:00:00\"\n",
    "nctime.attrib[\"calendar\"] = \"standard\"\n",
    "nctime.attrib[\"climatology\"] = \"climatology_bounds\"\n",
    "\n",
    "ncclimatology_bounds = defVar(ds,\"climatology_bounds\", Float64, (\"nv\", \"time\"))\n",
    "ncclimatology_bounds.attrib[\"units\"] = \"days since 1900-01-01 00:00:00\"\n",
    "ncclimatology_bounds.attrib[\"calendar\"] = \"standard\"\n",
    "\n",
    "# Interpolated variable\n",
    "# (should be obtained from one of the regional netCDF files)\n",
    "ncvarinterp = defVar(ds,\"Water_body_ammonium\", Float32, (\"lon\", \"lat\", \"depth\", \"time\"))\n",
    "ncvarinterp.attrib[\"long_name\"] = \"Water_body_ammonium\"\n",
    "ncvarinterp.attrib[\"_FillValue\"] = Float32(-9999.)\n",
    "ncvarinterp.attrib[\"missing_value\"] = Float32(-9999.)\n",
    "ncvarinterp.attrib[\"actual_range\"] = \"0,125\"\n",
    "ncvarinterp.attrib[\"units\"] = \"umol/l\"\n",
    "\n",
    "\n",
    "# Global attributes\n",
    "ds.attrib[\"Conventions\"] = \"CF-1.0\"\n",
    "ds.attrib[\"title\"] = \"DIVA 4D analysis of Water_body_ammonium\"\n",
    "ds.attrib[\"product_id\"] = product_id\n",
    "ds.attrib[\"abstract\"] = \"Merge netCDF product obtained from the Arctic, \n",
    "    Atlantic, Baltic, Black, Mediterranean and North seas\"\n",
    "ds.attrib[\"Creation date\"] = \n",
    "close(ds)"
   ]
  },
  {
   "cell_type": "code",
   "execution_count": 26,
   "metadata": {},
   "outputs": [
    {
     "data": {
      "text/plain": [
       "\"./Water_body_ammonium.combined.nc\""
      ]
     },
     "execution_count": 26,
     "metadata": {},
     "output_type": "execute_result"
    }
   ],
   "source": [
    "templatefile = \"./Water_body_ammonium.combined.nc\""
   ]
  },
  {
   "cell_type": "code",
   "execution_count": 27,
   "metadata": {},
   "outputs": [
    {
     "name": "stdout",
     "output_type": "stream",
     "text": [
      "ds = Dataset(\"filename.nc\",\"c\")\n",
      "# Dimensions\n",
      "\n",
      "ds.dim[\"lon\"] = 950\n",
      "ds.dim[\"nv\"] = 2\n",
      "ds.dim[\"lat\"] = 430\n",
      "ds.dim[\"depth\"] = 30\n",
      "ds.dim[\"time\"] = 184\n",
      "\n",
      "# Declare variables\n",
      "\n",
      "nclon = defVar(ds,\"lon\", Float64, (\"lon\",))\n",
      "nclon.attrib[\"standard_name\"] = \"longitude\"\n",
      "nclon.attrib[\"long_name\"] = \"longitude\"\n",
      "nclon.attrib[\"units\"] = \"degrees east\"\n",
      "nclon.attrib[\"axis\"] = \"X\"\n",
      "nclon.attrib[\"bounds\"] = \"lon_bnds\"\n",
      "\n",
      "nclon_bnds = defVar(ds,\"lon_bnds\", Float64, (\"nv\", \"lon\"))\n",
      "\n",
      "nclat = defVar(ds,\"lat\", Float64, (\"lat\",))\n",
      "nclat.attrib[\"standard_name\"] = \"latitude\"\n",
      "nclat.attrib[\"long_name\"] = \"latitude\"\n",
      "nclat.attrib[\"units\"] = \"degrees north\"\n",
      "nclat.attrib[\"axis\"] = \"Y\"\n",
      "nclat.attrib[\"bounds\"] = \"lat_bnds\"\n",
      "\n",
      "nclat_bnds = defVar(ds,\"lat_bnds\", Float64, (\"nv\", \"lat\"))\n",
      "\n",
      "ncdepth = defVar(ds,\"depth\", Float64, (\"depth\",))\n",
      "ncdepth.attrib[\"units\"] = \"meters\"\n",
      "ncdepth.attrib[\"axis\"] = \"Z\"\n",
      "ncdepth.attrib[\"bounds\"] = \"depthnew_bnds\"\n",
      "ncdepth.attrib[\"positive\"] = \"down\"\n",
      "\n",
      "ncdepthnew_bnds = defVar(ds,\"depthnew_bnds\", Float64, (\"nv\", \"depth\"))\n",
      "\n",
      "nctime = defVar(ds,\"time\", Float64, (\"time\",))\n",
      "nctime.attrib[\"standard_name\"] = \"time\"\n",
      "nctime.attrib[\"bounds\"] = \"time3_bnds\"\n",
      "nctime.attrib[\"units\"] = \"days since 1900-01-01 00:00:00\"\n",
      "nctime.attrib[\"calendar\"] = \"standard\"\n",
      "nctime.attrib[\"climatology\"] = \"climatology_bounds\"\n",
      "\n",
      "ncclimatology_bounds = defVar(ds,\"climatology_bounds\", Float64, (\"nv\", \"time\"))\n",
      "ncclimatology_bounds.attrib[\"units\"] = \"days since 1900-01-01 00:00:00\"\n",
      "ncclimatology_bounds.attrib[\"calendar\"] = \"standard\"\n",
      "\n",
      "ncWater_body_ammonium_L2 = defVar(ds,\"Water_body_ammonium_L2\", Float32, (\"lon\", \"lat\", \"depth\", \"time\"))\n",
      "ncWater_body_ammonium_L2.attrib[\"long_name\"] = \"Water_body_ammonium masked using relative error threshold 0.5\"\n",
      "ncWater_body_ammonium_L2.attrib[\"_FillValue\"] = Float32(-1.0e34)\n",
      "ncWater_body_ammonium_L2.attrib[\"missing_value\"] = Float32(-1.0e34)\n",
      "ncWater_body_ammonium_L2.attrib[\"actual_range\"] = \"-0.03246,125.9\"\n",
      "ncWater_body_ammonium_L2.attrib[\"units\"] = \"umol/l\"\n",
      "\n",
      "# Global attributes\n",
      "\n",
      "ds.attrib[\"CDI\"] = \"Climate Data Interface version 1.6.2 (http://code.zmaw.de/projects/cdi)\"\n",
      "ds.attrib[\"Conventions\"] = \"CF-1.0\"\n",
      "ds.attrib[\"title\"] = \"DIVA 4D analysis of Water_body_ammonium\"\n",
      "ds.attrib[\"CDO\"] = \"Climate Data Operators version 1.6.2 (http://code.zmaw.de/projects/cdo)\"\n",
      "ds.attrib[\"history\"] = \"Wed Jan 24 22:01:27 2018: ncatted --attribute product_id,global,c,c,e61d12cd-837f-49ff-a0e1-3a694ab84bc5 Water_body_ammonium.combined.nc\n",
      "Wed Jan 24 21:54:35 2018: ncatted --attribute positive,depth,c,c,down Water_body_ammonium.combined.nc\"\n",
      "ds.attrib[\"NCO\"] = \"\\\"4.6.1\\\"\"\n",
      "ds.attrib[\"product_id\"] = \"e61d12cd-837f-49ff-a0e1-3a694ab84bc5\"\n",
      "\n",
      "# Define variables\n",
      "\n",
      "# nclon[:] = ...\n",
      "# nclon_bnds[:] = ...\n",
      "# nclat[:] = ...\n",
      "# nclat_bnds[:] = ...\n",
      "# ncdepth[:] = ...\n",
      "# ncdepthnew_bnds[:] = ...\n",
      "# nctime[:] = ...\n",
      "# ncclimatology_bounds[:] = ...\n",
      "# ncWater_body_ammonium_L2[:] = ...\n",
      "\n",
      "close(ds)\n"
     ]
    }
   ],
   "source": [
    "ncgen(templatefile)"
   ]
  },
  {
   "cell_type": "code",
   "execution_count": null,
   "metadata": {
    "collapsed": true
   },
   "outputs": [],
   "source": []
  }
 ],
 "metadata": {
  "@webio": {
   "lastCommId": "B8337B916E7C44D196637D2914511F47",
   "lastKernelId": "887da5dc-6785-4230-83e9-ef3bab0fe55f"
  },
  "kernelspec": {
   "display_name": "Julia 1.0.0",
   "language": "julia",
   "name": "julia-1.0"
  },
  "language_info": {
   "file_extension": ".jl",
   "mimetype": "application/julia",
   "name": "julia",
   "version": "1.0.0"
  }
 },
 "nbformat": 4,
 "nbformat_minor": 2
}
