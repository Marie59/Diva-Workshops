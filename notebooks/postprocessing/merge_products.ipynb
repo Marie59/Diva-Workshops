{
 "cells": [
  {
   "cell_type": "code",
   "execution_count": 10,
   "metadata": {},
   "outputs": [
    {
     "data": {
      "text/plain": [
       "depth_interp"
      ]
     },
     "execution_count": 10,
     "metadata": {},
     "output_type": "execute_result"
    }
   ],
   "source": [
    "using NCDatasets\n",
    "using Dates\n",
    "using Glob\n",
    "include(\"mergingclim.jl\")"
   ]
  },
  {
   "cell_type": "markdown",
   "metadata": {},
   "source": [
    "## 1. Input parameters\n",
    "Configure the new grid (lon, lat, time and depth)"
   ]
  },
  {
   "cell_type": "code",
   "execution_count": 11,
   "metadata": {
    "collapsed": true
   },
   "outputs": [],
   "source": [
    "Δlon = 1.\n",
    "Δlat = 1.\n",
    "longrid = -40.:Δlon:55.\n",
    "latgrid = 24.:Δlat:67.\n",
    "depthgrid = [0, 5, 10, 20, 30, 40, 50, 75, 100, 125, 150, 200, 250, 300, 400, \n",
    "    500, 600, 700, 800, 900, 1000, 1100, 1200, 1300, 1400, 1500, 1750, 2000, \n",
    "    2500, 3000];\n",
    "# Time should be generated from years and seasons maybe\n",
    "timegrid = [23787, 23876, 23968, 24060, 24152, 24241, 24333, 24425, 24517, 24606, \n",
    "    24698, 24790, 24882, 24972, 25064, 25156, 25248, 25337, 25429, 25521, \n",
    "    25613, 25702, 25794, 25886, 25978, 26067, 26159, 26251, 26343, 26433, \n",
    "    26525, 26617, 26709, 26798, 26890, 26982, 27074, 27163, 27255, 27347, \n",
    "    27439, 27528, 27620, 27712, 27804, 27894, 27986, 28078, 28170, 28259, \n",
    "    28351, 28443, 28535, 28624, 28716, 28808, 28900, 28989, 29081, 29173, \n",
    "    29265, 29355, 29447, 29539, 29631, 29720, 29812, 29904, 29996, 30085, \n",
    "    30177, 30269, 30361, 30450, 30542, 30634, 30726, 30816, 30908, 31000, \n",
    "    31092, 31181, 31273, 31365, 31457, 31546, 31638, 31730, 31822, 31911, \n",
    "    32003, 32095, 32187, 32277, 32369, 32461, 32553, 32642, 32734, 32826, \n",
    "    32918, 33007, 33099, 33191, 33283, 33372, 33464, 33556, 33648, 33738, \n",
    "    33830, 33922, 34014, 34103, 34195, 34287, 34379, 34468, 34560, 34652, \n",
    "    34744, 34833, 34925, 35017, 35109, 35199, 35291, 35383, 35475, 35564, \n",
    "    35656, 35748, 35840, 35929, 36021, 36113, 36205, 36294, 36386, 36478, \n",
    "    36570, 36660, 36752, 36844, 36936, 37025, 37117, 37209, 37301, 37390, \n",
    "    37482, 37574, 37666, 37755, 37847, 37939, 38031, 38121, 38213, 38305, \n",
    "    38397, 38486, 38578, 38670, 38762, 38851, 38943, 39035, 39127, 39216, \n",
    "    39308, 39400, 39492, 39582, 39674, 39766, 39858, 39947, 40039, 40131, \n",
    "    40223, 40312, 40404, 40496];"
   ]
  },
  {
   "cell_type": "markdown",
   "metadata": {},
   "source": [
    "Name of the variable, new ID, input and output directories. "
   ]
  },
  {
   "cell_type": "code",
   "execution_count": 12,
   "metadata": {},
   "outputs": [
    {
     "data": {
      "text/plain": [
       "\"/data/EMODnet/Chemistry/prod/\""
      ]
     },
     "execution_count": 12,
     "metadata": {},
     "output_type": "execute_result"
    }
   ],
   "source": [
    "varname = \"chlorophyll-a\"\n",
    "product_id = \"e61d12cd-837f-49ff-a0e1-3a694ab84bc5\"\n",
    "outputdir = \"/data/EMODnet/Chemistry/combined\"\n",
    "databasedir = \"/data/EMODnet/Chemistry/prod/\""
   ]
  },
  {
   "cell_type": "markdown",
   "metadata": {},
   "source": [
    "Create directory, generate output file name and title."
   ]
  },
  {
   "cell_type": "code",
   "execution_count": 13,
   "metadata": {},
   "outputs": [
    {
     "name": "stderr",
     "output_type": "stream",
     "text": [
      "┌ Info: Output directory already exists\n",
      "└ @ Main In[13]:5\n"
     ]
    }
   ],
   "source": [
    "if !(isdir(outputdir))\n",
    "    @info(\"Create new output directory\")\n",
    "    mkpath(outputdir)\n",
    "else\n",
    "    @info(\"Output directory already exists\")\n",
    "end\n",
    "outputfile = joinpath(outputdir, \"Water_body_$(varname)_combined.nc\")\n",
    "outputtitle = \"DIVA 4D analysis of Water_body_$(varname)\";"
   ]
  },
  {
   "cell_type": "markdown",
   "metadata": {},
   "source": [
    "## 2. Create merged netCDF (empty variables)"
   ]
  },
  {
   "cell_type": "code",
   "execution_count": 14,
   "metadata": {
    "collapsed": true
   },
   "outputs": [],
   "source": [
    "create_nc_merged(outputfile, longrid, latgrid, depthgrid, timegrid);"
   ]
  },
  {
   "cell_type": "markdown",
   "metadata": {},
   "source": [
    "## 3. Loop on the depths, regions and times to fill the netCDF\n",
    "For the vertical level, a linear interpolation will be applied.     \n",
    "For the horizontal grid, a bilinar interpolation will be applied.\n",
    "\n",
    "For each variable, we expect to have 4 files (one per season) in each region, with some exceptions.         \n",
    "We generate the list of files "
   ]
  },
  {
   "cell_type": "code",
   "execution_count": 15,
   "metadata": {},
   "outputs": [
    {
     "name": "stdout",
     "output_type": "stream",
     "text": [
      "yearlistvar = [1993, 1994, 1995, 1996, 1997, 1998, 1999, 2000, 2001, 2002, 2003, 2004, 2005, 2006, 2007, 2008, 2009, 2010, 2011, 2012, 2013, 2014]\n"
     ]
    }
   ],
   "source": [
    "datafile0 = \"/data/EMODnet/Chemistry/prod/Mediterranean Sea/Summer (July-September) - 6-years running averages/Water_body_dissolved_inorganic_nitrogen_(DIN).4Danl.nc\"\n",
    "yearlistvar = get_years(datafile0);\n",
    "@show yearlistvar;"
   ]
  },
  {
   "cell_type": "markdown",
   "metadata": {},
   "source": [
    "The years corresponding to the timegrid are:"
   ]
  },
  {
   "cell_type": "code",
   "execution_count": 16,
   "metadata": {},
   "outputs": [
    {
     "name": "stdout",
     "output_type": "stream",
     "text": [
      "yeargrid = [1965, 1966, 1967, 1968, 1969, 1970, 1971, 1972, 1973, 1974, 1975, 1976, 1977, 1978, 1979, 1980, 1981, 1982, 1983, 1984, 1985, 1986, 1987, 1988, 1989, 1990, 1991, 1992, 1993, 1994, 1995, 1996, 1997, 1998, 1999, 2000, 2001, 2002, 2003, 2004, 2005, 2006, 2007, 2008, 2009, 2010]\n"
     ]
    }
   ],
   "source": [
    "yeargrid = get_years(joinpath(outputdir, outputfile));\n",
    "@show yeargrid;"
   ]
  },
  {
   "cell_type": "markdown",
   "metadata": {},
   "source": [
    "### Main loop"
   ]
  },
  {
   "cell_type": "code",
   "execution_count": 18,
   "metadata": {},
   "outputs": [
    {
     "name": "stderr",
     "output_type": "stream",
     "text": [
      "┌ Info: Working on season Winter\n",
      "└ @ Main In[18]:4\n",
      "┌ Info: Found 3 files\n",
      "└ @ Main In[18]:8\n"
     ]
    },
    {
     "ename": "NCDatasets.NetCDFError",
     "evalue": "NCDatasets.NetCDFError(-51, \"Opening path /data/EMODnet/Chemistry/prod/Arctic region/Winter (December-February) - 6-years running averages/Water body chlorophyll-a.4Danl.nc: NetCDF: Unknown file format\")",
     "output_type": "error",
     "traceback": [
      "NCDatasets.NetCDFError(-51, \"Opening path /data/EMODnet/Chemistry/prod/Arctic region/Winter (December-February) - 6-years running averages/Water body chlorophyll-a.4Danl.nc: NetCDF: Unknown file format\")",
      "",
      "Stacktrace:",
      " [1] nc_open(::String, ::UInt16) at /home/ctroupin/.julia/dev/NCDatasets/src/netcdf_c.jl:275",
      " [2] #Dataset#22(::Symbol, ::Array{Any,1}, ::Type, ::String, ::String) at /home/ctroupin/.julia/dev/NCDatasets/src/NCDatasets.jl:434",
      " [3] Dataset(::String, ::String) at /home/ctroupin/.julia/dev/NCDatasets/src/NCDatasets.jl:430",
      " [4] top-level scope at ./logging.jl:313"
     ]
    }
   ],
   "source": [
    "# Loop on the seasons\n",
    "for season in [\"Winter\", \"Spring\", \"Summer\", \"Autumn\"]\n",
    "\n",
    "    @info(\"Working on season $(season)\")\n",
    "\n",
    "    # Generate list of files\n",
    "    filelist = get_file_list(databasedir, varname, \"winter\");\n",
    "    @info(\"Found $(length(filelist)) files\")\n",
    "    \n",
    "    # Loop on the depths\n",
    "    for depth in depthgrid\n",
    "        @debug(\"Working on depth $(depth)\")\n",
    "      \n",
    "        # Loop on the regions (using the file list)\n",
    "        for regionfile in filelist\n",
    "            @debug(\"Working on region $(regionfile)\")\n",
    "            \n",
    "            # Read years and depths from the file\n",
    "            ds1 = Dataset(regionfile, \"r\")\n",
    "                depthregionvector = ds1[\"depth\"][:]\n",
    "            close(ds1)\n",
    "            yearlistregion = get_years(regionfile);\n",
    "\n",
    "            # Find the indices for that depth and that time\n",
    "            if length(findall(depthregion .== depth)) == 0\n",
    "                @info(\"Depth not found, will perform interpolation\")\n",
    "                dmin, dmax = get_closer_depth(depthregionvector, depth)\n",
    "                w1, w2 = get_depth_weights(depth, dmin, dmax)\n",
    "                indmin, indmax = get_depth_indices(depth, depthregionvector)\n",
    "                \n",
    "                \"\"\"\n",
    "                ds1 = Datasets(regionfile, \"r\")\n",
    "                fieldinterp = ds\n",
    "                close(ds1)\n",
    "                \"\"\"\n",
    "            else \n",
    "                @info(\"Depth is found, we use it without interpolation\")\n",
    "                depthindex = findall(depthregionvector .== depth)[1]\n",
    "            end\n",
    "            println(indexdepth)\n",
    "            \n",
    "            \n",
    "            # Loop on years\n",
    "            for years in yeargrid[1:5]\n",
    "                @info(\"Working on year $(years)\")\n",
    "            end\n",
    "            \n",
    "        end\n",
    "    end\n",
    "end"
   ]
  },
  {
   "cell_type": "code",
   "execution_count": null,
   "metadata": {
    "collapsed": true
   },
   "outputs": [],
   "source": [
    "depthgrid"
   ]
  },
  {
   "cell_type": "code",
   "execution_count": null,
   "metadata": {
    "collapsed": true
   },
   "outputs": [],
   "source": []
  }
 ],
 "metadata": {
  "@webio": {
   "lastCommId": "C724B429AF6240018B51A0503C77195B",
   "lastKernelId": "28f020a9-2a2e-46ac-9adc-1b08688b0b50"
  },
  "kernelspec": {
   "display_name": "Julia 1.0.0",
   "language": "julia",
   "name": "julia-1.0"
  },
  "language_info": {
   "file_extension": ".jl",
   "mimetype": "application/julia",
   "name": "julia",
   "version": "1.0.0"
  }
 },
 "nbformat": 4,
 "nbformat_minor": 2
}
