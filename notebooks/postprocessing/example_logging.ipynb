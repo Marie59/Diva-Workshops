{
 "cells": [
  {
   "cell_type": "markdown",
   "metadata": {},
   "source": [
    "# Logging\n",
    "Previously, one had to load a specific module ([Logging](https://github.com/kmsquire/Logging.jl)), now the logging are inside the Base package.    \n",
    "The basic use is simple: we use `info`, `warn` or `error` to issue a message in the terminal or in a notebook.\n",
    "## Basic commands"
   ]
  },
  {
   "cell_type": "code",
   "execution_count": 1,
   "metadata": {},
   "outputs": [
    {
     "name": "stderr",
     "output_type": "stream",
     "text": [
      "\u001b[1m\u001b[36mINFO: \u001b[39m\u001b[22m\u001b[36mInitializing parameters\n",
      "\u001b[39m"
     ]
    }
   ],
   "source": [
    "info(\"Initializing parameters\")"
   ]
  },
  {
   "cell_type": "code",
   "execution_count": 2,
   "metadata": {},
   "outputs": [
    {
     "name": "stderr",
     "output_type": "stream",
     "text": [
      "\u001b[1m\u001b[33mWARNING: \u001b[39m\u001b[22m\u001b[33mProblem inside the data file\u001b[39m\n"
     ]
    }
   ],
   "source": [
    "warn(\"Problem inside the data file\")"
   ]
  },
  {
   "cell_type": "code",
   "execution_count": 3,
   "metadata": {},
   "outputs": [
    {
     "ename": "LoadError",
     "evalue": "\u001b[91mCannot read this ODV file\u001b[39m",
     "output_type": "error",
     "traceback": [
      "\u001b[91mCannot read this ODV file\u001b[39m",
      "",
      "Stacktrace:",
      " [1] \u001b[1merror\u001b[22m\u001b[22m\u001b[1m(\u001b[22m\u001b[22m::String\u001b[1m)\u001b[22m\u001b[22m at \u001b[1m./error.jl:21\u001b[22m\u001b[22m",
      " [2] \u001b[1minclude_string\u001b[22m\u001b[22m\u001b[1m(\u001b[22m\u001b[22m::String, ::String\u001b[1m)\u001b[22m\u001b[22m at \u001b[1m./loading.jl:515\u001b[22m\u001b[22m"
     ]
    }
   ],
   "source": [
    "error(\"Cannot read this ODV file\")"
   ]
  },
  {
   "cell_type": "markdown",
   "metadata": {},
   "source": [
    "Note the different text colors in the logging cells. The call to `error` throws a *Stracktrace*, which is maybe not expected. \n",
    "\n",
    "At some point we might not be interested in the `info` logs, but of course we don't want to comment them out if the code, so we modify the configuration of the logging."
   ]
  },
  {
   "cell_type": "code",
   "execution_count": 28,
   "metadata": {
    "collapsed": true
   },
   "outputs": [],
   "source": [
    "logging(kind=:warn)"
   ]
  },
  {
   "cell_type": "markdown",
   "metadata": {},
   "source": [
    "We can use a different prefix:"
   ]
  },
  {
   "cell_type": "code",
   "execution_count": 35,
   "metadata": {},
   "outputs": [
    {
     "name": "stderr",
     "output_type": "stream",
     "text": [
      "\u001b[1m\u001b[36mdivand:\u001b[39m\u001b[22m\u001b[36mStart processing file\n",
      "\u001b[39m"
     ]
    }
   ],
   "source": [
    "info(\"Start processing file\", prefix=\"divand:\")"
   ]
  },
  {
   "cell_type": "markdown",
   "metadata": {},
   "source": [
    "This can be useful if we want to have a unique logging file where the messages are related to the julia file that called them.      \n",
    "We could also attach a time instance to the message:"
   ]
  },
  {
   "cell_type": "code",
   "execution_count": 36,
   "metadata": {},
   "outputs": [
    {
     "name": "stderr",
     "output_type": "stream",
     "text": [
      "WARNING: requiring \"Dates\" in module \"Main\" did not define a corresponding module.\n"
     ]
    }
   ],
   "source": [
    "using Dates"
   ]
  },
  {
   "cell_type": "code",
   "execution_count": 45,
   "metadata": {},
   "outputs": [
    {
     "name": "stderr",
     "output_type": "stream",
     "text": [
      "\u001b[1m\u001b[36m2018-03-12T17:53:04.036 divand: \u001b[39m\u001b[22m\u001b[36mStart\n",
      "\u001b[39m"
     ]
    }
   ],
   "source": [
    "info(\"Start\", prefix=string(now()) * \" divand: \")"
   ]
  },
  {
   "cell_type": "code",
   "execution_count": 47,
   "metadata": {},
   "outputs": [
    {
     "name": "stderr",
     "output_type": "stream",
     "text": [
      "\u001b[1m\u001b[33m2018-03-12T17:53:44.605 divand: \u001b[39m\u001b[22m\u001b[33mFile not found\u001b[39m\n"
     ]
    }
   ],
   "source": [
    "warn(\"File not found\", prefix=string(now()) * \" divand: \")"
   ]
  },
  {
   "cell_type": "markdown",
   "metadata": {},
   "source": [
    "Interestingly, the `error` function does not accept the prefix:"
   ]
  },
  {
   "cell_type": "code",
   "execution_count": 51,
   "metadata": {},
   "outputs": [
    {
     "ename": "LoadError",
     "evalue": "\u001b[91mfunction error does not accept keyword arguments\u001b[39m",
     "output_type": "error",
     "traceback": [
      "\u001b[91mfunction error does not accept keyword arguments\u001b[39m",
      "",
      "Stacktrace:",
      " [1] \u001b[1mkwfunc\u001b[22m\u001b[22m\u001b[1m(\u001b[22m\u001b[22m::Any\u001b[1m)\u001b[22m\u001b[22m at \u001b[1m./boot.jl:237\u001b[22m\u001b[22m",
      " [2] \u001b[1minclude_string\u001b[22m\u001b[22m\u001b[1m(\u001b[22m\u001b[22m::String, ::String\u001b[1m)\u001b[22m\u001b[22m at \u001b[1m./loading.jl:515\u001b[22m\u001b[22m"
     ]
    }
   ],
   "source": [
    "error(\"No bathymetry\", prefix=string(now()) * \" divand: \")"
   ]
  },
  {
   "cell_type": "code",
   "execution_count": 52,
   "metadata": {},
   "outputs": [
    {
     "name": "stdout",
     "output_type": "stream",
     "text": [
      "search: \u001b[1ml\u001b[22m\u001b[1mo\u001b[22m\u001b[1mg\u001b[22m\u001b[1mg\u001b[22m\u001b[1mi\u001b[22m\u001b[1mn\u001b[22m\u001b[1mg\u001b[22m\n",
      "\n"
     ]
    },
    {
     "data": {
      "text/markdown": [
       "```\n",
       "logging(io [, m [, f]][; kind=:all])\n",
       "logging([; kind=:all])\n",
       "```\n",
       "\n",
       "Stream output of informational, warning, and/or error messages to `io`, overriding what was otherwise specified.  Optionally, divert stream only for module `m`, or specifically function `f` within `m`.  `kind` can be `:all` (the default), `:info`, `:warn`, or `:error`.  See `Base.log_{info,warn,error}_to` for the current set of redirections.  Call `logging` with no arguments (or just the `kind`) to reset everything.\n"
      ],
      "text/plain": [
       "```\n",
       "logging(io [, m [, f]][; kind=:all])\n",
       "logging([; kind=:all])\n",
       "```\n",
       "\n",
       "Stream output of informational, warning, and/or error messages to `io`, overriding what was otherwise specified.  Optionally, divert stream only for module `m`, or specifically function `f` within `m`.  `kind` can be `:all` (the default), `:info`, `:warn`, or `:error`.  See `Base.log_{info,warn,error}_to` for the current set of redirections.  Call `logging` with no arguments (or just the `kind`) to reset everything.\n"
      ]
     },
     "execution_count": 52,
     "metadata": {},
     "output_type": "execute_result"
    }
   ],
   "source": [
    "?logging"
   ]
  },
  {
   "cell_type": "markdown",
   "metadata": {},
   "source": [
    "## Writing into a file"
   ]
  },
  {
   "cell_type": "code",
   "execution_count": 56,
   "metadata": {
    "collapsed": true
   },
   "outputs": [],
   "source": [
    "ff = open(\"./divand.log\", \"w\")\n",
    "info(ff, \"Check 1, 2\")\n",
    "close(ff)"
   ]
  },
  {
   "cell_type": "code",
   "execution_count": null,
   "metadata": {
    "collapsed": true
   },
   "outputs": [],
   "source": []
  }
 ],
 "metadata": {
  "kernelspec": {
   "display_name": "Julia 0.6.0",
   "language": "julia",
   "name": "julia-0.6"
  },
  "language_info": {
   "file_extension": ".jl",
   "mimetype": "application/julia",
   "name": "julia",
   "version": "0.6.0"
  }
 },
 "nbformat": 4,
 "nbformat_minor": 2
}
