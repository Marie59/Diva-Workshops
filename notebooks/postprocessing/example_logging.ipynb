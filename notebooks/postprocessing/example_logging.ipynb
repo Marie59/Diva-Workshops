{
 "cells": [
  {
   "cell_type": "markdown",
   "metadata": {},
   "source": [
    "# Logging\n",
    "There are two main possibilities to apply logging in Julia:\n",
    "1. load a specific module ([Logging](https://github.com/kmsquire/Logging.jl)), \n",
    "2. use the logging available inside the Base package. \n",
    "\n",
    "We have a short comparison between the 2.\n",
    "## Base package\n",
    "The basic functions are limited to `info`, `warn` and `error`. No `debug` or `critical`.    \n",
    "Once the cell are executed, note the different text colors in the logging cells."
   ]
  },
  {
   "cell_type": "code",
   "execution_count": 1,
   "metadata": {},
   "outputs": [
    {
     "name": "stderr",
     "output_type": "stream",
     "text": [
      "\u001b[1m\u001b[36mINFO: \u001b[39m\u001b[22m\u001b[36mInitializing parameters\n",
      "\u001b[39m"
     ]
    }
   ],
   "source": [
    "info(\"Initializing parameters\")"
   ]
  },
  {
   "cell_type": "code",
   "execution_count": 2,
   "metadata": {},
   "outputs": [
    {
     "name": "stderr",
     "output_type": "stream",
     "text": [
      "\u001b[1m\u001b[33mWARNING: \u001b[39m\u001b[22m\u001b[33mProblem inside the data file\u001b[39m\n"
     ]
    }
   ],
   "source": [
    "warn(\"Problem inside the data file\")"
   ]
  },
  {
   "cell_type": "code",
   "execution_count": 3,
   "metadata": {},
   "outputs": [
    {
     "ename": "LoadError",
     "evalue": "\u001b[91mCannot read this ODV file\u001b[39m",
     "output_type": "error",
     "traceback": [
      "\u001b[91mCannot read this ODV file\u001b[39m",
      "",
      "Stacktrace:",
      " [1] \u001b[1merror\u001b[22m\u001b[22m\u001b[1m(\u001b[22m\u001b[22m::String\u001b[1m)\u001b[22m\u001b[22m at \u001b[1m./error.jl:21\u001b[22m\u001b[22m",
      " [2] \u001b[1minclude_string\u001b[22m\u001b[22m\u001b[1m(\u001b[22m\u001b[22m::String, ::String\u001b[1m)\u001b[22m\u001b[22m at \u001b[1m./loading.jl:515\u001b[22m\u001b[22m"
     ]
    }
   ],
   "source": [
    "error(\"Cannot read this ODV file\")"
   ]
  },
  {
   "cell_type": "markdown",
   "metadata": {},
   "source": [
    "The call to `error` throws a *Stracktrace*, which is maybe not expected.\n",
    "### Configuration\n",
    "At some point we might not be interested in the `info` logs, but of course we don't want to comment them out if the code, so we modify the configuration of the logging. However in the notebook, this doesn't change anything, the info messages are still ussued."
   ]
  },
  {
   "cell_type": "code",
   "execution_count": 4,
   "metadata": {},
   "outputs": [
    {
     "name": "stderr",
     "output_type": "stream",
     "text": [
      "\u001b[1m\u001b[36mINFO: \u001b[39m\u001b[22m\u001b[36mShould not appear\n",
      "\u001b[39m"
     ]
    }
   ],
   "source": [
    "logging(kind=:warn)\n",
    "info(\"Should not appear\")"
   ]
  },
  {
   "cell_type": "markdown",
   "metadata": {},
   "source": [
    "We can use a different prefix:"
   ]
  },
  {
   "cell_type": "code",
   "execution_count": 5,
   "metadata": {},
   "outputs": [
    {
     "name": "stderr",
     "output_type": "stream",
     "text": [
      "\u001b[1m\u001b[36mdivand:\u001b[39m\u001b[22m\u001b[36mStart processing file\n",
      "\u001b[39m"
     ]
    }
   ],
   "source": [
    "info(\"Start processing file\", prefix=\"divand:\")"
   ]
  },
  {
   "cell_type": "markdown",
   "metadata": {},
   "source": [
    "This can be useful if we want to have a unique logging file where the messages are related to the julia file that called them.      \n",
    "We could also attach a time instance to the message:"
   ]
  },
  {
   "cell_type": "code",
   "execution_count": 6,
   "metadata": {},
   "outputs": [
    {
     "name": "stderr",
     "output_type": "stream",
     "text": [
      "WARNING: requiring \"Dates\" in module \"Main\" did not define a corresponding module.\n"
     ]
    }
   ],
   "source": [
    "using Dates"
   ]
  },
  {
   "cell_type": "code",
   "execution_count": 7,
   "metadata": {},
   "outputs": [
    {
     "name": "stderr",
     "output_type": "stream",
     "text": [
      "\u001b[1m\u001b[36m2018-03-20T10:05:51.55 divand: \u001b[39m\u001b[22m\u001b[36mStart\n",
      "\u001b[39m\u001b[1m\u001b[33m2018-03-20T10:05:51.617 divand: \u001b[39m\u001b[22m\u001b[33mFile not found\u001b[39m\n"
     ]
    }
   ],
   "source": [
    "info(\"Start\", prefix=string(now()) * \" divand: \")\n",
    "warn(\"File not found\", prefix=string(now()) * \" divand: \")"
   ]
  },
  {
   "cell_type": "markdown",
   "metadata": {},
   "source": [
    "Interestingly, the `error` function does not accept the prefix, even if it appears similar to `info` and `warn`:"
   ]
  },
  {
   "cell_type": "code",
   "execution_count": 8,
   "metadata": {},
   "outputs": [
    {
     "ename": "LoadError",
     "evalue": "\u001b[91mfunction error does not accept keyword arguments\u001b[39m",
     "output_type": "error",
     "traceback": [
      "\u001b[91mfunction error does not accept keyword arguments\u001b[39m",
      "",
      "Stacktrace:",
      " [1] \u001b[1mkwfunc\u001b[22m\u001b[22m\u001b[1m(\u001b[22m\u001b[22m::Any\u001b[1m)\u001b[22m\u001b[22m at \u001b[1m./boot.jl:237\u001b[22m\u001b[22m",
      " [2] \u001b[1minclude_string\u001b[22m\u001b[22m\u001b[1m(\u001b[22m\u001b[22m::String, ::String\u001b[1m)\u001b[22m\u001b[22m at \u001b[1m./loading.jl:515\u001b[22m\u001b[22m"
     ]
    }
   ],
   "source": [
    "error(\"No bathymetry\", prefix=string(now()) * \" divand: \")"
   ]
  },
  {
   "cell_type": "code",
   "execution_count": 9,
   "metadata": {},
   "outputs": [
    {
     "name": "stdout",
     "output_type": "stream",
     "text": [
      "search: \u001b[1ml\u001b[22m\u001b[1mo\u001b[22m\u001b[1mg\u001b[22m\u001b[1mg\u001b[22m\u001b[1mi\u001b[22m\u001b[1mn\u001b[22m\u001b[1mg\u001b[22m\n",
      "\n"
     ]
    },
    {
     "data": {
      "text/markdown": [
       "```\n",
       "logging(io [, m [, f]][; kind=:all])\n",
       "logging([; kind=:all])\n",
       "```\n",
       "\n",
       "Stream output of informational, warning, and/or error messages to `io`, overriding what was otherwise specified.  Optionally, divert stream only for module `m`, or specifically function `f` within `m`.  `kind` can be `:all` (the default), `:info`, `:warn`, or `:error`.  See `Base.log_{info,warn,error}_to` for the current set of redirections.  Call `logging` with no arguments (or just the `kind`) to reset everything.\n"
      ],
      "text/plain": [
       "```\n",
       "logging(io [, m [, f]][; kind=:all])\n",
       "logging([; kind=:all])\n",
       "```\n",
       "\n",
       "Stream output of informational, warning, and/or error messages to `io`, overriding what was otherwise specified.  Optionally, divert stream only for module `m`, or specifically function `f` within `m`.  `kind` can be `:all` (the default), `:info`, `:warn`, or `:error`.  See `Base.log_{info,warn,error}_to` for the current set of redirections.  Call `logging` with no arguments (or just the `kind`) to reset everything.\n"
      ]
     },
     "execution_count": 9,
     "metadata": {},
     "output_type": "execute_result"
    }
   ],
   "source": [
    "?logging"
   ]
  },
  {
   "cell_type": "markdown",
   "metadata": {},
   "source": [
    "### Writing into a file\n",
    "It is straightformard to redirect the output into a file, in which the format (colors, bold typing) is converved.     "
   ]
  },
  {
   "cell_type": "code",
   "execution_count": 10,
   "metadata": {
    "collapsed": true
   },
   "outputs": [],
   "source": [
    "ff = open(\"./divand.log\", \"w\")\n",
    "info(ff, \"Check 1, 2\")\n",
    "warn(ff, \"We've got a situation here\")\n",
    "close(ff)"
   ]
  },
  {
   "cell_type": "markdown",
   "metadata": {},
   "source": [
    "In bash, use the `more` command to view the file content with the formatting."
   ]
  },
  {
   "cell_type": "code",
   "execution_count": 11,
   "metadata": {},
   "outputs": [
    {
     "name": "stdout",
     "output_type": "stream",
     "text": [
      "::::::::::::::\n",
      "./divand.log\n",
      "::::::::::::::\n",
      "\u001b[1m\u001b[36mINFO: \u001b[39m\u001b[22m\u001b[36mCheck 1, 2\n",
      "\u001b[39m\u001b[1m\u001b[33mWARNING: \u001b[39m\u001b[22m\u001b[33mWe've got a situation here\u001b[39m\n"
     ]
    }
   ],
   "source": [
    "run(`more ./divand.log`)"
   ]
  },
  {
   "cell_type": "markdown",
   "metadata": {},
   "source": [
    "## Logging package\n",
    "Now we use the external package and see that the method definitions are overwritten for `warn` and `info`."
   ]
  },
  {
   "cell_type": "code",
   "execution_count": 12,
   "metadata": {},
   "outputs": [
    {
     "name": "stderr",
     "output_type": "stream",
     "text": [
      "WARNING: Method definition warn(Any...) in module Base at util.jl:585 overwritten in module Logging at /home/ctroupin/.julia/v0.6/Logging/src/Logging.jl:115.\n",
      "WARNING: Method definition info(Any...) in module Base at util.jl:532 overwritten in module Logging at /home/ctroupin/.julia/v0.6/Logging/src/Logging.jl:115.\n"
     ]
    }
   ],
   "source": [
    "using Logging"
   ]
  },
  {
   "cell_type": "code",
   "execution_count": 13,
   "metadata": {
    "collapsed": true
   },
   "outputs": [],
   "source": [
    "info(\"Starting interpolation\")"
   ]
  },
  {
   "cell_type": "markdown",
   "metadata": {},
   "source": [
    "With info, no message is displayed because we have to configure the logging level."
   ]
  },
  {
   "cell_type": "code",
   "execution_count": 14,
   "metadata": {},
   "outputs": [
    {
     "name": "stderr",
     "output_type": "stream",
     "text": [
      "20-mars 10:06:03:DEBUG:root:Checking\n",
      "20-mars 10:06:03:INFO:root:Starting\n",
      "20-mars 10:06:03:WARNING:root:Strange stuff\n",
      "20-mars 10:06:03:ERROR:root:Problem\n",
      "20-mars 10:06:03:CRITICAL:root:Crashhhhh\n"
     ]
    }
   ],
   "source": [
    "Logging.configure(level=DEBUG)\n",
    "debug(\"Checking\")\n",
    "info(\"Starting\")\n",
    "warn(\"Strange stuff\")\n",
    "err(\"Problem\")\n",
    "critical(\"Crashhhhh\")"
   ]
  },
  {
   "cell_type": "code",
   "execution_count": 15,
   "metadata": {},
   "outputs": [
    {
     "name": "stderr",
     "output_type": "stream",
     "text": [
      "20-mars 10:06:05:ERROR:root:Problem\n",
      "20-mars 10:06:05:CRITICAL:root:Crashhhhh\n"
     ]
    }
   ],
   "source": [
    "Logging.configure(level=ERROR)\n",
    "debug(\"Checking\")\n",
    "info(\"Starting\")\n",
    "warn(\"Strange stuff\")\n",
    "err(\"Problem\")\n",
    "critical(\"Crashhhhh\")"
   ]
  },
  {
   "cell_type": "markdown",
   "metadata": {},
   "source": [
    "### Write to a file"
   ]
  },
  {
   "cell_type": "code",
   "execution_count": 16,
   "metadata": {},
   "outputs": [
    {
     "data": {
      "text/plain": [
       "Logger(root,ERROR,Union{IO, Logging.SysLog}[IOStream(<file divand2.log>)],root)"
      ]
     },
     "execution_count": 16,
     "metadata": {},
     "output_type": "execute_result"
    }
   ],
   "source": [
    "Logging.configure(output=open(\"divand2.log\", \"a\"))"
   ]
  },
  {
   "cell_type": "code",
   "execution_count": 17,
   "metadata": {
    "collapsed": true
   },
   "outputs": [],
   "source": [
    "debug(\"Checking\")\n",
    "info(\"Starting\")\n",
    "warn(\"Strange stuff\")\n",
    "err(\"Problem\")\n",
    "critical(\"Crashhhhh\")"
   ]
  },
  {
   "cell_type": "markdown",
   "metadata": {},
   "source": [
    "The file content is visualised with `more` or other tools:"
   ]
  },
  {
   "cell_type": "code",
   "execution_count": 18,
   "metadata": {},
   "outputs": [
    {
     "name": "stdout",
     "output_type": "stream",
     "text": [
      "::::::::::::::\n",
      "divand2.log\n",
      "::::::::::::::\n",
      "19-mars 22:23:34:ERROR:root:Problem\n",
      "19-mars 22:23:34:CRITICAL:root:Crashhhhh\n"
     ]
    }
   ],
   "source": [
    "run(`more divand2.log`)"
   ]
  },
  {
   "cell_type": "code",
   "execution_count": null,
   "metadata": {
    "collapsed": true
   },
   "outputs": [],
   "source": [
    "We can also have different loggers for different parts of the code, but that's not necessary now.\n",
    "# Conclusion\n",
    "The external `Logging` seems a more convenient solution at the time of this notebook."
   ]
  }
 ],
 "metadata": {
  "kernelspec": {
   "display_name": "Julia 0.6.0",
   "language": "julia",
   "name": "julia-0.6"
  },
  "language_info": {
   "file_extension": ".jl",
   "mimetype": "application/julia",
   "name": "julia",
   "version": "0.6.0"
  }
 },
 "nbformat": 4,
 "nbformat_minor": 2
}
