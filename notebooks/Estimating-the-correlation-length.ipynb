{
 "cells": [
  {
   "cell_type": "markdown",
   "metadata": {},
   "source": [
    "# Estimating-the-correlation-length \n",
    "\n",
    "* A central parameter for the DIVAnd analysis is the correlation lenght\n",
    "* It determines whether two points separated by a given distance are correlated or not\n",
    "* DIVAnd includes several tools to estimate the correlation length\n",
    "* We will start with a 2D case and consider the 3D case"
   ]
  },
  {
   "cell_type": "code",
   "execution_count": 1,
   "metadata": {},
   "outputs": [
    {
     "name": "stderr",
     "output_type": "stream",
     "text": [
      "WARNING: Method definition warn(Any...) in module Base at util.jl:585 overwritten in module Logging at /home/abarth/.julia/v0.6/Logging/src/Logging.jl:115.\n",
      "WARNING: Method definition info(Any...) in module Base at util.jl:532 overwritten in module Logging at /home/abarth/.julia/v0.6/Logging/src/Logging.jl:115.\n",
      "WARNING: Method definition (::Type{divand.Vocab.CFVocab})(Any) in module Vocab at /home/abarth/.julia/v0.6/divand/src/Vocab.jl:22 overwritten at /home/abarth/.julia/v0.6/divand/src/Vocab.jl:46.\n"
     ]
    }
   ],
   "source": [
    "using Base.Test\n",
    "import divand\n",
    "using PyPlot"
   ]
  },
  {
   "cell_type": "markdown",
   "metadata": {},
   "source": [
    "Download the file `Salinity.bigfile` (if it is not already present). It will be placed in the same directory as this notebook. This file based on the World Ocean Database."
   ]
  },
  {
   "cell_type": "code",
   "execution_count": 2,
   "metadata": {},
   "outputs": [],
   "source": [
    "fname = \"Salinity.bigfile\"\n",
    "\n",
    "if !isfile(fname)\n",
    "    download(\"https://b2drop.eudat.eu/s/Bv9Fj0YGC0zp2vn/download\",fname)\n",
    "end"
   ]
  },
  {
   "cell_type": "markdown",
   "metadata": {},
   "source": [
    "Load the data"
   ]
  },
  {
   "cell_type": "code",
   "execution_count": 3,
   "metadata": {},
   "outputs": [],
   "source": [
    "value,lon,lat,depth,time,ids = divand.loadbigfile(fname);"
   ]
  },
  {
   "cell_type": "markdown",
   "metadata": {},
   "source": [
    "`mincount` is the minimum number of observations ber distance bin and the call to `srand` ensures a reproducible sequence of random numbers."
   ]
  },
  {
   "cell_type": "code",
   "execution_count": 4,
   "metadata": {},
   "outputs": [
    {
     "data": {
      "text/plain": [
       "MersenneTwister(UInt32[0x00003039], Base.dSFMT.DSFMT_state(Int32[-870096391, 1072918504, -1812426662, 1073255081, -733866021, 1073404543, 807620846, 1073368448, 1919433844, 1072852359  …  -362113007, 1073100625, -166402106, 1073460158, -1907020342, 721295190, -750225566, -1300227565, 382, 0]), [1.15902, 1.25303, 1.94892, 1.69106, 1.41056, 1.58889, 1.78545, 1.9268, 1.96485, 1.3349  …  1.65527, 1.39214, 1.56892, 1.37233, 1.06004, 1.20382, 1.10413, 1.84584, 1.98787, 1.02959], 382)"
      ]
     },
     "execution_count": 4,
     "metadata": {},
     "output_type": "execute_result"
    }
   ],
   "source": [
    "mincount = 10000\n",
    "srand(12345) # this can be any number"
   ]
  },
  {
   "cell_type": "markdown",
   "metadata": {},
   "source": [
    "## 2D case\n",
    "\n",
    "* First lets consider only the data on a 2D surface (longitude and latitude)\n",
    "* We use the function `divand.fit_isotropic`\n"
   ]
  },
  {
   "cell_type": "code",
   "execution_count": 5,
   "metadata": {},
   "outputs": [
    {
     "data": {
      "text/markdown": [
       "```\n",
       "var0,len,distx,covar,fitcovar = fit_isotropic(x,v,distbin,mincount;\n",
       "                           alpha = divand.alpha_default(length(x)),\n",
       "                           len = 1.,\n",
       "                           var0 = 1.,\n",
       "                           minlen = 0.,\n",
       "                           maxlen = 10.,\n",
       "                           minvar0 = 0.,\n",
       "                           maxvar0 = 10.,\n",
       "                           tolrel = 1e-4,\n",
       "                           maxpoints = 1000000,\n",
       "                           distfun = (xi,xj) -> sqrt(sum(abs2,xi-xj))),\n",
       "                           progress = (var,len,fitness) -> nothing\n",
       "                       )\n",
       "```\n",
       "\n",
       "Determines the optimal correlation length `len` and variance (for a separation distance approaching zero) `var0` of a cloud of data points with value `v` and coordiantes `x` (tuple of vectors with the coordinates).\n",
       "\n",
       "The function can find the solution corresponding to  a local minimum which is not necessarily the global minimum.\n",
       "\n",
       "See also `empiriccovar` for future information about the output parameters.\n",
       "\n",
       "Optional input parameters:\n",
       "\n",
       "  * `alpha`: if one correlation length is forced to zero during the anaylsis the values of alpha sould be set using the effective dimension. For example, if a 2D-analysis is simulated by forcing the vertical correlation length to zero, then alpha should be set to `[1,2,1]`, otherwise alpha will be `[1,3,3,1]` (for for any proper 3D analysis).\n",
       "  * `len`: initial value for the correlation length\n",
       "  * `var0`: initial value of the variance\n",
       "  * `minlen`, `maxlen`: minimum and maximum value for the correlation length\n",
       "  * `minvar0`, `maxvar0`: minimum and maximum value for the variance\n",
       "  * `tolrel`: relative tolerance for the optimizer\n",
       "  * `maxpoints`: maximum number of data points considered\n",
       "  * `distfun`: function to compute the distance between point `xi` (vector) and   `xj`. Per default `distun` is the Eucedian distance  `(xi,xj) -> sqrt(sum(abs2,xi-xj)))`.\n",
       "  * `progress`: call-back function to show the progress of the optimization with  the input parameters `var`, `len` and `fitness` (all scalars).\n",
       "\n",
       "The length-scale parameters and the variance have the corresponding units from  the `x` and `v`. It is therefore often necessary to provide reasonable values  for these default parameters.\n",
       "\n",
       "If the lower bound `minlen` is too small, then you might get the following error:\n",
       "\n",
       "```\n",
       "AmosException with id 4: input argument magnitude too large, complete loss of accuracy by argument reduction.\n",
       "```\n",
       "\n",
       "In these case, increase `minlen`.\n"
      ],
      "text/plain": [
       "```\n",
       "var0,len,distx,covar,fitcovar = fit_isotropic(x,v,distbin,mincount;\n",
       "                           alpha = divand.alpha_default(length(x)),\n",
       "                           len = 1.,\n",
       "                           var0 = 1.,\n",
       "                           minlen = 0.,\n",
       "                           maxlen = 10.,\n",
       "                           minvar0 = 0.,\n",
       "                           maxvar0 = 10.,\n",
       "                           tolrel = 1e-4,\n",
       "                           maxpoints = 1000000,\n",
       "                           distfun = (xi,xj) -> sqrt(sum(abs2,xi-xj))),\n",
       "                           progress = (var,len,fitness) -> nothing\n",
       "                       )\n",
       "```\n",
       "\n",
       "Determines the optimal correlation length `len` and variance (for a separation distance approaching zero) `var0` of a cloud of data points with value `v` and coordiantes `x` (tuple of vectors with the coordinates).\n",
       "\n",
       "The function can find the solution corresponding to  a local minimum which is not necessarily the global minimum.\n",
       "\n",
       "See also `empiriccovar` for future information about the output parameters.\n",
       "\n",
       "Optional input parameters:\n",
       "\n",
       "  * `alpha`: if one correlation length is forced to zero during the anaylsis the values of alpha sould be set using the effective dimension. For example, if a 2D-analysis is simulated by forcing the vertical correlation length to zero, then alpha should be set to `[1,2,1]`, otherwise alpha will be `[1,3,3,1]` (for for any proper 3D analysis).\n",
       "  * `len`: initial value for the correlation length\n",
       "  * `var0`: initial value of the variance\n",
       "  * `minlen`, `maxlen`: minimum and maximum value for the correlation length\n",
       "  * `minvar0`, `maxvar0`: minimum and maximum value for the variance\n",
       "  * `tolrel`: relative tolerance for the optimizer\n",
       "  * `maxpoints`: maximum number of data points considered\n",
       "  * `distfun`: function to compute the distance between point `xi` (vector) and   `xj`. Per default `distun` is the Eucedian distance  `(xi,xj) -> sqrt(sum(abs2,xi-xj)))`.\n",
       "  * `progress`: call-back function to show the progress of the optimization with  the input parameters `var`, `len` and `fitness` (all scalars).\n",
       "\n",
       "The length-scale parameters and the variance have the corresponding units from  the `x` and `v`. It is therefore often necessary to provide reasonable values  for these default parameters.\n",
       "\n",
       "If the lower bound `minlen` is too small, then you might get the following error:\n",
       "\n",
       "```\n",
       "AmosException with id 4: input argument magnitude too large, complete loss of accuracy by argument reduction.\n",
       "```\n",
       "\n",
       "In these case, increase `minlen`.\n"
      ]
     },
     "execution_count": 5,
     "metadata": {},
     "output_type": "execute_result"
    }
   ],
   "source": [
    "?divand.fit_isotropic"
   ]
  },
  {
   "cell_type": "code",
   "execution_count": 6,
   "metadata": {},
   "outputs": [
    {
     "data": {
      "image/png": "[encoded data removed]",
      "text/plain": [
       "PyPlot.Figure(PyObject <matplotlib.figure.Figure object at 0x7efd5348e890>)"
      ]
     },
     "metadata": {},
     "output_type": "display_data"
    },
    {
     "data": {
      "text/plain": [
       "PyObject Text(0.5,1,u'isotropic fit 2D')"
      ]
     },
     "execution_count": 6,
     "metadata": {},
     "output_type": "execute_result"
    }
   ],
   "source": [
    "# surface values for the month January\n",
    "sel = (depth .> 10) .& Dates.month.(time) .== 1;\n",
    "x = (lon[sel],lat[sel]);\n",
    "v = value[sel] - mean(value[sel]);\n",
    "distbin = 0:0.5:10\n",
    "\n",
    "var0,len,distx,covar,fitcovar = divand.fit_isotropic(x,v,distbin,mincount)\n",
    "\n",
    "\n",
    "figure()\n",
    "plot(distx,covar, label = \"empirical covariance\")\n",
    "plot(distx,fitcovar, label = \"fitted function\")\n",
    "legend()\n",
    "title(\"isotropic fit 2D\")"
   ]
  },
  {
   "cell_type": "markdown",
   "metadata": {},
   "source": [
    "The data from the file `Salinity.bigfile` is already interpolated on z levels which makes it not ideal to explore the vertical correlation.\n",
    "The file `WOD-Salinity-Provencal.nc` is the salinity data from the World Ocean Database for the Provençal Basin (Mediterranean Sea).\n",
    "\n",
    "The resulting correlation length can fluctuate a bit because the correlation is based on a collection of random pairs. Increasing `nmean` can be the estimation of the correlation more robust."
   ]
  },
  {
   "cell_type": "code",
   "execution_count": null,
   "metadata": {},
   "outputs": [],
   "source": [
    "varname = \"Salinity\"\n",
    "filename = \"WOD-Salinity-Provencal.nc\"\n",
    "\n",
    "if !isfile(filename)    \n",
    "    download(\"https://b2drop.eudat.eu/s/UsF3RyU3xB1UM2o/download\",filename)\n",
    "end\n",
    "\n",
    "value,lon,lat,depth,time,ids = divand.loadobs(Float64,filename,\"Salinity\")\n",
    "\n",
    "divand.checkobs((lon,lat,depth,time),value,ids)\n",
    "\n",
    "\n",
    "sel = (Dates.month.(time) .== 1)\n",
    "x = (lon[sel],lat[sel],depth[sel]);\n",
    "v = value[sel]\n",
    "z = [0.,10,100,200,300,400,500,700,1000,1500]\n",
    "\n",
    "\n",
    "srand(1234);\n",
    "@time lenz,infoz = divand.fitvertlen(x,v,z,len0 = 300., nmean = 500, distbin = collect([0.:50:400; 500:100:600]))\n",
    "\n",
    "\n",
    "srand(1234);\n",
    "@time lenxy,infoxy = divand.fithorzlen(x,v,z,len0 = 3., nmean = 500, distbin = collect(0.:0.1:6))\n",
    "\n"
   ]
  }
 ],
 "metadata": {
  "kernelspec": {
   "display_name": "Julia 0.6.2",
   "language": "julia",
   "name": "julia-0.6"
  },
  "language_info": {
   "file_extension": ".jl",
   "mimetype": "application/julia",
   "name": "julia",
   "version": "0.6.2"
  }
 },
 "nbformat": 4,
 "nbformat_minor": 2
}
