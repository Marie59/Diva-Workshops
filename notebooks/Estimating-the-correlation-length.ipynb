{
 "cells": [
  {
   "cell_type": "markdown",
   "metadata": {},
   "source": [
    "# Estimating-the-correlation-length \n",
    "\n",
    "* A central parameter for the DIVAnd analysis is the correlation length\n",
    "* It determines whether two points separated by a given distance are correlated or not\n",
    "* DIVAnd includes several tools to estimate the correlation length\n",
    "* We will start with a 2D case and consider the 3D case"
   ]
  },
  {
   "cell_type": "code",
   "execution_count": 1,
   "metadata": {},
   "outputs": [
    {
     "name": "stderr",
     "output_type": "stream",
     "text": [
      "WARNING: Method definition info(Any...) in module Base at util.jl:534 overwritten in module Logging at /home/abarth/.julia/v0.6/Logging/src/Logging.jl:115.\n",
      "WARNING: Method definition warn(Any...) in module Base at util.jl:589 overwritten in module Logging at /home/abarth/.julia/v0.6/Logging/src/Logging.jl:115.\n",
      "WARNING: Method definition (::Type{divand.Vocab.CFVocab})(Any) in module Vocab at /home/abarth/.julia/v0.6/divand/src/Vocab.jl:22 overwritten at /home/abarth/.julia/v0.6/divand/src/Vocab.jl:46.\n"
     ]
    }
   ],
   "source": [
    "using Base.Test\n",
    "import divand\n",
    "using PyPlot"
   ]
  },
  {
   "cell_type": "markdown",
   "metadata": {},
   "source": [
    "Download the file `Salinity.bigfile` (if it is not already present). It will be placed in the same directory as this notebook. This file based on the World Ocean Database."
   ]
  },
  {
   "cell_type": "code",
   "execution_count": 2,
   "metadata": {},
   "outputs": [],
   "source": [
    "fname = \"Salinity.bigfile\"\n",
    "\n",
    "if !isfile(fname)\n",
    "    download(\"https://b2drop.eudat.eu/s/Bv9Fj0YGC0zp2vn/download\",fname)\n",
    "else\n",
    "    info(\"Data file already downloaded\")\n",
    "end"
   ]
  },
  {
   "cell_type": "markdown",
   "metadata": {},
   "source": [
    "Load the data"
   ]
  },
  {
   "cell_type": "code",
   "execution_count": 3,
   "metadata": {},
   "outputs": [],
   "source": [
    "value,lon,lat,depth,time,ids = divand.loadbigfile(fname);"
   ]
  },
  {
   "cell_type": "markdown",
   "metadata": {},
   "source": [
    "`mincount` is the minimum number of observations per distance bin and the call to `srand` ensures a reproducible sequence of random numbers.\n"
   ]
  },
  {
   "cell_type": "code",
   "execution_count": 4,
   "metadata": {},
   "outputs": [],
   "source": [
    "mincount = 10000\n",
    "srand(12345); # this can be any number"
   ]
  },
  {
   "cell_type": "markdown",
   "metadata": {},
   "source": [
    "## 2D case\n",
    "\n",
    "* First lets consider only the data on a 2D surface (longitude and latitude)\n",
    "* We use the function `divand.fit_isotropic`\n"
   ]
  },
  {
   "cell_type": "code",
   "execution_count": 5,
   "metadata": {},
   "outputs": [
    {
     "data": {
      "text/markdown": [
       "```\n",
       "var0,len,distx,covar,fitcovar = fit_isotropic(x,v,distbin,mincount;\n",
       "                           alpha = divand.alpha_default(length(x)),\n",
       "                           len = 1.,\n",
       "                           var0 = 1.,\n",
       "                           minlen = 0.,\n",
       "                           maxlen = 10.,\n",
       "                           minvar0 = 0.,\n",
       "                           maxvar0 = 10.,\n",
       "                           tolrel = 1e-4,\n",
       "                           maxpoints = 10000,\n",
       "                           distfun = (xi,xj) -> sqrt(sum(abs2,xi-xj))),\n",
       "                           progress = (iter,var,len,fitness) -> nothing\n",
       "                       )\n",
       "```\n",
       "\n",
       "Determines the optimal correlation length `len` and variance (for a separation distance approaching zero) `var0` of a cloud of data points with value `v` and coordiantes `x` (tuple of vectors with the coordinates).\n",
       "\n",
       "The function can find the solution corresponding to  a local minimum which is not necessarily the global minimum.\n",
       "\n",
       "See also `empiriccovar` for future information about the output parameters.\n",
       "\n",
       "Optional input parameters:\n",
       "\n",
       "  * `alpha`: if one correlation length is forced to zero during the anaylsis the values of alpha sould be set using the effective dimension. For example, if a 2D-analysis is simulated by forcing the vertical correlation length to zero, then alpha should be set to `[1,2,1]`, otherwise alpha will be `[1,3,3,1]` (for for any proper 3D analysis).\n",
       "  * `len`: initial value for the correlation length\n",
       "  * `var0`: initial value of the variance\n",
       "  * `minlen`, `maxlen`: minimum and maximum value for the correlation length\n",
       "  * `minvar0`, `maxvar0`: minimum and maximum value for the variance\n",
       "  * `tolrel`: relative tolerance for the optimizer\n",
       "  * `maxpoints`: maximum number of data points considered\n",
       "  * `distfun`: function to compute the distance between point `xi` (vector) and  `xj`. Per default `distun` is the Eucedian distance `(xi,xj) -> sqrt(sum(abs2,xi-xj)))`.\n",
       "  * `progress`: call-back function to show the progress of the optimization with the input parameters `iter`, `var`, `len` and `fitness` (all scalars).\n",
       "\n",
       "The length-scale parameters and the variance have the corresponding units from the `x` and `v`. It is therefore often necessary to provide reasonable values for these default parameters.\n",
       "\n",
       "If the lower bound `minlen` is too small, then you might get the following error:\n",
       "\n",
       "```\n",
       "AmosException with id 4: input argument magnitude too large, complete loss of accuracy by argument reduction.\n",
       "```\n",
       "\n",
       "In these case, increase `minlen`.\n"
      ],
      "text/plain": [
       "```\n",
       "var0,len,distx,covar,fitcovar = fit_isotropic(x,v,distbin,mincount;\n",
       "                           alpha = divand.alpha_default(length(x)),\n",
       "                           len = 1.,\n",
       "                           var0 = 1.,\n",
       "                           minlen = 0.,\n",
       "                           maxlen = 10.,\n",
       "                           minvar0 = 0.,\n",
       "                           maxvar0 = 10.,\n",
       "                           tolrel = 1e-4,\n",
       "                           maxpoints = 10000,\n",
       "                           distfun = (xi,xj) -> sqrt(sum(abs2,xi-xj))),\n",
       "                           progress = (iter,var,len,fitness) -> nothing\n",
       "                       )\n",
       "```\n",
       "\n",
       "Determines the optimal correlation length `len` and variance (for a separation distance approaching zero) `var0` of a cloud of data points with value `v` and coordiantes `x` (tuple of vectors with the coordinates).\n",
       "\n",
       "The function can find the solution corresponding to  a local minimum which is not necessarily the global minimum.\n",
       "\n",
       "See also `empiriccovar` for future information about the output parameters.\n",
       "\n",
       "Optional input parameters:\n",
       "\n",
       "  * `alpha`: if one correlation length is forced to zero during the anaylsis the values of alpha sould be set using the effective dimension. For example, if a 2D-analysis is simulated by forcing the vertical correlation length to zero, then alpha should be set to `[1,2,1]`, otherwise alpha will be `[1,3,3,1]` (for for any proper 3D analysis).\n",
       "  * `len`: initial value for the correlation length\n",
       "  * `var0`: initial value of the variance\n",
       "  * `minlen`, `maxlen`: minimum and maximum value for the correlation length\n",
       "  * `minvar0`, `maxvar0`: minimum and maximum value for the variance\n",
       "  * `tolrel`: relative tolerance for the optimizer\n",
       "  * `maxpoints`: maximum number of data points considered\n",
       "  * `distfun`: function to compute the distance between point `xi` (vector) and  `xj`. Per default `distun` is the Eucedian distance `(xi,xj) -> sqrt(sum(abs2,xi-xj)))`.\n",
       "  * `progress`: call-back function to show the progress of the optimization with the input parameters `iter`, `var`, `len` and `fitness` (all scalars).\n",
       "\n",
       "The length-scale parameters and the variance have the corresponding units from the `x` and `v`. It is therefore often necessary to provide reasonable values for these default parameters.\n",
       "\n",
       "If the lower bound `minlen` is too small, then you might get the following error:\n",
       "\n",
       "```\n",
       "AmosException with id 4: input argument magnitude too large, complete loss of accuracy by argument reduction.\n",
       "```\n",
       "\n",
       "In these case, increase `minlen`.\n"
      ]
     },
     "execution_count": 5,
     "metadata": {},
     "output_type": "execute_result"
    }
   ],
   "source": [
    "?divand.fit_isotropic"
   ]
  },
  {
   "cell_type": "code",
   "execution_count": 6,
   "metadata": {},
   "outputs": [
    {
     "data": {
      "image/png": "[encoded data removed]",
      "text/plain": [
       "PyPlot.Figure(PyObject <matplotlib.figure.Figure object at 0x7fa4236c0890>)"
      ]
     },
     "metadata": {},
     "output_type": "display_data"
    },
    {
     "data": {
      "text/plain": [
       "PyObject Text(0.5,1,u'isotropic fit 2D')"
      ]
     },
     "execution_count": 6,
     "metadata": {},
     "output_type": "execute_result"
    }
   ],
   "source": [
    "# surface values for the month January\n",
    "sel = (depth .> 10) .& Dates.month.(time) .== 1;\n",
    "x = (lon[sel],lat[sel]);\n",
    "v = value[sel] - mean(value[sel]);\n",
    "distbin = 0:0.5:10\n",
    "\n",
    "var0,len,distx,covar,fitcovar = divand.fit_isotropic(x,v,distbin,mincount)\n",
    "\n",
    "\n",
    "figure()\n",
    "plot(distx,covar, label = \"empirical covariance\")\n",
    "plot(distx,fitcovar, label = \"fitted function\")\n",
    "legend()\n",
    "title(\"isotropic fit 2D\")"
   ]
  },
  {
   "cell_type": "markdown",
   "metadata": {},
   "source": [
    "The data from the file `Salinity.bigfile` is already interpolated on z levels which makes it not ideal to explore the vertical correlation.\n",
    "The file `WOD-Salinity-Provencal.nc` is the salinity data from the World Ocean Database for the Provençal Basin (Mediterranean Sea).\n",
    "\n",
    "The resulting correlation length can fluctuate a bit because the correlation is based on a collection of random pairs. Increasing `nmean` can be the estimation of the correlation more robust."
   ]
  },
  {
   "cell_type": "code",
   "execution_count": 7,
   "metadata": {},
   "outputs": [
    {
     "name": "stderr",
     "output_type": "stream",
     "text": [
      "  % Total    % Received % Xferd  Average Speed   Time    Time     Time  Current\n",
      "                                 Dload  Upload   Total   Spent    Left  Speed\n",
      "100 14.8M  100 14.8M    0     0  12.4M      0  0:00:01  0:00:01 --:--:-- 12.4M\n"
     ]
    },
    {
     "name": "stdout",
     "output_type": "stream",
     "text": [
      "              minimum and maximum of obs. dimension 1: (3.0418334007263184, 11.8100004196167)\n",
      "              minimum and maximum of obs. dimension 2: (42.0, 44.0)\n",
      "              minimum and maximum of obs. dimension 3: (-0.0, 2762.0)\n",
      "              minimum and maximum of obs. dimension 4: (1892-09-25T00:00:00, 2017-10-02T06:14:02.761)\n",
      "                          minimum and maximum of data: (0.25, 40.0)\n",
      "Data points at z=0.0: 225570, correlation length: 125.52341791847239\n",
      "Data points at z=10.0: 225570, correlation length: 128.19452551089927\n",
      "Data points at z=100.0: 225570, correlation length: 109.77800992089506\n",
      "Data points at z=200.0: 225570, correlation length: 58.888888888888935\n",
      "Data points at z=300.0: 225570, correlation length: 195.59670781892987\n",
      "Data points at z=400.0: 225570, correlation length: 74.30218970684598\n",
      "Data points at z=500.0: 225570, correlation length: 104.62581923488956\n",
      "Data points at z=700.0: 225570, correlation length: 124.07407407407405\n",
      "Data points at z=1000.0: 225570, correlation length: 384.8148148148147\n",
      "Data points at z=1500.0: 225570, correlation length: 328.68312757201636\n",
      "106.252109 seconds (1.25 G allocations: 100.926 GiB, 21.93% gc time)\n",
      "Data points at z=0.0: 86141, correlation length: 0.11819169636548815\n",
      "Data points at z=10.0: 87901, correlation length: 0.11451640211903202\n",
      "Data points at z=100.0: 101834, correlation length: 0.11660557698671484\n",
      "Data points at z=200.0: 114742, correlation length: 0.10703331246445655\n",
      "Data points at z=300.0: 125816, correlation length: 0.10130933616324592\n",
      "Data points at z=400.0: 102006, correlation length: 0.10000000000000009\n",
      "Data points at z=500.0: 83943, correlation length: 0.10000000000000034\n",
      "Data points at z=700.0: 64682, correlation length: 0.24674592287760785\n",
      "Data points at z=1000.0: 47423, correlation length: 0.2259716506630111\n",
      "Data points at z=1500.0: 30885, correlation length: 0.12541260459711778\n",
      "252.313632 seconds (556.20 M allocations: 419.071 GiB, 24.94% gc time)\n"
     ]
    },
    {
     "data": {
      "text/plain": [
       "([0.114687, 0.114661, 0.113213, 0.107937, 0.10359, 0.104519, 0.118753, 0.232852, 0.224106, 0.127386], Dict{Symbol,Any}(Pair{Symbol,Any}(:fitcovar, [0.0126372 0.0120362 … 0.000675548 0.000865838; 0.00725346 0.00674988 … 0.000536109 0.000517942; … ; 4.15198e-23 8.26163e-24 … 2.63468e-14 4.71597e-23; 1.79652e-23 3.47898e-24 … 1.70654e-14 2.1424e-23]),Pair{Symbol,Any}(:covar, [0.0114935 0.0111442 … 0.00319393 0.00619213; 0.00834035 0.00804067 … 0.000299024 -0.000351238; … ; -0.00399266 -0.00463854 … -0.00648836 -0.00368318; -0.00749096 5.1458e-5 … -0.0083332 -0.0043064]),Pair{Symbol,Any}(:stdcovar, [0.00298006 0.00269624 … 0.00269881 0.00280859; 0.00227058 0.00229667 … 0.000190241 0.000252162; … ; 0.0179786 0.0201399 … 0.0061593 0.00377685; 0.0349846 0.108149 … 0.00806418 0.00476596]),Pair{Symbol,Any}(:len, [0.118192, 0.114516, 0.116606, 0.107033, 0.101309, 0.1, 0.1, 0.246746, 0.225972, 0.125413]),Pair{Symbol,Any}(:distx, [0.05, 0.15, 0.25, 0.35, 0.45, 0.55, 0.65, 0.75, 0.85, 0.95  …  5.05, 5.15, 5.25, 5.35, 5.45, 5.55, 5.65, 5.75, 5.85, 5.95]),Pair{Symbol,Any}(:var0, [0.0146364, 0.0140401, 0.0118494, 0.0107518, 0.00971263, 0.00405195, 0.000908672, 0.00104684, 0.00071293, 0.000990289])))"
      ]
     },
     "execution_count": 7,
     "metadata": {},
     "output_type": "execute_result"
    }
   ],
   "source": [
    "varname = \"Salinity\"\n",
    "filename = \"WOD-Salinity-Provencal.nc\"\n",
    "\n",
    "if !isfile(filename)    \n",
    "    download(\"https://b2drop.eudat.eu/s/UsF3RyU3xB1UM2o/download\",filename)\n",
    "end\n",
    "\n",
    "value,lon,lat,depth,time,ids = divand.loadobs(Float64,filename,\"Salinity\")\n",
    "\n",
    "divand.checkobs((lon,lat,depth,time),value,ids)\n",
    "\n",
    "\n",
    "sel = (Dates.month.(time) .== 1)\n",
    "x = (lon[sel],lat[sel],depth[sel]);\n",
    "v = value[sel]\n",
    "z = [0.,10,100,200,300,400,500,700,1000,1500]\n",
    "\n",
    "\n",
    "srand(1234);\n",
    "@time lenz,infoz = divand.fitvertlen(x,v,z,len0 = 300., nmean = 500, distbin = collect([0.:50:400; 500:100:600]))\n",
    "\n",
    "\n",
    "srand(1234);\n",
    "@time lenxy,infoxy = divand.fithorzlen(x,v,z,len0 = 3., nmean = 500, distbin = collect(0.:0.1:6))\n",
    "\n"
   ]
  },
  {
   "cell_type": "code",
   "execution_count": null,
   "metadata": {},
   "outputs": [],
   "source": []
  }
 ],
 "metadata": {
  "kernelspec": {
   "display_name": "Julia 0.6.2",
   "language": "julia",
   "name": "julia-0.6"
  },
  "language_info": {
   "file_extension": ".jl",
   "mimetype": "application/julia",
   "name": "julia",
   "version": "0.6.2"
  },
  "nbdime-conflicts": {
   "local_diff": [
    {
     "diff": [
      {
       "diff": [
        {
         "diff": [
          {
           "key": 10,
           "op": "addrange",
           "valuelist": "2"
          },
          {
           "key": 10,
           "length": 1,
           "op": "removerange"
          }
         ],
         "key": 0,
         "op": "patch"
        }
       ],
       "key": "display_name",
       "op": "patch"
      }
     ],
     "key": "kernelspec",
     "op": "patch"
    },
    {
     "diff": [
      {
       "diff": [
        {
         "diff": [
          {
           "key": 4,
           "op": "addrange",
           "valuelist": "2"
          },
          {
           "key": 4,
           "length": 1,
           "op": "removerange"
          }
         ],
         "key": 0,
         "op": "patch"
        }
       ],
       "key": "version",
       "op": "patch"
      }
     ],
     "key": "language_info",
     "op": "patch"
    }
   ],
   "remote_diff": [
    {
     "diff": [
      {
       "diff": [
        {
         "diff": [
          {
           "key": 10,
           "op": "addrange",
           "valuelist": "0"
          },
          {
           "key": 10,
           "length": 1,
           "op": "removerange"
          }
         ],
         "key": 0,
         "op": "patch"
        }
       ],
       "key": "display_name",
       "op": "patch"
      }
     ],
     "key": "kernelspec",
     "op": "patch"
    },
    {
     "diff": [
      {
       "diff": [
        {
         "diff": [
          {
           "key": 4,
           "op": "addrange",
           "valuelist": "0"
          },
          {
           "key": 4,
           "length": 1,
           "op": "removerange"
          }
         ],
         "key": 0,
         "op": "patch"
        }
       ],
       "key": "version",
       "op": "patch"
      }
     ],
     "key": "language_info",
     "op": "patch"
    }
   ]
  }
 },
 "nbformat": 4,
 "nbformat_minor": 2
}
