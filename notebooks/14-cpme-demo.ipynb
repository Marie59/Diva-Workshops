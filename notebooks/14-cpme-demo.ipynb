{
 "cells": [
  {
   "cell_type": "markdown",
   "metadata": {},
   "source": [
    "# Error fields\n",
    "This notebook illustrates the error field computation using different techniques, including the so-called *Clever Poor Man's Error* (CPME) method."
   ]
  },
  {
   "cell_type": "code",
   "execution_count": null,
   "metadata": {},
   "outputs": [],
   "source": [
    "using DIVAnd\n",
    "using PyPlot\n",
    "if VERSION >= v\"0.7.0-beta.0\"\n",
    "    using Dates\n",
    "    using Statistics\n",
    "else\n",
    "    using Compat: @info, @warn, @debug\n",
    "end\n",
    "using Compat"
   ]
  },
  {
   "cell_type": "markdown",
   "metadata": {},
   "source": [
    "## Data reading\n",
    "Download the file (it not already done) and read it."
   ]
  },
  {
   "cell_type": "code",
   "execution_count": null,
   "metadata": {},
   "outputs": [],
   "source": [
    "varname = \"Salinity\"\n",
    "filename = \"data/WOD-Salinity-Provencal.nc\"\n",
    "\n",
    "if !isfile(filename)    \n",
    "    download(\"https://b2drop.eudat.eu/s/UsF3RyU3xB1UM2o/download\",filename)\n",
    "else \n",
    "    @info \"File already downloaded\"\n",
    "end"
   ]
  },
  {
   "cell_type": "code",
   "execution_count": null,
   "metadata": {
    "collapsed": true
   },
   "outputs": [],
   "source": [
    "obsval,obslon,obslat,obsdepth,obstime,obsid = loadobs(Float64,filename,\"Salinity\");"
   ]
  },
  {
   "cell_type": "markdown",
   "metadata": {},
   "source": [
    "## Topography and grid definition\n",
    "See the notebook on [bathymetry](06-topography.ipynb) for more explanations.\n",
    "\n",
    "Define domain and resolution, create the domain."
   ]
  },
  {
   "cell_type": "code",
   "execution_count": null,
   "metadata": {
    "collapsed": true
   },
   "outputs": [],
   "source": [
    "dx = dy = 0.125/2.\n",
    "lonr = 2.5:dx:12.\n",
    "latr = 42.3:dy:44.6\n",
    "\n",
    "mask,(pm,pn),(xi,yi) = DIVAnd_rectdom(lonr,latr);"
   ]
  },
  {
   "cell_type": "markdown",
   "metadata": {},
   "source": [
    "Download the bathymetry file and load it."
   ]
  },
  {
   "cell_type": "code",
   "execution_count": null,
   "metadata": {},
   "outputs": [],
   "source": [
    "bathname = \"data/gebco_30sec_4.nc\"\n",
    "if !isfile(bathname)\n",
    "    download(\"https://b2drop.eudat.eu/s/ACcxUEZZi6a4ziR/download\",bathname)\n",
    "else\n",
    "    @info(\"Bathymetry file already downloaded\")\n",
    "end"
   ]
  },
  {
   "cell_type": "code",
   "execution_count": null,
   "metadata": {},
   "outputs": [],
   "source": [
    "bx,by,b = load_bath(bathname,true,lonr,latr);"
   ]
  },
  {
   "cell_type": "markdown",
   "metadata": {},
   "source": [
    "Create a land-sea mask based on the bathymetry."
   ]
  },
  {
   "cell_type": "code",
   "execution_count": null,
   "metadata": {
    "collapsed": true
   },
   "outputs": [],
   "source": [
    "mask = falses(size(b,1),size(b,2))\n",
    "\n",
    "for j = 1:size(b,2)\n",
    "    for i = 1:size(b,1)\n",
    "        mask[i,j] = b[i,j] >=1.0\n",
    "    end\n",
    "end"
   ]
  },
  {
   "cell_type": "markdown",
   "metadata": {},
   "source": [
    "## Data selection for example\n",
    "\n",
    "Cross validation, error calculations etc. assume independant data. Hence do not take high-resolution vertical profiles with all data but restrict yourself to specific small depth range. Here we limit outselves to August data at surface:"
   ]
  },
  {
   "cell_type": "code",
   "execution_count": null,
   "metadata": {},
   "outputs": [],
   "source": [
    "sel = (obsdepth .< 1) .& (Dates.month.(obstime) .== 8)\n",
    "\n",
    "obsval = obsval[sel]\n",
    "obslon = obslon[sel]\n",
    "obslat = obslat[sel]\n",
    "obsdepth = obsdepth[sel]\n",
    "obstime = obstime[sel]\n",
    "obsid = obsid[sel];\n",
    "@show (size(obsval))\n",
    "checkobs((obslon,obslat,obsdepth,obstime),obsval,obsid)"
   ]
  },
  {
   "cell_type": "markdown",
   "metadata": {
    "collapsed": true
   },
   "source": [
    "### Analysis\n",
    "Analysis parameters have been calibrated in the other notebook [13-processing-parameter-optimization example.ipynb](13-processing-parameter-optimization). \n",
    "\n",
    "**WARNING:** if the statistical parameters are incorrectly estimated, the error fields are meaningless and only provide an idea of data coverage.\n",
    "\n",
    "The analysis parameters are:"
   ]
  },
  {
   "cell_type": "code",
   "execution_count": null,
   "metadata": {
    "collapsed": true
   },
   "outputs": [],
   "source": [
    "len=0.3\n",
    "epsilon2=1.0;"
   ]
  },
  {
   "cell_type": "markdown",
   "metadata": {},
   "source": [
    "Analysis `fi` using mean data as background.    \n",
    "Structure `s` is stored for later use in error calculation."
   ]
  },
  {
   "cell_type": "code",
   "execution_count": null,
   "metadata": {},
   "outputs": [],
   "source": [
    "fi,s = DIVAndrun(mask,(pm,pn),(xi,yi),(obslon,obslat),obsval.-mean(obsval),len,epsilon2);"
   ]
  },
  {
   "cell_type": "markdown",
   "metadata": {},
   "source": [
    "Create a simple plot of the analysis"
   ]
  },
  {
   "cell_type": "code",
   "execution_count": null,
   "metadata": {},
   "outputs": [],
   "source": [
    "pcolor(xi,yi,fi.+mean(obsval),vmin=37,vmax=38.5);\n",
    "colorbar(orientation=\"horizontal\")\n",
    "gca()[:set_aspect](1/cos(mean([ylim()...]) * pi/180))"
   ]
  },
  {
   "cell_type": "markdown",
   "metadata": {},
   "source": [
    "## Exact error and approximations\n",
    "\n",
    "Details can be found in the publication:\n",
    "\n",
    "Approximate and Efficient Methods to Assess Error Fields in Spatial Gridding with Data Interpolating Variational Analysis (DIVA) Beckers, Jean-Marie; Barth, Alexander;  Troupin, Charles, Alvera-Azcarate, A.  *Journal of Atmospheric & Oceanic Technology* (2014), **31(2)**, 515-530     \n",
    "https://orbi.uliege.be/handle/2268/161069      \n",
    "https://journals.ametsoc.org/doi/abs/10.1175/JTECH-D-13-00130.1"
   ]
  },
  {
   "cell_type": "markdown",
   "metadata": {},
   "source": [
    "In the 2D case you can try to calculate the exact error expression. This demands the computationally expensive evaluation of `diag(s.P)` accessible via the analysis returned structure `s`. This is only available with `DIVAndrun`."
   ]
  },
  {
   "cell_type": "code",
   "execution_count": null,
   "metadata": {},
   "outputs": [],
   "source": [
    "cmaperror = ColorMap(\"hot_r\");\n",
    "exerr,= statevector_unpack(s.sv,diag(s.P))\n",
    "exerr[find(x -> x == false,mask)]=NaN\n",
    "\n",
    "pcolor(xi,yi,exerr,vmin=0, vmax=1.5, cmap=cmaperror);\n",
    "colorbar(orientation=\"horizontal\")\n",
    "gca()[:set_aspect](1/cos(mean([ylim()...]) * pi/180))\n",
    "title(\"Unscaled error\");"
   ]
  },
  {
   "cell_type": "markdown",
   "metadata": {},
   "source": [
    "Relative error by scaling with background variance `Berr` estimated using data with high errors"
   ]
  },
  {
   "cell_type": "code",
   "execution_count": null,
   "metadata": {},
   "outputs": [],
   "source": [
    "epsilon2huge=1E6\n",
    "fib,sb = DIVAndrun(mask,(pm,pn),(xi,yi),(obslon,obslat),obsval,len,epsilon2huge);\n",
    "Berr,= statevector_unpack(sb.sv,diag(sb.P))"
   ]
  },
  {
   "cell_type": "code",
   "execution_count": null,
   "metadata": {},
   "outputs": [],
   "source": [
    "figure()\n",
    "pcolor(xi,yi,exerr./Berr,vmin=0, vmax=1.5, cmap=cmaperror);\n",
    "colorbar(orientation=\"horizontal\")\n",
    "gca()[:set_aspect](1/cos(mean([ylim()...]) * pi/180))\n",
    "title(\"Scaled error\");"
   ]
  },
  {
   "cell_type": "markdown",
   "metadata": {},
   "source": [
    "Now *clever poor man's error*.     \n",
    "Usage as for `DIVAndrun`."
   ]
  },
  {
   "cell_type": "code",
   "execution_count": null,
   "metadata": {},
   "outputs": [],
   "source": [
    "cpme = DIVAnd_cpme(mask,(pm,pn),(xi,yi),(obslon,obslat),obsval,len,epsilon2)\n",
    "\n",
    "pcolor(xi,yi,cpme,vmin=0, vmax=1.5, cmap=cmaperror);\n",
    "colorbar(orientation=\"horizontal\")\n",
    "gca()[:set_aspect](1/cos(mean([ylim()...]) * pi/180))\n",
    "title(\"Clever poor man's error\");"
   ]
  },
  {
   "cell_type": "markdown",
   "metadata": {},
   "source": [
    "Do you see any difference between the exact and clever poor man's error ? \n",
    "## Difference between error fields\n",
    "We also overlay the data positions."
   ]
  },
  {
   "cell_type": "code",
   "execution_count": null,
   "metadata": {},
   "outputs": [],
   "source": [
    "pcolor(xi,yi,cpme-exerr./Berr,vmin=-0.2, vmax=0.2, cmap=\"RdBu_r\");\n",
    "colorbar(orientation=\"horizontal\")\n",
    "plot(obslon, obslat, \"k.\", markersize=.5)\n",
    "gca()[:set_aspect](1/cos(mean([ylim()...]) * pi/180))\n",
    "title(\"Error on error\");"
   ]
  },
  {
   "cell_type": "markdown",
   "metadata": {},
   "source": [
    "Another approximation to the error field: AEXERR"
   ]
  },
  {
   "cell_type": "code",
   "execution_count": null,
   "metadata": {},
   "outputs": [],
   "source": [
    "myerr,bjmb,fa,sa = DIVAnd_aexerr(mask,(pm,pn),(xi,yi),(obslon,obslat),obsval,len,epsilon2)\n",
    "if myerr==0\n",
    "    error(\"No need to approximate error, use direct calculation\")\n",
    "else\n",
    "    pcolor(xi,yi,myerr,vmin=0, vmax=1.5, cmap=cmaperror);\n",
    "    colorbar(orientation=\"horizontal\")\n",
    "    gca()[:set_aspect](1/cos(mean([ylim()...]) * pi/180))\n",
    "    title(\"Unscaled almost exact error\");\n",
    "end"
   ]
  },
  {
   "cell_type": "markdown",
   "metadata": {},
   "source": [
    "Scaled AXERR error"
   ]
  },
  {
   "cell_type": "code",
   "execution_count": null,
   "metadata": {},
   "outputs": [],
   "source": [
    "if myerr==0\n",
    "    error(\"No need to approximate error, use direct calculation\")\n",
    "else\n",
    "    pcolor(xi,yi,myerr./bjmb,vmin=0, vmax=1.5, cmap=cmaperror);\n",
    "    colorbar(orientation=\"horizontal\")\n",
    "    gca()[:set_aspect](1/cos(mean([ylim()...]) * pi/180))\n",
    "    title(\"Scaled almost exact error\");\n",
    "end"
   ]
  },
  {
   "cell_type": "markdown",
   "metadata": {},
   "source": [
    "# Exercise \n",
    "1. Modify the (L, $\\epsilon^2$) parameters.\n",
    "2. Re-run the analysis.\n",
    "3. See how the error field behaves."
   ]
  },
  {
   "cell_type": "markdown",
   "metadata": {},
   "source": [
    "# Conclusion\n",
    "In view of the uncertainties on statistical parameters (L, $\\epsilon^2$), the *clever poor man's error* is generally a sufficient approximation for the error fields. This is the one implemented in the DIVAndgo high-level analysis function. "
   ]
  }
 ],
 "metadata": {
  "anaconda-cloud": {},
  "kernelspec": {
   "display_name": "Julia 1.0.0",
   "language": "julia",
   "name": "julia-1.0"
  },
  "language_info": {
   "file_extension": ".jl",
   "mimetype": "application/julia",
   "name": "julia",
   "version": "1.0.0"
  }
 },
 "nbformat": 4,
 "nbformat_minor": 1
}
