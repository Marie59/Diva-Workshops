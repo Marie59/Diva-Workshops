{
 "cells": [
  {
   "cell_type": "markdown",
   "metadata": {
    "slideshow": {
     "slide_type": "slide"
    }
   },
   "source": [
    "# DIVAnd full analysis\n",
    "\n",
    "This notebook presents the different steps necessary for the creation of a climatology:\n",
    "1. ODV data reading.\n",
    "2. Extraction of bathymetry and creation of mask\n",
    "3. Data download from other sources and duplicate removal.\n",
    "4. Quality control.\n",
    "5. Parameter optimisation.\n",
    "6. Spatio-temporal interpolation with `DIVAnd`."
   ]
  },
  {
   "cell_type": "code",
   "execution_count": 10,
   "metadata": {
    "slideshow": {
     "slide_type": "subslide"
    }
   },
   "outputs": [],
   "source": [
    "using NCDatasets\n",
    "using PhysOcean\n",
    "using DataStructures\n",
    "using DIVAnd\n",
    "using PyPlot\n",
    "using Dates\n",
    "using Statistics\n",
    "using Random\n",
    "using Printf\n"
   ]
  },
  {
   "cell_type": "markdown",
   "metadata": {
    "slideshow": {
     "slide_type": "subslide"
    }
   },
   "source": [
    "This notebook uses the module DIVAnd \n",
    "\n",
    "[![DOI](https://zenodo.org/badge/DOI/10.5281/zenodo.1466985.svg)](https://doi.org/10.5281/zenodo.1466985)"
   ]
  },
  {
   "cell_type": "markdown",
   "metadata": {
    "slideshow": {
     "slide_type": "subslide"
    }
   },
   "source": [
    "## Configuration\n",
    "* Define the horizontal, vertical and temporal resolutions.\n",
    "* Select the variable"
   ]
  },
  {
   "cell_type": "code",
   "execution_count": 98,
   "metadata": {
    "slideshow": {
     "slide_type": "subslide"
    }
   },
   "outputs": [],
   "source": [
    "dx, dy = 0.125, 0.125\n",
    "lonr = 11.5:dx:20\n",
    "latr = 39:dy:46\n",
    "timerange = [Date(1950,1,1),Date(2017,12,31)];\n",
    "\n",
    "depthr = [0.,5., 10., 15., 20., 25., 30., 40., 50., 66, \n",
    "    75, 85, 100, 112, 125, 135, 150, 175, 200, 225, 250, \n",
    "    275, 300, 350, 400, 450, 500, 550, 600, 650, 700, 750, \n",
    "    800, 850, 900, 950, 1000, 1050, 1100, 1150, 1200, 1250, \n",
    "    1300, 1350, 1400, 1450, 1500, 1600, 1750, 1850, 2000];\n",
    "depthr = [0.,10.,20.];"
   ]
  },
  {
   "cell_type": "code",
   "execution_count": 12,
   "metadata": {
    "slideshow": {
     "slide_type": "fragment"
    }
   },
   "outputs": [],
   "source": [
    "varname = \"Salinity\"\n",
    "yearlist = [1900:2017];\n",
    "monthlist = [[1,2,3],[4,5,6],[7,8,9],[10,11,12]];"
   ]
  },
  {
   "cell_type": "code",
   "execution_count": 13,
   "metadata": {
    "slideshow": {
     "slide_type": "subslide"
    }
   },
   "outputs": [
    {
     "name": "stdout",
     "output_type": "stream",
     "text": [
      "TS = TimeSelectorYearListMonthList{Array{UnitRange{Int64},1},Array{Array{Int64,1},1}}(UnitRange{Int64}[1900:2017], Array{Int64,1}[[1, 2, 3], [4, 5, 6], [7, 8, 9], [10, 11, 12]])\n"
     ]
    }
   ],
   "source": [
    "TS = DIVAnd.TimeSelectorYearListMonthList(yearlist,monthlist);\n",
    "@show TS;"
   ]
  },
  {
   "cell_type": "markdown",
   "metadata": {
    "slideshow": {
     "slide_type": "slide"
    }
   },
   "source": [
    "## 1. Read your ODV file\n",
    "Adapt the `datadir` and `datafile` values.     \n",
    "The example is based on a sub-setting of the [Mediterranean Sea](https://www.seadatanet.org/Products#/metadata/cd552057-b604-4004-b838-a4f73cc98fcf) aggregated dataset.\n",
    "<img src=\"./Images/MedSeaAggreg.jpg\" width=\"450px\">"
   ]
  },
  {
   "cell_type": "code",
   "execution_count": 14,
   "metadata": {},
   "outputs": [],
   "source": [
    "datadir = \"./Adriatic/\"\n",
    "smalldatafile = joinpath(datadir, \"AdriaticSea_SDC_1000.txt\")\n",
    "datafile = joinpath(datadir, \"AdriaticSea_SDC.txt\")\n",
    "if !isdir(datadir)\n",
    "    @info(\"Creating data directory\")\n",
    "    mkdir(datadir) \n",
    "end"
   ]
  },
  {
   "cell_type": "markdown",
   "metadata": {},
   "source": [
    "Download the data files (test and full) if needed."
   ]
  },
  {
   "cell_type": "code",
   "execution_count": 15,
   "metadata": {
    "slideshow": {
     "slide_type": "fragment"
    }
   },
   "outputs": [
    {
     "name": "stderr",
     "output_type": "stream",
     "text": [
      "┌ Info: Data file already downloaded\n",
      "└ @ Main In[15]:5\n",
      "┌ Info: Data file already downloaded\n",
      "└ @ Main In[15]:12\n"
     ]
    }
   ],
   "source": [
    "if !isfile(smalldatafile)\n",
    "    @info(\"Downloading test data file (1000 lines)\")\n",
    "    download(\"https://dox.ulg.ac.be/index.php/s/FtJdbLDk11buP47/download\", smalldatafile)\n",
    "else\n",
    "    @info(\"Data file already downloaded\")\n",
    "end\n",
    "\n",
    "if !isfile(datafile)\n",
    "    @info(\"Downloading data file\")\n",
    "    download(\"https://dox.ulg.ac.be/index.php/s/A4Eu9nEoovYLtGr/download\", datafile)\n",
    "else\n",
    "    @info(\"Data file already downloaded\")\n",
    "end"
   ]
  },
  {
   "cell_type": "code",
   "execution_count": null,
   "metadata": {},
   "outputs": [],
   "source": []
  },
  {
   "cell_type": "markdown",
   "metadata": {
    "slideshow": {
     "slide_type": "subslide"
    }
   },
   "source": [
    "⌛⌛    \n",
    "Depending on the size of your file, this step can take up to a few minutes.     \n",
    "You can try and test first on the small file, this should take less than 10 seconds (the 1st time)."
   ]
  },
  {
   "cell_type": "code",
   "execution_count": 16,
   "metadata": {},
   "outputs": [
    {
     "name": "stderr",
     "output_type": "stream",
     "text": [
      "┌ Info: Reading data from file ./Adriatic/AdriaticSea_SDC_1000.txt\n",
      "└ @ DIVAnd.ODVspreadsheet /home/abarth/projects/Julia/DIVAnd.jl/src/ODVspreadsheet.jl:81\n",
      "┌ Info: No. of profiles in the file: 79\n",
      "└ @ DIVAnd.ODVspreadsheet /home/abarth/projects/Julia/DIVAnd.jl/src/ODVspreadsheet.jl:250\n"
     ]
    },
    {
     "name": "stdout",
     "output_type": "stream",
     "text": [
      "  2.205246 seconds (9.41 M allocations: 441.057 MiB, 8.50% gc time)\n"
     ]
    }
   ],
   "source": [
    "@time obsval,obslon,obslat,obsdepth,obstime,obsid = ODVspreadsheet.load(Float64,[smalldatafile],\n",
    "                           [\"Water body salinity\"]; nametype = :localname );"
   ]
  },
  {
   "cell_type": "code",
   "execution_count": 17,
   "metadata": {
    "slideshow": {
     "slide_type": "fragment"
    }
   },
   "outputs": [
    {
     "name": "stderr",
     "output_type": "stream",
     "text": [
      "┌ Info: Reading data from file ./Adriatic/AdriaticSea_SDC.txt\n",
      "└ @ DIVAnd.ODVspreadsheet /home/abarth/projects/Julia/DIVAnd.jl/src/ODVspreadsheet.jl:81\n",
      "┌ Info: No. of profiles in the file: 34709\n",
      "└ @ DIVAnd.ODVspreadsheet /home/abarth/projects/Julia/DIVAnd.jl/src/ODVspreadsheet.jl:250\n"
     ]
    },
    {
     "name": "stdout",
     "output_type": "stream",
     "text": [
      " 85.405441 seconds (1.01 G allocations: 44.382 GiB, 48.63% gc time)\n"
     ]
    }
   ],
   "source": [
    "@time obsval,obslon,obslat,obsdepth,obstime,obsid = ODVspreadsheet.load(Float64,[datafile],\n",
    "                           [\"Water body salinity\"]; nametype = :localname );"
   ]
  },
  {
   "cell_type": "code",
   "execution_count": 18,
   "metadata": {
    "slideshow": {
     "slide_type": "subslide"
    }
   },
   "outputs": [
    {
     "data": {
      "image/png": "[encoded data removed]",
      "text/plain": [
       "Figure(PyObject <Figure size 200x200 with 1 Axes>)"
      ]
     },
     "metadata": {},
     "output_type": "display_data"
    }
   ],
   "source": [
    "figure(\"Adriatic-Data\", figsize=(2,2))\n",
    "ax = subplot(1,1,1)\n",
    "plot(obslon, obslat, \"ko\", markersize=.1)\n",
    "aspect_ratio = 1/cos(mean(latr) * pi/180)\n",
    "ax.tick_params(\"both\",labelsize=6)\n",
    "gca().set_aspect(aspect_ratio)"
   ]
  },
  {
   "cell_type": "markdown",
   "metadata": {
    "slideshow": {
     "slide_type": "subslide"
    }
   },
   "source": [
    "Check the extremal values of the observations"
   ]
  },
  {
   "cell_type": "code",
   "execution_count": 19,
   "metadata": {
    "slideshow": {
     "slide_type": "fragment"
    }
   },
   "outputs": [
    {
     "name": "stdout",
     "output_type": "stream",
     "text": [
      "              minimum and maximum of obs. dimension 1: ("
     ]
    },
    {
     "name": "stderr",
     "output_type": "stream",
     "text": [
      "┌ Info: Checking ranges for dimensions and observations\n",
      "└ @ DIVAnd /home/abarth/projects/Julia/DIVAnd.jl/src/obsstat.jl:75\n"
     ]
    },
    {
     "name": "stdout",
     "output_type": "stream",
     "text": [
      "12.25017, 20.11)\n",
      "              minimum and maximum of obs. dimension 2: (39.55676, 45.755)\n",
      "              minimum and maximum of obs. dimension 3: (0.0, 1484.203)\n",
      "              minimum and maximum of obs. dimension 4: (1911-08-17T09:24:00, 2015-02-10T10:43:00)\n",
      "                          minimum and maximum of data: (4.07, 40.880001)\n"
     ]
    }
   ],
   "source": [
    "checkobs((obslon,obslat,obsdepth,obstime),obsval,obsid)"
   ]
  },
  {
   "cell_type": "code",
   "execution_count": 20,
   "metadata": {},
   "outputs": [
    {
     "name": "stdout",
     "output_type": "stream",
     "text": [
      "length(obslon) = 1430741\n",
      "length(obslat) = 1430741\n",
      "length(obsval) = 1430741\n",
      "length(obstime) = 1430741\n",
      "length(obsid) = 1430741\n"
     ]
    }
   ],
   "source": [
    "@show length(obslon);\n",
    "@show length(obslat);\n",
    "@show length(obsval);\n",
    "@show length(obstime);\n",
    "@show length(obsid);"
   ]
  },
  {
   "cell_type": "markdown",
   "metadata": {
    "slideshow": {
     "slide_type": "slide"
    }
   },
   "source": [
    "## 2. Extract the bathymetry\n",
    "It is used to delimit the domain where the interpolation is performed."
   ]
  },
  {
   "cell_type": "markdown",
   "metadata": {
    "slideshow": {
     "slide_type": "subslide"
    }
   },
   "source": [
    "### 2.1 Choice of bathymetry\n",
    "Modify `bathname` according to the resolution required."
   ]
  },
  {
   "cell_type": "code",
   "execution_count": 21,
   "metadata": {
    "slideshow": {
     "slide_type": "fragment"
    }
   },
   "outputs": [
    {
     "name": "stderr",
     "output_type": "stream",
     "text": [
      "  % Total    % Received % Xferd  Average Speed   Time    Time     Time  Current\n",
      "                                 Dload  Upload   Total   Spent    Left  Speed\n",
      "100 13.9M  100 13.9M    0     0  12.0M      0  0:00:01  0:00:01 --:--:-- 12.1M\n"
     ]
    },
    {
     "data": {
      "text/plain": [
       "\"./data/gebco_30sec_8.nc\""
      ]
     },
     "execution_count": 21,
     "metadata": {},
     "output_type": "execute_result"
    }
   ],
   "source": [
    "bathname = \"./data/gebco_30sec_8.nc\"\n",
    "if !isfile(bathname)\n",
    "    download(\"https://dox.ulg.ac.be/index.php/s/U0pqyXhcQrXjEUX/download\",bathname)\n",
    "else\n",
    "    @info(\"Bathymetry file already downloaded\")\n",
    "end"
   ]
  },
  {
   "cell_type": "code",
   "execution_count": 22,
   "metadata": {
    "slideshow": {
     "slide_type": "fragment"
    }
   },
   "outputs": [
    {
     "name": "stdout",
     "output_type": "stream",
     "text": [
      "  2.262850 seconds (8.76 M allocations: 439.066 MiB, 14.31% gc time)\n"
     ]
    }
   ],
   "source": [
    "@time bx,by,b = load_bath(bathname,true,lonr,latr);"
   ]
  },
  {
   "cell_type": "code",
   "execution_count": 23,
   "metadata": {
    "slideshow": {
     "slide_type": "subslide"
    }
   },
   "outputs": [
    {
     "data": {
      "image/png": "[encoded data removed]",
      "text/plain": [
       "Figure(PyObject <Figure size 200x200 with 2 Axes>)"
      ]
     },
     "metadata": {},
     "output_type": "display_data"
    },
    {
     "name": "stderr",
     "output_type": "stream",
     "text": [
      "┌ Warning: `getindex(o::PyObject, s::Symbol)` is deprecated in favor of dot overloading (`getproperty`) so elements should now be accessed as e.g. `o.s` instead of `o[:s]`.\n",
      "│   caller = top-level scope at In[23]:4\n",
      "└ @ Core In[23]:4\n"
     ]
    }
   ],
   "source": [
    "figure(\"Adriatic-Bathymetry\", figsize=(2,2))\n",
    "ax = subplot(1,1,1)\n",
    "pcolor(bx,by,permutedims(b, [2,1]));\n",
    "colorbar(orientation=\"vertical\", shrink=0.8)[:ax].tick_params(labelsize=8)\n",
    "contour(bx,by,permutedims(b, [2,1]), [0, 0.1], colors=\"k\", linewidths=.5)\n",
    "gca().set_aspect(aspect_ratio)\n",
    "ax.tick_params(\"both\",labelsize=6)"
   ]
  },
  {
   "cell_type": "markdown",
   "metadata": {
    "slideshow": {
     "slide_type": "subslide"
    }
   },
   "source": [
    "### 2.2 Create mask\n",
    "* False for sea        \n",
    "* True for land"
   ]
  },
  {
   "cell_type": "code",
   "execution_count": 24,
   "metadata": {
    "slideshow": {
     "slide_type": "fragment"
    }
   },
   "outputs": [
    {
     "name": "stdout",
     "output_type": "stream",
     "text": [
      "size(mask) = (69, 57, 3)\n"
     ]
    },
    {
     "data": {
      "text/plain": [
       "(69, 57, 3)"
      ]
     },
     "execution_count": 24,
     "metadata": {},
     "output_type": "execute_result"
    }
   ],
   "source": [
    "mask = falses(size(b,1),size(b,2),length(depthr))\n",
    "for k = 1:length(depthr)\n",
    "    for j = 1:size(b,2)\n",
    "        for i = 1:size(b,1)\n",
    "            mask[i,j,k] = b[i,j] >= depthr[k]\n",
    "        end\n",
    "    end\n",
    "end\n",
    "@show size(mask)"
   ]
  },
  {
   "cell_type": "code",
   "execution_count": 25,
   "metadata": {
    "slideshow": {
     "slide_type": "subslide"
    }
   },
   "outputs": [
    {
     "data": {
      "image/png": "[encoded data removed]",
      "text/plain": [
       "Figure(PyObject <Figure size 200x200 with 1 Axes>)"
      ]
     },
     "metadata": {},
     "output_type": "display_data"
    }
   ],
   "source": [
    "figure(\"Adriatic-Mask\", figsize=(2,2))\n",
    "ax = subplot(1,1,1)\n",
    "gca().set_aspect(aspect_ratio)\n",
    "ax.tick_params(\"both\",labelsize=6)\n",
    "pcolor(bx,by,permutedims(Float64.(mask[:,:,2]), [2,1])); "
   ]
  },
  {
   "cell_type": "markdown",
   "metadata": {
    "slideshow": {
     "slide_type": "subslide"
    }
   },
   "source": [
    "### 2.3 Edit the mask\n",
    "As an example we will remove the Mediterranean Sea from the domain."
   ]
  },
  {
   "cell_type": "code",
   "execution_count": 26,
   "metadata": {
    "slideshow": {
     "slide_type": "fragment"
    }
   },
   "outputs": [],
   "source": [
    "grid_bx = [i for i in bx, j in by];\n",
    "grid_by = [j for i in bx, j in by];"
   ]
  },
  {
   "cell_type": "code",
   "execution_count": 27,
   "metadata": {
    "slideshow": {
     "slide_type": "fragment"
    }
   },
   "outputs": [
    {
     "name": "stdout",
     "output_type": "stream",
     "text": [
      "size(mask_edit) = (69, 57, 3)\n"
     ]
    },
    {
     "data": {
      "text/plain": [
       "(69, 57, 3)"
      ]
     },
     "execution_count": 27,
     "metadata": {},
     "output_type": "execute_result"
    }
   ],
   "source": [
    "mask_edit = copy(mask);\n",
    "sel_mask1 = (grid_by .<= 42.6) .& (grid_bx .<= 14.);\n",
    "sel_mask2 = (grid_by .<= 41.2) .& (grid_bx .<= 16.2);\n",
    "mask_edit = mask_edit .* .!sel_mask1 .* .!sel_mask2;\n",
    "@show size(mask_edit)"
   ]
  },
  {
   "cell_type": "markdown",
   "metadata": {
    "slideshow": {
     "slide_type": "subslide"
    }
   },
   "source": [
    "The edited mask now looks like this:"
   ]
  },
  {
   "cell_type": "code",
   "execution_count": 28,
   "metadata": {
    "slideshow": {
     "slide_type": "fragment"
    }
   },
   "outputs": [
    {
     "data": {
      "image/png": "[encoded data removed]",
      "text/plain": [
       "Figure(PyObject <Figure size 200x200 with 1 Axes>)"
      ]
     },
     "metadata": {},
     "output_type": "display_data"
    },
    {
     "data": {
      "text/plain": [
       "(11.5, 20.0)"
      ]
     },
     "execution_count": 28,
     "metadata": {},
     "output_type": "execute_result"
    }
   ],
   "source": [
    "figure(\"Adriatic-Mask-Edited\", figsize=(2,2))\n",
    "ax = subplot(1,1,1)\n",
    "gca().set_aspect(aspect_ratio)\n",
    "ax.tick_params(\"both\",labelsize=6)\n",
    "pcolor(bx, by, permutedims(Float64.(mask_edit[:,:,2]), [2,1])); \n",
    "gca().set_aspect(aspect_ratio)\n",
    "xlim()"
   ]
  },
  {
   "cell_type": "markdown",
   "metadata": {
    "slideshow": {
     "slide_type": "slide"
    }
   },
   "source": [
    "## 3. Extract data from other sources\n",
    "As an illustration we use the World Ocean Database, among other possibilities."
   ]
  },
  {
   "cell_type": "markdown",
   "metadata": {
    "slideshow": {
     "slide_type": "subslide"
    }
   },
   "source": [
    "### 3.1 World Ocean Database"
   ]
  },
  {
   "cell_type": "code",
   "execution_count": 56,
   "metadata": {
    "slideshow": {
     "slide_type": "fragment"
    }
   },
   "outputs": [],
   "source": [
    "# Configuration\n",
    "email = \"your-mail@domain\"\n",
    "woddatadir = \"./Adriatic/WOD/\"\n",
    "mkpath(woddatadir);"
   ]
  },
  {
   "cell_type": "code",
   "execution_count": 57,
   "metadata": {
    "slideshow": {
     "slide_type": "fragment"
    }
   },
   "outputs": [
    {
     "name": "stderr",
     "output_type": "stream",
     "text": [
      "┌ Info: Waiting for extracted files\n",
      "└ @ PhysOcean.WorldOceanDatabase /home/abarth/projects/Julia/PhysOcean.jl/src/WorldOceanDatabase.jl:278\n",
      "┌ Info: https://data.nodc.noaa.gov/woa/WOD/SELECT//ocldb1560025519.12915.OSD.tar.gz is not yet available\n",
      "└ @ PhysOcean.WorldOceanDatabase /home/abarth/projects/Julia/PhysOcean.jl/src/WorldOceanDatabase.jl:293\n",
      "┌ Info: https://data.nodc.noaa.gov/woa/WOD/SELECT//ocldb1560025519.12915.CTD.tar.gz is not yet available\n",
      "└ @ PhysOcean.WorldOceanDatabase /home/abarth/projects/Julia/PhysOcean.jl/src/WorldOceanDatabase.jl:293\n",
      "┌ Info: https://data.nodc.noaa.gov/woa/WOD/SELECT//ocldb1560025519.12915.XBT.tar.gz is not yet available\n",
      "└ @ PhysOcean.WorldOceanDatabase /home/abarth/projects/Julia/PhysOcean.jl/src/WorldOceanDatabase.jl:293\n",
      "┌ Info: https://data.nodc.noaa.gov/woa/WOD/SELECT//ocldb1560025519.12915.MBT.tar.gz is not yet available\n",
      "└ @ PhysOcean.WorldOceanDatabase /home/abarth/projects/Julia/PhysOcean.jl/src/WorldOceanDatabase.jl:293\n",
      "┌ Info: https://data.nodc.noaa.gov/woa/WOD/SELECT//ocldb1560025519.12915.PFL.tar.gz is not yet available\n",
      "└ @ PhysOcean.WorldOceanDatabase /home/abarth/projects/Julia/PhysOcean.jl/src/WorldOceanDatabase.jl:293\n",
      "┌ Info: https://data.nodc.noaa.gov/woa/WOD/SELECT//ocldb1560025519.12915.DRB.tar.gz is not yet available\n",
      "└ @ PhysOcean.WorldOceanDatabase /home/abarth/projects/Julia/PhysOcean.jl/src/WorldOceanDatabase.jl:293\n",
      "┌ Info: https://data.nodc.noaa.gov/woa/WOD/SELECT//ocldb1560025519.12915.MRB.tar.gz is not yet available\n",
      "└ @ PhysOcean.WorldOceanDatabase /home/abarth/projects/Julia/PhysOcean.jl/src/WorldOceanDatabase.jl:293\n",
      "┌ Info: https://data.nodc.noaa.gov/woa/WOD/SELECT//ocldb1560025519.12915.APB.tar.gz is not yet available\n",
      "└ @ PhysOcean.WorldOceanDatabase /home/abarth/projects/Julia/PhysOcean.jl/src/WorldOceanDatabase.jl:293\n",
      "┌ Info: https://data.nodc.noaa.gov/woa/WOD/SELECT//ocldb1560025519.12915.UOR.tar.gz is not yet available\n",
      "└ @ PhysOcean.WorldOceanDatabase /home/abarth/projects/Julia/PhysOcean.jl/src/WorldOceanDatabase.jl:293\n",
      "┌ Info: https://data.nodc.noaa.gov/woa/WOD/SELECT//ocldb1560025519.12915.SUR.tar.gz is not yet available\n",
      "└ @ PhysOcean.WorldOceanDatabase /home/abarth/projects/Julia/PhysOcean.jl/src/WorldOceanDatabase.jl:293\n",
      "┌ Info: https://data.nodc.noaa.gov/woa/WOD/SELECT//ocldb1560025519.12915.GLD.tar.gz is not yet available\n",
      "└ @ PhysOcean.WorldOceanDatabase /home/abarth/projects/Julia/PhysOcean.jl/src/WorldOceanDatabase.jl:293\n",
      "┌ Info: https://data.nodc.noaa.gov/woa/WOD/SELECT//ocldb1560025519.12915.OSD.tar.gz is not yet available\n",
      "└ @ PhysOcean.WorldOceanDatabase /home/abarth/projects/Julia/PhysOcean.jl/src/WorldOceanDatabase.jl:293\n",
      "┌ Info: https://data.nodc.noaa.gov/woa/WOD/SELECT//ocldb1560025519.12915.CTD.tar.gz is not yet available\n",
      "└ @ PhysOcean.WorldOceanDatabase /home/abarth/projects/Julia/PhysOcean.jl/src/WorldOceanDatabase.jl:293\n",
      "┌ Info: https://data.nodc.noaa.gov/woa/WOD/SELECT//ocldb1560025519.12915.XBT.tar.gz is not yet available\n",
      "└ @ PhysOcean.WorldOceanDatabase /home/abarth/projects/Julia/PhysOcean.jl/src/WorldOceanDatabase.jl:293\n",
      "┌ Info: https://data.nodc.noaa.gov/woa/WOD/SELECT//ocldb1560025519.12915.MBT.tar.gz is not yet available\n",
      "└ @ PhysOcean.WorldOceanDatabase /home/abarth/projects/Julia/PhysOcean.jl/src/WorldOceanDatabase.jl:293\n",
      "┌ Info: https://data.nodc.noaa.gov/woa/WOD/SELECT//ocldb1560025519.12915.PFL.tar.gz is not yet available\n",
      "└ @ PhysOcean.WorldOceanDatabase /home/abarth/projects/Julia/PhysOcean.jl/src/WorldOceanDatabase.jl:293\n",
      "┌ Info: https://data.nodc.noaa.gov/woa/WOD/SELECT//ocldb1560025519.12915.DRB.tar.gz is not yet available\n",
      "└ @ PhysOcean.WorldOceanDatabase /home/abarth/projects/Julia/PhysOcean.jl/src/WorldOceanDatabase.jl:293\n",
      "┌ Info: https://data.nodc.noaa.gov/woa/WOD/SELECT//ocldb1560025519.12915.MRB.tar.gz is not yet available\n",
      "└ @ PhysOcean.WorldOceanDatabase /home/abarth/projects/Julia/PhysOcean.jl/src/WorldOceanDatabase.jl:293\n",
      "┌ Info: https://data.nodc.noaa.gov/woa/WOD/SELECT//ocldb1560025519.12915.APB.tar.gz is not yet available\n",
      "└ @ PhysOcean.WorldOceanDatabase /home/abarth/projects/Julia/PhysOcean.jl/src/WorldOceanDatabase.jl:293\n",
      "┌ Info: https://data.nodc.noaa.gov/woa/WOD/SELECT//ocldb1560025519.12915.UOR.tar.gz is not yet available\n",
      "└ @ PhysOcean.WorldOceanDatabase /home/abarth/projects/Julia/PhysOcean.jl/src/WorldOceanDatabase.jl:293\n",
      "┌ Info: https://data.nodc.noaa.gov/woa/WOD/SELECT//ocldb1560025519.12915.SUR.tar.gz is not yet available\n",
      "└ @ PhysOcean.WorldOceanDatabase /home/abarth/projects/Julia/PhysOcean.jl/src/WorldOceanDatabase.jl:293\n",
      "┌ Info: https://data.nodc.noaa.gov/woa/WOD/SELECT//ocldb1560025519.12915.GLD.tar.gz is not yet available\n",
      "└ @ PhysOcean.WorldOceanDatabase /home/abarth/projects/Julia/PhysOcean.jl/src/WorldOceanDatabase.jl:293\n",
      "┌ Info: https://data.nodc.noaa.gov/woa/WOD/SELECT//ocldb1560025519.12915.OSD.tar.gz is not yet available\n",
      "└ @ PhysOcean.WorldOceanDatabase /home/abarth/projects/Julia/PhysOcean.jl/src/WorldOceanDatabase.jl:293\n",
      "┌ Info: https://data.nodc.noaa.gov/woa/WOD/SELECT//ocldb1560025519.12915.CTD.tar.gz is not yet available\n",
      "└ @ PhysOcean.WorldOceanDatabase /home/abarth/projects/Julia/PhysOcean.jl/src/WorldOceanDatabase.jl:293\n",
      "┌ Info: https://data.nodc.noaa.gov/woa/WOD/SELECT//ocldb1560025519.12915.XBT.tar.gz is not yet available\n",
      "└ @ PhysOcean.WorldOceanDatabase /home/abarth/projects/Julia/PhysOcean.jl/src/WorldOceanDatabase.jl:293\n",
      "┌ Info: https://data.nodc.noaa.gov/woa/WOD/SELECT//ocldb1560025519.12915.MBT.tar.gz is not yet available\n",
      "└ @ PhysOcean.WorldOceanDatabase /home/abarth/projects/Julia/PhysOcean.jl/src/WorldOceanDatabase.jl:293\n",
      "┌ Info: https://data.nodc.noaa.gov/woa/WOD/SELECT//ocldb1560025519.12915.PFL.tar.gz is not yet available\n",
      "└ @ PhysOcean.WorldOceanDatabase /home/abarth/projects/Julia/PhysOcean.jl/src/WorldOceanDatabase.jl:293\n",
      "┌ Info: https://data.nodc.noaa.gov/woa/WOD/SELECT//ocldb1560025519.12915.DRB.tar.gz is not yet available\n",
      "└ @ PhysOcean.WorldOceanDatabase /home/abarth/projects/Julia/PhysOcean.jl/src/WorldOceanDatabase.jl:293\n",
      "┌ Info: https://data.nodc.noaa.gov/woa/WOD/SELECT//ocldb1560025519.12915.MRB.tar.gz is not yet available\n",
      "└ @ PhysOcean.WorldOceanDatabase /home/abarth/projects/Julia/PhysOcean.jl/src/WorldOceanDatabase.jl:293\n",
      "┌ Info: https://data.nodc.noaa.gov/woa/WOD/SELECT//ocldb1560025519.12915.APB.tar.gz is not yet available\n",
      "└ @ PhysOcean.WorldOceanDatabase /home/abarth/projects/Julia/PhysOcean.jl/src/WorldOceanDatabase.jl:293\n",
      "┌ Info: https://data.nodc.noaa.gov/woa/WOD/SELECT//ocldb1560025519.12915.UOR.tar.gz is not yet available\n",
      "└ @ PhysOcean.WorldOceanDatabase /home/abarth/projects/Julia/PhysOcean.jl/src/WorldOceanDatabase.jl:293\n",
      "┌ Info: https://data.nodc.noaa.gov/woa/WOD/SELECT//ocldb1560025519.12915.SUR.tar.gz is not yet available\n",
      "└ @ PhysOcean.WorldOceanDatabase /home/abarth/projects/Julia/PhysOcean.jl/src/WorldOceanDatabase.jl:293\n",
      "┌ Info: https://data.nodc.noaa.gov/woa/WOD/SELECT//ocldb1560025519.12915.GLD.tar.gz is not yet available\n",
      "└ @ PhysOcean.WorldOceanDatabase /home/abarth/projects/Julia/PhysOcean.jl/src/WorldOceanDatabase.jl:293\n",
      "┌ Info: https://data.nodc.noaa.gov/woa/WOD/SELECT//ocldb1560025519.12915.OSD.tar.gz is not yet available\n",
      "└ @ PhysOcean.WorldOceanDatabase /home/abarth/projects/Julia/PhysOcean.jl/src/WorldOceanDatabase.jl:293\n",
      "┌ Info: https://data.nodc.noaa.gov/woa/WOD/SELECT//ocldb1560025519.12915.CTD.tar.gz is not yet available\n",
      "└ @ PhysOcean.WorldOceanDatabase /home/abarth/projects/Julia/PhysOcean.jl/src/WorldOceanDatabase.jl:293\n",
      "┌ Info: https://data.nodc.noaa.gov/woa/WOD/SELECT//ocldb1560025519.12915.XBT.tar.gz is not yet available\n",
      "└ @ PhysOcean.WorldOceanDatabase /home/abarth/projects/Julia/PhysOcean.jl/src/WorldOceanDatabase.jl:293\n",
      "┌ Info: https://data.nodc.noaa.gov/woa/WOD/SELECT//ocldb1560025519.12915.MBT.tar.gz is not yet available\n",
      "└ @ PhysOcean.WorldOceanDatabase /home/abarth/projects/Julia/PhysOcean.jl/src/WorldOceanDatabase.jl:293\n",
      "┌ Info: https://data.nodc.noaa.gov/woa/WOD/SELECT//ocldb1560025519.12915.PFL.tar.gz is not yet available\n",
      "└ @ PhysOcean.WorldOceanDatabase /home/abarth/projects/Julia/PhysOcean.jl/src/WorldOceanDatabase.jl:293\n",
      "┌ Info: https://data.nodc.noaa.gov/woa/WOD/SELECT//ocldb1560025519.12915.DRB.tar.gz is not yet available\n",
      "└ @ PhysOcean.WorldOceanDatabase /home/abarth/projects/Julia/PhysOcean.jl/src/WorldOceanDatabase.jl:293\n"
     ]
    },
    {
     "name": "stderr",
     "output_type": "stream",
     "text": [
      "┌ Info: https://data.nodc.noaa.gov/woa/WOD/SELECT//ocldb1560025519.12915.MRB.tar.gz is not yet available\n",
      "└ @ PhysOcean.WorldOceanDatabase /home/abarth/projects/Julia/PhysOcean.jl/src/WorldOceanDatabase.jl:293\n",
      "┌ Info: https://data.nodc.noaa.gov/woa/WOD/SELECT//ocldb1560025519.12915.APB.tar.gz is not yet available\n",
      "└ @ PhysOcean.WorldOceanDatabase /home/abarth/projects/Julia/PhysOcean.jl/src/WorldOceanDatabase.jl:293\n",
      "┌ Info: https://data.nodc.noaa.gov/woa/WOD/SELECT//ocldb1560025519.12915.UOR.tar.gz is not yet available\n",
      "└ @ PhysOcean.WorldOceanDatabase /home/abarth/projects/Julia/PhysOcean.jl/src/WorldOceanDatabase.jl:293\n",
      "┌ Info: https://data.nodc.noaa.gov/woa/WOD/SELECT//ocldb1560025519.12915.SUR.tar.gz is not yet available\n",
      "└ @ PhysOcean.WorldOceanDatabase /home/abarth/projects/Julia/PhysOcean.jl/src/WorldOceanDatabase.jl:293\n",
      "┌ Info: https://data.nodc.noaa.gov/woa/WOD/SELECT//ocldb1560025519.12915.GLD.tar.gz is not yet available\n",
      "└ @ PhysOcean.WorldOceanDatabase /home/abarth/projects/Julia/PhysOcean.jl/src/WorldOceanDatabase.jl:293\n",
      "┌ Info: https://data.nodc.noaa.gov/woa/WOD/SELECT//ocldb1560025519.12915.OSD.tar.gz is not yet available\n",
      "└ @ PhysOcean.WorldOceanDatabase /home/abarth/projects/Julia/PhysOcean.jl/src/WorldOceanDatabase.jl:293\n",
      "┌ Info: https://data.nodc.noaa.gov/woa/WOD/SELECT//ocldb1560025519.12915.CTD.tar.gz is not yet available\n",
      "└ @ PhysOcean.WorldOceanDatabase /home/abarth/projects/Julia/PhysOcean.jl/src/WorldOceanDatabase.jl:293\n",
      "┌ Info: https://data.nodc.noaa.gov/woa/WOD/SELECT//ocldb1560025519.12915.XBT.tar.gz is not yet available\n",
      "└ @ PhysOcean.WorldOceanDatabase /home/abarth/projects/Julia/PhysOcean.jl/src/WorldOceanDatabase.jl:293\n",
      "┌ Info: https://data.nodc.noaa.gov/woa/WOD/SELECT//ocldb1560025519.12915.MBT.tar.gz is not yet available\n",
      "└ @ PhysOcean.WorldOceanDatabase /home/abarth/projects/Julia/PhysOcean.jl/src/WorldOceanDatabase.jl:293\n",
      "┌ Info: https://data.nodc.noaa.gov/woa/WOD/SELECT//ocldb1560025519.12915.PFL.tar.gz is not yet available\n",
      "└ @ PhysOcean.WorldOceanDatabase /home/abarth/projects/Julia/PhysOcean.jl/src/WorldOceanDatabase.jl:293\n",
      "┌ Info: https://data.nodc.noaa.gov/woa/WOD/SELECT//ocldb1560025519.12915.DRB.tar.gz is not yet available\n",
      "└ @ PhysOcean.WorldOceanDatabase /home/abarth/projects/Julia/PhysOcean.jl/src/WorldOceanDatabase.jl:293\n",
      "┌ Info: https://data.nodc.noaa.gov/woa/WOD/SELECT//ocldb1560025519.12915.MRB.tar.gz is not yet available\n",
      "└ @ PhysOcean.WorldOceanDatabase /home/abarth/projects/Julia/PhysOcean.jl/src/WorldOceanDatabase.jl:293\n",
      "┌ Info: https://data.nodc.noaa.gov/woa/WOD/SELECT//ocldb1560025519.12915.APB.tar.gz is not yet available\n",
      "└ @ PhysOcean.WorldOceanDatabase /home/abarth/projects/Julia/PhysOcean.jl/src/WorldOceanDatabase.jl:293\n",
      "┌ Info: https://data.nodc.noaa.gov/woa/WOD/SELECT//ocldb1560025519.12915.UOR.tar.gz is not yet available\n",
      "└ @ PhysOcean.WorldOceanDatabase /home/abarth/projects/Julia/PhysOcean.jl/src/WorldOceanDatabase.jl:293\n",
      "┌ Info: https://data.nodc.noaa.gov/woa/WOD/SELECT//ocldb1560025519.12915.SUR.tar.gz is not yet available\n",
      "└ @ PhysOcean.WorldOceanDatabase /home/abarth/projects/Julia/PhysOcean.jl/src/WorldOceanDatabase.jl:293\n",
      "┌ Info: https://data.nodc.noaa.gov/woa/WOD/SELECT//ocldb1560025519.12915.GLD.tar.gz is not yet available\n",
      "└ @ PhysOcean.WorldOceanDatabase /home/abarth/projects/Julia/PhysOcean.jl/src/WorldOceanDatabase.jl:293\n",
      "┌ Info: https://data.nodc.noaa.gov/woa/WOD/SELECT//ocldb1560025519.12915.OSD.tar.gz is not yet available\n",
      "└ @ PhysOcean.WorldOceanDatabase /home/abarth/projects/Julia/PhysOcean.jl/src/WorldOceanDatabase.jl:293\n",
      "┌ Info: https://data.nodc.noaa.gov/woa/WOD/SELECT//ocldb1560025519.12915.CTD.tar.gz is not yet available\n",
      "└ @ PhysOcean.WorldOceanDatabase /home/abarth/projects/Julia/PhysOcean.jl/src/WorldOceanDatabase.jl:293\n",
      "┌ Info: https://data.nodc.noaa.gov/woa/WOD/SELECT//ocldb1560025519.12915.XBT.tar.gz is not yet available\n",
      "└ @ PhysOcean.WorldOceanDatabase /home/abarth/projects/Julia/PhysOcean.jl/src/WorldOceanDatabase.jl:293\n",
      "┌ Info: https://data.nodc.noaa.gov/woa/WOD/SELECT//ocldb1560025519.12915.MBT.tar.gz is not yet available\n",
      "└ @ PhysOcean.WorldOceanDatabase /home/abarth/projects/Julia/PhysOcean.jl/src/WorldOceanDatabase.jl:293\n",
      "┌ Info: https://data.nodc.noaa.gov/woa/WOD/SELECT//ocldb1560025519.12915.PFL.tar.gz is not yet available\n",
      "└ @ PhysOcean.WorldOceanDatabase /home/abarth/projects/Julia/PhysOcean.jl/src/WorldOceanDatabase.jl:293\n",
      "┌ Info: https://data.nodc.noaa.gov/woa/WOD/SELECT//ocldb1560025519.12915.DRB.tar.gz is not yet available\n",
      "└ @ PhysOcean.WorldOceanDatabase /home/abarth/projects/Julia/PhysOcean.jl/src/WorldOceanDatabase.jl:293\n",
      "┌ Info: https://data.nodc.noaa.gov/woa/WOD/SELECT//ocldb1560025519.12915.MRB.tar.gz is not yet available\n",
      "└ @ PhysOcean.WorldOceanDatabase /home/abarth/projects/Julia/PhysOcean.jl/src/WorldOceanDatabase.jl:293\n",
      "┌ Info: https://data.nodc.noaa.gov/woa/WOD/SELECT//ocldb1560025519.12915.APB.tar.gz is not yet available\n",
      "└ @ PhysOcean.WorldOceanDatabase /home/abarth/projects/Julia/PhysOcean.jl/src/WorldOceanDatabase.jl:293\n",
      "┌ Info: https://data.nodc.noaa.gov/woa/WOD/SELECT//ocldb1560025519.12915.UOR.tar.gz is not yet available\n",
      "└ @ PhysOcean.WorldOceanDatabase /home/abarth/projects/Julia/PhysOcean.jl/src/WorldOceanDatabase.jl:293\n",
      "┌ Info: https://data.nodc.noaa.gov/woa/WOD/SELECT//ocldb1560025519.12915.SUR.tar.gz is not yet available\n",
      "└ @ PhysOcean.WorldOceanDatabase /home/abarth/projects/Julia/PhysOcean.jl/src/WorldOceanDatabase.jl:293\n",
      "┌ Info: https://data.nodc.noaa.gov/woa/WOD/SELECT//ocldb1560025519.12915.GLD.tar.gz is not yet available\n",
      "└ @ PhysOcean.WorldOceanDatabase /home/abarth/projects/Julia/PhysOcean.jl/src/WorldOceanDatabase.jl:293\n"
     ]
    },
    {
     "name": "stdout",
     "output_type": "stream",
     "text": [
      "OSD is now available\n",
      "CTD is now available\n",
      "PFL is now available\n",
      "GLD is now available\n"
     ]
    },
    {
     "name": "stderr",
     "output_type": "stream",
     "text": [
      "┌ Info: https://data.nodc.noaa.gov/woa/WOD/SELECT//ocldb1560025519.12915.XBT.tar.gz is not yet available\n",
      "└ @ PhysOcean.WorldOceanDatabase /home/abarth/projects/Julia/PhysOcean.jl/src/WorldOceanDatabase.jl:293\n",
      "┌ Info: https://data.nodc.noaa.gov/woa/WOD/SELECT//ocldb1560025519.12915.MBT.tar.gz is not yet available\n",
      "└ @ PhysOcean.WorldOceanDatabase /home/abarth/projects/Julia/PhysOcean.jl/src/WorldOceanDatabase.jl:293\n",
      "┌ Info: https://data.nodc.noaa.gov/woa/WOD/SELECT//ocldb1560025519.12915.DRB.tar.gz is not yet available\n",
      "└ @ PhysOcean.WorldOceanDatabase /home/abarth/projects/Julia/PhysOcean.jl/src/WorldOceanDatabase.jl:293\n",
      "┌ Info: https://data.nodc.noaa.gov/woa/WOD/SELECT//ocldb1560025519.12915.MRB.tar.gz is not yet available\n",
      "└ @ PhysOcean.WorldOceanDatabase /home/abarth/projects/Julia/PhysOcean.jl/src/WorldOceanDatabase.jl:293\n",
      "┌ Info: https://data.nodc.noaa.gov/woa/WOD/SELECT//ocldb1560025519.12915.APB.tar.gz is not yet available\n",
      "└ @ PhysOcean.WorldOceanDatabase /home/abarth/projects/Julia/PhysOcean.jl/src/WorldOceanDatabase.jl:293\n",
      "┌ Info: https://data.nodc.noaa.gov/woa/WOD/SELECT//ocldb1560025519.12915.UOR.tar.gz is not yet available\n",
      "└ @ PhysOcean.WorldOceanDatabase /home/abarth/projects/Julia/PhysOcean.jl/src/WorldOceanDatabase.jl:293\n",
      "┌ Info: https://data.nodc.noaa.gov/woa/WOD/SELECT//ocldb1560025519.12915.SUR.tar.gz is not yet available\n",
      "└ @ PhysOcean.WorldOceanDatabase /home/abarth/projects/Julia/PhysOcean.jl/src/WorldOceanDatabase.jl:293\n",
      "  % Total    % Received % Xferd  Average Speed   Time    Time     Time  Current\n",
      "                                 Dload  Upload   Total   Spent    Left  Speed\n",
      "100 5295k  100 5295k    0     0  1336k      0  0:00:03  0:00:03 --:--:-- 1336k\n",
      "┌ Info: https://data.nodc.noaa.gov/woa/WOD/SELECT//ocldb1560025519.12915.OSD.tar.gz downloaded\n",
      "└ @ PhysOcean.WorldOceanDatabase /home/abarth/projects/Julia/PhysOcean.jl/src/WorldOceanDatabase.jl:338\n",
      "  % Total    % Received % Xferd  Average Speed   Time    Time     Time  Current\n",
      "                                 Dload  Upload   Total   Spent    Left  Speed\n",
      "  0     0    0     0    0     0      0      0 --:--:-- --:--:-- --:--:--     0\n",
      "curl: (22) The requested URL returned error: 404 Not Found\n",
      "  % Total    % Received % Xferd  Average Speed   Time    Time     Time  Current\n",
      "                                 Dload  Upload   Total   Spent    Left  Speed\n",
      "  0     0    0     0    0     0      0      0 --:--:-- --:--:-- --:--:--     0\n",
      "curl: (22) The requested URL returned error: 404 Not Found\n",
      "  % Total    % Received % Xferd  Average Speed   Time    Time     Time  Current\n",
      "                                 Dload  Upload   Total   Spent    Left  Speed\n",
      "  0     0    0     0    0     0      0      0 --:--:-- --:--:-- --:--:--     0\n",
      "curl: (22) The requested URL returned error: 404 Not Found\n",
      "  % Total    % Received % Xferd  Average Speed   Time    Time     Time  Current\n",
      "                                 Dload  Upload   Total   Spent    Left  Speed\n",
      "100 14.1M  100 14.1M    0     0  1586k      0  0:00:09  0:00:09 --:--:-- 1743k\n",
      "┌ Info: https://data.nodc.noaa.gov/woa/WOD/SELECT//ocldb1560025519.12915.CTD.tar.gz downloaded\n",
      "└ @ PhysOcean.WorldOceanDatabase /home/abarth/projects/Julia/PhysOcean.jl/src/WorldOceanDatabase.jl:338\n",
      "  % Total    % Received % Xferd  Average Speed   Time    Time     Time  Current\n",
      "                                 Dload  Upload   Total   Spent    Left  Speed\n",
      "  0     0    0     0    0     0      0      0 --:--:-- --:--:-- --:--:--     0\n",
      "curl: (22) The requested URL returned error: 404 Not Found\n",
      "  % Total    % Received % Xferd  Average Speed   Time    Time     Time  Current\n",
      "                                 Dload  Upload   Total   Spent    Left  Speed\n",
      "  0     0    0     0    0     0      0      0 --:--:-- --:--:-- --:--:--     0\n",
      "curl: (22) The requested URL returned error: 404 Not Found\n",
      "  % Total    % Received % Xferd  Average Speed   Time    Time     Time  Current\n",
      "                                 Dload  Upload   Total   Spent    Left  Speed\n",
      "  0     0    0     0    0     0      0      0 --:--:-- --:--:-- --:--:--     0\n",
      "curl: (22) The requested URL returned error: 404 Not Found\n",
      "  % Total    % Received % Xferd  Average Speed   Time    Time     Time  Current\n",
      "                                 Dload  Upload   Total   Spent    Left  Speed\n",
      "100 13.5M  100 13.5M    0     0  1047k      0  0:00:13  0:00:13 --:--:--  877k\n",
      "┌ Info: https://data.nodc.noaa.gov/woa/WOD/SELECT//ocldb1560025519.12915.PFL.tar.gz downloaded\n",
      "└ @ PhysOcean.WorldOceanDatabase /home/abarth/projects/Julia/PhysOcean.jl/src/WorldOceanDatabase.jl:338\n",
      "  % Total    % Received % Xferd  Average Speed   Time    Time     Time  Current\n",
      "                                 Dload  Upload   Total   Spent    Left  Speed\n",
      "  0     0    0     0    0     0      0      0 --:--:-- --:--:-- --:--:--     0\n",
      "curl: (22) The requested URL returned error: 404 Not Found\n",
      "  % Total    % Received % Xferd  Average Speed   Time    Time     Time  Current\n",
      "                                 Dload  Upload   Total   Spent    Left  Speed\n",
      "  0     0    0     0    0     0      0      0 --:--:-- --:--:-- --:--:--     0\n",
      "curl: (22) The requested URL returned error: 404 Not Found\n",
      "  % Total    % Received % Xferd  Average Speed   Time    Time     Time  Current\n",
      "                                 Dload  Upload   Total   Spent    Left  Speed\n",
      "  0     0    0     0    0     0      0      0 --:--:-- --:--:-- --:--:--     0\n",
      "curl: (22) The requested URL returned error: 404 Not Found\n",
      "  % Total    % Received % Xferd  Average Speed   Time    Time     Time  Current\n",
      "                                 Dload  Upload   Total   Spent    Left  Speed\n",
      "100 2005k  100 2005k    0     0   953k      0  0:00:02  0:00:02 --:--:--  953k\n",
      "┌ Info: https://data.nodc.noaa.gov/woa/WOD/SELECT//ocldb1560025519.12915.GLD.tar.gz downloaded\n",
      "└ @ PhysOcean.WorldOceanDatabase /home/abarth/projects/Julia/PhysOcean.jl/src/WorldOceanDatabase.jl:338\n",
      "  % Total    % Received % Xferd  Average Speed   Time    Time     Time  Current\n",
      "                                 Dload  Upload   Total   Spent    Left  Speed\n",
      "  0     0    0     0    0     0      0      0 --:--:-- --:--:-- --:--:--     0\n",
      "curl: (22) The requested URL returned error: 404 Not Found\n",
      "  % Total    % Received % Xferd  Average Speed   Time    Time     Time  Current\n",
      "                                 Dload  Upload   Total   Spent    Left  Speed\n",
      "  0     0    0     0    0     0      0      0 --:--:-- --:--:-- --:--:--     0\n",
      "curl: (22) The requested URL returned error: 404 Not Found\n",
      "  % Total    % Received % Xferd  Average Speed   Time    Time     Time  Current\n",
      "                                 Dload  Upload   Total   Spent    Left  Speed\n",
      "  0     0    0     0    0     0      0      0 --:--:-- --:--:-- --:--:--     0--:--:-- --:--:-- --:--:--     0\n",
      "curl: (22) The requested URL returned error: 404 Not Found\n",
      "┌ Info: Extracting ./Adriatic/WOD/ocldb1560025519.12915.OSD.tar.gz to ./Adriatic/WOD/OSD\n",
      "└ @ PhysOcean.WorldOceanDatabase /home/abarth/projects/Julia/PhysOcean.jl/src/WorldOceanDatabase.jl:42\n",
      "┌ Info: Extracting ./Adriatic/WOD/ocldb1560025519.12915.CTD.tar.gz to ./Adriatic/WOD/CTD\n",
      "└ @ PhysOcean.WorldOceanDatabase /home/abarth/projects/Julia/PhysOcean.jl/src/WorldOceanDatabase.jl:42\n",
      "┌ Info: Extracting ./Adriatic/WOD/ocldb1560025519.12915.PFL.tar.gz to ./Adriatic/WOD/PFL\n",
      "└ @ PhysOcean.WorldOceanDatabase /home/abarth/projects/Julia/PhysOcean.jl/src/WorldOceanDatabase.jl:42\n",
      "┌ Info: Extracting ./Adriatic/WOD/ocldb1560025519.12915.GLD.tar.gz to ./Adriatic/WOD/GLD\n",
      "└ @ PhysOcean.WorldOceanDatabase /home/abarth/projects/Julia/PhysOcean.jl/src/WorldOceanDatabase.jl:42\n"
     ]
    }
   ],
   "source": [
    "# Uncomment the next line if you have to download the data\n",
    "# WorldOceanDatabase.download(lonr,latr,timerange,varname,email,woddatadir);"
   ]
  },
  {
   "cell_type": "markdown",
   "metadata": {
    "slideshow": {
     "slide_type": "subslide"
    }
   },
   "source": [
    "⌛⌛         \n",
    "Read the data. This can also take up to a few minutes, depending on the size of the domain.\n",
    "\n",
    "⚠️ The WOD observations IDs have to be modified in order to be ingested by the XML generation (Step 9): to this end, we add the EDMO code of the U.S. NODC, which is 1977."
   ]
  },
  {
   "cell_type": "code",
   "execution_count": 60,
   "metadata": {
    "slideshow": {
     "slide_type": "fragment"
    }
   },
   "outputs": [
    {
     "name": "stderr",
     "output_type": "stream",
     "text": [
      "┌ Info: Loading files from ./Adriatic/WOD/CTD/ocldb1560025519.12915.CTD.nc\n",
      "└ @ PhysOcean.WorldOceanDatabase /home/abarth/projects/Julia/PhysOcean.jl/src/WorldOceanDatabase.jl:461\n",
      "┌ Info: Loading files from ./Adriatic/WOD/GLD/ocldb1560025519.12915.GLD.nc\n",
      "└ @ PhysOcean.WorldOceanDatabase /home/abarth/projects/Julia/PhysOcean.jl/src/WorldOceanDatabase.jl:461\n",
      "┌ Info: Loading files from ./Adriatic/WOD/OSD/ocldb1560025519.12915.OSD.nc\n",
      "└ @ PhysOcean.WorldOceanDatabase /home/abarth/projects/Julia/PhysOcean.jl/src/WorldOceanDatabase.jl:461\n",
      "┌ Info: Loading files from ./Adriatic/WOD/PFL/ocldb1560025519.12915.PFL.nc\n",
      "└ @ PhysOcean.WorldOceanDatabase /home/abarth/projects/Julia/PhysOcean.jl/src/WorldOceanDatabase.jl:461\n"
     ]
    },
    {
     "name": "stdout",
     "output_type": "stream",
     "text": [
      "  6.381631 seconds (18.97 M allocations: 2.489 GiB, 18.70% gc time)\n"
     ]
    }
   ],
   "source": [
    "@time obsvalwod,obslonwod,obslatwod,obsdepthwod,obstimewod,obsidwod = \n",
    "WorldOceanDatabase.load(Float64,woddatadir,varname,prefixid = \"1977-\");"
   ]
  },
  {
   "cell_type": "markdown",
   "metadata": {
    "slideshow": {
     "slide_type": "subslide"
    }
   },
   "source": [
    "Remove the data outside Adriatic (similar to mask editing)"
   ]
  },
  {
   "cell_type": "code",
   "execution_count": 62,
   "metadata": {
    "slideshow": {
     "slide_type": "fragment"
    }
   },
   "outputs": [
    {
     "name": "stderr",
     "output_type": "stream",
     "text": [
      "┌ Info: Number of removed WOD data: 219516\n",
      "└ @ Main In[62]:13\n"
     ]
    },
    {
     "data": {
      "text/plain": [
       "5-element Array{String,1}:\n",
       " \"wod_007663161O\"\n",
       " \"wod_007663161O\"\n",
       " \"wod_007663161O\"\n",
       " \"wod_007663161O\"\n",
       " \"wod_007663161O\""
      ]
     },
     "execution_count": 62,
     "metadata": {},
     "output_type": "execute_result"
    }
   ],
   "source": [
    "sel_data1 = (obslatwod .<= 42.6) .& (obslonwod .<= 14.);\n",
    "sel_data2 = (obslatwod .<= 41.2) .& (obslonwod .<= 16.2);\n",
    "ndataremove = sum((sel_data1) .| (sel_data2))\n",
    "sel_data = .~((sel_data1) .| (sel_data2));\n",
    "\n",
    "obslatwod = obslatwod[sel_data];\n",
    "obslonwod = obslonwod[sel_data];\n",
    "obsdepthwod = obsdepthwod[sel_data];\n",
    "obstimewod = obstimewod[sel_data];\n",
    "obsvalwod = obsvalwod[sel_data];\n",
    "obsidwod = obsidwod[sel_data];\n",
    "\n",
    "@info(\"Number of removed WOD data: $ndataremove\");\n",
    "obsidwod[1:5]"
   ]
  },
  {
   "cell_type": "code",
   "execution_count": 63,
   "metadata": {
    "slideshow": {
     "slide_type": "subslide"
    }
   },
   "outputs": [
    {
     "data": {
      "image/png": "[encoded data removed]",
      "text/plain": [
       "Figure(PyObject <Figure size 200x200 with 1 Axes>)"
      ]
     },
     "metadata": {},
     "output_type": "display_data"
    }
   ],
   "source": [
    "figure(\"Adriatic-WOD\", figsize=(2,2))\n",
    "ax = subplot(1,1,1)\n",
    "ax.tick_params(\"both\",labelsize=6)\n",
    "contourf(bx, by, permutedims(Float64.(mask_edit[:,:,1]),[2,1]),\n",
    "    levels=[-1e5,0],cmap=\"binary\"); \n",
    "plot(obslon, obslat, \"bo\", markersize=.2, \n",
    "    label=\"SeaDataNet\")\n",
    "plot(obslonwod, obslatwod, \"go\", markersize=.2, \n",
    "    label=\"World Ocean Database\");\n",
    "legend(fontsize=6);\n",
    "ylim(39.0, 46.0);\n",
    "xlim(11.5, 20.0);\n",
    "gca().set_aspect(aspect_ratio)"
   ]
  },
  {
   "cell_type": "markdown",
   "metadata": {
    "slideshow": {
     "slide_type": "subslide"
    }
   },
   "source": [
    "### 3.2 Extract from another source (optional)\n",
    "Add here the code to read data from another file."
   ]
  },
  {
   "cell_type": "markdown",
   "metadata": {
    "slideshow": {
     "slide_type": "subslide"
    }
   },
   "source": [
    "### 3.3 Remove duplicates\n",
    "⌛     \n",
    "Criteria (can be adapted according to the application):\n",
    "* Horizontal distance: 0.01 degree (about 1km)\n",
    "* Vertical separation: 0.01 m depth\n",
    "* Time separation: 1 minute.      \n",
    "* Salinity difference:  0.01 psu."
   ]
  },
  {
   "cell_type": "code",
   "execution_count": 64,
   "metadata": {
    "slideshow": {
     "slide_type": "fragment"
    }
   },
   "outputs": [
    {
     "name": "stdout",
     "output_type": "stream",
     "text": [
      " 43.401079 seconds (13.70 M allocations: 7.248 GiB, 8.19% gc time)\n"
     ]
    }
   ],
   "source": [
    "@time dupl = DIVAnd.Quadtrees.checkduplicates(\n",
    "    (obslon,obslat,obsdepth,obstime), obsval, \n",
    "    (obslonwod,obslatwod, obsdepthwod, obstimewod), obsvalwod,\n",
    "    (0.01,0.01,0.01,1/(24*60)),0.01);"
   ]
  },
  {
   "cell_type": "markdown",
   "metadata": {
    "slideshow": {
     "slide_type": "subslide"
    }
   },
   "source": [
    "Find the indices of the possible duplicates:"
   ]
  },
  {
   "cell_type": "code",
   "execution_count": 82,
   "metadata": {
    "slideshow": {
     "slide_type": "fragment"
    }
   },
   "outputs": [
    {
     "name": "stderr",
     "output_type": "stream",
     "text": [
      "┌ Info: Number of possible duplicates: 813737\n",
      "└ @ Main In[82]:4\n",
      "┌ Info: Percentage of duplicates: 56.89%\n",
      "└ @ Main In[82]:5\n"
     ]
    }
   ],
   "source": [
    "index = findall(.!isempty.(dupl));\n",
    "ndupl = length(index);\n",
    "pcdupl = round(ndupl / length(obslon) * 100; digits=2);\n",
    "@info(\"Number of possible duplicates: $ndupl\")\n",
    "@info(\"Percentage of duplicates: $pcdupl%\")"
   ]
  },
  {
   "cell_type": "markdown",
   "metadata": {
    "slideshow": {
     "slide_type": "subslide"
    }
   },
   "source": [
    "If you decide to combine the 2 (or more) datasets:"
   ]
  },
  {
   "cell_type": "code",
   "execution_count": 84,
   "metadata": {
    "slideshow": {
     "slide_type": "fragment"
    }
   },
   "outputs": [
    {
     "name": "stderr",
     "output_type": "stream",
     "text": [
      "┌ Info: Number of new points: 1013624)\n",
      "└ @ Main In[84]:2\n"
     ]
    }
   ],
   "source": [
    "newpoints = isempty.(dupl);\n",
    "@info(\"Number of new points: $(sum(newpoints)))\")"
   ]
  },
  {
   "cell_type": "code",
   "execution_count": 85,
   "metadata": {
    "slideshow": {
     "slide_type": "fragment"
    }
   },
   "outputs": [],
   "source": [
    "obslon = [obslon; obslonwod[newpoints]];\n",
    "obslat = [obslat; obslatwod[newpoints]];\n",
    "obsdepth = [obsdepth; obsdepthwod[newpoints]];\n",
    "obstime = [obstime; obstimewod[newpoints]];\n",
    "obsval = [obsval; obsvalwod[newpoints]];\n",
    "obsid = [obsid; obsidwod[newpoints]];"
   ]
  },
  {
   "cell_type": "markdown",
   "metadata": {
    "slideshow": {
     "slide_type": "subslide"
    }
   },
   "source": [
    "Create a plot showing the additional data points:"
   ]
  },
  {
   "cell_type": "code",
   "execution_count": 86,
   "metadata": {
    "slideshow": {
     "slide_type": "fragment"
    }
   },
   "outputs": [
    {
     "data": {
      "image/png": "[encoded data removed]",
      "text/plain": [
       "Figure(PyObject <Figure size 200x200 with 1 Axes>)"
      ]
     },
     "metadata": {},
     "output_type": "display_data"
    }
   ],
   "source": [
    "figure(\"Adriatic-Additional-Data\", figsize=(2,2))\n",
    "ax = subplot(1,1,1)\n",
    "ax.tick_params(\"both\",labelsize=6)\n",
    "ylim(39.0, 46.0);\n",
    "xlim(11.5, 20.0);\n",
    "contourf(bx, by, permutedims(Float64.(mask_edit[:,:,1]),[2,1]),\n",
    "    levels=[-1e5,0],cmap=\"binary\"); \n",
    "plot(obslon, obslat, \"bo\", markersize=.2, label=\"SeaDataNet\")\n",
    "plot(obslonwod[newpoints], obslatwod[newpoints], \"go\", \n",
    "    markersize=.2, label=\"Additional data\\nfrom World Ocean Database\")\n",
    "legend(loc=3, fontsize=4)\n",
    "gca().set_aspect(aspect_ratio)"
   ]
  },
  {
   "cell_type": "markdown",
   "metadata": {
    "slideshow": {
     "slide_type": "slide"
    }
   },
   "source": [
    "## 4. Quality control\n",
    "We check the salinity value.     \n",
    "Adapt the criteria to your region and variable."
   ]
  },
  {
   "cell_type": "code",
   "execution_count": 87,
   "metadata": {
    "slideshow": {
     "slide_type": "fragment"
    }
   },
   "outputs": [],
   "source": [
    "sel = (obsval .<= 40) .& (obsval .>= 25);"
   ]
  },
  {
   "cell_type": "code",
   "execution_count": 88,
   "metadata": {
    "slideshow": {
     "slide_type": "fragment"
    }
   },
   "outputs": [],
   "source": [
    "obsval = obsval[sel]\n",
    "obslon = obslon[sel]\n",
    "obslat = obslat[sel]\n",
    "obsdepth = obsdepth[sel]\n",
    "obstime = obstime[sel]\n",
    "obsid = obsid[sel];"
   ]
  },
  {
   "cell_type": "markdown",
   "metadata": {
    "slideshow": {
     "slide_type": "slide"
    }
   },
   "source": [
    "## 5. Analysis parameters"
   ]
  },
  {
   "cell_type": "markdown",
   "metadata": {
    "slideshow": {
     "slide_type": "subslide"
    }
   },
   "source": [
    "### Modify data weight \n",
    "⌛⌛⌛       \n",
    "Compute the new weights that takes into account close points.     \n",
    "If the dataset is large, this can take a few minutes.     \n",
    "The maximal and mean values provide an indication of the spatial proximity between the data.    \n",
    "If you apply this technique, you need to adapt `epsilon2`:"
   ]
  },
  {
   "cell_type": "code",
   "execution_count": 41,
   "metadata": {
    "slideshow": {
     "slide_type": "fragment"
    }
   },
   "outputs": [],
   "source": [
    "#@time rdiag=1.0./DIVAnd.weight_RtimesOne((obslon,obslat),(0.03,0.03));\n",
    "#@show maximum(rdiag),mean(rdiag)"
   ]
  },
  {
   "cell_type": "markdown",
   "metadata": {
    "slideshow": {
     "slide_type": "subslide"
    }
   },
   "source": [
    "### Correlation lengths and noise-to-signal ratio\n",
    "We will use the function `diva3D` for the calculations.     \n",
    "With this function, the correlation length has to be defined in meters, not in degrees."
   ]
  },
  {
   "cell_type": "code",
   "execution_count": 89,
   "metadata": {
    "slideshow": {
     "slide_type": "fragment"
    }
   },
   "outputs": [],
   "source": [
    "sz = (length(lonr),length(latr),length(depthr));\n",
    "lenx = fill(100_000.,sz)   # 100 km\n",
    "leny = fill(100_000.,sz)   # 100 km\n",
    "lenz = fill(25.,sz);      # 25 m \n",
    "len = (lenx, leny, lenz);\n",
    "epsilon2 = 0.1;\n",
    "#epsilon2 = epsilon2 * rdiag;"
   ]
  },
  {
   "cell_type": "markdown",
   "metadata": {
    "slideshow": {
     "slide_type": "subslide"
    }
   },
   "source": [
    "### Output file name"
   ]
  },
  {
   "cell_type": "code",
   "execution_count": 90,
   "metadata": {
    "slideshow": {
     "slide_type": "fragment"
    }
   },
   "outputs": [
    {
     "data": {
      "text/plain": [
       "\"Water_body_Salinity_Adriatic.4Danl.nc\""
      ]
     },
     "execution_count": 90,
     "metadata": {},
     "output_type": "execute_result"
    }
   ],
   "source": [
    "filename = \"Water_body_$(replace(varname,\" \"=>\"_\"))_Adriatic.4Danl.nc\""
   ]
  },
  {
   "cell_type": "markdown",
   "metadata": {
    "slideshow": {
     "slide_type": "slide"
    }
   },
   "source": [
    "## 6. Metadata and attributes\n",
    "Edit the different fields according to the project, the authors etc.     \n",
    "This is used for the netCDF file but also for the XML needed for the Sextant catalog."
   ]
  },
  {
   "cell_type": "code",
   "execution_count": 91,
   "metadata": {
    "slideshow": {
     "slide_type": "subslide"
    }
   },
   "outputs": [],
   "source": [
    "metadata = OrderedDict(\n",
    "    # Name of the project (SeaDataCloud, SeaDataNet, EMODNET-chemistry, ...)\n",
    "    \"project\" => \"SeaDataCloud\",\n",
    "\n",
    "    # URN code for the institution EDMO registry,\n",
    "    # e.g. SDN:EDMO::1579\n",
    "    \"institution_urn\" => \"SDN:EDMO::1579\",\n",
    "\n",
    "    # Production group\n",
    "    #\"production\" => \"Diva group\",\n",
    "\n",
    "    # Name and emails from authors\n",
    "    \"Author_e-mail\" => [\"Your Name1 <name1@example.com>\", \"Other Name <name2@example.com>\"],\n",
    "\n",
    "    # Source of the observation\n",
    "    \"source\" => \"observational data from SeaDataNet and World Ocean Atlas\",\n",
    "\n",
    "    # Additional comment\n",
    "    \"comment\" => \"Duplicate removal applied to the merged dataset\",\n",
    "\n",
    "    # SeaDataNet Vocabulary P35 URN\n",
    "    # http://seadatanet.maris2.nl/v_bodc_vocab_v2/search.asp?lib=p35\n",
    "    # example: SDN:P35::WATERTEMP\n",
    "    \"parameter_keyword_urn\" => \"SDN:P35::EPC00001\",\n",
    "\n",
    "    # List of SeaDataNet Parameter Discovery Vocabulary P02 URNs\n",
    "    # http://seadatanet.maris2.nl/v_bodc_vocab_v2/search.asp?lib=p02\n",
    "    # example: [\"SDN:P02::TEMP\"]\n",
    "    \"search_keywords_urn\" => [\"SDN:P02::PSAL\"],\n",
    "\n",
    "    # List of SeaDataNet Vocabulary C19 area URNs\n",
    "    # SeaVoX salt and fresh water body gazetteer (C19)\n",
    "    # http://seadatanet.maris2.nl/v_bodc_vocab_v2/search.asp?lib=C19\n",
    "    # example: [\"SDN:C19::3_1\"]\n",
    "    \"area_keywords_urn\" => [\"SDN:C19::3_3\"],\n",
    "\n",
    "    \"product_version\" => \"1.0\",\n",
    "    \n",
    "    \"product_code\" => \"something-to-decide\",\n",
    "    \n",
    "    # bathymetry source acknowledgement\n",
    "    # see, e.g.\n",
    "    # * EMODnet Bathymetry Consortium (2016): EMODnet Digital Bathymetry (DTM).\n",
    "    # http://doi.org/10.12770/c7b53704-999d-4721-b1a3-04ec60c87238\n",
    "    # \n",
    "    # taken from\n",
    "    # http://www.emodnet-bathymetry.eu/data-products/acknowledgement-in-publications\n",
    "    #\n",
    "    # * The GEBCO Digital Atlas published by the British Oceanographic Data Centre on behalf of IOC and IHO, 2003\n",
    "    #\n",
    "    # taken from\n",
    "    # https://www.bodc.ac.uk/projects/data_management/international/gebco/gebco_digital_atlas/copyright_and_attribution/\n",
    "        \n",
    "    \"bathymetry_source\" => \"The GEBCO Digital Atlas published by the British Oceanographic Data Centre on behalf of IOC and IHO, 2003\",\n",
    "\n",
    "    # NetCDF CF standard name\n",
    "    # http://cfconventions.org/Data/cf-standard-names/current/build/cf-standard-name-table.html\n",
    "    # example \"standard_name\" = \"sea_water_temperature\",\n",
    "    \"netcdf_standard_name\" => \"sea_water_salinity\",\n",
    "\n",
    "    \"netcdf_long_name\" => \"sea water salinity\",\n",
    "\n",
    "    \"netcdf_units\" => \"1e-3\",\n",
    "\n",
    "    # Abstract for the product\n",
    "    \"abstract\" => \"...\",\n",
    "\n",
    "    # This option provides a place to acknowledge various types of support for the\n",
    "    # project that produced the data\n",
    "    \"acknowledgement\" => \"...\",\n",
    "\n",
    "    \"documentation\" => \"http://dx.doi.org/doi_of_doc\",\n",
    "\n",
    "    # Digital Object Identifier of the data product\n",
    "    \"doi\" => \"...\");"
   ]
  },
  {
   "cell_type": "markdown",
   "metadata": {
    "slideshow": {
     "slide_type": "subslide"
    }
   },
   "source": [
    "SeaDataNet global attributes:"
   ]
  },
  {
   "cell_type": "code",
   "execution_count": 92,
   "metadata": {
    "slideshow": {
     "slide_type": "fragment"
    }
   },
   "outputs": [
    {
     "data": {
      "text/plain": [
       "(OrderedDict(\"project\"=>\"SeaDataCloud\",\"institution\"=>\"University of Liege, GeoHydrodynamics and Environment Research\",\"institution_urn\"=>\"SDN:EDMO::1579\",\"Author_e-mail\"=>\"Your Name1 <name1@example.com>, Other Name <name2@example.com>\",\"source\"=>\"observational data from SeaDataNet and World Ocean Atlas\",\"comment\"=>\"Duplicate removal applied to the merged dataset\",\"parameter_keyword\"=>\"Water body salinity\",\"parameter_keyword_urn\"=>\"SDN:P35::EPC00001\",\"search_keywords\"=>\"Salinity of the water column\",\"search_keywords_urn\"=>\"SDN:P02::PSAL\"…), OrderedDict(\"units\"=>\"1e-3\",\"standard_name\"=>\"sea_water_salinity\",\"long_name\"=>\"sea water salinity\"))"
      ]
     },
     "execution_count": 92,
     "metadata": {},
     "output_type": "execute_result"
    }
   ],
   "source": [
    "ncglobalattrib,ncvarattrib = SDNMetadata(metadata,filename,varname,lonr,latr)"
   ]
  },
  {
   "cell_type": "markdown",
   "metadata": {
    "slideshow": {
     "slide_type": "slide"
    }
   },
   "source": [
    "## 7. Analysis"
   ]
  },
  {
   "cell_type": "markdown",
   "metadata": {
    "slideshow": {
     "slide_type": "subslide"
    }
   },
   "source": [
    "Remove the result file before running the analysis, otherwise you'll get the message     \n",
    "```julia\n",
    "NCDatasets.NetCDFError(13, \"Permission denied\")\n",
    "```"
   ]
  },
  {
   "cell_type": "code",
   "execution_count": 93,
   "metadata": {
    "slideshow": {
     "slide_type": "fragment"
    }
   },
   "outputs": [
    {
     "name": "stderr",
     "output_type": "stream",
     "text": [
      "┌ Info: Removing file Water_body_Salinity_Adriatic.4Danl.nc\n",
      "└ @ Main In[93]:3\n"
     ]
    }
   ],
   "source": [
    "if isfile(filename)\n",
    "    rm(filename) # delete the previous analysis\n",
    "    @info \"Removing file $filename\"\n",
    "end"
   ]
  },
  {
   "cell_type": "markdown",
   "metadata": {
    "slideshow": {
     "slide_type": "subslide"
    }
   },
   "source": [
    "### 7.1 Plotting function\n",
    "Define a plotting function that will be applied for each time index and depth level.     \n",
    "All the figures will be saved in a selected directory."
   ]
  },
  {
   "cell_type": "code",
   "execution_count": 94,
   "metadata": {
    "slideshow": {
     "slide_type": "subslide"
    }
   },
   "outputs": [
    {
     "name": "stderr",
     "output_type": "stream",
     "text": [
      "┌ Info: Figure directory already exists\n",
      "└ @ Main In[94]:5\n"
     ]
    }
   ],
   "source": [
    "figdir = \"./Adriatic/figures/\"\n",
    "if ~(isdir(figdir))\n",
    "    mkdir(figdir)\n",
    "else\n",
    "    @info(\"Figure directory already exists\")\n",
    "end"
   ]
  },
  {
   "cell_type": "code",
   "execution_count": 95,
   "metadata": {
    "slideshow": {
     "slide_type": "subslide"
    }
   },
   "outputs": [
    {
     "data": {
      "text/plain": [
       "plotres (generic function with 1 method)"
      ]
     },
     "execution_count": 95,
     "metadata": {},
     "output_type": "execute_result"
    }
   ],
   "source": [
    "function plotres(timeindex,sel,fit,erri)\n",
    "    tmp = copy(fit)\n",
    "    nx,ny,nz = size(tmp)\n",
    "    for i in 1:nz\n",
    "        figure(\"Adriatic-Additional-Data\", figsize=(2,2))\n",
    "        ax = subplot(1,1,1)\n",
    "        ax.tick_params(\"both\",labelsize=6)\n",
    "        ylim(39.0, 46.0);\n",
    "        xlim(11.5, 20.0);\n",
    "        title(\"Depth: $(depthr[i]) \\n Time index: $(timeindex)\", fontsize=6)\n",
    "        pcolor(lonr.-dx/2.,latr.-dy/2, permutedims(tmp[:,:,i], [2,1]);\n",
    "               vmin = 33, vmax = 40)\n",
    "        colorbar(extend=\"both\", orientation=\"vertical\", shrink=0.8)[:ax].tick_params(labelsize=8)\n",
    "\n",
    "        contourf(bx,by,permutedims(b,[2,1]), levels = [-1e5,0],colors = [[.5,.5,.5]])\n",
    "        gca().set_aspect(aspect_ratio)\n",
    "        \n",
    "        figname = varname * @sprintf(\"_%02d\",i) * @sprintf(\"_%03d.png\",timeindex)\n",
    "        PyPlot.savefig(joinpath(figdir, figname), dpi=600, bbox_inches=\"tight\");\n",
    "        PyPlot.close_figs()\n",
    "    end\n",
    "end"
   ]
  },
  {
   "cell_type": "markdown",
   "metadata": {
    "slideshow": {
     "slide_type": "subslide"
    }
   },
   "source": [
    "### 7.2 Create the gridded fields using `diva3d`\n",
    "Here only the noise-to-signal ratio is estimated.     \n",
    "Set `fitcorrlen` to `true` to also optimise the correlation length."
   ]
  },
  {
   "cell_type": "code",
   "execution_count": 99,
   "metadata": {
    "slideshow": {
     "slide_type": "subslide"
    }
   },
   "outputs": [
    {
     "name": "stderr",
     "output_type": "stream",
     "text": [
      "┌ Info: Creating netCDF file\n",
      "└ @ DIVAnd /home/abarth/projects/Julia/DIVAnd.jl/src/diva.jl:304\n",
      "┌ Info: Time step 1 / 4\n",
      "└ @ DIVAnd /home/abarth/projects/Julia/DIVAnd.jl/src/diva.jl:341\n",
      "┌ Info: scaled correlation length (min,max) in dimension 1: (100000.0, 100000.0)\n",
      "└ @ DIVAnd /home/abarth/projects/Julia/DIVAnd.jl/src/diva.jl:486\n",
      "┌ Info: scaled correlation length (min,max) in dimension 2: (100000.0, 100000.0)\n",
      "└ @ DIVAnd /home/abarth/projects/Julia/DIVAnd.jl/src/diva.jl:486\n",
      "┌ Info: scaled correlation length (min,max) in dimension 3: (25.0, 25.0)\n",
      "└ @ DIVAnd /home/abarth/projects/Julia/DIVAnd.jl/src/diva.jl:486\n",
      "┌ Info: number of windows: 1\n",
      "└ @ DIVAnd /home/abarth/projects/Julia/DIVAnd.jl/src/DIVAndgo.jl:91\n",
      "┌ Info: number of windows: 1\n",
      "└ @ DIVAnd /home/abarth/projects/Julia/DIVAnd.jl/src/DIVAndgo.jl:91\n",
      "┌ Info: Time step 2 / 4\n",
      "└ @ DIVAnd /home/abarth/projects/Julia/DIVAnd.jl/src/diva.jl:341\n",
      "┌ Info: scaled correlation length (min,max) in dimension 1: (100000.0, 100000.0)\n",
      "└ @ DIVAnd /home/abarth/projects/Julia/DIVAnd.jl/src/diva.jl:486\n",
      "┌ Info: scaled correlation length (min,max) in dimension 2: (100000.0, 100000.0)\n",
      "└ @ DIVAnd /home/abarth/projects/Julia/DIVAnd.jl/src/diva.jl:486\n",
      "┌ Info: scaled correlation length (min,max) in dimension 3: (25.0, 25.0)\n",
      "└ @ DIVAnd /home/abarth/projects/Julia/DIVAnd.jl/src/diva.jl:486\n",
      "┌ Info: number of windows: 1\n",
      "└ @ DIVAnd /home/abarth/projects/Julia/DIVAnd.jl/src/DIVAndgo.jl:91\n",
      "┌ Info: number of windows: 1\n",
      "└ @ DIVAnd /home/abarth/projects/Julia/DIVAnd.jl/src/DIVAndgo.jl:91\n",
      "┌ Info: Time step 3 / 4\n",
      "└ @ DIVAnd /home/abarth/projects/Julia/DIVAnd.jl/src/diva.jl:341\n",
      "┌ Info: scaled correlation length (min,max) in dimension 1: (100000.0, 100000.0)\n",
      "└ @ DIVAnd /home/abarth/projects/Julia/DIVAnd.jl/src/diva.jl:486\n",
      "┌ Info: scaled correlation length (min,max) in dimension 2: (100000.0, 100000.0)\n",
      "└ @ DIVAnd /home/abarth/projects/Julia/DIVAnd.jl/src/diva.jl:486\n",
      "┌ Info: scaled correlation length (min,max) in dimension 3: (25.0, 25.0)\n",
      "└ @ DIVAnd /home/abarth/projects/Julia/DIVAnd.jl/src/diva.jl:486\n",
      "┌ Info: number of windows: 1\n",
      "└ @ DIVAnd /home/abarth/projects/Julia/DIVAnd.jl/src/DIVAndgo.jl:91\n",
      "┌ Info: number of windows: 1\n",
      "└ @ DIVAnd /home/abarth/projects/Julia/DIVAnd.jl/src/DIVAndgo.jl:91\n",
      "┌ Info: Time step 4 / 4\n",
      "└ @ DIVAnd /home/abarth/projects/Julia/DIVAnd.jl/src/diva.jl:341\n",
      "┌ Info: scaled correlation length (min,max) in dimension 1: (100000.0, 100000.0)\n",
      "└ @ DIVAnd /home/abarth/projects/Julia/DIVAnd.jl/src/diva.jl:486\n",
      "┌ Info: scaled correlation length (min,max) in dimension 2: (100000.0, 100000.0)\n",
      "└ @ DIVAnd /home/abarth/projects/Julia/DIVAnd.jl/src/diva.jl:486\n",
      "┌ Info: scaled correlation length (min,max) in dimension 3: (25.0, 25.0)\n",
      "└ @ DIVAnd /home/abarth/projects/Julia/DIVAnd.jl/src/diva.jl:486\n",
      "┌ Info: number of windows: 1\n",
      "└ @ DIVAnd /home/abarth/projects/Julia/DIVAnd.jl/src/DIVAndgo.jl:91\n",
      "┌ Info: number of windows: 1\n",
      "└ @ DIVAnd /home/abarth/projects/Julia/DIVAnd.jl/src/DIVAndgo.jl:91\n"
     ]
    },
    {
     "name": "stdout",
     "output_type": "stream",
     "text": [
      " 14.487849 seconds (95.28 k allocations: 5.387 GiB, 34.56% gc time)\n"
     ]
    }
   ],
   "source": [
    "@time dbinfo = diva3d((lonr,latr,depthr,TS),\n",
    "    (obslon,obslat,obsdepth,obstime), obsval,\n",
    "    len, epsilon2,\n",
    "    filename,varname,\n",
    "    bathname=bathname,\n",
    "    plotres = plotres,\n",
    "    mask = mask_edit,\n",
    "    fitcorrlen = false,\n",
    "    niter_e = 2,\n",
    "    ncvarattrib = ncvarattrib,\n",
    "    ncglobalattrib = ncglobalattrib,\n",
    "    surfextend = true\n",
    "    );"
   ]
  },
  {
   "cell_type": "markdown",
   "metadata": {
    "slideshow": {
     "slide_type": "subslide"
    }
   },
   "source": [
    "Example of results: salinity at 20 meters for the April-May-June period."
   ]
  },
  {
   "cell_type": "code",
   "execution_count": null,
   "metadata": {},
   "outputs": [],
   "source": []
  },
  {
   "cell_type": "markdown",
   "metadata": {
    "slideshow": {
     "slide_type": "fragment"
    }
   },
   "source": [
    "<img src=\"./Adriatic/figures/Salinity_02_002.png\" width=\"450px\">"
   ]
  },
  {
   "cell_type": "markdown",
   "metadata": {
    "slideshow": {
     "slide_type": "subslide"
    }
   },
   "source": [
    "Save the observation metadata in the NetCDF file.      "
   ]
  },
  {
   "cell_type": "code",
   "execution_count": 51,
   "metadata": {
    "slideshow": {
     "slide_type": "fragment"
    }
   },
   "outputs": [],
   "source": [
    "DIVAnd.saveobs(filename,(obslon,obslat,obsdepth,obstime),obsid);"
   ]
  },
  {
   "cell_type": "markdown",
   "metadata": {
    "collapsed": true,
    "slideshow": {
     "slide_type": "slide"
    }
   },
   "source": [
    "## 8. Apply a posteriori quality control\n",
    "We can use the structure `dbinfo`.\n",
    "histogram for quality flags"
   ]
  },
  {
   "cell_type": "markdown",
   "metadata": {
    "slideshow": {
     "slide_type": "slide"
    }
   },
   "source": [
    "## 9. XML metadata"
   ]
  },
  {
   "cell_type": "markdown",
   "metadata": {
    "slideshow": {
     "slide_type": "subslide"
    }
   },
   "source": [
    "For DIVAnd analysis using SeaDataCloud/EMODnet-Chemistry data, one can create a XML description for the product for Sextant\n",
    "\n",
    "Name of the project:\n",
    "* \"SeaDataCloud\" or \n",
    "* \"EMODNET-chemistry\""
   ]
  },
  {
   "cell_type": "code",
   "execution_count": 52,
   "metadata": {
    "slideshow": {
     "slide_type": "fragment"
    }
   },
   "outputs": [
    {
     "data": {
      "text/plain": [
       "\"EMODNET-chemistry\""
      ]
     },
     "execution_count": 52,
     "metadata": {},
     "output_type": "execute_result"
    }
   ],
   "source": [
    "project = \"SeaDataCloud\";\n",
    "project = \"EMODNET-chemistry\""
   ]
  },
  {
   "cell_type": "markdown",
   "metadata": {
    "slideshow": {
     "slide_type": "subslide"
    }
   },
   "source": [
    "Download CDI list"
   ]
  },
  {
   "cell_type": "code",
   "execution_count": 53,
   "metadata": {
    "slideshow": {
     "slide_type": "fragment"
    }
   },
   "outputs": [],
   "source": [
    "cdilist = \"CDI-list-export.zip\"\n",
    "\n",
    "if !isfile(cdilist)\n",
    "   download(\"http://emodnet-chemistry.maris2.nl/download/export.zip\",cdilist)\n",
    "end"
   ]
  },
  {
   "cell_type": "markdown",
   "metadata": {
    "slideshow": {
     "slide_type": "subslide"
    }
   },
   "source": [
    "If `ignore_errors` is `false` (default), then a missing CDI will stop the creatation of the XML metadata."
   ]
  },
  {
   "cell_type": "code",
   "execution_count": 54,
   "metadata": {
    "slideshow": {
     "slide_type": "fragment"
    }
   },
   "outputs": [
    {
     "data": {
      "text/plain": [
       "\"Water_body_Salinity.4Danl.xml\""
      ]
     },
     "execution_count": 54,
     "metadata": {},
     "output_type": "execute_result"
    }
   ],
   "source": [
    "ignore_errors = true\n",
    "\n",
    "# File name based on the variable (but all spaces are replaced by underscores)\n",
    "xmlfilename = \"Water_body_$(replace(varname,\" \"=>\"_\")).4Danl.xml\""
   ]
  },
  {
   "cell_type": "markdown",
   "metadata": {
    "slideshow": {
     "slide_type": "subslide"
    }
   },
   "source": [
    "Uncomment the following line of you are using SeaDataCloud or EMODnet-Chemistry data."
   ]
  },
  {
   "cell_type": "code",
   "execution_count": 55,
   "metadata": {
    "slideshow": {
     "slide_type": "fragment"
    }
   },
   "outputs": [
    {
     "name": "stderr",
     "output_type": "stream",
     "text": [
      "┌ Info: Loading EDMO information\n",
      "└ @ DIVAnd /home/abarth/projects/Julia/DIVAnd.jl/src/SDNMetadata.jl:764\n",
      "┌ Info: Lookup obsids\n",
      "└ @ DIVAnd /home/abarth/projects/Julia/DIVAnd.jl/src/SDNMetadata.jl:293\n",
      "┌ Info: Query EDMO database\n",
      "└ @ DIVAnd /home/abarth/projects/Julia/DIVAnd.jl/src/SDNMetadata.jl:327\n",
      "┌ Info: originator: Università degli Studi di Napoli 'Parthenope' - Istituto di Meteorologia e Oceanografia\n",
      "└ @ DIVAnd /home/abarth/projects/Julia/DIVAnd.jl/src/SDNMetadata.jl:335\n",
      "┌ Info: originator: Italian Navy Hydrographic Office\n",
      "└ @ DIVAnd /home/abarth/projects/Julia/DIVAnd.jl/src/SDNMetadata.jl:335\n",
      "┌ Info: originator: P.P.Shirshov Institute of Oceanology, RAS\n",
      "└ @ DIVAnd /home/abarth/projects/Julia/DIVAnd.jl/src/SDNMetadata.jl:335\n",
      "┌ Info: originator: CNR, Institute of Marine Sciences S.S. of Lerici (SP)\n",
      "└ @ DIVAnd /home/abarth/projects/Julia/DIVAnd.jl/src/SDNMetadata.jl:335\n",
      "┌ Info: originator: CNR, Istituto per lo Studio della Dinamica delle Grandi Masse\n",
      "└ @ DIVAnd /home/abarth/projects/Julia/DIVAnd.jl/src/SDNMetadata.jl:335\n",
      "┌ Info: originator: Shom\n",
      "└ @ DIVAnd /home/abarth/projects/Julia/DIVAnd.jl/src/SDNMetadata.jl:335\n",
      "┌ Info: originator: Institute of Oceanography and Fisheries\n",
      "└ @ DIVAnd /home/abarth/projects/Julia/DIVAnd.jl/src/SDNMetadata.jl:335\n",
      "┌ Info: originator: CNR, Institute of Marine Science (ISMAR) - Ancona\n",
      "└ @ DIVAnd /home/abarth/projects/Julia/DIVAnd.jl/src/SDNMetadata.jl:335\n",
      "┌ Info: originator: Ukrainian scientific center of Ecology of Sea (UkrSCES)\n",
      "└ @ DIVAnd /home/abarth/projects/Julia/DIVAnd.jl/src/SDNMetadata.jl:335\n",
      "┌ Info: originator: ARPA Emilia-Romagna - Struttura Oceanografica Daphne\n",
      "└ @ DIVAnd /home/abarth/projects/Julia/DIVAnd.jl/src/SDNMetadata.jl:335\n",
      "┌ Info: originator: IFREMER\n",
      "└ @ DIVAnd /home/abarth/projects/Julia/DIVAnd.jl/src/SDNMetadata.jl:335\n",
      "┌ Info: ignoring originator: UNKNOWN\n",
      "└ @ DIVAnd /home/abarth/projects/Julia/DIVAnd.jl/src/SDNMetadata.jl:333\n",
      "┌ Info: originator: Stazione Zoologica Anton Dohrn of Naples\n",
      "└ @ DIVAnd /home/abarth/projects/Julia/DIVAnd.jl/src/SDNMetadata.jl:335\n",
      "┌ Info: originator: Marine Biology Laboratory of Trieste\n",
      "└ @ DIVAnd /home/abarth/projects/Julia/DIVAnd.jl/src/SDNMetadata.jl:335\n",
      "┌ Info: originator: CNR, Institute of Marine Science (ISMAR) - Bologna\n",
      "└ @ DIVAnd /home/abarth/projects/Julia/DIVAnd.jl/src/SDNMetadata.jl:335\n",
      "┌ Info: originator: CNR, Institute of Marine Science (ISMAR) (Trieste)\n",
      "└ @ DIVAnd /home/abarth/projects/Julia/DIVAnd.jl/src/SDNMetadata.jl:335\n",
      "┌ Info: originator: Institute of Biology of the Southern Seas, NAS of Ukraine\n",
      "└ @ DIVAnd /home/abarth/projects/Julia/DIVAnd.jl/src/SDNMetadata.jl:335\n",
      "┌ Info: originator: Federal Maritime and Hydrographic Agency\n",
      "└ @ DIVAnd /home/abarth/projects/Julia/DIVAnd.jl/src/SDNMetadata.jl:335\n",
      "┌ Info: originator: OGS (Istituto Nazionale di Oceanografia e di Geofisica Sperimentale), Division of Oceanography\n",
      "└ @ DIVAnd /home/abarth/projects/Julia/DIVAnd.jl/src/SDNMetadata.jl:335\n",
      "┌ Info: originator: SACLANT Undersea Research Centre (SACLANTCEN)\n",
      "└ @ DIVAnd /home/abarth/projects/Julia/DIVAnd.jl/src/SDNMetadata.jl:335\n",
      "┌ Info: originator: LABORATORY OF OCEANOGRAPHY of VILLEFRANCHE (LOV) / OOV\n",
      "└ @ DIVAnd /home/abarth/projects/Julia/DIVAnd.jl/src/SDNMetadata.jl:335\n",
      "┌ Info: originator: Israel Oceanographic and Limnological Research (IOLR)\n",
      "└ @ DIVAnd /home/abarth/projects/Julia/DIVAnd.jl/src/SDNMetadata.jl:335\n",
      "┌ Info: originator: Center for marine research - Rudjer Boskovic Institute\n",
      "└ @ DIVAnd /home/abarth/projects/Julia/DIVAnd.jl/src/SDNMetadata.jl:335\n",
      "┌ Info: originator: Commissione Permanente per lo Studio dell'Adriatico, Venezia\n",
      "└ @ DIVAnd /home/abarth/projects/Julia/DIVAnd.jl/src/SDNMetadata.jl:335\n",
      "┌ Info: originator: CNR, Istituto di Scienze Marine (Sezione di Venezia - ex IBM)\n",
      "└ @ DIVAnd /home/abarth/projects/Julia/DIVAnd.jl/src/SDNMetadata.jl:335\n",
      "┌ Info: originator: Hellenic Centre for Marine Research, Institute of Oceanography (HCMR/IO)\n",
      "└ @ DIVAnd /home/abarth/projects/Julia/DIVAnd.jl/src/SDNMetadata.jl:335\n",
      "┌ Info: originator: Moscow State University, Geography Department\n",
      "└ @ DIVAnd /home/abarth/projects/Julia/DIVAnd.jl/src/SDNMetadata.jl:335\n",
      "┌ Info: Process template\n",
      "└ @ DIVAnd /home/abarth/projects/Julia/DIVAnd.jl/src/SDNMetadata.jl:846\n"
     ]
    }
   ],
   "source": [
    "# generate a XML file for Sextant catalog\n",
    "divadoxml(filename,varname,project,cdilist,xmlfilename,\n",
    "          ignore_errors = ignore_errors)"
   ]
  },
  {
   "cell_type": "code",
   "execution_count": null,
   "metadata": {},
   "outputs": [],
   "source": []
  }
 ],
 "metadata": {
  "@webio": {
   "lastCommId": "52E157C405664DC884C9ACAB5D268038",
   "lastKernelId": "1d02270b-07da-4bf7-8350-e4376bce991f"
  },
  "celltoolbar": "Slideshow",
  "kernelspec": {
   "display_name": "Julia 1.0.3",
   "language": "julia",
   "name": "julia-1.0"
  },
  "language_info": {
   "file_extension": ".jl",
   "mimetype": "application/julia",
   "name": "julia",
   "version": "1.0.3"
  }
 },
 "nbformat": 4,
 "nbformat_minor": 2
}
