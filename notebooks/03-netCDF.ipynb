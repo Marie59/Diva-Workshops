{
 "cells": [
  {
   "cell_type": "markdown",
   "metadata": {},
   "source": [
    "# NetCDF read/write\n",
    "This notebook is focused on the [netCDF](https://www.unidata.ucar.edu/software/netcdf/) and how to read/write data from/in this format.    \n",
    "The first module to work with netCDF was https://github.com/JuliaGeo/NetCDF.jl, but recently another module was developed by [@abarth](https://github.com/Alexander-Barth): [NCDatasets](https://github.com/Alexander-Barth/NCDatasets.jl). We will use it in this notebook."
   ]
  },
  {
   "cell_type": "code",
   "execution_count": 1,
   "metadata": {},
   "outputs": [],
   "source": [
    "using NCDatasets\n",
    "if VERSION < v\"0.7.0-beta.0\"\n",
    "    using Compat: @info, @warn, @debug\n",
    "end\n",
    "using Compat"
   ]
  },
  {
   "cell_type": "markdown",
   "metadata": {},
   "source": [
    "## Read a netCDF\n",
    "We will use the GEBCO bathymetry as an example."
   ]
  },
  {
   "cell_type": "code",
   "execution_count": 2,
   "metadata": {},
   "outputs": [
    {
     "name": "stderr",
     "output_type": "stream",
     "text": [
      "┌ Info: Bathymetry file already downloaded\n",
      "└ @ Main In[2]:5\n"
     ]
    }
   ],
   "source": [
    "ncfile = \"data/gebco_30sec_16.nc\"\n",
    "if !isfile(ncfile)\n",
    "    download(\"https://dox.ulg.ac.be/index.php/s/U0pqyXhcQrXjEUX/download\", ncfile)\n",
    "else\n",
    "    @info(\"Bathymetry file already downloaded\")\n",
    "end"
   ]
  },
  {
   "cell_type": "markdown",
   "metadata": {},
   "source": [
    "First we open the file for reading (**\"r\"** option).    "
   ]
  },
  {
   "cell_type": "code",
   "execution_count": 3,
   "metadata": {},
   "outputs": [
    {
     "name": "stdout",
     "output_type": "stream",
     "text": [
      "ds = Dataset: data/gebco_30sec_16.nc\n",
      "Group: /\n",
      "\n",
      "Dimensions\n",
      "   lat = 5402\n",
      "   lon = 10800\n",
      "\n",
      "Variables\n",
      "  lat   (5402)\n",
      "    Datatype:    Float64\n",
      "    Dimensions:  lat\n",
      "    Attributes:\n",
      "     long_name            = Latitude\n",
      "     standard_name        = latitude\n",
      "     units                = degrees_north\n",
      "\n",
      "  lon   (10800)\n",
      "    Datatype:    Float64\n",
      "    Dimensions:  lon\n",
      "    Attributes:\n",
      "     long_name            = Longitude\n",
      "     standard_name        = longitude\n",
      "     units                = degrees_east\n",
      "\n",
      "  bat   (10800 × 5402)\n",
      "    Datatype:    Float32\n",
      "    Dimensions:  lon × lat\n",
      "    Attributes:\n",
      "     long_name            = elevation above sea level\n",
      "     standard_name        = height\n",
      "     units                = meters\n",
      "\n",
      "Global attributes\n",
      "  title                = GEBCO\n",
      "\n"
     ]
    }
   ],
   "source": [
    "ds = Dataset(ncfile, \"r\");\n",
    "@show ds;"
   ]
  },
  {
   "cell_type": "markdown",
   "metadata": {},
   "source": [
    "We now know the variable name and attributes, as well as the dimensions.    \n",
    "Let's read the longitude, latitude and bathymetry."
   ]
  },
  {
   "cell_type": "code",
   "execution_count": 4,
   "metadata": {},
   "outputs": [],
   "source": [
    "lon = ds[\"lon\"];\n",
    "lat = ds[\"lat\"];\n",
    "bathymetry = ds[\"bat\"];"
   ]
  },
  {
   "cell_type": "markdown",
   "metadata": {},
   "source": [
    "Note that with the previous commands, we load both the variable values and their attributes."
   ]
  },
  {
   "cell_type": "code",
   "execution_count": 5,
   "metadata": {},
   "outputs": [
    {
     "name": "stdout",
     "output_type": "stream",
     "text": [
      "typeof(lon) = NCDatasets.CFVariable{Union{Missing, DateTime, AbstractCFDateTime, Number},1,NCDatasets.Variable{Float64,1},NCDatasets.Attributes}\n",
      "lon.attrib =   long_name            = Longitude\n",
      "  standard_name        = longitude\n",
      "  units                = degrees_east\n",
      "\n"
     ]
    }
   ],
   "source": [
    "@show typeof(lon);\n",
    "@show lon.attrib;"
   ]
  },
  {
   "cell_type": "markdown",
   "metadata": {},
   "source": [
    "Then if we want to access the values only, we can use similar commands but with the `[:]` at the end:"
   ]
  },
  {
   "cell_type": "code",
   "execution_count": 6,
   "metadata": {},
   "outputs": [],
   "source": [
    "bx = ds[\"lon\"][:];\n",
    "by = ds[\"lat\"][:];\n",
    "b = ds[\"bat\"][:];"
   ]
  },
  {
   "cell_type": "markdown",
   "metadata": {},
   "source": [
    "which yield different arrays, for instance:"
   ]
  },
  {
   "cell_type": "code",
   "execution_count": 7,
   "metadata": {},
   "outputs": [
    {
     "name": "stdout",
     "output_type": "stream",
     "text": [
      "typeof(bx) = Array{Union{Missing, Float64},1}\n"
     ]
    }
   ],
   "source": [
    "@show typeof(bx);"
   ]
  },
  {
   "cell_type": "markdown",
   "metadata": {},
   "source": [
    "## Write a netCDF\n",
    "### Time series\n",
    "Let's start with a very simple example: a temperature time series (1-dimensional dataset), corresponding to the mean temperature in Uccle, Belgium (source: [IRM](https://www.meteo.be/meteo/view/fr/360955-Normales+mensuelles.html#ppt_5238240))."
   ]
  },
  {
   "cell_type": "code",
   "execution_count": 8,
   "metadata": {},
   "outputs": [],
   "source": [
    "temperatureUccle = [3.3, 3.7, 6.8, 9.8, 13.6, 16.2, 18.4, 18., 14.9, 11.1, 6.8, 3.9];"
   ]
  },
  {
   "cell_type": "markdown",
   "metadata": {},
   "source": [
    "First, let's create the file (clobber mode indicated by **\"c\"**).    \n",
    "Note that we need to ensure the file doesn't already exist (otherwise we remove it)."
   ]
  },
  {
   "cell_type": "code",
   "execution_count": 9,
   "metadata": {},
   "outputs": [
    {
     "name": "stderr",
     "output_type": "stream",
     "text": [
      "┌ Info: Removing file temperature_series.nc\n",
      "└ @ Main In[9]:4\n"
     ]
    }
   ],
   "source": [
    "outputfile = \"temperature_series.nc\"\n",
    "if isfile(outputfile)\n",
    "    rm(outputfile) \n",
    "    @info \"Removing file $(outputfile)\"\n",
    "else\n",
    "    @info \"Creating a new netCDF\"\n",
    "end\n",
    "ds = Dataset(outputfile, \"c\");"
   ]
  },
  {
   "cell_type": "markdown",
   "metadata": {},
   "source": [
    "Then we create a time dimension. Its size should match that of the temperature vector."
   ]
  },
  {
   "cell_type": "code",
   "execution_count": 10,
   "metadata": {},
   "outputs": [
    {
     "data": {
      "text/plain": [
       "0"
      ]
     },
     "execution_count": 10,
     "metadata": {},
     "output_type": "execute_result"
    }
   ],
   "source": [
    "defDim(ds, \"time\", length(temperatureUccle))"
   ]
  },
  {
   "cell_type": "markdown",
   "metadata": {},
   "source": [
    "Now we can also create the *temperature* variable, which has *time* as dimension."
   ]
  },
  {
   "cell_type": "code",
   "execution_count": 11,
   "metadata": {},
   "outputs": [],
   "source": [
    "temperature = defVar(ds, \"temperature\", Float64, (\"time\",));"
   ]
  },
  {
   "cell_type": "markdown",
   "metadata": {},
   "source": [
    "We will fill this variable with the values previously defined (note again the `[:]`):"
   ]
  },
  {
   "cell_type": "code",
   "execution_count": 12,
   "metadata": {},
   "outputs": [],
   "source": [
    "temperature[:] = temperatureUccle;"
   ]
  },
  {
   "cell_type": "markdown",
   "metadata": {},
   "source": [
    "and don't forget to close the `ds`:"
   ]
  },
  {
   "cell_type": "code",
   "execution_count": 13,
   "metadata": {},
   "outputs": [],
   "source": [
    "close(ds);"
   ]
  },
  {
   "cell_type": "markdown",
   "metadata": {},
   "source": [
    "If you have [`ncdump`](https://www.unidata.ucar.edu/software/netcdf/netcdf-4/newdocs/netcdf/ncdump.html) available on your machine, you can easily check the file content.     \n",
    "Otherwise you can use the first part of the notebook, in which we've shown how to read a netCDF file."
   ]
  },
  {
   "cell_type": "code",
   "execution_count": 14,
   "metadata": {},
   "outputs": [
    {
     "name": "stdout",
     "output_type": "stream",
     "text": [
      "netcdf temperature_series {\n",
      "dimensions:\n",
      "\ttime = 12 ;\n",
      "variables:\n",
      "\tdouble temperature(time) ;\n",
      "data:\n",
      "\n",
      " temperature = 3.3, 3.7, 6.8, 9.8, 13.6, 16.2, 18.4, 18, 14.9, 11.1, 6.8, 3.9 ;\n",
      "}\n"
     ]
    },
    {
     "data": {
      "text/plain": [
       "Process(`\u001b[4mncdump\u001b[24m \u001b[4mtemperature_series.nc\u001b[24m`, ProcessExited(0))"
      ]
     },
     "execution_count": 14,
     "metadata": {},
     "output_type": "execute_result"
    }
   ],
   "source": [
    "run(`ncdump temperature_series.nc`)"
   ]
  },
  {
   "cell_type": "markdown",
   "metadata": {
    "collapsed": true
   },
   "source": [
    "## Exercice\n",
    "Create a netCDF file storing a 2D field (it can be a random field or real data).     \n",
    "The procedure is similar to the previous example, except that we will work with longitude and latitude dimensions, instead of time.\n",
    "\n",
    "The solution is available in [03-netCDF-2Dimensions.ipynb](./solutions/03-netCDF-2Dimensions.ipynb)."
   ]
  }
 ],
 "metadata": {
  "@webio": {
   "lastCommId": null,
   "lastKernelId": null
  },
  "kernelspec": {
   "display_name": "Julia 1.1.0",
   "language": "julia",
   "name": "julia-1.1"
  },
  "language_info": {
   "file_extension": ".jl",
   "mimetype": "application/julia",
   "name": "julia",
   "version": "1.1.0"
  }
 },
 "nbformat": 4,
 "nbformat_minor": 2
}
