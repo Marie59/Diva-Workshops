{
 "cells": [
  {
   "cell_type": "markdown",
   "metadata": {},
   "source": [
    "# NetCDF read/write\n",
    "This notebook is focused on the [netCDF](https://www.unidata.ucar.edu/software/netcdf/) and how to read/write data from/in this format.    \n",
    "The first module to work with netCDF was https://github.com/JuliaGeo/NetCDF.jl, but recently [@abarth](https://github.com/Alexander-Barth) developed another module: [NCDatasets](https://github.com/Alexander-Barth/NCDatasets.jl). We will use the later in this notebook."
   ]
  },
  {
   "cell_type": "code",
   "execution_count": 1,
   "metadata": {},
   "outputs": [
    {
     "name": "stdout",
     "output_type": "stream",
     "text": [
      " - NCDatasets                    0.0.10\n"
     ]
    }
   ],
   "source": [
    "using NCDatasets\n",
    "Pkg.status(\"NCDatasets\")"
   ]
  },
  {
   "cell_type": "markdown",
   "metadata": {},
   "source": [
    "## Read a netCDF\n",
    "We will use the GEBCO bathymetry as an example."
   ]
  },
  {
   "cell_type": "code",
   "execution_count": 3,
   "metadata": {},
   "outputs": [
    {
     "name": "stderr",
     "output_type": "stream",
     "text": [
      "\u001b[1m\u001b[36mINFO: \u001b[39m\u001b[22m\u001b[36mBathymetry file already downloaded\n",
      "\u001b[39m"
     ]
    }
   ],
   "source": [
    "ncfile = \"gebco_30sec_16.nc\"\n",
    "if !isfile(ncfile)\n",
    "    download(\"https://b2drop.eudat.eu/s/o0vinoQutAC7eb0/download\", ncfile)\n",
    "else\n",
    "    info(\"Bathymetry file already downloaded\")\n",
    "end"
   ]
  },
  {
   "cell_type": "markdown",
   "metadata": {},
   "source": [
    "First we open the file for readind (**\"r\"** option).    "
   ]
  },
  {
   "cell_type": "code",
   "execution_count": 7,
   "metadata": {},
   "outputs": [
    {
     "name": "stdout",
     "output_type": "stream",
     "text": [
      "ds = \u001b[31mDataset: gebco_30sec_16.nc\n",
      "\u001b[39mGroup: /\n",
      "\n",
      "\u001b[31mDimensions\n",
      "\u001b[39m   lat = 1352\n",
      "   lon = 2700\n",
      "\n",
      "\u001b[31mVariables\n",
      "\u001b[39m\u001b[32m  lat\u001b[39m   (1352)\n",
      "    Datatype:    Float64\n",
      "    Dimensions:  lat\n",
      "    Attributes:\n",
      "     long_name            = \u001b[34mLatitude\u001b[39m\n",
      "     standard_name        = \u001b[34mlatitude\u001b[39m\n",
      "     units                = \u001b[34mdegrees_north\u001b[39m\n",
      "\n",
      "\u001b[32m  lon\u001b[39m   (2700)\n",
      "    Datatype:    Float64\n",
      "    Dimensions:  lon\n",
      "    Attributes:\n",
      "     long_name            = \u001b[34mLongitude\u001b[39m\n",
      "     standard_name        = \u001b[34mlongitude\u001b[39m\n",
      "     units                = \u001b[34mdegrees_east\u001b[39m\n",
      "\n",
      "\u001b[32m  bat\u001b[39m   (2700 × 1352)\n",
      "    Datatype:    Float32\n",
      "    Dimensions:  lon × lat\n",
      "    Attributes:\n",
      "     long_name            = \u001b[34melevation above sea level\u001b[39m\n",
      "     standard_name        = \u001b[34mheight\u001b[39m\n",
      "     units                = \u001b[34mmeters\u001b[39m\n",
      "\n",
      "\u001b[31mGlobal attributes\n",
      "\u001b[39m  title                = \u001b[34mGEBCO\u001b[39m\n",
      "\n"
     ]
    }
   ],
   "source": [
    "ds = Dataset(ncfile, \"r\");\n",
    "@show ds;"
   ]
  },
  {
   "cell_type": "markdown",
   "metadata": {},
   "source": [
    "We now know the variable name and attributes, as well as the dimensions.    \n",
    "Let's read the longitude, latitude and bathymetry."
   ]
  },
  {
   "cell_type": "code",
   "execution_count": 9,
   "metadata": {},
   "outputs": [],
   "source": [
    "lon = ds[\"lon\"];\n",
    "lat = ds[\"lat\"];\n",
    "bathymetry = ds[\"bat\"];"
   ]
  },
  {
   "cell_type": "code",
   "execution_count": null,
   "metadata": {
    "collapsed": true
   },
   "outputs": [],
   "source": [
    "Note that with the previous commands, we load the variable values and attributes."
   ]
  },
  {
   "cell_type": "code",
   "execution_count": 15,
   "metadata": {},
   "outputs": [
    {
     "name": "stdout",
     "output_type": "stream",
     "text": [
      "typeof(lon) = NCDatasets.CFVariable{Float64,Float64,1}\n",
      "lon.attrib =   long_name            = \u001b[34mLongitude\u001b[39m\n",
      "  standard_name        = \u001b[34mlongitude\u001b[39m\n",
      "  units                = \u001b[34mdegrees_east\u001b[39m\n",
      "\n"
     ]
    }
   ],
   "source": [
    "@show typeof(lon);\n",
    "@show lon.attrib;"
   ]
  },
  {
   "cell_type": "markdown",
   "metadata": {},
   "source": [
    "If we want to access the values only, we can use similar commands but with the `[:]` at the end:"
   ]
  },
  {
   "cell_type": "code",
   "execution_count": 16,
   "metadata": {
    "collapsed": true
   },
   "outputs": [],
   "source": [
    "lon = ds[\"lon\"][:];\n",
    "lat = ds[\"lat\"][:];\n",
    "bathymetry = ds[\"bat\"][:];"
   ]
  },
  {
   "cell_type": "code",
   "execution_count": null,
   "metadata": {
    "collapsed": true
   },
   "outputs": [],
   "source": [
    "which yield data arrays"
   ]
  },
  {
   "cell_type": "code",
   "execution_count": 18,
   "metadata": {},
   "outputs": [
    {
     "name": "stdout",
     "output_type": "stream",
     "text": [
      "typeof(lon) = DataArrays.DataArray{Float64,1}\n"
     ]
    }
   ],
   "source": [
    "@show typeof(lon);"
   ]
  },
  {
   "cell_type": "markdown",
   "metadata": {},
   "source": [
    "## Write a netCDF\n",
    "### Time series\n",
    "Let's start with a very simple example: a temperature time series (1-dimensional dataset), corresponding to the mean temperature in Uccle, Belgium (source: [IRM](https://www.meteo.be/meteo/view/fr/360955-Normales+mensuelles.html#ppt_5238240))."
   ]
  },
  {
   "cell_type": "code",
   "execution_count": 49,
   "metadata": {},
   "outputs": [
    {
     "data": {
      "text/plain": [
       "12-element Array{Float64,1}:\n",
       "  3.3\n",
       "  3.7\n",
       "  6.8\n",
       "  9.8\n",
       " 13.6\n",
       " 16.2\n",
       " 18.4\n",
       " 18.0\n",
       " 14.9\n",
       " 11.1\n",
       "  6.8\n",
       "  3.9"
      ]
     },
     "execution_count": 49,
     "metadata": {},
     "output_type": "execute_result"
    }
   ],
   "source": [
    "temperatureUccle = [3.3, 3.7, 6.8, 9.8, 13.6, 16.2, 18.4, 18., 14.9, 11.1, 6.8, 3.9]"
   ]
  },
  {
   "cell_type": "markdown",
   "metadata": {},
   "source": [
    "First, let's create the file (clobber mode indcated by \"c\"):"
   ]
  },
  {
   "cell_type": "code",
   "execution_count": 53,
   "metadata": {
    "collapsed": true
   },
   "outputs": [],
   "source": [
    "ds = Dataset(\"temperature_series.nc\", \"c\");"
   ]
  },
  {
   "cell_type": "markdown",
   "metadata": {},
   "source": [
    "Then we create a time dimension. Its size should correspond to that of our temperature vector."
   ]
  },
  {
   "cell_type": "code",
   "execution_count": 54,
   "metadata": {},
   "outputs": [
    {
     "data": {
      "text/plain": [
       "0"
      ]
     },
     "execution_count": 54,
     "metadata": {},
     "output_type": "execute_result"
    }
   ],
   "source": [
    "defDim(ds, \"time\", length(temperatureUccle))"
   ]
  },
  {
   "cell_type": "markdown",
   "metadata": {},
   "source": [
    "Now we can also create the *temperature* variable, which has *time* as dimension."
   ]
  },
  {
   "cell_type": "code",
   "execution_count": 55,
   "metadata": {
    "collapsed": true
   },
   "outputs": [],
   "source": [
    "temperature = defVar(ds, \"temperature\", Float64, (\"time\",));"
   ]
  },
  {
   "cell_type": "markdown",
   "metadata": {},
   "source": [
    "We will this variable with the values previously defined:"
   ]
  },
  {
   "cell_type": "code",
   "execution_count": 56,
   "metadata": {
    "collapsed": true
   },
   "outputs": [],
   "source": [
    "temperature[:] = temperatureUccle;"
   ]
  },
  {
   "cell_type": "markdown",
   "metadata": {},
   "source": [
    "and don't forget to close the `ds`:"
   ]
  },
  {
   "cell_type": "code",
   "execution_count": 57,
   "metadata": {
    "collapsed": true
   },
   "outputs": [],
   "source": [
    "close(ds)"
   ]
  },
  {
   "cell_type": "markdown",
   "metadata": {},
   "source": [
    "If you have [`ncdump`] installed on your machine, you can easily check the file content.     \n",
    "Otherwise we'll show another way to do it."
   ]
  },
  {
   "cell_type": "code",
   "execution_count": 59,
   "metadata": {},
   "outputs": [
    {
     "name": "stdout",
     "output_type": "stream",
     "text": [
      "netcdf temperature_series {\n",
      "dimensions:\n",
      "\ttime = 12 ;\n",
      "variables:\n",
      "\tdouble temperature(time) ;\n",
      "data:\n",
      "\n",
      " temperature = 3.3, 3.7, 6.8, 9.8, 13.6, 16.2, 18.4, 18, 14.9, 11.1, 6.8, 3.9 ;\n",
      "}\n"
     ]
    }
   ],
   "source": [
    "run(`ncdump temperature_series.nc`)"
   ]
  },
  {
   "cell_type": "code",
   "execution_count": null,
   "metadata": {
    "collapsed": true
   },
   "outputs": [],
   "source": [
    "## 2D field\n",
    "The procedure is similar to the previous example, except that we will work with longitude and latitude coordinates."
   ]
  }
 ],
 "metadata": {
  "kernelspec": {
   "display_name": "Julia 0.6.2",
   "language": "julia",
   "name": "julia-0.6"
  },
  "language_info": {
   "file_extension": ".jl",
   "mimetype": "application/julia",
   "name": "julia",
   "version": "0.6.2"
  }
 },
 "nbformat": 4,
 "nbformat_minor": 2
}
