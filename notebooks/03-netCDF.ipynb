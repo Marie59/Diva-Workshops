{
 "cells": [
  {
   "cell_type": "markdown",
   "metadata": {},
   "source": [
    "This notebook is focused on the [netCDF](https://www.unidata.ucar.edu/software/netcdf/) and how to read/write data from/in this format.    \n",
    "The first module to work with netCDF was https://github.com/JuliaGeo/NetCDF.jl, but recently [@abarth](https://github.com/Alexander-Barth) developed another module: [NCDatasets](https://github.com/Alexander-Barth/NCDatasets.jl). We will use the later in this notebook."
   ]
  },
  {
   "cell_type": "code",
   "execution_count": 39,
   "metadata": {},
   "outputs": [
    {
     "name": "stderr",
     "output_type": "stream",
     "text": [
      "\u001b[1m\u001b[36mINFO: \u001b[39m\u001b[22m\u001b[36mRecompiling stale cache file /home/ctroupin/.julia/v0.6/lib/v0.6/DataStructures.ji for module DataStructures.\n",
      "\u001b[39m\u001b[1m\u001b[36mINFO: \u001b[39m\u001b[22m\u001b[36mRecompiling stale cache file /home/ctroupin/.julia/v0.6/lib/v0.6/NCDatasets.ji for module NCDatasets.\n",
      "\u001b[39m"
     ]
    },
    {
     "name": "stdout",
     "output_type": "stream",
     "text": [
      " - NCDatasets                    0.0.9\n"
     ]
    }
   ],
   "source": [
    "using NCDatasets\n",
    "Pkg.status(\"NCDatasets\")"
   ]
  },
  {
   "cell_type": "markdown",
   "metadata": {},
   "source": [
    "# Write a netCDF\n",
    "Let's start with a very simple example: a temperature time series (1-dimensional dataset), corresponding to the mean temperature in Uccle, Belgium (source: [IRM](https://www.meteo.be/meteo/view/fr/360955-Normales+mensuelles.html#ppt_5238240))."
   ]
  },
  {
   "cell_type": "code",
   "execution_count": 49,
   "metadata": {},
   "outputs": [
    {
     "data": {
      "text/plain": [
       "12-element Array{Float64,1}:\n",
       "  3.3\n",
       "  3.7\n",
       "  6.8\n",
       "  9.8\n",
       " 13.6\n",
       " 16.2\n",
       " 18.4\n",
       " 18.0\n",
       " 14.9\n",
       " 11.1\n",
       "  6.8\n",
       "  3.9"
      ]
     },
     "execution_count": 49,
     "metadata": {},
     "output_type": "execute_result"
    }
   ],
   "source": [
    "temperatureUccle = [3.3, 3.7, 6.8, 9.8, 13.6, 16.2, 18.4, 18., 14.9, 11.1, 6.8, 3.9]"
   ]
  },
  {
   "cell_type": "markdown",
   "metadata": {},
   "source": [
    "First, let's create the file (clobber mode indcated by \"c\"):"
   ]
  },
  {
   "cell_type": "code",
   "execution_count": 53,
   "metadata": {},
   "outputs": [],
   "source": [
    "ds = Dataset(\"temperature_series.nc\", \"c\");"
   ]
  },
  {
   "cell_type": "markdown",
   "metadata": {},
   "source": [
    "Then we create a time dimension. Its size should correspond to that of our temperature vector."
   ]
  },
  {
   "cell_type": "code",
   "execution_count": 54,
   "metadata": {},
   "outputs": [
    {
     "data": {
      "text/plain": [
       "0"
      ]
     },
     "execution_count": 54,
     "metadata": {},
     "output_type": "execute_result"
    }
   ],
   "source": [
    "defDim(ds, \"time\", length(temperatureUccle))"
   ]
  },
  {
   "cell_type": "markdown",
   "metadata": {},
   "source": [
    "Now we can also create the *temperature* variable, which has *time* as dimension."
   ]
  },
  {
   "cell_type": "code",
   "execution_count": 55,
   "metadata": {},
   "outputs": [],
   "source": [
    "temperature = defVar(ds, \"temperature\", Float64, (\"time\",));"
   ]
  },
  {
   "cell_type": "markdown",
   "metadata": {},
   "source": [
    "We will this variable with the values previously defined:"
   ]
  },
  {
   "cell_type": "code",
   "execution_count": 56,
   "metadata": {},
   "outputs": [],
   "source": [
    "temperature[:] = temperatureUccle;"
   ]
  },
  {
   "cell_type": "markdown",
   "metadata": {},
   "source": [
    "and don't forget to close the `ds`:"
   ]
  },
  {
   "cell_type": "code",
   "execution_count": 57,
   "metadata": {},
   "outputs": [],
   "source": [
    "close(ds)"
   ]
  },
  {
   "cell_type": "markdown",
   "metadata": {},
   "source": [
    "If you have [`ncdump`] installed on your machine, you can easily check the file content."
   ]
  },
  {
   "cell_type": "code",
   "execution_count": 58,
   "metadata": {},
   "outputs": [
    {
     "name": "stdout",
     "output_type": "stream",
     "text": [
      "netcdf temperature_series {\n",
      "dimensions:\n",
      "\ttime = 12 ;\n",
      "variables:\n",
      "\tdouble temperature(time) ;\n",
      "data:\n",
      "\n",
      " temperature = 3.3, 3.7, 6.8, 9.8, 13.6, 16.2, 18.4, 18, 14.9, 11.1, 6.8, 3.9 ;\n",
      "}\n"
     ]
    }
   ],
   "source": [
    "run(`ncdump temperature_series.nc`)"
   ]
  },
  {
   "cell_type": "code",
   "execution_count": null,
   "metadata": {
    "collapsed": true
   },
   "outputs": [],
   "source": []
  }
 ],
 "metadata": {
  "kernelspec": {
   "display_name": "Julia 0.6.2",
   "language": "julia",
   "name": "julia-0.6"
  },
  "language_info": {
   "file_extension": ".jl",
   "mimetype": "application/julia",
   "name": "julia",
   "version": "0.6.2"
  }
 },
 "nbformat": 4,
 "nbformat_minor": 2
}
