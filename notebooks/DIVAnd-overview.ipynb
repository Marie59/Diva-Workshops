{
 "cells": [
  {
   "cell_type": "markdown",
   "metadata": {
    "slideshow": {
     "slide_type": "slide"
    }
   },
   "source": [
    "# Overview of DIVAnd"
   ]
  },
  {
   "cell_type": "markdown",
   "metadata": {
    "slideshow": {
     "slide_type": "subslide"
    }
   },
   "source": [
    "`DIVAnd` is **not** a new release of DIVA, it is another software tool with different algorithm, functionalities and language."
   ]
  },
  {
   "cell_type": "markdown",
   "metadata": {
    "slideshow": {
     "slide_type": "slide"
    }
   },
   "source": [
    "## Let's compare appels and oranges\n",
    "\n",
    "![](Images/appels_and_oranges.jpg)\n",
    "* _Äpfel mit Birnen vergleichen_\n",
    "* _Comparer des choux et des carottes_\n",
    "* _Paragonare cavoli e patate_ (compare cabbages and potatoes)"
   ]
  },
  {
   "cell_type": "markdown",
   "metadata": {
    "slideshow": {
     "slide_type": "subslide"
    }
   },
   "source": [
    "For a single 2D analysis (surface salinity in the Black Sea) on Intel Xeon CPU E5-2650.     \n",
    "DIVA was compiled with the Intel Fortran Compiler.\n",
    "\n",
    "|    | DIVA - Fortran | DIVAnd - julia |\n",
    "|----|----------------|----------------|\n",
    "| mesh             | triangular | structured | \n",
    "| deg. of freedom  |    236296 |  236317 |\n",
    "| correlation length | 0.19    | 0.19 |\n",
    "| CPU time | 43.8 s | 8.7 s |\n",
    "\n",
    "* However, a triangular mesh is greatly more flexible than a structured mesh.\n",
    "* Main adventage of `DIVAnd` is that it can work on more than just 2 dimensions (but the requirements of RAM memory increase also)."
   ]
  },
  {
   "cell_type": "markdown",
   "metadata": {
    "slideshow": {
     "slide_type": "slide"
    }
   },
   "source": [
    "## On public servers (cloud)\n",
    "\n",
    "* Request a B2ACCESS account: https://b2access.eudat.eu/home/\n",
    "* Choose: create B2ACCESS account (username only)\n",
    "* Fill the form and click on submit\n",
    "* Go to B2DROP (https://b2drop.eudat.eu) choose B2ACCESS\n",
    "* Click on the settings icon and select \"Personal\".\n",
    "* Under Security, create new app-password. **Save** this userame and password.\n",
    "* Go to https://hub-test.oceanbrowser.net/hub/login and use your temporary username and password.\n",
    "* Click on \"New\" (on the right) and select Julia 0.6.2\n",
    "* As a test, paste the following\n",
    "\n",
    "```julia\n",
    "include(\"/home/jovyan/.julia/v0.6/divand/examples/divand_simple_example.jl\")\n",
    "```\n",
    "\n",
    "* Hit Control-Enter to execute\n",
    "* Note the first time, it takes a bit because the code is compiled in the background but every subsequent call is much faster.\n",
    "* **To store files permanently, copy them into the B2DROP folder.**\n",
    "* This machine ist hosted a CINECA (Italy) and has 120 GB RAM."
   ]
  },
  {
   "cell_type": "markdown",
   "metadata": {
    "slideshow": {
     "slide_type": "subslide"
    }
   },
   "source": [
    "### Other jupyterhub instance with DIVAnd preinstalled\n",
    "\n",
    "In developpement:\n",
    "\n",
    "* CSC (Finland)\n",
    "* EGI "
   ]
  },
  {
   "cell_type": "markdown",
   "metadata": {
    "slideshow": {
     "slide_type": "slide"
    }
   },
   "source": [
    "# Primary functions\n",
    "\n",
    "* `divandrun`: Implements the DIVA alogorithm in N dimensions on a structured grid.\n",
    "* `divandgo`: Split the domain in overlapping subdomains and calls `divandrun` on every subdomain (to reduce the memory consumption).\n",
    "* `diva`: High-level function which selects the appropriate data."
   ]
  },
  {
   "cell_type": "markdown",
   "metadata": {
    "slideshow": {
     "slide_type": "subslide"
    }
   },
   "source": [
    "## Issues to avoid\n",
    "\n",
    "* Julia code can be quite efficient if the types can be inferred or explicetly declared. \n",
    "* When types are explicetly declared, some flexibility is lost. For instance the type of the e.g. correlation length and error covariance must be real numbers and not integers. For example:\n",
    "\n",
    "```julia\n",
    "len = (5,5.5) # avoid this (5 is an integer and 5.5 is a floating number)\n",
    "```\n",
    "\n",
    "use rather this:\n",
    "\n",
    "```julia\n",
    "len = (5.,5.5) # this is fine (5. and 5.5 are floating numbers)\n",
    "```"
   ]
  },
  {
   "cell_type": "code",
   "execution_count": null,
   "metadata": {
    "collapsed": true
   },
   "outputs": [],
   "source": []
  }
 ],
 "metadata": {
  "celltoolbar": "Slideshow",
  "kernelspec": {
   "display_name": "Julia 0.6.2",
   "language": "julia",
   "name": "julia-0.6"
  },
  "language_info": {
   "file_extension": ".jl",
   "mimetype": "application/julia",
   "name": "julia",
   "version": "0.6.2"
  }
 },
 "nbformat": 4,
 "nbformat_minor": 2
}
