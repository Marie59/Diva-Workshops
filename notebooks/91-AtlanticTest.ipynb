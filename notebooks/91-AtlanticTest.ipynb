{
 "cells": [
  {
   "cell_type": "markdown",
   "metadata": {
    "slideshow": {
     "slide_type": "slide"
    }
   },
   "source": [
    "# DIVAnd Atlantic test\n",
    "\n",
    "This notebook serves as a large test case with data covering the Atlantic region."
   ]
  },
  {
   "cell_type": "code",
   "execution_count": 1,
   "metadata": {
    "slideshow": {
     "slide_type": "subslide"
    }
   },
   "outputs": [
    {
     "name": "stderr",
     "output_type": "stream",
     "text": [
      "┌ Info: Recompiling stale cache file /home/abarth/.julia/compiled/v1.0/DIVAnd.ji for DIVAnd [top-level]\n",
      "└ @ Base loading.jl:1190\n",
      "WARNING: Method definition *(SparseArrays.SparseMatrixCSC{Tv, Ti} where Ti<:Integer where Tv, LinearAlgebra.Diagonal{T, V} where V<:AbstractArray{T, 1} where T) in module SparseArrays at /buildworker/worker/package_linux64/build/usr/share/julia/stdlib/v1.0/SparseArrays/src/linalg.jl:134 overwritten in module DIVAnd at /home/abarth/projects/Julia/divand.jl/src/DIVAnd.jl:56.\n",
      "WARNING: Method definition *(LinearAlgebra.Diagonal{T, V} where V<:AbstractArray{T, 1} where T, SparseArrays.SparseMatrixCSC{Tv, Ti} where Ti<:Integer where Tv) in module SparseArrays at /buildworker/worker/package_linux64/build/usr/share/julia/stdlib/v1.0/SparseArrays/src/linalg.jl:130 overwritten in module DIVAnd at /home/abarth/projects/Julia/divand.jl/src/DIVAnd.jl:57.\n"
     ]
    }
   ],
   "source": [
    "using DIVAnd\n",
    "using PyPlot\n",
    "using NCDatasets\n",
    "using PhysOcean\n",
    "using DataStructures\n",
    "using PyPlot\n",
    "if VERSION >= v\"0.7.0-beta.0\"\n",
    "    using Dates\n",
    "    using Statistics\n",
    "    using Random\n",
    "    using Printf\n",
    "else\n",
    "    using Compat: @info, @warn, @debug\n",
    "end\n",
    "using Compat"
   ]
  },
  {
   "cell_type": "markdown",
   "metadata": {
    "slideshow": {
     "slide_type": "subslide"
    }
   },
   "source": [
    "This notebook uses the module `DIVAnd`:\n",
    "[![DOI](https://zenodo.org/badge/DOI/10.5281/zenodo.1466985.svg)](https://doi.org/10.5281/zenodo.1466985)"
   ]
  },
  {
   "cell_type": "markdown",
   "metadata": {},
   "source": [
    "## Data\n",
    "The observations are taken from the [SeaDataCloud aggregated products](https://www.seadatanet.org/Products#/search?from=1&to=20), in this case the \"North Atlantic Ocean - Temperature and salinity observation collection V2\" (file identifier: a61129f0-afbc-4bfa-8307-00f37d37d98a).   "
   ]
  },
  {
   "cell_type": "code",
   "execution_count": 2,
   "metadata": {},
   "outputs": [
    {
     "data": {
      "text/plain": [
       "true"
      ]
     },
     "execution_count": 2,
     "metadata": {},
     "output_type": "execute_result"
    }
   ],
   "source": [
    "datadir = \"SeaDataCloud\"\n",
    "datafile = joinpath(datadir, \"data_from_SDN_2015-09_TS_Atlantic_QC_done_v2.nc\")\n",
    "smalldatanc = joinpath(datadir, \"smallData.nc\")\n",
    "isfile(datafile)"
   ]
  },
  {
   "cell_type": "markdown",
   "metadata": {},
   "source": [
    "Test the data reading on a small (2000 lines) file."
   ]
  },
  {
   "cell_type": "code",
   "execution_count": 3,
   "metadata": {},
   "outputs": [
    {
     "name": "stdout",
     "output_type": "stream",
     "text": [
      "  3.575660 seconds (13.40 M allocations: 677.777 MiB, 7.35% gc time)\n"
     ]
    }
   ],
   "source": [
    "@time obsval2, obslon2, obslat2, obsdepth2, obstime2, obsid2 = NCODV.load(Float64, smalldatanc, \"Water body salinity\");"
   ]
  },
  {
   "cell_type": "code",
   "execution_count": 4,
   "metadata": {},
   "outputs": [
    {
     "data": {
      "image/png": "[encoded data removed]",
      "text/plain": [
       "Figure(PyObject <Figure size 640x480 with 1 Axes>)"
      ]
     },
     "metadata": {},
     "output_type": "display_data"
    },
    {
     "data": {
      "text/plain": [
       "1-element Array{PyCall.PyObject,1}:\n",
       " PyObject <matplotlib.lines.Line2D object at 0x7ff840189160>"
      ]
     },
     "execution_count": 4,
     "metadata": {},
     "output_type": "execute_result"
    }
   ],
   "source": [
    "PyPlot.plot(obslon2 .- 360., obslat2, \"ro\", markersize=.5)"
   ]
  },
  {
   "cell_type": "markdown",
   "metadata": {},
   "source": [
    "⌛⌛⌛ Read the whole data set... that will take a while (16-17 minutes in my case)."
   ]
  },
  {
   "cell_type": "code",
   "execution_count": 5,
   "metadata": {},
   "outputs": [
    {
     "name": "stdout",
     "output_type": "stream",
     "text": [
      "0 out of 1439726 - 0.0 %\n",
      "10000 out of 1439726 - 0.694576606937709 %\n",
      "20000 out of 1439726 - 1.389153213875418 %\n",
      "30000 out of 1439726 - 2.0837298208131267 %\n",
      "40000 out of 1439726 - 2.778306427750836 %\n",
      "50000 out of 1439726 - 3.472883034688545 %\n",
      "60000 out of 1439726 - 4.1674596416262535 %\n",
      "70000 out of 1439726 - 4.862036248563963 %\n",
      "80000 out of 1439726 - 5.556612855501672 %\n",
      "90000 out of 1439726 - 6.251189462439381 %\n",
      "100000 out of 1439726 - 6.94576606937709 %\n",
      "110000 out of 1439726 - 7.640342676314798 %\n",
      "120000 out of 1439726 - 8.334919283252507 %\n",
      "130000 out of 1439726 - 9.029495890190217 %\n",
      "140000 out of 1439726 - 9.724072497127926 %\n",
      "150000 out of 1439726 - 10.418649104065635 %\n",
      "160000 out of 1439726 - 11.113225711003343 %\n",
      "170000 out of 1439726 - 11.807802317941052 %\n",
      "180000 out of 1439726 - 12.502378924878762 %\n",
      "190000 out of 1439726 - 13.19695553181647 %\n",
      "200000 out of 1439726 - 13.89153213875418 %\n",
      "210000 out of 1439726 - 14.586108745691888 %\n",
      "220000 out of 1439726 - 15.280685352629597 %\n",
      "230000 out of 1439726 - 15.975261959567307 %\n",
      "240000 out of 1439726 - 16.669838566505014 %\n",
      "250000 out of 1439726 - 17.364415173442726 %\n",
      "260000 out of 1439726 - 18.058991780380435 %\n",
      "270000 out of 1439726 - 18.753568387318143 %\n",
      "280000 out of 1439726 - 19.448144994255852 %\n",
      "290000 out of 1439726 - 20.14272160119356 %\n",
      "300000 out of 1439726 - 20.83729820813127 %\n",
      "310000 out of 1439726 - 21.531874815068978 %\n",
      "320000 out of 1439726 - 22.226451422006686 %\n",
      "330000 out of 1439726 - 22.921028028944395 %\n",
      "340000 out of 1439726 - 23.615604635882104 %\n",
      "350000 out of 1439726 - 24.310181242819816 %\n",
      "360000 out of 1439726 - 25.004757849757524 %\n",
      "370000 out of 1439726 - 25.699334456695233 %\n",
      "380000 out of 1439726 - 26.39391106363294 %\n",
      "390000 out of 1439726 - 27.08848767057065 %\n",
      "400000 out of 1439726 - 27.78306427750836 %\n",
      "410000 out of 1439726 - 28.477640884446068 %\n",
      "420000 out of 1439726 - 29.172217491383776 %\n",
      "430000 out of 1439726 - 29.866794098321485 %\n",
      "440000 out of 1439726 - 30.561370705259193 %\n",
      "450000 out of 1439726 - 31.255947312196906 %\n",
      "460000 out of 1439726 - 31.950523919134614 %\n",
      "470000 out of 1439726 - 32.64510052607232 %\n",
      "480000 out of 1439726 - 33.33967713301003 %\n",
      "490000 out of 1439726 - 34.03425373994774 %\n",
      "500000 out of 1439726 - 34.72883034688545 %\n",
      "510000 out of 1439726 - 35.42340695382316 %\n",
      "520000 out of 1439726 - 36.11798356076087 %\n",
      "530000 out of 1439726 - 36.81256016769858 %\n",
      "540000 out of 1439726 - 37.50713677463629 %\n",
      "550000 out of 1439726 - 38.201713381573995 %\n",
      "560000 out of 1439726 - 38.896289988511704 %\n",
      "570000 out of 1439726 - 39.59086659544941 %\n",
      "580000 out of 1439726 - 40.28544320238712 %\n",
      "590000 out of 1439726 - 40.98001980932483 %\n",
      "600000 out of 1439726 - 41.67459641626254 %\n",
      "610000 out of 1439726 - 42.36917302320025 %\n",
      "620000 out of 1439726 - 43.063749630137956 %\n",
      "630000 out of 1439726 - 43.758326237075664 %\n",
      "640000 out of 1439726 - 44.45290284401337 %\n",
      "650000 out of 1439726 - 45.14747945095108 %\n",
      "660000 out of 1439726 - 45.84205605788879 %\n",
      "670000 out of 1439726 - 46.5366326648265 %\n",
      "680000 out of 1439726 - 47.23120927176421 %\n",
      "690000 out of 1439726 - 47.92578587870192 %\n",
      "700000 out of 1439726 - 48.62036248563963 %\n",
      "710000 out of 1439726 - 49.31493909257734 %\n",
      "720000 out of 1439726 - 50.00951569951505 %\n",
      "730000 out of 1439726 - 50.70409230645276 %\n",
      "740000 out of 1439726 - 51.398668913390466 %\n",
      "750000 out of 1439726 - 52.093245520328175 %\n",
      "760000 out of 1439726 - 52.78782212726588 %\n",
      "770000 out of 1439726 - 53.48239873420359 %\n",
      "780000 out of 1439726 - 54.1769753411413 %\n",
      "790000 out of 1439726 - 54.87155194807901 %\n",
      "800000 out of 1439726 - 55.56612855501672 %\n",
      "810000 out of 1439726 - 56.26070516195443 %\n",
      "820000 out of 1439726 - 56.955281768892135 %\n",
      "830000 out of 1439726 - 57.649858375829844 %\n",
      "840000 out of 1439726 - 58.34443498276755 %\n",
      "850000 out of 1439726 - 59.03901158970526 %\n",
      "860000 out of 1439726 - 59.73358819664297 %\n",
      "870000 out of 1439726 - 60.42816480358068 %\n",
      "880000 out of 1439726 - 61.12274141051839 %\n",
      "890000 out of 1439726 - 61.8173180174561 %\n",
      "900000 out of 1439726 - 62.51189462439381 %\n",
      "910000 out of 1439726 - 63.20647123133152 %\n",
      "920000 out of 1439726 - 63.90104783826923 %\n",
      "930000 out of 1439726 - 64.59562444520694 %\n",
      "940000 out of 1439726 - 65.29020105214464 %\n",
      "950000 out of 1439726 - 65.98477765908235 %\n",
      "960000 out of 1439726 - 66.67935426602006 %\n",
      "970000 out of 1439726 - 67.37393087295777 %\n",
      "980000 out of 1439726 - 68.06850747989547 %\n",
      "990000 out of 1439726 - 68.76308408683319 %\n",
      "1000000 out of 1439726 - 69.4576606937709 %\n",
      "1010000 out of 1439726 - 70.1522373007086 %\n",
      "1020000 out of 1439726 - 70.84681390764632 %\n",
      "1030000 out of 1439726 - 71.54139051458402 %\n",
      "1040000 out of 1439726 - 72.23596712152174 %\n",
      "1050000 out of 1439726 - 72.93054372845944 %\n",
      "1060000 out of 1439726 - 73.62512033539716 %\n",
      "1070000 out of 1439726 - 74.31969694233486 %\n",
      "1080000 out of 1439726 - 75.01427354927257 %\n",
      "1090000 out of 1439726 - 75.70885015621027 %\n",
      "1100000 out of 1439726 - 76.40342676314799 %\n",
      "1110000 out of 1439726 - 77.09800337008569 %\n",
      "1120000 out of 1439726 - 77.79257997702341 %\n",
      "1130000 out of 1439726 - 78.48715658396111 %\n",
      "1140000 out of 1439726 - 79.18173319089883 %\n",
      "1150000 out of 1439726 - 79.87630979783653 %\n",
      "1160000 out of 1439726 - 80.57088640477424 %\n",
      "1170000 out of 1439726 - 81.26546301171194 %\n",
      "1180000 out of 1439726 - 81.96003961864966 %\n",
      "1190000 out of 1439726 - 82.65461622558738 %\n",
      "1200000 out of 1439726 - 83.34919283252508 %\n",
      "1210000 out of 1439726 - 84.04376943946279 %\n",
      "1220000 out of 1439726 - 84.7383460464005 %\n",
      "1230000 out of 1439726 - 85.43292265333821 %\n",
      "1240000 out of 1439726 - 86.12749926027591 %\n",
      "1250000 out of 1439726 - 86.82207586721363 %\n",
      "1260000 out of 1439726 - 87.51665247415133 %\n",
      "1270000 out of 1439726 - 88.21122908108904 %\n",
      "1280000 out of 1439726 - 88.90580568802675 %\n",
      "1290000 out of 1439726 - 89.60038229496446 %\n",
      "1300000 out of 1439726 - 90.29495890190216 %\n",
      "1310000 out of 1439726 - 90.98953550883988 %\n",
      "1320000 out of 1439726 - 91.68411211577758 %\n",
      "1330000 out of 1439726 - 92.3786887227153 %\n",
      "1340000 out of 1439726 - 93.073265329653 %\n",
      "1350000 out of 1439726 - 93.76784193659071 %\n",
      "1360000 out of 1439726 - 94.46241854352841 %\n",
      "1370000 out of 1439726 - 95.15699515046613 %\n",
      "1380000 out of 1439726 - 95.85157175740385 %\n",
      "1390000 out of 1439726 - 96.54614836434155 %\n",
      "1400000 out of 1439726 - 97.24072497127926 %\n",
      "1410000 out of 1439726 - 97.93530157821696 %\n",
      "1420000 out of 1439726 - 98.62987818515468 %\n",
      "1430000 out of 1439726 - 99.32445479209238 %\n",
      "1411.352263 seconds (39.20 M allocations: 5.736 GiB, 0.13% gc time)\n"
     ]
    }
   ],
   "source": [
    "@time obsval, obslon, obslat, obsdepth, obstime, obsid = NCODV.load(Float64, \n",
    "    datafile, \"Water body salinity\");"
   ]
  },
  {
   "cell_type": "markdown",
   "metadata": {
    "slideshow": {
     "slide_type": "subslide"
    }
   },
   "source": [
    "## Analysis configuration\n",
    "* Define the horizontal (Δx, Δy), vertical (depthr) and temporal resolutions (yearlist, monthlist).    \n",
    "* Select the variable\n",
    "* Set the time periods"
   ]
  },
  {
   "cell_type": "code",
   "execution_count": 83,
   "metadata": {},
   "outputs": [
    {
     "name": "stdout",
     "output_type": "stream",
     "text": [
      "extrema(obslon) = (-96.5830078125, -0.99749755859375)\n",
      "extrema(obslat) = (9.779000282287598, 70.9800033569336)\n",
      "extrema(obstime) = (1900-03-07T10:02:00, 2015-03-03T02:35:57)\n"
     ]
    }
   ],
   "source": [
    "@show extrema(obslon);\n",
    "@show extrema(obslat);\n",
    "@show extrema(obstime);"
   ]
  },
  {
   "cell_type": "code",
   "execution_count": 7,
   "metadata": {
    "slideshow": {
     "slide_type": "subslide"
    }
   },
   "outputs": [],
   "source": [
    "Δx, Δy = 2.0, 2.0\n",
    "lonr = -100.0:Δx:0.0\n",
    "latr = 9.0:Δy:71.0\n",
    "timerange = [Date(1900,1,1),Date(2015,12,31)];\n",
    "\n",
    "depthr = [0.,5., 10., 15., 20., 25., 30., 40., 50., 66, \n",
    "    75, 85, 100, 112, 125, 135, 150, 175, 200, 225, 250, \n",
    "    275, 300, 350, 400, 450, 500, 550, 600, 650, 700, 750, \n",
    "    800, 850, 900, 950, 1000, 1050, 1100, 1150, 1200, 1250, \n",
    "    1300, 1350, 1400, 1450, 1500, 1600, 1750, 1850, 2000];\n",
    "depthr = [0.,20.,50.];"
   ]
  },
  {
   "cell_type": "code",
   "execution_count": 8,
   "metadata": {
    "slideshow": {
     "slide_type": "fragment"
    }
   },
   "outputs": [
    {
     "name": "stdout",
     "output_type": "stream",
     "text": [
      "TS = TimeSelectorYearListMonthList{Array{UnitRange{Int64},1},Array{Int64,1}}(UnitRange{Int64}[1900:2017], [1])\n"
     ]
    }
   ],
   "source": [
    "varname = \"Salinity\"\n",
    "yearlist = [1900:2017];\n",
    "# monthlist = [[1,2,3],[4,5,6],[7,8,9],[10,11,12]];  # Seasonal climatology\n",
    "monthlist = [1,2,3,4,5,6,7,8,9,10,11,12];  # Monthly climatology\n",
    "monthlist = [1]\n",
    "TS = DIVAnd.TimeSelectorYearListMonthList(yearlist,monthlist);\n",
    "@show TS;"
   ]
  },
  {
   "cell_type": "markdown",
   "metadata": {},
   "source": [
    "**⚠** here we have defined the grid with longitudes from -180 to 180°, while for the data they range from 0 to 360°, hence for consistency a transformation is necessary."
   ]
  },
  {
   "cell_type": "code",
   "execution_count": 9,
   "metadata": {
    "slideshow": {
     "slide_type": "subslide"
    }
   },
   "outputs": [
    {
     "name": "stdout",
     "output_type": "stream",
     "text": [
      "extrema(obslon) = (-96.5830078125, -0.655181884765625)\n"
     ]
    }
   ],
   "source": [
    "obslon[obslon.>180.] = obslon[obslon.>180.] .- 360.;\n",
    "@show extrema(obslon);"
   ]
  },
  {
   "cell_type": "markdown",
   "metadata": {},
   "source": [
    "### Data plot\n",
    "For applications with a large number of data points it is advised to first apply the `unique` function to keep only one location per profile."
   ]
  },
  {
   "cell_type": "code",
   "execution_count": 10,
   "metadata": {},
   "outputs": [
    {
     "name": "stderr",
     "output_type": "stream",
     "text": [
      "┌ Info: Total number of coordinates: 31852170\n",
      "└ @ Main In[10]:3\n",
      "┌ Info: Number of unique coordinates (profiles): 674546\n",
      "└ @ Main In[10]:4\n"
     ]
    }
   ],
   "source": [
    "coords = [(x,y) for (x,y) in zip(obslon, obslat)];\n",
    "coords_u = unique(coords);\n",
    "@info(\"Total number of coordinates: $(length(coords))\")\n",
    "@info(\"Number of unique coordinates (profiles): $(length(coords_u))\")"
   ]
  },
  {
   "cell_type": "code",
   "execution_count": 11,
   "metadata": {},
   "outputs": [],
   "source": [
    "obslon_u = [x[1] for x in coords_u];\n",
    "obslat_u = [x[2] for x in coords_u];"
   ]
  },
  {
   "cell_type": "code",
   "execution_count": 12,
   "metadata": {
    "slideshow": {
     "slide_type": "subslide"
    }
   },
   "outputs": [
    {
     "data": {
      "image/png": "[encoded data removed]",
      "text/plain": [
       "Figure(PyObject <Figure size 200x200 with 1 Axes>)"
      ]
     },
     "metadata": {},
     "output_type": "display_data"
    }
   ],
   "source": [
    "figure(\"Atlantic-Data\", figsize=(2,2))\n",
    "ax = subplot(1,1,1)\n",
    "plot(obslon_u, obslat_u, \"ko\", markersize=.2)\n",
    "aspect_ratio = 1/cos(mean(latr) * pi/180)\n",
    "ax[:tick_params](\"both\",labelsize=6)\n",
    "gca()[:set_aspect](aspect_ratio)"
   ]
  },
  {
   "cell_type": "markdown",
   "metadata": {
    "slideshow": {
     "slide_type": "subslide"
    }
   },
   "source": [
    "Check the extremal values of the observations"
   ]
  },
  {
   "cell_type": "code",
   "execution_count": 13,
   "metadata": {
    "slideshow": {
     "slide_type": "fragment"
    }
   },
   "outputs": [
    {
     "name": "stderr",
     "output_type": "stream",
     "text": [
      "┌ Info: Checking ranges for dimensions and observations\n",
      "└ @ DIVAnd /home/abarth/projects/Julia/divand.jl/src/obsstat.jl:75\n"
     ]
    },
    {
     "name": "stdout",
     "output_type": "stream",
     "text": [
      "              minimum and maximum of obs. dimension 1: (-96.5830078125, -0.655181884765625)\n",
      "              minimum and maximum of obs. dimension 2: (9.779000282287598, 70.9800033569336)\n",
      "              minimum and maximum of obs. dimension 3: (0.0, 6419.951171875)\n",
      "              minimum and maximum of obs. dimension 4: (1900-03-07T10:02:00, 2015-03-03T02:35:57)\n",
      "                          minimum and maximum of data: (0.0, 38.56999969482422)\n"
     ]
    }
   ],
   "source": [
    "checkobs((obslon,obslat,obsdepth,obstime),obsval,obsid)"
   ]
  },
  {
   "cell_type": "markdown",
   "metadata": {
    "slideshow": {
     "slide_type": "slide"
    }
   },
   "source": [
    "## 2. Extract the bathymetry\n",
    "It is used to delimit the domain where the interpolation is performed."
   ]
  },
  {
   "cell_type": "markdown",
   "metadata": {
    "slideshow": {
     "slide_type": "subslide"
    }
   },
   "source": [
    "### 2.1 Choice of bathymetry\n",
    "Modify `bathname` according to the resolution required.      \n",
    "Check [06-topography](./06-topography.ipynb) for details."
   ]
  },
  {
   "cell_type": "code",
   "execution_count": 84,
   "metadata": {
    "slideshow": {
     "slide_type": "fragment"
    }
   },
   "outputs": [
    {
     "name": "stderr",
     "output_type": "stream",
     "text": [
      "┌ Info: Bathymetry file already downloaded\n",
      "└ @ Main In[84]:9\n"
     ]
    }
   ],
   "source": [
    "bathname = joinpath(datadir, \"gebco_30sec_16.nc\")\n",
    "# https://dox.ulg.ac.be/index.php/s/RSwm4HPHImdZoQP/download  gebco_30sec_4.nc\n",
    "# https://dox.ulg.ac.be/index.php/s/wS6Y8P8NhIF60eG/download  gebco_30sec_8.nc\n",
    "# https://dox.ulg.ac.be/index.php/s/U0pqyXhcQrXjEUX/download  gebco_30sec_16.nc\n",
    "\n",
    "if !isfile(bathname)\n",
    "    download(\"https://dox.ulg.ac.be/index.php/s/U0pqyXhcQrXjEUX/download\",bathname)\n",
    "else\n",
    "    @info(\"Bathymetry file already downloaded\")\n",
    "end"
   ]
  },
  {
   "cell_type": "markdown",
   "metadata": {},
   "source": [
    "Load the bathymetry"
   ]
  },
  {
   "cell_type": "code",
   "execution_count": 85,
   "metadata": {
    "slideshow": {
     "slide_type": "fragment"
    }
   },
   "outputs": [
    {
     "name": "stdout",
     "output_type": "stream",
     "text": [
      "  0.211483 seconds (298 allocations: 7.519 MiB, 98.52% gc time)\n"
     ]
    }
   ],
   "source": [
    "@time bx,by,b = load_bath(bathname,true,lonr,latr);"
   ]
  },
  {
   "cell_type": "code",
   "execution_count": 86,
   "metadata": {
    "slideshow": {
     "slide_type": "subslide"
    }
   },
   "outputs": [
    {
     "data": {
      "image/png": "[encoded data removed]",
      "text/plain": [
       "Figure(PyObject <Figure size 640x480 with 2 Axes>)"
      ]
     },
     "metadata": {},
     "output_type": "display_data"
    }
   ],
   "source": [
    "figure(\"Atlantic-Bathymetry\")\n",
    "ax = subplot(1,1,1)\n",
    "pcolor(bx,by,permutedims(b, [2,1]));\n",
    "colorbar(orientation=\"vertical\", shrink=0.8)[:ax][:tick_params](labelsize=8)\n",
    "contour(bx,by,permutedims(b, [2,1]), [0, 0.1], colors=\"k\", linewidths=.5)\n",
    "gca()[:set_aspect](aspect_ratio)\n",
    "ax[:tick_params](\"both\",labelsize=6)"
   ]
  },
  {
   "cell_type": "markdown",
   "metadata": {
    "slideshow": {
     "slide_type": "subslide"
    }
   },
   "source": [
    "### 2.2 Create mask\n",
    "* False for sea        \n",
    "* True for land"
   ]
  },
  {
   "cell_type": "code",
   "execution_count": 87,
   "metadata": {
    "slideshow": {
     "slide_type": "fragment"
    }
   },
   "outputs": [
    {
     "name": "stdout",
     "output_type": "stream",
     "text": [
      "size(mask) = (51, 32, 3)\n"
     ]
    },
    {
     "data": {
      "text/plain": [
       "(51, 32, 3)"
      ]
     },
     "execution_count": 87,
     "metadata": {},
     "output_type": "execute_result"
    }
   ],
   "source": [
    "mask = falses(size(b,1),size(b,2),length(depthr))\n",
    "for k = 1:length(depthr)\n",
    "    for j = 1:size(b,2)\n",
    "        for i = 1:size(b,1)\n",
    "            mask[i,j,k] = b[i,j] >= depthr[k]\n",
    "        end\n",
    "    end\n",
    "end\n",
    "@show size(mask)"
   ]
  },
  {
   "cell_type": "code",
   "execution_count": 88,
   "metadata": {
    "slideshow": {
     "slide_type": "subslide"
    }
   },
   "outputs": [
    {
     "data": {
      "image/png": "[encoded data removed]",
      "text/plain": [
       "Figure(PyObject <Figure size 640x480 with 1 Axes>)"
      ]
     },
     "metadata": {},
     "output_type": "display_data"
    }
   ],
   "source": [
    "figure(\"Atlantic-Mask\")\n",
    "ax = subplot(1,1,1)\n",
    "gca()[:set_aspect](aspect_ratio)\n",
    "ax[:tick_params](\"both\",labelsize=6)\n",
    "pcolor(bx,by,permutedims(Float64.(mask[:,:,2]), [2,1])); "
   ]
  },
  {
   "cell_type": "markdown",
   "metadata": {
    "slideshow": {
     "slide_type": "subslide"
    }
   },
   "source": [
    "### 2.3 Edit the mask\n",
    "You might need to add or remove parts to the mask.     \n",
    "For the sake of illustration, we add a rectangular island in the center of the domain."
   ]
  },
  {
   "cell_type": "code",
   "execution_count": 89,
   "metadata": {
    "slideshow": {
     "slide_type": "fragment"
    }
   },
   "outputs": [],
   "source": [
    "grid_xx, grid_yy = DIVAnd.ndgrid(bx, by);\n",
    "mask_edit = copy(mask);\n",
    "sel_mask1 = (grid_xx .>= -52.) .& (grid_xx .<= -40.) .& (grid_yy .>= 32.) .& (grid_yy .<= 43.);\n",
    "mask_edit = mask_edit .* .!sel_mask1;"
   ]
  },
  {
   "cell_type": "markdown",
   "metadata": {
    "slideshow": {
     "slide_type": "subslide"
    }
   },
   "source": [
    "The edited mask now looks like this:"
   ]
  },
  {
   "cell_type": "code",
   "execution_count": 90,
   "metadata": {
    "slideshow": {
     "slide_type": "fragment"
    }
   },
   "outputs": [
    {
     "data": {
      "image/png": "[encoded data removed]",
      "text/plain": [
       "Figure(PyObject <Figure size 200x200 with 1 Axes>)"
      ]
     },
     "metadata": {},
     "output_type": "display_data"
    }
   ],
   "source": [
    "figure(\"Atlantic-Mask-Edited\", figsize=(2,2))\n",
    "ax = subplot(1,1,1)\n",
    "gca()[:set_aspect](aspect_ratio)\n",
    "ax[:tick_params](\"both\",labelsize=6)\n",
    "pcolor(bx, by, permutedims(Float64.(mask_edit[:,:,2]), [2,1])); \n",
    "gca()[:set_aspect](aspect_ratio)"
   ]
  },
  {
   "cell_type": "markdown",
   "metadata": {
    "slideshow": {
     "slide_type": "slide"
    }
   },
   "source": [
    "## 3. Extract data from other sources\n",
    "As an illustration we use the World Ocean Database, among other possibilities."
   ]
  },
  {
   "cell_type": "markdown",
   "metadata": {
    "slideshow": {
     "slide_type": "subslide"
    }
   },
   "source": [
    "### 3.1 World Ocean Database"
   ]
  },
  {
   "cell_type": "code",
   "execution_count": 92,
   "metadata": {
    "slideshow": {
     "slide_type": "fragment"
    }
   },
   "outputs": [],
   "source": [
    "# Configuration\n",
    "email = \"a.barth@uliege.be\"\n",
    "woddatadir = joinpath(datadir,\"WOD\")\n",
    "mkpath(woddatadir);"
   ]
  },
  {
   "cell_type": "markdown",
   "metadata": {},
   "source": [
    "Uncomment the next line if you have to download the data from the WOD"
   ]
  },
  {
   "cell_type": "code",
   "execution_count": null,
   "metadata": {
    "slideshow": {
     "slide_type": "fragment"
    }
   },
   "outputs": [],
   "source": [
    "WorldOceanDatabase.download(lonr,latr,timerange,varname,email,woddatadir);"
   ]
  },
  {
   "cell_type": "markdown",
   "metadata": {
    "slideshow": {
     "slide_type": "subslide"
    }
   },
   "source": [
    "⌛⌛         \n",
    "Read the data. This can also take up to a few minutes, depending on the size of the domain."
   ]
  },
  {
   "cell_type": "code",
   "execution_count": 23,
   "metadata": {
    "slideshow": {
     "slide_type": "fragment"
    }
   },
   "outputs": [
    {
     "name": "stdout",
     "output_type": "stream",
     "text": [
      "  0.474700 seconds (1.98 M allocations: 103.364 MiB, 9.03% gc time)\n"
     ]
    }
   ],
   "source": [
    "@time obsvalwod,obslonwod,obslatwod,obsdepthwod,obstimewod,obsidwod = \n",
    "WorldOceanDatabase.load(Float64,woddatadir,varname);"
   ]
  },
  {
   "cell_type": "markdown",
   "metadata": {
    "slideshow": {
     "slide_type": "subslide"
    }
   },
   "source": [
    "### 3.2 Extract from another source (optional)\n",
    "Add here the code to read data from another file."
   ]
  },
  {
   "cell_type": "markdown",
   "metadata": {
    "slideshow": {
     "slide_type": "subslide"
    }
   },
   "source": [
    "### 3.3 Remove duplicates \n",
    "⚠⚠ Only if you have more than one source of data. ⚠⚠    \n",
    "Otherwise, go directly to section [4. Quality control](91-AtlanticTest.ipynb#4.-Quality-control)\n",
    "\n",
    "⌛     \n",
    "Criteria (can be adapted according to the application):\n",
    "* Horizontal distance: 0.01 degree (about 1km)\n",
    "* Vertical separation: 0.01 m depth\n",
    "* Time separation: 1 minute.      \n",
    "* Salinity difference:  0.01 psu."
   ]
  },
  {
   "cell_type": "code",
   "execution_count": null,
   "metadata": {
    "slideshow": {
     "slide_type": "fragment"
    }
   },
   "outputs": [],
   "source": [
    "@time dupl = DIVAnd.Quadtrees.checkduplicates(\n",
    "    (obslon,obslat,obsdepth,obstime), obsval, \n",
    "    (obslonwod,obslatwod, obsdepthwod, obstimewod), obsvalwod,\n",
    "    (0.01,0.01,0.01,1/(24*60)),0.01);"
   ]
  },
  {
   "cell_type": "markdown",
   "metadata": {
    "slideshow": {
     "slide_type": "subslide"
    }
   },
   "source": [
    "Find the indices of the possible duplicates:"
   ]
  },
  {
   "cell_type": "code",
   "execution_count": null,
   "metadata": {
    "slideshow": {
     "slide_type": "fragment"
    }
   },
   "outputs": [],
   "source": [
    "index = findall.(.!isempty.(dupl));\n",
    "ndupl = length(index);\n",
    "pcdupl = round(ndupl / length(obslon) * 100; digits=2);\n",
    "@info(\"Number of possible duplicates: $ndupl\")\n",
    "@info(\"Percentage of duplicates: $pcdupl%\")"
   ]
  },
  {
   "cell_type": "markdown",
   "metadata": {
    "slideshow": {
     "slide_type": "subslide"
    }
   },
   "source": [
    "If you decide to combine the 2 (or more) datasets:"
   ]
  },
  {
   "cell_type": "code",
   "execution_count": null,
   "metadata": {
    "slideshow": {
     "slide_type": "fragment"
    }
   },
   "outputs": [],
   "source": [
    "newpoints = isempty.(dupl);\n",
    "@info(\"Number of new points: \" * string(sum(newpoints)))"
   ]
  },
  {
   "cell_type": "code",
   "execution_count": null,
   "metadata": {
    "slideshow": {
     "slide_type": "fragment"
    }
   },
   "outputs": [],
   "source": [
    "obslon = [obslon; obslonwod[newpoints]];\n",
    "obslat = [obslat; obslatwod[newpoints]];\n",
    "obsdepth = [obsdepth; obsdepthwod[newpoints]];\n",
    "obstime = [obstime; obstimewod[newpoints]];\n",
    "obsval = [obsval; obsvalwod[newpoints]];\n",
    "obsid = [obsid; obsidwod[newpoints]];"
   ]
  },
  {
   "cell_type": "markdown",
   "metadata": {
    "slideshow": {
     "slide_type": "subslide"
    }
   },
   "source": [
    "Create a plot showing the additional data points:"
   ]
  },
  {
   "cell_type": "code",
   "execution_count": null,
   "metadata": {
    "slideshow": {
     "slide_type": "fragment"
    }
   },
   "outputs": [],
   "source": [
    "figure(\"Adriatic-Additional-Data\", figsize=(2,2))\n",
    "ax = subplot(1,1,1)\n",
    "ax[:tick_params](\"both\",labelsize=6)\n",
    "ylim(39.0, 46.0);\n",
    "xlim(11.5, 20.0);\n",
    "contourf(bx, by, permutedims(Float64.(mask_edit[:,:,1]),[2,1]),\n",
    "    levels=[-1e5,0],cmap=\"binary\"); \n",
    "plot(obslon, obslat, \"bo\", markersize=.2, label=\"SeaDataNet\")\n",
    "plot(obslonwod[newpoints], obslatwod[newpoints], \"go\", \n",
    "    markersize=.2, label=\"Additional data\\nfrom World Ocean Database\")\n",
    "legend(loc=3, fontsize=4)\n",
    "gca()[:set_aspect](aspect_ratio)"
   ]
  },
  {
   "cell_type": "markdown",
   "metadata": {
    "slideshow": {
     "slide_type": "slide"
    }
   },
   "source": [
    "## 4. Quality control\n",
    "We check the salinity value.     \n",
    "This criteria has to be adapted to the region and the variable.    \n",
    "If the QC has already been performed, this step can be skipped."
   ]
  },
  {
   "cell_type": "code",
   "execution_count": null,
   "metadata": {
    "slideshow": {
     "slide_type": "fragment"
    }
   },
   "outputs": [],
   "source": [
    "sel = (obsval .<= 40) .& (obsval .>= 25);"
   ]
  },
  {
   "cell_type": "code",
   "execution_count": null,
   "metadata": {
    "slideshow": {
     "slide_type": "fragment"
    }
   },
   "outputs": [],
   "source": [
    "obsval = obsval[sel]\n",
    "obslon = obslon[sel]\n",
    "obslat = obslat[sel]\n",
    "obsdepth = obsdepth[sel]\n",
    "obstime = obstime[sel]\n",
    "obsids = obsid[sel];"
   ]
  },
  {
   "cell_type": "markdown",
   "metadata": {
    "slideshow": {
     "slide_type": "slide"
    }
   },
   "source": [
    "## 5. Analysis parameters"
   ]
  },
  {
   "cell_type": "markdown",
   "metadata": {
    "slideshow": {
     "slide_type": "subslide"
    }
   },
   "source": [
    "### 5.1 Data weight \n",
    "⌛⌛⌛       \n",
    "Compute the new weights that takes into account close points.     \n",
    "If the dataset is large, this can take a few minutes.     \n",
    "The maximal and mean values provide an indication of the spatial proximity between the data.    \n",
    "If you apply this technique, you need to adapt `epsilon2`:"
   ]
  },
  {
   "cell_type": "code",
   "execution_count": null,
   "metadata": {
    "slideshow": {
     "slide_type": "fragment"
    }
   },
   "outputs": [],
   "source": [
    "#@time rdiag=1.0./DIVAnd.weight_RtimesOne((obslon,obslat),(0.03,0.03));\n",
    "#@show maximum(rdiag),mean(rdiag)"
   ]
  },
  {
   "cell_type": "markdown",
   "metadata": {
    "slideshow": {
     "slide_type": "subslide"
    }
   },
   "source": [
    "### 5.2 Correlation lengths and noise-to-signal ratio\n",
    "We will use the function `diva3D` for the calculations.     \n",
    "⚠ With this function, the correlation length has to be defined in meters (not in degrees).     \n",
    "For the first test, the correlation length is assumed to uniform over the domain and the depth levels."
   ]
  },
  {
   "cell_type": "code",
   "execution_count": null,
   "metadata": {
    "slideshow": {
     "slide_type": "fragment"
    }
   },
   "outputs": [],
   "source": [
    "sz = (length(lonr),length(latr),length(depthr));\n",
    "lenx = fill(100_000.,sz)   # 100 km\n",
    "leny = fill(100_000.,sz)   # 100 km\n",
    "lenz = fill(25.,sz);      # 25 m \n",
    "len = (lenx, leny, lenz);\n",
    "epsilon2 = 0.1;\n",
    "#epsilon2 = epsilon2 * rdiag;"
   ]
  },
  {
   "cell_type": "markdown",
   "metadata": {
    "slideshow": {
     "slide_type": "subslide"
    }
   },
   "source": [
    "### Output file name"
   ]
  },
  {
   "cell_type": "code",
   "execution_count": null,
   "metadata": {
    "slideshow": {
     "slide_type": "fragment"
    }
   },
   "outputs": [],
   "source": [
    "filename = \"Water_body_$(replace(varname,\" \"=>\"_\"))_Atlantic.4Danl.nc\""
   ]
  },
  {
   "cell_type": "markdown",
   "metadata": {
    "slideshow": {
     "slide_type": "slide"
    }
   },
   "source": [
    "## 6. Metadata and attributes\n",
    "Edit the different fields according to the project, the authors etc.     \n",
    "This is used for the netCDF file but also for the XML needed for the [Sextant catalog](https://sextant.ifremer.fr/en)."
   ]
  },
  {
   "cell_type": "code",
   "execution_count": null,
   "metadata": {
    "slideshow": {
     "slide_type": "subslide"
    }
   },
   "outputs": [],
   "source": [
    "metadata = OrderedDict(\n",
    "    # Name of the project (SeaDataCloud, SeaDataNet, EMODNET-chemistry, ...)\n",
    "    \"project\" => \"SeaDataCloud\",\n",
    "\n",
    "    # URN code for the institution EDMO registry,\n",
    "    # e.g. SDN:EDMO::1579\n",
    "    \"institution_urn\" => \"SDN:EDMO::1579\",\n",
    "\n",
    "    # Production group\n",
    "    #\"production\" => \"Diva group\",\n",
    "\n",
    "    # Name and emails from authors\n",
    "    \"Author_e-mail\" => [\"Your Name1 <name1@example.com>\", \"Other Name <name2@example.com>\"],\n",
    "\n",
    "    # Source of the observation\n",
    "    \"source\" => \"observational data from SeaDataNet and World Ocean Atlas\",\n",
    "\n",
    "    # Additional comment\n",
    "    \"comment\" => \"Duplicate removal applied to the merged dataset\",\n",
    "\n",
    "    # SeaDataNet Vocabulary P35 URN\n",
    "    # http://seadatanet.maris2.nl/v_bodc_vocab_v2/search.asp?lib=p35\n",
    "    # example: SDN:P35::WATERTEMP\n",
    "    \"parameter_keyword_urn\" => \"SDN:P35::EPC00001\",\n",
    "\n",
    "    # List of SeaDataNet Parameter Discovery Vocabulary P02 URNs\n",
    "    # http://seadatanet.maris2.nl/v_bodc_vocab_v2/search.asp?lib=p02\n",
    "    # example: [\"SDN:P02::TEMP\"]\n",
    "    \"search_keywords_urn\" => [\"SDN:P02::PSAL\"],\n",
    "\n",
    "    # List of SeaDataNet Vocabulary C19 area URNs\n",
    "    # SeaVoX salt and fresh water body gazetteer (C19)\n",
    "    # http://seadatanet.maris2.nl/v_bodc_vocab_v2/search.asp?lib=C19\n",
    "    # example: [\"SDN:C19::3_1\"]\n",
    "    \"area_keywords_urn\" => [\"SDN:C19::3_3\"],\n",
    "\n",
    "    \"product_version\" => \"1.0\",\n",
    "    \n",
    "    \"product_code\" => \"something-to-decide\",\n",
    "    \n",
    "    # bathymetry source acknowledgement\n",
    "    # see, e.g.\n",
    "    # * EMODnet Bathymetry Consortium (2016): EMODnet Digital Bathymetry (DTM).\n",
    "    # http://doi.org/10.12770/c7b53704-999d-4721-b1a3-04ec60c87238\n",
    "    # \n",
    "    # taken from\n",
    "    # http://www.emodnet-bathymetry.eu/data-products/acknowledgement-in-publications\n",
    "    #\n",
    "    # * The GEBCO Digital Atlas published by the British Oceanographic Data Centre on behalf of IOC and IHO, 2003\n",
    "    #\n",
    "    # taken from\n",
    "    # https://www.bodc.ac.uk/projects/data_management/international/gebco/gebco_digital_atlas/copyright_and_attribution/\n",
    "        \n",
    "    \"bathymetry_source\" => \"The GEBCO Digital Atlas published by the British Oceanographic Data Centre on behalf of IOC and IHO, 2003\",\n",
    "\n",
    "    # NetCDF CF standard name\n",
    "    # http://cfconventions.org/Data/cf-standard-names/current/build/cf-standard-name-table.html\n",
    "    # example \"standard_name\" = \"sea_water_temperature\",\n",
    "    \"netcdf_standard_name\" => \"sea_water_salinity\",\n",
    "\n",
    "    \"netcdf_long_name\" => \"sea water salinity\",\n",
    "\n",
    "    \"netcdf_units\" => \"1e-3\",\n",
    "\n",
    "    # Abstract for the product\n",
    "    \"abstract\" => \"...\",\n",
    "\n",
    "    # This option provides a place to acknowledge various types of support for the\n",
    "    # project that produced the data\n",
    "    \"acknowledgement\" => \"...\",\n",
    "\n",
    "    \"documentation\" => \"http://dx.doi.org/doi_of_doc\",\n",
    "\n",
    "    # Digital Object Identifier of the data product\n",
    "    \"doi\" => \"...\");"
   ]
  },
  {
   "cell_type": "markdown",
   "metadata": {
    "slideshow": {
     "slide_type": "subslide"
    }
   },
   "source": [
    "Create global and variable attributes:"
   ]
  },
  {
   "cell_type": "code",
   "execution_count": null,
   "metadata": {
    "slideshow": {
     "slide_type": "fragment"
    }
   },
   "outputs": [],
   "source": [
    "ncglobalattrib,ncvarattrib = SDNMetadata(metadata,filename,varname,lonr,latr);"
   ]
  },
  {
   "cell_type": "markdown",
   "metadata": {
    "slideshow": {
     "slide_type": "slide"
    }
   },
   "source": [
    "## 7. Analysis"
   ]
  },
  {
   "cell_type": "markdown",
   "metadata": {
    "slideshow": {
     "slide_type": "subslide"
    }
   },
   "source": [
    "If you already had an analysis, you have to \n",
    "* either remove the result file before running the analysis\n",
    "* or modify the name of the output file, \n",
    "\n",
    "otherwise you'll get the message     \n",
    "```julia\n",
    "NCDatasets.NetCDFError(13, \"Permission denied\")\n",
    "```"
   ]
  },
  {
   "cell_type": "code",
   "execution_count": null,
   "metadata": {
    "slideshow": {
     "slide_type": "fragment"
    }
   },
   "outputs": [],
   "source": [
    "if isfile(filename)\n",
    "    rm(filename) # delete the previous analysis\n",
    "    @info \"Removing file $filename\"\n",
    "end"
   ]
  },
  {
   "cell_type": "markdown",
   "metadata": {
    "slideshow": {
     "slide_type": "subslide"
    }
   },
   "source": [
    "### 7.1 Plotting function\n",
    "Define a plotting function that will be applied for each time index and each depth level.     \n",
    "All the figures will be saved the selected directory."
   ]
  },
  {
   "cell_type": "code",
   "execution_count": null,
   "metadata": {
    "slideshow": {
     "slide_type": "subslide"
    }
   },
   "outputs": [],
   "source": [
    "figdir = \"./Atlantic/figures/\"\n",
    "if ~(isdir(figdir))\n",
    "    mkpath(figdir);\n",
    "    @info(\"Creating directory $(figdir)\")\n",
    "else\n",
    "    @info(\"Figure directory already exists\")\n",
    "end\n",
    "solver = \"direct\""
   ]
  },
  {
   "cell_type": "code",
   "execution_count": null,
   "metadata": {
    "slideshow": {
     "slide_type": "subslide"
    }
   },
   "outputs": [],
   "source": [
    "function plotres(timeindex,sel,fit,erri)\n",
    "    tmp = copy(fit)\n",
    "    nx,ny,nz = size(tmp)\n",
    "    for i in 1:nz\n",
    "        figure(\"Atlantic analysis\")\n",
    "        ax = subplot(1,1,1)\n",
    "        ax[:tick_params](\"both\",labelsize=6)\n",
    "        ylim(minimum(latr) - Δy, maximum(latr) + Δy);\n",
    "        xlim(minimum(lonr) - Δx, maximum(lonr) + Δx);\n",
    "        title(\"Depth: $(depthr[i]) \\n Time index: $(timeindex)\", fontsize=6)\n",
    "        pcolor(lonr.-Δx/2.,latr.-Δy/2, permutedims(tmp[:,:,i], [2,1]);\n",
    "               vmin = 33, vmax = 40)\n",
    "        colorbar(extend=\"both\", orientation=\"vertical\", shrink=0.8)[:ax][:tick_params](labelsize=8)\n",
    "\n",
    "        contourf(bx,by,permutedims(b,[2,1]), levels = [-1e5,0],colors = [[.5,.5,.5]])\n",
    "        gca()[:set_aspect](aspect_ratio)\n",
    "        \n",
    "        figname = varname * @sprintf(\"_%02d\",i) * @sprintf(\"_%03d.png\",timeindex)\n",
    "        PyPlot.savefig(joinpath(figdir, figname), dpi=300, bbox_inches=\"tight\");\n",
    "        PyPlot.close_figs()\n",
    "    end\n",
    "end"
   ]
  },
  {
   "cell_type": "markdown",
   "metadata": {
    "slideshow": {
     "slide_type": "subslide"
    }
   },
   "source": [
    "### 7.2 Create the gridded fields using `diva3d`\n",
    "Here only the noise-to-signal ratio is estimated.     \n",
    "Set `fitcorrlen` to `true` to also optimise the correlation length."
   ]
  },
  {
   "cell_type": "code",
   "execution_count": null,
   "metadata": {
    "slideshow": {
     "slide_type": "subslide"
    }
   },
   "outputs": [],
   "source": [
    "@time dbinfo = diva3d((lonr,latr,depthr,TS),\n",
    "    (obslon,obslat,obsdepth,obstime), obsval,\n",
    "    len, epsilon2,\n",
    "    filename,varname,\n",
    "    bathname=bathname,\n",
    "    plotres = plotres,\n",
    "    mask = mask_edit,\n",
    "    fitcorrlen = false,\n",
    "    niter_e = 2,\n",
    "    ncvarattrib = ncvarattrib,\n",
    "    ncglobalattrib = ncglobalattrib\n",
    "    );"
   ]
  },
  {
   "cell_type": "code",
   "execution_count": null,
   "metadata": {},
   "outputs": [],
   "source": [
    "?diva3d"
   ]
  },
  {
   "cell_type": "markdown",
   "metadata": {
    "slideshow": {
     "slide_type": "subslide"
    }
   },
   "source": [
    "Example of results: salinity at 20 meters for the January-Febrary-March period.\n",
    "<img src=\"./Atlantic/figures/Salinity_02_001.png\" width=\"450px\">"
   ]
  },
  {
   "cell_type": "markdown",
   "metadata": {
    "slideshow": {
     "slide_type": "subslide"
    }
   },
   "source": [
    "### 7.3 Save the observation metadata in the NetCDF file\n",
    "This operation has to be performed only when you are confident in your analysis."
   ]
  },
  {
   "cell_type": "code",
   "execution_count": null,
   "metadata": {},
   "outputs": [],
   "source": [
    "@show length(obslat);"
   ]
  },
  {
   "cell_type": "code",
   "execution_count": null,
   "metadata": {
    "slideshow": {
     "slide_type": "fragment"
    }
   },
   "outputs": [],
   "source": [
    "DIVAnd.saveobs(filename,(obslon,obslat,obsdepth,obstime),obsid);"
   ]
  },
  {
   "cell_type": "markdown",
   "metadata": {
    "collapsed": true,
    "slideshow": {
     "slide_type": "slide"
    }
   },
   "source": [
    "## 8. Apply a posteriori quality control\n",
    "We can use the structure `dbinfo`.\n",
    "histogram for quality flags"
   ]
  },
  {
   "cell_type": "markdown",
   "metadata": {
    "slideshow": {
     "slide_type": "slide"
    }
   },
   "source": [
    "## 9. XML metadata"
   ]
  },
  {
   "cell_type": "markdown",
   "metadata": {
    "slideshow": {
     "slide_type": "subslide"
    }
   },
   "source": [
    "For DIVAnd analysis using SeaDataCloud/EMODnet-Chemistry data, one can create a XML description for the product for Sextant\n",
    "\n",
    "Name of the project:\n",
    "* \"SeaDataCloud\" or \n",
    "* \"EMODNET-chemistry\""
   ]
  },
  {
   "cell_type": "code",
   "execution_count": null,
   "metadata": {
    "slideshow": {
     "slide_type": "fragment"
    }
   },
   "outputs": [],
   "source": [
    "project = \"SeaDataCloud\";"
   ]
  },
  {
   "cell_type": "markdown",
   "metadata": {
    "slideshow": {
     "slide_type": "subslide"
    }
   },
   "source": [
    "Download CDI list"
   ]
  },
  {
   "cell_type": "code",
   "execution_count": null,
   "metadata": {
    "slideshow": {
     "slide_type": "fragment"
    }
   },
   "outputs": [],
   "source": [
    "cdilist = joinpath(datadir, \"CDI-list-export.zip\")\n",
    "\n",
    "if !isfile(cdilist)\n",
    "   download(\"http://emodnet-chemistry.maris2.nl/download/export.zip\",cdilist)\n",
    "end"
   ]
  },
  {
   "cell_type": "markdown",
   "metadata": {
    "slideshow": {
     "slide_type": "subslide"
    }
   },
   "source": [
    "If `ignore_errors` is `false` (default), then a missing CDI will stop the creatation of the XML metadata."
   ]
  },
  {
   "cell_type": "code",
   "execution_count": null,
   "metadata": {
    "slideshow": {
     "slide_type": "fragment"
    }
   },
   "outputs": [],
   "source": [
    "ignore_errors = true\n",
    "\n",
    "# File name based on the variable (but all spaces are replaced by _)\n",
    "xmlfilename = \"Water_body_$(replace(varname,\" \"=>\"_\")).4Danl.xml\""
   ]
  },
  {
   "cell_type": "markdown",
   "metadata": {
    "slideshow": {
     "slide_type": "subslide"
    }
   },
   "source": [
    "Uncomment the following line of you are using SeaDataCloud or EMODnet-Chemistry data."
   ]
  },
  {
   "cell_type": "code",
   "execution_count": null,
   "metadata": {
    "slideshow": {
     "slide_type": "fragment"
    }
   },
   "outputs": [],
   "source": [
    "# generate a XML file for Sextant (only for )\n",
    "divadoxml(filename,varname,project,cdilist,xmlfilename,\n",
    "          ignore_errors = ignore_errors)"
   ]
  }
 ],
 "metadata": {
  "@webio": {
   "lastCommId": "c451b86497cf4bd1b036a99338aa40ee",
   "lastKernelId": "14761562-d0d7-4101-b2b3-316927b28228"
  },
  "kernelspec": {
   "display_name": "Julia 1.0.2",
   "language": "julia",
   "name": "julia-1.0"
  },
  "language_info": {
   "file_extension": ".jl",
   "mimetype": "application/julia",
   "name": "julia",
   "version": "1.0.2"
  }
 },
 "nbformat": 4,
 "nbformat_minor": 2
}
