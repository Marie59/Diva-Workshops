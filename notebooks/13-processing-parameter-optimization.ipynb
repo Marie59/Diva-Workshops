{
 "cells": [
  {
   "cell_type": "markdown",
   "metadata": {},
   "source": [
    "# Optimizing analysis parameters $L$ and $\\epsilon^2$"
   ]
  },
  {
   "cell_type": "code",
   "execution_count": null,
   "metadata": {
    "collapsed": true
   },
   "outputs": [],
   "source": [
    "using DIVAnd\n",
    "using PyPlot\n",
    "if VERSION >= v\"0.7.0-beta.0\"\n",
    "    using Dates\n",
    "    using Statistics\n",
    "else\n",
    "    using Compat: @info, @warn, @debug\n",
    "end\n",
    "using Compat"
   ]
  },
  {
   "cell_type": "markdown",
   "metadata": {},
   "source": [
    "## Data reading"
   ]
  },
  {
   "cell_type": "code",
   "execution_count": null,
   "metadata": {
    "collapsed": true
   },
   "outputs": [],
   "source": [
    "varname = \"Salinity\"\n",
    "filename = \"./data/WOD-Salinity-Provencal.nc\"\n",
    "\n",
    "if !isfile(filename)    \n",
    "    download(\"https://dox.ulg.ac.be/index.php/s/PztJfSEnc8Cr3XN/download\",filename)\n",
    "else\n",
    "    @info(\"File already downloaded\")\n",
    "end\n",
    "\n",
    "obsval,obslon,obslat,obsdepth,obstime,obsid = loadobs(Float64,filename,\"Salinity\");"
   ]
  },
  {
   "cell_type": "markdown",
   "metadata": {},
   "source": [
    "### Topography and grid definition\n",
    "\n",
    "See the notebook on [bathymetry](06-topography.ipynb) for more explanations."
   ]
  },
  {
   "cell_type": "code",
   "execution_count": null,
   "metadata": {
    "collapsed": true
   },
   "outputs": [],
   "source": [
    "dx = dy = 0.125/2.\n",
    "lonr = 2.5:dx:12.\n",
    "latr = 42.3:dy:44.6\n",
    "\n",
    "mask,(pm,pn),(xi,yi) = DIVAnd_rectdom(lonr,latr)\n",
    "\n",
    "bathname = \"data/gebco_30sec_4.nc\"\n",
    "\n",
    "if !isfile(bathname)\n",
    "    download(\"https://dox.ulg.ac.be/index.php/s/RSwm4HPHImdZoQP/download\",bathname)\n",
    "else\n",
    "    @info(\"Bathymetry file already downloaded\")\n",
    "end"
   ]
  },
  {
   "cell_type": "code",
   "execution_count": null,
   "metadata": {
    "collapsed": true
   },
   "outputs": [],
   "source": [
    "bx,by,b = load_bath(bathname,true,lonr,latr)\n",
    "\n",
    "mask = falses(size(b,1),size(b,2))\n",
    "\n",
    "for j = 1:size(b,2)\n",
    "    for i = 1:size(b,1)\n",
    "        mask[i,j] = b[i,j] >=1.0\n",
    "    end\n",
    "end"
   ]
  },
  {
   "cell_type": "markdown",
   "metadata": {},
   "source": [
    "## Data selection for example\n",
    "\n",
    "Cross validation, error calculations etc. assume independant data. Hence do not take high-resolution vertical profiles with all data but restrict yourself to specific small depth ranges. Here August data at surface:"
   ]
  },
  {
   "cell_type": "markdown",
   "metadata": {},
   "source": [
    "ADDITIONAL PARAMETERS TO BE USED LATER"
   ]
  },
  {
   "cell_type": "code",
   "execution_count": null,
   "metadata": {
    "collapsed": true
   },
   "outputs": [],
   "source": [
    "datadepth=1\n",
    "depthprecision=0.5"
   ]
  },
  {
   "cell_type": "markdown",
   "metadata": {},
   "source": [
    "Note that we added test on value to eliminate obvious outliers"
   ]
  },
  {
   "cell_type": "code",
   "execution_count": null,
   "metadata": {
    "collapsed": true
   },
   "outputs": [],
   "source": [
    "sel = (obsdepth .< datadepth) .& (obsdepth .>= (datadepth-depthprecision)) .& (Dates.month.(obstime) .== 8) .& (obsval .> 37)\n",
    "\n",
    "obsval = obsval[sel]\n",
    "obslon = obslon[sel]\n",
    "obslat = obslat[sel]\n",
    "obsdepth = obsdepth[sel]\n",
    "obstime = obstime[sel]\n",
    "obsid = obsid[sel];\n",
    "@show (size(obsval))\n",
    "checkobs((obslon,obslat,obsdepth,obstime),obsval,obsid)"
   ]
  },
  {
   "cell_type": "markdown",
   "metadata": {},
   "source": [
    "Modify data weight by taking into account close points"
   ]
  },
  {
   "cell_type": "code",
   "execution_count": null,
   "metadata": {
    "collapsed": true
   },
   "outputs": [],
   "source": [
    "?DIVAnd.weight_RtimesOne"
   ]
  },
  {
   "cell_type": "code",
   "execution_count": null,
   "metadata": {
    "collapsed": true
   },
   "outputs": [],
   "source": [
    "rdiag=1.0./DIVAnd.weight_RtimesOne((obslon,obslat),(0.03,0.03))\n",
    "@show maximum(rdiag),mean(rdiag)"
   ]
  },
  {
   "cell_type": "markdown",
   "metadata": {
    "collapsed": true
   },
   "source": [
    "## Analysis\n",
    "\n",
    "Analysis `fi` using mean data as background.      \n",
    "Structure `s` is stored for later use."
   ]
  },
  {
   "cell_type": "code",
   "execution_count": null,
   "metadata": {
    "collapsed": true
   },
   "outputs": [],
   "source": [
    "len=1\n",
    "epsilon2=1\n",
    "fi,s = DIVAndrun(mask,(pm,pn),(xi,yi),(obslon,obslat),obsval.-mean(obsval),len,epsilon2*rdiag);"
   ]
  },
  {
   "cell_type": "markdown",
   "metadata": {},
   "source": [
    "Generate some plots:\n",
    "1. Analysis with data points\n",
    "2. Data residuals\n",
    "3. Residuals vs value"
   ]
  },
  {
   "cell_type": "code",
   "execution_count": null,
   "metadata": {
    "collapsed": true
   },
   "outputs": [],
   "source": [
    "figure()\n",
    "\n",
    "pcolor(xi,yi,fi/+mean(obsval),vmin=37,vmax=38.5);\n",
    "colorbar(orientation=\"horizontal\")\n",
    "gca()[:set_aspect](1/cos(mean([ylim()...]) * pi/180))\n",
    "dataresiduals=DIVAnd_residualobs(s,fi)\n",
    "scatter(obslon,obslat,s=2,c=obsval,vmin=37,vmax=38.5)\n",
    "\n",
    "rscale=sqrt(var(obsval))\n",
    "\n",
    "figure()\n",
    "scatter(obslon,obslat,s=2,c=dataresiduals,vmin=-rscale,vmax=rscale,cmap=ColorMap(\"RdBu_r\"));\n",
    "colorbar(orientation=\"horizontal\")\n",
    "gca()[:set_aspect](1/cos(mean([ylim()...]) * pi/180))\n",
    "title(\"Residuals\")\n",
    "\n",
    "figure()\n",
    "scatter(obsval,dataresiduals, s=2)\n",
    "title(\"Residuals as function of value\");"
   ]
  },
  {
   "cell_type": "markdown",
   "metadata": {},
   "source": [
    "# Cross validation\n",
    "\n",
    "Take out data and measure difference between these data points not used and the analysis. Three methods are implemented \n",
    "## Define method used\n",
    "    # 1: full CV\n",
    "    # 2: sampled CV\n",
    "    # 3: GCV\n",
    "    # 0: automatic choice between the three possible ones, default value"
   ]
  },
  {
   "cell_type": "code",
   "execution_count": null,
   "metadata": {
    "collapsed": true
   },
   "outputs": [],
   "source": [
    "bestfactorl=ones(4)\n",
    "bestfactore=ones(4)\n",
    "for imeth=0:3\n",
    "\n",
    "    bestfactorl[imeth+1],bestfactore[imeth+1], cvval,cvvalues, x2Ddata,y2Ddata,cvinter,xi2D,yi2D = DIVAnd_cv(mask,(pm,pn),(xi,yi),(obslon,obslat),obsval.-mean(obsval),len,epsilon2*rdiag,2,3,imeth);\n",
    "    @show bestfactorl[imeth+1],bestfactore[imeth+1]\n",
    "    \n",
    "    subplot(2,2,imeth+1)\n",
    "    pcolor(xi2D,yi2D,cvinter)#,vmin=0,vmax=0.04)\n",
    "    colorbar()\n",
    "    xlabel(\"Log10 scale factor L\")\n",
    "    ylabel(\"Log10 scale factor e2\")\n",
    "    plot(x2Ddata,y2Ddata,\".\")\n",
    "    plot(log10.(bestfactorl[imeth+1]), log10.(bestfactore[imeth+1]),\"o\")\n",
    "    title(\"Method $imeth\")\n",
    "end"
   ]
  },
  {
   "cell_type": "markdown",
   "metadata": {},
   "source": [
    "**WARNING:** any tests with resulting length scales being smaller than around 4 times the grid spacing are meaningless."
   ]
  },
  {
   "cell_type": "markdown",
   "metadata": {},
   "source": [
    "Analysis with optimized values:\n"
   ]
  },
  {
   "cell_type": "code",
   "execution_count": null,
   "metadata": {
    "collapsed": true
   },
   "outputs": [],
   "source": [
    "newl=len*bestfactorl[2]\n",
    "newe=epsilon2*bestfactore[2]\n",
    "\n",
    "fi,s = DIVAndrun(mask,(pm,pn),(xi,yi),(obslon,obslat),obsval.-mean(obsval),newl,newe*rdiag);"
   ]
  },
  {
   "cell_type": "code",
   "execution_count": null,
   "metadata": {
    "collapsed": true
   },
   "outputs": [],
   "source": [
    "pcolor(xi,yi,fi.+mean(obsval),vmin=37,vmax=38.5);\n",
    "colorbar(orientation=\"horizontal\")\n",
    "gca()[:set_aspect](1/cos(mean([ylim()...]) * pi/180))\n",
    "dataresiduals=DIVAnd_residualobs(s,fi)\n",
    "scatter(obslon,obslat,s=2,c=obsval,vmin=37,vmax=38.5)\n",
    "title(\"New L $newl and new e2 $newe\")\n",
    "\n",
    "rscale=sqrt(var(obsval))\n",
    "\n",
    "figure()\n",
    "scatter(obslon,obslat,s=2,c=dataresiduals,vmin=-rscale,vmax=rscale);\n",
    "colorbar(orientation=\"horizontal\")\n",
    "gca()[:set_aspect](1/cos(mean([ylim()...]) * pi/180))\n",
    "title(\"Residuals\")\n",
    "\n",
    "figure()\n",
    "scatter(obsval,dataresiduals)\n",
    "title(\"Residuals as function of value\");"
   ]
  },
  {
   "cell_type": "markdown",
   "metadata": {},
   "source": [
    "## Only one parameter optimized\n",
    "\n",
    "If $L$ is fixed by other calibration, you can decide to optimize only $\\epsilon^2$:"
   ]
  },
  {
   "cell_type": "code",
   "execution_count": null,
   "metadata": {
    "collapsed": true
   },
   "outputs": [],
   "source": [
    "lenfixed=1\n",
    "epsilon2=.1\n",
    "for imeth=0:3\n",
    "    bestfactore[imeth+1], cvval,cvvalues, x2Ddata,cvinter,xi2D = \n",
    "    DIVAnd_cv(mask,(pm,pn),(xi,yi),(obslon,obslat),obsval.-mean(obsval),lenfixed,epsilon2*rdiag,0,4,imeth);\n",
    "\n",
    "    subplot(2,2,imeth+1)\n",
    "    plot(xi2D,cvinter,\"-\")\n",
    "    xlabel(\"Log10 scale factor e2\")\n",
    "    plot(x2Ddata,cvvalues,\".\")\n",
    "    plot(log10.(bestfactore[imeth+1]), cvval,\"o\")\n",
    "    title(\"Method $imeth\")\n",
    "end"
   ]
  },
  {
   "cell_type": "code",
   "execution_count": null,
   "metadata": {
    "collapsed": true
   },
   "outputs": [],
   "source": [
    "newl=lenfixed\n",
    "newe=epsilon2*bestfactore[3]\n",
    "@show newe\n",
    "fi,s = DIVAndrun(mask,(pm,pn),(xi,yi),(obslon,obslat),obsval.-mean(obsval),newl,newe*rdiag);"
   ]
  },
  {
   "cell_type": "code",
   "execution_count": null,
   "metadata": {
    "collapsed": true
   },
   "outputs": [],
   "source": [
    "figure()\n",
    "pcolor(xi,yi,fi.+mean(obsval),vmin=37,vmax=38.5);\n",
    "colorbar(orientation=\"horizontal\")\n",
    "gca()[:set_aspect](1/cos(mean([ylim()...]) * pi/180))\n",
    "dataresiduals=DIVAnd_residualobs(s,fi)\n",
    "scatter(obslon,obslat,s=2,c=obsval,vmin=37,vmax=38.5)\n",
    "\n",
    "rscale=sqrt(var(obsval))\n",
    "\n",
    "figure()\n",
    "scatter(obslon,obslat,s=2,c=dataresiduals,vmin=-rscale,vmax=rscale);\n",
    "colorbar(orientation=\"horizontal\")\n",
    "gca()[:set_aspect](1/cos(mean([ylim()...]) * pi/180))\n",
    "title(\"Residuals\")\n",
    "\n",
    "figure()\n",
    "scatter(obsval,dataresiduals)\n",
    "title(\"Residuals as function of value\");"
   ]
  },
  {
   "cell_type": "markdown",
   "metadata": {},
   "source": [
    "## Adaptive method\n",
    "\n",
    "G. DESROZIERS, L. BERRE, B. CHAPNIK and P. POLI      \n",
    "Diagnosis of observation, background and analysis-error statistics in observation space        Q. J. R. Meteorol. Soc. (2005), 131, pp. 3385–3396 doi: [10.1256/qj.05.108](https://rmets.onlinelibrary.wiley.com/doi/abs/10.1256/qj.05.108)."
   ]
  },
  {
   "cell_type": "markdown",
   "metadata": {},
   "source": [
    "This adaptive method activated by call with 0,0 points to sample."
   ]
  },
  {
   "cell_type": "code",
   "execution_count": null,
   "metadata": {
    "collapsed": true
   },
   "outputs": [],
   "source": [
    "myiterations=7\n",
    "cvbest2=zeros(myiterations);\n",
    "eps2=zeros(myiterations)\n",
    "epsilon2=1\n",
    "for i=1:myiterations\n",
    "    cvval,factor=DIVAnd_cv(mask,(pm,pn),(xi,yi),(obslon,obslat),obsval.-mean(obsval),lenfixed,epsilon2*rdiag,0,0,3);\n",
    "    eps2[i]=epsilon2;\n",
    "    cvbest2[i]=cvval;\n",
    "    epsilon2=epsilon2*factor\n",
    "    @show epsilon2\n",
    "end"
   ]
  },
  {
   "cell_type": "markdown",
   "metadata": {},
   "source": [
    "Other direct application of Desroziers"
   ]
  },
  {
   "cell_type": "code",
   "execution_count": null,
   "metadata": {
    "collapsed": true
   },
   "outputs": [],
   "source": [
    "myiterations=7\n",
    "\n",
    "eps2=zeros(myiterations)\n",
    "epsilon2=1\n",
    "for i=1:myiterations\n",
    "    fit,sit=DIVAndrun(mask,(pm,pn),(xi,yi),(obslon,obslat),obsval.-mean(obsval),lenfixed,epsilon2*rdiag);\n",
    "    eps2[i]=epsilon2;\n",
    "    factor=DIVAnd_adaptedeps2(sit,fit)\n",
    "    epsilon2=epsilon2*factor\n",
    "    @show epsilon2\n",
    "end"
   ]
  },
  {
   "cell_type": "markdown",
   "metadata": {},
   "source": [
    "Perform a new analysis with the optimized value of $\\epsilon^2$:"
   ]
  },
  {
   "cell_type": "code",
   "execution_count": null,
   "metadata": {
    "collapsed": true
   },
   "outputs": [],
   "source": [
    "newl=lenfixed\n",
    "newe=epsilon2\n",
    "@show newe\n",
    "fi,s = DIVAndrun(mask,(pm,pn),(xi,yi),(obslon,obslat),obsval.-mean(obsval),newl,newe*rdiag);"
   ]
  },
  {
   "cell_type": "code",
   "execution_count": null,
   "metadata": {
    "collapsed": true
   },
   "outputs": [],
   "source": [
    "figure()\n",
    "pcolor(xi,yi,fi.+mean(obsval),vmin=37,vmax=38.5);\n",
    "colorbar(orientation=\"horizontal\")\n",
    "gca()[:set_aspect](1/cos(mean([ylim()...]) * pi/180))\n",
    "dataresiduals=DIVAnd_residualobs(s,fi)\n",
    "scatter(obslon,obslat,s=2,c=obsval,vmin=37,vmax=38.5)\n",
    "\n",
    "rscale=sqrt(var(obsval))\n",
    "\n",
    "figure()\n",
    "scatter(obslon,obslat,s=2,c=dataresiduals,vmin=-rscale,vmax=rscale);\n",
    "colorbar(orientation=\"horizontal\")\n",
    "gca()[:set_aspect](1/cos(mean([ylim()...]) * pi/180))\n",
    "title(\"Residuals\")\n",
    "\n",
    "figure()\n",
    "scatter(obsval,dataresiduals)\n",
    "title(\"Residuals as function of value\");"
   ]
  },
  {
   "cell_type": "code",
   "execution_count": null,
   "metadata": {
    "collapsed": true,
    "scrolled": true
   },
   "outputs": [],
   "source": [
    "var(dataresiduals),var(obsval),var(fi[(fi.!==NaN)])"
   ]
  },
  {
   "cell_type": "markdown",
   "metadata": {},
   "source": [
    "## More information\n",
    "\n",
    "using DIVAnd"
   ]
  },
  {
   "cell_type": "code",
   "execution_count": null,
   "metadata": {
    "collapsed": true
   },
   "outputs": [],
   "source": [
    "?DIVAnd_cv"
   ]
  },
  {
   "cell_type": "markdown",
   "metadata": {},
   "source": [
    "========================================================================================================================="
   ]
  },
  {
   "cell_type": "markdown",
   "metadata": {},
   "source": [
    "# Exercise\n",
    "\n",
    "1. Redo for different data by changing the datadepth parameter introduced in the data selection part.      \n",
    "(Compare surface behaviour with deeper regions by using another `datadepth` value).\n",
    "2. Take out the data weight modification.\n",
    "3. Possibly force the cross-validation method (use `?DIVAnd_cv`).\n",
    "4. Once opimized, try to redo optimization with starting point being the first estimate."
   ]
  },
  {
   "cell_type": "markdown",
   "metadata": {},
   "source": [
    "## Important note\n",
    "Remember: optimization relies on a series of hypotheses. In particular, data independance and isotropy is very often NOT ensured. When in doubt, increase $\\epsilon^2$ and/or check for \"duplicates\"."
   ]
  }
 ],
 "metadata": {
  "anaconda-cloud": {},
  "kernelspec": {
   "display_name": "Julia 1.0.0",
   "language": "julia",
   "name": "julia-1.0"
  },
  "language_info": {
   "file_extension": ".jl",
   "mimetype": "application/julia",
   "name": "julia",
   "version": "1.0.0"
  }
 },
 "nbformat": 4,
 "nbformat_minor": 1
}
