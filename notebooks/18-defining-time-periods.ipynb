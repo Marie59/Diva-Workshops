{
 "cells": [
  {
   "cell_type": "markdown",
   "metadata": {},
   "source": [
    "# Definining the time periods for the creation of products\n",
    "\n",
    "They are many ways to define the periods over which the climatologies have to be computed.     \n",
    "In this notebook we present different approaches:\n",
    "1. `TimeSelectorYW`,\n",
    "2. `TimeSelectorYearListMonthList` and \n",
    "3. `TimeSelectorRunningAverage`."
   ]
  },
  {
   "cell_type": "code",
   "execution_count": null,
   "metadata": {
    "collapsed": true
   },
   "outputs": [],
   "source": [
    "using DIVAnd"
   ]
  },
  {
   "cell_type": "markdown",
   "metadata": {},
   "source": [
    "## 1. Specify lists of months and of years\n",
    "Use `TimeSelectorYearListMonthList`.      \n",
    "Let's work on two time periods: 1970-1990 and 1991-2010 on a monthly basis"
   ]
  },
  {
   "cell_type": "code",
   "execution_count": null,
   "metadata": {},
   "outputs": [],
   "source": [
    "yearlist = [[1970:1990], [1991:2010]];\n",
    "monthlists = 1:12;\n",
    "TS1 = DIVAnd.TimeSelectorYearListMonthList(yearlist, monthlists)"
   ]
  },
  {
   "cell_type": "markdown",
   "metadata": {},
   "source": [
    "## 2. Specify lists of months and of years with window\n",
    "Use `TimeSelectorYW`.     \n",
    "Let's work with 10-year window periods centered on 1950, 1960, 1970... "
   ]
  },
  {
   "cell_type": "code",
   "execution_count": null,
   "metadata": {},
   "outputs": [],
   "source": [
    "years = 1950:10:2010;\n",
    "yearwindow = 10;\n",
    "monthlists = 1:12;\n",
    "TS2 = TimeSelectorYW(years,yearwindow,monthlists)"
   ]
  },
  {
   "cell_type": "markdown",
   "metadata": {},
   "source": [
    "Note that with `TimeSelectorYW`, we can almost obtain the same solution as the 1st case:"
   ]
  },
  {
   "cell_type": "code",
   "execution_count": 35,
   "metadata": {},
   "outputs": [
    {
     "data": {
      "text/plain": [
       "DIVAnd.TimeSelectorYearListMonthList(StepRangeLen{Float64,Base.TwicePrecision{Float64},Base.TwicePrecision{Float64}}[1970.0:1.0:1990.0, 1990.0:1.0:2010.0], 1:12)"
      ]
     },
     "execution_count": 35,
     "metadata": {},
     "output_type": "execute_result"
    }
   ],
   "source": [
    "TS2b = TimeSelectorYW([1980., 2000.], 20, monthlists)"
   ]
  },
  {
   "cell_type": "markdown",
   "metadata": {},
   "source": [
    "## 3. Specify the total year range and the total window\n",
    "The difference with the previous case is that the minimal and maximal years are conserved in the created periods.     \n",
    "Thanks to Lennert (VLIZ) for providing the example and code.     "
   ]
  },
  {
   "cell_type": "code",
   "execution_count": 39,
   "metadata": {},
   "outputs": [
    {
     "data": {
      "text/plain": [
       "yearlists_ (generic function with 1 method)"
      ]
     },
     "execution_count": 39,
     "metadata": {},
     "output_type": "execute_result"
    }
   ],
   "source": [
    "function yearlists_(dataset_range, total_window_yrs)\n",
    "    # dataset_range = 2000:2012\n",
    "    # total_window_yrs = 10\n",
    "    # will return: [2000:2009, 2001:2010, 2002:2011, 2003:2012]\n",
    "    \n",
    "    n_windows = length(dataset_range) - total_window_yrs + 1\n",
    "\n",
    "    a = Array{UnitRange{Int64}}(n_windows)\n",
    "\n",
    "    for i = 1:n_windows\n",
    "        a[i] =  dataset_range[i]:(dataset_range[i] + total_window_yrs -1)\n",
    "    end\n",
    "    return(a)\n",
    "end"
   ]
  },
  {
   "cell_type": "code",
   "execution_count": 44,
   "metadata": {},
   "outputs": [
    {
     "name": "stdout",
     "output_type": "stream",
     "text": [
      "TS.yearlists[1] = 1990:1999\n",
      "TS.yearlists[2] = 1991:2000\n"
     ]
    },
    {
     "data": {
      "text/plain": [
       "1991:2000"
      ]
     },
     "execution_count": 44,
     "metadata": {},
     "output_type": "execute_result"
    }
   ],
   "source": [
    "yearlists = yearlists_(1990:2010, 10);\n",
    "TS3 = TimeSelectorYearListMonthList(yearlists,monthlists)\n",
    "@show(TS.yearlists[1]);\n",
    "@show(TS.yearlists[2])"
   ]
  }
 ],
 "metadata": {
  "kernelspec": {
   "display_name": "Julia 0.6.2",
   "language": "julia",
   "name": "julia-0.6"
  },
  "language_info": {
   "file_extension": ".jl",
   "mimetype": "application/julia",
   "name": "julia",
   "version": "0.6.2"
  }
 },
 "nbformat": 4,
 "nbformat_minor": 2
}
