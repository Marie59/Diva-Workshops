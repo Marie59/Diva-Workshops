{
 "cells": [
  {
   "cell_type": "markdown",
   "metadata": {},
   "source": [
    "# Definining the time periods for the creation of products\n",
    "\n",
    "They are many ways to define the periods over which the climatologies have to be computed.     \n",
    "In this notebook we present different approaches:\n",
    "1. `TimeSelectorYW`,\n",
    "2. `TimeSelectorYearListMonthList` and \n",
    "3. `TimeSelectorRunningAverage`."
   ]
  },
  {
   "cell_type": "code",
   "execution_count": null,
   "metadata": {
    "collapsed": true
   },
   "outputs": [],
   "source": [
    "using DIVAnd\n",
    "if VERSION >= v\"0.7.0-beta.0\"\n",
    "    using Dates\n",
    "    using Statistics\n",
    "else\n",
    "    using Compat: @info, @warn, @debug\n",
    "end\n",
    "using Compat"
   ]
  },
  {
   "cell_type": "markdown",
   "metadata": {},
   "source": [
    "## 1. Specify lists of months and of years\n",
    "Use `TimeSelectorYearListMonthList`.      \n",
    "Let's work on two time periods: 1970-1990 and 1991-2010 on a monthly basis"
   ]
  },
  {
   "cell_type": "code",
   "execution_count": null,
   "metadata": {},
   "outputs": [],
   "source": [
    "yearlist = [[1970:1990], [1991:2010]];\n",
    "monthlists = 1:12;\n",
    "TS1 = DIVAnd.TimeSelectorYearListMonthList(yearlist, monthlists)"
   ]
  },
  {
   "cell_type": "markdown",
   "metadata": {},
   "source": [
    "## 2. Specify lists of months and of years with window\n",
    "Use `TimeSelectorYW`.     \n",
    "Let's work with 10-year window periods centered on 1950, 1960, 1970... "
   ]
  },
  {
   "cell_type": "code",
   "execution_count": null,
   "metadata": {},
   "outputs": [],
   "source": [
    "years = 1950:10:2010;\n",
    "yearwindow = 10;\n",
    "monthlists = 1:12;\n",
    "TS2 = TimeSelectorYW(years,yearwindow,monthlists)"
   ]
  },
  {
   "cell_type": "markdown",
   "metadata": {},
   "source": [
    "Note that with `TimeSelectorYW`, we can almost obtain the same solution as the 1st case:"
   ]
  },
  {
   "cell_type": "code",
   "execution_count": null,
   "metadata": {},
   "outputs": [],
   "source": [
    "TS2b = TimeSelectorYW([1980., 2000.], 20, monthlists)"
   ]
  },
  {
   "cell_type": "markdown",
   "metadata": {},
   "source": [
    "## 3. Specify the total year range and the total window\n",
    "The difference with the previous case is that the minimal and maximal years are conserved in the created periods.     \n",
    "Thanks to Lennert (VLIZ) for providing the example and the code.     "
   ]
  },
  {
   "cell_type": "code",
   "execution_count": null,
   "metadata": {},
   "outputs": [],
   "source": [
    "function yearlists_(dataset_range, total_window_yrs)\n",
    "    # dataset_range = 2000:2012\n",
    "    # total_window_yrs = 10\n",
    "    # will return: [2000:2009, 2001:2010, 2002:2011, 2003:2012]\n",
    "    \n",
    "    n_windows = length(dataset_range) - total_window_yrs + 1\n",
    "    a = Array{UnitRange{Int64}, 1}(undef, n_windows)\n",
    "    \n",
    "    for i = 1:n_windows\n",
    "        a[i] = dataset_range[i]:(dataset_range[i] + total_window_yrs -1)\n",
    "    end\n",
    "    return(a)\n",
    "end"
   ]
  },
  {
   "cell_type": "code",
   "execution_count": null,
   "metadata": {},
   "outputs": [],
   "source": [
    "yearlists = yearlists_(1990:2010, 10);\n",
    "TS3 = TimeSelectorYearListMonthList(yearlists,monthlists)\n",
    "@show(TS3.yearlists[1]);\n",
    "@show(TS3.yearlists[2])"
   ]
  }
 ],
 "metadata": {
  "kernelspec": {
   "display_name": "Julia 1.0.0",
   "language": "julia",
   "name": "julia-1.0"
  },
  "language_info": {
   "file_extension": ".jl",
   "mimetype": "application/julia",
   "name": "julia",
   "version": "1.0.0"
  }
 },
 "nbformat": 4,
 "nbformat_minor": 2
}
