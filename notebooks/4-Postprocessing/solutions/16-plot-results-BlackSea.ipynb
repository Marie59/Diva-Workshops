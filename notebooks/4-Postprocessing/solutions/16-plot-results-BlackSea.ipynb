{
 "cells": [
  {
   "cell_type": "code",
   "execution_count": null,
   "metadata": {},
   "outputs": [],
   "source": [
    "using NCDatasets  \n",
    "using PyPlot\n",
    "using DIVAnd\n",
    "if VERSION >= v\"0.7.0-beta.0\"\n",
    "else\n",
    "    using Compat: @info, @warn, @debug, @error, replace\n",
    "    using Missings\n",
    "end\n",
    "using Compat"
   ]
  },
  {
   "cell_type": "markdown",
   "metadata": {},
   "source": [
    "## Data\n",
    "### Analysis "
   ]
  },
  {
   "cell_type": "code",
   "execution_count": null,
   "metadata": {},
   "outputs": [],
   "source": [
    "analysisfile = joinpath(\"../data/Water_body_Salinity.4Danl.nc\")\n",
    "if isfile(analysisfile)\n",
    "    @info(\"File already exists\") \n",
    "else\n",
    "    @error(\"File does not exist\")\n",
    "end"
   ]
  },
  {
   "cell_type": "markdown",
   "metadata": {
    "collapsed": true
   },
   "source": [
    "## Observations"
   ]
  },
  {
   "cell_type": "code",
   "execution_count": null,
   "metadata": {},
   "outputs": [],
   "source": [
    "observationfile = \"../data/Salinity.bigfile\"\n",
    "if !isfile(observationfile)\n",
    "    download(\"https://b2drop.eudat.eu/s/Bv9Fj0YGC0zp2vn/download\", observationfile)\n",
    "else\n",
    "    @info(\"Data file already downloaded\")\n",
    "end"
   ]
  },
  {
   "cell_type": "markdown",
   "metadata": {
    "collapsed": true
   },
   "source": [
    "## Reading\n",
    "### Analysis"
   ]
  },
  {
   "cell_type": "code",
   "execution_count": null,
   "metadata": {
    "collapsed": true
   },
   "outputs": [],
   "source": [
    "ds = Dataset(analysisfile)\n",
    "reslon = ds[\"lon\"];\n",
    "reslat = ds[\"lat\"];\n",
    "resdepth = ds[\"depth\"];\n",
    "restime = ds[\"time\"];\n",
    "resval = ds[\"Salinity\"];"
   ]
  },
  {
   "cell_type": "markdown",
   "metadata": {},
   "source": [
    "### Observations"
   ]
  },
  {
   "cell_type": "code",
   "execution_count": null,
   "metadata": {},
   "outputs": [],
   "source": [
    "obsval,obslon,obslat,obsdepth,obstime,obsid = loadbigfile(observationfile);"
   ]
  },
  {
   "cell_type": "markdown",
   "metadata": {},
   "source": [
    "## Selection"
   ]
  },
  {
   "cell_type": "code",
   "execution_count": null,
   "metadata": {
    "collapsed": true
   },
   "outputs": [],
   "source": [
    "depthplot = 50.;\n",
    "timeindex = 3;"
   ]
  },
  {
   "cell_type": "markdown",
   "metadata": {},
   "source": [
    "### Analysis"
   ]
  },
  {
   "cell_type": "code",
   "execution_count": null,
   "metadata": {},
   "outputs": [],
   "source": [
    "depthindex = findall(resdepth .== depthplot)[1];\n",
    "resval2plot = resval[:, :, depthindex, timeindex];\n",
    "\n",
    "# Replace fill value by NaN's\n",
    "#resval2plot[resval2plot .== fill_value] = NaN;\n",
    "resval2plot[ismissing.(resval2plot)] .= NaN;"
   ]
  },
  {
   "cell_type": "markdown",
   "metadata": {},
   "source": [
    "### Observations"
   ]
  },
  {
   "cell_type": "code",
   "execution_count": null,
   "metadata": {},
   "outputs": [],
   "source": [
    "depthindex = (obsdepth .== depthplot);"
   ]
  },
  {
   "cell_type": "code",
   "execution_count": null,
   "metadata": {
    "collapsed": true
   },
   "outputs": [],
   "source": [
    "obslon = obslon[depthindex];\n",
    "obslat = obslat[depthindex];\n",
    "obsval = obsval[depthindex];\n",
    "obsdepth = obsdepth[depthindex];"
   ]
  },
  {
   "cell_type": "markdown",
   "metadata": {},
   "source": [
    "## Plot\n",
    "We set commmon limits for the colors."
   ]
  },
  {
   "cell_type": "code",
   "execution_count": null,
   "metadata": {
    "collapsed": true
   },
   "outputs": [],
   "source": [
    "vmin=18.0;\n",
    "vmax=20.5;"
   ]
  },
  {
   "cell_type": "code",
   "execution_count": null,
   "metadata": {},
   "outputs": [],
   "source": [
    "figure()\n",
    "pcolormesh(reslon, reslat, permutedims(resval2plot,[2,1]));\n",
    "scatter(obslon, obslat, c=obsval, s=2; edgecolors=\"face\");\n",
    "colorbar()\n",
    "clim(vmin,vmax)"
   ]
  }
 ],
 "metadata": {
  "kernelspec": {
   "display_name": "Julia 1.6.2",
   "language": "julia",
   "name": "julia-1.6"
  },
  "language_info": {
   "file_extension": ".jl",
   "mimetype": "application/julia",
   "name": "julia",
   "version": "1.0.0"
  }
 },
 "nbformat": 4,
 "nbformat_minor": 2
}
