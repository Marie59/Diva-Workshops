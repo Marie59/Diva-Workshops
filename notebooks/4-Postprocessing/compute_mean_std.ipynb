{
 "cells": [
  {
   "cell_type": "markdown",
   "metadata": {},
   "source": [
    "This notebook provides an example of how to compute basic statistics from the result.    \n",
    "Users should be able to read the results from the netCDF file, see for instance [plot_results-NCDatasets](./plot_results-NCDatasets.ipynb)."
   ]
  },
  {
   "cell_type": "code",
   "execution_count": 1,
   "metadata": {},
   "outputs": [
    {
     "name": "stderr",
     "output_type": "stream",
     "text": [
      "WARNING: Method definition warn(Any...) in module Base at util.jl:585 overwritten in module Logging at /home/ctroupin/.julia/v0.6/Logging/src/Logging.jl:115.\n",
      "WARNING: Method definition info(Any...) in module Base at util.jl:532 overwritten in module Logging at /home/ctroupin/.julia/v0.6/Logging/src/Logging.jl:115.\n"
     ]
    },
    {
     "data": {
      "text/plain": [
       "Logger(root,DEBUG,Union{IO, Logging.SysLog}[IJulia.IJuliaStdio{Base.PipeEndpoint}(IOContext(Base.PipeEndpoint(RawFD(35) open, 0 bytes waiting)))],root)"
      ]
     },
     "execution_count": 1,
     "metadata": {},
     "output_type": "execute_result"
    }
   ],
   "source": [
    "using NCDatasets  \n",
    "using PyPlot"
   ]
  },
  {
   "cell_type": "code",
   "execution_count": 2,
   "metadata": {},
   "outputs": [
    {
     "name": "stderr",
     "output_type": "stream",
     "text": [
      "20-mars 13:47:18:INFO:root:File exist\n"
     ]
    }
   ],
   "source": [
    "datadir = \"./\"\n",
    "datafile = joinpath(datadir, \"Water_body_Salinity.4Danl.nc\")\n",
    "if isfile(datafile)\n",
    "    @info(\"File exist\") \n",
    "else\n",
    "    @error(\"File does not exist\")\n",
    "end"
   ]
  },
  {
   "cell_type": "markdown",
   "metadata": {},
   "source": [
    "Open the file for reading"
   ]
  },
  {
   "cell_type": "code",
   "execution_count": 6,
   "metadata": {},
   "outputs": [
    {
     "name": "stderr",
     "output_type": "stream",
     "text": [
      "20-mars 14:49:54:INFO:root:Reading dataset\n"
     ]
    }
   ],
   "source": [
    "@info(\"Reading dataset\")\n",
    "ds = Dataset(datafile);\n",
    "lon = ds[\"lon\"][:];\n",
    "lat = ds[\"lat\"][:];\n",
    "depth = ds[\"depth\"][:];\n",
    "ttime = ds[\"time\"][:];\n",
    "salinity = ds[\"Salinity\"][:,:,:,:];\n",
    "close(ds)"
   ]
  },
  {
   "cell_type": "code",
   "execution_count": null,
   "metadata": {
    "collapsed": true
   },
   "outputs": [],
   "source": []
  }
 ],
 "metadata": {
  "kernelspec": {
   "display_name": "Julia 1.3.1",
   "language": "julia",
   "name": "julia-1.3"
  },
  "language_info": {
   "file_extension": ".jl",
   "mimetype": "application/julia",
   "name": "julia",
   "version": "1.3.1"
  }
 },
 "nbformat": 4,
 "nbformat_minor": 2
}
