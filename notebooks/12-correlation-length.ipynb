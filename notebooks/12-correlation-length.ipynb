{
 "cells": [
  {
   "cell_type": "markdown",
   "metadata": {},
   "source": [
    "# Estimating-the-correlation-length \n",
    "\n",
    "* A central parameter for the `DIVAnd` analysis is the correlation length\n",
    "* It determines whether two points separated by a given distance are correlated or not\n",
    "* `DIVAnd` includes several tools to estimate the correlation length\n",
    "* We will start with a 2D case and consider the 3D case"
   ]
  },
  {
   "cell_type": "code",
   "execution_count": 1,
   "metadata": {},
   "outputs": [
    {
     "name": "stderr",
     "output_type": "stream",
     "text": [
      "\u001b[1m\u001b[36mINFO: \u001b[39m\u001b[22m\u001b[36mRecompiling stale cache file /home/abarth/.julia/lib/v0.6/divand.ji for module divand.\n",
      "\u001b[39m"
     ]
    }
   ],
   "source": [
    "using divand\n",
    "using PyPlot"
   ]
  },
  {
   "cell_type": "markdown",
   "metadata": {},
   "source": [
    "# Data reading\n",
    "Download the file `Salinity.bigfile` (if it is not already present). It will be placed in the same directory as this notebook. This file is a space-separated file containing data based on the [World Ocean Database](https://www.nodc.noaa.gov/OC5/WOD/pr_wod.html)."
   ]
  },
  {
   "cell_type": "code",
   "execution_count": 2,
   "metadata": {},
   "outputs": [
    {
     "name": "stderr",
     "output_type": "stream",
     "text": [
      "\u001b[1m\u001b[36mINFO: \u001b[39m\u001b[22m\u001b[36mData file already downloaded\n",
      "\u001b[39m"
     ]
    }
   ],
   "source": [
    "fname = \"Salinity.bigfile\"\n",
    "\n",
    "if !isfile(fname)\n",
    "    download(\"https://b2drop.eudat.eu/s/Bv9Fj0YGC0zp2vn/download\",fname)\n",
    "else\n",
    "    info(\"Data file already downloaded\")\n",
    "end"
   ]
  },
  {
   "cell_type": "markdown",
   "metadata": {},
   "source": [
    "Load the data"
   ]
  },
  {
   "cell_type": "code",
   "execution_count": 3,
   "metadata": {},
   "outputs": [],
   "source": [
    "obsval,obslon,obslat,obsdepth,obstime,obsid = loadbigfile(fname);"
   ]
  },
  {
   "cell_type": "markdown",
   "metadata": {},
   "source": [
    "`mincount` is the minimum number of observations per distance bin and the call to [`srand`](https://docs.julialang.org/en/latest/stdlib/Random/#Random.srand) (seed for the random number generator) ensures a reproducible sequence of random numbers."
   ]
  },
  {
   "cell_type": "code",
   "execution_count": 4,
   "metadata": {},
   "outputs": [],
   "source": [
    "mincount = 100\n",
    "srand(12345); # this can be any number"
   ]
  },
  {
   "cell_type": "markdown",
   "metadata": {},
   "source": [
    "## 2D case\n",
    "\n",
    "* First lets consider only the data on a 2D surface (longitude and latitude)\n",
    "* We use the function `divand.fit_isotropic`\n"
   ]
  },
  {
   "cell_type": "code",
   "execution_count": 5,
   "metadata": {},
   "outputs": [
    {
     "name": "stdout",
     "output_type": "stream",
     "text": [
      "search: \u001b[1mf\u001b[22m\u001b[1mi\u001b[22m\u001b[1mt\u001b[22m\u001b[1m_\u001b[22m\u001b[1mi\u001b[22m\u001b[1ms\u001b[22m\u001b[1mo\u001b[22m\u001b[1mt\u001b[22m\u001b[1mr\u001b[22m\u001b[1mo\u001b[22m\u001b[1mp\u001b[22m\u001b[1mi\u001b[22m\u001b[1mc\u001b[22m\n",
      "\n"
     ]
    },
    {
     "data": {
      "text/markdown": [
       "```\n",
       "var0,len,distx,covar,fitcovar = fit_isotropic(x,v,distbin,mincount;\n",
       "                           alpha = divand.alpha_default(length(x)),\n",
       "                           minlen = 0.,\n",
       "                           maxlen = 10.,\n",
       "                           tolrel = 1e-4,\n",
       "                           maxpoints = 10000,\n",
       "                           nmean = 100,\n",
       "                           distfun = (xi,xj) -> sqrt(sum(abs2,xi-xj))),\n",
       "                           progress = (iter,var,len,fitness) -> nothing\n",
       "                       )\n",
       "```\n",
       "\n",
       "Determines the optimal correlation length `len` and variance (for a separation distance approaching zero) `var0` of a cloud of data points with value `v` and coordiantes `x` (tuple of vectors with the coordinates).\n",
       "\n",
       "The function can find the solution corresponding to  a local minimum which is not necessarily the global minimum.\n",
       "\n",
       "See also `empiriccovar` for future information about the output parameters.\n",
       "\n",
       "Optional input parameters:\n",
       "\n",
       "  * `alpha`: if one correlation length is forced to zero during the anaylsis the values of alpha sould be set using the effective dimension. For example, if a 2D-analysis is simulated by forcing the vertical correlation length to zero, then alpha should be set to `[1,2,1]`, otherwise alpha will be `[1,3,3,1]` (for for any proper 3D analysis).\n",
       "  * `len`: initial value for the correlation length\n",
       "  * `minlen`, `maxlen`: minimum and maximum value for the correlation length\n",
       "  * `tolrel`: relative tolerance for the optimizer\n",
       "  * `maxpoints`: maximum number of data points considered\n",
       "  * `nmean`: the number of time an empirical covariance is estimated.  The average covariance is used for the fitting.\n",
       "  * `distfun`: function to compute the distance between point `xi` (vector) and  `xj`. Per default `distun` is the Eucedian distance `(xi,xj) -> sqrt(sum(abs2,xi-xj)))`.\n",
       "  * `progress`: call-back function to show the progress of the optimization with the input parameters `iter`, `var`, `len` and `fitness` (all scalars).\n",
       "\n",
       "The length-scale parameters and the variance have the corresponding units from the `x` and `v`. It is therefore often necessary to provide reasonable values for these default parameters.\n",
       "\n",
       "The algorithm used to estimate the correlation-length and variance is based on randomly choosen points. Therefore the result can be different if the function is invoked repeately. If `nmean` is increased, then these statistical fluctuations should decrease (for a not too large value of `mincount`, i.e. about 100 for most cases).\n",
       "\n",
       "If the lower bound `minlen` is too small, then you might get the following error:\n",
       "\n",
       "```\n",
       "AmosException with id 4: input argument magnitude too large, complete loss of accuracy by argument reduction.\n",
       "```\n",
       "\n",
       "In these case, increase `minlen`.\n"
      ],
      "text/plain": [
       "```\n",
       "var0,len,distx,covar,fitcovar = fit_isotropic(x,v,distbin,mincount;\n",
       "                           alpha = divand.alpha_default(length(x)),\n",
       "                           minlen = 0.,\n",
       "                           maxlen = 10.,\n",
       "                           tolrel = 1e-4,\n",
       "                           maxpoints = 10000,\n",
       "                           nmean = 100,\n",
       "                           distfun = (xi,xj) -> sqrt(sum(abs2,xi-xj))),\n",
       "                           progress = (iter,var,len,fitness) -> nothing\n",
       "                       )\n",
       "```\n",
       "\n",
       "Determines the optimal correlation length `len` and variance (for a separation distance approaching zero) `var0` of a cloud of data points with value `v` and coordiantes `x` (tuple of vectors with the coordinates).\n",
       "\n",
       "The function can find the solution corresponding to  a local minimum which is not necessarily the global minimum.\n",
       "\n",
       "See also `empiriccovar` for future information about the output parameters.\n",
       "\n",
       "Optional input parameters:\n",
       "\n",
       "  * `alpha`: if one correlation length is forced to zero during the anaylsis the values of alpha sould be set using the effective dimension. For example, if a 2D-analysis is simulated by forcing the vertical correlation length to zero, then alpha should be set to `[1,2,1]`, otherwise alpha will be `[1,3,3,1]` (for for any proper 3D analysis).\n",
       "  * `len`: initial value for the correlation length\n",
       "  * `minlen`, `maxlen`: minimum and maximum value for the correlation length\n",
       "  * `tolrel`: relative tolerance for the optimizer\n",
       "  * `maxpoints`: maximum number of data points considered\n",
       "  * `nmean`: the number of time an empirical covariance is estimated.  The average covariance is used for the fitting.\n",
       "  * `distfun`: function to compute the distance between point `xi` (vector) and  `xj`. Per default `distun` is the Eucedian distance `(xi,xj) -> sqrt(sum(abs2,xi-xj)))`.\n",
       "  * `progress`: call-back function to show the progress of the optimization with the input parameters `iter`, `var`, `len` and `fitness` (all scalars).\n",
       "\n",
       "The length-scale parameters and the variance have the corresponding units from the `x` and `v`. It is therefore often necessary to provide reasonable values for these default parameters.\n",
       "\n",
       "The algorithm used to estimate the correlation-length and variance is based on randomly choosen points. Therefore the result can be different if the function is invoked repeately. If `nmean` is increased, then these statistical fluctuations should decrease (for a not too large value of `mincount`, i.e. about 100 for most cases).\n",
       "\n",
       "If the lower bound `minlen` is too small, then you might get the following error:\n",
       "\n",
       "```\n",
       "AmosException with id 4: input argument magnitude too large, complete loss of accuracy by argument reduction.\n",
       "```\n",
       "\n",
       "In these case, increase `minlen`.\n"
      ]
     },
     "execution_count": 5,
     "metadata": {},
     "output_type": "execute_result"
    }
   ],
   "source": [
    "?fit_isotropic"
   ]
  },
  {
   "cell_type": "markdown",
   "metadata": {},
   "source": [
    "## Example 1: salinity in the Black Sea\n",
    "The profiles were already vertically interpolated on standard depth levels."
   ]
  },
  {
   "cell_type": "code",
   "execution_count": 6,
   "metadata": {},
   "outputs": [
    {
     "name": "stderr",
     "output_type": "stream",
     "text": [
      "\u001b[1m\u001b[36mINFO: \u001b[39m\u001b[22m\u001b[36mMaking empirical covariance\n",
      "\u001b[39m\u001b[1m\u001b[36mINFO: \u001b[39m\u001b[22m\u001b[36mFitting empirical covariance\n",
      "\u001b[39m"
     ]
    },
    {
     "data": {
      "image/png": "[encoded data removed]",
      "text/plain": [
       "PyPlot.Figure(PyObject <matplotlib.figure.Figure object at 0x7f48751857d0>)"
      ]
     },
     "metadata": {},
     "output_type": "display_data"
    },
    {
     "data": {
      "text/plain": [
       "PyObject Text(0.5,1,u'isotropic fit 2D')"
      ]
     },
     "execution_count": 6,
     "metadata": {},
     "output_type": "execute_result"
    }
   ],
   "source": [
    "# surface values for the month January\n",
    "sel = (obsdepth .< 10) .& Dates.month.(obstime) .== 1;\n",
    "x = (obslon[sel],obslat[sel]);\n",
    "v = obsval[sel] - mean(obsval[sel]);\n",
    "distbin = 0:0.5:4\n",
    "\n",
    "var0,len,distx,covar,fitcovar = fit_isotropic(x,v,distbin,mincount)\n",
    "\n",
    "\n",
    "figure()\n",
    "plot(distx,covar, label = \"empirical covariance\")\n",
    "plot(distx,fitcovar, label = \"fitted function\")\n",
    "legend()\n",
    "title(\"isotropic fit 2D\")"
   ]
  },
  {
   "cell_type": "markdown",
   "metadata": {},
   "source": [
    "The data from the file `Salinity.bigfile` is already interpolated on standard depth levels, which makes it not ideal to explore the vertical correlation.\n",
    "The file `WOD-Salinity-Provencal.nc` contains salinity measurement obtained from the World Ocean Database for the Provençal Basin (Mediterranean Sea).\n",
    "\n",
    "The resulting correlation length can fluctuate a bit because the correlation is based on a collection of random pairs. Increasing the parameter `nmean` can make the estimation of the correlation more robust."
   ]
  },
  {
   "cell_type": "markdown",
   "metadata": {},
   "source": [
    "* Load the data file if it is not already present.\n",
    "* Note we do not use the file `Salinity.bigfile` because it correspond to data already vertically interpolated which is not optimal for estimating the vertical correlation length\n",
    "\n",
    "## Example 2: salinity in the Provençal Basin\n",
    "In this case, the profiles were not interpolated vertically."
   ]
  },
  {
   "cell_type": "code",
   "execution_count": 7,
   "metadata": {},
   "outputs": [
    {
     "name": "stderr",
     "output_type": "stream",
     "text": [
      "\u001b[1m\u001b[36mINFO: \u001b[39m\u001b[22m\u001b[36mData file WOD-Salinity-Provencal.nc already downloaded\n",
      "\u001b[39m"
     ]
    }
   ],
   "source": [
    "varname = \"Salinity\"\n",
    "filename = \"WOD-Salinity-Provencal.nc\"\n",
    "\n",
    "if !isfile(filename)    \n",
    "    download(\"https://b2drop.eudat.eu/s/UsF3RyU3xB1UM2o/download\",filename)\n",
    "else\n",
    "    info(\"Data file $filename already downloaded\")\n",
    "end"
   ]
  },
  {
   "cell_type": "markdown",
   "metadata": {},
   "source": [
    "Load the data and print basic information about it that can be used for quality check."
   ]
  },
  {
   "cell_type": "code",
   "execution_count": 8,
   "metadata": {},
   "outputs": [
    {
     "name": "stdout",
     "output_type": "stream",
     "text": [
      "              minimum and maximum of obs. dimension 1: (3.0418334007263184, 11.8100004196167)\n",
      "              minimum and maximum of obs. dimension 2: (42.0, 44.0)\n",
      "              minimum and maximum of obs. dimension 3: (-0.0, 2762.0)\n",
      "              minimum and maximum of obs. dimension 4: (1892-09-25T00:00:00, 2017-10-02T06:14:02.761)\n",
      "                          minimum and maximum of data: (0.25, 40.0)\n"
     ]
    }
   ],
   "source": [
    "obsval,obslon,obslat,obsdepth,obstime,obsid = loadobs(Float64,filename,\"Salinity\")\n",
    "checkobs((obslon,obslat,obsdepth,obstime),obsval,obsid)"
   ]
  },
  {
   "cell_type": "markdown",
   "metadata": {},
   "source": [
    "For this example we select only the first month (January)"
   ]
  },
  {
   "cell_type": "code",
   "execution_count": 9,
   "metadata": {},
   "outputs": [],
   "source": [
    "sel = (Dates.month.(obstime) .== 1)\n",
    "x = (obslon[sel],obslat[sel],obsdepth[sel]);\n",
    "v = obsval[sel]\n",
    "z = [0.,10,100,200,300,400,500,700,1000,1500];"
   ]
  },
  {
   "cell_type": "markdown",
   "metadata": {},
   "source": [
    "### Horizontal correlation length\n",
    "Estimate the horizontal correlation length for different depth levels    \n",
    "(can take a few minutes)."
   ]
  },
  {
   "cell_type": "code",
   "execution_count": 10,
   "metadata": {},
   "outputs": [
    {
     "name": "stdout",
     "output_type": "stream",
     "text": [
      "nsamp = 0\n"
     ]
    },
    {
     "name": "stderr",
     "output_type": "stream",
     "text": [
      "\u001b[1m\u001b[36mINFO: \u001b[39m\u001b[22m\u001b[36mNumber of data points: 86141\n",
      "\u001b[39m\u001b[1m\u001b[36mINFO: \u001b[39m\u001b[22m\u001b[36mdata mean: 9.395486443623647e-15\n",
      "\u001b[39m\u001b[1m\u001b[36mINFO: \u001b[39m\u001b[22m\u001b[36mdata variance: 0.051599138150430324\n",
      "\u001b[39m\u001b[1m\u001b[36mINFO: \u001b[39m\u001b[22m\u001b[36mNow calculating distance distribution\n",
      "\u001b[39m\u001b[1m\u001b[36mINFO: \u001b[39m\u001b[22m\u001b[36mNumber of data couples considered: 3.71009287e9\n",
      "\u001b[39m\u001b[1m\u001b[36mINFO: \u001b[39m\u001b[22m\u001b[36mmaximum distance between points: 8.6006103921461\n",
      "\u001b[39m\u001b[1m\u001b[36mINFO: \u001b[39m\u001b[22m\u001b[36mMean distance between points: 2.009327833153499\n",
      "\u001b[39m\u001b[1m\u001b[36mINFO: \u001b[39m\u001b[22m\u001b[36mNumber of probable active bins: 80.0\n",
      "\u001b[39m"
     ]
    },
    {
     "name": "stdout",
     "output_type": "stream",
     "text": [
      "Data points at z=0.0: 86141, correlation length: 0.14015061636245654\n",
      "nsamp = 0\n"
     ]
    },
    {
     "name": "stderr",
     "output_type": "stream",
     "text": [
      "\u001b[1m\u001b[36mINFO: \u001b[39m\u001b[22m\u001b[36mdistance for binning: 0.025116597914418736\n",
      "\u001b[39m\u001b[1m\u001b[36mINFO: \u001b[39m\u001b[22m\u001b[36mmaximum number of bins: 343\n",
      "\u001b[39m\u001b[1m\u001b[36mINFO: \u001b[39m\u001b[22m\u001b[36mAverage number of pairs in each bin: 1.0816722858600583e7\n",
      "\u001b[39m\u001b[1m\u001b[36mINFO: \u001b[39m\u001b[22m\u001b[36mFirst zero crossing: 18 0.025116597914418736 0.45209876245953723\n",
      "\u001b[39m\u001b[1m\u001b[36mINFO: \u001b[39m\u001b[22m\u001b[36mNow trying to fit Bessel covariance function\n",
      "\u001b[39m\u001b[1m\u001b[36mINFO: \u001b[39m\u001b[22m\u001b[36mBest fit: 0.14015061636245654 0.012566352476800933\n",
      "\u001b[39m\u001b[1m\u001b[36mINFO: \u001b[39m\u001b[22m\u001b[36mS/N: 0.32194352075405236\n",
      "\u001b[39m\u001b[1m\u001b[36mINFO: \u001b[39m\u001b[22m\u001b[36mRelative misfit of fit: 0.06616474419112335\n",
      "\u001b[39m\u001b[1m\u001b[36mINFO: \u001b[39m\u001b[22m\u001b[36mNumber of data points: 87901\n",
      "\u001b[39m\u001b[1m\u001b[36mINFO: \u001b[39m\u001b[22m\u001b[36mdata mean: -1.69818590248067e-14\n",
      "\u001b[39m\u001b[1m\u001b[36mINFO: \u001b[39m\u001b[22m\u001b[36mdata variance: 0.05152757148732864\n",
      "\u001b[39m\u001b[1m\u001b[36mINFO: \u001b[39m\u001b[22m\u001b[36mNow calculating distance distribution\n",
      "\u001b[39m\u001b[1m\u001b[36mINFO: \u001b[39m\u001b[22m\u001b[36mNumber of data couples considered: 3.86324895e9\n",
      "\u001b[39m\u001b[1m\u001b[36mINFO: \u001b[39m\u001b[22m\u001b[36mmaximum distance between points: 8.6006103921461\n",
      "\u001b[39m\u001b[1m\u001b[36mINFO: \u001b[39m\u001b[22m\u001b[36mMean distance between points: 2.0070871476442087\n",
      "\u001b[39m\u001b[1m\u001b[36mINFO: \u001b[39m\u001b[22m\u001b[36mNumber of probable active bins: 80.0\n",
      "\u001b[39m\u001b[1m\u001b[36mINFO: \u001b[39m\u001b[22m\u001b[36mdistance for binning: 0.02508858934555261\n",
      "\u001b[39m\u001b[1m\u001b[36mINFO: \u001b[39m\u001b[22m\u001b[36mmaximum number of bins: 343\n",
      "\u001b[39m\u001b[1m\u001b[36mINFO: \u001b[39m\u001b[22m\u001b[36mAverage number of pairs in each bin: 1.126324460787172e7\n",
      "\u001b[39m\u001b[1m\u001b[36mINFO: \u001b[39m\u001b[22m\u001b[36mFirst zero crossing: 18 0.02508858934555261 0.45159460821994696\n",
      "\u001b[39m\u001b[1m\u001b[36mINFO: \u001b[39m\u001b[22m\u001b[36mNow trying to fit Bessel covariance function\n",
      "\u001b[39m\u001b[1m\u001b[36mINFO: \u001b[39m\u001b[22m\u001b[36mBest fit: 0.13909113933174366 0.012133749507024873\n",
      "\u001b[39m\u001b[1m\u001b[36mINFO: \u001b[39m\u001b[22m\u001b[36mS/N: 0.30801148165543296\n",
      "\u001b[39m\u001b[1m\u001b[36mINFO: \u001b[39m\u001b[22m\u001b[36mRelative misfit of fit: 0.06717702336426686\n",
      "\u001b[39m\u001b[1m\u001b[36mINFO: \u001b[39m\u001b[22m\u001b[36mNumber of data points: 101834\n",
      "\u001b[39m\u001b[1m\u001b[36mINFO: \u001b[39m\u001b[22m\u001b[36mdata mean: -1.9345916937864826e-14\n",
      "\u001b[39m\u001b[1m\u001b[36mINFO: \u001b[39m\u001b[22m\u001b[36mdata variance: 0.05103122266743267\n",
      "\u001b[39m\u001b[1m\u001b[36mINFO: \u001b[39m\u001b[22m\u001b[36mNow calculating distance distribution\n",
      "\u001b[39m"
     ]
    },
    {
     "name": "stdout",
     "output_type": "stream",
     "text": [
      "Data points at z=10.0: 87901, correlation length: 0.13909113933174366\n",
      "nsamp = 0\n",
      "Data points at z=100.0: 101834, correlation length: 0.13309045981327944\n",
      "nsamp = 0\n"
     ]
    },
    {
     "name": "stderr",
     "output_type": "stream",
     "text": [
      "\u001b[1m\u001b[36mINFO: \u001b[39m\u001b[22m\u001b[36mNumber of data couples considered: 5.185030861e9\n",
      "\u001b[39m\u001b[1m\u001b[36mINFO: \u001b[39m\u001b[22m\u001b[36mmaximum distance between points: 8.6006103921461\n",
      "\u001b[39m\u001b[1m\u001b[36mINFO: \u001b[39m\u001b[22m\u001b[36mMean distance between points: 1.9946116120386579\n",
      "\u001b[39m\u001b[1m\u001b[36mINFO: \u001b[39m\u001b[22m\u001b[36mNumber of probable active bins: 80.0\n",
      "\u001b[39m\u001b[1m\u001b[36mINFO: \u001b[39m\u001b[22m\u001b[36mdistance for binning: 0.024932645150483223\n",
      "\u001b[39m\u001b[1m\u001b[36mINFO: \u001b[39m\u001b[22m\u001b[36mmaximum number of bins: 345\n",
      "\u001b[39m\u001b[1m\u001b[36mINFO: \u001b[39m\u001b[22m\u001b[36mAverage number of pairs in each bin: 1.5029222544927536e7\n",
      "\u001b[39m\u001b[1m\u001b[36mINFO: \u001b[39m\u001b[22m\u001b[36mFirst zero crossing: 17 0.024932645150483223 0.4238549675582148\n",
      "\u001b[39m\u001b[1m\u001b[36mINFO: \u001b[39m\u001b[22m\u001b[36mNow trying to fit Bessel covariance function\n",
      "\u001b[39m\u001b[1m\u001b[36mINFO: \u001b[39m\u001b[22m\u001b[36mBest fit: 0.13309045981327944 0.010334484482096246\n",
      "\u001b[39m\u001b[1m\u001b[36mINFO: \u001b[39m\u001b[22m\u001b[36mS/N: 0.2539388884101284\n",
      "\u001b[39m\u001b[1m\u001b[36mINFO: \u001b[39m\u001b[22m\u001b[36mRelative misfit of fit: 0.06086141261947403\n",
      "\u001b[39m\u001b[1m\u001b[36mINFO: \u001b[39m\u001b[22m\u001b[36mNumber of data points: 114742\n",
      "\u001b[39m\u001b[1m\u001b[36mINFO: \u001b[39m\u001b[22m\u001b[36mdata mean: 1.7158249047812359e-15\n",
      "\u001b[39m\u001b[1m\u001b[36mINFO: \u001b[39m\u001b[22m\u001b[36mdata variance: 0.04969328820803998\n",
      "\u001b[39m\u001b[1m\u001b[36mINFO: \u001b[39m\u001b[22m\u001b[36mNow calculating distance distribution\n",
      "\u001b[39m\u001b[1m\u001b[36mINFO: \u001b[39m\u001b[22m\u001b[36mNumber of data couples considered: 6.582805911e9\n",
      "\u001b[39m\u001b[1m\u001b[36mINFO: \u001b[39m\u001b[22m\u001b[36mmaximum distance between points: 8.6006103921461\n",
      "\u001b[39m\u001b[1m\u001b[36mINFO: \u001b[39m\u001b[22m\u001b[36mMean distance between points: 1.9859393101777347\n",
      "\u001b[39m\u001b[1m\u001b[36mINFO: \u001b[39m\u001b[22m\u001b[36mNumber of probable active bins: 80.0\n",
      "\u001b[39m\u001b[1m\u001b[36mINFO: \u001b[39m\u001b[22m\u001b[36mdistance for binning: 0.024824241377221685\n",
      "\u001b[39m\u001b[1m\u001b[36mINFO: \u001b[39m\u001b[22m\u001b[36mmaximum number of bins: 347\n",
      "\u001b[39m\u001b[1m\u001b[36mINFO: \u001b[39m\u001b[22m\u001b[36mAverage number of pairs in each bin: 1.8970787556195967e7\n",
      "\u001b[39m\u001b[1m\u001b[36mINFO: \u001b[39m\u001b[22m\u001b[36mFirst zero crossing: 17 0.024824241377221685 0.4220121034127686\n",
      "\u001b[39m"
     ]
    },
    {
     "name": "stdout",
     "output_type": "stream",
     "text": [
      "Data points at z=200.0: 114742, correlation length: 0.12491558261017952\n",
      "nsamp = 0\n"
     ]
    },
    {
     "name": "stderr",
     "output_type": "stream",
     "text": [
      "\u001b[1m\u001b[36mINFO: \u001b[39m\u001b[22m\u001b[36mNow trying to fit Bessel covariance function\n",
      "\u001b[39m\u001b[1m\u001b[36mINFO: \u001b[39m\u001b[22m\u001b[36mBest fit: 0.12491558261017952 0.009159638965036417\n",
      "\u001b[39m\u001b[1m\u001b[36mINFO: \u001b[39m\u001b[22m\u001b[36mS/N: 0.22597617321662264\n",
      "\u001b[39m\u001b[1m\u001b[36mINFO: \u001b[39m\u001b[22m\u001b[36mRelative misfit of fit: 0.06729894923842485\n",
      "\u001b[39m\u001b[1m\u001b[36mINFO: \u001b[39m\u001b[22m\u001b[36mNumber of data points: 125816\n",
      "\u001b[39m\u001b[1m\u001b[36mINFO: \u001b[39m\u001b[22m\u001b[36mdata mean: -1.547972943598934e-14\n",
      "\u001b[39m\u001b[1m\u001b[36mINFO: \u001b[39m\u001b[22m\u001b[36mdata variance: 0.045265458400608305\n",
      "\u001b[39m\u001b[1m\u001b[36mINFO: \u001b[39m\u001b[22m\u001b[36mNow calculating distance distribution\n",
      "\u001b[39m"
     ]
    },
    {
     "name": "stdout",
     "output_type": "stream",
     "text": [
      "Data points at z=300.0: 125816, correlation length: 0.11527302097860567\n",
      "nsamp = 0\n"
     ]
    },
    {
     "name": "stderr",
     "output_type": "stream",
     "text": [
      "\u001b[1m\u001b[36mINFO: \u001b[39m\u001b[22m\u001b[36mNumber of data couples considered: 7.91477002e9\n",
      "\u001b[39m\u001b[1m\u001b[36mINFO: \u001b[39m\u001b[22m\u001b[36mmaximum distance between points: 8.6006103921461\n",
      "\u001b[39m\u001b[1m\u001b[36mINFO: \u001b[39m\u001b[22m\u001b[36mMean distance between points: 1.9797856758884613\n",
      "\u001b[39m\u001b[1m\u001b[36mINFO: \u001b[39m\u001b[22m\u001b[36mNumber of probable active bins: 80.0\n",
      "\u001b[39m\u001b[1m\u001b[36mINFO: \u001b[39m\u001b[22m\u001b[36mdistance for binning: 0.024747320948605767\n",
      "\u001b[39m\u001b[1m\u001b[36mINFO: \u001b[39m\u001b[22m\u001b[36mmaximum number of bins: 348\n",
      "\u001b[39m\u001b[1m\u001b[36mINFO: \u001b[39m\u001b[22m\u001b[36mAverage number of pairs in each bin: 2.2743772781609196e7\n",
      "\u001b[39m\u001b[1m\u001b[36mINFO: \u001b[39m\u001b[22m\u001b[36mFirst zero crossing: 17 0.024747320948605767 0.42070445612629803\n",
      "\u001b[39m\u001b[1m\u001b[36mINFO: \u001b[39m\u001b[22m\u001b[36mNow trying to fit Bessel covariance function\n",
      "\u001b[39m\u001b[1m\u001b[36mINFO: \u001b[39m\u001b[22m\u001b[36mBest fit: 0.11527302097860567 0.008332272668930553\n",
      "\u001b[39m\u001b[1m\u001b[36mINFO: \u001b[39m\u001b[22m\u001b[36mS/N: 0.22560395160343646\n",
      "\u001b[39m\u001b[1m\u001b[36mINFO: \u001b[39m\u001b[22m\u001b[36mRelative misfit of fit: 0.07449681886644634\n",
      "\u001b[39m\u001b[1m\u001b[36mINFO: \u001b[39m\u001b[22m\u001b[36mNumber of data points: 102006\n",
      "\u001b[39m\u001b[1m\u001b[36mINFO: \u001b[39m\u001b[22m\u001b[36mdata mean: -1.0052334498265943e-14\n",
      "\u001b[39m\u001b[1m\u001b[36mINFO: \u001b[39m\u001b[22m\u001b[36mdata variance: 0.02187712535872466\n",
      "\u001b[39m\u001b[1m\u001b[36mINFO: \u001b[39m\u001b[22m\u001b[36mNow calculating distance distribution\n",
      "\u001b[39m"
     ]
    },
    {
     "name": "stdout",
     "output_type": "stream",
     "text": [
      "Data points at z=400.0: 102006, correlation length: 0.0804865524601921\n",
      "nsamp = 0\n"
     ]
    },
    {
     "name": "stderr",
     "output_type": "stream",
     "text": [
      "\u001b[1m\u001b[36mINFO: \u001b[39m\u001b[22m\u001b[36mNumber of data couples considered: 5.202561015e9\n",
      "\u001b[39m\u001b[1m\u001b[36mINFO: \u001b[39m\u001b[22m\u001b[36mmaximum distance between points: 8.26318837897349\n",
      "\u001b[39m\u001b[1m\u001b[36mINFO: \u001b[39m\u001b[22m\u001b[36mMean distance between points: 1.9050071588211146\n",
      "\u001b[39m\u001b[1m\u001b[36mINFO: \u001b[39m\u001b[22m\u001b[36mNumber of probable active bins: 80.0\n",
      "\u001b[39m\u001b[1m\u001b[36mINFO: \u001b[39m\u001b[22m\u001b[36mdistance for binning: 0.023812589485263932\n",
      "\u001b[39m\u001b[1m\u001b[36mINFO: \u001b[39m\u001b[22m\u001b[36mmaximum number of bins: 348\n",
      "\u001b[39m\u001b[1m\u001b[36mINFO: \u001b[39m\u001b[22m\u001b[36mAverage number of pairs in each bin: 1.4950034534482758e7\n",
      "\u001b[39m\u001b[1m\u001b[36mINFO: \u001b[39m\u001b[22m\u001b[36mFirst zero crossing: 13 0.023812589485263932 0.3095636633084311\n",
      "\u001b[39m\u001b[1m\u001b[36mINFO: \u001b[39m\u001b[22m\u001b[36mNow trying to fit Bessel covariance function\n",
      "\u001b[39m\u001b[1m\u001b[36mINFO: \u001b[39m\u001b[22m\u001b[36mBest fit: 0.0804865524601921 0.0045358695799566084\n",
      "\u001b[39m\u001b[1m\u001b[36mINFO: \u001b[39m\u001b[22m\u001b[36mS/N: 0.2615652298580144\n",
      "\u001b[39m\u001b[1m\u001b[36mINFO: \u001b[39m\u001b[22m\u001b[36mRelative misfit of fit: 0.07525616192876722\n",
      "\u001b[39m\u001b[1m\u001b[36mINFO: \u001b[39m\u001b[22m\u001b[36mNumber of data points: 83943\n",
      "\u001b[39m\u001b[1m\u001b[36mINFO: \u001b[39m\u001b[22m\u001b[36mdata mean: -3.796417571981219e-14\n",
      "\u001b[39m\u001b[1m\u001b[36mINFO: \u001b[39m\u001b[22m\u001b[36mdata variance: 0.013991642498201137\n",
      "\u001b[39m\u001b[1m\u001b[36mINFO: \u001b[39m\u001b[22m\u001b[36mNow calculating distance distribution\n",
      "\u001b[39m"
     ]
    },
    {
     "name": "stdout",
     "output_type": "stream",
     "text": [
      "Data points at z=500.0: 83943, correlation length: 0.049804518007494226\n",
      "nsamp = 0\n"
     ]
    },
    {
     "name": "stderr",
     "output_type": "stream",
     "text": [
      "\u001b[1m\u001b[36mINFO: \u001b[39m\u001b[22m\u001b[36mNumber of data couples considered: 3.523171653e9\n",
      "\u001b[39m\u001b[1m\u001b[36mINFO: \u001b[39m\u001b[22m\u001b[36mmaximum distance between points: 7.7461341486077036\n",
      "\u001b[39m\u001b[1m\u001b[36mINFO: \u001b[39m\u001b[22m\u001b[36mMean distance between points: 1.8310484561578761\n",
      "\u001b[39m\u001b[1m\u001b[36mINFO: \u001b[39m\u001b[22m\u001b[36mNumber of probable active bins: 80.0\n",
      "\u001b[39m\u001b[1m\u001b[36mINFO: \u001b[39m\u001b[22m\u001b[36mdistance for binning: 0.02288810570197345\n",
      "\u001b[39m\u001b[1m\u001b[36mINFO: \u001b[39m\u001b[22m\u001b[36mmaximum number of bins: 339\n",
      "\u001b[39m\u001b[1m\u001b[36mINFO: \u001b[39m\u001b[22m\u001b[36mAverage number of pairs in each bin: 1.0392960544247787e7\n",
      "\u001b[39m\u001b[1m\u001b[36mINFO: \u001b[39m\u001b[22m\u001b[36mFirst zero crossing: 17 0.02288810570197345 0.3890977969335487\n",
      "\u001b[39m\u001b[1m\u001b[36mINFO: \u001b[39m\u001b[22m\u001b[36mNow trying to fit Bessel covariance function\n",
      "\u001b[39m\u001b[1m\u001b[36mINFO: \u001b[39m\u001b[22m\u001b[36mBest fit: 0.049804518007494226 0.001743783093654591\n",
      "\u001b[39m\u001b[1m\u001b[36mINFO: \u001b[39m\u001b[22m\u001b[36mS/N: 0.1423745180133132\n",
      "\u001b[39m\u001b[1m\u001b[36mINFO: \u001b[39m\u001b[22m\u001b[36mRelative misfit of fit: 0.10913583357976163\n",
      "\u001b[39m\u001b[1m\u001b[36mINFO: \u001b[39m\u001b[22m\u001b[36mNumber of data points: 64682\n",
      "\u001b[39m\u001b[1m\u001b[36mINFO: \u001b[39m\u001b[22m\u001b[36mdata mean: -5.231137731810391e-14\n",
      "\u001b[39m\u001b[1m\u001b[36mINFO: \u001b[39m\u001b[22m\u001b[36mdata variance: 0.013097360850532636\n",
      "\u001b[39m\u001b[1m\u001b[36mINFO: \u001b[39m\u001b[22m\u001b[36mNow calculating distance distribution\n",
      "\u001b[39m"
     ]
    },
    {
     "name": "stdout",
     "output_type": "stream",
     "text": [
      "(nbmax, n, nsamp) = (377, 64682, 0)\n",
      "Data points at z=700.0: 64682, correlation length: 0.10293018876516541\n",
      "nsamp = 0\n"
     ]
    },
    {
     "name": "stderr",
     "output_type": "stream",
     "text": [
      "\u001b[1m\u001b[36mINFO: \u001b[39m\u001b[22m\u001b[36mNumber of data couples considered: 2.091848221e9\n",
      "\u001b[39m\u001b[1m\u001b[36mINFO: \u001b[39m\u001b[22m\u001b[36mmaximum distance between points: 7.7461341486077036\n",
      "\u001b[39m\u001b[1m\u001b[36mINFO: \u001b[39m\u001b[22m\u001b[36mMean distance between points: 1.6468830202426465\n",
      "\u001b[39m\u001b[1m\u001b[36mINFO: \u001b[39m\u001b[22m\u001b[36mNumber of probable active bins: 80.0\n",
      "\u001b[39m\u001b[1m\u001b[36mINFO: \u001b[39m\u001b[22m\u001b[36mdistance for binning: 0.020586037753033082\n",
      "\u001b[39m\u001b[1m\u001b[36mINFO: \u001b[39m\u001b[22m\u001b[36mmaximum number of bins: 377\n",
      "\u001b[39m\u001b[1m\u001b[36mINFO: \u001b[39m\u001b[22m\u001b[36mAverage number of pairs in each bin: 5.548754806366048e6\n",
      "\u001b[39m\u001b[1m\u001b[36mINFO: \u001b[39m\u001b[22m\u001b[36mFirst zero crossing: 5 0.020586037753033082 0.10293018876516541\n",
      "\u001b[39m\u001b[1m\u001b[36mINFO: \u001b[39m\u001b[22m\u001b[36mNow trying to fit Bessel covariance function\n",
      "\u001b[39m\u001b[1m\u001b[33mWARNING: \u001b[39m\u001b[22m\u001b[33mToo few data. Will use guesses (np = 4, RLz = 0.10293018876516541, )\u001b[39m\n",
      "\u001b[1m\u001b[36mINFO: \u001b[39m\u001b[22m\u001b[36mNumber of data points: 47423\n",
      "\u001b[39m\u001b[1m\u001b[36mINFO: \u001b[39m\u001b[22m\u001b[36mdata mean: 1.4291763362337454e-14\n",
      "\u001b[39m\u001b[1m\u001b[36mINFO: \u001b[39m\u001b[22m\u001b[36mdata variance: 0.014378020303933571\n",
      "\u001b[39m\u001b[1m\u001b[36mINFO: \u001b[39m\u001b[22m\u001b[36mNow calculating distance distribution\n",
      "\u001b[39m"
     ]
    },
    {
     "name": "stdout",
     "output_type": "stream",
     "text": [
      "(nbmax, n, nsamp) = (375, 47423, 0)\n",
      "Data points at z=1000.0: 47423, correlation length: 0.09456043065581562\n",
      "nsamp = 0\n"
     ]
    },
    {
     "name": "stderr",
     "output_type": "stream",
     "text": [
      "\u001b[1m\u001b[36mINFO: \u001b[39m\u001b[22m\u001b[36mNumber of data couples considered: 1.124446753e9\n",
      "\u001b[39m\u001b[1m\u001b[36mINFO: \u001b[39m\u001b[22m\u001b[36mmaximum distance between points: 7.0871236400831386\n",
      "\u001b[39m\u001b[1m\u001b[36mINFO: \u001b[39m\u001b[22m\u001b[36mMean distance between points: 1.5129668904930498\n",
      "\u001b[39m\u001b[1m\u001b[36mINFO: \u001b[39m\u001b[22m\u001b[36mNumber of probable active bins: 80.0\n",
      "\u001b[39m\u001b[1m\u001b[36mINFO: \u001b[39m\u001b[22m\u001b[36mdistance for binning: 0.018912086131163124\n",
      "\u001b[39m\u001b[1m\u001b[36mINFO: \u001b[39m\u001b[22m\u001b[36mmaximum number of bins: 375\n",
      "\u001b[39m\u001b[1m\u001b[36mINFO: \u001b[39m\u001b[22m\u001b[36mAverage number of pairs in each bin: 2.998587905333333e6\n",
      "\u001b[39m\u001b[1m\u001b[36mINFO: \u001b[39m\u001b[22m\u001b[36mFirst zero crossing: 5 0.018912086131163124 0.09456043065581562\n",
      "\u001b[39m\u001b[1m\u001b[36mINFO: \u001b[39m\u001b[22m\u001b[36mNow trying to fit Bessel covariance function\n",
      "\u001b[39m\u001b[1m\u001b[33mWARNING: \u001b[39m\u001b[22m\u001b[33mToo few data. Will use guesses (np = 4, RLz = 0.09456043065581562, )\u001b[39m\n",
      "\u001b[1m\u001b[36mINFO: \u001b[39m\u001b[22m\u001b[36mNumber of data points: 30885\n",
      "\u001b[39m\u001b[1m\u001b[36mINFO: \u001b[39m\u001b[22m\u001b[36mdata mean: 8.697908114256794e-15\n",
      "\u001b[39m\u001b[1m\u001b[36mINFO: \u001b[39m\u001b[22m\u001b[36mdata variance: 0.019045218645364435\n",
      "\u001b[39m\u001b[1m\u001b[36mINFO: \u001b[39m\u001b[22m\u001b[36mNow calculating distance distribution\n",
      "\u001b[39m"
     ]
    },
    {
     "name": "stdout",
     "output_type": "stream",
     "text": [
      "(nbmax, n, nsamp) = (373, 30885, 0)\n",
      "Data points at z=1500.0: 30885, correlation length: 0.17847456465611988\n"
     ]
    },
    {
     "name": "stderr",
     "output_type": "stream",
     "text": [
      "\u001b[1m\u001b[36mINFO: \u001b[39m\u001b[22m\u001b[36mNumber of data couples considered: 4.7692617e8\n",
      "\u001b[39m\u001b[1m\u001b[36mINFO: \u001b[39m\u001b[22m\u001b[36mmaximum distance between points: 6.639537176648861\n",
      "\u001b[39m\u001b[1m\u001b[36mINFO: \u001b[39m\u001b[22m\u001b[36mMean distance between points: 1.427796517248959\n",
      "\u001b[39m\u001b[1m\u001b[36mINFO: \u001b[39m\u001b[22m\u001b[36mNumber of probable active bins: 80.0\n",
      "\u001b[39m\u001b[1m\u001b[36mINFO: \u001b[39m\u001b[22m\u001b[36mdistance for binning: 0.017847456465611988\n",
      "\u001b[39m\u001b[1m\u001b[36mINFO: \u001b[39m\u001b[22m\u001b[36mmaximum number of bins: 373\n",
      "\u001b[39m\u001b[1m\u001b[36mINFO: \u001b[39m\u001b[22m\u001b[36mAverage number of pairs in each bin: 1.2786638404825737e6\n",
      "\u001b[39m\u001b[1m\u001b[36mINFO: \u001b[39m\u001b[22m\u001b[36mFirst zero crossing: 10 0.017847456465611988 0.17847456465611988\n",
      "\u001b[39m\u001b[1m\u001b[36mINFO: \u001b[39m\u001b[22m\u001b[36mNow trying to fit Bessel covariance function\n",
      "\u001b[39m\u001b[1m\u001b[33mWARNING: \u001b[39m\u001b[22m\u001b[33mToo few data. Will use guesses (np = 9, RLz = 0.17847456465611988, )\u001b[39m\n"
     ]
    },
    {
     "name": "stdout",
     "output_type": "stream",
     "text": [
      "2533.414688 seconds (3.01 M allocations: 137.533 MiB, 0.00% gc time)\n"
     ]
    },
    {
     "data": {
      "text/plain": [
       "([0.135074, 0.135006, 0.131331, 0.122526, 0.107385, 0.0830853, 0.0648317, 0.0983579, 0.0968067, 0.176836], Dict{Symbol,Any}(Pair{Symbol,Any}(:fitcovar, [6.75217e-316 1.97626e-323 … 8.54985e-306 6.75431e-316; 6.27126e-316 7.05557e-316 … 1.3442e-72 0.0; … ; 6.75412e-316 6.48847e-319 … 0.0 1.6976e-313; 6.75413e-316 4.25228e-314 … 8.2791e-313 2.122e-314]),Pair{Symbol,Any}(:fitinfos, Dict{Symbol,Any}[Dict{Symbol,Any}(Pair{Symbol,Any}(:sn, 0.321944),Pair{Symbol,Any}(:rqual, 0.933835),Pair{Symbol,Any}(:fitcovar, [NaN, 0.0120926, 0.0112098, 0.0101884, 0.00914102, 0.00812551, 0.00717214, 0.00629562, 0.00550147, 0.00478967  …  1.48015e-27, 1.23914e-27, 1.03736e-27, 8.68438e-28, 7.27019e-28, 6.08626e-28, 5.09511e-28, 4.26535e-28, 3.57071e-28, 2.98918e-28]),Pair{Symbol,Any}(:covar, [0.0131331, 0.0119648, 0.0107077, 0.0100711, 0.00964831, 0.00890864, 0.00804018, 0.00729995, 0.00648546, 0.00549366  …  0.14253, 0.159474, 0.176565, 0.183101, 0.180855, 0.181395, 0.198267, 0.243653, 0.315605, 0.377209]),Pair{Symbol,Any}(:range, 2:18),Pair{Symbol,Any}(:distx, 0.0:0.025116597914418736:8.589876486731209),Pair{Symbol,Any}(:covarweight, [3.27189e12, 1.36438e13, 1.84681e13, 4.77652e12, 7.85262e12, 1.05021e13, 1.49692e13, 7.16178e12, 7.77009e12, 8.66013e12  …  2.29726e12, 2.29735e12, 2.29721e12, 2.29721e12, 2.29731e12, 2.29721e12, 0.0, 2.29721e12, 2.29727e12, 2.29721e12])), Dict{Symbol,Any}(Pair{Symbol,Any}(:sn, 0.308011),Pair{Symbol,Any}(:rqual, 0.932823),Pair{Symbol,Any}(:fitcovar, [NaN, 0.0116716, 0.0108116, 0.00981795, 0.00880031, 0.00781485, 0.00689081, 0.0060423, 0.00527444, 0.00458702  …  9.73161e-28, 8.13752e-28, 6.80452e-28, 5.68985e-28, 4.75776e-28, 3.97834e-28, 3.32659e-28, 2.78161e-28, 2.32589e-28, 1.94483e-28]),Pair{Symbol,Any}(:covar, [0.0128142, 0.0116194, 0.0103488, 0.0096992, 0.00925229, 0.00853266, 0.00773993, 0.00705658, 0.0062516, 0.00526743  …  0.169017, 0.196956, 0.219181, 0.229913, 0.219538, 0.175047, 0.134368, 0.169814, 0.277118, 0.366876]),Pair{Symbol,Any}(:range, 2:18),Pair{Symbol,Any}(:distx, 0.0:0.02508858934555261:8.580297556178992),Pair{Symbol,Any}(:covarweight, [3.42875e12, 1.42042e13, 1.91528e13, 4.91467e12, 8.17176e12, 1.1493e13, 1.44145e13, 7.46486e12, 8.24421e12, 9.07584e12  …  2.40674e12, 2.40663e12, 2.40663e12, 2.40663e12, 2.40662e12, 2.40662e12, 0.0, 0.0, 2.40662e12, 2.40662e12])), Dict{Symbol,Any}(Pair{Symbol,Any}(:sn, 0.253939),Pair{Symbol,Any}(:rqual, 0.939139),Pair{Symbol,Any}(:fitcovar, [NaN, 0.00991664, 0.00914551, 0.00826159, 0.00736317, 0.00649957, 0.00569569, 0.00496281, 0.00430434, 0.00371904  …  5.73433e-29, 4.76171e-29, 3.95405e-29, 3.28336e-29, 2.72643e-29, 2.26395e-29, 1.87992e-29, 1.56102e-29, 1.29621e-29, 1.07632e-29]),Pair{Symbol,Any}(:covar, [0.0110873, 0.00992968, 0.00868073, 0.0080899, 0.00781109, 0.00726288, 0.00651961, 0.00582627, 0.00503255, 0.00403714  …  0.166432, 0.20769, 0.244726, 0.260632, 0.248137, 0.197239, 0.150325, 0.187676, 0.305031, 0.403609]),Pair{Symbol,Any}(:range, 2:17),Pair{Symbol,Any}(:distx, 0.0:0.024932645150483223:8.576829931766229),Pair{Symbol,Any}(:covarweight, [4.92667e12, 1.73309e13, 2.44979e13, 6.78203e12, 1.22907e13, 1.12072e13, 1.77226e13, 1.03487e13, 1.20016e13, 9.92178e12  …  3.32359e12, 3.32313e12, 3.32311e12, 3.32311e12, 3.32311e12, 3.32311e12, 0.0, 0.0, 3.32311e12, 3.32311e12])), Dict{Symbol,Any}(Pair{Symbol,Any}(:sn, 0.225976),Pair{Symbol,Any}(:rqual, 0.932701),Pair{Symbol,Any}(:fitcovar, [NaN, 0.00875331, 0.00801354, 0.0071764, 0.00633598, 0.00553781, 0.00480362, 0.00414213, 0.00355471, 0.00303862  …  7.76238e-31, 6.37271e-31, 5.23181e-31, 4.29515e-31, 3.52617e-31, 2.89484e-31, 2.37654e-31, 1.95103e-31, 1.6017e-31, 1.31491e-31]),Pair{Symbol,Any}(:covar, [0.00973609, 0.00873599, 0.00758325, 0.00698648, 0.00676104, 0.00634139, 0.00566633, 0.00497885, 0.0042394, 0.00334893  …  0.184097, 0.203508, 0.223646, 0.231679, 0.228138, 0.225656, 0.242257, 0.294527, 0.378836, 0.450415]),Pair{Symbol,Any}(:range, 2:17),Pair{Symbol,Any}(:distx, 0.0:0.024824241377221685:8.589187516518702),Pair{Symbol,Any}(:covarweight, [7.08819e12, 2.05345e13, 3.22602e13, 9.24902e12, 1.65003e13, 1.28098e13, 2.25809e13, 1.68533e13, 2.04396e13, 1.026e13  …  4.84576e12, 4.8458e12, 4.84573e12, 4.84573e12, 4.84578e12, 4.84573e12, 0.0, 4.84573e12, 4.84577e12, 4.84573e12])), Dict{Symbol,Any}(Pair{Symbol,Any}(:sn, 0.225604),Pair{Symbol,Any}(:rqual, 0.925503),Pair{Symbol,Any}(:fitcovar, [NaN, 0.00791535, 0.00717035, 0.00634223, 0.00552502, 0.00476184, 0.00407139, 0.00345945, 0.00292487, 0.00246278  …  2.73878e-33, 2.21287e-33, 1.78794e-33, 1.4446e-33, 1.16719e-33, 9.43043e-34, 7.61941e-34, 6.15615e-34, 4.97388e-34, 4.01864e-34]),Pair{Symbol,Any}(:covar, [0.00889311, 0.00795681, 0.00679553, 0.00612279, 0.00589689, 0.00556888, 0.00496892, 0.00431958, 0.00365085, 0.00288037  …  0.195096, 0.212928, 0.229027, 0.232928, 0.227418, 0.222574, 0.234091, 0.284127, 0.374847, 0.455322]),Pair{Symbol,Any}(:range, 2:17),Pair{Symbol,Any}(:distx, 0.0:0.024747320948605767:8.587320369166202),Pair{Symbol,Any}(:covarweight, [1.24621e13, 2.88702e13, 4.84122e13, 1.44905e13, 2.89201e13, 1.93659e13, 3.372e13, 2.69769e13, 3.04427e13, 2.11688e13  …  8.6103e12, 8.61031e12, 8.61027e12, 8.61027e12, 8.61031e12, 8.61027e12, 0.0, 8.61027e12, 8.61073e12, 8.61027e12])), Dict{Symbol,Any}(Pair{Symbol,Any}(:sn, 0.261565),Pair{Symbol,Any}(:rqual, 0.924744),Pair{Symbol,Any}(:fitcovar, [NaN, 0.00416619, 0.00356322, 0.00294984, 0.00239435, 0.00191762, 0.00152091, 0.00119733, 0.000937093, 0.000729939  …  2.12272e-45, 1.58139e-45, 1.17811e-45, 8.77665e-46, 6.53839e-46, 4.87092e-46, 3.62868e-46, 2.70324e-46, 2.01381e-46, 1.50021e-46]),Pair{Symbol,Any}(:covar, [0.00500084, 0.00432831, 0.00338589, 0.00275261, 0.00256492, 0.00242645, 0.0020774, 0.0016131, 0.00113544, 0.000691692  …  0.017056, 0.0257619, 0.0324522, 0.0266112, 0.0233684, 0.0357046, 0.0476647, 0.049637, 0.0602981, 0.0800476]),Pair{Symbol,Any}(:range, 2:13),Pair{Symbol,Any}(:distx, 0.0:0.023812589485263932:8.262968551386585),Pair{Symbol,Any}(:covarweight, [3.5406e14, 4.15522e14, 6.84574e14, 3.57028e14, 4.96347e14, 4.49191e14, 5.29895e14, 6.62762e14, 5.38738e14, 6.76107e14  …  0.0, 0.0, 3.48455e14, 0.0, 0.0, 0.0, 3.48454e14, 0.0, 0.0, 3.48454e14])), Dict{Symbol,Any}(Pair{Symbol,Any}(:sn, 0.142375),Pair{Symbol,Any}(:rqual, 0.890864),Pair{Symbol,Any}(:fitcovar, [NaN, 0.00147667, 0.00110998, 0.000796021, 0.000555937, 0.000381647, 0.000258846, 0.000173985, 0.000116133, 7.70881e-5  …  5.852e-68, 3.70149e-68, 2.34124e-68, 1.48086e-68, 9.36656e-69, 5.9244e-69, 3.7472e-69, 2.3701e-69, 1.49908e-69, 9.48159e-70]),Pair{Symbol,Any}(:covar, [0.00276843, 0.00187538, 0.000785668, 0.000182324, 0.000165632, 0.000334528, 0.000326735, 0.000169634, 7.75415e-5, 0.000103294  …  0.00386028, 0.00346961, 0.000629424, -0.00200008, -0.00299829, -0.00606051, -0.013942, -0.0237553, -0.0327458, -0.0391684]),Pair{Symbol,Any}(:range, 2:17),Pair{Symbol,Any}(:distx, 0.0:0.02288810570197345:7.736179727267026),Pair{Symbol,Any}(:covarweight, [8.19048e15, 1.08657e16, 1.83842e16, 8.19197e15, 1.63929e16, 2.25659e16, 1.96008e16, 1.34202e16, 1.75165e16, 3.14689e16  …  8.18687e15, 8.21668e15, 0.0, 8.18639e15, 0.0, 0.0, 0.0, 8.18638e15, 0.0, 8.18639e15])), Dict{Symbol,Any}(Pair{Symbol,Any}(:sn, 0.010101),Pair{Symbol,Any}(:rqual, 0.0),Pair{Symbol,Any}(:fitcovar, [NaN, 0.000125105, 0.000114437, 0.000102382, 9.02965e-5, 7.8834e-5, 6.83042e-5, 5.88295e-5, 5.04267e-5, 4.30539e-5  …  1.87534e-35, 1.53747e-35, 1.26047e-35, 1.03337e-35, 8.47179e-36, 6.94537e-36, 5.69395e-36, 4.66799e-36, 3.82688e-36, 3.13732e-36]),Pair{Symbol,Any}(:covar, [0.0036817, 0.00246529, 0.000949942, -9.40907e-5, -0.000378695, -3.79536e-5, 0.000415672, 0.00058776, 0.000547672, 0.000543952  …  0.00789725, 0.00486264, 0.00166231, 0.000243391, 0.0, 0.0, -0.00115312, -0.00807182, -0.0242155, -0.0403591]),Pair{Symbol,Any}(:range, 1:0),Pair{Symbol,Any}(:distx, 0.0:0.020586037753033082:7.740350195140438),Pair{Symbol,Any}(:covarweight, [6.2243e16, 6.36833e17, 3.04039e17, 6.22455e16, 6.22439e16, 6.88854e17, 8.09582e17, 8.09505e16, 2.7791e18, 9.17537e16  …  6.2245e16, 0.0, 0.0, 0.0, 0.0, 0.0, 0.0, 0.0, 0.0, 6.22415e16])), Dict{Symbol,Any}(Pair{Symbol,Any}(:sn, 0.010101),Pair{Symbol,Any}(:rqual, 0.0),Pair{Symbol,Any}(:fitcovar, [NaN, 0.000137338, 0.000125627, 0.000112393, 9.91257e-5, 8.65423e-5, 7.49829e-5, 6.45818e-5, 5.53574e-5, 4.72637e-5  …  3.06294e-35, 2.51113e-35, 2.05871e-35, 1.6878e-35, 1.38371e-35, 1.13441e-35, 9.30017e-36, 7.62448e-36, 6.2507e-36, 5.12443e-36]),Pair{Symbol,Any}(:covar, [0.00483365, 0.0034247, 0.00171156, 0.00035387, -0.000400512, -0.000368076, 7.84656e-5, 0.000366471, 0.000364554, 0.00022959  …  0.00804745, 0.00499294, 0.00171914, 0.000253423, 0.0, 0.0, -0.00076771, -0.00537397, -0.0161219, -0.0268699]),Pair{Symbol,Any}(:range, 1:0),Pair{Symbol,Any}(:distx, 0.0:0.018912086131163124:7.073120213055009),Pair{Symbol,Any}(:covarweight, [4.22411e17, 1.61604e18, 9.24953e17, 7.58033e17, 4.22411e17, 1.21294e18, 1.10262e19, 1.39184e18, 4.77032e17, 3.22614e19  …  4.22412e17, 0.0, 0.0, 0.0, 0.0, 0.0, 0.0, 0.0, 0.0, 4.2241e17])), Dict{Symbol,Any}(Pair{Symbol,Any}(:sn, 0.010101),Pair{Symbol,Any}(:rqual, 0.0),Pair{Symbol,Any}(:fitcovar, [NaN, 0.000187669, 0.000181919, 0.000174606, 0.000166406, 0.000157736, 0.000148877, 0.00014002, 0.000131303, 0.000122819  …  2.49652e-19, 2.26199e-19, 2.04949e-19, 1.85694e-19, 1.68248e-19, 1.5244e-19, 1.38117e-19, 1.2514e-19, 1.13381e-19, 1.02727e-19]),Pair{Symbol,Any}(:covar, [0.00622328, 0.00416027, 0.00212651, 0.00112607, 0.000682802, 0.000449414, 0.00037387, 0.000309434, 0.000127975, -0.000135993  …  0.000248449, 4.14081e-5, 0.0, 0.0, 0.0, 3.872e-5, 0.000227142, 0.000544551, 0.000704373, 0.000631875]),Pair{Symbol,Any}(:range, 1:0),Pair{Symbol,Any}(:distx, 0.0:0.017847456465611988:6.63925380520766),Pair{Symbol,Any}(:covarweight, [2.82003e19, 2.82013e19, 2.8287e19, 3.52297e19, 2.82292e19, 3.18764e19, 3.93313e19, 3.89012e19, 2.88514e19, 2.82233e19  …  0.0, 0.0, 0.0, 0.0, 0.0, 0.0, 0.0, 0.0, 2.82512e19, 2.82005e19]))  …  #undef, #undef, #undef, #undef, #undef, #undef, #undef, #undef, #undef, #undef]),Pair{Symbol,Any}(:covar, [6.6527e-316 6.65099e-316 … 9.88131e-324 NaN; 1.4822e-323 6.65099e-316 … 6.65116e-316 6.8221e38; … ; 6.75977e-316 9.88131e-324 … -6.08657e-264 6.65121e-316; 3.60739e-313 5.61638e-316 … 1.31232e181 6.65121e-316]),Pair{Symbol,Any}(:stdcovar, [6.6527e-316 7.06204e-316 … 0.0 6.80015e-316; 1.4822e-323 7.06204e-316 … 0.0 6.80016e-316; … ; 7.06196e-316 4.36566e-316 … 6.80012e-316 6.79985e-316; 7.06203e-316 6.36599e-314 … 6.80513e-316 6.79988e-316]),Pair{Symbol,Any}(:len, [0.140151, 0.139091, 0.13309, 0.124916, 0.115273, 0.0804866, 0.0498045, 0.10293, 0.0945604, 0.178475]),Pair{Symbol,Any}(:distx, [0.0, 0.0, 0.0, 0.0, 0.0, 0.0, 0.0, 0.0, 0.0, 0.0  …  0.0, 0.0, 0.0, 0.0, 0.0, 0.0, 0.0, 0.0, 0.0, 0.0]),Pair{Symbol,Any}(:var0, [0.0125664, 0.0121337, 0.0103345, 0.00915964, 0.00833227, 0.00453587, 0.00174378, 0.0129664, 0.0142342, 0.0188548])))"
      ]
     },
     "execution_count": 10,
     "metadata": {},
     "output_type": "execute_result"
    }
   ],
   "source": [
    "srand(1234);\n",
    "@time lenxy,infoxy = fithorzlen(x,v,z, nmean = 500, distbin = collect(0.:0.1:6))"
   ]
  },
  {
   "cell_type": "markdown",
   "metadata": {},
   "source": [
    "Make a plot of the horizontal correlation length with respect to the depth."
   ]
  },
  {
   "cell_type": "code",
   "execution_count": 11,
   "metadata": {},
   "outputs": [
    {
     "data": {
      "image/png": "[encoded data removed]",
      "text/plain": [
       "PyPlot.Figure(PyObject <matplotlib.figure.Figure object at 0x7f4851ed8e90>)"
      ]
     },
     "metadata": {},
     "output_type": "display_data"
    }
   ],
   "source": [
    "plot(lenxy,-z)\n",
    "xlabel(\"Horizontal correlation length (°)\")\n",
    "ylabel(\"Depth (m)\");"
   ]
  },
  {
   "cell_type": "markdown",
   "metadata": {},
   "source": [
    "### Vertical correlation length \n",
    "The vertical correlation length is also estimated for different depth levels"
   ]
  },
  {
   "cell_type": "code",
   "execution_count": 12,
   "metadata": {},
   "outputs": [
    {
     "name": "stderr",
     "output_type": "stream",
     "text": [
      "\u001b[1m\u001b[36mINFO: \u001b[39m\u001b[22m\u001b[36mMaking empirical covariance\n",
      "\u001b[39m\u001b[1m\u001b[36mINFO: \u001b[39m\u001b[22m\u001b[36mFitting empirical covariance\n",
      "\u001b[39m"
     ]
    },
    {
     "name": "stdout",
     "output_type": "stream",
     "text": [
      "Correlation length at z=0.0: 57.88478847884789\n"
     ]
    },
    {
     "name": "stderr",
     "output_type": "stream",
     "text": [
      "\u001b[1m\u001b[36mINFO: \u001b[39m\u001b[22m\u001b[36mMaking empirical covariance\n",
      "\u001b[39m\u001b[1m\u001b[36mINFO: \u001b[39m\u001b[22m\u001b[36mFitting empirical covariance\n",
      "\u001b[39m\u001b[1m\u001b[36mINFO: \u001b[39m\u001b[22m\u001b[36mMaking empirical covariance\n",
      "\u001b[39m\u001b[1m\u001b[36mINFO: \u001b[39m\u001b[22m\u001b[36mFitting empirical covariance\n",
      "\u001b[39m"
     ]
    },
    {
     "name": "stdout",
     "output_type": "stream",
     "text": [
      "Correlation length at z=10.0: 57.4977497749775\n",
      "Correlation length at z=100.0: 57.24572457245725\n",
      "Correlation length at z=200.0: 59.64896489648965\n",
      "Correlation length at z=300.0: 60.99009900990099\n",
      "Correlation length at z=400.0: 60.62106210621062\n",
      "Correlation length at z=500.0: 60.9000900090009\n",
      "Correlation length at z=700.0: 100.0\n",
      "Correlation length at z=1000.0: 100.0\n",
      "Correlation length at z=1500.0: 100.0\n",
      " 25.234908 seconds (875.77 M allocations: 74.556 GiB, 20.21% gc time)\n"
     ]
    },
    {
     "name": "stderr",
     "output_type": "stream",
     "text": [
      "\u001b[1m\u001b[36mINFO: \u001b[39m\u001b[22m\u001b[36mMaking empirical covariance\n",
      "\u001b[39m\u001b[1m\u001b[36mINFO: \u001b[39m\u001b[22m\u001b[36mFitting empirical covariance\n",
      "\u001b[39m\u001b[1m\u001b[36mINFO: \u001b[39m\u001b[22m\u001b[36mMaking empirical covariance\n",
      "\u001b[39m\u001b[1m\u001b[36mINFO: \u001b[39m\u001b[22m\u001b[36mFitting empirical covariance\n",
      "\u001b[39m\u001b[1m\u001b[36mINFO: \u001b[39m\u001b[22m\u001b[36mMaking empirical covariance\n",
      "\u001b[39m\u001b[1m\u001b[36mINFO: \u001b[39m\u001b[22m\u001b[36mFitting empirical covariance\n",
      "\u001b[39m\u001b[1m\u001b[36mINFO: \u001b[39m\u001b[22m\u001b[36mMaking empirical covariance\n",
      "\u001b[39m\u001b[1m\u001b[36mINFO: \u001b[39m\u001b[22m\u001b[36mFitting empirical covariance\n",
      "\u001b[39m\u001b[1m\u001b[36mINFO: \u001b[39m\u001b[22m\u001b[36mMaking empirical covariance\n",
      "\u001b[39m\u001b[1m\u001b[36mINFO: \u001b[39m\u001b[22m\u001b[36mFitting empirical covariance\n",
      "\u001b[39m\u001b[1m\u001b[36mINFO: \u001b[39m\u001b[22m\u001b[36mMaking empirical covariance\n",
      "\u001b[39m\u001b[1m\u001b[36mINFO: \u001b[39m\u001b[22m\u001b[36mFitting empirical covariance\n",
      "\u001b[39m\u001b[1m\u001b[36mINFO: \u001b[39m\u001b[22m\u001b[36mMaking empirical covariance\n",
      "\u001b[39m\u001b[1m\u001b[36mINFO: \u001b[39m\u001b[22m\u001b[36mFitting empirical covariance\n",
      "\u001b[39m"
     ]
    },
    {
     "data": {
      "text/plain": [
       "([57.6981, 57.705, 58.0752, 59.3871, 60.5586, 61.6991, 65.8397, 96.6486, 99.9285, 99.9995], Dict{Symbol,Any}(Pair{Symbol,Any}(:fitcovar, [0.0252676 0.0251102 … 0.00256942 0.00210995; 0.0134825 0.013316 … 0.00195551 0.00160582; … ; 7.86593e-6 7.33144e-6 … 4.04489e-5 3.32157e-5; 8.86125e-7 8.12928e-7 … 1.22324e-5 1.00449e-5]),Pair{Symbol,Any}(:covar, [0.0286905 0.0285542 … 0.00269583 0.00221375; 0.0169903 0.017123 … 0.00274869 0.00172959; … ; -0.0117526 -0.0116696 … -0.000807387 0.00191609; -0.00304715 -0.00296691 … -0.00212206 0.00194721]),Pair{Symbol,Any}(:stdcovar, [0.00587401 0.00526718 … 0.00508268 0.00537369; 0.00363142 0.0039231 … 0.00442151 0.00482815; … ; 0.0048703 0.00505421 … 0.0034862 0.00343275; 0.0039996 0.00493679 … 0.00336178 0.00327033]),Pair{Symbol,Any}(:len, [57.8848, 57.4977, 57.2457, 59.649, 60.9901, 60.6211, 60.9001, 100.0, 100.0, 100.0]),Pair{Symbol,Any}(:distx, [25.0, 75.0, 125.0, 175.0, 225.0, 275.0, 325.0, 375.0, 450.0, 550.0]),Pair{Symbol,Any}(:var0, [0.0286905, 0.0285542, 0.0290579, 0.0284454, 0.0283404, 0.0278159, 0.0276079, 0.00274585, 0.00269583, 0.00221375])))"
      ]
     },
     "execution_count": 12,
     "metadata": {},
     "output_type": "execute_result"
    }
   ],
   "source": [
    "srand(1234);\n",
    "@time lenz,infoz = fitvertlen(x,v,z, nmean = 500, distbin = collect([0.:50:400; 500:100:600]))"
   ]
  },
  {
   "cell_type": "markdown",
   "metadata": {
    "collapsed": true
   },
   "source": [
    "Make a plot"
   ]
  },
  {
   "cell_type": "code",
   "execution_count": 13,
   "metadata": {},
   "outputs": [
    {
     "data": {
      "image/png": "[encoded data removed]",
      "text/plain": [
       "PyPlot.Figure(PyObject <matplotlib.figure.Figure object at 0x7f4851ed8090>)"
      ]
     },
     "metadata": {},
     "output_type": "display_data"
    }
   ],
   "source": [
    "plot(lenz,-z)\n",
    "xlabel(\"Vertical correlation length (m)\")\n",
    "ylabel(\"Depth (m)\");"
   ]
  }
 ],
 "metadata": {
  "kernelspec": {
   "display_name": "Julia 0.6.2",
   "language": "julia",
   "name": "julia-0.6"
  },
  "language_info": {
   "file_extension": ".jl",
   "mimetype": "application/julia",
   "name": "julia",
   "version": "0.6.2"
  },
  "nbdime-conflicts": {
   "local_diff": [
    {
     "diff": [
      {
       "diff": [
        {
         "diff": [
          {
           "key": 10,
           "op": "addrange",
           "valuelist": "2"
          },
          {
           "key": 10,
           "length": 1,
           "op": "removerange"
          }
         ],
         "key": 0,
         "op": "patch"
        }
       ],
       "key": "display_name",
       "op": "patch"
      }
     ],
     "key": "kernelspec",
     "op": "patch"
    },
    {
     "diff": [
      {
       "diff": [
        {
         "diff": [
          {
           "key": 4,
           "op": "addrange",
           "valuelist": "2"
          },
          {
           "key": 4,
           "length": 1,
           "op": "removerange"
          }
         ],
         "key": 0,
         "op": "patch"
        }
       ],
       "key": "version",
       "op": "patch"
      }
     ],
     "key": "language_info",
     "op": "patch"
    }
   ],
   "remote_diff": [
    {
     "diff": [
      {
       "diff": [
        {
         "diff": [
          {
           "key": 10,
           "op": "addrange",
           "valuelist": "0"
          },
          {
           "key": 10,
           "length": 1,
           "op": "removerange"
          }
         ],
         "key": 0,
         "op": "patch"
        }
       ],
       "key": "display_name",
       "op": "patch"
      }
     ],
     "key": "kernelspec",
     "op": "patch"
    },
    {
     "diff": [
      {
       "diff": [
        {
         "diff": [
          {
           "key": 4,
           "op": "addrange",
           "valuelist": "0"
          },
          {
           "key": 4,
           "length": 1,
           "op": "removerange"
          }
         ],
         "key": 0,
         "op": "patch"
        }
       ],
       "key": "version",
       "op": "patch"
      }
     ],
     "key": "language_info",
     "op": "patch"
    }
   ]
  }
 },
 "nbformat": 4,
 "nbformat_minor": 2
}
