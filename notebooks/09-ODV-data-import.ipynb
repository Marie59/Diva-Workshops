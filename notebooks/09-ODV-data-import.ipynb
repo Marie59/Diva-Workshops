{
 "cells": [
  {
   "cell_type": "markdown",
   "metadata": {},
   "source": [
    "# Importing ODV aggregated spreadsheet data\n",
    "\n",
    "* Data are supposed to be aggregated using ODV and exported as aggregated ODV spreadsheet files\n",
    "* Substitute the file name `small_ODV_sample.txt` with the file name of your aggregated ODV file. \n",
    "* Do not export \"data error\"  from ODV (column header `STANDARD_DEV`)"
   ]
  },
  {
   "cell_type": "code",
   "execution_count": null,
   "metadata": {},
   "outputs": [],
   "source": [
    "using DIVAnd\n",
    "using PyPlot\n",
    "if VERSION >= v\"0.7.0-beta.0\"\n",
    "    using Dates\n",
    "    using Statistics\n",
    "    using DelimitedFiles\n",
    "else\n",
    "    using Compat: @info, @warn, @debug\n",
    "end\n",
    "using Compat"
   ]
  },
  {
   "cell_type": "code",
   "execution_count": null,
   "metadata": {
    "collapsed": true
   },
   "outputs": [],
   "source": [
    "#download(\"...\",\"data/small_ODV_sample.txt\")"
   ]
  },
  {
   "cell_type": "markdown",
   "metadata": {},
   "source": [
    "Aggregated ODV files do not have a semantic header, therefore we need to extract the corresponding column by using the \"local\" column header name (instead of being able to use the P01 name for the ODV files conforming to \n",
    "[Specification of SeaDataNet Data Transport Formats](https://www.seadatanet.org/content/download/636/3333/file/SDN2_D85_WP8_Datafile_formats.pdf?version=2)).\n",
    "\n",
    "\n",
    "By default only `good` and `probably good` values are loaded.     \n",
    "This can be changed using the optional parameter `qv_flags`:"
   ]
  },
  {
   "cell_type": "code",
   "execution_count": null,
   "metadata": {},
   "outputs": [],
   "source": [
    "DIVAnd.ODVspreadsheet.GOOD_VALUE"
   ]
  },
  {
   "cell_type": "code",
   "execution_count": null,
   "metadata": {},
   "outputs": [],
   "source": [
    "?ODVspreadsheet.load"
   ]
  },
  {
   "cell_type": "markdown",
   "metadata": {},
   "source": [
    "If for some reasons, the column name contains an underscore (`Water_body_phosphate` as opposed to `Water body phosphate`), then the local name should also use underscoes."
   ]
  },
  {
   "cell_type": "code",
   "execution_count": null,
   "metadata": {},
   "outputs": [],
   "source": [
    "dataname = \"Water body salinity\"\n",
    "\n",
    "obsval,obslon,obslat,obsdepth,obstime,obsid = ODVspreadsheet.load(Float64,[\"data/small_ODV_sample.txt\"],\n",
    "                           [\"Water body salinity\"]; nametype = :localname );"
   ]
  },
  {
   "cell_type": "markdown",
   "metadata": {},
   "source": [
    "Basic range check for the data (and presence of NaN and Inf)"
   ]
  },
  {
   "cell_type": "code",
   "execution_count": null,
   "metadata": {},
   "outputs": [],
   "source": [
    "checkobs((obslon,obslat,obsdepth,obstime),obsval,obsid)"
   ]
  },
  {
   "cell_type": "markdown",
   "metadata": {},
   "source": [
    "Individual elements can be retrieved by indexing     \n",
    "`obsdata`, `obslat`, `obslon`, `obsdepth` and `obstime`,      \n",
    "for example:"
   ]
  },
  {
   "cell_type": "code",
   "execution_count": null,
   "metadata": {},
   "outputs": [],
   "source": [
    "obsval[10]"
   ]
  },
  {
   "cell_type": "markdown",
   "metadata": {},
   "source": [
    "## Remove data from the file\n",
    "Generate a text file to keep track of the removed data.        \n",
    "Define the indices of the data to delete:"
   ]
  },
  {
   "cell_type": "code",
   "execution_count": null,
   "metadata": {},
   "outputs": [],
   "source": [
    "index = [10,14]"
   ]
  },
  {
   "cell_type": "markdown",
   "metadata": {},
   "source": [
    "Create an array containing these data:"
   ]
  },
  {
   "cell_type": "code",
   "execution_count": null,
   "metadata": {},
   "outputs": [],
   "source": [
    "baddata = [\"lon\" \"lat\" \"depth\" \"time\" \"value\" \"ids\";\n",
    "    obslon[index]  obslat[index] obsdepth[index] obstime[index] obsval[index] obsid[index]]"
   ]
  },
  {
   "cell_type": "markdown",
   "metadata": {},
   "source": [
    "The array will be written to a file as a text using the function `writedlm`."
   ]
  },
  {
   "cell_type": "code",
   "execution_count": null,
   "metadata": {},
   "outputs": [],
   "source": [
    "?writedlm"
   ]
  },
  {
   "cell_type": "code",
   "execution_count": null,
   "metadata": {},
   "outputs": [],
   "source": [
    "sel = trues(size(obslon))\n",
    "sel[index] .= false\n",
    "\n",
    "obslon_only_good_data = obslon[sel];\n",
    "obslat_only_good_data = obslat[sel];\n",
    "obsdepth_only_good_data = obsdepth[sel];\n",
    "obstime_only_good_data = obstime[sel];\n",
    "obsdata_only_good_data = obsval[sel];\n",
    "obsids_only_good_data = obsid[sel];\n",
    "\n",
    "@show size(obslon_only_good_data);\n",
    "@show size(obslon);"
   ]
  },
  {
   "cell_type": "code",
   "execution_count": null,
   "metadata": {
    "collapsed": true
   },
   "outputs": [],
   "source": [
    "writedlm(\"data/my_bad_data.txt\",baddata)"
   ]
  },
  {
   "cell_type": "markdown",
   "metadata": {},
   "source": [
    "The identifier is a combination of the EDMO code and LOCAL CDI ID"
   ]
  },
  {
   "cell_type": "code",
   "execution_count": null,
   "metadata": {},
   "outputs": [],
   "source": [
    ";cat data/my_bad_data.txt"
   ]
  },
  {
   "cell_type": "code",
   "execution_count": null,
   "metadata": {},
   "outputs": [],
   "source": [
    "obsid[200]"
   ]
  },
  {
   "cell_type": "code",
   "execution_count": null,
   "metadata": {},
   "outputs": [],
   "source": [
    "SDNObsMetadata(obsid[10])"
   ]
  },
  {
   "cell_type": "markdown",
   "metadata": {},
   "source": [
    "## Select data according to criterion\n",
    "For the purpose of the example, let's assume we want to remove the salinity values below 32 (even if the observations are good)."
   ]
  },
  {
   "cell_type": "code",
   "execution_count": null,
   "metadata": {},
   "outputs": [],
   "source": [
    "sel = obsval .> 32.;\n",
    "\n",
    "index = findall(.!sel)\n",
    "@info(\"Number of removed observations: $(length(index))\");\n",
    "\n",
    "obsval = obsval[sel]\n",
    "obslon = obslon[sel]\n",
    "obslat = obslat[sel]\n",
    "obsdepth = obsdepth[sel]\n",
    "obstime = obstime[sel]\n",
    "obsid = obsid[sel];"
   ]
  },
  {
   "cell_type": "code",
   "execution_count": null,
   "metadata": {},
   "outputs": [],
   "source": [
    "checkobs((obslon,obslat,obsdepth,obstime),obsval,obsid)"
   ]
  },
  {
   "cell_type": "markdown",
   "metadata": {},
   "source": [
    "Here we use a criterion based on the depth and on the time of measurement (month):"
   ]
  },
  {
   "cell_type": "code",
   "execution_count": null,
   "metadata": {},
   "outputs": [],
   "source": [
    "sel = (obsdepth .< 50.) .& (Dates.month.(obstime) .== 10)\n",
    "@show sum(sel);\n",
    "@show length(obsval);\n",
    "obsval_new = obsval[sel];"
   ]
  },
  {
   "cell_type": "markdown",
   "metadata": {},
   "source": [
    "Let's create a histogram showing the number of observations per month:"
   ]
  },
  {
   "cell_type": "code",
   "execution_count": null,
   "metadata": {},
   "outputs": [],
   "source": [
    "PyPlot.plt[:hist](Dates.month.(obstime),12)\n",
    "extrema(Dates.month.(obstime))"
   ]
  },
  {
   "cell_type": "markdown",
   "metadata": {},
   "source": [
    "## Plot the selected data positions"
   ]
  },
  {
   "cell_type": "code",
   "execution_count": null,
   "metadata": {
    "collapsed": true
   },
   "outputs": [],
   "source": [
    "bathname = \"data/gebco_30sec_16.nc\"\n",
    "\n",
    "if !isfile(bathname)\n",
    "    download(\"https://b2drop.eudat.eu/s/o0vinoQutAC7eb0/download\",bathname)\n",
    "else\n",
    "    @info \"Bathymetry file already downloaded\" \n",
    "end\n",
    "\n",
    "bathisglobal = true\n",
    "\n",
    "# Extract the bathymetry for plotting\n",
    "\n",
    "lonr = extrema(obslon[sel])\n",
    "latr = extrema(obslat[sel])\n",
    "\n",
    "lonr = -10:30\n",
    "latr = 30:45 \n",
    "bx,by,b = extract_bath(bathname,bathisglobal,lonr,latr);"
   ]
  },
  {
   "cell_type": "code",
   "execution_count": null,
   "metadata": {
    "collapsed": true
   },
   "outputs": [],
   "source": [
    "contourf(bx,by,permutedims(b, [2,1]), levels = [-1e5,0],colors = [[.5,.5,.5]])\n",
    "scatter(obslon[sel],obslat[sel],10,obsval[sel])\n",
    "# compute and set the correct aspect ratio\n",
    "aspect_ratio = 1/cos(mean(latr) * pi/180)\n",
    "gca()[:set_aspect](aspect_ratio)\n",
    "colorbar(orientation = \"horizontal\")"
   ]
  }
 ],
 "metadata": {
  "kernelspec": {
   "display_name": "Julia 1.0.0",
   "language": "julia",
   "name": "julia-1.0"
  },
  "language_info": {
   "file_extension": ".jl",
   "mimetype": "application/julia",
   "name": "julia",
   "version": "1.0.0"
  }
 },
 "nbformat": 4,
 "nbformat_minor": 2
}
