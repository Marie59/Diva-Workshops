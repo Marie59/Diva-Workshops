{
 "cells": [
  {
   "cell_type": "markdown",
   "metadata": {},
   "source": [
    "# Importing ODV aggregated spreadsheet data\n",
    "\n",
    "* Data are supposed to be aggregated using ODV and exported as aggregated ODV spreadsheet files\n",
    "* Substitute the file name `small_ODV_sample.txt` with the file name of your aggregated ODV file. \n",
    "* Do not export \"data error\"  from ODV (column header `STANDARD_DEV`)"
   ]
  },
  {
   "cell_type": "code",
   "execution_count": 43,
   "metadata": {},
   "outputs": [],
   "source": [
    "using DIVAnd\n",
    "using PyPlot\n",
    "using DelimitedFiles\n",
    "using Dates\n",
    "using Statistics"
   ]
  },
  {
   "cell_type": "code",
   "execution_count": 13,
   "metadata": {
    "collapsed": true
   },
   "outputs": [],
   "source": [
    "#download(\"...\",\"small_ODV_sample.txt\")"
   ]
  },
  {
   "cell_type": "markdown",
   "metadata": {},
   "source": [
    "Aggregated ODV files do not have a semantic header, therefore we need to extract the corresponding column by using the \"local\" column header name (instead of being able to use the P01 name for the ODV files conforming to \n",
    "[Specification of SeaDataNet Data Transport Formats](https://www.seadatanet.org/content/download/636/3333/file/SDN2_D85_WP8_Datafile_formats.pdf?version=2)).\n",
    "\n",
    "\n",
    "By default only `good` and `probably good` values are loaded.     \n",
    "This can be changed using the optional parameter `qv_flags`:"
   ]
  },
  {
   "cell_type": "code",
   "execution_count": 14,
   "metadata": {},
   "outputs": [
    {
     "data": {
      "text/plain": [
       "\"1\""
      ]
     },
     "execution_count": 14,
     "metadata": {},
     "output_type": "execute_result"
    }
   ],
   "source": [
    "DIVAnd.ODVspreadsheet.GOOD_VALUE"
   ]
  },
  {
   "cell_type": "code",
   "execution_count": 15,
   "metadata": {},
   "outputs": [
    {
     "data": {
      "text/markdown": [
       "```\n",
       " profiles,lons,lats,depths,times,ids = load(T,fnames,datanames;\n",
       "    qv_flags = [DIVAnd.ODVspreadsheet.GOOD_VALUE,\n",
       "                DIVAnd.ODVspreadsheet.PROBABLY_GOOD_VALUE],\n",
       "    nametype = :P01,\n",
       "    qvlocalname = \"QV:SEADATANET\")\n",
       "```\n",
       "\n",
       "Load all profiles in all file from the array `fnames` corresponding to one of the parameter names `datanames`. If `nametype` is `:P01` (default), the datanames are P01 vocabulary names with the SDN prefix. If nametype is `:localname`, then they are the ODV column header without units. For example if the column header is `Water body salinity [per mille]`, then `datenames` should be `[\"Water body salinity\"]`. The resulting vectors have the data type `T` (expect `times` and `ids` which are vectors of `DateTime` and `String` respectively). Only values matching the quality flag `qv_flags` are retained. `qv_flags` is a vector of Strings (based on http://vocab.nerc.ac.uk/collection/L20/current/, e.g. \"1\" means \"good value\"). One can also use the constants these constants (prefixed with `DIVAnd.ODVspreadsheet.`):\n",
       "\n",
       "`qvlocalname` is the column name to denote quality flags. It is assumed that the quality flags follow immediatly the data column.\n",
       "\n",
       "|                   constant | value |\n",
       "| --------------------------:| -----:|\n",
       "|         NO*QUALITY*CONTROL |   \"0\" |\n",
       "|                 GOOD_VALUE |   \"1\" |\n",
       "|        PROBABLY*GOOD*VALUE |   \"2\" |\n",
       "|         PROBABLY*BAD*VALUE |   \"3\" |\n",
       "|                  BAD_VALUE |   \"4\" |\n",
       "|              CHANGED_VALUE |   \"5\" |\n",
       "|      VALUE*BELOW*DETECTION |   \"6\" |\n",
       "|            VALUE*IN*EXCESS |   \"7\" |\n",
       "|         INTERPOLATED_VALUE |   \"8\" |\n",
       "|              MISSING_VALUE |   \"9\" |\n",
       "| VALUE*PHENOMENON*UNCERTAIN |   \"A\" |\n",
       "\n",
       "If the ODV does not contain a semantic header (e.g. for the aggregated ODV files), then local names must be used.\n",
       "\n",
       "```julia-repl\n",
       "julia> data,lon,lat,depth,time,ids = DIVAnd.ODVspreadsheet.load(Float64,[\"data_from_med_profiles_non-restricted_v2.txt\"],\n",
       "      [\"Water body salinity\"]; nametype = :localname );\n",
       "```\n",
       "\n",
       "No checks are done if the units are consistent.\n",
       "\n",
       "---\n",
       "\n",
       "```\n",
       " profiles,lons,lats,depths,times,ids = load(T,dir,P01names)\n",
       "```\n",
       "\n",
       "Load all ODV files under the directory `dir` corresponding the one of the parameter names `P01names`. The resulting vectors have the data type `T` (expect `times` and `ids` which are vectors of `DateTime` and `String` respectively).\n",
       "\n",
       "No checks are done if the units are consistent.\n"
      ],
      "text/plain": [
       "\u001b[36m   profiles,lons,lats,depths,times,ids = load(T,fnames,datanames;\u001b[39m\n",
       "\u001b[36m      qv_flags = [DIVAnd.ODVspreadsheet.GOOD_VALUE,\u001b[39m\n",
       "\u001b[36m                  DIVAnd.ODVspreadsheet.PROBABLY_GOOD_VALUE],\u001b[39m\n",
       "\u001b[36m      nametype = :P01,\u001b[39m\n",
       "\u001b[36m      qvlocalname = \"QV:SEADATANET\")\u001b[39m\n",
       "\n",
       "  Load all profiles in all file from the array \u001b[36mfnames\u001b[39m corresponding to one of\n",
       "  the parameter names \u001b[36mdatanames\u001b[39m. If \u001b[36mnametype\u001b[39m is \u001b[36m:P01\u001b[39m (default), the datanames\n",
       "  are P01 vocabulary names with the SDN prefix. If nametype is \u001b[36m:localname\u001b[39m,\n",
       "  then they are the ODV column header without units. For example if the column\n",
       "  header is \u001b[36mWater body salinity [per mille]\u001b[39m, then \u001b[36mdatenames\u001b[39m should be \u001b[36m[\"Water\n",
       "  body salinity\"]\u001b[39m. The resulting vectors have the data type \u001b[36mT\u001b[39m (expect \u001b[36mtimes\u001b[39m\n",
       "  and \u001b[36mids\u001b[39m which are vectors of \u001b[36mDateTime\u001b[39m and \u001b[36mString\u001b[39m respectively). Only values\n",
       "  matching the quality flag \u001b[36mqv_flags\u001b[39m are retained. \u001b[36mqv_flags\u001b[39m is a vector of\n",
       "  Strings (based on http://vocab.nerc.ac.uk/collection/L20/current/, e.g. \"1\"\n",
       "  means \"good value\"). One can also use the constants these constants\n",
       "  (prefixed with \u001b[36mDIVAnd.ODVspreadsheet.\u001b[39m):\n",
       "\n",
       "  \u001b[36mqvlocalname\u001b[39m is the column name to denote quality flags. It is assumed that\n",
       "  the quality flags follow immediatly the data column.\n",
       "\n",
       "                constant value\n",
       "–––––––––––––––––––––––– –––––\n",
       "        NO\u001b[4mQUALITY\u001b[24mCONTROL   \"0\"\n",
       "              GOOD_VALUE   \"1\"\n",
       "       PROBABLY\u001b[4mGOOD\u001b[24mVALUE   \"2\"\n",
       "        PROBABLY\u001b[4mBAD\u001b[24mVALUE   \"3\"\n",
       "               BAD_VALUE   \"4\"\n",
       "           CHANGED_VALUE   \"5\"\n",
       "     VALUE\u001b[4mBELOW\u001b[24mDETECTION   \"6\"\n",
       "           VALUE\u001b[4mIN\u001b[24mEXCESS   \"7\"\n",
       "      INTERPOLATED_VALUE   \"8\"\n",
       "           MISSING_VALUE   \"9\"\n",
       "VALUE\u001b[4mPHENOMENON\u001b[24mUNCERTAIN   \"A\"\n",
       "\n",
       "  If the ODV does not contain a semantic header (e.g. for the aggregated ODV\n",
       "  files), then local names must be used.\n",
       "\n",
       "\u001b[36m  julia> data,lon,lat,depth,time,ids = DIVAnd.ODVspreadsheet.load(Float64,[\"data_from_med_profiles_non-restricted_v2.txt\"],\u001b[39m\n",
       "\u001b[36m        [\"Water body salinity\"]; nametype = :localname );\u001b[39m\n",
       "\n",
       "  No checks are done if the units are consistent.\n",
       "\n",
       "  ────────────────────────────────────────────────────────────────────────────\n",
       "\n",
       "\u001b[36m   profiles,lons,lats,depths,times,ids = load(T,dir,P01names)\u001b[39m\n",
       "\n",
       "  Load all ODV files under the directory \u001b[36mdir\u001b[39m corresponding the one of the\n",
       "  parameter names \u001b[36mP01names\u001b[39m. The resulting vectors have the data type \u001b[36mT\u001b[39m (expect\n",
       "  \u001b[36mtimes\u001b[39m and \u001b[36mids\u001b[39m which are vectors of \u001b[36mDateTime\u001b[39m and \u001b[36mString\u001b[39m respectively).\n",
       "\n",
       "  No checks are done if the units are consistent."
      ]
     },
     "execution_count": 15,
     "metadata": {},
     "output_type": "execute_result"
    }
   ],
   "source": [
    "?ODVspreadsheet.load"
   ]
  },
  {
   "cell_type": "markdown",
   "metadata": {},
   "source": [
    "If for some reasons, the column name contains an underscore (`Water_body_phosphate` as opposed to `Water body phosphate`), then the local name should also use underscoes."
   ]
  },
  {
   "cell_type": "code",
   "execution_count": 37,
   "metadata": {},
   "outputs": [
    {
     "name": "stderr",
     "output_type": "stream",
     "text": [
      "┌ Info: Reading data from file small_ODV_sample.txt\n",
      "└ @ DIVAnd.ODVspreadsheet /home/ctroupin/.julia/packages/DIVAnd/A5jKp/src/ODVspreadsheet.jl:81\n",
      "┌ Info: No. of profiles in the file: 79\n",
      "└ @ DIVAnd.ODVspreadsheet /home/ctroupin/.julia/packages/DIVAnd/A5jKp/src/ODVspreadsheet.jl:250\n"
     ]
    }
   ],
   "source": [
    "dataname = \"Water body salinity\"\n",
    "\n",
    "obsval,obslon,obslat,obsdepth,obstime,obsid = ODVspreadsheet.load(Float64,[\"small_ODV_sample.txt\"],\n",
    "                           [\"Water body salinity\"]; nametype = :localname );"
   ]
  },
  {
   "cell_type": "markdown",
   "metadata": {},
   "source": [
    "Basic range check for the data (and presence of NaN and Inf)"
   ]
  },
  {
   "cell_type": "code",
   "execution_count": 17,
   "metadata": {},
   "outputs": [
    {
     "name": "stdout",
     "output_type": "stream",
     "text": [
      "              minimum and maximum of obs. dimension 1: (12.75, 19.266)\n",
      "              minimum and maximum of obs. dimension 2: (39.566, 44.8)\n",
      "              minimum and maximum of obs. dimension 3: (0.0, 1130.0)\n",
      "              minimum and maximum of obs. dimension 4: (1977-02-13T06:00:00, 1978-10-07T07:00:00)\n",
      "                          minimum and maximum of data: (30.559999, 38.967999)\n"
     ]
    },
    {
     "name": "stderr",
     "output_type": "stream",
     "text": [
      "┌ Info: Checking ranges for dimensions and observations\n",
      "└ @ DIVAnd /home/ctroupin/.julia/packages/DIVAnd/A5jKp/src/obsstat.jl:75\n"
     ]
    }
   ],
   "source": [
    "checkobs((obslon,obslat,obsdepth,obstime),obsval,obsid)"
   ]
  },
  {
   "cell_type": "markdown",
   "metadata": {},
   "source": [
    "Individual elements can be retrieved by indexing     \n",
    "`obsdata`, `obslat`, `obslon`, `obsdepth` and `obstime`,      \n",
    "for example:"
   ]
  },
  {
   "cell_type": "code",
   "execution_count": 18,
   "metadata": {},
   "outputs": [
    {
     "data": {
      "text/plain": [
       "38.756001"
      ]
     },
     "execution_count": 18,
     "metadata": {},
     "output_type": "execute_result"
    }
   ],
   "source": [
    "obsval[10]"
   ]
  },
  {
   "cell_type": "markdown",
   "metadata": {},
   "source": [
    "## Remove data from the file\n",
    "Generate a text file to keep track of the removed data.        \n",
    "Define the indices of the data to delete:"
   ]
  },
  {
   "cell_type": "code",
   "execution_count": 19,
   "metadata": {},
   "outputs": [
    {
     "data": {
      "text/plain": [
       "2-element Array{Int64,1}:\n",
       " 10\n",
       " 14"
      ]
     },
     "execution_count": 19,
     "metadata": {},
     "output_type": "execute_result"
    }
   ],
   "source": [
    "index = [10,14]"
   ]
  },
  {
   "cell_type": "markdown",
   "metadata": {},
   "source": [
    "Create an array containing these data:"
   ]
  },
  {
   "cell_type": "code",
   "execution_count": 20,
   "metadata": {},
   "outputs": [
    {
     "data": {
      "text/plain": [
       "3×6 Array{Any,2}:\n",
       "   \"lon\"    \"lat\"     \"depth\"  …  \"ids\"                      \n",
       " 18.616   40.483   300.0          \"681-RNODC_Bottle_10348_22\"\n",
       " 18.866   40.516    20.0          \"681-RNODC_Bottle_10348_23\""
      ]
     },
     "execution_count": 20,
     "metadata": {},
     "output_type": "execute_result"
    }
   ],
   "source": [
    "baddata = [\"lon\" \"lat\" \"depth\" \"time\" \"value\" \"ids\";\n",
    "    obslon[index]  obslat[index] obsdepth[index] obstime[index] obsval[index] obsid[index]]"
   ]
  },
  {
   "cell_type": "markdown",
   "metadata": {},
   "source": [
    "The array will be written to a file as a text using the function `writedlm`."
   ]
  },
  {
   "cell_type": "code",
   "execution_count": 21,
   "metadata": {},
   "outputs": [
    {
     "name": "stdout",
     "output_type": "stream",
     "text": [
      "search: \u001b[0m\u001b[1mw\u001b[22m\u001b[0m\u001b[1mr\u001b[22m\u001b[0m\u001b[1mi\u001b[22m\u001b[0m\u001b[1mt\u001b[22m\u001b[0m\u001b[1me\u001b[22m\u001b[0m\u001b[1md\u001b[22m\u001b[0m\u001b[1ml\u001b[22m\u001b[0m\u001b[1mm\u001b[22m\n",
      "\n"
     ]
    },
    {
     "data": {
      "text/markdown": [
       "```\n",
       "writedlm(f, A, delim='\\t'; opts)\n",
       "```\n",
       "\n",
       "Write `A` (a vector, matrix, or an iterable collection of iterable rows) as text to `f` (either a filename string or an `IO` stream) using the given delimiter `delim` (which defaults to tab, but can be any printable Julia object, typically a `Char` or `AbstractString`).\n",
       "\n",
       "For example, two vectors `x` and `y` of the same length can be written as two columns of tab-delimited text to `f` by either `writedlm(f, [x y])` or by `writedlm(f, zip(x, y))`.\n",
       "\n",
       "# Examples\n",
       "\n",
       "```jldoctest\n",
       "julia> using DelimitedFiles\n",
       "\n",
       "julia> x = [1; 2; 3; 4];\n",
       "\n",
       "julia> y = [5; 6; 7; 8];\n",
       "\n",
       "julia> open(\"delim_file.txt\", \"w\") do io\n",
       "           writedlm(io, [x y])\n",
       "       end\n",
       "\n",
       "julia> readdlm(\"delim_file.txt\", '\\t', Int, '\\n')\n",
       "4×2 Array{Int64,2}:\n",
       " 1  5\n",
       " 2  6\n",
       " 3  7\n",
       " 4  8\n",
       "\n",
       "julia> rm(\"delim_file.txt\")\n",
       "```\n"
      ],
      "text/plain": [
       "\u001b[36m  writedlm(f, A, delim='\\t'; opts)\u001b[39m\n",
       "\n",
       "  Write \u001b[36mA\u001b[39m (a vector, matrix, or an iterable collection of iterable rows) as\n",
       "  text to \u001b[36mf\u001b[39m (either a filename string or an \u001b[36mIO\u001b[39m stream) using the given\n",
       "  delimiter \u001b[36mdelim\u001b[39m (which defaults to tab, but can be any printable Julia\n",
       "  object, typically a \u001b[36mChar\u001b[39m or \u001b[36mAbstractString\u001b[39m).\n",
       "\n",
       "  For example, two vectors \u001b[36mx\u001b[39m and \u001b[36my\u001b[39m of the same length can be written as two\n",
       "  columns of tab-delimited text to \u001b[36mf\u001b[39m by either \u001b[36mwritedlm(f, [x y])\u001b[39m or by\n",
       "  \u001b[36mwritedlm(f, zip(x, y))\u001b[39m.\n",
       "\n",
       "\u001b[1m  Examples\u001b[22m\n",
       "\u001b[1m  ≡≡≡≡≡≡≡≡≡≡\u001b[22m\n",
       "\n",
       "\u001b[36m  julia> using DelimitedFiles\u001b[39m\n",
       "\u001b[36m  \u001b[39m\n",
       "\u001b[36m  julia> x = [1; 2; 3; 4];\u001b[39m\n",
       "\u001b[36m  \u001b[39m\n",
       "\u001b[36m  julia> y = [5; 6; 7; 8];\u001b[39m\n",
       "\u001b[36m  \u001b[39m\n",
       "\u001b[36m  julia> open(\"delim_file.txt\", \"w\") do io\u001b[39m\n",
       "\u001b[36m             writedlm(io, [x y])\u001b[39m\n",
       "\u001b[36m         end\u001b[39m\n",
       "\u001b[36m  \u001b[39m\n",
       "\u001b[36m  julia> readdlm(\"delim_file.txt\", '\\t', Int, '\\n')\u001b[39m\n",
       "\u001b[36m  4×2 Array{Int64,2}:\u001b[39m\n",
       "\u001b[36m   1  5\u001b[39m\n",
       "\u001b[36m   2  6\u001b[39m\n",
       "\u001b[36m   3  7\u001b[39m\n",
       "\u001b[36m   4  8\u001b[39m\n",
       "\u001b[36m  \u001b[39m\n",
       "\u001b[36m  julia> rm(\"delim_file.txt\")\u001b[39m"
      ]
     },
     "execution_count": 21,
     "metadata": {},
     "output_type": "execute_result"
    }
   ],
   "source": [
    "?writedlm"
   ]
  },
  {
   "cell_type": "code",
   "execution_count": 23,
   "metadata": {},
   "outputs": [
    {
     "name": "stdout",
     "output_type": "stream",
     "text": [
      "size(obslon_only_good_data) = (914,)\n",
      "size(obslon) = (916,)\n"
     ]
    }
   ],
   "source": [
    "sel = trues(size(obslon))\n",
    "sel[index] .= false\n",
    "\n",
    "obslon_only_good_data = obslon[sel];\n",
    "obslat_only_good_data = obslat[sel];\n",
    "obsdepth_only_good_data = obsdepth[sel];\n",
    "obstime_only_good_data = obstime[sel];\n",
    "obsdata_only_good_data = obsval[sel];\n",
    "obsids_only_good_data = obsid[sel];\n",
    "\n",
    "@show size(obslon_only_good_data);\n",
    "@show size(obslon);"
   ]
  },
  {
   "cell_type": "code",
   "execution_count": 24,
   "metadata": {
    "collapsed": true
   },
   "outputs": [],
   "source": [
    "writedlm(\"my_bad_data.txt\",baddata)"
   ]
  },
  {
   "cell_type": "markdown",
   "metadata": {},
   "source": [
    "The identifier is a combination of the EDMO code and LOCAL CDI ID"
   ]
  },
  {
   "cell_type": "code",
   "execution_count": 25,
   "metadata": {},
   "outputs": [
    {
     "name": "stdout",
     "output_type": "stream",
     "text": [
      "lon\tlat\tdepth\ttime\tvalue\tids\n",
      "18.616\t40.483\t300.0\t1978-10-02T10:00:00\t38.756001\t681-RNODC_Bottle_10348_22\n",
      "18.866\t40.516\t20.0\t1978-10-03T13:00:00\t38.189999\t681-RNODC_Bottle_10348_23\n"
     ]
    }
   ],
   "source": [
    ";cat my_bad_data.txt"
   ]
  },
  {
   "cell_type": "code",
   "execution_count": 47,
   "metadata": {},
   "outputs": [
    {
     "data": {
      "text/plain": [
       "\"681-RNODC_Bottle_10348_38\""
      ]
     },
     "execution_count": 47,
     "metadata": {},
     "output_type": "execute_result"
    }
   ],
   "source": [
    "obsid[200]"
   ]
  },
  {
   "cell_type": "code",
   "execution_count": 48,
   "metadata": {},
   "outputs": [
    {
     "data": {
      "text/html": [
       "        Open in a new window <a target=\"blank\" href=\"http://seadatanet.maris2.nl/v_cdi_v3/print_wfs.asp:?popup=yes&edmo=681&identifier=RNODC_Bottle_10348_22\" >681-RNODC_Bottle_10348_22</a>\n",
       "        <iframe width=\"900\" height=\"700\" src=\"http://seadatanet.maris2.nl/v_cdi_v3/print_wfs.asp:?popup=yes&edmo=681&identifier=RNODC_Bottle_10348_22\"</iframe>\n"
      ]
     },
     "metadata": {},
     "output_type": "display_data"
    }
   ],
   "source": [
    "SDNObsMetadata(obsid[10])"
   ]
  },
  {
   "cell_type": "markdown",
   "metadata": {},
   "source": [
    "## Select data according to criterion\n",
    "For the purpose of the example, let's assume we want to remove the salinity values below 32 (even if the observations are good)."
   ]
  },
  {
   "cell_type": "code",
   "execution_count": 49,
   "metadata": {},
   "outputs": [
    {
     "name": "stderr",
     "output_type": "stream",
     "text": [
      "┌ Info: Number of removed observations: 0\n",
      "└ @ Main In[49]:4\n"
     ]
    }
   ],
   "source": [
    "sel = obsval .> 32.;\n",
    "\n",
    "index = findall(.!sel)\n",
    "@info(\"Number of removed observations: $(length(index))\");\n",
    "\n",
    "obsval = obsval[sel]\n",
    "obslon = obslon[sel]\n",
    "obslat = obslat[sel]\n",
    "obsdepth = obsdepth[sel]\n",
    "obstime = obstime[sel]\n",
    "obsid = obsid[sel];"
   ]
  },
  {
   "cell_type": "code",
   "execution_count": 50,
   "metadata": {},
   "outputs": [
    {
     "name": "stdout",
     "output_type": "stream",
     "text": [
      "              minimum and maximum of obs. dimension 1: (12.75, 19.266)\n",
      "              minimum and maximum of obs. dimension 2: (39.566, 44.8)\n",
      "              minimum and maximum of obs. dimension 3: (0.0, 1130.0)\n",
      "              minimum and maximum of obs. dimension 4: (1977-02-13T06:00:00, 1978-10-07T07:00:00)\n",
      "                          minimum and maximum of data: (32.25, 38.967999)\n"
     ]
    },
    {
     "name": "stderr",
     "output_type": "stream",
     "text": [
      "┌ Info: Checking ranges for dimensions and observations\n",
      "└ @ DIVAnd /home/ctroupin/.julia/packages/DIVAnd/A5jKp/src/obsstat.jl:75\n"
     ]
    }
   ],
   "source": [
    "checkobs((obslon,obslat,obsdepth,obstime),obsval,obsid)"
   ]
  },
  {
   "cell_type": "markdown",
   "metadata": {},
   "source": [
    "Here we use a criterion based on the depth and on the time of measurement (month):"
   ]
  },
  {
   "cell_type": "code",
   "execution_count": 54,
   "metadata": {},
   "outputs": [
    {
     "name": "stdout",
     "output_type": "stream",
     "text": [
      "sum(sel) = 104\n",
      "length(obsval) = 913\n"
     ]
    }
   ],
   "source": [
    "sel = (obsdepth .< 50.) .& (Dates.month.(obstime) .== 10)\n",
    "@show sum(sel);\n",
    "@show length(obsval);\n",
    "obsval_new = obsval[sel];"
   ]
  },
  {
   "cell_type": "markdown",
   "metadata": {},
   "source": [
    "Let's create a histogram showing the number of observations per month:"
   ]
  },
  {
   "cell_type": "code",
   "execution_count": 55,
   "metadata": {},
   "outputs": [
    {
     "data": {
      "image/png": "[encoded data removed]",
      "text/plain": [
       "Figure(PyObject <Figure size 1920x1440 with 1 Axes>)"
      ]
     },
     "metadata": {},
     "output_type": "display_data"
    },
    {
     "data": {
      "text/plain": [
       "(2, 10)"
      ]
     },
     "execution_count": 55,
     "metadata": {},
     "output_type": "execute_result"
    }
   ],
   "source": [
    "PyPlot.plt[:hist](Dates.month.(obstime),12)\n",
    "extrema(Dates.month.(obstime))"
   ]
  },
  {
   "cell_type": "markdown",
   "metadata": {},
   "source": [
    "## Plot the selected data positions"
   ]
  },
  {
   "cell_type": "code",
   "execution_count": 56,
   "metadata": {},
   "outputs": [
    {
     "name": "stderr",
     "output_type": "stream",
     "text": [
      "┌ Info: Bathymetry file already downloaded\n",
      "└ @ Main In[56]:6\n"
     ]
    }
   ],
   "source": [
    "bathname = \"gebco_30sec_16.nc\"\n",
    "\n",
    "if !isfile(bathname)\n",
    "    download(\"https://b2drop.eudat.eu/s/o0vinoQutAC7eb0/download\",bathname)\n",
    "else\n",
    "    @info \"Bathymetry file already downloaded\" \n",
    "end\n",
    "\n",
    "bathisglobal = true\n",
    "\n",
    "# Extract the bathymetry for plotting\n",
    "\n",
    "lonr = extrema(obslon[sel])\n",
    "latr = extrema(obslat[sel])\n",
    "\n",
    "lonr = -10:30\n",
    "latr = 30:45 \n",
    "bx,by,b = extract_bath(bathname,bathisglobal,lonr,latr);"
   ]
  },
  {
   "cell_type": "code",
   "execution_count": 60,
   "metadata": {},
   "outputs": [
    {
     "data": {
      "image/png": "[encoded data removed]",
      "text/plain": [
       "Figure(PyObject <Figure size 1920x1440 with 2 Axes>)"
      ]
     },
     "metadata": {},
     "output_type": "display_data"
    },
    {
     "data": {
      "text/plain": [
       "PyObject <matplotlib.colorbar.Colorbar object at 0x7f669f039f60>"
      ]
     },
     "execution_count": 60,
     "metadata": {},
     "output_type": "execute_result"
    }
   ],
   "source": [
    "contourf(bx,by,permutedims(b, [2,1]), levels = [-1e5,0],colors = [[.5,.5,.5]])\n",
    "scatter(obslon[sel],obslat[sel],10,obsval[sel])\n",
    "# compute and set the correct aspect ratio\n",
    "aspect_ratio = 1/cos(mean(latr) * pi/180)\n",
    "gca()[:set_aspect](aspect_ratio)\n",
    "colorbar(orientation = \"horizontal\")"
   ]
  }
 ],
 "metadata": {
  "kernelspec": {
   "display_name": "Julia 1.0.0",
   "language": "julia",
   "name": "julia-1.0"
  },
  "language_info": {
   "file_extension": ".jl",
   "mimetype": "application/julia",
   "name": "julia",
   "version": "1.0.0"
  }
 },
 "nbformat": 4,
 "nbformat_minor": 2
}
