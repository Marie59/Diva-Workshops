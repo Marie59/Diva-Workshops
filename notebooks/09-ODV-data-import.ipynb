{
 "cells": [
  {
   "cell_type": "markdown",
   "metadata": {},
   "source": [
    "# Importing ODV aggregated spreadsheet data\n",
    "\n",
    "* Data are supposed to be aggregated using ODV and exported as aggregated ODV spreadsheet or ODV netCDF files.\n",
    "* Substitute the file name `small_ODV_sample.txt` with the file name of your aggregated ODV file. \n",
    "* Do not export \"data error\" from ODV (column header `STANDARD_DEV`).\n",
    "\n",
    "This notebook describes the reading of\n",
    "1. ODV spreadsheet and \n",
    "2. ODV netCDF files.\n",
    "\n",
    "⚠️ This notebook shows how to read ODV spreadsheet and netCDF files. The latter format is nevertheless preferred, as it allows a faster reading, especially for big files."
   ]
  },
  {
   "cell_type": "code",
   "execution_count": 2,
   "metadata": {},
   "outputs": [],
   "source": [
    "using DIVAnd\n",
    "using PyPlot\n",
    "using NCDatasets\n",
    "using Dates\n",
    "using Statistics\n",
    "using DelimitedFiles"
   ]
  },
  {
   "cell_type": "markdown",
   "metadata": {},
   "source": [
    "## 1. Read spreadsheet file\n",
    "Substitute `small_ODV_sample.txt` with the file name of your aggregated ODV file.     \n",
    "Or you can download the small test file (71 stations)."
   ]
  },
  {
   "cell_type": "code",
   "execution_count": 3,
   "metadata": {},
   "outputs": [
    {
     "name": "stderr",
     "output_type": "stream",
     "text": [
      "┌ Info: File already downloaded\n",
      "└ @ Main In[3]:5\n"
     ]
    }
   ],
   "source": [
    "datafile1 = \"./data/small_ODV_sample.txt\"\n",
    "if !isfile(datafile1)\n",
    "    download(\"https://dox.ulg.ac.be/index.php/s/n7wDAB7G6IWWZtl/download\", datafile1)\n",
    "else\n",
    "    @info \"File already downloaded\"\n",
    "end"
   ]
  },
  {
   "cell_type": "markdown",
   "metadata": {},
   "source": [
    "Aggregated ODV files do not have a semantic header, therefore we need to extract the corresponding column by using the \"local\" column header name (instead of being able to use the P01 name for the ODV files conforming to \n",
    "[Specification of SeaDataNet Data Transport Formats](https://www.seadatanet.org/content/download/636/3333/file/SDN2_D85_WP8_Datafile_formats.pdf?version=2)).\n",
    "\n",
    "\n",
    "By default only `good` and `probably good` values are loaded.     \n",
    "This can be changed using the optional parameter `qv_flags`:"
   ]
  },
  {
   "cell_type": "code",
   "execution_count": 4,
   "metadata": {},
   "outputs": [
    {
     "data": {
      "text/plain": [
       "\"1\""
      ]
     },
     "execution_count": 4,
     "metadata": {},
     "output_type": "execute_result"
    }
   ],
   "source": [
    "DIVAnd.ODVspreadsheet.GOOD_VALUE"
   ]
  },
  {
   "cell_type": "code",
   "execution_count": 5,
   "metadata": {},
   "outputs": [
    {
     "data": {
      "text/latex": [
       "\\begin{verbatim}\n",
       " obsvalue,obslon,obslat,obsdepth,obstime,obsids = load(T,fnames,datanames;\n",
       "    qv_flags = [DIVAnd.ODVspreadsheet.GOOD_VALUE,\n",
       "                DIVAnd.ODVspreadsheet.PROBABLY_GOOD_VALUE],\n",
       "    nametype = :P01,\n",
       "    qvlocalname = \"QV:SEADATANET\")\n",
       "\\end{verbatim}\n",
       "Load all profiles in all file from the array \\texttt{fnames} corresponding to one of the parameter names \\texttt{datanames}. If \\texttt{nametype} is \\texttt{:P01} (default), the datanames are P01 vocabulary names with the SDN prefix. If nametype is \\texttt{:localname}, then they are the ODV column header without units. For example if the column header is \\texttt{Water body salinity [per mille]}, then \\texttt{datenames} should be \\texttt{[\"Water body salinity\"]}. The resulting vectors have the data type \\texttt{T} (expect \\texttt{times} and \\texttt{ids} which are vectors of \\texttt{DateTime} and \\texttt{String} respectively). Only values matching the quality flag \\texttt{qv\\_flags} are retained. \\texttt{qv\\_flags} is a vector of Strings (based on http://vocab.nerc.ac.uk/collection/L20/current/, e.g. \"1\" means \"good value\"). One can also use the constants these constants (prefixed with \\texttt{DIVAnd.ODVspreadsheet.}):\n",
       "\n",
       "\\texttt{qvlocalname} is the column name to denote quality flags. It is assumed that the quality flags follow immediatly the data column.\n",
       "\n",
       "\\begin{tabular}\n",
       "{r | r}\n",
       "constant & value \\\\\n",
       "\\hline\n",
       "\\texttt{NO\\_QUALITY\\_CONTROL} & \"0\" \\\\\n",
       "\\texttt{GOOD\\_VALUE} & \"1\" \\\\\n",
       "\\texttt{PROBABLY\\_GOOD\\_VALUE} & \"2\" \\\\\n",
       "\\texttt{PROBABLY\\_BAD\\_VALUE} & \"3\" \\\\\n",
       "\\texttt{BAD\\_VALUE} & \"4\" \\\\\n",
       "\\texttt{CHANGED\\_VALUE} & \"5\" \\\\\n",
       "\\texttt{VALUE\\_BELOW\\_DETECTION} & \"6\" \\\\\n",
       "\\texttt{VALUE\\_IN\\_EXCESS} & \"7\" \\\\\n",
       "\\texttt{INTERPOLATED\\_VALUE} & \"8\" \\\\\n",
       "\\texttt{MISSING\\_VALUE} & \"9\" \\\\\n",
       "\\texttt{VALUE\\_PHENOMENON\\_UNCERTAIN} & \"A\" \\\\\n",
       "\\end{tabular}\n",
       "If the ODV does not contain a semantic header (e.g. for the aggregated ODV files), then local names must be used.\n",
       "\n",
       "\\begin{verbatim}\n",
       "julia> data,obslon,obslat,obsdepth,obstime,obsids = DIVAnd.ODVspreadsheet.load(Float64,[\"data_from_med_profiles_non-restricted_v2.txt\"],\n",
       "      [\"Water body salinity\"]; nametype = :localname );\n",
       "\\end{verbatim}\n",
       "No checks are done if the units are consistent.\n",
       "\n",
       "\\rule{\\textwidth}{1pt}\n",
       "\\begin{verbatim}\n",
       " profiles,lons,lats,depths,times,ids = load(T,dir,P01names)\n",
       "\\end{verbatim}\n",
       "Load all ODV files under the directory \\texttt{dir} corresponding the one of the parameter names \\texttt{P01names}. The resulting vectors have the data type \\texttt{T} (expect \\texttt{times} and \\texttt{ids} which are vectors of \\texttt{DateTime} and \\texttt{String} respectively).\n",
       "\n",
       "No checks are done if the units are consistent.\n",
       "\n"
      ],
      "text/markdown": [
       "```\n",
       " obsvalue,obslon,obslat,obsdepth,obstime,obsids = load(T,fnames,datanames;\n",
       "    qv_flags = [DIVAnd.ODVspreadsheet.GOOD_VALUE,\n",
       "                DIVAnd.ODVspreadsheet.PROBABLY_GOOD_VALUE],\n",
       "    nametype = :P01,\n",
       "    qvlocalname = \"QV:SEADATANET\")\n",
       "```\n",
       "\n",
       "Load all profiles in all file from the array `fnames` corresponding to one of the parameter names `datanames`. If `nametype` is `:P01` (default), the datanames are P01 vocabulary names with the SDN prefix. If nametype is `:localname`, then they are the ODV column header without units. For example if the column header is `Water body salinity [per mille]`, then `datenames` should be `[\"Water body salinity\"]`. The resulting vectors have the data type `T` (expect `times` and `ids` which are vectors of `DateTime` and `String` respectively). Only values matching the quality flag `qv_flags` are retained. `qv_flags` is a vector of Strings (based on http://vocab.nerc.ac.uk/collection/L20/current/, e.g. \"1\" means \"good value\"). One can also use the constants these constants (prefixed with `DIVAnd.ODVspreadsheet.`):\n",
       "\n",
       "`qvlocalname` is the column name to denote quality flags. It is assumed that the quality flags follow immediatly the data column.\n",
       "\n",
       "|                     constant | value |\n",
       "| ----------------------------:| -----:|\n",
       "|         `NO_QUALITY_CONTROL` |   \"0\" |\n",
       "|                 `GOOD_VALUE` |   \"1\" |\n",
       "|        `PROBABLY_GOOD_VALUE` |   \"2\" |\n",
       "|         `PROBABLY_BAD_VALUE` |   \"3\" |\n",
       "|                  `BAD_VALUE` |   \"4\" |\n",
       "|              `CHANGED_VALUE` |   \"5\" |\n",
       "|      `VALUE_BELOW_DETECTION` |   \"6\" |\n",
       "|            `VALUE_IN_EXCESS` |   \"7\" |\n",
       "|         `INTERPOLATED_VALUE` |   \"8\" |\n",
       "|              `MISSING_VALUE` |   \"9\" |\n",
       "| `VALUE_PHENOMENON_UNCERTAIN` |   \"A\" |\n",
       "\n",
       "If the ODV does not contain a semantic header (e.g. for the aggregated ODV files), then local names must be used.\n",
       "\n",
       "```julia-repl\n",
       "julia> data,obslon,obslat,obsdepth,obstime,obsids = DIVAnd.ODVspreadsheet.load(Float64,[\"data_from_med_profiles_non-restricted_v2.txt\"],\n",
       "      [\"Water body salinity\"]; nametype = :localname );\n",
       "```\n",
       "\n",
       "No checks are done if the units are consistent.\n",
       "\n",
       "---\n",
       "\n",
       "```\n",
       " profiles,lons,lats,depths,times,ids = load(T,dir,P01names)\n",
       "```\n",
       "\n",
       "Load all ODV files under the directory `dir` corresponding the one of the parameter names `P01names`. The resulting vectors have the data type `T` (expect `times` and `ids` which are vectors of `DateTime` and `String` respectively).\n",
       "\n",
       "No checks are done if the units are consistent.\n"
      ],
      "text/plain": [
       "\u001b[36m   obsvalue,obslon,obslat,obsdepth,obstime,obsids = load(T,fnames,datanames;\u001b[39m\n",
       "\u001b[36m      qv_flags = [DIVAnd.ODVspreadsheet.GOOD_VALUE,\u001b[39m\n",
       "\u001b[36m                  DIVAnd.ODVspreadsheet.PROBABLY_GOOD_VALUE],\u001b[39m\n",
       "\u001b[36m      nametype = :P01,\u001b[39m\n",
       "\u001b[36m      qvlocalname = \"QV:SEADATANET\")\u001b[39m\n",
       "\n",
       "  Load all profiles in all file from the array \u001b[36mfnames\u001b[39m corresponding to one of\n",
       "  the parameter names \u001b[36mdatanames\u001b[39m. If \u001b[36mnametype\u001b[39m is \u001b[36m:P01\u001b[39m (default), the datanames\n",
       "  are P01 vocabulary names with the SDN prefix. If nametype is \u001b[36m:localname\u001b[39m,\n",
       "  then they are the ODV column header without units. For example if the column\n",
       "  header is \u001b[36mWater body salinity [per mille]\u001b[39m, then \u001b[36mdatenames\u001b[39m should be \u001b[36m[\"Water\n",
       "  body salinity\"]\u001b[39m. The resulting vectors have the data type \u001b[36mT\u001b[39m (expect \u001b[36mtimes\u001b[39m\n",
       "  and \u001b[36mids\u001b[39m which are vectors of \u001b[36mDateTime\u001b[39m and \u001b[36mString\u001b[39m respectively). Only values\n",
       "  matching the quality flag \u001b[36mqv_flags\u001b[39m are retained. \u001b[36mqv_flags\u001b[39m is a vector of\n",
       "  Strings (based on http://vocab.nerc.ac.uk/collection/L20/current/, e.g. \"1\"\n",
       "  means \"good value\"). One can also use the constants these constants\n",
       "  (prefixed with \u001b[36mDIVAnd.ODVspreadsheet.\u001b[39m):\n",
       "\n",
       "  \u001b[36mqvlocalname\u001b[39m is the column name to denote quality flags. It is assumed that\n",
       "  the quality flags follow immediatly the data column.\n",
       "\n",
       "                  constant value\n",
       "–––––––––––––––––––––––––– –––––\n",
       "        \u001b[36mNO_QUALITY_CONTROL\u001b[39m   \"0\"\n",
       "                \u001b[36mGOOD_VALUE\u001b[39m   \"1\"\n",
       "       \u001b[36mPROBABLY_GOOD_VALUE\u001b[39m   \"2\"\n",
       "        \u001b[36mPROBABLY_BAD_VALUE\u001b[39m   \"3\"\n",
       "                 \u001b[36mBAD_VALUE\u001b[39m   \"4\"\n",
       "             \u001b[36mCHANGED_VALUE\u001b[39m   \"5\"\n",
       "     \u001b[36mVALUE_BELOW_DETECTION\u001b[39m   \"6\"\n",
       "           \u001b[36mVALUE_IN_EXCESS\u001b[39m   \"7\"\n",
       "        \u001b[36mINTERPOLATED_VALUE\u001b[39m   \"8\"\n",
       "             \u001b[36mMISSING_VALUE\u001b[39m   \"9\"\n",
       "\u001b[36mVALUE_PHENOMENON_UNCERTAIN\u001b[39m   \"A\"\n",
       "\n",
       "  If the ODV does not contain a semantic header (e.g. for the aggregated ODV\n",
       "  files), then local names must be used.\n",
       "\n",
       "\u001b[36m  julia> data,obslon,obslat,obsdepth,obstime,obsids = DIVAnd.ODVspreadsheet.load(Float64,[\"data_from_med_profiles_non-restricted_v2.txt\"],\u001b[39m\n",
       "\u001b[36m        [\"Water body salinity\"]; nametype = :localname );\u001b[39m\n",
       "\n",
       "  No checks are done if the units are consistent.\n",
       "\n",
       "  ────────────────────────────────────────────────────────────────────────────\n",
       "\n",
       "\u001b[36m   profiles,lons,lats,depths,times,ids = load(T,dir,P01names)\u001b[39m\n",
       "\n",
       "  Load all ODV files under the directory \u001b[36mdir\u001b[39m corresponding the one of the\n",
       "  parameter names \u001b[36mP01names\u001b[39m. The resulting vectors have the data type \u001b[36mT\u001b[39m (expect\n",
       "  \u001b[36mtimes\u001b[39m and \u001b[36mids\u001b[39m which are vectors of \u001b[36mDateTime\u001b[39m and \u001b[36mString\u001b[39m respectively).\n",
       "\n",
       "  No checks are done if the units are consistent."
      ]
     },
     "execution_count": 5,
     "metadata": {},
     "output_type": "execute_result"
    }
   ],
   "source": [
    "?ODVspreadsheet.load"
   ]
  },
  {
   "cell_type": "markdown",
   "metadata": {},
   "source": [
    "If for some reasons, the column name contains an underscore (`Water_body_phosphate` as opposed to `Water body phosphate`), then the local name should also use underscoes."
   ]
  },
  {
   "cell_type": "code",
   "execution_count": 6,
   "metadata": {},
   "outputs": [
    {
     "name": "stderr",
     "output_type": "stream",
     "text": [
      "┌ Info: Reading data from file ./data/small_ODV_sample.txt\n",
      "└ @ DIVAnd.ODVspreadsheet /home/abarth/projects/Julia/DIVAnd.jl/src/ODVspreadsheet.jl:81\n",
      "┌ Info: No. of profiles in the file: 71\n",
      "└ @ DIVAnd.ODVspreadsheet /home/abarth/projects/Julia/DIVAnd.jl/src/ODVspreadsheet.jl:250\n"
     ]
    }
   ],
   "source": [
    "obsval,obslon,obslat,obsdepth,obstime,obsid = ODVspreadsheet.load(Float64,[datafile1],\n",
    "                           [\"Water body salinity\"]; nametype = :localname );"
   ]
  },
  {
   "cell_type": "markdown",
   "metadata": {},
   "source": [
    "Basic range check for the data (and presence of NaN and Inf)"
   ]
  },
  {
   "cell_type": "code",
   "execution_count": 7,
   "metadata": {},
   "outputs": [
    {
     "name": "stdout",
     "output_type": "stream",
     "text": [
      "              minimum and maximum of obs. dimension 1: (16.72791, 17.98836)\n",
      "              minimum and maximum of obs. dimension 2: (35.216, 36.25)\n",
      "              minimum and maximum of obs. dimension 3: (0.0, 4020.61646)\n",
      "              minimum and maximum of obs. dimension 4: (1966-02-13T05:00:00, 2016-11-24T10:39:00)\n",
      "                          minimum and maximum of data: (37.1775, 39.313)\n"
     ]
    },
    {
     "name": "stderr",
     "output_type": "stream",
     "text": [
      "┌ Info: Checking ranges for dimensions and observations\n",
      "└ @ DIVAnd /home/abarth/projects/Julia/DIVAnd.jl/src/obsstat.jl:75\n"
     ]
    }
   ],
   "source": [
    "checkobs((obslon,obslat,obsdepth,obstime),obsval,obsid)"
   ]
  },
  {
   "cell_type": "markdown",
   "metadata": {},
   "source": [
    "Individual elements can be retrieved by indexing     \n",
    "`obsdata`, `obslat`, `obslon`, `obsdepth` and `obstime`,      \n",
    "for example:"
   ]
  },
  {
   "cell_type": "code",
   "execution_count": 8,
   "metadata": {},
   "outputs": [
    {
     "data": {
      "text/plain": [
       "38.72"
      ]
     },
     "execution_count": 8,
     "metadata": {},
     "output_type": "execute_result"
    }
   ],
   "source": [
    "obsval[10]"
   ]
  },
  {
   "cell_type": "markdown",
   "metadata": {},
   "source": [
    "is the measurement (salinity here) of the 10th data point."
   ]
  },
  {
   "cell_type": "markdown",
   "metadata": {},
   "source": [
    "### Quick plot\n",
    "To see the data locations"
   ]
  },
  {
   "cell_type": "code",
   "execution_count": 9,
   "metadata": {},
   "outputs": [
    {
     "data": {
      "image/png": "[encoded data removed]",
      "text/plain": [
       "Figure(PyObject <Figure size 640x480 with 1 Axes>)"
      ]
     },
     "metadata": {},
     "output_type": "display_data"
    }
   ],
   "source": [
    "plot(obslon, obslat, \"ko\", markersize=0.5);"
   ]
  },
  {
   "cell_type": "markdown",
   "metadata": {},
   "source": [
    "### Remove data from the file\n",
    "Generate a text file to keep track of the removed data.        \n",
    "Define the indices of the data to delete:"
   ]
  },
  {
   "cell_type": "code",
   "execution_count": 10,
   "metadata": {},
   "outputs": [
    {
     "data": {
      "text/plain": [
       "2-element Array{Int64,1}:\n",
       " 10\n",
       " 14"
      ]
     },
     "execution_count": 10,
     "metadata": {},
     "output_type": "execute_result"
    }
   ],
   "source": [
    "index = [10,14]"
   ]
  },
  {
   "cell_type": "markdown",
   "metadata": {},
   "source": [
    "Create an array containing these data:"
   ]
  },
  {
   "cell_type": "code",
   "execution_count": 11,
   "metadata": {},
   "outputs": [
    {
     "data": {
      "text/plain": [
       "3×6 Array{Any,2}:\n",
       "   \"lon\"    \"lat\"      \"depth\"  …  \"ids\"                       \n",
       " 17.366   36.25     600.0          \"681-RNODC_Bottle_10911_123\"\n",
       " 17.366   36.25    1950.0          \"681-RNODC_Bottle_10911_123\""
      ]
     },
     "execution_count": 11,
     "metadata": {},
     "output_type": "execute_result"
    }
   ],
   "source": [
    "baddata = [\"lon\" \"lat\" \"depth\" \"time\" \"value\" \"ids\";\n",
    "    obslon[index]  obslat[index] obsdepth[index] obstime[index] obsval[index] obsid[index]]"
   ]
  },
  {
   "cell_type": "markdown",
   "metadata": {},
   "source": [
    "The array will be written to a file as a text using the function `writedlm`."
   ]
  },
  {
   "cell_type": "code",
   "execution_count": 12,
   "metadata": {},
   "outputs": [
    {
     "name": "stdout",
     "output_type": "stream",
     "text": [
      "search: \u001b[0m\u001b[1mw\u001b[22m\u001b[0m\u001b[1mr\u001b[22m\u001b[0m\u001b[1mi\u001b[22m\u001b[0m\u001b[1mt\u001b[22m\u001b[0m\u001b[1me\u001b[22m\u001b[0m\u001b[1md\u001b[22m\u001b[0m\u001b[1ml\u001b[22m\u001b[0m\u001b[1mm\u001b[22m\n",
      "\n"
     ]
    },
    {
     "data": {
      "text/latex": [
       "\\begin{verbatim}\n",
       "writedlm(f, A, delim='\\t'; opts)\n",
       "\\end{verbatim}\n",
       "Write \\texttt{A} (a vector, matrix, or an iterable collection of iterable rows) as text to \\texttt{f} (either a filename string or an \\texttt{IO} stream) using the given delimiter \\texttt{delim} (which defaults to tab, but can be any printable Julia object, typically a \\texttt{Char} or \\texttt{AbstractString}).\n",
       "\n",
       "For example, two vectors \\texttt{x} and \\texttt{y} of the same length can be written as two columns of tab-delimited text to \\texttt{f} by either \\texttt{writedlm(f, [x y])} or by \\texttt{writedlm(f, zip(x, y))}.\n",
       "\n",
       "\\section{Examples}\n",
       "\\begin{verbatim}\n",
       "julia> using DelimitedFiles\n",
       "\n",
       "julia> x = [1; 2; 3; 4];\n",
       "\n",
       "julia> y = [5; 6; 7; 8];\n",
       "\n",
       "julia> open(\"delim_file.txt\", \"w\") do io\n",
       "           writedlm(io, [x y])\n",
       "       end\n",
       "\n",
       "julia> readdlm(\"delim_file.txt\", '\\t', Int, '\\n')\n",
       "4×2 Array{Int64,2}:\n",
       " 1  5\n",
       " 2  6\n",
       " 3  7\n",
       " 4  8\n",
       "\n",
       "julia> rm(\"delim_file.txt\")\n",
       "\\end{verbatim}\n"
      ],
      "text/markdown": [
       "```\n",
       "writedlm(f, A, delim='\\t'; opts)\n",
       "```\n",
       "\n",
       "Write `A` (a vector, matrix, or an iterable collection of iterable rows) as text to `f` (either a filename string or an `IO` stream) using the given delimiter `delim` (which defaults to tab, but can be any printable Julia object, typically a `Char` or `AbstractString`).\n",
       "\n",
       "For example, two vectors `x` and `y` of the same length can be written as two columns of tab-delimited text to `f` by either `writedlm(f, [x y])` or by `writedlm(f, zip(x, y))`.\n",
       "\n",
       "# Examples\n",
       "\n",
       "```jldoctest\n",
       "julia> using DelimitedFiles\n",
       "\n",
       "julia> x = [1; 2; 3; 4];\n",
       "\n",
       "julia> y = [5; 6; 7; 8];\n",
       "\n",
       "julia> open(\"delim_file.txt\", \"w\") do io\n",
       "           writedlm(io, [x y])\n",
       "       end\n",
       "\n",
       "julia> readdlm(\"delim_file.txt\", '\\t', Int, '\\n')\n",
       "4×2 Array{Int64,2}:\n",
       " 1  5\n",
       " 2  6\n",
       " 3  7\n",
       " 4  8\n",
       "\n",
       "julia> rm(\"delim_file.txt\")\n",
       "```\n"
      ],
      "text/plain": [
       "\u001b[36m  writedlm(f, A, delim='\\t'; opts)\u001b[39m\n",
       "\n",
       "  Write \u001b[36mA\u001b[39m (a vector, matrix, or an iterable collection of iterable rows) as\n",
       "  text to \u001b[36mf\u001b[39m (either a filename string or an \u001b[36mIO\u001b[39m stream) using the given\n",
       "  delimiter \u001b[36mdelim\u001b[39m (which defaults to tab, but can be any printable Julia\n",
       "  object, typically a \u001b[36mChar\u001b[39m or \u001b[36mAbstractString\u001b[39m).\n",
       "\n",
       "  For example, two vectors \u001b[36mx\u001b[39m and \u001b[36my\u001b[39m of the same length can be written as two\n",
       "  columns of tab-delimited text to \u001b[36mf\u001b[39m by either \u001b[36mwritedlm(f, [x y])\u001b[39m or by\n",
       "  \u001b[36mwritedlm(f, zip(x, y))\u001b[39m.\n",
       "\n",
       "\u001b[1m  Examples\u001b[22m\n",
       "\u001b[1m  ≡≡≡≡≡≡≡≡≡≡\u001b[22m\n",
       "\n",
       "\u001b[36m  julia> using DelimitedFiles\u001b[39m\n",
       "\u001b[36m  \u001b[39m\n",
       "\u001b[36m  julia> x = [1; 2; 3; 4];\u001b[39m\n",
       "\u001b[36m  \u001b[39m\n",
       "\u001b[36m  julia> y = [5; 6; 7; 8];\u001b[39m\n",
       "\u001b[36m  \u001b[39m\n",
       "\u001b[36m  julia> open(\"delim_file.txt\", \"w\") do io\u001b[39m\n",
       "\u001b[36m             writedlm(io, [x y])\u001b[39m\n",
       "\u001b[36m         end\u001b[39m\n",
       "\u001b[36m  \u001b[39m\n",
       "\u001b[36m  julia> readdlm(\"delim_file.txt\", '\\t', Int, '\\n')\u001b[39m\n",
       "\u001b[36m  4×2 Array{Int64,2}:\u001b[39m\n",
       "\u001b[36m   1  5\u001b[39m\n",
       "\u001b[36m   2  6\u001b[39m\n",
       "\u001b[36m   3  7\u001b[39m\n",
       "\u001b[36m   4  8\u001b[39m\n",
       "\u001b[36m  \u001b[39m\n",
       "\u001b[36m  julia> rm(\"delim_file.txt\")\u001b[39m"
      ]
     },
     "execution_count": 12,
     "metadata": {},
     "output_type": "execute_result"
    }
   ],
   "source": [
    "?writedlm"
   ]
  },
  {
   "cell_type": "code",
   "execution_count": 13,
   "metadata": {},
   "outputs": [
    {
     "name": "stdout",
     "output_type": "stream",
     "text": [
      "size(obslon_only_good_data) = (28262,)\n",
      "size(obslon) = (28264,)\n"
     ]
    }
   ],
   "source": [
    "sel = trues(size(obslon))\n",
    "sel[index] .= false\n",
    "\n",
    "obslon_only_good_data = obslon[sel];\n",
    "obslat_only_good_data = obslat[sel];\n",
    "obsdepth_only_good_data = obsdepth[sel];\n",
    "obstime_only_good_data = obstime[sel];\n",
    "obsdata_only_good_data = obsval[sel];\n",
    "obsids_only_good_data = obsid[sel];\n",
    "\n",
    "@show size(obslon_only_good_data);\n",
    "@show size(obslon);"
   ]
  },
  {
   "cell_type": "code",
   "execution_count": 14,
   "metadata": {},
   "outputs": [],
   "source": [
    "writedlm(\"data/my_bad_data.txt\",baddata)"
   ]
  },
  {
   "cell_type": "markdown",
   "metadata": {},
   "source": [
    "The identifier is a combination of the EDMO code and LOCAL CDI ID"
   ]
  },
  {
   "cell_type": "code",
   "execution_count": 15,
   "metadata": {},
   "outputs": [
    {
     "name": "stdout",
     "output_type": "stream",
     "text": [
      "lon\tlat\tdepth\ttime\tvalue\tids\n",
      "17.366\t36.25\t600.0\t1977-04-07T02:00:00\t38.72\t681-RNODC_Bottle_10911_123\n",
      "17.366\t36.25\t1950.0\t1977-04-07T02:00:00\t38.65\t681-RNODC_Bottle_10911_123\n"
     ]
    }
   ],
   "source": [
    ";cat data/my_bad_data.txt"
   ]
  },
  {
   "cell_type": "markdown",
   "metadata": {},
   "source": [
    "## Select data according to criterion\n",
    "For the purpose of the example, let's assume we want to keep only the salinity values below 39.25 (even if the observations are good)."
   ]
  },
  {
   "cell_type": "code",
   "execution_count": 16,
   "metadata": {},
   "outputs": [
    {
     "name": "stderr",
     "output_type": "stream",
     "text": [
      "┌ Info: Number of removed observations: 9\n",
      "└ @ Main In[16]:4\n"
     ]
    }
   ],
   "source": [
    "sel = obsval .< 39.25;\n",
    "\n",
    "index = findall(.!sel)\n",
    "@info(\"Number of removed observations: $(length(index))\");\n",
    "\n",
    "obsval_good = obsval[sel]\n",
    "obslon_good = obslon[sel]\n",
    "obslat_good = obslat[sel]\n",
    "obsdepth_good = obsdepth[sel]\n",
    "obstime_good = obstime[sel]\n",
    "obsid_good = obsid[sel];"
   ]
  },
  {
   "cell_type": "code",
   "execution_count": 17,
   "metadata": {},
   "outputs": [
    {
     "name": "stdout",
     "output_type": "stream",
     "text": [
      "              minimum and maximum of obs. dimension 1: (16.72791, 17.98836)\n",
      "              minimum and maximum of obs. dimension 2: (35.216, 36.25)\n",
      "              minimum and maximum of obs. dimension 3: (0.0, 4020.61646)\n",
      "              minimum and maximum of obs. dimension 4: (1966-02-13T05:00:00, 2016-11-24T10:39:00)\n",
      "                          minimum and maximum of data: (37.1775, 39.212)\n"
     ]
    },
    {
     "name": "stderr",
     "output_type": "stream",
     "text": [
      "┌ Info: Checking ranges for dimensions and observations\n",
      "└ @ DIVAnd /home/abarth/projects/Julia/DIVAnd.jl/src/obsstat.jl:75\n"
     ]
    }
   ],
   "source": [
    "checkobs((obslon_good,obslat_good,obsdepth_good,obstime_good),obsval_good,obsid_good)"
   ]
  },
  {
   "cell_type": "markdown",
   "metadata": {},
   "source": [
    "Here we use a criterion based on the depth and on the time of measurement (month):"
   ]
  },
  {
   "cell_type": "code",
   "execution_count": 18,
   "metadata": {},
   "outputs": [
    {
     "name": "stdout",
     "output_type": "stream",
     "text": [
      "sum(sel) = 129\n",
      "length(obsval) = 28264\n"
     ]
    }
   ],
   "source": [
    "sel = (obsdepth .< 50.) .& (Dates.month.(obstime) .== 10)\n",
    "@show sum(sel);\n",
    "@show length(obsval);\n",
    "obsval_new = obsval[sel];"
   ]
  },
  {
   "cell_type": "markdown",
   "metadata": {},
   "source": [
    "Let's create a histogram showing the number of observations per month:"
   ]
  },
  {
   "cell_type": "code",
   "execution_count": 19,
   "metadata": {},
   "outputs": [
    {
     "data": {
      "image/png": "[encoded data removed]",
      "text/plain": [
       "Figure(PyObject <Figure size 640x480 with 1 Axes>)"
      ]
     },
     "metadata": {},
     "output_type": "display_data"
    },
    {
     "data": {
      "text/plain": [
       "(2, 11)"
      ]
     },
     "execution_count": 19,
     "metadata": {},
     "output_type": "execute_result"
    }
   ],
   "source": [
    "PyPlot.plt.hist(Dates.month.(obstime),12)\n",
    "extrema(Dates.month.(obstime))"
   ]
  },
  {
   "cell_type": "markdown",
   "metadata": {},
   "source": [
    "### Plot the selected data positions"
   ]
  },
  {
   "cell_type": "code",
   "execution_count": 20,
   "metadata": {},
   "outputs": [
    {
     "name": "stderr",
     "output_type": "stream",
     "text": [
      "┌ Info: Bathymetry file already downloaded\n",
      "└ @ Main In[20]:6\n"
     ]
    }
   ],
   "source": [
    "bathname = \"data/gebco_30sec_16.nc\"\n",
    "\n",
    "if !isfile(bathname)\n",
    "    download(\"https://dox.ulg.ac.be/index.php/s/U0pqyXhcQrXjEUX/download\",bathname)\n",
    "else\n",
    "    @info \"Bathymetry file already downloaded\" \n",
    "end\n",
    "\n",
    "bathisglobal = true\n",
    "\n",
    "# Extract the bathymetry for plotting\n",
    "\n",
    "lonr = extrema(obslon[sel])\n",
    "latr = extrema(obslat[sel])\n",
    "\n",
    "lonr = -10.:30.\n",
    "latr = 30.:45.\n",
    "bx,by,b = extract_bath(bathname,bathisglobal,lonr,latr);"
   ]
  },
  {
   "cell_type": "code",
   "execution_count": 21,
   "metadata": {},
   "outputs": [
    {
     "data": {
      "image/png": "[encoded data removed]",
      "text/plain": [
       "Figure(PyObject <Figure size 640x480 with 2 Axes>)"
      ]
     },
     "metadata": {},
     "output_type": "display_data"
    },
    {
     "data": {
      "text/plain": [
       "PyObject <matplotlib.colorbar.Colorbar object at 0x7fbf104dfcc0>"
      ]
     },
     "execution_count": 21,
     "metadata": {},
     "output_type": "execute_result"
    }
   ],
   "source": [
    "contourf(bx,by,permutedims(b, [2,1]), levels = [-1e5,0],colors = [[.5,.5,.5]])\n",
    "scatter(obslon[sel],obslat[sel],10,obsval[sel])\n",
    "# compute and set the correct aspect ratio\n",
    "aspect_ratio = 1/cos(mean(latr) * pi/180)\n",
    "gca().set_aspect(aspect_ratio)\n",
    "colorbar(orientation = \"horizontal\")"
   ]
  },
  {
   "cell_type": "markdown",
   "metadata": {},
   "source": [
    "## 2. Read ODV netCDF\n",
    "Download the file or use one of your file."
   ]
  },
  {
   "cell_type": "code",
   "execution_count": 22,
   "metadata": {},
   "outputs": [
    {
     "name": "stderr",
     "output_type": "stream",
     "text": [
      "┌ Info: File already downloaded\n",
      "└ @ Main In[22]:5\n"
     ]
    }
   ],
   "source": [
    "datafile2 = \"./data/small_ODV_sample.nc\"\n",
    "if !isfile(datafile2)\n",
    "    download(\"https://dox.ulg.ac.be/index.php/s/ugfCUjKlUollczU/download\", datafile2)\n",
    "else\n",
    "    @info \"File already downloaded\"\n",
    "end"
   ]
  },
  {
   "cell_type": "markdown",
   "metadata": {},
   "source": [
    "The function `NCODV.load` is designed to read netCDF files generated by ODV. In addition it has been optimised so large files (a few GB) can be ingested in a few minutes."
   ]
  },
  {
   "cell_type": "code",
   "execution_count": 23,
   "metadata": {},
   "outputs": [
    {
     "name": "stdout",
     "output_type": "stream",
     "text": [
      "0 out of 71 - 0.0 %\n",
      "  2.917431 seconds (11.09 M allocations: 564.299 MiB, 6.37% gc time)\n"
     ]
    }
   ],
   "source": [
    "@time obsval2, obslon2, obslat2, obsdepth2, obstime2, obsid2 = NCODV.load(Float64, datafile2, \"Water body salinity\");"
   ]
  },
  {
   "cell_type": "markdown",
   "metadata": {},
   "source": [
    "A quick plot helps to check if we obtain the same data as with the spreadsheet (1st figure of the notebook):"
   ]
  },
  {
   "cell_type": "code",
   "execution_count": 24,
   "metadata": {},
   "outputs": [
    {
     "data": {
      "image/png": "[encoded data removed]",
      "text/plain": [
       "Figure(PyObject <Figure size 640x480 with 1 Axes>)"
      ]
     },
     "metadata": {},
     "output_type": "display_data"
    }
   ],
   "source": [
    "plot(obslon2, obslat2, \"ko\", markersize=0.5);"
   ]
  },
  {
   "cell_type": "markdown",
   "metadata": {},
   "source": [
    "**⚠️ Note**: when you expect to have to read several times a large netCDF file, it is convenient to save it in a simplified form.      \n",
    "This can be done using the function `saveobs`:"
   ]
  },
  {
   "cell_type": "code",
   "execution_count": 25,
   "metadata": {},
   "outputs": [],
   "source": [
    "datafile3 = \"./data/small_ODV_sample_simple.nc\"\n",
    "if isfile(datafile3)\n",
    "    rm(datafile3)\n",
    "end\n",
    "DIVAnd.saveobs(datafile3, \"salinity\",obsval2,\n",
    "                   (obslon2, obslat2, obsdepth2, obstime2),obsid2)"
   ]
  },
  {
   "cell_type": "code",
   "execution_count": null,
   "metadata": {},
   "outputs": [],
   "source": []
  }
 ],
 "metadata": {
  "@webio": {
   "lastCommId": null,
   "lastKernelId": null
  },
  "kernelspec": {
   "display_name": "Julia 1.1.0",
   "language": "julia",
   "name": "julia-1.1"
  },
  "language_info": {
   "file_extension": ".jl",
   "mimetype": "application/julia",
   "name": "julia",
   "version": "1.1.0"
  }
 },
 "nbformat": 4,
 "nbformat_minor": 2
}
