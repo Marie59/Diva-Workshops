{
 "cells": [
  {
   "cell_type": "markdown",
   "metadata": {},
   "source": [
    "# Importing ODV aggregated spreadsheet data\n",
    "\n",
    "* Data are supposed to be aggregated using ODV and exported as aggregated ODV spreadsheet files\n",
    "* Substitute the file name `small_ODV_sample.txt` with the file name of your aggregated ODV file. \n",
    "* Do not export \"data error\"  from ODV (column header `STANDARD_DEV`)"
   ]
  },
  {
   "cell_type": "code",
   "execution_count": 1,
   "metadata": {},
   "outputs": [],
   "source": [
    "using divand\n",
    "using PyPlot"
   ]
  },
  {
   "cell_type": "code",
   "execution_count": null,
   "metadata": {
    "collapsed": true
   },
   "outputs": [],
   "source": [
    "#download(\"...\",\"small_ODV_sample.txt\")"
   ]
  },
  {
   "cell_type": "markdown",
   "metadata": {},
   "source": [
    "Aggregated ODV files do not have a semantic header, therefore we need to extract the corresponding column by using the \"local\" column header name (instead of being able to use the P01 name for the ODV files conforming to \n",
    "[Specification of SeaDataNet Data Transport Formats](https://www.seadatanet.org/content/download/636/3333/file/SDN2_D85_WP8_Datafile_formats.pdf?version=2)).\n",
    "\n",
    "\n",
    "By default only `good` and `probably good` values are loaded.     \n",
    "This can be changed using the optional parameter `qv_flags`:"
   ]
  },
  {
   "cell_type": "code",
   "execution_count": 2,
   "metadata": {},
   "outputs": [
    {
     "data": {
      "text/plain": [
       "\"1\""
      ]
     },
     "execution_count": 2,
     "metadata": {},
     "output_type": "execute_result"
    }
   ],
   "source": [
    "divand.ODVspreadsheet.GOOD_VALUE"
   ]
  },
  {
   "cell_type": "code",
   "execution_count": 3,
   "metadata": {},
   "outputs": [
    {
     "data": {
      "text/markdown": [
       "```\n",
       " profiles,lons,lats,depths,times,ids = load(T,fnames,datanames;\n",
       "    qv_flags = [divand.ODVspreadsheet.GOOD_VALUE,\n",
       "                divand.ODVspreadsheet.PROBABLY_GOOD_VALUE],\n",
       "    nametype = :P01,\n",
       "    qvlocalname = \"QV:SEADATANET\")\n",
       "```\n",
       "\n",
       "Load all profiles in all file from the array `fnames` corresponding to one of the parameter names `datanames`. If `nametype` is `:P01` (default), the datanames are P01 vocabulary names with the SDN prefix. If nametype is `:localname`, then they are the ODV column header without units. For example if the column header is `Water body salinity [per mille]`, then `datenames` should be `[\"Water body salinity\"]`. The resulting vectors have the data type `T` (expect `times` and `ids` which are vectors of `DateTime` and `String` respectively). Only values matching the quality flag `qv_flags` are retained. `qv_flags` is a vector of Strings (based on http://vocab.nerc.ac.uk/collection/L20/current/, e.g. \"1\" means \"good value\"). One can also use the constants these constants (prefixed with `divand.ODVspreadsheet.`):\n",
       "\n",
       "`qvlocalname` is the column name to denote quality flags. It is assumed that the quality flags follow immediatly the data column.\n",
       "\n",
       "|                   constant | value |\n",
       "| --------------------------:| -----:|\n",
       "|         NO_QUALITY_CONTROL |   \"0\" |\n",
       "|                 GOOD_VALUE |   \"1\" |\n",
       "|        PROBABLY_GOOD_VALUE |   \"2\" |\n",
       "|         PROBABLY_BAD_VALUE |   \"3\" |\n",
       "|                  BAD_VALUE |   \"4\" |\n",
       "|              CHANGED_VALUE |   \"5\" |\n",
       "|      VALUE_BELOW_DETECTION |   \"6\" |\n",
       "|            VALUE_IN_EXCESS |   \"7\" |\n",
       "|         INTERPOLATED_VALUE |   \"8\" |\n",
       "|              MISSING_VALUE |   \"9\" |\n",
       "| VALUE_PHENOMENON_UNCERTAIN |   \"A\" |\n",
       "\n",
       "If the ODV does not contain a semantic header (e.g. for the aggregated ODV files), then local names must be used.\n",
       "\n",
       "```julia-repl\n",
       "julia> data,lon,lat,depth,time,ids = divand.ODVspreadsheet.load(Float64,[\"data_from_med_profiles_non-restricted_v2.txt\"],\n",
       "      [\"Water body salinity\"]; nametype = :localname );\n",
       "```\n",
       "\n",
       "No checks are done if the units are consistent.\n",
       "\n",
       "```\n",
       " profiles,lons,lats,depths,times,ids = load(T,dir,P01names)\n",
       "```\n",
       "\n",
       "Load all ODV files under the directory `dir` corresponding the one of the parameter names `P01names`. The resulting vectors have the data type `T` (expect `times` and `ids` which are vectors of `DateTime` and `String` respectively).\n",
       "\n",
       "No checks are done if the units are consistent.\n"
      ],
      "text/plain": [
       "```\n",
       " profiles,lons,lats,depths,times,ids = load(T,fnames,datanames;\n",
       "    qv_flags = [divand.ODVspreadsheet.GOOD_VALUE,\n",
       "                divand.ODVspreadsheet.PROBABLY_GOOD_VALUE],\n",
       "    nametype = :P01,\n",
       "    qvlocalname = \"QV:SEADATANET\")\n",
       "```\n",
       "\n",
       "Load all profiles in all file from the array `fnames` corresponding to one of the parameter names `datanames`. If `nametype` is `:P01` (default), the datanames are P01 vocabulary names with the SDN prefix. If nametype is `:localname`, then they are the ODV column header without units. For example if the column header is `Water body salinity [per mille]`, then `datenames` should be `[\"Water body salinity\"]`. The resulting vectors have the data type `T` (expect `times` and `ids` which are vectors of `DateTime` and `String` respectively). Only values matching the quality flag `qv_flags` are retained. `qv_flags` is a vector of Strings (based on http://vocab.nerc.ac.uk/collection/L20/current/, e.g. \"1\" means \"good value\"). One can also use the constants these constants (prefixed with `divand.ODVspreadsheet.`):\n",
       "\n",
       "`qvlocalname` is the column name to denote quality flags. It is assumed that the quality flags follow immediatly the data column.\n",
       "\n",
       "|                   constant | value |\n",
       "| --------------------------:| -----:|\n",
       "|         NO_QUALITY_CONTROL |   \"0\" |\n",
       "|                 GOOD_VALUE |   \"1\" |\n",
       "|        PROBABLY_GOOD_VALUE |   \"2\" |\n",
       "|         PROBABLY_BAD_VALUE |   \"3\" |\n",
       "|                  BAD_VALUE |   \"4\" |\n",
       "|              CHANGED_VALUE |   \"5\" |\n",
       "|      VALUE_BELOW_DETECTION |   \"6\" |\n",
       "|            VALUE_IN_EXCESS |   \"7\" |\n",
       "|         INTERPOLATED_VALUE |   \"8\" |\n",
       "|              MISSING_VALUE |   \"9\" |\n",
       "| VALUE_PHENOMENON_UNCERTAIN |   \"A\" |\n",
       "\n",
       "If the ODV does not contain a semantic header (e.g. for the aggregated ODV files), then local names must be used.\n",
       "\n",
       "```julia-repl\n",
       "julia> data,lon,lat,depth,time,ids = divand.ODVspreadsheet.load(Float64,[\"data_from_med_profiles_non-restricted_v2.txt\"],\n",
       "      [\"Water body salinity\"]; nametype = :localname );\n",
       "```\n",
       "\n",
       "No checks are done if the units are consistent.\n",
       "\n",
       "```\n",
       " profiles,lons,lats,depths,times,ids = load(T,dir,P01names)\n",
       "```\n",
       "\n",
       "Load all ODV files under the directory `dir` corresponding the one of the parameter names `P01names`. The resulting vectors have the data type `T` (expect `times` and `ids` which are vectors of `DateTime` and `String` respectively).\n",
       "\n",
       "No checks are done if the units are consistent.\n"
      ]
     },
     "execution_count": 3,
     "metadata": {},
     "output_type": "execute_result"
    }
   ],
   "source": [
    "?ODVspreadsheet.load"
   ]
  },
  {
   "cell_type": "markdown",
   "metadata": {},
   "source": [
    "If for some reasons, the column name contains an underscore (`Water_body_phosphate` as opposed to `Water body phosphate`), then the local name should also use underscoes."
   ]
  },
  {
   "cell_type": "code",
   "execution_count": 4,
   "metadata": {},
   "outputs": [
    {
     "name": "stderr",
     "output_type": "stream",
     "text": [
      "\u001b[1m\u001b[36mINFO: \u001b[39m\u001b[22m\u001b[36mNo. of profiles in the file: 71\n",
      "\u001b[39m"
     ]
    }
   ],
   "source": [
    "dataname = \"Water body salinity\"\n",
    "\n",
    "obsval,obslon,obslat,obsdepth,obstime,obsid = ODVspreadsheet.load(Float64,[\"small_ODV_sample.txt\"],\n",
    "                           [\"Water body salinity\"]; nametype = :localname );"
   ]
  },
  {
   "cell_type": "markdown",
   "metadata": {},
   "source": [
    "Basic range check for the data (and presence of NaN and Inf)"
   ]
  },
  {
   "cell_type": "code",
   "execution_count": 5,
   "metadata": {},
   "outputs": [
    {
     "name": "stdout",
     "output_type": "stream",
     "text": [
      "              minimum and maximum of obs. dimension 1: (16.72791, 17.98836)\n",
      "              minimum and maximum of obs. dimension 2: (35.216, 36.25)\n",
      "              minimum and maximum of obs. dimension 3: (0.0, 4020.61646)\n",
      "              minimum and maximum of obs. dimension 4: (1966-02-13T05:00:00, 2016-11-24T10:39:00)\n",
      "                          minimum and maximum of data: (37.1775, 39.313)\n"
     ]
    }
   ],
   "source": [
    "checkobs((obslon,obslat,obsdepth,obstime),obsval,obsid)"
   ]
  },
  {
   "cell_type": "markdown",
   "metadata": {},
   "source": [
    "Individual elements can be retrieved by indexing     \n",
    "`obsdata`, `obslat`, `obslon`, `obsdepth` and `obstime`,      \n",
    "for example:"
   ]
  },
  {
   "cell_type": "code",
   "execution_count": 6,
   "metadata": {},
   "outputs": [
    {
     "data": {
      "text/plain": [
       "38.72"
      ]
     },
     "execution_count": 6,
     "metadata": {},
     "output_type": "execute_result"
    }
   ],
   "source": [
    "obsval[10]"
   ]
  },
  {
   "cell_type": "markdown",
   "metadata": {},
   "source": [
    "## Remove data from the file\n",
    "Generate a text file to keep track of the removed data.        \n",
    "Define the indices of the data to delete:"
   ]
  },
  {
   "cell_type": "code",
   "execution_count": 7,
   "metadata": {},
   "outputs": [
    {
     "data": {
      "text/plain": [
       "2-element Array{Int64,1}:\n",
       " 10\n",
       " 14"
      ]
     },
     "execution_count": 7,
     "metadata": {},
     "output_type": "execute_result"
    }
   ],
   "source": [
    "index = [10,14]"
   ]
  },
  {
   "cell_type": "markdown",
   "metadata": {},
   "source": [
    "Create an array containing these data:"
   ]
  },
  {
   "cell_type": "code",
   "execution_count": 8,
   "metadata": {},
   "outputs": [
    {
     "data": {
      "text/plain": [
       "3×6 Array{Any,2}:\n",
       "   \"lon\"    \"lat\"      \"depth\"  …  \"ids\"                       \n",
       " 17.366   36.25     600.0          \"681-RNODC_Bottle_10911_123\"\n",
       " 17.366   36.25    1950.0          \"681-RNODC_Bottle_10911_123\""
      ]
     },
     "execution_count": 8,
     "metadata": {},
     "output_type": "execute_result"
    }
   ],
   "source": [
    "baddata = [\"lon\" \"lat\" \"depth\" \"time\" \"value\" \"ids\";\n",
    "    obslon[index]  obslat[index] obsdepth[index] obstime[index] obsval[index] obsid[index]]"
   ]
  },
  {
   "cell_type": "markdown",
   "metadata": {},
   "source": [
    "The array will be written to a file as a text using the function `writedlm`."
   ]
  },
  {
   "cell_type": "code",
   "execution_count": 9,
   "metadata": {},
   "outputs": [
    {
     "name": "stdout",
     "output_type": "stream",
     "text": [
      "search: \u001b[1mw\u001b[22m\u001b[1mr\u001b[22m\u001b[1mi\u001b[22m\u001b[1mt\u001b[22m\u001b[1me\u001b[22m\u001b[1md\u001b[22m\u001b[1ml\u001b[22m\u001b[1mm\u001b[22m\n",
      "\n"
     ]
    },
    {
     "data": {
      "text/markdown": [
       "```\n",
       "writedlm(f, A, delim='\\t'; opts)\n",
       "```\n",
       "\n",
       "Write `A` (a vector, matrix, or an iterable collection of iterable rows) as text to `f` (either a filename string or an `IO` stream) using the given delimiter `delim` (which defaults to tab, but can be any printable Julia object, typically a `Char` or `AbstractString`).\n",
       "\n",
       "For example, two vectors `x` and `y` of the same length can be written as two columns of tab-delimited text to `f` by either `writedlm(f, [x y])` or by `writedlm(f, zip(x, y))`.\n"
      ],
      "text/plain": [
       "```\n",
       "writedlm(f, A, delim='\\t'; opts)\n",
       "```\n",
       "\n",
       "Write `A` (a vector, matrix, or an iterable collection of iterable rows) as text to `f` (either a filename string or an `IO` stream) using the given delimiter `delim` (which defaults to tab, but can be any printable Julia object, typically a `Char` or `AbstractString`).\n",
       "\n",
       "For example, two vectors `x` and `y` of the same length can be written as two columns of tab-delimited text to `f` by either `writedlm(f, [x y])` or by `writedlm(f, zip(x, y))`.\n"
      ]
     },
     "execution_count": 9,
     "metadata": {},
     "output_type": "execute_result"
    }
   ],
   "source": [
    "?writedlm"
   ]
  },
  {
   "cell_type": "code",
   "execution_count": 15,
   "metadata": {},
   "outputs": [
    {
     "name": "stdout",
     "output_type": "stream",
     "text": [
      "size(obslon_only_good_data) = (28262,)\n",
      "size(obslon) = (28264,)\n"
     ]
    }
   ],
   "source": [
    "sel = trues(size(obslon))\n",
    "sel[index] = false\n",
    "\n",
    "obslon_only_good_data = obslon[sel];\n",
    "obslat_only_good_data = obslat[sel];\n",
    "obsdepth_only_good_data = obsdepth[sel];\n",
    "obstime_only_good_data = obstime[sel];\n",
    "obsdata_only_good_data = obsval[sel];\n",
    "obsids_only_good_data = obsid[sel];\n",
    "\n",
    "@show size(obslon_only_good_data);\n",
    "@show size(obslon);"
   ]
  },
  {
   "cell_type": "code",
   "execution_count": 16,
   "metadata": {},
   "outputs": [],
   "source": [
    "writedlm(\"my_bad_data.txt\",baddata)"
   ]
  },
  {
   "cell_type": "markdown",
   "metadata": {},
   "source": [
    "The identifier is a combination of the EDMO code and LOCAL CDI ID"
   ]
  },
  {
   "cell_type": "code",
   "execution_count": 17,
   "metadata": {},
   "outputs": [
    {
     "name": "stdout",
     "output_type": "stream",
     "text": [
      "lon\tlat\tdepth\ttime\tvalue\tids\n",
      "17.366\t36.25\t600\t1977-04-07T02:00:00\t38.72\t681-RNODC_Bottle_10911_123\n",
      "17.366\t36.25\t1950\t1977-04-07T02:00:00\t38.65\t681-RNODC_Bottle_10911_123\n"
     ]
    }
   ],
   "source": [
    ";cat my_bad_data.txt"
   ]
  },
  {
   "cell_type": "code",
   "execution_count": 18,
   "metadata": {},
   "outputs": [
    {
     "data": {
      "text/plain": [
       "\"681-RNODC_Bottle_10911_123\""
      ]
     },
     "execution_count": 18,
     "metadata": {},
     "output_type": "execute_result"
    }
   ],
   "source": [
    "obsid[10]"
   ]
  },
  {
   "cell_type": "code",
   "execution_count": 14,
   "metadata": {},
   "outputs": [
    {
     "data": {
      "text/html": [
       "        Open in a new window <a target=\"blank\" href=\"http://seadatanet.maris2.nl/v_cdi_v3/print_wfs.asp?popup=yes&edmo=681&identifier=RNODC_Bottle_10911_123\" >681-RNODC_Bottle_10911_123</a>\n",
       "        <iframe width=\"900\" height=\"700\" src=\"http://seadatanet.maris2.nl/v_cdi_v3/print_wfs.asp?popup=yes&edmo=681&identifier=RNODC_Bottle_10911_123\"</iframe>    \n"
      ]
     },
     "metadata": {},
     "output_type": "display_data"
    }
   ],
   "source": [
    "SDNObsMetadata(obsid[10])"
   ]
  },
  {
   "cell_type": "markdown",
   "metadata": {},
   "source": [
    "## Select data according to criterion\n",
    "The following code fragment does in fact nothing, because all data values are already smaller than 100000, but it illustrate how additional range check can be performed."
   ]
  },
  {
   "cell_type": "code",
   "execution_count": null,
   "metadata": {},
   "outputs": [],
   "source": [
    "sel = obsval .< 39;\n",
    "\n",
    "index = find(.!sel)\n",
    "\n",
    "@show length(index);\n",
    "obsval = obsval[sel]\n",
    "obslon = obslon[sel]\n",
    "obslat = obslat[sel]\n",
    "obsdepth = obsdepth[sel]\n",
    "obstime = obstime[sel]\n",
    "obsid = obsid[sel];"
   ]
  },
  {
   "cell_type": "code",
   "execution_count": null,
   "metadata": {},
   "outputs": [],
   "source": [
    "checkobs((obslon,obslat,obsdepth,obstime),obsval,obsid)"
   ]
  },
  {
   "cell_type": "markdown",
   "metadata": {},
   "source": [
    "Here we use a criterion based on the depth and on the time of measurement (month):"
   ]
  },
  {
   "cell_type": "code",
   "execution_count": null,
   "metadata": {},
   "outputs": [],
   "source": [
    "sel = (obsdepth .< 50.) .& (Dates.month.(obstime) .== 9)\n",
    "@show sum(sel);\n",
    "@show length(obsval);\n",
    "obsval_new = obsval[sel];"
   ]
  },
  {
   "cell_type": "markdown",
   "metadata": {},
   "source": [
    "Let's create a histogram showing the number of observations per month:"
   ]
  },
  {
   "cell_type": "code",
   "execution_count": null,
   "metadata": {},
   "outputs": [],
   "source": [
    "PyPlot.plt[:hist](Dates.month.(obstime),12)\n",
    "extrema(Dates.month.(obstime))"
   ]
  },
  {
   "cell_type": "markdown",
   "metadata": {},
   "source": [
    "## Plot the selected data positions"
   ]
  },
  {
   "cell_type": "code",
   "execution_count": null,
   "metadata": {},
   "outputs": [],
   "source": [
    "bathname = \"gebco_30sec_16.nc\"\n",
    "\n",
    "if !isfile(bathname)\n",
    "    download(\"https://b2drop.eudat.eu/s/o0vinoQutAC7eb0/download\",bathname)\n",
    "else\n",
    "    info(\"Bathymetry file already downloaded\")\n",
    "end\n",
    "\n",
    "bathisglobal = true\n",
    "\n",
    "# Extract the bathymetry for plotting\n",
    "\n",
    "lonr = extrema(obslon[sel])\n",
    "latr = extrema(obslat[sel])\n",
    "\n",
    "lonr = -10:30\n",
    "latr = 30:45 \n",
    "bx,by,b = extract_bath(bathname,bathisglobal,lonr,latr);"
   ]
  },
  {
   "cell_type": "code",
   "execution_count": null,
   "metadata": {},
   "outputs": [],
   "source": [
    "contourf(bx,by,b', levels = [-1e5,0],colors = [[.5,.5,.5]])\n",
    "scatter(obslon[sel],obslat[sel],10,obsval[sel])\n",
    "# compute and set the correct aspect ratio\n",
    "aspect_ratio = 1/cos(mean(latr) * pi/180)\n",
    "gca()[:set_aspect](aspect_ratio)\n",
    "colorbar(orientation = \"horizontal\")"
   ]
  }
 ],
 "metadata": {
  "kernelspec": {
   "display_name": "Julia 0.6.2",
   "language": "julia",
   "name": "julia-0.6"
  },
  "language_info": {
   "file_extension": ".jl",
   "mimetype": "application/julia",
   "name": "julia",
   "version": "0.6.2"
  }
 },
 "nbformat": 4,
 "nbformat_minor": 2
}
