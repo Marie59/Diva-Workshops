{
 "cells": [
  {
   "cell_type": "markdown",
   "metadata": {},
   "source": [
    "# Importing data\n",
    "\n",
    "* Data are supposed to be aggregated using ODV and exported as aggregated ODV spreadsheet files"
   ]
  },
  {
   "cell_type": "code",
   "execution_count": 2,
   "metadata": {},
   "outputs": [
    {
     "name": "stderr",
     "output_type": "stream",
     "text": [
      "WARNING: Method definition warn(Any...) in module Base at util.jl:585 overwritten in module Logging at /home/abarth/.julia/v0.6/Logging/src/Logging.jl:115.\n",
      "WARNING: Method definition info(Any...) in module Base at util.jl:532 overwritten in module Logging at /home/abarth/.julia/v0.6/Logging/src/Logging.jl:115.\n",
      "WARNING: Method definition (::Type{divand.Vocab.CFVocab})(Any) in module Vocab at /home/abarth/.julia/v0.6/divand/src/Vocab.jl:22 overwritten at /home/abarth/.julia/v0.6/divand/src/Vocab.jl:46.\n"
     ]
    }
   ],
   "source": [
    "import divand\n",
    "using PyPlot\n"
   ]
  },
  {
   "cell_type": "code",
   "execution_count": null,
   "metadata": {},
   "outputs": [],
   "source": []
  },
  {
   "cell_type": "markdown",
   "metadata": {},
   "source": [
    "Aggregated ODV files do not have a semantic header, therefore we need to extract the corresponding column by using the \"local\" column header name (instead of being able to use the P01 name for the ODV files conforming to \n",
    "[Specification of SeaDataNet Data Transport Formats](https://www.seadatanet.org/content/download/636/3333/file/SDN2_D85_WP8_Datafile_formats.pdf?version=2)).\n",
    "\n",
    "\n",
    "By default only `good` and `probably good` values are loaded. This can be changed using the optional parameter `qv_flags`:"
   ]
  },
  {
   "cell_type": "code",
   "execution_count": 3,
   "metadata": {},
   "outputs": [
    {
     "data": {
      "text/markdown": [
       "```\n",
       " profiles,lons,lats,depths,times,ids = load(T,fnames,datanames;\n",
       "    qv_flags = [GOOD_VALUE,PROBABLY_GOOD_VALUE],\n",
       "    nametype = :P01)\n",
       "```\n",
       "\n",
       "Load all profiles in all file from the array `fnames` corresponding to one of the parameter names `datanames`. If `nametype` is `:P01` (default), the datanames are P01 vocabulary names with the SDN prefix. If nametype is `:localname`, then they are the ODV column header. The resulting vectors have the data type `T` (expect `times` and `ids` which are vectors of `DateTime` and `String` respectively). Only values matching the quality flag `qv_flags` are retained.\n",
       "\n",
       "No checks are done if the units are consistent.\n",
       "\n",
       "If the ODV does not contain a semantic header (e.g. for the aggregated ODV files), then local names must be used.\n",
       "\n",
       "```julia-repl\n",
       "julia> data,lon,lat,depth,time,ids = divand.ODVspreadsheet.load(Float32,[\"data_from_med_profiles_non-restricted_v2.txt\"],\n",
       "                                       [\"Water body salinity\"]; nametype = :localname );\n",
       "```\n",
       "\n",
       "```\n",
       " profiles,lons,lats,depths,times,ids = load(T,dir,P01names)\n",
       "```\n",
       "\n",
       "Load all ODV files under the directory `dir` corresponding the one of the parameter names `P01names`. The resulting vectors have the data type `T` (expect `times` and `ids` which are vectors of `DateTime` and `String` respectively).\n",
       "\n",
       "No checks are done if the units are consistent.\n"
      ],
      "text/plain": [
       "```\n",
       " profiles,lons,lats,depths,times,ids = load(T,fnames,datanames;\n",
       "    qv_flags = [GOOD_VALUE,PROBABLY_GOOD_VALUE],\n",
       "    nametype = :P01)\n",
       "```\n",
       "\n",
       "Load all profiles in all file from the array `fnames` corresponding to one of the parameter names `datanames`. If `nametype` is `:P01` (default), the datanames are P01 vocabulary names with the SDN prefix. If nametype is `:localname`, then they are the ODV column header. The resulting vectors have the data type `T` (expect `times` and `ids` which are vectors of `DateTime` and `String` respectively). Only values matching the quality flag `qv_flags` are retained.\n",
       "\n",
       "No checks are done if the units are consistent.\n",
       "\n",
       "If the ODV does not contain a semantic header (e.g. for the aggregated ODV files), then local names must be used.\n",
       "\n",
       "```julia-repl\n",
       "julia> data,lon,lat,depth,time,ids = divand.ODVspreadsheet.load(Float32,[\"data_from_med_profiles_non-restricted_v2.txt\"],\n",
       "                                       [\"Water body salinity\"]; nametype = :localname );\n",
       "```\n",
       "\n",
       "```\n",
       " profiles,lons,lats,depths,times,ids = load(T,dir,P01names)\n",
       "```\n",
       "\n",
       "Load all ODV files under the directory `dir` corresponding the one of the parameter names `P01names`. The resulting vectors have the data type `T` (expect `times` and `ids` which are vectors of `DateTime` and `String` respectively).\n",
       "\n",
       "No checks are done if the units are consistent.\n"
      ]
     },
     "execution_count": 3,
     "metadata": {},
     "output_type": "execute_result"
    }
   ],
   "source": [
    "?divand.ODVspreadsheet.load"
   ]
  },
  {
   "cell_type": "markdown",
   "metadata": {},
   "source": [
    "Substitute the file name `data_from_med_profiles_non-restricted_v2.txt` with the file name of your aggregated ODV file. "
   ]
  },
  {
   "cell_type": "code",
   "execution_count": 4,
   "metadata": {},
   "outputs": [],
   "source": [
    "dataname = \"Water body salinity\"\n",
    "\n",
    "data,lon,lat,depth,time,ids = divand.ODVspreadsheet.load(Float32,[\"data_from_med_profiles_non-restricted_v2.txt\"],\n",
    "                           [\"Water body salinity\"]; nametype = :localname );\n"
   ]
  },
  {
   "cell_type": "markdown",
   "metadata": {},
   "source": [
    "Basic range check for the data (and presence of NaN and Inf)"
   ]
  },
  {
   "cell_type": "code",
   "execution_count": 5,
   "metadata": {},
   "outputs": [
    {
     "name": "stdout",
     "output_type": "stream",
     "text": [
      "              minimum and maximum of obs. dimension 1: (16.72791f0, 17.98836f0)\n",
      "              minimum and maximum of obs. dimension 2: (35.216f0, 36.25f0)\n",
      "              minimum and maximum of obs. dimension 3: (0.0f0, 4020.6165f0)\n",
      "              minimum and maximum of obs. dimension 4: (1966-02-13T05:00:00, 2016-11-24T10:39:00)\n",
      "                          minimum and maximum of data: (37.1775f0, 39.313f0)\n"
     ]
    }
   ],
   "source": [
    "divand.checkobs((lon,lat,depth,time),data,ids)"
   ]
  },
  {
   "cell_type": "code",
   "execution_count": 6,
   "metadata": {},
   "outputs": [
    {
     "data": {
      "text/plain": [
       "38.72f0"
      ]
     },
     "execution_count": 6,
     "metadata": {},
     "output_type": "execute_result"
    }
   ],
   "source": [
    "data[10]"
   ]
  },
  {
   "cell_type": "code",
   "execution_count": 7,
   "metadata": {},
   "outputs": [
    {
     "data": {
      "text/plain": [
       "(17.366f0, 36.25f0, 600.0f0, 1977-04-07T02:00:00)"
      ]
     },
     "execution_count": 7,
     "metadata": {},
     "output_type": "execute_result"
    }
   ],
   "source": [
    "(lon[10],lat[10],depth[10],time[10])"
   ]
  },
  {
   "cell_type": "code",
   "execution_count": 8,
   "metadata": {},
   "outputs": [
    {
     "data": {
      "text/plain": [
       "\"681-RNODC_Bottle_10911_123\""
      ]
     },
     "execution_count": 8,
     "metadata": {},
     "output_type": "execute_result"
    }
   ],
   "source": [
    "ids[10]"
   ]
  },
  {
   "cell_type": "markdown",
   "metadata": {},
   "source": [
    "The following codes does infact nothing, because all data values are already smaller 100000, but it illustrate how additional range check can be performed."
   ]
  },
  {
   "cell_type": "code",
   "execution_count": 9,
   "metadata": {},
   "outputs": [],
   "source": [
    "sel = data .< 100000;\n",
    "data = data[sel]\n",
    "lon = lon[sel]\n",
    "lat = lat[sel]\n",
    "depth = depth[sel]\n",
    "time = time[sel]\n",
    "ids = ids[sel];\n",
    "\n"
   ]
  },
  {
   "cell_type": "code",
   "execution_count": 10,
   "metadata": {},
   "outputs": [
    {
     "name": "stdout",
     "output_type": "stream",
     "text": [
      "              minimum and maximum of obs. dimension 1: (16.72791f0, 17.98836f0)\n",
      "              minimum and maximum of obs. dimension 2: (35.216f0, 36.25f0)\n",
      "              minimum and maximum of obs. dimension 3: (0.0f0, 4020.6165f0)\n",
      "              minimum and maximum of obs. dimension 4: (1966-02-13T05:00:00, 2016-11-24T10:39:00)\n",
      "                          minimum and maximum of data: (37.1775f0, 39.313f0)\n"
     ]
    }
   ],
   "source": [
    "divand.checkobs((lon,lat,depth,time),data,ids)\n"
   ]
  },
  {
   "cell_type": "code",
   "execution_count": 11,
   "metadata": {},
   "outputs": [
    {
     "name": "stdout",
     "output_type": "stream",
     "text": [
      "sum(sel) = 245\n",
      "length(data) = 28264\n"
     ]
    },
    {
     "data": {
      "text/plain": [
       "28264"
      ]
     },
     "execution_count": 11,
     "metadata": {},
     "output_type": "execute_result"
    }
   ],
   "source": [
    "sel = (depth .< 50) .& (Dates.month.(time) .== 8)\n",
    "@show sum(sel)\n",
    "@show length(data)"
   ]
  },
  {
   "cell_type": "code",
   "execution_count": 12,
   "metadata": {},
   "outputs": [
    {
     "data": {
      "image/png": "[encoded data removed]",
      "text/plain": [
       "PyPlot.Figure(PyObject <matplotlib.figure.Figure object at 0x7fa45f7ce910>)"
      ]
     },
     "metadata": {},
     "output_type": "display_data"
    },
    {
     "data": {
      "text/plain": [
       "(2, 11)"
      ]
     },
     "execution_count": 12,
     "metadata": {},
     "output_type": "execute_result"
    }
   ],
   "source": [
    "PyPlot.plt[:hist](Dates.month.(time),12)\n",
    "extrema(Dates.month.(time))"
   ]
  },
  {
   "cell_type": "code",
   "execution_count": 13,
   "metadata": {},
   "outputs": [
    {
     "data": {
      "image/png": "[encoded data removed]",
      "text/plain": [
       "PyPlot.Figure(PyObject <matplotlib.figure.Figure object at 0x7fa44527d390>)"
      ]
     },
     "metadata": {},
     "output_type": "display_data"
    },
    {
     "data": {
      "text/plain": [
       "PyObject <matplotlib.collections.PathCollection object at 0x7fa44520d650>"
      ]
     },
     "execution_count": 13,
     "metadata": {},
     "output_type": "execute_result"
    }
   ],
   "source": [
    "scatter(lon[sel],lat[sel],10,data[sel])"
   ]
  }
 ],
 "metadata": {
  "kernelspec": {
   "display_name": "Julia 0.6.1",
   "language": "julia",
   "name": "julia-0.6"
  },
  "language_info": {
   "file_extension": ".jl",
   "mimetype": "application/julia",
   "name": "julia",
   "version": "0.6.1"
  }
 },
 "nbformat": 4,
 "nbformat_minor": 2
}
