{
 "cells": [
  {
   "cell_type": "markdown",
   "id": "0b3d6373",
   "metadata": {},
   "source": [
    "# Illustration of DIVAnd"
   ]
  },
  {
   "cell_type": "markdown",
   "id": "94a78cc2",
   "metadata": {},
   "source": [
    "The aim of this notebook is to choose the location of 100 observations to\n",
    "optimally reconstruct the provided sea surface temperature anomaly using DIVAnd.\n",
    "We use the Reynolds et al. 2002 [OI SST](https://www.psl.noaa.gov/data/gridded/data.noaa.oisst.v2.html) for the month January and remove the zonal average. This is assumed to be the \"true field\" in the followed.\n",
    "\n",
    "1. You should work in groups. Choose a group name and adapt the `groupname` accordingly\n",
    "2. Please change only the marked code (after \"Your turn !\" and before \"Do not make any change below\")\n",
    "3. You choose:\n",
    "     * the location of 100 observations (the vectors `xobs` and `yobs` which corresponds to longitude in degrees East and latitude in degrees North)\n",
    "     * the correlation length `len`\n",
    "     * the uncertainty of the observation `epsilon2`\n",
    "4. You are allowed to guide your choice by using the true field `v` (the target variable)\n",
    "5. Your results must be reproducible (the locations of the observations are saved in a text file at the end of the notebook)\n",
    "6. You can submit as many test as you wish, only the best result with lowest root mean square (RMS) error is shown.\n",
    "\n",
    "\n",
    "First load all modules"
   ]
  },
  {
   "cell_type": "code",
   "execution_count": null,
   "id": "fe90cfa1",
   "metadata": {},
   "outputs": [],
   "source": [
    "using DIVAnd\n",
    "using PyPlot\n",
    "using NCDatasets\n",
    "using Statistics\n",
    "using Random\n",
    "using Downloads: download\n",
    "using Interpolations\n",
    "using DelimitedFiles"
   ]
  },
  {
   "cell_type": "markdown",
   "id": "4a26dfbe",
   "metadata": {},
   "source": [
    "Download the data file if necessary"
   ]
  },
  {
   "cell_type": "code",
   "execution_count": null,
   "id": "28a040b7",
   "metadata": {},
   "outputs": [],
   "source": [
    "filename = \"sst.ltm.1961-1990.nc\"\n",
    "if !isfile(filename)\n",
    "    download(\"https://dox.ulg.ac.be/index.php/s/ptfCNIWGfJ247Gj/download\",filename);\n",
    "end"
   ]
  },
  {
   "cell_type": "markdown",
   "id": "2487264c",
   "metadata": {},
   "source": [
    "Load the data"
   ]
  },
  {
   "cell_type": "code",
   "execution_count": null,
   "id": "90492907",
   "metadata": {},
   "outputs": [],
   "source": [
    "ds = NCDataset(filename)\n",
    "vfull = reverse(nomissing(ds[\"sst\"][:,:,1],NaN),dims=2)\n",
    "lon = ds[\"lon\"][:]\n",
    "lat = reverse(ds[\"lat\"][:])\n",
    "close(ds);"
   ]
  },
  {
   "cell_type": "markdown",
   "id": "a5e00946",
   "metadata": {},
   "source": [
    "The array `mask` is 1 on sea and 0 on land"
   ]
  },
  {
   "cell_type": "code",
   "execution_count": null,
   "id": "3b0dad6b",
   "metadata": {},
   "outputs": [],
   "source": [
    "mask = isfinite.(vfull);"
   ]
  },
  {
   "cell_type": "markdown",
   "id": "c8d97e52",
   "metadata": {},
   "source": [
    "Remove the zonal average"
   ]
  },
  {
   "cell_type": "code",
   "execution_count": null,
   "id": "9a4205da",
   "metadata": {},
   "outputs": [],
   "source": [
    "v0 = copy(vfull)\n",
    "v0[.!mask] .= 0\n",
    "v = vfull .- sum(v0,dims=1) ./ sum(mask,dims=1)\n",
    "sz  = size(v)\n",
    "xi,yi =  DIVAnd.ndgrid(lon,lat);"
   ]
  },
  {
   "cell_type": "markdown",
   "id": "f8eda715",
   "metadata": {},
   "source": [
    "The scale factors (inverse of the resolution)"
   ]
  },
  {
   "cell_type": "code",
   "execution_count": null,
   "id": "d6257704",
   "metadata": {},
   "outputs": [],
   "source": [
    "pm = ones(sz) ./ ((xi[2,1]-xi[1,1]) .* cosd.(yi));\n",
    "pn = ones(sz) / (yi[1,2]-yi[1,1]);"
   ]
  },
  {
   "cell_type": "markdown",
   "id": "c43fbb3c",
   "metadata": {},
   "source": [
    "Number of observations"
   ]
  },
  {
   "cell_type": "code",
   "execution_count": null,
   "id": "3c3a98ae",
   "metadata": {},
   "outputs": [],
   "source": [
    "nobs = 100"
   ]
  },
  {
   "cell_type": "markdown",
   "id": "d93b22a9",
   "metadata": {},
   "source": [
    "Noise on observations [°C]"
   ]
  },
  {
   "cell_type": "code",
   "execution_count": null,
   "id": "823e7ee8",
   "metadata": {},
   "outputs": [],
   "source": [
    "noise = 0.5"
   ]
  },
  {
   "cell_type": "markdown",
   "id": "a4de9e16",
   "metadata": {},
   "source": [
    "## Your turn !\n",
    "\n",
    "You can change the following code and variables"
   ]
  },
  {
   "cell_type": "code",
   "execution_count": null,
   "id": "ca7b31d8",
   "metadata": {},
   "outputs": [],
   "source": [
    "# your group name (better use only ASCII symbols)\n",
    "groupname = \"Just-a-test\"\n",
    "# Correlation length in arc degrees (1° ~ 111 km)\n",
    "len = 20\n",
    "# Uncertainty of the observation [adimensional]\n",
    "epsilon2 = 0.001\n",
    "# Choose 100 random location (only sea points)\n",
    "# Is there a better way?\n",
    "indexobs = shuffle(findall(mask[:] .== 1))[1:nobs];\n",
    "xobs = xi[indexobs];\n",
    "yobs = yi[indexobs];"
   ]
  },
  {
   "cell_type": "markdown",
   "id": "10c8d109",
   "metadata": {},
   "source": [
    "## Do not make any change below"
   ]
  },
  {
   "cell_type": "markdown",
   "id": "d45d7505",
   "metadata": {},
   "source": [
    "Extract the pseudo-observations"
   ]
  },
  {
   "cell_type": "code",
   "execution_count": null,
   "id": "2c564f4f",
   "metadata": {},
   "outputs": [],
   "source": [
    "xobs = mod.(xobs,360)\n",
    "itp = interpolate((lon,lat), v, Gridded(Constant()))\n",
    "vobs = itp.(xobs,yobs);"
   ]
  },
  {
   "cell_type": "markdown",
   "id": "9a251ea1",
   "metadata": {},
   "source": [
    "Add some noise"
   ]
  },
  {
   "cell_type": "code",
   "execution_count": null,
   "id": "084da8e6",
   "metadata": {},
   "outputs": [],
   "source": [
    "Random.seed!(42)\n",
    "vobs_perturbed = vobs + noise * randn(nobs);"
   ]
  },
  {
   "cell_type": "markdown",
   "id": "9c824a7c",
   "metadata": {},
   "source": [
    "Make the analysis"
   ]
  },
  {
   "cell_type": "code",
   "execution_count": null,
   "id": "2b7b562f",
   "metadata": {
    "lines_to_next_cell": 2
   },
   "outputs": [],
   "source": [
    "vi,s = DIVAndrun(\n",
    "    mask,(pm,pn),(xi,yi),(xobs,yobs),\n",
    "    vobs_perturbed,\n",
    "    len,epsilon2\n",
    ");"
   ]
  },
  {
   "cell_type": "markdown",
   "id": "63727708",
   "metadata": {},
   "source": [
    "Plot the results"
   ]
  },
  {
   "cell_type": "code",
   "execution_count": null,
   "id": "ca871a0a",
   "metadata": {
    "lines_to_next_cell": 2
   },
   "outputs": [],
   "source": [
    "figure(figsize = (7.8,5.6))\n",
    "function map(; cl = extrema(filter(isfinite,v)))\n",
    "    axis(\"equal\")\n",
    "    xlim(extrema(lon))\n",
    "    ylim(extrema(lat))\n",
    "    clim(cl)\n",
    "    colorbar(orientation=\"horizontal\")\n",
    "    contourf(xi,yi,mask,levels = [0,.5],cmap = \"gray\")\n",
    "end\n",
    "subplot(2,2,1)\n",
    "pcolormesh(xi,yi,v); title(\"True field\")\n",
    "map()\n",
    "subplot(2,2,2)\n",
    "scatter(xi[indexobs],yi[indexobs],2,vobs,edgecolor=\"w\",linewidth=0.);\n",
    "title(\"Observation\")\n",
    "map()\n",
    "subplot(2,2,3)\n",
    "pcolormesh(xi,yi,vi); title(\"Analysis field\")\n",
    "map()\n",
    "subplot(2,2,4)\n",
    "pcolormesh(xi,yi,vi - v,cmap=\"RdBu\"); title(\"Analysis - true field\")\n",
    "map(cl = (-3,3));"
   ]
  },
  {
   "cell_type": "markdown",
   "id": "500aaace",
   "metadata": {},
   "source": [
    "RMS difference between analysis and true field"
   ]
  },
  {
   "cell_type": "code",
   "execution_count": null,
   "id": "77d683f0",
   "metadata": {},
   "outputs": [],
   "source": [
    "RMS_difference = sqrt(mean(filter(isfinite,(vi - v).^2)))"
   ]
  },
  {
   "cell_type": "markdown",
   "id": "729e5822",
   "metadata": {},
   "source": [
    "A function to submit the RMS error to score board:\n",
    "http://data-assimilation.net/scores/?game=DIVAnd2022"
   ]
  },
  {
   "cell_type": "code",
   "execution_count": null,
   "id": "4bd372ca",
   "metadata": {},
   "outputs": [],
   "source": [
    "function submit_results(groupname,rms_velocity)\n",
    "    function myescape(str)\n",
    "        for (s1,s2) in Dict(\"{\" => \"%7B\", \"}\" => \"%7D\", \"\\\"\" => \"%22\", \" \" => \"%20\")\n",
    "            str = replace(str,s1 => s2)\n",
    "        end\n",
    "        return str\n",
    "    end\n",
    "    myjson(data) = \"{\" * join([\"\\\"$k\\\":$(string(v))\" for (k,v) in data],\",\") * \"}\"\n",
    "    game = \"DIVAnd2022\"\n",
    "\n",
    "    data_dict = Dict()\n",
    "    #=\n",
    "    data = JSON.json(data_dict)\n",
    "    groupname_esc = URIParser.escape(groupname)\n",
    "    data_esc = URIParser.escape(data)\n",
    "    =#\n",
    "    data = myjson(data_dict)\n",
    "    groupname_esc = myescape(groupname)\n",
    "    data_esc = myescape(data)\n",
    "    baseurl = \"http://data-assimilation.net/scores\"\n",
    "    URL = \"$(baseurl)/new?game=$(game)&name=$(groupname_esc)&value=$(rms_velocity)&data=$(data_esc)\"\n",
    "    rm(download(URL))\n",
    "    println(\"Check scores at: $(baseurl)/?game=$(game)\\n\")\n",
    "end"
   ]
  },
  {
   "cell_type": "code",
   "execution_count": null,
   "id": "b35f4357",
   "metadata": {},
   "outputs": [],
   "source": [
    "submit_results(groupname,RMS_difference)"
   ]
  },
  {
   "cell_type": "code",
   "execution_count": null,
   "id": "766a316d",
   "metadata": {},
   "outputs": [],
   "source": [
    "filename = \"positions-rms-RMS-$RMS_difference-len-$len-epsilon2-$epsilon2.txt\"\n",
    "writedlm(filename,[xobs  yobs])"
   ]
  }
 ],
 "metadata": {
  "jupytext": {
   "cell_metadata_filter": "-all"
  },
  "kernelspec": {
   "display_name": "Julia 1.8.2",
   "language": "julia",
   "name": "julia-1.8"
  }
 },
 "nbformat": 4,
 "nbformat_minor": 5
}
