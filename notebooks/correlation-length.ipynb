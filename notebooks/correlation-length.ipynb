{
 "cells": [
  {
   "cell_type": "markdown",
   "metadata": {},
   "source": [
    "# Estimating-the-correlation-length \n",
    "\n",
    "* A central parameter for the DIVAnd analysis is the correlation length\n",
    "* It determines whether two points separated by a given distance are correlated or not\n",
    "* DIVAnd includes several tools to estimate the correlation length\n",
    "* We will start with a 2D case and consider the 3D case"
   ]
  },
  {
   "cell_type": "code",
   "execution_count": 1,
   "metadata": {},
   "outputs": [],
   "source": [
    "using divand\n",
    "using PyPlot"
   ]
  },
  {
   "cell_type": "markdown",
   "metadata": {},
   "source": [
    "Download the file `Salinity.bigfile` (if it is not already present). It will be placed in the same directory as this notebook. This file based on the World Ocean Database."
   ]
  },
  {
   "cell_type": "code",
   "execution_count": 2,
   "metadata": {},
   "outputs": [
    {
     "name": "stderr",
     "output_type": "stream",
     "text": [
      "\u001b[1m\u001b[36mINFO: \u001b[39m\u001b[22m\u001b[36mData file already downloaded\n",
      "\u001b[39m"
     ]
    }
   ],
   "source": [
    "fname = \"Salinity.bigfile\"\n",
    "\n",
    "if !isfile(fname)\n",
    "    download(\"https://b2drop.eudat.eu/s/Bv9Fj0YGC0zp2vn/download\",fname)\n",
    "else\n",
    "    info(\"Data file already downloaded\")\n",
    "end"
   ]
  },
  {
   "cell_type": "markdown",
   "metadata": {},
   "source": [
    "Load the data"
   ]
  },
  {
   "cell_type": "code",
   "execution_count": 3,
   "metadata": {},
   "outputs": [],
   "source": [
    "value,lon,lat,depth,time,ids = loadbigfile(fname);"
   ]
  },
  {
   "cell_type": "markdown",
   "metadata": {},
   "source": [
    "`mincount` is the minimum number of observations per distance bin and the call to `srand` ensures a reproducible sequence of random numbers.\n"
   ]
  },
  {
   "cell_type": "code",
   "execution_count": 4,
   "metadata": {},
   "outputs": [],
   "source": [
    "mincount = 100\n",
    "srand(12345); # this can be any number"
   ]
  },
  {
   "cell_type": "markdown",
   "metadata": {},
   "source": [
    "## 2D case\n",
    "\n",
    "* First lets consider only the data on a 2D surface (longitude and latitude)\n",
    "* We use the function `divand.fit_isotropic`\n"
   ]
  },
  {
   "cell_type": "code",
   "execution_count": 5,
   "metadata": {},
   "outputs": [
    {
     "name": "stdout",
     "output_type": "stream",
     "text": [
      "search: \u001b[1mf\u001b[22m\u001b[1mi\u001b[22m\u001b[1mt\u001b[22m\u001b[1m_\u001b[22m\u001b[1mi\u001b[22m\u001b[1ms\u001b[22m\u001b[1mo\u001b[22m\u001b[1mt\u001b[22m\u001b[1mr\u001b[22m\u001b[1mo\u001b[22m\u001b[1mp\u001b[22m\u001b[1mi\u001b[22m\u001b[1mc\u001b[22m\n",
      "\n"
     ]
    },
    {
     "data": {
      "text/markdown": [
       "```\n",
       "var0,len,distx,covar,fitcovar = fit_isotropic(x,v,distbin,mincount;\n",
       "                           alpha = divand.alpha_default(length(x)),\n",
       "                           minlen = 0.,\n",
       "                           maxlen = 10.,\n",
       "                           tolrel = 1e-4,\n",
       "                           maxpoints = 10000,\n",
       "                           nmean = 100,\n",
       "                           distfun = (xi,xj) -> sqrt(sum(abs2,xi-xj))),\n",
       "                           progress = (iter,var,len,fitness) -> nothing\n",
       "                       )\n",
       "```\n",
       "\n",
       "Determines the optimal correlation length `len` and variance (for a separation distance approaching zero) `var0` of a cloud of data points with value `v` and coordiantes `x` (tuple of vectors with the coordinates).\n",
       "\n",
       "The function can find the solution corresponding to  a local minimum which is not necessarily the global minimum.\n",
       "\n",
       "See also `empiriccovar` for future information about the output parameters.\n",
       "\n",
       "Optional input parameters:\n",
       "\n",
       "  * `alpha`: if one correlation length is forced to zero during the anaylsis the values of alpha sould be set using the effective dimension. For example, if a 2D-analysis is simulated by forcing the vertical correlation length to zero, then alpha should be set to `[1,2,1]`, otherwise alpha will be `[1,3,3,1]` (for for any proper 3D analysis).\n",
       "  * `len`: initial value for the correlation length\n",
       "  * `minlen`, `maxlen`: minimum and maximum value for the correlation length\n",
       "  * `tolrel`: relative tolerance for the optimizer\n",
       "  * `maxpoints`: maximum number of data points considered\n",
       "  * `nmean`: the number of time an empirical covariance is estimated.  The average covariance is used for the fitting.\n",
       "  * `distfun`: function to compute the distance between point `xi` (vector) and  `xj`. Per default `distun` is the Eucedian distance `(xi,xj) -> sqrt(sum(abs2,xi-xj)))`.\n",
       "  * `progress`: call-back function to show the progress of the optimization with the input parameters `iter`, `var`, `len` and `fitness` (all scalars).\n",
       "\n",
       "The length-scale parameters and the variance have the corresponding units from the `x` and `v`. It is therefore often necessary to provide reasonable values for these default parameters.\n",
       "\n",
       "The algorithm used to estimate the correlation-length and variance is based on randomly choosen points. Therefore the result can be different if the function is invoked repeately. If `nmean` is increased, then these statistical fluctuations should decrease (for a not too large value of `mincount`, i.e. about 100 for most cases).\n",
       "\n",
       "If the lower bound `minlen` is too small, then you might get the following error:\n",
       "\n",
       "```\n",
       "AmosException with id 4: input argument magnitude too large, complete loss of accuracy by argument reduction.\n",
       "```\n",
       "\n",
       "In these case, increase `minlen`.\n"
      ],
      "text/plain": [
       "```\n",
       "var0,len,distx,covar,fitcovar = fit_isotropic(x,v,distbin,mincount;\n",
       "                           alpha = divand.alpha_default(length(x)),\n",
       "                           minlen = 0.,\n",
       "                           maxlen = 10.,\n",
       "                           tolrel = 1e-4,\n",
       "                           maxpoints = 10000,\n",
       "                           nmean = 100,\n",
       "                           distfun = (xi,xj) -> sqrt(sum(abs2,xi-xj))),\n",
       "                           progress = (iter,var,len,fitness) -> nothing\n",
       "                       )\n",
       "```\n",
       "\n",
       "Determines the optimal correlation length `len` and variance (for a separation distance approaching zero) `var0` of a cloud of data points with value `v` and coordiantes `x` (tuple of vectors with the coordinates).\n",
       "\n",
       "The function can find the solution corresponding to  a local minimum which is not necessarily the global minimum.\n",
       "\n",
       "See also `empiriccovar` for future information about the output parameters.\n",
       "\n",
       "Optional input parameters:\n",
       "\n",
       "  * `alpha`: if one correlation length is forced to zero during the anaylsis the values of alpha sould be set using the effective dimension. For example, if a 2D-analysis is simulated by forcing the vertical correlation length to zero, then alpha should be set to `[1,2,1]`, otherwise alpha will be `[1,3,3,1]` (for for any proper 3D analysis).\n",
       "  * `len`: initial value for the correlation length\n",
       "  * `minlen`, `maxlen`: minimum and maximum value for the correlation length\n",
       "  * `tolrel`: relative tolerance for the optimizer\n",
       "  * `maxpoints`: maximum number of data points considered\n",
       "  * `nmean`: the number of time an empirical covariance is estimated.  The average covariance is used for the fitting.\n",
       "  * `distfun`: function to compute the distance between point `xi` (vector) and  `xj`. Per default `distun` is the Eucedian distance `(xi,xj) -> sqrt(sum(abs2,xi-xj)))`.\n",
       "  * `progress`: call-back function to show the progress of the optimization with the input parameters `iter`, `var`, `len` and `fitness` (all scalars).\n",
       "\n",
       "The length-scale parameters and the variance have the corresponding units from the `x` and `v`. It is therefore often necessary to provide reasonable values for these default parameters.\n",
       "\n",
       "The algorithm used to estimate the correlation-length and variance is based on randomly choosen points. Therefore the result can be different if the function is invoked repeately. If `nmean` is increased, then these statistical fluctuations should decrease (for a not too large value of `mincount`, i.e. about 100 for most cases).\n",
       "\n",
       "If the lower bound `minlen` is too small, then you might get the following error:\n",
       "\n",
       "```\n",
       "AmosException with id 4: input argument magnitude too large, complete loss of accuracy by argument reduction.\n",
       "```\n",
       "\n",
       "In these case, increase `minlen`.\n"
      ]
     },
     "execution_count": 5,
     "metadata": {},
     "output_type": "execute_result"
    }
   ],
   "source": [
    "?fit_isotropic"
   ]
  },
  {
   "cell_type": "code",
   "execution_count": 6,
   "metadata": {},
   "outputs": [
    {
     "name": "stderr",
     "output_type": "stream",
     "text": [
      "\u001b[1m\u001b[36mINFO: \u001b[39m\u001b[22m\u001b[36mMaking empirical covariance\n",
      "\u001b[39m\u001b[1m\u001b[36mINFO: \u001b[39m\u001b[22m\u001b[36mFitting empirical covariance\n",
      "\u001b[39m"
     ]
    },
    {
     "data": {
      "image/png": "[encoded data removed]",
      "text/plain": [
       "PyPlot.Figure(PyObject <matplotlib.figure.Figure object at 0x7f1ca00697d0>)"
      ]
     },
     "metadata": {},
     "output_type": "display_data"
    },
    {
     "data": {
      "text/plain": [
       "PyObject Text(0.5,1,u'isotropic fit 2D')"
      ]
     },
     "execution_count": 6,
     "metadata": {},
     "output_type": "execute_result"
    }
   ],
   "source": [
    "# surface values for the month January\n",
    "sel = (depth .> 10) .& Dates.month.(time) .== 1;\n",
    "x = (lon[sel],lat[sel]);\n",
    "v = value[sel] - mean(value[sel]);\n",
    "distbin = 0:0.5:4\n",
    "\n",
    "var0,len,distx,covar,fitcovar = fit_isotropic(x,v,distbin,mincount)\n",
    "\n",
    "\n",
    "figure()\n",
    "plot(distx,covar, label = \"empirical covariance\")\n",
    "plot(distx,fitcovar, label = \"fitted function\")\n",
    "legend()\n",
    "title(\"isotropic fit 2D\")"
   ]
  },
  {
   "cell_type": "markdown",
   "metadata": {},
   "source": [
    "The data from the file `Salinity.bigfile` is already interpolated on z levels which makes it not ideal to explore the vertical correlation.\n",
    "The file `WOD-Salinity-Provencal.nc` is the salinity data from the World Ocean Database for the Provençal Basin (Mediterranean Sea).\n",
    "\n",
    "The resulting correlation length can fluctuate a bit because the correlation is based on a collection of random pairs. Increasing `nmean` can be the estimation of the correlation more robust."
   ]
  },
  {
   "cell_type": "markdown",
   "metadata": {},
   "source": [
    "* Load the data if it is not already present.\n",
    "* Note we do not use the file `Salinity.bigfile` because it correspond to data already vertically interpolated which is not optimal for estimating the vertical correlation length"
   ]
  },
  {
   "cell_type": "code",
   "execution_count": 7,
   "metadata": {},
   "outputs": [
    {
     "name": "stdout",
     "output_type": "stream",
     "text": [
      "              minimum and maximum of obs. dimension 1: (3.0418334007263184, 11.8100004196167)\n",
      "              minimum and maximum of obs. dimension 2: (42.0, 44.0)\n",
      "              minimum and maximum of obs. dimension 3: (-0.0, 2762.0)\n",
      "              minimum and maximum of obs. dimension 4: (1892-09-25T00:00:00, 2017-10-02T06:14:02.761)\n",
      "                          minimum and maximum of data: (0.25, 40.0)\n"
     ]
    }
   ],
   "source": [
    "varname = \"Salinity\"\n",
    "filename = \"WOD-Salinity-Provencal.nc\"\n",
    "\n",
    "if !isfile(filename)    \n",
    "    download(\"https://b2drop.eudat.eu/s/UsF3RyU3xB1UM2o/download\",filename)\n",
    "end\n",
    "\n",
    "value,lon,lat,depth,time,ids = loadobs(Float64,filename,\"Salinity\")\n",
    "\n",
    "divand.checkobs((lon,lat,depth,time),value,ids)"
   ]
  },
  {
   "cell_type": "markdown",
   "metadata": {},
   "source": [
    "For this example we select only the first month (January)"
   ]
  },
  {
   "cell_type": "code",
   "execution_count": 8,
   "metadata": {},
   "outputs": [
    {
     "data": {
      "text/plain": [
       "10-element Array{Float64,1}:\n",
       "    0.0\n",
       "   10.0\n",
       "  100.0\n",
       "  200.0\n",
       "  300.0\n",
       "  400.0\n",
       "  500.0\n",
       "  700.0\n",
       " 1000.0\n",
       " 1500.0"
      ]
     },
     "execution_count": 8,
     "metadata": {},
     "output_type": "execute_result"
    }
   ],
   "source": [
    "sel = (Dates.month.(time) .== 1)\n",
    "x = (lon[sel],lat[sel],depth[sel]);\n",
    "v = value[sel]\n",
    "z = [0.,10,100,200,300,400,500,700,1000,1500]"
   ]
  },
  {
   "cell_type": "markdown",
   "metadata": {},
   "source": [
    "Estimate the horizontal correlation length for different depth levels"
   ]
  },
  {
   "cell_type": "code",
   "execution_count": 14,
   "metadata": {},
   "outputs": [
    {
     "name": "stderr",
     "output_type": "stream",
     "text": [
      "\u001b[1m\u001b[36mINFO: \u001b[39m\u001b[22m\u001b[36mMaking empirical covariance\n",
      "\u001b[39m\u001b[1m\u001b[36mINFO: \u001b[39m\u001b[22m\u001b[36mFitting empirical covariance\n",
      "\u001b[39m"
     ]
    },
    {
     "name": "stdout",
     "output_type": "stream",
     "text": [
      "Data points at z=0.0: 86141, correlation length: 0.13712371237123713\n"
     ]
    },
    {
     "name": "stderr",
     "output_type": "stream",
     "text": [
      "\u001b[1m\u001b[36mINFO: \u001b[39m\u001b[22m\u001b[36mMaking empirical covariance\n",
      "\u001b[39m\u001b[1m\u001b[36mINFO: \u001b[39m\u001b[22m\u001b[36mFitting empirical covariance\n",
      "\u001b[39m\u001b[1m\u001b[36mINFO: \u001b[39m\u001b[22m\u001b[36mMaking empirical covariance\n",
      "\u001b[39m\u001b[1m\u001b[36mINFO: \u001b[39m\u001b[22m\u001b[36mFitting empirical covariance\n",
      "\u001b[39m"
     ]
    },
    {
     "name": "stdout",
     "output_type": "stream",
     "text": [
      "Data points at z=10.0: 87901, correlation length: 0.13306330633063307\n",
      "Data points at z=100.0: 101834, correlation length: 0.13538353835383538\n",
      "Data points at z=200.0: 114742, correlation length: 0.12552255225522552\n"
     ]
    },
    {
     "name": "stderr",
     "output_type": "stream",
     "text": [
      "\u001b[1m\u001b[36mINFO: \u001b[39m\u001b[22m\u001b[36mMaking empirical covariance\n",
      "\u001b[39m\u001b[1m\u001b[36mINFO: \u001b[39m\u001b[22m\u001b[36mFitting empirical covariance\n",
      "\u001b[39m\u001b[1m\u001b[36mINFO: \u001b[39m\u001b[22m\u001b[36mMaking empirical covariance\n",
      "\u001b[39m\u001b[1m\u001b[36mINFO: \u001b[39m\u001b[22m\u001b[36mFitting empirical covariance\n",
      "\u001b[39m\u001b[1m\u001b[36mINFO: \u001b[39m\u001b[22m\u001b[36mMaking empirical covariance\n",
      "\u001b[39m\u001b[1m\u001b[36mINFO: \u001b[39m\u001b[22m\u001b[36mFitting empirical covariance\n",
      "\u001b[39m\u001b[1m\u001b[36mINFO: \u001b[39m\u001b[22m\u001b[36mMaking empirical covariance\n",
      "\u001b[39m\u001b[1m\u001b[36mINFO: \u001b[39m\u001b[22m\u001b[36mFitting empirical covariance\n",
      "\u001b[39m"
     ]
    },
    {
     "name": "stdout",
     "output_type": "stream",
     "text": [
      "Data points at z=300.0: 125816, correlation length: 0.11798179817981798\n",
      "Data points at z=400.0: 102006, correlation length: 0.1\n",
      "Data points at z=500.0: 83943, correlation length: 0.1\n",
      "Data points at z=700.0: 64682, correlation length: 0.14147414741474149\n",
      "Data points at z=1000.0: 47423, correlation length: 0.1\n",
      "Data points at z=1500.0: 30885, correlation length: 0.1\n",
      "252.674993 seconds (511.20 M allocations: 418.832 GiB, 22.06% gc time)\n"
     ]
    },
    {
     "name": "stderr",
     "output_type": "stream",
     "text": [
      "\u001b[1m\u001b[36mINFO: \u001b[39m\u001b[22m\u001b[36mMaking empirical covariance\n",
      "\u001b[39m\u001b[1m\u001b[36mINFO: \u001b[39m\u001b[22m\u001b[36mFitting empirical covariance\n",
      "\u001b[39m\u001b[1m\u001b[36mINFO: \u001b[39m\u001b[22m\u001b[36mMaking empirical covariance\n",
      "\u001b[39m\u001b[1m\u001b[36mINFO: \u001b[39m\u001b[22m\u001b[36mFitting empirical covariance\n",
      "\u001b[39m\u001b[1m\u001b[36mINFO: \u001b[39m\u001b[22m\u001b[36mMaking empirical covariance\n",
      "\u001b[39m\u001b[1m\u001b[36mINFO: \u001b[39m\u001b[22m\u001b[36mFitting empirical covariance\n",
      "\u001b[39m"
     ]
    },
    {
     "data": {
      "text/plain": [
       "([0.133283, 0.133253, 0.131593, 0.124972, 0.115901, 0.106338, 0.105989, 0.135452, 0.101544, 0.100016], Dict{Symbol,Any}(Pair{Symbol,Any}(:fitcovar, [0.0102217 0.00985673 … 0.00264528 0.00512845; 0.00647306 0.00612749 … 0.00132894 0.00257643; … ; 2.81416e-20 7.53325e-21 … 1.2092e-27 2.34429e-27; 1.36851e-20 3.58278e-21 … 4.48577e-28 8.69664e-28]),Pair{Symbol,Any}(:covar, [0.0114935 0.0111442 … 0.00319393 0.00619213; 0.00834035 0.00804067 … 0.000299024 -0.000351238; … ; -0.00399266 -0.00463854 … -0.00648836 -0.00368318; -0.00749096 5.1458e-5 … -0.0083332 -0.0043064]),Pair{Symbol,Any}(:stdcovar, [0.00298006 0.00269624 … 0.00269881 0.00280859; 0.00227058 0.00229667 … 0.000190241 0.000252162; … ; 0.0179786 0.0201399 … 0.0061593 0.00377685; 0.0349846 0.108149 … 0.00806418 0.00476596]),Pair{Symbol,Any}(:len, [0.137124, 0.133063, 0.135384, 0.125523, 0.117982, 0.1, 0.1, 0.141474, 0.1, 0.1]),Pair{Symbol,Any}(:distx, [0.05, 0.15, 0.25, 0.35, 0.45, 0.55, 0.65, 0.75, 0.85, 0.95  …  5.05, 5.15, 5.25, 5.35, 5.45, 5.55, 5.65, 5.75, 5.85, 5.95]),Pair{Symbol,Any}(:var0, [0.0114935, 0.0111442, 0.0093296, 0.0080599, 0.00734017, 0.00385778, 0.00141012, 0.00199419, 0.00319393, 0.00619213])))"
      ]
     },
     "execution_count": 14,
     "metadata": {},
     "output_type": "execute_result"
    }
   ],
   "source": [
    "srand(1234);\n",
    "@time lenxy,infoxy = fithorzlen(x,v,z, nmean = 500, distbin = collect(0.:0.1:6))"
   ]
  },
  {
   "cell_type": "code",
   "execution_count": 15,
   "metadata": {},
   "outputs": [
    {
     "data": {
      "image/png": "[encoded data removed]",
      "text/plain": [
       "PyPlot.Figure(PyObject <matplotlib.figure.Figure object at 0x7f1c6e833f50>)"
      ]
     },
     "metadata": {},
     "output_type": "display_data"
    },
    {
     "data": {
      "text/plain": [
       "1-element Array{PyCall.PyObject,1}:\n",
       " PyObject <matplotlib.lines.Line2D object at 0x7f1c6fbc8810>"
      ]
     },
     "execution_count": 15,
     "metadata": {},
     "output_type": "execute_result"
    }
   ],
   "source": [
    "plot(lenxy,-z)"
   ]
  },
  {
   "cell_type": "markdown",
   "metadata": {},
   "source": [
    "Estimate the vertical correlation length for different depth levels"
   ]
  },
  {
   "cell_type": "code",
   "execution_count": 9,
   "metadata": {},
   "outputs": [
    {
     "name": "stderr",
     "output_type": "stream",
     "text": [
      "\u001b[1m\u001b[36mINFO: \u001b[39m\u001b[22m\u001b[36mMaking empirical covariance\n",
      "\u001b[39m\u001b[1m\u001b[36mINFO: \u001b[39m\u001b[22m\u001b[36mFitting empirical covariance\n",
      "\u001b[39m"
     ]
    },
    {
     "name": "stdout",
     "output_type": "stream",
     "text": [
      "Data points at z=0.0: 225570, correlation length: 105.54455445544555\n"
     ]
    },
    {
     "name": "stderr",
     "output_type": "stream",
     "text": [
      "\u001b[1m\u001b[36mINFO: \u001b[39m\u001b[22m\u001b[36mMaking empirical covariance\n",
      "\u001b[39m\u001b[1m\u001b[36mINFO: \u001b[39m\u001b[22m\u001b[36mFitting empirical covariance\n",
      "\u001b[39m\u001b[1m\u001b[36mINFO: \u001b[39m\u001b[22m\u001b[36mMaking empirical covariance\n",
      "\u001b[39m\u001b[1m\u001b[36mINFO: \u001b[39m\u001b[22m\u001b[36mFitting empirical covariance\n",
      "\u001b[39m"
     ]
    },
    {
     "name": "stdout",
     "output_type": "stream",
     "text": [
      "Data points at z=10.0: 225570, correlation length: 117.82178217821782\n",
      "Data points at z=100.0: 225570, correlation length: 122.97029702970298\n",
      "Data points at z=200.0: 225570, correlation length: 77.82178217821782\n",
      "Data points at z=300.0: 225570, correlation length: 391.48514851485146\n",
      "Data points at z=400.0: 225570, correlation length: 81.68316831683168\n"
     ]
    },
    {
     "name": "stderr",
     "output_type": "stream",
     "text": [
      "\u001b[1m\u001b[36mINFO: \u001b[39m\u001b[22m\u001b[36mMaking empirical covariance\n",
      "\u001b[39m\u001b[1m\u001b[36mINFO: \u001b[39m\u001b[22m\u001b[36mFitting empirical covariance\n",
      "\u001b[39m\u001b[1m\u001b[36mINFO: \u001b[39m\u001b[22m\u001b[36mMaking empirical covariance\n",
      "\u001b[39m\u001b[1m\u001b[36mINFO: \u001b[39m\u001b[22m\u001b[36mFitting empirical covariance\n",
      "\u001b[39m\u001b[1m\u001b[36mINFO: \u001b[39m\u001b[22m\u001b[36mMaking empirical covariance\n",
      "\u001b[39m\u001b[1m\u001b[36mINFO: \u001b[39m\u001b[22m\u001b[36mFitting empirical covariance\n",
      "\u001b[39m\u001b[1m\u001b[36mINFO: \u001b[39m\u001b[22m\u001b[36mMaking empirical covariance\n",
      "\u001b[39m\u001b[1m\u001b[36mINFO: \u001b[39m\u001b[22m\u001b[36mFitting empirical covariance\n",
      "\u001b[39m\u001b[1m\u001b[36mINFO: \u001b[39m\u001b[22m\u001b[36mMaking empirical covariance\n",
      "\u001b[39m\u001b[1m\u001b[36mINFO: \u001b[39m\u001b[22m\u001b[36mFitting empirical covariance\n",
      "\u001b[39m\u001b[1m\u001b[36mINFO: \u001b[39m\u001b[22m\u001b[36mMaking empirical covariance\n",
      "\u001b[39m\u001b[1m\u001b[36mINFO: \u001b[39m\u001b[22m\u001b[36mFitting empirical covariance\n",
      "\u001b[39m"
     ]
    },
    {
     "name": "stdout",
     "output_type": "stream",
     "text": [
      "Data points at z=500.0: 225570, correlation length: 115.54455445544555\n",
      "Data points at z=700.0: 225570, correlation length: 195.14851485148515\n",
      "Data points at z=1000.0: 225570, correlation length: 1000.0\n",
      "Data points at z=1500.0: 225570, correlation length: 278.71287128712873\n",
      "109.525052 seconds (1.24 G allocations: 100.992 GiB, 20.30% gc time)\n"
     ]
    },
    {
     "name": "stderr",
     "output_type": "stream",
     "text": [
      "\u001b[1m\u001b[36mINFO: \u001b[39m\u001b[22m\u001b[36mMaking empirical covariance\n",
      "\u001b[39m\u001b[1m\u001b[36mINFO: \u001b[39m\u001b[22m\u001b[36mFitting empirical covariance\n",
      "\u001b[39m"
     ]
    },
    {
     "data": {
      "text/plain": [
       "([119.023, 119.13, 125.011, 155.392, 229.664, 157.81, 133.908, 236.397, 951.14, 292.504], Dict{Symbol,Any}(Pair{Symbol,Any}(:fitcovar, [0.0272041 0.0147128 … 0.000755075 0.00478065; 0.0211758 0.0119289 … 0.000751778 0.00455704; … ; 0.000562871 0.00050589 … 0.000659178 0.00169123; 0.000182707 0.00018751 … 0.000623459 0.00119244]),Pair{Symbol,Any}(:covar, [0.0284142 0.0152454 … 0.000755509 0.0048142; 0.015769 0.00950461 … 0.000608379 0.0027052; … ; 0.000999036 -0.000250508 … 0.000881906 0.00174803; 0.00120964 -2.79276e-5 … 0.000878124 0.0018918]),Pair{Symbol,Any}(:stdcovar, [0.0313579 0.00610624 … 0.00257792 0.00867607; 0.00940787 0.00301952 … 0.00237413 0.00590573; … ; 0.00429527 0.00301526 … 0.0018241 0.00346716; 0.00565827 0.00359331 … 0.00161915 0.00414198]),Pair{Symbol,Any}(:len, [105.545, 117.822, 122.97, 77.8218, 391.485, 81.6832, 115.545, 195.149, 1000.0, 278.713]),Pair{Symbol,Any}(:distx, [25.0, 75.0, 125.0, 175.0, 225.0, 275.0, 325.0, 375.0, 450.0, 550.0]),Pair{Symbol,Any}(:var0, [0.0284142, 0.0152454, 0.00773213, 0.00746182, 0.000712978, 0.00132339, 0.00196832, 0.00074858, 0.000755509, 0.0048142])))"
      ]
     },
     "execution_count": 9,
     "metadata": {},
     "output_type": "execute_result"
    }
   ],
   "source": [
    "srand(1234);\n",
    "@time lenz,infoz = fitvertlen(x,v,z, nmean = 500, distbin = collect([0.:50:400; 500:100:600]))"
   ]
  },
  {
   "cell_type": "code",
   "execution_count": 13,
   "metadata": {},
   "outputs": [
    {
     "data": {
      "image/png": "[encoded data removed]",
      "text/plain": [
       "PyPlot.Figure(PyObject <matplotlib.figure.Figure object at 0x7f1c6e8e2ed0>)"
      ]
     },
     "metadata": {},
     "output_type": "display_data"
    },
    {
     "data": {
      "text/plain": [
       "1-element Array{PyCall.PyObject,1}:\n",
       " PyObject <matplotlib.lines.Line2D object at 0x7f1c6e833e90>"
      ]
     },
     "execution_count": 13,
     "metadata": {},
     "output_type": "execute_result"
    }
   ],
   "source": [
    "plot(lenz,-z)"
   ]
  },
  {
   "cell_type": "code",
   "execution_count": null,
   "metadata": {},
   "outputs": [],
   "source": []
  }
 ],
 "metadata": {
  "kernelspec": {
   "display_name": "Julia 0.6.2",
   "language": "julia",
   "name": "julia-0.6"
  },
  "language_info": {
   "file_extension": ".jl",
   "mimetype": "application/julia",
   "name": "julia",
   "version": "0.6.2"
  },
  "nbdime-conflicts": {
   "local_diff": [
    {
     "diff": [
      {
       "diff": [
        {
         "diff": [
          {
           "key": 10,
           "op": "addrange",
           "valuelist": "2"
          },
          {
           "key": 10,
           "length": 1,
           "op": "removerange"
          }
         ],
         "key": 0,
         "op": "patch"
        }
       ],
       "key": "display_name",
       "op": "patch"
      }
     ],
     "key": "kernelspec",
     "op": "patch"
    },
    {
     "diff": [
      {
       "diff": [
        {
         "diff": [
          {
           "key": 4,
           "op": "addrange",
           "valuelist": "2"
          },
          {
           "key": 4,
           "length": 1,
           "op": "removerange"
          }
         ],
         "key": 0,
         "op": "patch"
        }
       ],
       "key": "version",
       "op": "patch"
      }
     ],
     "key": "language_info",
     "op": "patch"
    }
   ],
   "remote_diff": [
    {
     "diff": [
      {
       "diff": [
        {
         "diff": [
          {
           "key": 10,
           "op": "addrange",
           "valuelist": "0"
          },
          {
           "key": 10,
           "length": 1,
           "op": "removerange"
          }
         ],
         "key": 0,
         "op": "patch"
        }
       ],
       "key": "display_name",
       "op": "patch"
      }
     ],
     "key": "kernelspec",
     "op": "patch"
    },
    {
     "diff": [
      {
       "diff": [
        {
         "diff": [
          {
           "key": 4,
           "op": "addrange",
           "valuelist": "0"
          },
          {
           "key": 4,
           "length": 1,
           "op": "removerange"
          }
         ],
         "key": 0,
         "op": "patch"
        }
       ],
       "key": "version",
       "op": "patch"
      }
     ],
     "key": "language_info",
     "op": "patch"
    }
   ]
  }
 },
 "nbformat": 4,
 "nbformat_minor": 2
}
