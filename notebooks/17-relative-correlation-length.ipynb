{
 "cells": [
  {
   "cell_type": "markdown",
   "metadata": {},
   "source": [
    "# Relative correlation length\n",
    "\n",
    "How to derive a relative correlation length based on the topography gradients"
   ]
  },
  {
   "cell_type": "code",
   "execution_count": null,
   "metadata": {},
   "outputs": [],
   "source": [
    "using DIVAnd\n",
    "using PyPlot\n",
    "if VERSION >= v\"0.7.0-beta.0\"\n",
    "    using Dates\n",
    "    using Statistics\n",
    "    using Random\n",
    "else\n",
    "    using Compat: @info, @warn, @debug\n",
    "end\n",
    "using Compat"
   ]
  },
  {
   "cell_type": "code",
   "execution_count": null,
   "metadata": {},
   "outputs": [],
   "source": [
    "dx = dy = 0.1\n",
    "lonr = 2.5:dx:12.\n",
    "latr = 42.3:dy:44.6"
   ]
  },
  {
   "cell_type": "code",
   "execution_count": null,
   "metadata": {},
   "outputs": [],
   "source": [
    "# https://b2drop.eudat.eu/s/ACcxUEZZi6a4ziR/download  gebco_30sec_4.nc\n",
    "# https://b2drop.eudat.eu/s/x83MSV8yUF934bL/download  gebco_30sec_8.nc\n",
    "# https://b2drop.eudat.eu/s/o0vinoQutAC7eb0/download  gebco_30sec_16.nc\n",
    "\n",
    "bathname = \"data/gebco_30sec_4.nc\"\n",
    "\n",
    "if !isfile(bathname)\n",
    "    download(\"https://b2drop.eudat.eu/s/ACcxUEZZi6a4ziR/download\",bathname)\n",
    "else\n",
    "    @info(\"Bathymetry file already downloaded\")\n",
    "end\n",
    "\n",
    "bathisglobal = true"
   ]
  },
  {
   "cell_type": "markdown",
   "metadata": {},
   "source": [
    "Read bathymetry and create mask"
   ]
  },
  {
   "cell_type": "code",
   "execution_count": null,
   "metadata": {
    "collapsed": true
   },
   "outputs": [],
   "source": [
    "bx,by,b = DIVAnd.load_bath(bathname,true,lonr,latr)\n",
    "mask = b .< 0\n",
    "b[b .< 0] .= 0;"
   ]
  },
  {
   "cell_type": "code",
   "execution_count": null,
   "metadata": {},
   "outputs": [],
   "source": [
    "pcolor(bx,by,permutedims(b, [2,1]));  \n",
    "gca()[:set_aspect](1/cos(mean([ylim()...]) * pi/180))\n",
    "colorbar(orientation=\"horizontal\")"
   ]
  },
  {
   "cell_type": "code",
   "execution_count": null,
   "metadata": {
    "collapsed": true
   },
   "outputs": [],
   "source": [
    "x,y = DIVAnd.ndgrid(bx,by);\n",
    "pm,pn = DIVAnd.DIVAnd_metric(x,y)\n",
    "\n",
    "L = 10_000 # meters\n",
    "\n",
    "RL = DIVAnd.lengraddepth((pm,pn),b, L);"
   ]
  },
  {
   "cell_type": "code",
   "execution_count": null,
   "metadata": {},
   "outputs": [],
   "source": [
    "pcolor(bx,by,permutedims(RL, [2,1])); \n",
    "gca()[:set_aspect](1/cos(mean([ylim()...]) * pi/180))\n",
    "colorbar(orientation=\"horizontal\")"
   ]
  },
  {
   "cell_type": "code",
   "execution_count": null,
   "metadata": {},
   "outputs": [],
   "source": [
    "depthr = [0.,10.,20.]\n",
    "length(depthr)\n",
    "RL3D = repeat(RL,inner=(1,1,length(depthr)))\n",
    "@show size(RL3D)"
   ]
  },
  {
   "cell_type": "markdown",
   "metadata": {},
   "source": [
    "Parameter `len` for diva3d is then:"
   ]
  },
  {
   "cell_type": "code",
   "execution_count": null,
   "metadata": {
    "collapsed": true
   },
   "outputs": [],
   "source": [
    "len = (RL3D,RL3D,RL3D);"
   ]
  },
  {
   "cell_type": "markdown",
   "metadata": {},
   "source": [
    "if the option `fitcorrlen` is true, internally diva3d will multiply the relative correlation length with the result of `fithorzcorr` and `fithvertcorr`. If fitting is not activated you have to multiply yourself the relative length scales by appropriate values"
   ]
  }
 ],
 "metadata": {
  "kernelspec": {
   "display_name": "Julia 1.0.0",
   "language": "julia",
   "name": "julia-1.0"
  },
  "language_info": {
   "file_extension": ".jl",
   "mimetype": "application/julia",
   "name": "julia",
   "version": "1.0.0"
  }
 },
 "nbformat": 4,
 "nbformat_minor": 2
}
