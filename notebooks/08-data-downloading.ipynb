{
 "cells": [
  {
   "cell_type": "markdown",
   "metadata": {},
   "source": [
    "# Automatic data downloading\n",
    "\n",
    "* In this example we will show how one can download data from a jupyter notebook.\n",
    "* The [PhysOcean](https://github.com/gher-ulg/PhysOcean.jl) module provides ways to automatically download data from the [World Ocean Database](https://www.nodc.noaa.gov/OC5/WOD/pr_wod.html) and from [CMEMS](http://marine.copernicus.eu/) In-Situ TAC.\n",
    "\n",
    "This module can be installed by: \n",
    "\n",
    "```julia\n",
    "Pkg.add(\"PhysOcean\")\n",
    "```\n",
    "or if you use Julia 0.7 or later, using the [package REPL](https://docs.julialang.org/en/v1/stdlib/Pkg/#Getting-Started-1)."
   ]
  },
  {
   "cell_type": "code",
   "execution_count": 1,
   "metadata": {
    "slideshow": {
     "slide_type": "fragment"
    }
   },
   "outputs": [
    {
     "name": "stderr",
     "output_type": "stream",
     "text": [
      "\u001b[1m\u001b[36mINFO: \u001b[39m\u001b[22m\u001b[36mRecompiling stale cache file /home/ctroupin/.julia/lib/v0.6/PyPlot.ji for module PyPlot.\n",
      "\u001b[39m\u001b[1m\u001b[36mINFO: \u001b[39m\u001b[22m\u001b[36mPrecompiling module PhysOcean.\n",
      "\u001b[39m\u001b[1m\u001b[36mINFO: \u001b[39m\u001b[22m\u001b[36mRecompiling stale cache file /home/ctroupin/.julia/lib/v0.6/WoodburyMatrices.ji for module WoodburyMatrices.\n",
      "\u001b[39m\u001b[1m\u001b[36mINFO: \u001b[39m\u001b[22m\u001b[36mRecompiling stale cache file /home/ctroupin/.julia/lib/v0.6/Interpolations.ji for module Interpolations.\n",
      "\u001b[39m\u001b[1m\u001b[36mINFO: \u001b[39m\u001b[22m\u001b[36mRecompiling stale cache file /home/ctroupin/.julia/lib/v0.6/SpecialFunctions.ji for module SpecialFunctions.\n",
      "\u001b[39m\u001b[1m\u001b[36mINFO: \u001b[39m\u001b[22m\u001b[36mRecompiling stale cache file /home/ctroupin/.julia/lib/v0.6/Mustache.ji for module Mustache.\n",
      "\u001b[39m\u001b[1m\u001b[36mINFO: \u001b[39m\u001b[22m\u001b[36mRecompiling stale cache file /home/ctroupin/.julia/lib/v0.6/ZipFile.ji for module ZipFile.\n",
      "\u001b[39m\u001b[1m\u001b[36mINFO: \u001b[39m\u001b[22m\u001b[36mRecompiling stale cache file /home/ctroupin/.julia/lib/v0.6/EzXML.ji for module EzXML.\n",
      "\u001b[39m"
     ]
    }
   ],
   "source": [
    "using PyPlot              # Visualization package\n",
    "using PhysOcean           # Download data from the World Ocean Database\n",
    "using DIVAnd              # DIVAnd \n",
    "if VERSION >= v\"0.7.0-beta.0\"\n",
    "    using Dates\n",
    "    using Statistics\n",
    "else\n",
    "    using Compat: @info, @warn, @debug\n",
    "end\n",
    "using Compat"
   ]
  },
  {
   "cell_type": "markdown",
   "metadata": {},
   "source": [
    "## Settings\n",
    "Define the time and geospatial bounding box for downloading the data"
   ]
  },
  {
   "cell_type": "code",
   "execution_count": 6,
   "metadata": {
    "slideshow": {
     "slide_type": "subslide"
    }
   },
   "outputs": [
    {
     "data": {
      "text/plain": [
       "2-element Array{Date,1}:\n",
       " 2010-01-01\n",
       " 2010-06-30"
      ]
     },
     "execution_count": 6,
     "metadata": {},
     "output_type": "execute_result"
    }
   ],
   "source": [
    "# resolution (the resolution is only used for DIVAnd analyses)\n",
    "dx = dy = 0.25   # medium size test \n",
    "\n",
    "# vectors defining the longitude and latitudes grids\n",
    "# Here longitude and latitude correspond to the Mediterranean Sea\n",
    "lonr = 20:dx:35\n",
    "latr = -30:dy:-10\n",
    "\n",
    "# time range of the in-situ data\n",
    "timerange = [Date(2010,1,1),Date(2010,6,30)]"
   ]
  },
  {
   "cell_type": "code",
   "execution_count": 7,
   "metadata": {
    "slideshow": {
     "slide_type": "subslide"
    }
   },
   "outputs": [
    {
     "data": {
      "text/plain": [
       "\"Temperature\""
      ]
     },
     "execution_count": 7,
     "metadata": {},
     "output_type": "execute_result"
    }
   ],
   "source": [
    "# Name of the variable\n",
    "varname = \"Temperature\""
   ]
  },
  {
   "cell_type": "markdown",
   "metadata": {},
   "source": [
    "Please use your own email address (!) 😉     \n",
    "It is only use to get notified by mail once the dataset is ready."
   ]
  },
  {
   "cell_type": "code",
   "execution_count": 8,
   "metadata": {
    "slideshow": {
     "slide_type": "subslide"
    }
   },
   "outputs": [
    {
     "data": {
      "text/plain": [
       "\"ctroupin@uliege.be\""
      ]
     },
     "execution_count": 8,
     "metadata": {},
     "output_type": "execute_result"
    }
   ],
   "source": [
    "# Email for downloading the data\n",
    "# Indicate here your email address\n",
    "email = \"\""
   ]
  },
  {
   "cell_type": "markdown",
   "metadata": {},
   "source": [
    "Define the directory where the results will be saved.    \n",
    "The tilde ~ will be replaced (expanded) by your home user directory.      \n",
    "The command `mkpath` will create this path if necessary (including parent path)."
   ]
  },
  {
   "cell_type": "code",
   "execution_count": 9,
   "metadata": {
    "slideshow": {
     "slide_type": "subslide"
    }
   },
   "outputs": [],
   "source": [
    "basedir = expanduser(\"~/Downloads/WOD/CapeGhir2\")\n",
    "mkpath(basedir)"
   ]
  },
  {
   "cell_type": "markdown",
   "metadata": {
    "slideshow": {
     "slide_type": "slide"
    }
   },
   "source": [
    "## Download the data\n",
    "\n",
    "* World Ocean Database: example for bulk access data by simulating a web-user.\n",
    "* Downloading can take several tens of minutes.\n",
    "* SeaDataNet will provide a dedicated machine-to-machine interface during the SeaDataCloud project"
   ]
  },
  {
   "cell_type": "code",
   "execution_count": 10,
   "metadata": {},
   "outputs": [
    {
     "data": {
      "text/markdown": [
       "```\n",
       "dirnames,indexnames = WorldOceanDatabase.download(lonrange,latrange,timerange,\n",
       "  variable,email,basedir)\n",
       "```\n",
       "\n",
       "Download data using the NODC web-service. The range parameters are vectors from with the frist element is the lower bound and the last element is the upper bound. The parameters of the functions will be transmitted to nodc.noaa.gov (http://www.noaa.gov/privacy.html). Note that no XBT corrections are applied. The table below show the avialable variable and their units.\n",
       "\n",
       "Example:\n",
       "\n",
       "dirnames,indexnames = WorldOceanDatabase.download([0,10],[30,40],     [DateTime(2000,1,1),DateTime(2000,2,1)],     \"Temperature\",\"your@email.com,\"/tmp\")\n",
       "\n",
       "| Variables                          | Unit     |\n",
       "|:---------------------------------- |:-------- |\n",
       "| Temperature                        | °C       |\n",
       "| Salinity                           | unitless |\n",
       "| Oxygen                             | ml l⁻¹   |\n",
       "| Phosphate                          | µM       |\n",
       "| Silicate                           | µM       |\n",
       "| Nitrate and Nitrate+Nitrite        | µM       |\n",
       "| pH                                 | unitless |\n",
       "| Chlorophyll                        | µg l⁻¹   |\n",
       "| Plankton                           | multiple |\n",
       "| Alkalinity                         | meq l⁻¹  |\n",
       "| Partial Pressure of Carbon Dioxide | µatm     |\n",
       "| Dissolved Inorganic Carbon         | mM       |\n",
       "| Transmissivity                     | m⁻¹      |\n",
       "| Pressure                           | dbar     |\n",
       "| Air temperature                    | °C       |\n",
       "| CO2 warming                        | °C       |\n",
       "| CO2 atmosphere                     | ppm      |\n",
       "| Air pressure                       | mbar     |\n",
       "| Tritium                            | TU       |\n",
       "| Helium                             | nM       |\n",
       "| Delta Helium-3                     | %        |\n",
       "| Delta Carbon-14                    | ᵒ/ᵒᵒ     |\n",
       "| Delta Carbon-13                    | ᵒ/ᵒᵒ     |\n",
       "| Argon                              | nM       |\n",
       "| Neon                               | nM       |\n",
       "| Chlorofluorocarbon 11 (CFC 11)     | pM       |\n",
       "| Chlorofluorocarbon 12 (CFC 12)     | pM       |\n",
       "| Chlorofluorocarbon 113 (CFC 113)   | pM       |\n",
       "| Delta Oxygen-18                    | ᵒ/ᵒᵒ     |\n"
      ],
      "text/plain": [
       "```\n",
       "dirnames,indexnames = WorldOceanDatabase.download(lonrange,latrange,timerange,\n",
       "  variable,email,basedir)\n",
       "```\n",
       "\n",
       "Download data using the NODC web-service. The range parameters are vectors from with the frist element is the lower bound and the last element is the upper bound. The parameters of the functions will be transmitted to nodc.noaa.gov (http://www.noaa.gov/privacy.html). Note that no XBT corrections are applied. The table below show the avialable variable and their units.\n",
       "\n",
       "Example:\n",
       "\n",
       "dirnames,indexnames = WorldOceanDatabase.download([0,10],[30,40],     [DateTime(2000,1,1),DateTime(2000,2,1)],     \"Temperature\",\"your@email.com,\"/tmp\")\n",
       "\n",
       "| Variables                          | Unit     |\n",
       "|:---------------------------------- |:-------- |\n",
       "| Temperature                        | °C       |\n",
       "| Salinity                           | unitless |\n",
       "| Oxygen                             | ml l⁻¹   |\n",
       "| Phosphate                          | µM       |\n",
       "| Silicate                           | µM       |\n",
       "| Nitrate and Nitrate+Nitrite        | µM       |\n",
       "| pH                                 | unitless |\n",
       "| Chlorophyll                        | µg l⁻¹   |\n",
       "| Plankton                           | multiple |\n",
       "| Alkalinity                         | meq l⁻¹  |\n",
       "| Partial Pressure of Carbon Dioxide | µatm     |\n",
       "| Dissolved Inorganic Carbon         | mM       |\n",
       "| Transmissivity                     | m⁻¹      |\n",
       "| Pressure                           | dbar     |\n",
       "| Air temperature                    | °C       |\n",
       "| CO2 warming                        | °C       |\n",
       "| CO2 atmosphere                     | ppm      |\n",
       "| Air pressure                       | mbar     |\n",
       "| Tritium                            | TU       |\n",
       "| Helium                             | nM       |\n",
       "| Delta Helium-3                     | %        |\n",
       "| Delta Carbon-14                    | ᵒ/ᵒᵒ     |\n",
       "| Delta Carbon-13                    | ᵒ/ᵒᵒ     |\n",
       "| Argon                              | nM       |\n",
       "| Neon                               | nM       |\n",
       "| Chlorofluorocarbon 11 (CFC 11)     | pM       |\n",
       "| Chlorofluorocarbon 12 (CFC 12)     | pM       |\n",
       "| Chlorofluorocarbon 113 (CFC 113)   | pM       |\n",
       "| Delta Oxygen-18                    | ᵒ/ᵒᵒ     |\n"
      ]
     },
     "execution_count": 10,
     "metadata": {},
     "output_type": "execute_result"
    }
   ],
   "source": [
    "?WorldOceanDatabase.download"
   ]
  },
  {
   "cell_type": "code",
   "execution_count": 11,
   "metadata": {
    "slideshow": {
     "slide_type": "fragment"
    }
   },
   "outputs": [
    {
     "name": "stdout",
     "output_type": "stream",
     "text": [
      "XBT is now available\n",
      "PFL is now available\n"
     ]
    },
    {
     "name": "stderr",
     "output_type": "stream",
     "text": [
      "  % Total    % Received % Xferd  Average Speed   Time    Time     Time  Current\n",
      "                                 Dload  Upload   Total   Spent    Left  Speed\n",
      "100  137k  100  137k    0     0  89638      0  0:00:01  0:00:01 --:--:-- 89683\n",
      "  % Total    % Received % Xferd  Average Speed   Time    Time     Time  Current\n",
      "                                 Dload  Upload   Total   Spent    Left  Speed\n",
      "100 17650  100 17650    0     0  15893      0  0:00:01  0:00:01 --:--:-- 15900\n",
      "\u001b[1m\u001b[36mINFO: \u001b[39m\u001b[22m\u001b[36mExtracting /home/ctroupin/Downloads/WOD/CapeGhir2/XBT\n",
      "\u001b[39m\u001b[1m\u001b[36mINFO: \u001b[39m\u001b[22m\u001b[36mExtracting /home/ctroupin/Downloads/WOD/CapeGhir2/PFL\n",
      "\u001b[39m"
     ]
    }
   ],
   "source": [
    "WorldOceanDatabase.download(lonr,latr,timerange,varname,email,basedir);"
   ]
  },
  {
   "cell_type": "markdown",
   "metadata": {
    "slideshow": {
     "slide_type": "slide"
    }
   },
   "source": [
    "# Load data\n",
    "Load the data into memory and perform (potentially) an additional subsetting"
   ]
  },
  {
   "cell_type": "code",
   "execution_count": 8,
   "metadata": {
    "collapsed": true,
    "slideshow": {
     "slide_type": "fragment"
    }
   },
   "outputs": [],
   "source": [
    "# load all data under basedir as a double-precision floating point variable\n",
    "obsval,obslon,obslat,obsdepth,obstime,obsid = WorldOceanDatabase.load(Float64,basedir,varname);"
   ]
  },
  {
   "cell_type": "markdown",
   "metadata": {},
   "source": [
    "Number of data points"
   ]
  },
  {
   "cell_type": "code",
   "execution_count": 9,
   "metadata": {},
   "outputs": [
    {
     "name": "stdout",
     "output_type": "stream",
     "text": [
      "size(obsval) = (937798,)\n"
     ]
    }
   ],
   "source": [
    "@show size(obsval);"
   ]
  },
  {
   "cell_type": "markdown",
   "metadata": {},
   "source": [
    "Check some observation IDs"
   ]
  },
  {
   "cell_type": "code",
   "execution_count": 10,
   "metadata": {},
   "outputs": [
    {
     "name": "stdout",
     "output_type": "stream",
     "text": [
      "obsid[1] = \"wod_018566900O\"\n",
      "obsid[2] = \"wod_018566900O\"\n"
     ]
    }
   ],
   "source": [
    "@show obsid[1];\n",
    "@show obsid[2];"
   ]
  },
  {
   "cell_type": "markdown",
   "metadata": {},
   "source": [
    "With `checkobs` we get an overview of the extremal values of each dimension and variable."
   ]
  },
  {
   "cell_type": "code",
   "execution_count": 11,
   "metadata": {},
   "outputs": [
    {
     "name": "stderr",
     "output_type": "stream",
     "text": [
      "┌ Info: Checking ranges for dimensions and observations\n",
      "└ @ DIVAnd /home/ctroupin/.julia/packages/DIVAnd/OWNKi/src/obsstat.jl:75\n"
     ]
    },
    {
     "name": "stdout",
     "output_type": "stream",
     "text": [
      "              minimum and maximum of obs. dimension 1: (-6.86899995803833, 36.989349365234375)\n",
      "              minimum and maximum of obs. dimension 2: (31.738000869750977, 45.922000885009766)\n",
      "              minimum and maximum of obs. dimension 3: (-0.0, 2009.5701904296875)\n",
      "              minimum and maximum of obs. dimension 4: (2016-01-01T00:00:00, 2016-03-31T23:54:21.959)\n",
      "                          minimum and maximum of data: (14.399999618530273, 39.38759994506836)\n"
     ]
    }
   ],
   "source": [
    "checkobs((obslon,obslat,obsdepth,obstime),obsval,obsid)"
   ]
  },
  {
   "cell_type": "markdown",
   "metadata": {},
   "source": [
    "## Additional sub-setting \n",
    "Based on time and depth for plotting.     \n",
    "For instance the month can be extracted from the `Date` using:"
   ]
  },
  {
   "cell_type": "code",
   "execution_count": 12,
   "metadata": {},
   "outputs": [
    {
     "data": {
      "text/plain": [
       "937798-element Array{Int64,1}:\n",
       " 1\n",
       " 1\n",
       " 1\n",
       " 1\n",
       " 1\n",
       " 1\n",
       " 1\n",
       " 1\n",
       " 1\n",
       " 1\n",
       " 1\n",
       " 1\n",
       " 1\n",
       " ⋮\n",
       " 3\n",
       " 3\n",
       " 3\n",
       " 3\n",
       " 3\n",
       " 3\n",
       " 3\n",
       " 3\n",
       " 3\n",
       " 3\n",
       " 3\n",
       " 3"
      ]
     },
     "execution_count": 12,
     "metadata": {},
     "output_type": "execute_result"
    }
   ],
   "source": [
    "Dates.month.(obstime)"
   ]
  },
  {
   "cell_type": "code",
   "execution_count": 13,
   "metadata": {},
   "outputs": [
    {
     "name": "stdout",
     "output_type": "stream",
     "text": [
      "typeof(sel) = BitArray{1}\n",
      "size(sel) = (937798,)\n"
     ]
    }
   ],
   "source": [
    "# depth range levels\n",
    "depthr = [0., 20.]\n",
    "\n",
    "# month range (January to March)\n",
    "timer = [1,3]\n",
    "\n",
    "# additional sub-setting and discard bogus negative salinities\n",
    "sel = ((obsval .> 0 )\n",
    "       .& (minimum(depthr) .<= obsdepth .<= maximum(depthr))\n",
    "       .& (minimum(timer) .<= Dates.month.(obstime) .<= maximum(timer)));\n",
    "\n",
    "@show typeof(sel);\n",
    "@show size(sel);"
   ]
  },
  {
   "cell_type": "markdown",
   "metadata": {},
   "source": [
    "The new variables (ending by `sel`) are a sub-selection based on the previous criteria."
   ]
  },
  {
   "cell_type": "code",
   "execution_count": 14,
   "metadata": {
    "collapsed": true,
    "slideshow": {
     "slide_type": "fragment"
    }
   },
   "outputs": [],
   "source": [
    "valsel = obsval[sel]\n",
    "lonsel = obslon[sel]\n",
    "latsel = obslat[sel]\n",
    "depthsel = obsdepth[sel]\n",
    "timesel = obstime[sel]\n",
    "idssel = obsid[sel];"
   ]
  },
  {
   "cell_type": "markdown",
   "metadata": {},
   "source": [
    "Let's perform again the check."
   ]
  },
  {
   "cell_type": "code",
   "execution_count": 15,
   "metadata": {},
   "outputs": [
    {
     "name": "stdout",
     "output_type": "stream",
     "text": [
      "              minimum and maximum of obs. dimension 1: (-6.86899995803833, 36.989349365234375)\n",
      "              minimum and maximum of obs. dimension 2: (31.738000869750977, 45.922000885009766)\n",
      "              minimum and maximum of obs. dimension 3: (-0.0, 19.999536514282227)\n",
      "              minimum and maximum of obs. dimension 4: (2016-01-01T00:00:00, 2016-03-31T23:54:21.959)\n",
      "                          minimum and maximum of data: (17.783000946044922, 39.38759994506836)\n"
     ]
    },
    {
     "name": "stderr",
     "output_type": "stream",
     "text": [
      "┌ Info: Checking ranges for dimensions and observations\n",
      "└ @ DIVAnd /home/ctroupin/.julia/packages/DIVAnd/OWNKi/src/obsstat.jl:75\n"
     ]
    }
   ],
   "source": [
    "checkobs((lonsel,latsel,depthsel,timesel),valsel,idssel)"
   ]
  },
  {
   "cell_type": "markdown",
   "metadata": {},
   "source": [
    "Number of selected data points"
   ]
  },
  {
   "cell_type": "code",
   "execution_count": 16,
   "metadata": {},
   "outputs": [
    {
     "data": {
      "text/plain": [
       "42051"
      ]
     },
     "execution_count": 16,
     "metadata": {},
     "output_type": "execute_result"
    }
   ],
   "source": [
    "length(valsel)"
   ]
  },
  {
   "cell_type": "markdown",
   "metadata": {},
   "source": [
    "## Bathymetry download \n",
    "For plotting purpose. See [06-topography](06-topography.ipynb) for details."
   ]
  },
  {
   "cell_type": "code",
   "execution_count": 17,
   "metadata": {},
   "outputs": [
    {
     "name": "stderr",
     "output_type": "stream",
     "text": [
      "┌ Info: Bathymetry file already downloaded\n",
      "└ @ Main In[17]:6\n"
     ]
    },
    {
     "ename": "BoundsError",
     "evalue": "BoundsError: attempt to access 0-element StepRangeLen{Float64,Base.TwicePrecision{Float64},Base.TwicePrecision{Float64}} at index [2]",
     "output_type": "error",
     "traceback": [
      "BoundsError: attempt to access 0-element StepRangeLen{Float64,Base.TwicePrecision{Float64},Base.TwicePrecision{Float64}} at index [2]",
      "",
      "Stacktrace:",
      " [1] throw_boundserror(::StepRangeLen{Float64,Base.TwicePrecision{Float64},Base.TwicePrecision{Float64}}, ::Tuple{Int64}) at ./abstractarray.jl:484",
      " [2] checkbounds at ./abstractarray.jl:449 [inlined]",
      " [3] getindex at ./range.jl:619 [inlined]",
      " [4] extract_bath(::String, ::Bool, ::StepRangeLen{Float64,Base.TwicePrecision{Float64},Base.TwicePrecision{Float64}}, ::StepRangeLen{Float64,Base.TwicePrecision{Float64},Base.TwicePrecision{Float64}}) at /home/ctroupin/.julia/packages/DIVAnd/OWNKi/src/load_mask.jl:21",
      " [5] top-level scope at In[17]:10"
     ]
    }
   ],
   "source": [
    "bathname = \"data/gebco_30sec_16.nc\"\n",
    "\n",
    "if !isfile(bathname)\n",
    "    download(\"https://b2drop.eudat.eu/s/o0vinoQutAC7eb0/download\",bathname)\n",
    "else\n",
    "    @info(\"Bathymetry file already downloaded\")\n",
    "end\n",
    "\n",
    "bathisglobal = true\n",
    "\n",
    "# Extract the bathymetry for plotting\n",
    "bx,by,b = DIVAnd.extract_bath(bathname,bathisglobal,lonr,latr);"
   ]
  },
  {
   "cell_type": "markdown",
   "metadata": {},
   "source": [
    "Create a simple plot to show the domain."
   ]
  },
  {
   "cell_type": "code",
   "execution_count": 18,
   "metadata": {},
   "outputs": [
    {
     "ename": "UndefVarError",
     "evalue": "UndefVarError: b not defined",
     "output_type": "error",
     "traceback": [
      "UndefVarError: b not defined",
      "",
      "Stacktrace:",
      " [1] top-level scope at In[18]:1"
     ]
    }
   ],
   "source": [
    "pcolor(bx,by,permutedims(b, [2,1]))\n",
    "#contourf(bx,by,b', levels = [-1e5,0],colors = [[.5,.5,.5]])\n",
    "# compute and set the correct aspect ratio\n",
    "aspect_ratio = 1/cos(mean(latr) * pi/180)\n",
    "gca()[:set_aspect](aspect_ratio)\n",
    "colorbar(orientation = \"horizontal\");"
   ]
  },
  {
   "cell_type": "markdown",
   "metadata": {},
   "source": [
    "Plotting gotchas:\n",
    "* `colorbar()` refers to the last added item. If the last added item is the land-sea mask, the colorbar will be all gray.\n",
    "* maps look nicer if you set the corresponding aspect ratio based on the average latitude `mean(latr)`.\n",
    "\n",
    "## Data plotting\n",
    "The bathymetry is used to display a land-sea mask using the `contourf` function with 2 levels.      \n",
    "The data are shown as colored circles using `scatter`."
   ]
  },
  {
   "cell_type": "code",
   "execution_count": 19,
   "metadata": {},
   "outputs": [
    {
     "ename": "UndefVarError",
     "evalue": "UndefVarError: b not defined",
     "output_type": "error",
     "traceback": [
      "UndefVarError: b not defined",
      "",
      "Stacktrace:",
      " [1] top-level scope at In[19]:1"
     ]
    }
   ],
   "source": [
    "contourf(bx,by,permutedims(b, [2,1]), levels = [-1e5,0],colors = [[.5,.5,.5]])\n",
    "scatter(lonsel,latsel,10,valsel); \n",
    "\n",
    "# compute and set the correct aspect ratio\n",
    "aspect_ratio = 1/cos(mean(latr) * pi/180)\n",
    "gca()[:set_aspect](aspect_ratio)\n",
    "colorbar(orientation = \"horizontal\");\n",
    "clim(36,37.7)"
   ]
  },
  {
   "cell_type": "markdown",
   "metadata": {},
   "source": [
    "# Check for duplicates\n",
    "\n",
    "There are two ways to call the function `checkduplicates`:"
   ]
  },
  {
   "cell_type": "code",
   "execution_count": 20,
   "metadata": {},
   "outputs": [
    {
     "data": {
      "text/markdown": [
       "```\n",
       "dupl = checkduplicates(x,value,delta,deltavalue)\n",
       "```\n",
       "\n",
       "Based the coordinates `x` (a tuple of longitude `lons`, latitudes `lats`, depth (`zs`) and time (`times` vector of `DateTime`)) check of points who are in the same spatio-temporal bounding  box of a length `delta`. `delta` is a vector with 4 elements corresponding to longitude, latitude, depth and time (in days). `dupl` a vector of vectors containing indices of the duplicates.\n",
       "\n",
       "---\n",
       "\n",
       "```\n",
       "dupl = checkduplicates(x1,value1,x2,v2,value2,delta,deltavalue)\n",
       "```\n",
       "\n",
       "Report duplicate of observation in data set (x2,v2) which are also in data set (x1,v1). `x1` and `x2` is a tuple of vectors with the cooridantes and `v1` and `v2` the corresponding values.\n"
      ],
      "text/plain": [
       "\u001b[36m  dupl = checkduplicates(x,value,delta,deltavalue)\u001b[39m\n",
       "\n",
       "  Based the coordinates \u001b[36mx\u001b[39m (a tuple of longitude \u001b[36mlons\u001b[39m, latitudes \u001b[36mlats\u001b[39m, depth\n",
       "  (\u001b[36mzs\u001b[39m) and time (\u001b[36mtimes\u001b[39m vector of \u001b[36mDateTime\u001b[39m)) check of points who are in the\n",
       "  same spatio-temporal bounding box of a length \u001b[36mdelta\u001b[39m. \u001b[36mdelta\u001b[39m is a vector with\n",
       "  4 elements corresponding to longitude, latitude, depth and time (in days).\n",
       "  \u001b[36mdupl\u001b[39m a vector of vectors containing indices of the duplicates.\n",
       "\n",
       "  ────────────────────────────────────────────────────────────────────────────\n",
       "\n",
       "\u001b[36m  dupl = checkduplicates(x1,value1,x2,v2,value2,delta,deltavalue)\u001b[39m\n",
       "\n",
       "  Report duplicate of observation in data set (x2,v2) which are also in data\n",
       "  set (x1,v1). \u001b[36mx1\u001b[39m and \u001b[36mx2\u001b[39m is a tuple of vectors with the cooridantes and \u001b[36mv1\u001b[39m and\n",
       "  \u001b[36mv2\u001b[39m the corresponding values."
      ]
     },
     "execution_count": 20,
     "metadata": {},
     "output_type": "execute_result"
    }
   ],
   "source": [
    "?DIVAnd.Quadtrees.checkduplicates"
   ]
  },
  {
   "cell_type": "markdown",
   "metadata": {},
   "source": [
    "We load a small ODV file containing data in the same domain to test the duplicate detection.     \n",
    "We use the function `ODVspreadsheet.load` available within `DIVAnd.jl`."
   ]
  },
  {
   "cell_type": "code",
   "execution_count": 21,
   "metadata": {},
   "outputs": [
    {
     "name": "stderr",
     "output_type": "stream",
     "text": [
      "  % Total    % Received % Xferd  Average Speed   Time    Time     Time  Current\n",
      "                                 Dload  Upload   Total   Spent    Left  Speed\n",
      "  0     0    0     0    0     0      0      0 --:--:-- --:--:-- --:--:--     0\n",
      "100 8163k  100 8163k    0     0   749k      0  0:00:10  0:00:10 --:--:--  764k\n"
     ]
    },
    {
     "data": {
      "text/plain": [
       "\"data/small_ODV_sample.txt\""
      ]
     },
     "execution_count": 21,
     "metadata": {},
     "output_type": "execute_result"
    }
   ],
   "source": [
    "download(\"https://tinyurl.com/ODV-sample\",\"data/small_ODV_sample.txt\")"
   ]
  },
  {
   "cell_type": "code",
   "execution_count": 22,
   "metadata": {},
   "outputs": [
    {
     "data": {
      "text/markdown": [
       "```\n",
       " profiles,lons,lats,depths,times,ids = load(T,fnames,datanames;\n",
       "    qv_flags = [DIVAnd.ODVspreadsheet.GOOD_VALUE,\n",
       "                DIVAnd.ODVspreadsheet.PROBABLY_GOOD_VALUE],\n",
       "    nametype = :P01,\n",
       "    qvlocalname = \"QV:SEADATANET\")\n",
       "```\n",
       "\n",
       "Load all profiles in all file from the array `fnames` corresponding to one of the parameter names `datanames`. If `nametype` is `:P01` (default), the datanames are P01 vocabulary names with the SDN prefix. If nametype is `:localname`, then they are the ODV column header without units. For example if the column header is `Water body salinity [per mille]`, then `datenames` should be `[\"Water body salinity\"]`. The resulting vectors have the data type `T` (expect `times` and `ids` which are vectors of `DateTime` and `String` respectively). Only values matching the quality flag `qv_flags` are retained. `qv_flags` is a vector of Strings (based on http://vocab.nerc.ac.uk/collection/L20/current/, e.g. \"1\" means \"good value\"). One can also use the constants these constants (prefixed with `DIVAnd.ODVspreadsheet.`):\n",
       "\n",
       "`qvlocalname` is the column name to denote quality flags. It is assumed that the quality flags follow immediatly the data column.\n",
       "\n",
       "|                   constant | value |\n",
       "| --------------------------:| -----:|\n",
       "|         NO*QUALITY*CONTROL |   \"0\" |\n",
       "|                 GOOD_VALUE |   \"1\" |\n",
       "|        PROBABLY*GOOD*VALUE |   \"2\" |\n",
       "|         PROBABLY*BAD*VALUE |   \"3\" |\n",
       "|                  BAD_VALUE |   \"4\" |\n",
       "|              CHANGED_VALUE |   \"5\" |\n",
       "|      VALUE*BELOW*DETECTION |   \"6\" |\n",
       "|            VALUE*IN*EXCESS |   \"7\" |\n",
       "|         INTERPOLATED_VALUE |   \"8\" |\n",
       "|              MISSING_VALUE |   \"9\" |\n",
       "| VALUE*PHENOMENON*UNCERTAIN |   \"A\" |\n",
       "\n",
       "If the ODV does not contain a semantic header (e.g. for the aggregated ODV files), then local names must be used.\n",
       "\n",
       "```julia-repl\n",
       "julia> data,lon,lat,depth,time,ids = DIVAnd.ODVspreadsheet.load(Float64,[\"data_from_med_profiles_non-restricted_v2.txt\"],\n",
       "      [\"Water body salinity\"]; nametype = :localname );\n",
       "```\n",
       "\n",
       "No checks are done if the units are consistent.\n",
       "\n",
       "---\n",
       "\n",
       "```\n",
       " profiles,lons,lats,depths,times,ids = load(T,dir,P01names)\n",
       "```\n",
       "\n",
       "Load all ODV files under the directory `dir` corresponding the one of the parameter names `P01names`. The resulting vectors have the data type `T` (expect `times` and `ids` which are vectors of `DateTime` and `String` respectively).\n",
       "\n",
       "No checks are done if the units are consistent.\n"
      ],
      "text/plain": [
       "\u001b[36m   profiles,lons,lats,depths,times,ids = load(T,fnames,datanames;\u001b[39m\n",
       "\u001b[36m      qv_flags = [DIVAnd.ODVspreadsheet.GOOD_VALUE,\u001b[39m\n",
       "\u001b[36m                  DIVAnd.ODVspreadsheet.PROBABLY_GOOD_VALUE],\u001b[39m\n",
       "\u001b[36m      nametype = :P01,\u001b[39m\n",
       "\u001b[36m      qvlocalname = \"QV:SEADATANET\")\u001b[39m\n",
       "\n",
       "  Load all profiles in all file from the array \u001b[36mfnames\u001b[39m corresponding to one of\n",
       "  the parameter names \u001b[36mdatanames\u001b[39m. If \u001b[36mnametype\u001b[39m is \u001b[36m:P01\u001b[39m (default), the datanames\n",
       "  are P01 vocabulary names with the SDN prefix. If nametype is \u001b[36m:localname\u001b[39m,\n",
       "  then they are the ODV column header without units. For example if the column\n",
       "  header is \u001b[36mWater body salinity [per mille]\u001b[39m, then \u001b[36mdatenames\u001b[39m should be \u001b[36m[\"Water\n",
       "  body salinity\"]\u001b[39m. The resulting vectors have the data type \u001b[36mT\u001b[39m (expect \u001b[36mtimes\u001b[39m\n",
       "  and \u001b[36mids\u001b[39m which are vectors of \u001b[36mDateTime\u001b[39m and \u001b[36mString\u001b[39m respectively). Only values\n",
       "  matching the quality flag \u001b[36mqv_flags\u001b[39m are retained. \u001b[36mqv_flags\u001b[39m is a vector of\n",
       "  Strings (based on http://vocab.nerc.ac.uk/collection/L20/current/, e.g. \"1\"\n",
       "  means \"good value\"). One can also use the constants these constants\n",
       "  (prefixed with \u001b[36mDIVAnd.ODVspreadsheet.\u001b[39m):\n",
       "\n",
       "  \u001b[36mqvlocalname\u001b[39m is the column name to denote quality flags. It is assumed that\n",
       "  the quality flags follow immediatly the data column.\n",
       "\n",
       "                constant value\n",
       "–––––––––––––––––––––––– –––––\n",
       "        NO\u001b[4mQUALITY\u001b[24mCONTROL   \"0\"\n",
       "              GOOD_VALUE   \"1\"\n",
       "       PROBABLY\u001b[4mGOOD\u001b[24mVALUE   \"2\"\n",
       "        PROBABLY\u001b[4mBAD\u001b[24mVALUE   \"3\"\n",
       "               BAD_VALUE   \"4\"\n",
       "           CHANGED_VALUE   \"5\"\n",
       "     VALUE\u001b[4mBELOW\u001b[24mDETECTION   \"6\"\n",
       "           VALUE\u001b[4mIN\u001b[24mEXCESS   \"7\"\n",
       "      INTERPOLATED_VALUE   \"8\"\n",
       "           MISSING_VALUE   \"9\"\n",
       "VALUE\u001b[4mPHENOMENON\u001b[24mUNCERTAIN   \"A\"\n",
       "\n",
       "  If the ODV does not contain a semantic header (e.g. for the aggregated ODV\n",
       "  files), then local names must be used.\n",
       "\n",
       "\u001b[36m  julia> data,lon,lat,depth,time,ids = DIVAnd.ODVspreadsheet.load(Float64,[\"data_from_med_profiles_non-restricted_v2.txt\"],\u001b[39m\n",
       "\u001b[36m        [\"Water body salinity\"]; nametype = :localname );\u001b[39m\n",
       "\n",
       "  No checks are done if the units are consistent.\n",
       "\n",
       "  ────────────────────────────────────────────────────────────────────────────\n",
       "\n",
       "\u001b[36m   profiles,lons,lats,depths,times,ids = load(T,dir,P01names)\u001b[39m\n",
       "\n",
       "  Load all ODV files under the directory \u001b[36mdir\u001b[39m corresponding the one of the\n",
       "  parameter names \u001b[36mP01names\u001b[39m. The resulting vectors have the data type \u001b[36mT\u001b[39m (expect\n",
       "  \u001b[36mtimes\u001b[39m and \u001b[36mids\u001b[39m which are vectors of \u001b[36mDateTime\u001b[39m and \u001b[36mString\u001b[39m respectively).\n",
       "\n",
       "  No checks are done if the units are consistent."
      ]
     },
     "execution_count": 22,
     "metadata": {},
     "output_type": "execute_result"
    }
   ],
   "source": [
    "?ODVspreadsheet.load"
   ]
  },
  {
   "cell_type": "code",
   "execution_count": 23,
   "metadata": {},
   "outputs": [
    {
     "name": "stderr",
     "output_type": "stream",
     "text": [
      "┌ Info: Reading data from file small_ODV_sample.txt\n",
      "└ @ DIVAnd.ODVspreadsheet /home/ctroupin/.julia/packages/DIVAnd/OWNKi/src/ODVspreadsheet.jl:81\n",
      "┌ Info: No. of profiles in the file: 71\n",
      "└ @ DIVAnd.ODVspreadsheet /home/ctroupin/.julia/packages/DIVAnd/OWNKi/src/ODVspreadsheet.jl:250\n"
     ]
    }
   ],
   "source": [
    "obsval_ODV,obslon_ODV,obslat_ODV,obsdepth_ODV,obstime_ODV,obsid_ODV = ODVspreadsheet.load(Float64,[\"small_ODV_sample.txt\"],\n",
    "                           [\"Water body salinity\"]; nametype = :localname );"
   ]
  },
  {
   "cell_type": "markdown",
   "metadata": {},
   "source": [
    "Look for duplicates\n",
    "* within 0.01 degree (about 1km)\n",
    "* within 0.01 m depth\n",
    "* within 1 minute.      \n",
    "\n",
    "Difference in value is 0.01 psu."
   ]
  },
  {
   "cell_type": "code",
   "execution_count": 24,
   "metadata": {
    "collapsed": true
   },
   "outputs": [],
   "source": [
    "dupl = DIVAnd.Quadtrees.checkduplicates((obslon_ODV,obslat_ODV,obsdepth_ODV,obstime_ODV),\n",
    "    obsval_ODV,(obslon,obslat,obsdepth,obstime),\n",
    "    obsval,(0.01,0.01,0.01,1/(24*60)),0.01);"
   ]
  },
  {
   "cell_type": "code",
   "execution_count": 25,
   "metadata": {},
   "outputs": [
    {
     "data": {
      "text/plain": [
       "true"
      ]
     },
     "execution_count": 25,
     "metadata": {},
     "output_type": "execute_result"
    }
   ],
   "source": [
    "size(obsval) == size(dupl)"
   ]
  },
  {
   "cell_type": "markdown",
   "metadata": {},
   "source": [
    "* `dupl` is an array of the same length as `obsval`\n",
    "* If the i-th element of `dupl` is an empty list, then the i-th element in `obsval` is probably not a duplicate\n",
    "* Otherwise, the i-th element in `obsval` is probably a duplicate of the element `val_ODV` with the indices `dupl[i]`."
   ]
  },
  {
   "cell_type": "code",
   "execution_count": 26,
   "metadata": {},
   "outputs": [
    {
     "data": {
      "text/plain": [
       "0-element Array{Int64,1}"
      ]
     },
     "execution_count": 26,
     "metadata": {},
     "output_type": "execute_result"
    }
   ],
   "source": [
    "dupl[1]"
   ]
  },
  {
   "cell_type": "markdown",
   "metadata": {},
   "source": [
    "To get a list of possible duplicates, we check for the elements of `dupl` that are not empty."
   ]
  },
  {
   "cell_type": "code",
   "execution_count": 27,
   "metadata": {},
   "outputs": [
    {
     "data": {
      "text/plain": [
       "0-element Array{Int64,1}"
      ]
     },
     "execution_count": 27,
     "metadata": {},
     "output_type": "execute_result"
    }
   ],
   "source": [
    "index = findall(.!isempty.(dupl))"
   ]
  },
  {
   "cell_type": "markdown",
   "metadata": {},
   "source": [
    "Number of duplicate candidates"
   ]
  },
  {
   "cell_type": "code",
   "execution_count": 28,
   "metadata": {},
   "outputs": [
    {
     "data": {
      "text/plain": [
       "0"
      ]
     },
     "execution_count": 28,
     "metadata": {},
     "output_type": "execute_result"
    }
   ],
   "source": [
    "length(index)"
   ]
  },
  {
   "cell_type": "markdown",
   "metadata": {},
   "source": [
    "Check the first reported duplicate"
   ]
  },
  {
   "cell_type": "code",
   "execution_count": 29,
   "metadata": {},
   "outputs": [
    {
     "name": "stderr",
     "output_type": "stream",
     "text": [
      "┌ Info: No duplicate detected\n",
      "└ @ Main In[29]:4\n"
     ]
    }
   ],
   "source": [
    "if length(index) > 0\n",
    "    index_WOD = index[1]\n",
    "else\n",
    "    @info(\"No duplicate detected\")\n",
    "end"
   ]
  },
  {
   "cell_type": "markdown",
   "metadata": {},
   "source": [
    "Show its coordinates and value from the ODV file:"
   ]
  },
  {
   "cell_type": "code",
   "execution_count": 30,
   "metadata": {},
   "outputs": [
    {
     "ename": "UndefVarError",
     "evalue": "UndefVarError: index_WOD not defined",
     "output_type": "error",
     "traceback": [
      "UndefVarError: index_WOD not defined",
      "",
      "Stacktrace:",
      " [1] top-level scope at In[30]:1"
     ]
    }
   ],
   "source": [
    "obslon[index_WOD],obslat[index_WOD],obsdepth[index_WOD],obstime[index_WOD],obsval[index_WOD]"
   ]
  },
  {
   "cell_type": "markdown",
   "metadata": {},
   "source": [
    "They are quite close to the data point with the index:"
   ]
  },
  {
   "cell_type": "code",
   "execution_count": 31,
   "metadata": {},
   "outputs": [
    {
     "ename": "UndefVarError",
     "evalue": "UndefVarError: index_WOD not defined",
     "output_type": "error",
     "traceback": [
      "UndefVarError: index_WOD not defined",
      "",
      "Stacktrace:",
      " [1] top-level scope at In[31]:1"
     ]
    }
   ],
   "source": [
    "dupl[index_WOD]"
   ]
  },
  {
   "cell_type": "code",
   "execution_count": 32,
   "metadata": {},
   "outputs": [
    {
     "ename": "UndefVarError",
     "evalue": "UndefVarError: index_WOD not defined",
     "output_type": "error",
     "traceback": [
      "UndefVarError: index_WOD not defined",
      "",
      "Stacktrace:",
      " [1] top-level scope at In[32]:1"
     ]
    }
   ],
   "source": [
    "index_ODV = dupl[index_WOD][1]"
   ]
  },
  {
   "cell_type": "code",
   "execution_count": 33,
   "metadata": {},
   "outputs": [
    {
     "ename": "UndefVarError",
     "evalue": "UndefVarError: index_ODV not defined",
     "output_type": "error",
     "traceback": [
      "UndefVarError: index_ODV not defined",
      "",
      "Stacktrace:",
      " [1] top-level scope at In[33]:1"
     ]
    }
   ],
   "source": [
    "obslon_ODV[index_ODV],obslat_ODV[index_ODV],\n",
    "obsdepth_ODV[index_ODV],obstime_ODV[index_ODV],\n",
    "obsval_ODV[index_ODV]"
   ]
  },
  {
   "cell_type": "markdown",
   "metadata": {},
   "source": [
    "Indeed, it is quite likely that they are duplicates.\n",
    "\n",
    "Combine the dataset and retain only new points from WOD"
   ]
  },
  {
   "cell_type": "code",
   "execution_count": 34,
   "metadata": {
    "collapsed": true
   },
   "outputs": [],
   "source": [
    "#find(isempty.(dupl))"
   ]
  },
  {
   "cell_type": "code",
   "execution_count": 35,
   "metadata": {},
   "outputs": [
    {
     "name": "stdout",
     "output_type": "stream",
     "text": [
      "length(newpoints) = 937798\n"
     ]
    },
    {
     "data": {
      "text/plain": [
       "937798"
      ]
     },
     "execution_count": 35,
     "metadata": {},
     "output_type": "execute_result"
    }
   ],
   "source": [
    "newpoints = findall(isempty.(dupl));\n",
    "@show length(newpoints)"
   ]
  },
  {
   "cell_type": "code",
   "execution_count": 36,
   "metadata": {
    "collapsed": true
   },
   "outputs": [],
   "source": [
    "obslon_combined   = [obslon_ODV;   obslon[newpoints]];\n",
    "obslat_combined   = [obslat_ODV;   obslat[newpoints]];\n",
    "obsdepth_combined = [obsdepth_ODV; obsdepth[newpoints]];\n",
    "obstime_combined  = [obstime_ODV;  obstime[newpoints]];\n",
    "obsval_combined   = [obsval_ODV;   obsval[newpoints]];\n",
    "obsids_combined   = [obsid_ODV;   obsid[newpoints]];"
   ]
  },
  {
   "cell_type": "markdown",
   "metadata": {},
   "source": [
    "## CMEMS data download\n",
    "The function works in a similar way."
   ]
  },
  {
   "cell_type": "code",
   "execution_count": 37,
   "metadata": {},
   "outputs": [
    {
     "data": {
      "text/markdown": [
       "```\n",
       "CMEMS.download(lonr,latr,timerange,param,username,password,basedir[; indexURLs = ...])\n",
       "```\n",
       "\n",
       "Download in situ data within the longitude range `lonr` (an array or tuple with two elements: the minimum longitude and the maximum longitude), the latitude range `latr` (likewise), time range `timerange` (an array or tuple with two `DateTime` structures: the starting date and the end date) from the CMEMS (Copernicus Marine environment monitoring service) in situ service [^1]. `param` is one of the parameter codes as defined in [^2] or [^3]. `username` and `password` are the credentials to access data [^1] and `basedir` is the directory under which the data is saved. `indexURLs` is a list of the URL to the `index_history.txt` file. Per default, it includes the URLs of the Baltic, Arctic, North West Shelf, Iberian, Mediteranean and Black Sea Thematic Assembly Center.\n",
       "\n",
       "As these URLs might change, the latest version of the URLs to the indexes can be obtained at [^1].\n",
       "\n",
       "# Example\n",
       "\n",
       "```julia-repl\n",
       "julia> username = \"...\"\n",
       "julia> password = \"...\"\n",
       "julia> lonr = [7.6, 12.2]\n",
       "julia> latr = [42, 44.5]\n",
       "julia> timerange = [DateTime(2016,5,1),DateTime(2016,8,1)]\n",
       "julia> param = \"TEMP\"\n",
       "julia> basedir = \"/tmp\"\n",
       "julia> files = CMEMS.download(lonr,latr,timerange,param,username,password,basedir)\n",
       "```\n",
       "\n",
       "[^1]: http://marine.copernicus.eu/\n",
       "\n",
       "[^2]: http://www.coriolis.eu.org/Documentation/General-Informations-on-Data/Codes-Tables\n",
       "\n",
       "[^3]: http://doi.org/10.13155/40846\n"
      ],
      "text/plain": [
       "\u001b[36m  CMEMS.download(lonr,latr,timerange,param,username,password,basedir[; indexURLs = ...])\u001b[39m\n",
       "\n",
       "  Download in situ data within the longitude range \u001b[36mlonr\u001b[39m (an array or tuple\n",
       "  with two elements: the minimum longitude and the maximum longitude), the\n",
       "  latitude range \u001b[36mlatr\u001b[39m (likewise), time range \u001b[36mtimerange\u001b[39m (an array or tuple with\n",
       "  two \u001b[36mDateTime\u001b[39m structures: the starting date and the end date) from the CMEMS\n",
       "  (Copernicus Marine environment monitoring service) in situ service \u001b[1m[^1]\u001b[22m.\n",
       "  \u001b[36mparam\u001b[39m is one of the parameter codes as defined in \u001b[1m[^2]\u001b[22m or \u001b[1m[^3]\u001b[22m. \u001b[36musername\u001b[39m and\n",
       "  \u001b[36mpassword\u001b[39m are the credentials to access data \u001b[1m[^1]\u001b[22m and \u001b[36mbasedir\u001b[39m is the\n",
       "  directory under which the data is saved. \u001b[36mindexURLs\u001b[39m is a list of the URL to\n",
       "  the \u001b[36mindex_history.txt\u001b[39m file. Per default, it includes the URLs of the Baltic,\n",
       "  Arctic, North West Shelf, Iberian, Mediteranean and Black Sea Thematic\n",
       "  Assembly Center.\n",
       "\n",
       "  As these URLs might change, the latest version of the URLs to the indexes\n",
       "  can be obtained at \u001b[1m[^1]\u001b[22m.\n",
       "\n",
       "\u001b[1m  Example\u001b[22m\n",
       "\u001b[1m  ≡≡≡≡≡≡≡≡≡\u001b[22m\n",
       "\n",
       "\u001b[36m  julia> username = \"...\"\u001b[39m\n",
       "\u001b[36m  julia> password = \"...\"\u001b[39m\n",
       "\u001b[36m  julia> lonr = [7.6, 12.2]\u001b[39m\n",
       "\u001b[36m  julia> latr = [42, 44.5]\u001b[39m\n",
       "\u001b[36m  julia> timerange = [DateTime(2016,5,1),DateTime(2016,8,1)]\u001b[39m\n",
       "\u001b[36m  julia> param = \"TEMP\"\u001b[39m\n",
       "\u001b[36m  julia> basedir = \"/tmp\"\u001b[39m\n",
       "\u001b[36m  julia> files = CMEMS.download(lonr,latr,timerange,param,username,password,basedir)\u001b[39m\n",
       "\n",
       "  │ \u001b[0m\u001b[1m[^1]\u001b[22m\n",
       "  │\n",
       "  │  http://marine.copernicus.eu/\n",
       "\n",
       "  │ \u001b[0m\u001b[1m[^2]\u001b[22m\n",
       "  │\n",
       "  │  http://www.coriolis.eu.org/Documentation/General-Informations-on-Data/Codes-Tables\n",
       "\n",
       "  │ \u001b[0m\u001b[1m[^3]\u001b[22m\n",
       "  │\n",
       "  │  http://doi.org/10.13155/40846"
      ]
     },
     "execution_count": 37,
     "metadata": {},
     "output_type": "execute_result"
    }
   ],
   "source": [
    "?CMEMS.download"
   ]
  },
  {
   "cell_type": "markdown",
   "metadata": {},
   "source": [
    "## Exercice\n",
    "1. Download data from CMEMS in the same domain and for the same time period.\n",
    "2. Plot the data location on a map along with the WOD observations.\n",
    "3. Check for the duplicates between the two datasets."
   ]
  }
 ],
 "metadata": {
  "kernelspec": {
   "display_name": "Julia 1.0.0",
   "language": "julia",
   "name": "julia-1.0"
  },
  "language_info": {
   "file_extension": ".jl",
   "mimetype": "application/julia",
   "name": "julia",
   "version": "0.6.4"
  }
 },
 "nbformat": 4,
 "nbformat_minor": 2
}
