{
 "cells": [
  {
   "cell_type": "markdown",
   "metadata": {},
   "source": [
    "# Automatic data downloading\n",
    "\n",
    "* In this example we will show how one can download data from a jupyter notebook.\n",
    "* The [PhysOcean](https://github.com/gher-ulg/PhysOcean.jl) module provides ways to automatically download data from the [World Ocean Database](https://www.nodc.noaa.gov/OC5/WOD/pr_wod.html) and from [CMEMS](http://marine.copernicus.eu/) In-Situ TAC.\n",
    "\n",
    "This module can be installed by: \n",
    "\n",
    "```julia\n",
    "using Pkg\n",
    "Pkg.add(\"PhysOcean\")\n",
    "```\n"
   ]
  },
  {
   "cell_type": "code",
   "execution_count": 83,
   "metadata": {
    "slideshow": {
     "slide_type": "fragment"
    }
   },
   "outputs": [],
   "source": [
    "using PyPlot              # Visualization package\n",
    "using PhysOcean           # Download data from the World Ocean Database\n",
    "using DIVAnd              # DIVAnd \n",
    "using Dates\n",
    "using Statistics"
   ]
  },
  {
   "cell_type": "markdown",
   "metadata": {},
   "source": [
    "## Settings\n",
    "Define the time and geospatial bounding box for downloading the data"
   ]
  },
  {
   "cell_type": "code",
   "execution_count": 84,
   "metadata": {
    "slideshow": {
     "slide_type": "subslide"
    }
   },
   "outputs": [
    {
     "data": {
      "text/plain": [
       "2-element Array{Date,1}:\n",
       " 2016-01-01\n",
       " 2016-12-31"
      ]
     },
     "execution_count": 84,
     "metadata": {},
     "output_type": "execute_result"
    }
   ],
   "source": [
    "# resolution (the resolution is only used for DIVAnd analyses)\n",
    "dx = dy = 0.25   # medium size test \n",
    "\n",
    "# vectors defining the longitude and latitudes grids\n",
    "# Here longitude and latitude correspond to the Mediterranean Sea\n",
    "lonr = -7:dx:37\n",
    "latr = 30:dy:46\n",
    "\n",
    "# time range of the in-situ data\n",
    "timerange = [Date(2016,1,1),Date(2016,12,31)]"
   ]
  },
  {
   "cell_type": "code",
   "execution_count": 85,
   "metadata": {
    "slideshow": {
     "slide_type": "subslide"
    }
   },
   "outputs": [
    {
     "data": {
      "text/plain": [
       "\"Salinity\""
      ]
     },
     "execution_count": 85,
     "metadata": {},
     "output_type": "execute_result"
    }
   ],
   "source": [
    "# Name of the variable\n",
    "varname = \"Salinity\""
   ]
  },
  {
   "cell_type": "markdown",
   "metadata": {},
   "source": [
    "Please use your own email address (!) 😉     \n",
    "It is only use to get notified by mail once the dataset is ready."
   ]
  },
  {
   "cell_type": "code",
   "execution_count": 86,
   "metadata": {
    "slideshow": {
     "slide_type": "subslide"
    }
   },
   "outputs": [
    {
     "name": "stdout",
     "output_type": "stream",
     "text": [
      "getting email address from email.txt"
     ]
    }
   ],
   "source": [
    "if isfile(\"email.txt\")\n",
    "    email = strip(read(\"email.txt\",String));\n",
    "    print(\"getting email address from email.txt\");\n",
    "end\n",
    "\n",
    "\n",
    "# Email for downloading the data\n",
    "# Indicate here your email address\n",
    "# email = \"___@____.__\"\n",
    "\n"
   ]
  },
  {
   "cell_type": "markdown",
   "metadata": {},
   "source": [
    "Define the directory where the results will be saved. This directory must exists and must be empty.   \n",
    "The command `mkpath` will create this path (including parent path)."
   ]
  },
  {
   "cell_type": "code",
   "execution_count": 87,
   "metadata": {
    "slideshow": {
     "slide_type": "subslide"
    }
   },
   "outputs": [
    {
     "data": {
      "text/plain": [
       "\"./data/WOD-temporary-dir\""
      ]
     },
     "execution_count": 87,
     "metadata": {},
     "output_type": "execute_result"
    }
   ],
   "source": [
    "basedir = \"./data/WOD-temporary-dir\"\n",
    "if isdir(basedir)\n",
    "    rm(basedir,recursive=true)\n",
    "end\n",
    "mkpath(basedir)"
   ]
  },
  {
   "cell_type": "markdown",
   "metadata": {
    "slideshow": {
     "slide_type": "slide"
    }
   },
   "source": [
    "## Download the data\n",
    "\n",
    "* World Ocean Database: example for bulk access data by simulating a web-user.\n",
    "* Downloading can take several tens of minutes.\n",
    "* SeaDataNet will provide a dedicated machine-to-machine interface during the SeaDataCloud project"
   ]
  },
  {
   "cell_type": "code",
   "execution_count": 88,
   "metadata": {},
   "outputs": [
    {
     "data": {
      "text/latex": [
       "\\begin{verbatim}\n",
       "dirnames,indexnames = WorldOceanDatabase.download(lonrange,latrange,timerange,\n",
       "  variable,email,basedir)\n",
       "\\end{verbatim}\n",
       "Download data using the NODC web-service. The range parameters are vectors from with the frist element is the lower bound and the last element is the upper bound. The parameters of the functions will be transmitted to nodc.noaa.gov (http://www.noaa.gov/privacy.html). Note that no XBT corrections are applied. The table below show the avialable variable and their units.\n",
       "\n",
       "Example:\n",
       "\n",
       "dirnames,indexnames = WorldOceanDatabase.download([0,10],[30,40],     [DateTime(2000,1,1),DateTime(2000,2,1)],     \"Temperature\",\"your@email.com,\"/tmp\")\n",
       "\n",
       "\\begin{tabular}\n",
       "{l | l}\n",
       "Variables & Unit \\\\\n",
       "\\hline\n",
       "Temperature & °C \\\\\n",
       "Salinity & unitless \\\\\n",
       "Oxygen & ml l⁻¹ \\\\\n",
       "Phosphate & µM \\\\\n",
       "Silicate & µM \\\\\n",
       "Nitrate and Nitrate+Nitrite & µM \\\\\n",
       "pH & unitless \\\\\n",
       "Chlorophyll & µg l⁻¹ \\\\\n",
       "Plankton & multiple \\\\\n",
       "Alkalinity & meq l⁻¹ \\\\\n",
       "Partial Pressure of Carbon Dioxide & µatm \\\\\n",
       "Dissolved Inorganic Carbon & mM \\\\\n",
       "Transmissivity & m⁻¹ \\\\\n",
       "Pressure & dbar \\\\\n",
       "Air temperature & °C \\\\\n",
       "CO2 warming & °C \\\\\n",
       "CO2 atmosphere & ppm \\\\\n",
       "Air pressure & mbar \\\\\n",
       "Tritium & TU \\\\\n",
       "Helium & nM \\\\\n",
       "Delta Helium-3 & \\% \\\\\n",
       "Delta Carbon-14 & ᵒ/ᵒᵒ \\\\\n",
       "Delta Carbon-13 & ᵒ/ᵒᵒ \\\\\n",
       "Argon & nM \\\\\n",
       "Neon & nM \\\\\n",
       "Chlorofluorocarbon 11 (CFC 11) & pM \\\\\n",
       "Chlorofluorocarbon 12 (CFC 12) & pM \\\\\n",
       "Chlorofluorocarbon 113 (CFC 113) & pM \\\\\n",
       "Delta Oxygen-18 & ᵒ/ᵒᵒ \\\\\n",
       "\\end{tabular}\n"
      ],
      "text/markdown": [
       "```\n",
       "dirnames,indexnames = WorldOceanDatabase.download(lonrange,latrange,timerange,\n",
       "  variable,email,basedir)\n",
       "```\n",
       "\n",
       "Download data using the NODC web-service. The range parameters are vectors from with the frist element is the lower bound and the last element is the upper bound. The parameters of the functions will be transmitted to nodc.noaa.gov (http://www.noaa.gov/privacy.html). Note that no XBT corrections are applied. The table below show the avialable variable and their units.\n",
       "\n",
       "Example:\n",
       "\n",
       "dirnames,indexnames = WorldOceanDatabase.download([0,10],[30,40],     [DateTime(2000,1,1),DateTime(2000,2,1)],     \"Temperature\",\"your@email.com,\"/tmp\")\n",
       "\n",
       "| Variables                          | Unit     |\n",
       "|:---------------------------------- |:-------- |\n",
       "| Temperature                        | °C       |\n",
       "| Salinity                           | unitless |\n",
       "| Oxygen                             | ml l⁻¹   |\n",
       "| Phosphate                          | µM       |\n",
       "| Silicate                           | µM       |\n",
       "| Nitrate and Nitrate+Nitrite        | µM       |\n",
       "| pH                                 | unitless |\n",
       "| Chlorophyll                        | µg l⁻¹   |\n",
       "| Plankton                           | multiple |\n",
       "| Alkalinity                         | meq l⁻¹  |\n",
       "| Partial Pressure of Carbon Dioxide | µatm     |\n",
       "| Dissolved Inorganic Carbon         | mM       |\n",
       "| Transmissivity                     | m⁻¹      |\n",
       "| Pressure                           | dbar     |\n",
       "| Air temperature                    | °C       |\n",
       "| CO2 warming                        | °C       |\n",
       "| CO2 atmosphere                     | ppm      |\n",
       "| Air pressure                       | mbar     |\n",
       "| Tritium                            | TU       |\n",
       "| Helium                             | nM       |\n",
       "| Delta Helium-3                     | %        |\n",
       "| Delta Carbon-14                    | ᵒ/ᵒᵒ     |\n",
       "| Delta Carbon-13                    | ᵒ/ᵒᵒ     |\n",
       "| Argon                              | nM       |\n",
       "| Neon                               | nM       |\n",
       "| Chlorofluorocarbon 11 (CFC 11)     | pM       |\n",
       "| Chlorofluorocarbon 12 (CFC 12)     | pM       |\n",
       "| Chlorofluorocarbon 113 (CFC 113)   | pM       |\n",
       "| Delta Oxygen-18                    | ᵒ/ᵒᵒ     |\n"
      ],
      "text/plain": [
       "\u001b[36m  dirnames,indexnames = WorldOceanDatabase.download(lonrange,latrange,timerange,\u001b[39m\n",
       "\u001b[36m    variable,email,basedir)\u001b[39m\n",
       "\n",
       "  Download data using the NODC web-service. The range parameters are vectors\n",
       "  from with the frist element is the lower bound and the last element is the\n",
       "  upper bound. The parameters of the functions will be transmitted to\n",
       "  nodc.noaa.gov (http://www.noaa.gov/privacy.html). Note that no XBT\n",
       "  corrections are applied. The table below show the avialable variable and\n",
       "  their units.\n",
       "\n",
       "  Example:\n",
       "\n",
       "  dirnames,indexnames = WorldOceanDatabase.download([0,10],[30,40],\n",
       "  [DateTime(2000,1,1),DateTime(2000,2,1)],\n",
       "  \"Temperature\",\"your@email.com,\"/tmp\")\n",
       "\n",
       "Variables                          Unit    \n",
       "–––––––––––––––––––––––––––––––––– ––––––––\n",
       "Temperature                        °C      \n",
       "Salinity                           unitless\n",
       "Oxygen                             ml l⁻¹  \n",
       "Phosphate                          µM      \n",
       "Silicate                           µM      \n",
       "Nitrate and Nitrate+Nitrite        µM      \n",
       "pH                                 unitless\n",
       "Chlorophyll                        µg l⁻¹  \n",
       "Plankton                           multiple\n",
       "Alkalinity                         meq l⁻¹ \n",
       "Partial Pressure of Carbon Dioxide µatm    \n",
       "Dissolved Inorganic Carbon         mM      \n",
       "Transmissivity                     m⁻¹     \n",
       "Pressure                           dbar    \n",
       "Air temperature                    °C      \n",
       "CO2 warming                        °C      \n",
       "CO2 atmosphere                     ppm     \n",
       "Air pressure                       mbar    \n",
       "Tritium                            TU      \n",
       "Helium                             nM      \n",
       "Delta Helium-3                     %       \n",
       "Delta Carbon-14                    ᵒ/ᵒᵒ    \n",
       "Delta Carbon-13                    ᵒ/ᵒᵒ    \n",
       "Argon                              nM      \n",
       "Neon                               nM      \n",
       "Chlorofluorocarbon 11 (CFC 11)     pM      \n",
       "Chlorofluorocarbon 12 (CFC 12)     pM      \n",
       "Chlorofluorocarbon 113 (CFC 113)   pM      \n",
       "Delta Oxygen-18                    ᵒ/ᵒᵒ    "
      ]
     },
     "execution_count": 88,
     "metadata": {},
     "output_type": "execute_result"
    }
   ],
   "source": [
    "?WorldOceanDatabase.download"
   ]
  },
  {
   "cell_type": "code",
   "execution_count": 89,
   "metadata": {
    "slideshow": {
     "slide_type": "fragment"
    }
   },
   "outputs": [
    {
     "name": "stderr",
     "output_type": "stream",
     "text": [
      "┌ Info: Waiting for extracted files\n",
      "└ @ PhysOcean.WorldOceanDatabase /home/abarth/projects/Julia/PhysOcean.jl/src/WorldOceanDatabase.jl:278\n",
      "┌ Info: https://data.nodc.noaa.gov/woa/WOD/SELECT//ocldb1559937144.19871.OSD.tar.gz is not yet available\n",
      "└ @ PhysOcean.WorldOceanDatabase /home/abarth/projects/Julia/PhysOcean.jl/src/WorldOceanDatabase.jl:293\n",
      "┌ Info: https://data.nodc.noaa.gov/woa/WOD/SELECT//ocldb1559937144.19871.CTD.tar.gz is not yet available\n",
      "└ @ PhysOcean.WorldOceanDatabase /home/abarth/projects/Julia/PhysOcean.jl/src/WorldOceanDatabase.jl:293\n",
      "┌ Info: https://data.nodc.noaa.gov/woa/WOD/SELECT//ocldb1559937144.19871.XBT.tar.gz is not yet available\n",
      "└ @ PhysOcean.WorldOceanDatabase /home/abarth/projects/Julia/PhysOcean.jl/src/WorldOceanDatabase.jl:293\n",
      "┌ Info: https://data.nodc.noaa.gov/woa/WOD/SELECT//ocldb1559937144.19871.MBT.tar.gz is not yet available\n",
      "└ @ PhysOcean.WorldOceanDatabase /home/abarth/projects/Julia/PhysOcean.jl/src/WorldOceanDatabase.jl:293\n",
      "┌ Info: https://data.nodc.noaa.gov/woa/WOD/SELECT//ocldb1559937144.19871.PFL.tar.gz is not yet available\n",
      "└ @ PhysOcean.WorldOceanDatabase /home/abarth/projects/Julia/PhysOcean.jl/src/WorldOceanDatabase.jl:293\n",
      "┌ Info: https://data.nodc.noaa.gov/woa/WOD/SELECT//ocldb1559937144.19871.DRB.tar.gz is not yet available\n",
      "└ @ PhysOcean.WorldOceanDatabase /home/abarth/projects/Julia/PhysOcean.jl/src/WorldOceanDatabase.jl:293\n",
      "┌ Info: https://data.nodc.noaa.gov/woa/WOD/SELECT//ocldb1559937144.19871.MRB.tar.gz is not yet available\n",
      "└ @ PhysOcean.WorldOceanDatabase /home/abarth/projects/Julia/PhysOcean.jl/src/WorldOceanDatabase.jl:293\n",
      "┌ Info: https://data.nodc.noaa.gov/woa/WOD/SELECT//ocldb1559937144.19871.APB.tar.gz is not yet available\n",
      "└ @ PhysOcean.WorldOceanDatabase /home/abarth/projects/Julia/PhysOcean.jl/src/WorldOceanDatabase.jl:293\n",
      "┌ Info: https://data.nodc.noaa.gov/woa/WOD/SELECT//ocldb1559937144.19871.UOR.tar.gz is not yet available\n",
      "└ @ PhysOcean.WorldOceanDatabase /home/abarth/projects/Julia/PhysOcean.jl/src/WorldOceanDatabase.jl:293\n",
      "┌ Info: https://data.nodc.noaa.gov/woa/WOD/SELECT//ocldb1559937144.19871.SUR.tar.gz is not yet available\n",
      "└ @ PhysOcean.WorldOceanDatabase /home/abarth/projects/Julia/PhysOcean.jl/src/WorldOceanDatabase.jl:293\n",
      "┌ Info: https://data.nodc.noaa.gov/woa/WOD/SELECT//ocldb1559937144.19871.GLD.tar.gz is not yet available\n",
      "└ @ PhysOcean.WorldOceanDatabase /home/abarth/projects/Julia/PhysOcean.jl/src/WorldOceanDatabase.jl:293\n",
      "┌ Info: https://data.nodc.noaa.gov/woa/WOD/SELECT//ocldb1559937144.19871.OSD.tar.gz is not yet available\n",
      "└ @ PhysOcean.WorldOceanDatabase /home/abarth/projects/Julia/PhysOcean.jl/src/WorldOceanDatabase.jl:293\n",
      "┌ Info: https://data.nodc.noaa.gov/woa/WOD/SELECT//ocldb1559937144.19871.CTD.tar.gz is not yet available\n",
      "└ @ PhysOcean.WorldOceanDatabase /home/abarth/projects/Julia/PhysOcean.jl/src/WorldOceanDatabase.jl:293\n",
      "┌ Info: https://data.nodc.noaa.gov/woa/WOD/SELECT//ocldb1559937144.19871.XBT.tar.gz is not yet available\n",
      "└ @ PhysOcean.WorldOceanDatabase /home/abarth/projects/Julia/PhysOcean.jl/src/WorldOceanDatabase.jl:293\n",
      "┌ Info: https://data.nodc.noaa.gov/woa/WOD/SELECT//ocldb1559937144.19871.MBT.tar.gz is not yet available\n",
      "└ @ PhysOcean.WorldOceanDatabase /home/abarth/projects/Julia/PhysOcean.jl/src/WorldOceanDatabase.jl:293\n",
      "┌ Info: https://data.nodc.noaa.gov/woa/WOD/SELECT//ocldb1559937144.19871.PFL.tar.gz is not yet available\n",
      "└ @ PhysOcean.WorldOceanDatabase /home/abarth/projects/Julia/PhysOcean.jl/src/WorldOceanDatabase.jl:293\n",
      "┌ Info: https://data.nodc.noaa.gov/woa/WOD/SELECT//ocldb1559937144.19871.DRB.tar.gz is not yet available\n",
      "└ @ PhysOcean.WorldOceanDatabase /home/abarth/projects/Julia/PhysOcean.jl/src/WorldOceanDatabase.jl:293\n",
      "┌ Info: https://data.nodc.noaa.gov/woa/WOD/SELECT//ocldb1559937144.19871.MRB.tar.gz is not yet available\n",
      "└ @ PhysOcean.WorldOceanDatabase /home/abarth/projects/Julia/PhysOcean.jl/src/WorldOceanDatabase.jl:293\n",
      "┌ Info: https://data.nodc.noaa.gov/woa/WOD/SELECT//ocldb1559937144.19871.APB.tar.gz is not yet available\n",
      "└ @ PhysOcean.WorldOceanDatabase /home/abarth/projects/Julia/PhysOcean.jl/src/WorldOceanDatabase.jl:293\n",
      "┌ Info: https://data.nodc.noaa.gov/woa/WOD/SELECT//ocldb1559937144.19871.UOR.tar.gz is not yet available\n",
      "└ @ PhysOcean.WorldOceanDatabase /home/abarth/projects/Julia/PhysOcean.jl/src/WorldOceanDatabase.jl:293\n",
      "┌ Info: https://data.nodc.noaa.gov/woa/WOD/SELECT//ocldb1559937144.19871.SUR.tar.gz is not yet available\n",
      "└ @ PhysOcean.WorldOceanDatabase /home/abarth/projects/Julia/PhysOcean.jl/src/WorldOceanDatabase.jl:293\n",
      "┌ Info: https://data.nodc.noaa.gov/woa/WOD/SELECT//ocldb1559937144.19871.GLD.tar.gz is not yet available\n",
      "└ @ PhysOcean.WorldOceanDatabase /home/abarth/projects/Julia/PhysOcean.jl/src/WorldOceanDatabase.jl:293\n",
      "┌ Info: https://data.nodc.noaa.gov/woa/WOD/SELECT//ocldb1559937144.19871.OSD.tar.gz is not yet available\n",
      "└ @ PhysOcean.WorldOceanDatabase /home/abarth/projects/Julia/PhysOcean.jl/src/WorldOceanDatabase.jl:293\n",
      "┌ Info: https://data.nodc.noaa.gov/woa/WOD/SELECT//ocldb1559937144.19871.CTD.tar.gz is not yet available\n",
      "└ @ PhysOcean.WorldOceanDatabase /home/abarth/projects/Julia/PhysOcean.jl/src/WorldOceanDatabase.jl:293\n",
      "┌ Info: https://data.nodc.noaa.gov/woa/WOD/SELECT//ocldb1559937144.19871.XBT.tar.gz is not yet available\n",
      "└ @ PhysOcean.WorldOceanDatabase /home/abarth/projects/Julia/PhysOcean.jl/src/WorldOceanDatabase.jl:293\n",
      "┌ Info: https://data.nodc.noaa.gov/woa/WOD/SELECT//ocldb1559937144.19871.MBT.tar.gz is not yet available\n",
      "└ @ PhysOcean.WorldOceanDatabase /home/abarth/projects/Julia/PhysOcean.jl/src/WorldOceanDatabase.jl:293\n",
      "┌ Info: https://data.nodc.noaa.gov/woa/WOD/SELECT//ocldb1559937144.19871.PFL.tar.gz is not yet available\n",
      "└ @ PhysOcean.WorldOceanDatabase /home/abarth/projects/Julia/PhysOcean.jl/src/WorldOceanDatabase.jl:293\n",
      "┌ Info: https://data.nodc.noaa.gov/woa/WOD/SELECT//ocldb1559937144.19871.DRB.tar.gz is not yet available\n",
      "└ @ PhysOcean.WorldOceanDatabase /home/abarth/projects/Julia/PhysOcean.jl/src/WorldOceanDatabase.jl:293\n",
      "┌ Info: https://data.nodc.noaa.gov/woa/WOD/SELECT//ocldb1559937144.19871.MRB.tar.gz is not yet available\n",
      "└ @ PhysOcean.WorldOceanDatabase /home/abarth/projects/Julia/PhysOcean.jl/src/WorldOceanDatabase.jl:293\n",
      "┌ Info: https://data.nodc.noaa.gov/woa/WOD/SELECT//ocldb1559937144.19871.APB.tar.gz is not yet available\n",
      "└ @ PhysOcean.WorldOceanDatabase /home/abarth/projects/Julia/PhysOcean.jl/src/WorldOceanDatabase.jl:293\n",
      "┌ Info: https://data.nodc.noaa.gov/woa/WOD/SELECT//ocldb1559937144.19871.UOR.tar.gz is not yet available\n",
      "└ @ PhysOcean.WorldOceanDatabase /home/abarth/projects/Julia/PhysOcean.jl/src/WorldOceanDatabase.jl:293\n",
      "┌ Info: https://data.nodc.noaa.gov/woa/WOD/SELECT//ocldb1559937144.19871.SUR.tar.gz is not yet available\n",
      "└ @ PhysOcean.WorldOceanDatabase /home/abarth/projects/Julia/PhysOcean.jl/src/WorldOceanDatabase.jl:293\n",
      "┌ Info: https://data.nodc.noaa.gov/woa/WOD/SELECT//ocldb1559937144.19871.GLD.tar.gz is not yet available\n",
      "└ @ PhysOcean.WorldOceanDatabase /home/abarth/projects/Julia/PhysOcean.jl/src/WorldOceanDatabase.jl:293\n"
     ]
    },
    {
     "name": "stdout",
     "output_type": "stream",
     "text": [
      "CTD is now available\n",
      "PFL is now available\n",
      "GLD is now available\n"
     ]
    },
    {
     "name": "stderr",
     "output_type": "stream",
     "text": [
      "┌ Info: https://data.nodc.noaa.gov/woa/WOD/SELECT//ocldb1559937144.19871.OSD.tar.gz is not yet available\n",
      "└ @ PhysOcean.WorldOceanDatabase /home/abarth/projects/Julia/PhysOcean.jl/src/WorldOceanDatabase.jl:293\n",
      "┌ Info: https://data.nodc.noaa.gov/woa/WOD/SELECT//ocldb1559937144.19871.XBT.tar.gz is not yet available\n",
      "└ @ PhysOcean.WorldOceanDatabase /home/abarth/projects/Julia/PhysOcean.jl/src/WorldOceanDatabase.jl:293\n",
      "┌ Info: https://data.nodc.noaa.gov/woa/WOD/SELECT//ocldb1559937144.19871.MBT.tar.gz is not yet available\n",
      "└ @ PhysOcean.WorldOceanDatabase /home/abarth/projects/Julia/PhysOcean.jl/src/WorldOceanDatabase.jl:293\n",
      "┌ Info: https://data.nodc.noaa.gov/woa/WOD/SELECT//ocldb1559937144.19871.DRB.tar.gz is not yet available\n",
      "└ @ PhysOcean.WorldOceanDatabase /home/abarth/projects/Julia/PhysOcean.jl/src/WorldOceanDatabase.jl:293\n",
      "┌ Info: https://data.nodc.noaa.gov/woa/WOD/SELECT//ocldb1559937144.19871.MRB.tar.gz is not yet available\n",
      "└ @ PhysOcean.WorldOceanDatabase /home/abarth/projects/Julia/PhysOcean.jl/src/WorldOceanDatabase.jl:293\n",
      "┌ Info: https://data.nodc.noaa.gov/woa/WOD/SELECT//ocldb1559937144.19871.APB.tar.gz is not yet available\n",
      "└ @ PhysOcean.WorldOceanDatabase /home/abarth/projects/Julia/PhysOcean.jl/src/WorldOceanDatabase.jl:293\n",
      "┌ Info: https://data.nodc.noaa.gov/woa/WOD/SELECT//ocldb1559937144.19871.UOR.tar.gz is not yet available\n",
      "└ @ PhysOcean.WorldOceanDatabase /home/abarth/projects/Julia/PhysOcean.jl/src/WorldOceanDatabase.jl:293\n",
      "┌ Info: https://data.nodc.noaa.gov/woa/WOD/SELECT//ocldb1559937144.19871.SUR.tar.gz is not yet available\n",
      "└ @ PhysOcean.WorldOceanDatabase /home/abarth/projects/Julia/PhysOcean.jl/src/WorldOceanDatabase.jl:293\n",
      "  % Total    % Received % Xferd  Average Speed   Time    Time     Time  Current\n",
      "                                 Dload  Upload   Total   Spent    Left  Speed\n",
      "100  146k  100  146k    0     0   179k      0 --:--:-- --:--:-- --:--:--  179k\n",
      "┌ Info: https://data.nodc.noaa.gov/woa/WOD/SELECT//ocldb1559937144.19871.CTD.tar.gz downloaded\n",
      "└ @ PhysOcean.WorldOceanDatabase /home/abarth/projects/Julia/PhysOcean.jl/src/WorldOceanDatabase.jl:338\n",
      "  % Total    % Received % Xferd  Average Speed   Time    Time     Time  Current\n",
      "                                 Dload  Upload   Total   Spent    Left  Speed\n",
      "  0     0    0     0    0     0      0      0 --:--:-- --:--:-- --:--:--     0\n",
      "curl: (22) The requested URL returned error: 404 Not Found\n",
      "  % Total    % Received % Xferd  Average Speed   Time    Time     Time  Current\n",
      "                                 Dload  Upload   Total   Spent    Left  Speed\n",
      "  0     0    0     0    0     0      0      0 --:--:-- --:--:-- --:--:--     0\n",
      "curl: (22) The requested URL returned error: 404 Not Found\n",
      "  % Total    % Received % Xferd  Average Speed   Time    Time     Time  Current\n",
      "                                 Dload  Upload   Total   Spent    Left  Speed\n",
      "  0     0    0     0    0     0      0      0 --:--:-- --:--:-- --:--:--     0\n",
      "curl: (22) The requested URL returned error: 404 Not Found\n",
      "  % Total    % Received % Xferd  Average Speed   Time    Time     Time  Current\n",
      "                                 Dload  Upload   Total   Spent    Left  Speed\n",
      "100 44.8M  100 44.8M    0     0  1490k      0  0:00:30  0:00:30 --:--:-- 1719k\n",
      "┌ Info: https://data.nodc.noaa.gov/woa/WOD/SELECT//ocldb1559937144.19871.PFL.tar.gz downloaded\n",
      "└ @ PhysOcean.WorldOceanDatabase /home/abarth/projects/Julia/PhysOcean.jl/src/WorldOceanDatabase.jl:338\n",
      "  % Total    % Received % Xferd  Average Speed   Time    Time     Time  Current\n",
      "                                 Dload  Upload   Total   Spent    Left  Speed\n",
      "  0     0    0     0    0     0      0      0 --:--:-- --:--:-- --:--:--     0\n",
      "curl: (22) The requested URL returned error: 404 Not Found\n",
      "  % Total    % Received % Xferd  Average Speed   Time    Time     Time  Current\n",
      "                                 Dload  Upload   Total   Spent    Left  Speed\n",
      "  0     0    0     0    0     0      0      0 --:--:-- --:--:-- --:--:--     0\n",
      "curl: (22) The requested URL returned error: 404 Not Found\n",
      "  % Total    % Received % Xferd  Average Speed   Time    Time     Time  Current\n",
      "                                 Dload  Upload   Total   Spent    Left  Speed\n",
      "  0     0    0     0    0     0      0      0 --:--:-- --:--:-- --:--:--     0\n",
      "curl: (22) The requested URL returned error: 404 Not Found\n",
      "  % Total    % Received % Xferd  Average Speed   Time    Time     Time  Current\n",
      "                                 Dload  Upload   Total   Spent    Left  Speed\n",
      "100 32.4M  100 32.4M    0     0  1143k      0  0:00:29  0:00:29 --:--:-- 1732k\n",
      "┌ Info: https://data.nodc.noaa.gov/woa/WOD/SELECT//ocldb1559937144.19871.GLD.tar.gz downloaded\n",
      "└ @ PhysOcean.WorldOceanDatabase /home/abarth/projects/Julia/PhysOcean.jl/src/WorldOceanDatabase.jl:338\n",
      "  % Total    % Received % Xferd  Average Speed   Time    Time     Time  Current\n",
      "                                 Dload  Upload   Total   Spent    Left  Speed\n",
      "  0     0    0     0    0     0      0      0 --:--:-- --:--:-- --:--:--     0\n",
      "curl: (22) The requested URL returned error: 404 Not Found\n",
      "  % Total    % Received % Xferd  Average Speed   Time    Time     Time  Current\n",
      "                                 Dload  Upload   Total   Spent    Left  Speed\n",
      "  0     0    0     0    0     0      0      0 --:--:-- --:--:-- --:--:--     0\n",
      "curl: (22) The requested URL returned error: 404 Not Found\n",
      "  % Total    % Received % Xferd  Average Speed   Time    Time     Time  Current\n",
      "                                 Dload  Upload   Total   Spent    Left  Speed\n",
      "  0     0    0     0    0     0      0      0 --:--:-- --:--:-- --:--:--     0\n",
      "curl: (22) The requested URL returned error: 404 Not Found\n",
      "┌ Info: Extracting ./data/WOD-temporary-dir/ocldb1559937144.19871.CTD.tar.gz to ./data/WOD-temporary-dir/CTD\n",
      "└ @ PhysOcean.WorldOceanDatabase /home/abarth/projects/Julia/PhysOcean.jl/src/WorldOceanDatabase.jl:42\n",
      "┌ Info: Extracting ./data/WOD-temporary-dir/ocldb1559937144.19871.PFL.tar.gz to ./data/WOD-temporary-dir/PFL\n",
      "└ @ PhysOcean.WorldOceanDatabase /home/abarth/projects/Julia/PhysOcean.jl/src/WorldOceanDatabase.jl:42\n",
      "┌ Info: Extracting ./data/WOD-temporary-dir/ocldb1559937144.19871.GLD.tar.gz to ./data/WOD-temporary-dir/GLD\n",
      "└ @ PhysOcean.WorldOceanDatabase /home/abarth/projects/Julia/PhysOcean.jl/src/WorldOceanDatabase.jl:42\n"
     ]
    }
   ],
   "source": [
    "WorldOceanDatabase.download(lonr,latr,timerange,varname,email,basedir);"
   ]
  },
  {
   "cell_type": "markdown",
   "metadata": {
    "slideshow": {
     "slide_type": "slide"
    }
   },
   "source": [
    "# Load data\n",
    "Load the data into memory and perform (potentially) an additional subsetting"
   ]
  },
  {
   "cell_type": "code",
   "execution_count": 90,
   "metadata": {},
   "outputs": [
    {
     "data": {
      "text/plain": [
       "\"./data/WOD-temporary-dir\""
      ]
     },
     "execution_count": 90,
     "metadata": {},
     "output_type": "execute_result"
    }
   ],
   "source": [
    "basedir"
   ]
  },
  {
   "cell_type": "code",
   "execution_count": 91,
   "metadata": {
    "slideshow": {
     "slide_type": "fragment"
    }
   },
   "outputs": [
    {
     "name": "stderr",
     "output_type": "stream",
     "text": [
      "┌ Info: Loading files from ./data/WOD-temporary-dir/CTD/ocldb1559937144.19871.CTD.nc\n",
      "└ @ PhysOcean.WorldOceanDatabase /home/abarth/projects/Julia/PhysOcean.jl/src/WorldOceanDatabase.jl:461\n",
      "┌ Info: Loading files from ./data/WOD-temporary-dir/GLD/ocldb1559937144.19871.GLD.nc\n",
      "└ @ PhysOcean.WorldOceanDatabase /home/abarth/projects/Julia/PhysOcean.jl/src/WorldOceanDatabase.jl:461\n",
      "┌ Info: Loading files from ./data/WOD-temporary-dir/PFL/ocldb1559937144.19871.PFL.nc\n",
      "└ @ PhysOcean.WorldOceanDatabase /home/abarth/projects/Julia/PhysOcean.jl/src/WorldOceanDatabase.jl:461\n"
     ]
    }
   ],
   "source": [
    "# load all data under basedir as a double-precision floating point variable\n",
    "obsval,obslon,obslat,obsdepth,obstime,obsid = \n",
    "WorldOceanDatabase.load(Float64,basedir,varname);"
   ]
  },
  {
   "cell_type": "markdown",
   "metadata": {},
   "source": [
    "Number of data points"
   ]
  },
  {
   "cell_type": "code",
   "execution_count": 92,
   "metadata": {},
   "outputs": [
    {
     "name": "stdout",
     "output_type": "stream",
     "text": [
      "size(obsval) = (4509789,)\n"
     ]
    }
   ],
   "source": [
    "@show size(obsval);"
   ]
  },
  {
   "cell_type": "markdown",
   "metadata": {},
   "source": [
    "Check some observation IDs"
   ]
  },
  {
   "cell_type": "code",
   "execution_count": 93,
   "metadata": {},
   "outputs": [
    {
     "name": "stdout",
     "output_type": "stream",
     "text": [
      "obsid[1] = \"wod_018097040O\"\n",
      "obsid[2] = \"wod_018097040O\"\n"
     ]
    }
   ],
   "source": [
    "@show obsid[1];\n",
    "@show obsid[2];"
   ]
  },
  {
   "cell_type": "markdown",
   "metadata": {},
   "source": [
    "With `checkobs` we get an overview of the extremal values of each dimension and variable."
   ]
  },
  {
   "cell_type": "code",
   "execution_count": 94,
   "metadata": {},
   "outputs": [
    {
     "name": "stdout",
     "output_type": "stream",
     "text": [
      "              minimum and maximum of obs. dimension 1: ("
     ]
    },
    {
     "name": "stderr",
     "output_type": "stream",
     "text": [
      "┌ Info: Checking ranges for dimensions and observations\n",
      "└ @ DIVAnd /home/abarth/projects/Julia/DIVAnd.jl/src/obsstat.jl:75\n"
     ]
    },
    {
     "name": "stdout",
     "output_type": "stream",
     "text": [
      "-6.994999885559082, 36.989349365234375)\n",
      "              minimum and maximum of obs. dimension 2: (31.152000427246094, 45.95199966430664)\n",
      "              minimum and maximum of obs. dimension 3: (-0.0, 3919.363525390625)\n",
      "              minimum and maximum of obs. dimension 4: (2016-01-01T00:00:00, 2016-12-31T23:54:21.959)\n",
      "                          minimum and maximum of data: (10.0, 39.98847198486328)\n"
     ]
    }
   ],
   "source": [
    "checkobs((obslon,obslat,obsdepth,obstime),obsval,obsid)"
   ]
  },
  {
   "cell_type": "markdown",
   "metadata": {},
   "source": [
    "## Additional sub-setting \n",
    "Based on time and depth for plotting.     \n",
    "For instance the month can be extracted from the `Date` using:"
   ]
  },
  {
   "cell_type": "code",
   "execution_count": 95,
   "metadata": {},
   "outputs": [
    {
     "data": {
      "text/plain": [
       "4509789-element Array{Int64,1}:\n",
       "  4\n",
       "  4\n",
       "  4\n",
       "  4\n",
       "  4\n",
       "  4\n",
       "  4\n",
       "  4\n",
       "  4\n",
       "  4\n",
       "  4\n",
       "  4\n",
       "  4\n",
       "  ⋮\n",
       " 12\n",
       " 12\n",
       " 12\n",
       " 12\n",
       " 12\n",
       " 12\n",
       " 12\n",
       " 12\n",
       " 12\n",
       " 12\n",
       " 12\n",
       " 12"
      ]
     },
     "execution_count": 95,
     "metadata": {},
     "output_type": "execute_result"
    }
   ],
   "source": [
    "Dates.month.(obstime)"
   ]
  },
  {
   "cell_type": "code",
   "execution_count": 96,
   "metadata": {},
   "outputs": [
    {
     "name": "stdout",
     "output_type": "stream",
     "text": [
      "typeof(sel) = BitArray{1}\n",
      "size(sel) = (4509789,)\n"
     ]
    }
   ],
   "source": [
    "# depth range levels\n",
    "depthr = [0., 20.]\n",
    "\n",
    "# month range (January to March)\n",
    "timer = [1,3]\n",
    "\n",
    "# additional sub-setting and discard bogus negative salinities\n",
    "sel = ((obsval .> 0 )\n",
    "       .& (minimum(depthr) .<= obsdepth .<= maximum(depthr))\n",
    "       .& (minimum(timer) .<= Dates.month.(obstime) .<= maximum(timer)));\n",
    "\n",
    "@show typeof(sel);\n",
    "@show size(sel);"
   ]
  },
  {
   "cell_type": "markdown",
   "metadata": {},
   "source": [
    "The new variables (ending by `sel`) are a sub-selection based on the previous criteria."
   ]
  },
  {
   "cell_type": "code",
   "execution_count": 97,
   "metadata": {
    "slideshow": {
     "slide_type": "fragment"
    }
   },
   "outputs": [],
   "source": [
    "valsel = obsval[sel]\n",
    "lonsel = obslon[sel]\n",
    "latsel = obslat[sel]\n",
    "depthsel = obsdepth[sel]\n",
    "timesel = obstime[sel]\n",
    "idssel = obsid[sel];"
   ]
  },
  {
   "cell_type": "markdown",
   "metadata": {},
   "source": [
    "Let's perform again the check."
   ]
  },
  {
   "cell_type": "code",
   "execution_count": 98,
   "metadata": {},
   "outputs": [
    {
     "name": "stdout",
     "output_type": "stream",
     "text": [
      "              minimum and maximum of obs. dimension 1: (-6.86899995803833, 36.989349365234375)\n",
      "              minimum and maximum of obs. dimension 2: (31.738000869750977, 45.922000885009766)\n",
      "              minimum and maximum of obs. dimension 3: (-0.0, 19.999536514282227)\n",
      "              minimum and maximum of obs. dimension 4: (2016-01-01T00:00:00, 2016-03-31T23:54:21.959)\n",
      "                          minimum and maximum of data: (17.783000946044922, 39.38759994506836)\n"
     ]
    },
    {
     "name": "stderr",
     "output_type": "stream",
     "text": [
      "┌ Info: Checking ranges for dimensions and observations\n",
      "└ @ DIVAnd /home/abarth/projects/Julia/DIVAnd.jl/src/obsstat.jl:75\n"
     ]
    }
   ],
   "source": [
    "checkobs((lonsel,latsel,depthsel,timesel),valsel,idssel)"
   ]
  },
  {
   "cell_type": "markdown",
   "metadata": {},
   "source": [
    "Number of selected data points"
   ]
  },
  {
   "cell_type": "code",
   "execution_count": 99,
   "metadata": {},
   "outputs": [
    {
     "data": {
      "text/plain": [
       "42312"
      ]
     },
     "execution_count": 99,
     "metadata": {},
     "output_type": "execute_result"
    }
   ],
   "source": [
    "length(valsel)"
   ]
  },
  {
   "cell_type": "markdown",
   "metadata": {},
   "source": [
    "## Bathymetry download \n",
    "For plotting purpose. See [06-topography](06-topography.ipynb) for details."
   ]
  },
  {
   "cell_type": "code",
   "execution_count": 100,
   "metadata": {},
   "outputs": [
    {
     "name": "stderr",
     "output_type": "stream",
     "text": [
      "┌ Info: Bathymetry file already downloaded\n",
      "└ @ Main In[100]:6\n"
     ]
    }
   ],
   "source": [
    "bathname = \"data/gebco_30sec_16.nc\"\n",
    "\n",
    "if !isfile(bathname)\n",
    "    download(\"https://dox.ulg.ac.be/index.php/s/U0pqyXhcQrXjEUX/download\",bathname)\n",
    "else\n",
    "    @info(\"Bathymetry file already downloaded\")\n",
    "end\n",
    "\n",
    "bathisglobal = true\n",
    "\n",
    "# Extract the bathymetry for plotting\n",
    "bx,by,b = DIVAnd.extract_bath(bathname,bathisglobal,lonr,latr);"
   ]
  },
  {
   "cell_type": "markdown",
   "metadata": {},
   "source": [
    "Create a simple plot to show the domain."
   ]
  },
  {
   "cell_type": "code",
   "execution_count": 101,
   "metadata": {},
   "outputs": [
    {
     "data": {
      "image/png": "[encoded data removed]",
      "text/plain": [
       "Figure(PyObject <Figure size 640x480 with 2 Axes>)"
      ]
     },
     "metadata": {},
     "output_type": "display_data"
    }
   ],
   "source": [
    "pcolor(bx,by,permutedims(b, [2,1]));\n",
    "colorbar(orientation = \"horizontal\");\n",
    "contourf(bx,by,copy(b'), levels = [-1e5,0],colors = [[.5,.5,.5]])\n",
    "# compute and set the correct aspect ratio\n",
    "aspect_ratio = 1/cos(mean(latr) * pi/180)\n",
    "gca().set_aspect(aspect_ratio)\n"
   ]
  },
  {
   "cell_type": "markdown",
   "metadata": {},
   "source": [
    "Plotting gotchas:\n",
    "* `colorbar()` refers to the last added item. If the last added item is the land-sea mask, the colorbar will be all gray.\n",
    "* maps look nicer if you set the corresponding aspect ratio based on the average latitude `mean(latr)`.\n",
    "\n",
    "## Data plotting\n",
    "The bathymetry is used to display a land-sea mask using the `contourf` function with 2 levels.      \n",
    "The data are shown as colored circles using `scatter`."
   ]
  },
  {
   "cell_type": "code",
   "execution_count": 102,
   "metadata": {},
   "outputs": [
    {
     "data": {
      "image/png": "[encoded data removed]",
      "text/plain": [
       "Figure(PyObject <Figure size 640x480 with 2 Axes>)"
      ]
     },
     "metadata": {},
     "output_type": "display_data"
    }
   ],
   "source": [
    "scatter(lonsel,latsel,10,valsel); \n",
    "colorbar(orientation = \"horizontal\");\n",
    "#clim(36,37.7)\n",
    "contourf(bx,by,permutedims(b, [2,1]), levels = [-1e5,0],colors = [[.5,.5,.5]])\n",
    "\n",
    "# compute and set the correct aspect ratio\n",
    "aspect_ratio = 1/cos(mean(latr) * pi/180)\n",
    "gca().set_aspect(aspect_ratio)\n"
   ]
  },
  {
   "cell_type": "markdown",
   "metadata": {},
   "source": [
    "# Check for duplicates\n",
    "\n",
    "There are two ways to call the function `checkduplicates`:"
   ]
  },
  {
   "cell_type": "code",
   "execution_count": 103,
   "metadata": {},
   "outputs": [
    {
     "data": {
      "text/latex": [
       "\\begin{verbatim}\n",
       "dupl = checkduplicates(x,value,delta,deltavalue)\n",
       "\\end{verbatim}\n",
       "Based the coordinates \\texttt{x} (a tuple of longitude \\texttt{lons}, latitudes \\texttt{lats}, depth (\\texttt{zs}) and time (\\texttt{times} vector of \\texttt{DateTime})) check of points who are in the same spatio-temporal bounding  box of a length \\texttt{delta}. \\texttt{delta} is a vector with 4 elements corresponding to longitude, latitude, depth and time (in days). \\texttt{dupl} a vector of vectors containing indices of the duplicates.\n",
       "\n",
       "\\rule{\\textwidth}{1pt}\n",
       "\\begin{verbatim}\n",
       "dupl = checkduplicates(x1,value1,x2,v2,value2,delta,deltavalue)\n",
       "\\end{verbatim}\n",
       "Report duplicate of observation in data set (x2,v2) which are also in data set (x1,v1). \\texttt{x1} and \\texttt{x2} is a tuple of vectors with the cooridantes and \\texttt{v1} and \\texttt{v2} the corresponding values.\n",
       "\n"
      ],
      "text/markdown": [
       "```\n",
       "dupl = checkduplicates(x,value,delta,deltavalue)\n",
       "```\n",
       "\n",
       "Based the coordinates `x` (a tuple of longitude `lons`, latitudes `lats`, depth (`zs`) and time (`times` vector of `DateTime`)) check of points who are in the same spatio-temporal bounding  box of a length `delta`. `delta` is a vector with 4 elements corresponding to longitude, latitude, depth and time (in days). `dupl` a vector of vectors containing indices of the duplicates.\n",
       "\n",
       "---\n",
       "\n",
       "```\n",
       "dupl = checkduplicates(x1,value1,x2,v2,value2,delta,deltavalue)\n",
       "```\n",
       "\n",
       "Report duplicate of observation in data set (x2,v2) which are also in data set (x1,v1). `x1` and `x2` is a tuple of vectors with the cooridantes and `v1` and `v2` the corresponding values.\n"
      ],
      "text/plain": [
       "\u001b[36m  dupl = checkduplicates(x,value,delta,deltavalue)\u001b[39m\n",
       "\n",
       "  Based the coordinates \u001b[36mx\u001b[39m (a tuple of longitude \u001b[36mlons\u001b[39m, latitudes \u001b[36mlats\u001b[39m, depth\n",
       "  (\u001b[36mzs\u001b[39m) and time (\u001b[36mtimes\u001b[39m vector of \u001b[36mDateTime\u001b[39m)) check of points who are in the\n",
       "  same spatio-temporal bounding box of a length \u001b[36mdelta\u001b[39m. \u001b[36mdelta\u001b[39m is a vector with\n",
       "  4 elements corresponding to longitude, latitude, depth and time (in days).\n",
       "  \u001b[36mdupl\u001b[39m a vector of vectors containing indices of the duplicates.\n",
       "\n",
       "  ────────────────────────────────────────────────────────────────────────────\n",
       "\n",
       "\u001b[36m  dupl = checkduplicates(x1,value1,x2,v2,value2,delta,deltavalue)\u001b[39m\n",
       "\n",
       "  Report duplicate of observation in data set (x2,v2) which are also in data\n",
       "  set (x1,v1). \u001b[36mx1\u001b[39m and \u001b[36mx2\u001b[39m is a tuple of vectors with the cooridantes and \u001b[36mv1\u001b[39m and\n",
       "  \u001b[36mv2\u001b[39m the corresponding values."
      ]
     },
     "execution_count": 103,
     "metadata": {},
     "output_type": "execute_result"
    }
   ],
   "source": [
    "?DIVAnd.Quadtrees.checkduplicates"
   ]
  },
  {
   "cell_type": "markdown",
   "metadata": {},
   "source": [
    "We load a small ODV file containing data in the same domain to test the duplicate detection.     \n",
    "We use the function `ODVspreadsheet.load` available within `DIVAnd.jl`."
   ]
  },
  {
   "cell_type": "code",
   "execution_count": 104,
   "metadata": {},
   "outputs": [
    {
     "name": "stderr",
     "output_type": "stream",
     "text": [
      "  % Total    % Received % Xferd  Average Speed   Time    Time     Time  Current\n",
      "                                 Dload  Upload   Total   Spent    Left  Speed\n",
      "100 8163k  100 8163k    0     0  8459k      0 --:--:-- --:--:-- --:--:-- 8450k\n"
     ]
    },
    {
     "data": {
      "text/plain": [
       "\"data/small_ODV_sample.txt\""
      ]
     },
     "execution_count": 104,
     "metadata": {},
     "output_type": "execute_result"
    }
   ],
   "source": [
    "download(\"https://dox.ulg.ac.be/index.php/s/5FdKh6Md0VAjsIU/download\",\"data/small_ODV_sample.txt\")"
   ]
  },
  {
   "cell_type": "code",
   "execution_count": 105,
   "metadata": {},
   "outputs": [
    {
     "data": {
      "text/latex": [
       "\\begin{verbatim}\n",
       " obsvalue,obslon,obslat,obsdepth,obstime,obsids = load(T,fnames,datanames;\n",
       "    qv_flags = [DIVAnd.ODVspreadsheet.GOOD_VALUE,\n",
       "                DIVAnd.ODVspreadsheet.PROBABLY_GOOD_VALUE],\n",
       "    nametype = :P01,\n",
       "    qvlocalname = \"QV:SEADATANET\")\n",
       "\\end{verbatim}\n",
       "Load all profiles in all file from the array \\texttt{fnames} corresponding to one of the parameter names \\texttt{datanames}. If \\texttt{nametype} is \\texttt{:P01} (default), the datanames are P01 vocabulary names with the SDN prefix. If nametype is \\texttt{:localname}, then they are the ODV column header without units. For example if the column header is \\texttt{Water body salinity [per mille]}, then \\texttt{datenames} should be \\texttt{[\"Water body salinity\"]}. The resulting vectors have the data type \\texttt{T} (expect \\texttt{times} and \\texttt{ids} which are vectors of \\texttt{DateTime} and \\texttt{String} respectively). Only values matching the quality flag \\texttt{qv\\_flags} are retained. \\texttt{qv\\_flags} is a vector of Strings (based on http://vocab.nerc.ac.uk/collection/L20/current/, e.g. \"1\" means \"good value\"). One can also use the constants these constants (prefixed with \\texttt{DIVAnd.ODVspreadsheet.}):\n",
       "\n",
       "\\texttt{qvlocalname} is the column name to denote quality flags. It is assumed that the quality flags follow immediatly the data column.\n",
       "\n",
       "\\begin{tabular}\n",
       "{r | r}\n",
       "constant & value \\\\\n",
       "\\hline\n",
       "\\texttt{NO\\_QUALITY\\_CONTROL} & \"0\" \\\\\n",
       "\\texttt{GOOD\\_VALUE} & \"1\" \\\\\n",
       "\\texttt{PROBABLY\\_GOOD\\_VALUE} & \"2\" \\\\\n",
       "\\texttt{PROBABLY\\_BAD\\_VALUE} & \"3\" \\\\\n",
       "\\texttt{BAD\\_VALUE} & \"4\" \\\\\n",
       "\\texttt{CHANGED\\_VALUE} & \"5\" \\\\\n",
       "\\texttt{VALUE\\_BELOW\\_DETECTION} & \"6\" \\\\\n",
       "\\texttt{VALUE\\_IN\\_EXCESS} & \"7\" \\\\\n",
       "\\texttt{INTERPOLATED\\_VALUE} & \"8\" \\\\\n",
       "\\texttt{MISSING\\_VALUE} & \"9\" \\\\\n",
       "\\texttt{VALUE\\_PHENOMENON\\_UNCERTAIN} & \"A\" \\\\\n",
       "\\end{tabular}\n",
       "If the ODV does not contain a semantic header (e.g. for the aggregated ODV files), then local names must be used.\n",
       "\n",
       "\\begin{verbatim}\n",
       "julia> data,obslon,obslat,obsdepth,obstime,obsids = DIVAnd.ODVspreadsheet.load(Float64,[\"data_from_med_profiles_non-restricted_v2.txt\"],\n",
       "      [\"Water body salinity\"]; nametype = :localname );\n",
       "\\end{verbatim}\n",
       "No checks are done if the units are consistent.\n",
       "\n",
       "\\rule{\\textwidth}{1pt}\n",
       "\\begin{verbatim}\n",
       " profiles,lons,lats,depths,times,ids = load(T,dir,P01names)\n",
       "\\end{verbatim}\n",
       "Load all ODV files under the directory \\texttt{dir} corresponding the one of the parameter names \\texttt{P01names}. The resulting vectors have the data type \\texttt{T} (expect \\texttt{times} and \\texttt{ids} which are vectors of \\texttt{DateTime} and \\texttt{String} respectively).\n",
       "\n",
       "No checks are done if the units are consistent.\n",
       "\n"
      ],
      "text/markdown": [
       "```\n",
       " obsvalue,obslon,obslat,obsdepth,obstime,obsids = load(T,fnames,datanames;\n",
       "    qv_flags = [DIVAnd.ODVspreadsheet.GOOD_VALUE,\n",
       "                DIVAnd.ODVspreadsheet.PROBABLY_GOOD_VALUE],\n",
       "    nametype = :P01,\n",
       "    qvlocalname = \"QV:SEADATANET\")\n",
       "```\n",
       "\n",
       "Load all profiles in all file from the array `fnames` corresponding to one of the parameter names `datanames`. If `nametype` is `:P01` (default), the datanames are P01 vocabulary names with the SDN prefix. If nametype is `:localname`, then they are the ODV column header without units. For example if the column header is `Water body salinity [per mille]`, then `datenames` should be `[\"Water body salinity\"]`. The resulting vectors have the data type `T` (expect `times` and `ids` which are vectors of `DateTime` and `String` respectively). Only values matching the quality flag `qv_flags` are retained. `qv_flags` is a vector of Strings (based on http://vocab.nerc.ac.uk/collection/L20/current/, e.g. \"1\" means \"good value\"). One can also use the constants these constants (prefixed with `DIVAnd.ODVspreadsheet.`):\n",
       "\n",
       "`qvlocalname` is the column name to denote quality flags. It is assumed that the quality flags follow immediatly the data column.\n",
       "\n",
       "|                     constant | value |\n",
       "| ----------------------------:| -----:|\n",
       "|         `NO_QUALITY_CONTROL` |   \"0\" |\n",
       "|                 `GOOD_VALUE` |   \"1\" |\n",
       "|        `PROBABLY_GOOD_VALUE` |   \"2\" |\n",
       "|         `PROBABLY_BAD_VALUE` |   \"3\" |\n",
       "|                  `BAD_VALUE` |   \"4\" |\n",
       "|              `CHANGED_VALUE` |   \"5\" |\n",
       "|      `VALUE_BELOW_DETECTION` |   \"6\" |\n",
       "|            `VALUE_IN_EXCESS` |   \"7\" |\n",
       "|         `INTERPOLATED_VALUE` |   \"8\" |\n",
       "|              `MISSING_VALUE` |   \"9\" |\n",
       "| `VALUE_PHENOMENON_UNCERTAIN` |   \"A\" |\n",
       "\n",
       "If the ODV does not contain a semantic header (e.g. for the aggregated ODV files), then local names must be used.\n",
       "\n",
       "```julia-repl\n",
       "julia> data,obslon,obslat,obsdepth,obstime,obsids = DIVAnd.ODVspreadsheet.load(Float64,[\"data_from_med_profiles_non-restricted_v2.txt\"],\n",
       "      [\"Water body salinity\"]; nametype = :localname );\n",
       "```\n",
       "\n",
       "No checks are done if the units are consistent.\n",
       "\n",
       "---\n",
       "\n",
       "```\n",
       " profiles,lons,lats,depths,times,ids = load(T,dir,P01names)\n",
       "```\n",
       "\n",
       "Load all ODV files under the directory `dir` corresponding the one of the parameter names `P01names`. The resulting vectors have the data type `T` (expect `times` and `ids` which are vectors of `DateTime` and `String` respectively).\n",
       "\n",
       "No checks are done if the units are consistent.\n"
      ],
      "text/plain": [
       "\u001b[36m   obsvalue,obslon,obslat,obsdepth,obstime,obsids = load(T,fnames,datanames;\u001b[39m\n",
       "\u001b[36m      qv_flags = [DIVAnd.ODVspreadsheet.GOOD_VALUE,\u001b[39m\n",
       "\u001b[36m                  DIVAnd.ODVspreadsheet.PROBABLY_GOOD_VALUE],\u001b[39m\n",
       "\u001b[36m      nametype = :P01,\u001b[39m\n",
       "\u001b[36m      qvlocalname = \"QV:SEADATANET\")\u001b[39m\n",
       "\n",
       "  Load all profiles in all file from the array \u001b[36mfnames\u001b[39m corresponding to one of\n",
       "  the parameter names \u001b[36mdatanames\u001b[39m. If \u001b[36mnametype\u001b[39m is \u001b[36m:P01\u001b[39m (default), the datanames\n",
       "  are P01 vocabulary names with the SDN prefix. If nametype is \u001b[36m:localname\u001b[39m,\n",
       "  then they are the ODV column header without units. For example if the column\n",
       "  header is \u001b[36mWater body salinity [per mille]\u001b[39m, then \u001b[36mdatenames\u001b[39m should be \u001b[36m[\"Water\n",
       "  body salinity\"]\u001b[39m. The resulting vectors have the data type \u001b[36mT\u001b[39m (expect \u001b[36mtimes\u001b[39m\n",
       "  and \u001b[36mids\u001b[39m which are vectors of \u001b[36mDateTime\u001b[39m and \u001b[36mString\u001b[39m respectively). Only values\n",
       "  matching the quality flag \u001b[36mqv_flags\u001b[39m are retained. \u001b[36mqv_flags\u001b[39m is a vector of\n",
       "  Strings (based on http://vocab.nerc.ac.uk/collection/L20/current/, e.g. \"1\"\n",
       "  means \"good value\"). One can also use the constants these constants\n",
       "  (prefixed with \u001b[36mDIVAnd.ODVspreadsheet.\u001b[39m):\n",
       "\n",
       "  \u001b[36mqvlocalname\u001b[39m is the column name to denote quality flags. It is assumed that\n",
       "  the quality flags follow immediatly the data column.\n",
       "\n",
       "                  constant value\n",
       "–––––––––––––––––––––––––– –––––\n",
       "        \u001b[36mNO_QUALITY_CONTROL\u001b[39m   \"0\"\n",
       "                \u001b[36mGOOD_VALUE\u001b[39m   \"1\"\n",
       "       \u001b[36mPROBABLY_GOOD_VALUE\u001b[39m   \"2\"\n",
       "        \u001b[36mPROBABLY_BAD_VALUE\u001b[39m   \"3\"\n",
       "                 \u001b[36mBAD_VALUE\u001b[39m   \"4\"\n",
       "             \u001b[36mCHANGED_VALUE\u001b[39m   \"5\"\n",
       "     \u001b[36mVALUE_BELOW_DETECTION\u001b[39m   \"6\"\n",
       "           \u001b[36mVALUE_IN_EXCESS\u001b[39m   \"7\"\n",
       "        \u001b[36mINTERPOLATED_VALUE\u001b[39m   \"8\"\n",
       "             \u001b[36mMISSING_VALUE\u001b[39m   \"9\"\n",
       "\u001b[36mVALUE_PHENOMENON_UNCERTAIN\u001b[39m   \"A\"\n",
       "\n",
       "  If the ODV does not contain a semantic header (e.g. for the aggregated ODV\n",
       "  files), then local names must be used.\n",
       "\n",
       "\u001b[36m  julia> data,obslon,obslat,obsdepth,obstime,obsids = DIVAnd.ODVspreadsheet.load(Float64,[\"data_from_med_profiles_non-restricted_v2.txt\"],\u001b[39m\n",
       "\u001b[36m        [\"Water body salinity\"]; nametype = :localname );\u001b[39m\n",
       "\n",
       "  No checks are done if the units are consistent.\n",
       "\n",
       "  ────────────────────────────────────────────────────────────────────────────\n",
       "\n",
       "\u001b[36m   profiles,lons,lats,depths,times,ids = load(T,dir,P01names)\u001b[39m\n",
       "\n",
       "  Load all ODV files under the directory \u001b[36mdir\u001b[39m corresponding the one of the\n",
       "  parameter names \u001b[36mP01names\u001b[39m. The resulting vectors have the data type \u001b[36mT\u001b[39m (expect\n",
       "  \u001b[36mtimes\u001b[39m and \u001b[36mids\u001b[39m which are vectors of \u001b[36mDateTime\u001b[39m and \u001b[36mString\u001b[39m respectively).\n",
       "\n",
       "  No checks are done if the units are consistent."
      ]
     },
     "execution_count": 105,
     "metadata": {},
     "output_type": "execute_result"
    }
   ],
   "source": [
    "?ODVspreadsheet.load"
   ]
  },
  {
   "cell_type": "code",
   "execution_count": 106,
   "metadata": {},
   "outputs": [
    {
     "name": "stderr",
     "output_type": "stream",
     "text": [
      "┌ Info: Reading data from file small_ODV_sample.txt\n",
      "└ @ DIVAnd.ODVspreadsheet /home/abarth/projects/Julia/DIVAnd.jl/src/ODVspreadsheet.jl:81\n",
      "┌ Info: No. of profiles in the file: 71\n",
      "└ @ DIVAnd.ODVspreadsheet /home/abarth/projects/Julia/DIVAnd.jl/src/ODVspreadsheet.jl:250\n"
     ]
    }
   ],
   "source": [
    "obsval_ODV,obslon_ODV,obslat_ODV,obsdepth_ODV,obstime_ODV,obsid_ODV = ODVspreadsheet.load(Float64,[\"small_ODV_sample.txt\"],\n",
    "                           [\"Water body salinity\"]; nametype = :localname );"
   ]
  },
  {
   "cell_type": "code",
   "execution_count": 107,
   "metadata": {},
   "outputs": [
    {
     "data": {
      "text/plain": [
       "28264"
      ]
     },
     "execution_count": 107,
     "metadata": {},
     "output_type": "execute_result"
    }
   ],
   "source": [
    "length(obsval_ODV)"
   ]
  },
  {
   "cell_type": "code",
   "execution_count": 108,
   "metadata": {},
   "outputs": [
    {
     "name": "stdout",
     "output_type": "stream",
     "text": [
      "              minimum and maximum of obs. dimension 1: (16.72791, 17.98836)\n",
      "              minimum and maximum of obs. dimension 2: (35.216, 36.25)\n",
      "              minimum and maximum of obs. dimension 3: (0.0, 4020.61646)\n",
      "              minimum and maximum of obs. dimension 4: (1966-02-13T05:00:00, 2016-11-24T10:39:00)\n",
      "                          minimum and maximum of data: (37.1775, 39.313)\n"
     ]
    },
    {
     "name": "stderr",
     "output_type": "stream",
     "text": [
      "┌ Info: Checking ranges for dimensions and observations\n",
      "└ @ DIVAnd /home/abarth/projects/Julia/DIVAnd.jl/src/obsstat.jl:75\n"
     ]
    }
   ],
   "source": [
    "checkobs((obslon_ODV,obslat_ODV,obsdepth_ODV,obstime_ODV),obsval_ODV,obsid_ODV)"
   ]
  },
  {
   "cell_type": "code",
   "execution_count": 109,
   "metadata": {},
   "outputs": [
    {
     "data": {
      "image/png": "[encoded data removed]",
      "text/plain": [
       "Figure(PyObject <Figure size 640x480 with 1 Axes>)"
      ]
     },
     "metadata": {},
     "output_type": "display_data"
    }
   ],
   "source": [
    "scatter(obslon_ODV,obslat_ODV,10,obsval_ODV); "
   ]
  },
  {
   "cell_type": "markdown",
   "metadata": {},
   "source": [
    "Look for duplicates\n",
    "* within 0.01 degree (about 1km)\n",
    "* within 0.01 m depth\n",
    "* within 1 minute.      \n",
    "\n",
    "Difference in value is 0.01 psu."
   ]
  },
  {
   "cell_type": "code",
   "execution_count": 110,
   "metadata": {},
   "outputs": [],
   "source": [
    "dupl = DIVAnd.Quadtrees.checkduplicates((obslon_ODV,obslat_ODV,obsdepth_ODV,obstime_ODV),\n",
    "    obsval_ODV,(obslon,obslat,obsdepth,obstime),\n",
    "    obsval,(0.01,0.01,0.01,1/(24*60)),0.01);"
   ]
  },
  {
   "cell_type": "code",
   "execution_count": 111,
   "metadata": {},
   "outputs": [
    {
     "data": {
      "text/plain": [
       "true"
      ]
     },
     "execution_count": 111,
     "metadata": {},
     "output_type": "execute_result"
    }
   ],
   "source": [
    "size(obsval) == size(dupl)"
   ]
  },
  {
   "cell_type": "markdown",
   "metadata": {},
   "source": [
    "* `dupl` is an array of the same length as `obsval`\n",
    "* If the i-th element of `dupl` is an empty list, then the i-th element in `obsval` is probably not a duplicate\n",
    "* Otherwise, the i-th element in `obsval` is probably a duplicate of the element `val_ODV` with the indices `dupl[i]`."
   ]
  },
  {
   "cell_type": "code",
   "execution_count": 112,
   "metadata": {},
   "outputs": [
    {
     "data": {
      "text/plain": [
       "0-element Array{Int64,1}"
      ]
     },
     "execution_count": 112,
     "metadata": {},
     "output_type": "execute_result"
    }
   ],
   "source": [
    "dupl[1]"
   ]
  },
  {
   "cell_type": "markdown",
   "metadata": {},
   "source": [
    "To get a list of possible duplicates, we check for the elements of `dupl` that are not empty."
   ]
  },
  {
   "cell_type": "code",
   "execution_count": 113,
   "metadata": {},
   "outputs": [
    {
     "data": {
      "text/plain": [
       "5195-element Array{Int64,1}:\n",
       " 3195059\n",
       " 3195060\n",
       " 3195062\n",
       " 3195063\n",
       " 3195065\n",
       " 3195066\n",
       " 3195067\n",
       " 3195069\n",
       " 3195070\n",
       " 3195071\n",
       " 3195073\n",
       " 3195074\n",
       " 3195075\n",
       "       ⋮\n",
       " 4268649\n",
       " 4268651\n",
       " 4268652\n",
       " 4268653\n",
       " 4268654\n",
       " 4268656\n",
       " 4268657\n",
       " 4268658\n",
       " 4268660\n",
       " 4268661\n",
       " 4268662\n",
       " 4268663"
      ]
     },
     "execution_count": 113,
     "metadata": {},
     "output_type": "execute_result"
    }
   ],
   "source": [
    "index = findall(.!isempty.(dupl))"
   ]
  },
  {
   "cell_type": "markdown",
   "metadata": {},
   "source": [
    "Number of duplicate candidates"
   ]
  },
  {
   "cell_type": "code",
   "execution_count": 114,
   "metadata": {},
   "outputs": [
    {
     "data": {
      "text/plain": [
       "5195"
      ]
     },
     "execution_count": 114,
     "metadata": {},
     "output_type": "execute_result"
    }
   ],
   "source": [
    "length(index)"
   ]
  },
  {
   "cell_type": "markdown",
   "metadata": {},
   "source": [
    "Check the first reported duplicate"
   ]
  },
  {
   "cell_type": "code",
   "execution_count": 115,
   "metadata": {},
   "outputs": [
    {
     "data": {
      "text/plain": [
       "3195059"
      ]
     },
     "execution_count": 115,
     "metadata": {},
     "output_type": "execute_result"
    }
   ],
   "source": [
    "if length(index) > 0\n",
    "    index_WOD = index[1]\n",
    "else\n",
    "    @info(\"No duplicate detected\")\n",
    "end"
   ]
  },
  {
   "cell_type": "markdown",
   "metadata": {},
   "source": [
    "Show its coordinates and value from the ODV file:"
   ]
  },
  {
   "cell_type": "code",
   "execution_count": 116,
   "metadata": {},
   "outputs": [
    {
     "data": {
      "text/plain": [
       "(17.885482788085938, 35.23445129394531, 2.4818837642669678, 2016-06-14T10:38:27.239, 38.85300064086914)"
      ]
     },
     "execution_count": 116,
     "metadata": {},
     "output_type": "execute_result"
    }
   ],
   "source": [
    "obslon[index_WOD],obslat[index_WOD],obsdepth[index_WOD],obstime[index_WOD],obsval[index_WOD]"
   ]
  },
  {
   "cell_type": "markdown",
   "metadata": {},
   "source": [
    "They are quite close to the data point with the index:"
   ]
  },
  {
   "cell_type": "code",
   "execution_count": 117,
   "metadata": {},
   "outputs": [
    {
     "data": {
      "text/plain": [
       "1-element Array{Int64,1}:\n",
       " 20508"
      ]
     },
     "execution_count": 117,
     "metadata": {},
     "output_type": "execute_result"
    }
   ],
   "source": [
    "dupl[index_WOD]"
   ]
  },
  {
   "cell_type": "code",
   "execution_count": 118,
   "metadata": {},
   "outputs": [
    {
     "data": {
      "text/plain": [
       "20508"
      ]
     },
     "execution_count": 118,
     "metadata": {},
     "output_type": "execute_result"
    }
   ],
   "source": [
    "index_ODV = dupl[index_WOD][1]"
   ]
  },
  {
   "cell_type": "code",
   "execution_count": 119,
   "metadata": {},
   "outputs": [
    {
     "data": {
      "text/plain": [
       "(17.88548, 35.23445, 2.48189, 2016-06-14T10:39:00, 38.853)"
      ]
     },
     "execution_count": 119,
     "metadata": {},
     "output_type": "execute_result"
    }
   ],
   "source": [
    "obslon_ODV[index_ODV],obslat_ODV[index_ODV],\n",
    "obsdepth_ODV[index_ODV],obstime_ODV[index_ODV],\n",
    "obsval_ODV[index_ODV]"
   ]
  },
  {
   "cell_type": "markdown",
   "metadata": {},
   "source": [
    "Indeed, it is quite likely that they are duplicates.\n",
    "\n",
    "Combine the dataset and retain only new points from WOD"
   ]
  },
  {
   "cell_type": "code",
   "execution_count": 120,
   "metadata": {},
   "outputs": [],
   "source": [
    "#find(isempty.(dupl))"
   ]
  },
  {
   "cell_type": "code",
   "execution_count": 121,
   "metadata": {},
   "outputs": [
    {
     "name": "stdout",
     "output_type": "stream",
     "text": [
      "length(newpoints) = 4504594\n"
     ]
    },
    {
     "data": {
      "text/plain": [
       "4504594"
      ]
     },
     "execution_count": 121,
     "metadata": {},
     "output_type": "execute_result"
    }
   ],
   "source": [
    "newpoints = findall(isempty.(dupl));\n",
    "@show length(newpoints)"
   ]
  },
  {
   "cell_type": "code",
   "execution_count": 122,
   "metadata": {},
   "outputs": [],
   "source": [
    "obslon_combined   = [obslon_ODV;   obslon[newpoints]];\n",
    "obslat_combined   = [obslat_ODV;   obslat[newpoints]];\n",
    "obsdepth_combined = [obsdepth_ODV; obsdepth[newpoints]];\n",
    "obstime_combined  = [obstime_ODV;  obstime[newpoints]];\n",
    "obsval_combined   = [obsval_ODV;   obsval[newpoints]];\n",
    "obsids_combined   = [obsid_ODV;   obsid[newpoints]];"
   ]
  },
  {
   "cell_type": "markdown",
   "metadata": {},
   "source": [
    "## CMEMS data download\n",
    "The function works in a similar way."
   ]
  },
  {
   "cell_type": "code",
   "execution_count": 123,
   "metadata": {},
   "outputs": [
    {
     "data": {
      "text/latex": [
       "\\begin{verbatim}\n",
       "CMEMS.download(lonr,latr,timerange,param,username,password,basedir[; indexURLs = ...])\n",
       "\\end{verbatim}\n",
       "Download in situ data within the longitude range \\texttt{lonr} (an array or tuple with two elements: the minimum longitude and the maximum longitude), the latitude range \\texttt{latr} (likewise), time range \\texttt{timerange} (an array or tuple with two \\texttt{DateTime} structures: the starting date and the end date) from the CMEMS (Copernicus Marine environment monitoring service) in situ service \\footnotemark[1]. \\texttt{param} is one of the parameter codes as defined in \\footnotemark[2] or \\footnotemark[3]. \\texttt{username} and \\texttt{password} are the credentials to access data \\footnotemark[1] and \\texttt{basedir} is the directory under which the data is saved. \\texttt{indexURLs} is a list of the URL to the \\texttt{index\\_history.txt} file. Per default, it includes the URLs of the Baltic, Arctic, North West Shelf, Iberian, Mediteranean and Black Sea Thematic Assembly Center.\n",
       "\n",
       "As these URLs might change, the latest version of the URLs to the indexes can be obtained at \\footnotemark[1].\n",
       "\n",
       "\\section{Example}\n",
       "\\begin{verbatim}\n",
       "julia> username = \"...\"\n",
       "julia> password = \"...\"\n",
       "julia> lonr = [7.6, 12.2]\n",
       "julia> latr = [42, 44.5]\n",
       "julia> timerange = [DateTime(2016,5,1),DateTime(2016,8,1)]\n",
       "julia> param = \"TEMP\"\n",
       "julia> basedir = \"/tmp\"\n",
       "julia> files = CMEMS.download(lonr,latr,timerange,param,username,password,basedir)\n",
       "\\end{verbatim}\n",
       "\\footnotetext[1]{http://marine.copernicus.eu/\n",
       "\n",
       "}\n",
       "\\footnotetext[2]{http://www.coriolis.eu.org/Documentation/General-Informations-on-Data/Codes-Tables\n",
       "\n",
       "}\n",
       "\\footnotetext[3]{http://doi.org/10.13155/40846\n",
       "\n",
       "}\n"
      ],
      "text/markdown": [
       "```\n",
       "CMEMS.download(lonr,latr,timerange,param,username,password,basedir[; indexURLs = ...])\n",
       "```\n",
       "\n",
       "Download in situ data within the longitude range `lonr` (an array or tuple with two elements: the minimum longitude and the maximum longitude), the latitude range `latr` (likewise), time range `timerange` (an array or tuple with two `DateTime` structures: the starting date and the end date) from the CMEMS (Copernicus Marine environment monitoring service) in situ service [^1]. `param` is one of the parameter codes as defined in [^2] or [^3]. `username` and `password` are the credentials to access data [^1] and `basedir` is the directory under which the data is saved. `indexURLs` is a list of the URL to the `index_history.txt` file. Per default, it includes the URLs of the Baltic, Arctic, North West Shelf, Iberian, Mediteranean and Black Sea Thematic Assembly Center.\n",
       "\n",
       "As these URLs might change, the latest version of the URLs to the indexes can be obtained at [^1].\n",
       "\n",
       "# Example\n",
       "\n",
       "```julia-repl\n",
       "julia> username = \"...\"\n",
       "julia> password = \"...\"\n",
       "julia> lonr = [7.6, 12.2]\n",
       "julia> latr = [42, 44.5]\n",
       "julia> timerange = [DateTime(2016,5,1),DateTime(2016,8,1)]\n",
       "julia> param = \"TEMP\"\n",
       "julia> basedir = \"/tmp\"\n",
       "julia> files = CMEMS.download(lonr,latr,timerange,param,username,password,basedir)\n",
       "```\n",
       "\n",
       "[^1]: http://marine.copernicus.eu/\n",
       "\n",
       "[^2]: http://www.coriolis.eu.org/Documentation/General-Informations-on-Data/Codes-Tables\n",
       "\n",
       "[^3]: http://doi.org/10.13155/40846\n"
      ],
      "text/plain": [
       "\u001b[36m  CMEMS.download(lonr,latr,timerange,param,username,password,basedir[; indexURLs = ...])\u001b[39m\n",
       "\n",
       "  Download in situ data within the longitude range \u001b[36mlonr\u001b[39m (an array or tuple\n",
       "  with two elements: the minimum longitude and the maximum longitude), the\n",
       "  latitude range \u001b[36mlatr\u001b[39m (likewise), time range \u001b[36mtimerange\u001b[39m (an array or tuple with\n",
       "  two \u001b[36mDateTime\u001b[39m structures: the starting date and the end date) from the CMEMS\n",
       "  (Copernicus Marine environment monitoring service) in situ service \u001b[1m[^1]\u001b[22m.\n",
       "  \u001b[36mparam\u001b[39m is one of the parameter codes as defined in \u001b[1m[^2]\u001b[22m or \u001b[1m[^3]\u001b[22m. \u001b[36musername\u001b[39m and\n",
       "  \u001b[36mpassword\u001b[39m are the credentials to access data \u001b[1m[^1]\u001b[22m and \u001b[36mbasedir\u001b[39m is the\n",
       "  directory under which the data is saved. \u001b[36mindexURLs\u001b[39m is a list of the URL to\n",
       "  the \u001b[36mindex_history.txt\u001b[39m file. Per default, it includes the URLs of the Baltic,\n",
       "  Arctic, North West Shelf, Iberian, Mediteranean and Black Sea Thematic\n",
       "  Assembly Center.\n",
       "\n",
       "  As these URLs might change, the latest version of the URLs to the indexes\n",
       "  can be obtained at \u001b[1m[^1]\u001b[22m.\n",
       "\n",
       "\u001b[1m  Example\u001b[22m\n",
       "\u001b[1m  ≡≡≡≡≡≡≡≡≡\u001b[22m\n",
       "\n",
       "\u001b[36m  julia> username = \"...\"\u001b[39m\n",
       "\u001b[36m  julia> password = \"...\"\u001b[39m\n",
       "\u001b[36m  julia> lonr = [7.6, 12.2]\u001b[39m\n",
       "\u001b[36m  julia> latr = [42, 44.5]\u001b[39m\n",
       "\u001b[36m  julia> timerange = [DateTime(2016,5,1),DateTime(2016,8,1)]\u001b[39m\n",
       "\u001b[36m  julia> param = \"TEMP\"\u001b[39m\n",
       "\u001b[36m  julia> basedir = \"/tmp\"\u001b[39m\n",
       "\u001b[36m  julia> files = CMEMS.download(lonr,latr,timerange,param,username,password,basedir)\u001b[39m\n",
       "\n",
       "  │ \u001b[0m\u001b[1m[^1]\u001b[22m\n",
       "  │\n",
       "  │  http://marine.copernicus.eu/\n",
       "\n",
       "  │ \u001b[0m\u001b[1m[^2]\u001b[22m\n",
       "  │\n",
       "  │  http://www.coriolis.eu.org/Documentation/General-Informations-on-Data/Codes-Tables\n",
       "\n",
       "  │ \u001b[0m\u001b[1m[^3]\u001b[22m\n",
       "  │\n",
       "  │  http://doi.org/10.13155/40846"
      ]
     },
     "execution_count": 123,
     "metadata": {},
     "output_type": "execute_result"
    }
   ],
   "source": [
    "?CMEMS.download"
   ]
  },
  {
   "cell_type": "markdown",
   "metadata": {},
   "source": [
    "## Exercice\n",
    "1. Download data from CMEMS in the same domain and for the same time period.\n",
    "2. Plot the data location on a map along with the WOD observations.\n",
    "3. Check for the duplicates between the two datasets."
   ]
  }
 ],
 "metadata": {
  "@webio": {
   "lastCommId": null,
   "lastKernelId": null
  },
  "kernelspec": {
   "display_name": "Julia 1.0.3",
   "language": "julia",
   "name": "julia-1.0"
  },
  "language_info": {
   "file_extension": ".jl",
   "mimetype": "application/julia",
   "name": "julia",
   "version": "1.0.3"
  }
 },
 "nbformat": 4,
 "nbformat_minor": 2
}
