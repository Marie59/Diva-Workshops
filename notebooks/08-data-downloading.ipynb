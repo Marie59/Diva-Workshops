{
 "cells": [
  {
   "cell_type": "markdown",
   "metadata": {},
   "source": [
    "# Automatic data downloading\n",
    "\n",
    "* In this example we will show how one can download data from a jupyter notebook.\n",
    "* The [PhysOcean](https://github.com/gher-ulg/PhysOcean.jl) module provides ways to automatically download data from the World Ocean Database and from CMEMS In-Situ TAC.\n",
    "* This module can be installed by: \n",
    "\n",
    "```julia\n",
    "Pkg.add(\"PhysOcean\")\n",
    "```"
   ]
  },
  {
   "cell_type": "code",
   "execution_count": 1,
   "metadata": {},
   "outputs": [
    {
     "name": "stderr",
     "output_type": "stream",
     "text": [
      "\u001b[1m\u001b[33mWARNING: \u001b[39m\u001b[22m\u001b[33mHTTP is fixed at 0.6.8 conflicting with requirement for divand: [0.6.0,0.6.8)\u001b[39m\n",
      "\u001b[1m\u001b[36mINFO: \u001b[39m\u001b[22m\u001b[36mUpdating cache of PhysOcean...\n",
      "\u001b[39m\u001b[1m\u001b[36mINFO: \u001b[39m\u001b[22m\u001b[36mInstalling PhysOcean v0.2.0\n",
      "\u001b[39m\u001b[1m\u001b[36mINFO: \u001b[39m\u001b[22m\u001b[36mBuilding Conda\n",
      "\u001b[39m\u001b[1m\u001b[36mINFO: \u001b[39m\u001b[22m\u001b[36mBuilding SpecialFunctions\n",
      "\u001b[39m\u001b[1m\u001b[36mINFO: \u001b[39m\u001b[22m\u001b[36mBuilding NCDatasets\n",
      "\u001b[39m\u001b[1m\u001b[36mINFO: \u001b[39m\u001b[22m\u001b[36mBuilding HttpParser\n",
      "\u001b[39m\u001b[1m\u001b[36mINFO: \u001b[39m\u001b[22m\u001b[36mBuilding MbedTLS\n",
      "\u001b[39m\u001b[1m\u001b[36mINFO: \u001b[39m\u001b[22m\u001b[36mBuilding Gumbo\n",
      "\u001b[39m\u001b[1m\u001b[36mINFO: \u001b[39m\u001b[22m\u001b[36mPackage database updated\n",
      "\u001b[39m\u001b[1m\u001b[36mINFO: \u001b[39m\u001b[22m\u001b[36mMETADATA is out-of-date — you may not have the latest version of PhysOcean\n",
      "\u001b[39m\u001b[1m\u001b[36mINFO: \u001b[39m\u001b[22m\u001b[36mUse `Pkg.update()` to get the latest versions of your packages\n",
      "\u001b[39m"
     ]
    }
   ],
   "source": [
    "Pkg.add(\"PhysOcean\")"
   ]
  },
  {
   "cell_type": "markdown",
   "metadata": {},
   "source": [
    "Import the necessary packages"
   ]
  },
  {
   "cell_type": "code",
   "execution_count": 2,
   "metadata": {
    "slideshow": {
     "slide_type": "fragment"
    }
   },
   "outputs": [
    {
     "name": "stderr",
     "output_type": "stream",
     "text": [
      "\u001b[1m\u001b[36mINFO: \u001b[39m\u001b[22m\u001b[36mRecompiling stale cache file /home/abarth/.julia/lib/v0.6/NCDatasets.ji for module NCDatasets.\n",
      "\u001b[39m\u001b[1m\u001b[36mINFO: \u001b[39m\u001b[22m\u001b[36mRecompiling stale cache file /home/abarth/.julia/lib/v0.6/AbstractTrees.ji for module AbstractTrees.\n",
      "\u001b[39m\u001b[1m\u001b[36mINFO: \u001b[39m\u001b[22m\u001b[36mRecompiling stale cache file /home/abarth/.julia/lib/v0.6/Glob.ji for module Glob.\n",
      "\u001b[39m"
     ]
    }
   ],
   "source": [
    "using PyPlot              # Visualization package\n",
    "using PhysOcean           # Download data from the World Ocean Database\n",
    "using divand              # DIVAnd "
   ]
  },
  {
   "cell_type": "markdown",
   "metadata": {},
   "source": [
    "Define the time and geospatial bounding box for downloading the data"
   ]
  },
  {
   "cell_type": "code",
   "execution_count": 8,
   "metadata": {
    "slideshow": {
     "slide_type": "subslide"
    }
   },
   "outputs": [
    {
     "data": {
      "text/plain": [
       "2-element Array{Date,1}:\n",
       " 2016-01-01\n",
       " 2016-12-31"
      ]
     },
     "execution_count": 8,
     "metadata": {},
     "output_type": "execute_result"
    }
   ],
   "source": [
    "# resolution (the resolution is only used for DIVAnd analyses)\n",
    "dx = dy = 0.25   # medium size test \n",
    "\n",
    "# vectors defining the longitude and latitudes grids\n",
    "# Here longitude and latitude correspond to the Mediterranean Sea\n",
    "lonr = -7:dx:37\n",
    "latr = 30:dy:46\n",
    "\n",
    "# time range of the in-situ data\n",
    "timerange = [Date(2016,1,1),Date(2016,12,31)]"
   ]
  },
  {
   "cell_type": "code",
   "execution_count": 9,
   "metadata": {},
   "outputs": [
    {
     "data": {
      "text/markdown": [
       "```\n",
       "dirnames,indexnames = WorldOceanDatabase.download(lonrange,latrange,timerange,\n",
       "  variable,email,basedir)\n",
       "```\n",
       "\n",
       "Download data using the NODC web-service. The range parameters are vectors from with the frist element is the lower bound and the last element is the upper bound. The parameters of the functions will  be transmitted to nodc.noaa.gov (http://www.noaa.gov/privacy.html). Note that no XBT corrections are applied. The table below show the avialable variable and their units.\n",
       "\n",
       "| Variables                          | Unit     |\n",
       "|:---------------------------------- |:-------- |\n",
       "| Temperature                        | °C       |\n",
       "| Salinity                           | unitless |\n",
       "| Oxygen                             | ml l⁻¹   |\n",
       "| Phosphate                          | µM       |\n",
       "| Silicate                           | µM       |\n",
       "| Nitrate and Nitrate+Nitrite        | µM       |\n",
       "| pH                                 | unitless |\n",
       "| Chlorophyll                        | µg l⁻¹   |\n",
       "| Plankton                           | multiple |\n",
       "| Alkalinity                         | meq l⁻¹  |\n",
       "| Partial Pressure of Carbon Dioxide | µatm     |\n",
       "| Dissolved Inorganic Carbon         | mM       |\n",
       "| Transmissivity                     | m⁻¹      |\n",
       "| Pressure                           | dbar     |\n",
       "| Air temperature                    | °C       |\n",
       "| CO2 warming                        | °C       |\n",
       "| CO2 atmosphere                     | ppm      |\n",
       "| Air pressure                       | mbar     |\n",
       "| Tritium                            | TU       |\n",
       "| Helium                             | nM       |\n",
       "| Delta Helium-3                     | %        |\n",
       "| Delta Carbon-14                    | ᵒ/ᵒᵒ     |\n",
       "| Delta Carbon-13                    | ᵒ/ᵒᵒ     |\n",
       "| Argon                              | nM       |\n",
       "| Neon                               | nM       |\n",
       "| Chlorofluorocarbon 11 (CFC 11)     | pM       |\n",
       "| Chlorofluorocarbon 12 (CFC 12)     | pM       |\n",
       "| Chlorofluorocarbon 113 (CFC 113)   | pM       |\n",
       "| Delta Oxygen-18                    | ᵒ/ᵒᵒ     |\n"
      ],
      "text/plain": [
       "```\n",
       "dirnames,indexnames = WorldOceanDatabase.download(lonrange,latrange,timerange,\n",
       "  variable,email,basedir)\n",
       "```\n",
       "\n",
       "Download data using the NODC web-service. The range parameters are vectors from with the frist element is the lower bound and the last element is the upper bound. The parameters of the functions will  be transmitted to nodc.noaa.gov (http://www.noaa.gov/privacy.html). Note that no XBT corrections are applied. The table below show the avialable variable and their units.\n",
       "\n",
       "| Variables                          | Unit     |\n",
       "|:---------------------------------- |:-------- |\n",
       "| Temperature                        | °C       |\n",
       "| Salinity                           | unitless |\n",
       "| Oxygen                             | ml l⁻¹   |\n",
       "| Phosphate                          | µM       |\n",
       "| Silicate                           | µM       |\n",
       "| Nitrate and Nitrate+Nitrite        | µM       |\n",
       "| pH                                 | unitless |\n",
       "| Chlorophyll                        | µg l⁻¹   |\n",
       "| Plankton                           | multiple |\n",
       "| Alkalinity                         | meq l⁻¹  |\n",
       "| Partial Pressure of Carbon Dioxide | µatm     |\n",
       "| Dissolved Inorganic Carbon         | mM       |\n",
       "| Transmissivity                     | m⁻¹      |\n",
       "| Pressure                           | dbar     |\n",
       "| Air temperature                    | °C       |\n",
       "| CO2 warming                        | °C       |\n",
       "| CO2 atmosphere                     | ppm      |\n",
       "| Air pressure                       | mbar     |\n",
       "| Tritium                            | TU       |\n",
       "| Helium                             | nM       |\n",
       "| Delta Helium-3                     | %        |\n",
       "| Delta Carbon-14                    | ᵒ/ᵒᵒ     |\n",
       "| Delta Carbon-13                    | ᵒ/ᵒᵒ     |\n",
       "| Argon                              | nM       |\n",
       "| Neon                               | nM       |\n",
       "| Chlorofluorocarbon 11 (CFC 11)     | pM       |\n",
       "| Chlorofluorocarbon 12 (CFC 12)     | pM       |\n",
       "| Chlorofluorocarbon 113 (CFC 113)   | pM       |\n",
       "| Delta Oxygen-18                    | ᵒ/ᵒᵒ     |\n"
      ]
     },
     "execution_count": 9,
     "metadata": {},
     "output_type": "execute_result"
    }
   ],
   "source": [
    "?WorldOceanDatabase.download"
   ]
  },
  {
   "cell_type": "code",
   "execution_count": 10,
   "metadata": {
    "slideshow": {
     "slide_type": "subslide"
    }
   },
   "outputs": [
    {
     "data": {
      "text/plain": [
       "\"Salinity\""
      ]
     },
     "execution_count": 10,
     "metadata": {},
     "output_type": "execute_result"
    }
   ],
   "source": [
    "# Name of the variable\n",
    "varname = \"Salinity\""
   ]
  },
  {
   "cell_type": "markdown",
   "metadata": {},
   "source": [
    "Please use your own email address (!) 😉     \n",
    "It is only use to get notified once the dataset is ready."
   ]
  },
  {
   "cell_type": "code",
   "execution_count": 11,
   "metadata": {
    "slideshow": {
     "slide_type": "subslide"
    }
   },
   "outputs": [
    {
     "data": {
      "text/plain": [
       "\"a.barth@ulg.ac.be\""
      ]
     },
     "execution_count": 11,
     "metadata": {},
     "output_type": "execute_result"
    }
   ],
   "source": [
    "# Email for downloading the data\n",
    "email = \"a.barth@ulg.ac.be\""
   ]
  },
  {
   "cell_type": "markdown",
   "metadata": {},
   "source": [
    "Define the directory where the results will be saved.    \n",
    "The tilde ~ will be replaced (expanded) by your home user directory.      \n",
    "The command `mkpath` will create this path if necessary (including parent path)."
   ]
  },
  {
   "cell_type": "code",
   "execution_count": 12,
   "metadata": {
    "slideshow": {
     "slide_type": "subslide"
    }
   },
   "outputs": [],
   "source": [
    "basedir = expanduser(\"~/Downloads/WOD/Med-2016-3\")\n",
    "mkpath(basedir)"
   ]
  },
  {
   "cell_type": "markdown",
   "metadata": {
    "slideshow": {
     "slide_type": "slide"
    }
   },
   "source": [
    "## Download the data\n",
    "\n",
    "* World Ocean Database: example for bulk access data by simulating a web-user.\n",
    "* Downloading can take several tens of minutes.\n",
    "* SeaDataNet will provide a dedicated machine-to-machine interface during the SeaDataCloud project"
   ]
  },
  {
   "cell_type": "code",
   "execution_count": 6,
   "metadata": {},
   "outputs": [
    {
     "data": {
      "text/markdown": [
       "```\n",
       "dirnames,indexnames = WorldOceanDatabase.download(lonrange,latrange,timerange,\n",
       "  variable,email,basedir)\n",
       "```\n",
       "\n",
       "Download data using the NODC web-service. The range parameters are vectors from with the frist element is the lower bound and the last element is the upper bound. The parameters of the functions will  be transmitted to nodc.noaa.gov (http://www.noaa.gov/privacy.html). Note that no XBT corrections are applied. The table below show the avialable variable and their units.\n",
       "\n",
       "| Variables                          | Unit     |\n",
       "|:---------------------------------- |:-------- |\n",
       "| Temperature                        | °C       |\n",
       "| Salinity                           | unitless |\n",
       "| Oxygen                             | ml l⁻¹   |\n",
       "| Phosphate                          | µM       |\n",
       "| Silicate                           | µM       |\n",
       "| Nitrate and Nitrate+Nitrite        | µM       |\n",
       "| pH                                 | unitless |\n",
       "| Chlorophyll                        | µg l⁻¹   |\n",
       "| Plankton                           | multiple |\n",
       "| Alkalinity                         | meq l⁻¹  |\n",
       "| Partial Pressure of Carbon Dioxide | µatm     |\n",
       "| Dissolved Inorganic Carbon         | mM       |\n",
       "| Transmissivity                     | m⁻¹      |\n",
       "| Pressure                           | dbar     |\n",
       "| Air temperature                    | °C       |\n",
       "| CO2 warming                        | °C       |\n",
       "| CO2 atmosphere                     | ppm      |\n",
       "| Air pressure                       | mbar     |\n",
       "| Tritium                            | TU       |\n",
       "| Helium                             | nM       |\n",
       "| Delta Helium-3                     | %        |\n",
       "| Delta Carbon-14                    | ᵒ/ᵒᵒ     |\n",
       "| Delta Carbon-13                    | ᵒ/ᵒᵒ     |\n",
       "| Argon                              | nM       |\n",
       "| Neon                               | nM       |\n",
       "| Chlorofluorocarbon 11 (CFC 11)     | pM       |\n",
       "| Chlorofluorocarbon 12 (CFC 12)     | pM       |\n",
       "| Chlorofluorocarbon 113 (CFC 113)   | pM       |\n",
       "| Delta Oxygen-18                    | ᵒ/ᵒᵒ     |\n"
      ],
      "text/plain": [
       "```\n",
       "dirnames,indexnames = WorldOceanDatabase.download(lonrange,latrange,timerange,\n",
       "  variable,email,basedir)\n",
       "```\n",
       "\n",
       "Download data using the NODC web-service. The range parameters are vectors from with the frist element is the lower bound and the last element is the upper bound. The parameters of the functions will  be transmitted to nodc.noaa.gov (http://www.noaa.gov/privacy.html). Note that no XBT corrections are applied. The table below show the avialable variable and their units.\n",
       "\n",
       "| Variables                          | Unit     |\n",
       "|:---------------------------------- |:-------- |\n",
       "| Temperature                        | °C       |\n",
       "| Salinity                           | unitless |\n",
       "| Oxygen                             | ml l⁻¹   |\n",
       "| Phosphate                          | µM       |\n",
       "| Silicate                           | µM       |\n",
       "| Nitrate and Nitrate+Nitrite        | µM       |\n",
       "| pH                                 | unitless |\n",
       "| Chlorophyll                        | µg l⁻¹   |\n",
       "| Plankton                           | multiple |\n",
       "| Alkalinity                         | meq l⁻¹  |\n",
       "| Partial Pressure of Carbon Dioxide | µatm     |\n",
       "| Dissolved Inorganic Carbon         | mM       |\n",
       "| Transmissivity                     | m⁻¹      |\n",
       "| Pressure                           | dbar     |\n",
       "| Air temperature                    | °C       |\n",
       "| CO2 warming                        | °C       |\n",
       "| CO2 atmosphere                     | ppm      |\n",
       "| Air pressure                       | mbar     |\n",
       "| Tritium                            | TU       |\n",
       "| Helium                             | nM       |\n",
       "| Delta Helium-3                     | %        |\n",
       "| Delta Carbon-14                    | ᵒ/ᵒᵒ     |\n",
       "| Delta Carbon-13                    | ᵒ/ᵒᵒ     |\n",
       "| Argon                              | nM       |\n",
       "| Neon                               | nM       |\n",
       "| Chlorofluorocarbon 11 (CFC 11)     | pM       |\n",
       "| Chlorofluorocarbon 12 (CFC 12)     | pM       |\n",
       "| Chlorofluorocarbon 113 (CFC 113)   | pM       |\n",
       "| Delta Oxygen-18                    | ᵒ/ᵒᵒ     |\n"
      ]
     },
     "execution_count": 6,
     "metadata": {},
     "output_type": "execute_result"
    }
   ],
   "source": [
    "?WorldOceanDatabase.download"
   ]
  },
  {
   "cell_type": "markdown",
   "metadata": {},
   "source": [
    "* comment this line (or skip this cell) if the data has already been downloaded"
   ]
  },
  {
   "cell_type": "code",
   "execution_count": 5,
   "metadata": {},
   "outputs": [
    {
     "data": {
      "text/markdown": [
       "```\n",
       "CMEMS.download(lonr,latr,timerange,param,username,password,basedir[; indexURLs = ...])\n",
       "```\n",
       "\n",
       "Download in situ data within the longitude range `lonr` (an array or tuple with  two elements: the minimum longitude and the maximum longitude), the latitude range `latr` (likewise), time range `timerange` (an array or tuple with two `DateTime`  structures: the starting date and the end date) from the CMEMS (Copernicus Marine environment monitoring service) in situ service [^1].   `param` is one of the parameter codes as defined in [^2] or [^3]. `username` and `password` are the credentials to access data [^1] and `basedir`  is the directory under which the data is saved. `indexURLs` is a list of the URL to the `index_history.txt` file. Per default, it includes the URLs of the Baltic, Arctic, North West Shelf, Iberian, Mediteranean and Black Sea Thematic  Assembly Center.\n",
       "\n",
       "As these URLs might change, the latest version of the URLs to the indexes can be obtained at [^1].\n",
       "\n",
       "# Example\n",
       "\n",
       "```julia-repl\n",
       "julia> username = \"...\"\n",
       "julia> password = \"...\"\n",
       "julia> lonr = [7.6, 12.2]\n",
       "julia> latr = [42, 44.5]\n",
       "julia> timerange = [DateTime(2016,5,1),DateTime(2016,8,1)]\n",
       "julia> param = \"TEMP\"\n",
       "julia> basedir = \"/tmp\"\n",
       "julia> files = CMEMS.download(lonr,latr,timerange,param,username,password,basedir)\n",
       "```\n",
       "\n",
       "[^1]: http://marine.copernicus.eu/\n",
       "\n",
       "[^2]: http://www.coriolis.eu.org/Documentation/General-Informations-on-Data/Codes-Tables\n",
       "\n",
       "[^3]: http://doi.org/10.13155/40846\n"
      ],
      "text/plain": [
       "```\n",
       "CMEMS.download(lonr,latr,timerange,param,username,password,basedir[; indexURLs = ...])\n",
       "```\n",
       "\n",
       "Download in situ data within the longitude range `lonr` (an array or tuple with  two elements: the minimum longitude and the maximum longitude), the latitude range `latr` (likewise), time range `timerange` (an array or tuple with two `DateTime`  structures: the starting date and the end date) from the CMEMS (Copernicus Marine environment monitoring service) in situ service [^1].   `param` is one of the parameter codes as defined in [^2] or [^3]. `username` and `password` are the credentials to access data [^1] and `basedir`  is the directory under which the data is saved. `indexURLs` is a list of the URL to the `index_history.txt` file. Per default, it includes the URLs of the Baltic, Arctic, North West Shelf, Iberian, Mediteranean and Black Sea Thematic  Assembly Center.\n",
       "\n",
       "As these URLs might change, the latest version of the URLs to the indexes can be obtained at [^1].\n",
       "\n",
       "# Example\n",
       "\n",
       "```julia-repl\n",
       "julia> username = \"...\"\n",
       "julia> password = \"...\"\n",
       "julia> lonr = [7.6, 12.2]\n",
       "julia> latr = [42, 44.5]\n",
       "julia> timerange = [DateTime(2016,5,1),DateTime(2016,8,1)]\n",
       "julia> param = \"TEMP\"\n",
       "julia> basedir = \"/tmp\"\n",
       "julia> files = CMEMS.download(lonr,latr,timerange,param,username,password,basedir)\n",
       "```\n",
       "\n",
       "[^1]: http://marine.copernicus.eu/\n",
       "\n",
       "[^2]: http://www.coriolis.eu.org/Documentation/General-Informations-on-Data/Codes-Tables\n",
       "\n",
       "[^3]: http://doi.org/10.13155/40846\n"
      ]
     },
     "execution_count": 5,
     "metadata": {},
     "output_type": "execute_result"
    }
   ],
   "source": [
    "?CMEMS.download"
   ]
  },
  {
   "cell_type": "code",
   "execution_count": 7,
   "metadata": {
    "slideshow": {
     "slide_type": "fragment"
    }
   },
   "outputs": [
    {
     "name": "stdout",
     "output_type": "stream",
     "text": [
      "PFL is now available\n",
      "CTD is now available\n",
      "GLD is now available\n"
     ]
    },
    {
     "name": "stderr",
     "output_type": "stream",
     "text": [
      "  % Total    % Received % Xferd  Average Speed   Time    Time     Time  Current\n",
      "                                 Dload  Upload   Total   Spent    Left  Speed\n",
      "100 30.2M  100 30.2M    0     0  6853k      0  0:00:04  0:00:04 --:--:-- 6854k\n",
      "  % Total    % Received % Xferd  Average Speed   Time    Time     Time  Current\n",
      "                                 Dload  Upload   Total   Spent    Left  Speed\n",
      "100  146k  100  146k    0     0   121k      0  0:00:01  0:00:01 --:--:--  121k\n",
      "  % Total    % Received % Xferd  Average Speed   Time    Time     Time  Current\n",
      "                                 Dload  Upload   Total   Spent    Left  Speed\n",
      "100 32.6M  100 32.6M    0     0  5845k      0  0:00:05  0:00:05 --:--:-- 7387k\n"
     ]
    }
   ],
   "source": [
    "WorldOceanDatabase.download(lonr,latr,timerange,varname,email,basedir);"
   ]
  },
  {
   "cell_type": "markdown",
   "metadata": {
    "slideshow": {
     "slide_type": "slide"
    }
   },
   "source": [
    "# Load data\n",
    "* Load the data into memory and perform (potentially) an additional subsetting"
   ]
  },
  {
   "cell_type": "code",
   "execution_count": 13,
   "metadata": {
    "slideshow": {
     "slide_type": "fragment"
    }
   },
   "outputs": [],
   "source": [
    "# load all data under basedir as a double-precision floating point variable\n",
    "val,lon,lat,depth,time,ids = WorldOceanDatabase.load(Float64,basedir,varname);"
   ]
  },
  {
   "cell_type": "markdown",
   "metadata": {},
   "source": [
    "Number of data points"
   ]
  },
  {
   "cell_type": "code",
   "execution_count": 15,
   "metadata": {},
   "outputs": [
    {
     "data": {
      "text/plain": [
       "(4440734,)"
      ]
     },
     "execution_count": 15,
     "metadata": {},
     "output_type": "execute_result"
    }
   ],
   "source": [
    "size(val)"
   ]
  },
  {
   "cell_type": "code",
   "execution_count": 20,
   "metadata": {},
   "outputs": [
    {
     "name": "stdout",
     "output_type": "stream",
     "text": [
      "ids[1] = \"wod_018097040O\"\n",
      "ids[2] = \"wod_018097040O\"\n"
     ]
    },
    {
     "data": {
      "text/plain": [
       "\"wod_018097040O\""
      ]
     },
     "execution_count": 20,
     "metadata": {},
     "output_type": "execute_result"
    }
   ],
   "source": [
    "@show ids[1]\n",
    "@show ids[2]"
   ]
  },
  {
   "cell_type": "code",
   "execution_count": 16,
   "metadata": {},
   "outputs": [
    {
     "name": "stdout",
     "output_type": "stream",
     "text": [
      "              minimum and maximum of obs. dimension 1: (-6.994999885559082, 36.989349365234375)\n",
      "              minimum and maximum of obs. dimension 2: (31.152000427246094, 45.95199966430664)\n",
      "              minimum and maximum of obs. dimension 3: (-0.0, 3919.363525390625)\n",
      "              minimum and maximum of obs. dimension 4: (2016-01-01T00:00:00, 2016-12-31T23:54:21.959)\n",
      "                          minimum and maximum of data: (10.0, 39.98847198486328)\n"
     ]
    }
   ],
   "source": [
    "checkobs((lon,lat,depth,time),val,ids)"
   ]
  },
  {
   "cell_type": "markdown",
   "metadata": {},
   "source": [
    "Additional sub-setting based on time and depth for plotting"
   ]
  },
  {
   "cell_type": "code",
   "execution_count": 25,
   "metadata": {},
   "outputs": [
    {
     "data": {
      "text/plain": [
       "4440734-element Array{Int64,1}:\n",
       "  4\n",
       "  4\n",
       "  4\n",
       "  4\n",
       "  4\n",
       "  4\n",
       "  4\n",
       "  4\n",
       "  4\n",
       "  4\n",
       "  4\n",
       "  4\n",
       "  4\n",
       "  ⋮\n",
       " 12\n",
       " 12\n",
       " 12\n",
       " 12\n",
       " 12\n",
       " 12\n",
       " 12\n",
       " 12\n",
       " 12\n",
       " 12\n",
       " 12\n",
       " 12"
      ]
     },
     "execution_count": 25,
     "metadata": {},
     "output_type": "execute_result"
    }
   ],
   "source": [
    "Dates.month.(time)"
   ]
  },
  {
   "cell_type": "code",
   "execution_count": 21,
   "metadata": {
    "slideshow": {
     "slide_type": "fragment"
    }
   },
   "outputs": [],
   "source": [
    "# depth range levels\n",
    "depthr = [0.,20.]\n",
    "# month range (January to March)\n",
    "\n",
    "timer = [1,3]\n",
    "# additional sub-setting and discard bogus negative temperatures\n",
    "sel = ((val .> 0 )\n",
    "       .& (minimum(depthr) .<= depth .<= maximum(depthr))\n",
    "       .& (minimum(timer) .<= Dates.month.(time) .<= maximum(timer)))\n",
    "\n",
    "valsel = val[sel]\n",
    "lonsel = lon[sel]\n",
    "latsel = lat[sel]\n",
    "depthsel = depth[sel]\n",
    "timesel = time[sel]\n",
    "idssel = ids[sel];"
   ]
  },
  {
   "cell_type": "code",
   "execution_count": 26,
   "metadata": {},
   "outputs": [
    {
     "name": "stdout",
     "output_type": "stream",
     "text": [
      "              minimum and maximum of obs. dimension 1: (-6.86899995803833, 36.989349365234375)\n",
      "              minimum and maximum of obs. dimension 2: (31.738000869750977, 45.922000885009766)\n",
      "              minimum and maximum of obs. dimension 3: (-0.0, 19.999536514282227)\n",
      "              minimum and maximum of obs. dimension 4: (2016-01-01T00:00:00, 2016-03-31T23:54:21.959)\n",
      "                          minimum and maximum of data: (17.80699920654297, 39.37672805786133)\n"
     ]
    }
   ],
   "source": [
    "checkobs((lonsel,latsel,depthsel,timesel),valsel,idssel)"
   ]
  },
  {
   "cell_type": "markdown",
   "metadata": {},
   "source": [
    "Number of selected data points"
   ]
  },
  {
   "cell_type": "code",
   "execution_count": 27,
   "metadata": {},
   "outputs": [
    {
     "data": {
      "text/plain": [
       "36531"
      ]
     },
     "execution_count": 27,
     "metadata": {},
     "output_type": "execute_result"
    }
   ],
   "source": [
    "length(valsel)"
   ]
  },
  {
   "cell_type": "markdown",
   "metadata": {},
   "source": [
    "Download bathymetry for plotting"
   ]
  },
  {
   "cell_type": "code",
   "execution_count": 28,
   "metadata": {},
   "outputs": [
    {
     "name": "stderr",
     "output_type": "stream",
     "text": [
      "\u001b[1m\u001b[36mINFO: \u001b[39m\u001b[22m\u001b[36mBathymetry file already downloaded\n",
      "\u001b[39m"
     ]
    }
   ],
   "source": [
    "bathname = \"gebco_30sec_16.nc\"\n",
    "\n",
    "if !isfile(bathname)\n",
    "    download(\"https://b2drop.eudat.eu/s/o0vinoQutAC7eb0/download\",bathname)\n",
    "else\n",
    "    info(\"Bathymetry file already downloaded\")\n",
    "end\n",
    "\n",
    "bathisglobal = true\n",
    "\n",
    "# Extract the bathymetry for plotting\n",
    "bx,by,b = divand.extract_bath(bathname,bathisglobal,lonr,latr);"
   ]
  },
  {
   "cell_type": "code",
   "execution_count": 29,
   "metadata": {},
   "outputs": [
    {
     "data": {
      "image/png": "[encoded data removed]",
      "text/plain": [
       "PyPlot.Figure(PyObject <matplotlib.figure.Figure object at 0x7f72e6f617d0>)"
      ]
     },
     "metadata": {},
     "output_type": "display_data"
    }
   ],
   "source": [
    "pcolor(bx,by,b')\n",
    "#contourf(bx,by,b', levels = [-1e5,0],colors = [[.5,.5,.5]])\n",
    "# compute and set the correct aspect ratio\n",
    "aspect_ratio = 1/cos(mean(latr) * pi/180)\n",
    "gca()[:set_aspect](aspect_ratio)\n",
    "colorbar(orientation = \"horizontal\");"
   ]
  },
  {
   "cell_type": "code",
   "execution_count": null,
   "metadata": {},
   "outputs": [],
   "source": []
  },
  {
   "cell_type": "markdown",
   "metadata": {},
   "source": [
    "Plotting gotchas\n",
    "* `colorbar()` referes to the last added item. If the last added item is the land-sea mask, the colorbar will be all gray\n",
    "* maps look nicer if you set the corresponding aspect ratio based on the average latitude `mean(latr)`."
   ]
  },
  {
   "cell_type": "code",
   "execution_count": 33,
   "metadata": {},
   "outputs": [
    {
     "data": {
      "image/png": "[encoded data removed]",
      "text/plain": [
       "PyPlot.Figure(PyObject <matplotlib.figure.Figure object at 0x7f72aeba3390>)"
      ]
     },
     "metadata": {},
     "output_type": "display_data"
    }
   ],
   "source": [
    "contourf(bx,by,b', levels = [-1e5,0],colors = [[.5,.5,.5]])\n",
    "scatter(lonsel,latsel,10,valsel); \n",
    "\n",
    "# compute and set the correct aspect ratio\n",
    "aspect_ratio = 1/cos(mean(latr) * pi/180)\n",
    "gca()[:set_aspect](aspect_ratio)\n",
    "colorbar(orientation = \"horizontal\");\n",
    "clim(36,37.7)"
   ]
  },
  {
   "cell_type": "markdown",
   "metadata": {},
   "source": [
    "# Check for duplicates\n",
    "\n",
    "There are two ways to call the function `checkduplicates`:"
   ]
  },
  {
   "cell_type": "code",
   "execution_count": 16,
   "metadata": {},
   "outputs": [
    {
     "data": {
      "text/markdown": [
       "```\n",
       "dupl = checkduplicates(x,value,delta,deltavalue)\n",
       "```\n",
       "\n",
       "Based the coordinates `x` (a tuple of longitude `lons`, latitudes `lats`, depth (`zs`)  and time (`times` vector of `DateTime`)) check of points who are in the same spatio-temporal bounding  box of a length `delta`. `delta` is a vector with 4 elements corresponding to  longitude, latitude, depth and time (in days). `dupl` a vector of vectors containing indices of the duplicates.\n",
       "\n",
       "```\n",
       "dupl = checkduplicates(x1,value1,x2,v2,value2,delta,deltavalue)\n",
       "```\n",
       "\n",
       "Report duplicate of observation in data set (x2,v2) which are also in data set  (x1,v1). `x1` and `x2` is a tuple of vectors with the cooridantes and `v1` and `v2` the  corresponding values. \n"
      ],
      "text/plain": [
       "```\n",
       "dupl = checkduplicates(x,value,delta,deltavalue)\n",
       "```\n",
       "\n",
       "Based the coordinates `x` (a tuple of longitude `lons`, latitudes `lats`, depth (`zs`)  and time (`times` vector of `DateTime`)) check of points who are in the same spatio-temporal bounding  box of a length `delta`. `delta` is a vector with 4 elements corresponding to  longitude, latitude, depth and time (in days). `dupl` a vector of vectors containing indices of the duplicates.\n",
       "\n",
       "```\n",
       "dupl = checkduplicates(x1,value1,x2,v2,value2,delta,deltavalue)\n",
       "```\n",
       "\n",
       "Report duplicate of observation in data set (x2,v2) which are also in data set  (x1,v1). `x1` and `x2` is a tuple of vectors with the cooridantes and `v1` and `v2` the  corresponding values. \n"
      ]
     },
     "execution_count": 16,
     "metadata": {},
     "output_type": "execute_result"
    }
   ],
   "source": [
    "?divand.Quadtrees.checkduplicates"
   ]
  },
  {
   "cell_type": "code",
   "execution_count": 34,
   "metadata": {},
   "outputs": [
    {
     "name": "stderr",
     "output_type": "stream",
     "text": [
      "  % Total    % Received % Xferd  Average Speed   Time    Time     Time  Current\n",
      "                                 Dload  Upload   Total   Spent    Left  Speed\n",
      "  0     0    0     0    0     0      0      0 --:--:-- --:--:-- --:--:--     0\n",
      "100 8163k  100 8163k    0     0  2110k      0  0:00:03  0:00:03 --:--:-- 2660k\n"
     ]
    },
    {
     "data": {
      "text/plain": [
       "\"small_ODV_sample.txt\""
      ]
     },
     "execution_count": 34,
     "metadata": {},
     "output_type": "execute_result"
    }
   ],
   "source": [
    "download(\"https://tinyurl.com/ODV-sample\",\"small_ODV_sample.txt\")"
   ]
  },
  {
   "cell_type": "code",
   "execution_count": 36,
   "metadata": {},
   "outputs": [
    {
     "data": {
      "text/markdown": [
       "```\n",
       " profiles,lons,lats,depths,times,ids = load(T,fnames,datanames;\n",
       "    qv_flags = [divand.ODVspreadsheet.GOOD_VALUE,\n",
       "                divand.ODVspreadsheet.PROBABLY_GOOD_VALUE],\n",
       "    nametype = :P01)\n",
       "```\n",
       "\n",
       "Load all profiles in all file from the array `fnames` corresponding to one of the parameter names `datanames`. If `nametype` is `:P01` (default), the datanames are P01 vocabulary names with the SDN prefix. If nametype is `:localname`, then they are the ODV column header without units. For example if the column header is `Water body salinity [per mille]`, then `datenames` should be `[\"Water body salinity\"]`. The resulting vectors have the data type `T` (expect `times` and `ids` which are vectors of `DateTime` and `String` respectively). Only values matching the quality flag `qv_flags` are retained. `qv_flags` is a vector of Strings (based on http://vocab.nerc.ac.uk/collection/L20/current/, e.g. \"1\" means \"good value\"). One can also use the constants these constants (prefixed with `divand.ODVspreadsheet.`):\n",
       "\n",
       "|                   constant | value |\n",
       "| --------------------------:| -----:|\n",
       "|         NO_QUALITY_CONTROL |   \"0\" |\n",
       "|                 GOOD_VALUE |   \"1\" |\n",
       "|        PROBABLY_GOOD_VALUE |   \"2\" |\n",
       "|         PROBABLY_BAD_VALUE |   \"3\" |\n",
       "|                  BAD_VALUE |   \"4\" |\n",
       "|              CHANGED_VALUE |   \"5\" |\n",
       "|      VALUE_BELOW_DETECTION |   \"6\" |\n",
       "|            VALUE_IN_EXCESS |   \"7\" |\n",
       "|         INTERPOLATED_VALUE |   \"8\" |\n",
       "|              MISSING_VALUE |   \"9\" |\n",
       "| VALUE_PHENOMENON_UNCERTAIN |   \"A\" |\n",
       "\n",
       "If the ODV does not contain a semantic header (e.g. for the aggregated ODV files), then local names must be used.\n",
       "\n",
       "```julia-repl\n",
       "julia> data,lon,lat,depth,time,ids = divand.ODVspreadsheet.load(Float64,[\"data_from_med_profiles_non-restricted_v2.txt\"],\n",
       "      [\"Water body salinity\"]; nametype = :localname );\n",
       "```\n",
       "\n",
       "No checks are done if the units are consistent.\n",
       "\n",
       "```\n",
       " profiles,lons,lats,depths,times,ids = load(T,dir,P01names)\n",
       "```\n",
       "\n",
       "Load all ODV files under the directory `dir` corresponding the one of the parameter names `P01names`. The resulting vectors have the data type `T` (expect `times` and `ids` which are vectors of `DateTime` and `String` respectively).\n",
       "\n",
       "No checks are done if the units are consistent.\n"
      ],
      "text/plain": [
       "```\n",
       " profiles,lons,lats,depths,times,ids = load(T,fnames,datanames;\n",
       "    qv_flags = [divand.ODVspreadsheet.GOOD_VALUE,\n",
       "                divand.ODVspreadsheet.PROBABLY_GOOD_VALUE],\n",
       "    nametype = :P01)\n",
       "```\n",
       "\n",
       "Load all profiles in all file from the array `fnames` corresponding to one of the parameter names `datanames`. If `nametype` is `:P01` (default), the datanames are P01 vocabulary names with the SDN prefix. If nametype is `:localname`, then they are the ODV column header without units. For example if the column header is `Water body salinity [per mille]`, then `datenames` should be `[\"Water body salinity\"]`. The resulting vectors have the data type `T` (expect `times` and `ids` which are vectors of `DateTime` and `String` respectively). Only values matching the quality flag `qv_flags` are retained. `qv_flags` is a vector of Strings (based on http://vocab.nerc.ac.uk/collection/L20/current/, e.g. \"1\" means \"good value\"). One can also use the constants these constants (prefixed with `divand.ODVspreadsheet.`):\n",
       "\n",
       "|                   constant | value |\n",
       "| --------------------------:| -----:|\n",
       "|         NO_QUALITY_CONTROL |   \"0\" |\n",
       "|                 GOOD_VALUE |   \"1\" |\n",
       "|        PROBABLY_GOOD_VALUE |   \"2\" |\n",
       "|         PROBABLY_BAD_VALUE |   \"3\" |\n",
       "|                  BAD_VALUE |   \"4\" |\n",
       "|              CHANGED_VALUE |   \"5\" |\n",
       "|      VALUE_BELOW_DETECTION |   \"6\" |\n",
       "|            VALUE_IN_EXCESS |   \"7\" |\n",
       "|         INTERPOLATED_VALUE |   \"8\" |\n",
       "|              MISSING_VALUE |   \"9\" |\n",
       "| VALUE_PHENOMENON_UNCERTAIN |   \"A\" |\n",
       "\n",
       "If the ODV does not contain a semantic header (e.g. for the aggregated ODV files), then local names must be used.\n",
       "\n",
       "```julia-repl\n",
       "julia> data,lon,lat,depth,time,ids = divand.ODVspreadsheet.load(Float64,[\"data_from_med_profiles_non-restricted_v2.txt\"],\n",
       "      [\"Water body salinity\"]; nametype = :localname );\n",
       "```\n",
       "\n",
       "No checks are done if the units are consistent.\n",
       "\n",
       "```\n",
       " profiles,lons,lats,depths,times,ids = load(T,dir,P01names)\n",
       "```\n",
       "\n",
       "Load all ODV files under the directory `dir` corresponding the one of the parameter names `P01names`. The resulting vectors have the data type `T` (expect `times` and `ids` which are vectors of `DateTime` and `String` respectively).\n",
       "\n",
       "No checks are done if the units are consistent.\n"
      ]
     },
     "execution_count": 36,
     "metadata": {},
     "output_type": "execute_result"
    }
   ],
   "source": [
    "?ODVspreadsheet.load"
   ]
  },
  {
   "cell_type": "code",
   "execution_count": 35,
   "metadata": {},
   "outputs": [
    {
     "name": "stderr",
     "output_type": "stream",
     "text": [
      "\u001b[1m\u001b[36mINFO: \u001b[39m\u001b[22m\u001b[36mNo. of profiles in the file: 71\n",
      "\u001b[39m"
     ]
    }
   ],
   "source": [
    "val_ODV,lon_ODV,lat_ODV,depth_ODV,time_ODV,ids_ODV = ODVspreadsheet.load(Float64,[\"small_ODV_sample.txt\"],\n",
    "                           [\"Water body salinity\"]; nametype = :localname );"
   ]
  },
  {
   "cell_type": "markdown",
   "metadata": {},
   "source": [
    "Look for duplicates\n",
    "* within 0.01 degree (about 1km)\n",
    "* within 0.01 m depth\n",
    "* within 1 minute\n",
    "Difference in value is 0.01 psu"
   ]
  },
  {
   "cell_type": "code",
   "execution_count": 37,
   "metadata": {},
   "outputs": [],
   "source": [
    "dupl = divand.Quadtrees.checkduplicates((lon_ODV,lat_ODV,depth_ODV,time_ODV),val_ODV,(lon,lat,depth,time),val,(0.01,0.01,0.01,1/(24*60)),0.01);"
   ]
  },
  {
   "cell_type": "code",
   "execution_count": 63,
   "metadata": {},
   "outputs": [
    {
     "data": {
      "text/plain": [
       "(4440734,)"
      ]
     },
     "execution_count": 63,
     "metadata": {},
     "output_type": "execute_result"
    }
   ],
   "source": [
    "size(val)"
   ]
  },
  {
   "cell_type": "code",
   "execution_count": 64,
   "metadata": {},
   "outputs": [
    {
     "data": {
      "text/plain": [
       "(4440734,)"
      ]
     },
     "execution_count": 64,
     "metadata": {},
     "output_type": "execute_result"
    }
   ],
   "source": [
    "size(dupl)"
   ]
  },
  {
   "cell_type": "markdown",
   "metadata": {},
   "source": [
    "* `dupl` is an array of the same length as `val`\n",
    "* If i-th element of `dupl`, is an empty list, then the i-th element in `val` is probably not a duplicate\n",
    "* Otherwise, then the i-th element in `val` is probably a duplicate of the element `val_ODV` with the indices `dupl[i]`."
   ]
  },
  {
   "cell_type": "code",
   "execution_count": 38,
   "metadata": {},
   "outputs": [
    {
     "data": {
      "text/plain": [
       "0-element Array{Int64,1}"
      ]
     },
     "execution_count": 38,
     "metadata": {},
     "output_type": "execute_result"
    }
   ],
   "source": [
    "dupl[1]"
   ]
  },
  {
   "cell_type": "code",
   "execution_count": 44,
   "metadata": {},
   "outputs": [
    {
     "data": {
      "text/plain": [
       "4191-element Array{Int64,1}:\n",
       " 3158229\n",
       " 3158230\n",
       " 3158231\n",
       " 3158232\n",
       " 3158233\n",
       " 3158234\n",
       " 3158235\n",
       " 3158236\n",
       " 3158237\n",
       " 3158238\n",
       " 3158239\n",
       " 3158240\n",
       " 3158241\n",
       "       ⋮\n",
       " 4204640\n",
       " 4204641\n",
       " 4204642\n",
       " 4204643\n",
       " 4204644\n",
       " 4204645\n",
       " 4204646\n",
       " 4204647\n",
       " 4204648\n",
       " 4204649\n",
       " 4204650\n",
       " 4204651"
      ]
     },
     "execution_count": 44,
     "metadata": {},
     "output_type": "execute_result"
    }
   ],
   "source": [
    "index = find(.!isempty.(dupl))"
   ]
  },
  {
   "cell_type": "markdown",
   "metadata": {},
   "source": [
    "Number of duplicate candidates"
   ]
  },
  {
   "cell_type": "code",
   "execution_count": 40,
   "metadata": {},
   "outputs": [
    {
     "data": {
      "text/plain": [
       "4191"
      ]
     },
     "execution_count": 40,
     "metadata": {},
     "output_type": "execute_result"
    }
   ],
   "source": [
    "length(index)"
   ]
  },
  {
   "cell_type": "markdown",
   "metadata": {},
   "source": [
    "Check the first reported duplicate"
   ]
  },
  {
   "cell_type": "code",
   "execution_count": 41,
   "metadata": {},
   "outputs": [
    {
     "data": {
      "text/plain": [
       "3158229"
      ]
     },
     "execution_count": 41,
     "metadata": {},
     "output_type": "execute_result"
    }
   ],
   "source": [
    "index_WOD = index[1]"
   ]
  },
  {
   "cell_type": "markdown",
   "metadata": {},
   "source": [
    "Its coordinate and values from the ODV file"
   ]
  },
  {
   "cell_type": "code",
   "execution_count": 42,
   "metadata": {},
   "outputs": [
    {
     "data": {
      "text/plain": [
       "(17.885482788085938, 35.23445129394531, 2.4818837642669678, 2016-06-14T10:38:27.239, 38.85300064086914)"
      ]
     },
     "execution_count": 42,
     "metadata": {},
     "output_type": "execute_result"
    }
   ],
   "source": [
    "lon[index_WOD],lat[index_WOD],depth[index_WOD],time[index_WOD],val[index_WOD]"
   ]
  },
  {
   "cell_type": "markdown",
   "metadata": {},
   "source": [
    "They are quite close to the data point with the index:"
   ]
  },
  {
   "cell_type": "code",
   "execution_count": 43,
   "metadata": {},
   "outputs": [
    {
     "data": {
      "text/plain": [
       "1-element Array{Int64,1}:\n",
       " 20508"
      ]
     },
     "execution_count": 43,
     "metadata": {},
     "output_type": "execute_result"
    }
   ],
   "source": [
    "dupl[index_WOD]"
   ]
  },
  {
   "cell_type": "code",
   "execution_count": 45,
   "metadata": {},
   "outputs": [
    {
     "data": {
      "text/plain": [
       "20508"
      ]
     },
     "execution_count": 45,
     "metadata": {},
     "output_type": "execute_result"
    }
   ],
   "source": [
    "index_ODV = dupl[index_WOD][1]"
   ]
  },
  {
   "cell_type": "code",
   "execution_count": 47,
   "metadata": {},
   "outputs": [
    {
     "data": {
      "text/plain": [
       "(17.88548, 35.23445, 2.48189, 2016-06-14T10:39:00, 38.853)"
      ]
     },
     "execution_count": 47,
     "metadata": {},
     "output_type": "execute_result"
    }
   ],
   "source": [
    "lon_ODV[index_ODV],lat_ODV[index_ODV],depth_ODV[index_ODV],time_ODV[index_ODV],val_ODV[index_ODV]"
   ]
  },
  {
   "cell_type": "markdown",
   "metadata": {},
   "source": [
    "Indeed, it is quite likely that they are duplicates\n"
   ]
  },
  {
   "cell_type": "markdown",
   "metadata": {},
   "source": [
    "Combine the dataset and retain only new points from WOD"
   ]
  },
  {
   "cell_type": "code",
   "execution_count": 53,
   "metadata": {},
   "outputs": [],
   "source": [
    "#find(isempty.(dupl))"
   ]
  },
  {
   "cell_type": "code",
   "execution_count": 48,
   "metadata": {},
   "outputs": [
    {
     "name": "stdout",
     "output_type": "stream",
     "text": [
      "length(newpoints) = 4436543\n"
     ]
    }
   ],
   "source": [
    "newpoints = find(isempty.(dupl));\n",
    "@show length(newpoints)\n",
    "lon_combined   = [lon_ODV;   lon[newpoints]];\n",
    "lat_combined   = [lat_ODV;   lat[newpoints]];\n",
    "depth_combined = [depth_ODV; depth[newpoints]];\n",
    "time_combined  = [time_ODV;  time[newpoints]];\n",
    "val_combined   = [val_ODV;   val[newpoints]];\n",
    "ids_combined   = [ids_ODV;   ids[newpoints]];\n"
   ]
  }
 ],
 "metadata": {
  "kernelspec": {
   "display_name": "Julia 0.6.2",
   "language": "julia",
   "name": "julia-0.6"
  },
  "language_info": {
   "file_extension": ".jl",
   "mimetype": "application/julia",
   "name": "julia",
   "version": "0.6.2"
  }
 },
 "nbformat": 4,
 "nbformat_minor": 2
}
